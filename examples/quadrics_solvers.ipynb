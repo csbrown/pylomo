{
 "cells": [
  {
   "cell_type": "code",
   "execution_count": 1,
   "metadata": {},
   "outputs": [
    {
     "name": "stderr",
     "output_type": "stream",
     "text": [
      "/usr/local/lib/python3.5/dist-packages/tensorboard/compat/tensorflow_stub/dtypes.py:541: FutureWarning: Passing (type, 1) or '1type' as a synonym of type is deprecated; in a future version of numpy, it will be understood as (type, (1,)) / '(1,)type'.\n",
      "  _np_qint8 = np.dtype([(\"qint8\", np.int8, 1)])\n",
      "/usr/local/lib/python3.5/dist-packages/tensorboard/compat/tensorflow_stub/dtypes.py:542: FutureWarning: Passing (type, 1) or '1type' as a synonym of type is deprecated; in a future version of numpy, it will be understood as (type, (1,)) / '(1,)type'.\n",
      "  _np_quint8 = np.dtype([(\"quint8\", np.uint8, 1)])\n",
      "/usr/local/lib/python3.5/dist-packages/tensorboard/compat/tensorflow_stub/dtypes.py:543: FutureWarning: Passing (type, 1) or '1type' as a synonym of type is deprecated; in a future version of numpy, it will be understood as (type, (1,)) / '(1,)type'.\n",
      "  _np_qint16 = np.dtype([(\"qint16\", np.int16, 1)])\n",
      "/usr/local/lib/python3.5/dist-packages/tensorboard/compat/tensorflow_stub/dtypes.py:544: FutureWarning: Passing (type, 1) or '1type' as a synonym of type is deprecated; in a future version of numpy, it will be understood as (type, (1,)) / '(1,)type'.\n",
      "  _np_quint16 = np.dtype([(\"quint16\", np.uint16, 1)])\n",
      "/usr/local/lib/python3.5/dist-packages/tensorboard/compat/tensorflow_stub/dtypes.py:545: FutureWarning: Passing (type, 1) or '1type' as a synonym of type is deprecated; in a future version of numpy, it will be understood as (type, (1,)) / '(1,)type'.\n",
      "  _np_qint32 = np.dtype([(\"qint32\", np.int32, 1)])\n",
      "/usr/local/lib/python3.5/dist-packages/tensorboard/compat/tensorflow_stub/dtypes.py:550: FutureWarning: Passing (type, 1) or '1type' as a synonym of type is deprecated; in a future version of numpy, it will be understood as (type, (1,)) / '(1,)type'.\n",
      "  np_resource = np.dtype([(\"resource\", np.ubyte, 1)])\n"
     ]
    }
   ],
   "source": [
    "import local_models.local_models\n",
    "import local_models.algorithms\n",
    "import local_models.utils\n",
    "import local_models.linear_projections\n",
    "import local_models.loggin\n",
    "import local_models.TLS_models\n",
    "import numpy as np\n",
    "import matplotlib.pyplot as plt\n",
    "import sklearn.linear_model\n",
    "import sklearn.cluster\n",
    "from importlib import reload\n",
    "from ml_battery.utils import cmap\n",
    "import matplotlib as mpl\n",
    "import sklearn.datasets\n",
    "import sklearn.decomposition\n",
    "import logging\n",
    "import ml_battery.log\n",
    "import time\n",
    "import os\n",
    "import mayavi\n",
    "import mayavi.mlab\n",
    "import string\n",
    "import subprocess\n",
    "import functools\n",
    "import cv2\n",
    "import itertools\n",
    "\n",
    "#on headless systems, tmux: \"Xvfb :1 -screen 0 1280x1024x24 -auth localhost\", then \"export DISPLAY=:1\" in the jupyter tmux\n",
    "mayavi.mlab.options.offscreen = True\n",
    "\n",
    "\n",
    "\n",
    "logger = logging.getLogger(__name__)\n",
    "\n",
    "#reload(local_models.local_models)\n",
    "#reload(lm)\n",
    "#reload(local_models.loggin)\n",
    "#reload(local_models.TLS_models)\n",
    "np.warnings.filterwarnings('ignore')\n"
   ]
  },
  {
   "cell_type": "code",
   "execution_count": 424,
   "metadata": {},
   "outputs": [
    {
     "data": {
      "text/plain": [
       "<module 'quadrics_utils' from '/home/brown/python_packages/local_models/examples/quadrics_utils.py'>"
      ]
     },
     "execution_count": 424,
     "metadata": {},
     "output_type": "execute_result"
    }
   ],
   "source": [
    "import importlib; importlib.reload(quadrics_utils)"
   ]
  },
  {
   "cell_type": "code",
   "execution_count": 1860,
   "metadata": {},
   "outputs": [],
   "source": [
    "def collect_best(expr, measure=sympy.count_ops):\n",
    "    best = expr\n",
    "    best_score = measure(expr)\n",
    "    perms = itertools.permutations(expr.free_symbols)\n",
    "    permlen = np.math.factorial(len(expr.free_symbols))\n",
    "    print(permlen)\n",
    "    for i, perm in enumerate(perms):\n",
    "        if (permlen > 1000) and not (i%int(permlen/100)):\n",
    "            print(i)\n",
    "        collected = sympy.collect(expr, perm)\n",
    "        if measure(collected) < best_score:\n",
    "            best_score = measure(collected)\n",
    "            best = collected\n",
    "        else:\n",
    "            factored = sympy.factor(expr)\n",
    "            if measure(factored) < best_score:\n",
    "                best_score = measure(factored)\n",
    "                best = factored\n",
    "    return best\n",
    "    \n",
    "def product(args):\n",
    "    arg = next(args)\n",
    "    try:\n",
    "        return arg*product(args)\n",
    "    except:\n",
    "        return arg\n",
    "    \n",
    "def rcollect_best(expr, measure=sympy.count_ops):\n",
    "    best = collect_best(expr, measure)\n",
    "    best_score = measure(best)\n",
    "    if expr == best:\n",
    "        return best\n",
    "    if isinstance(best, sympy.Mul):\n",
    "        return product(map(rcollect_best, best.args))\n",
    "    if isinstance(best, sympy.Add):\n",
    "        return sum(map(rcollect_best, best.args))"
   ]
  },
  {
   "cell_type": "code",
   "execution_count": 3579,
   "metadata": {},
   "outputs": [],
   "source": [
    "def derive_quadratic_orthogonal_projection_1D_polynomial(n):\n",
    "    import sympy\n",
    "    \n",
    "    Q_sym = sympy.symarray(\"q\", (n+1, n+1))\n",
    "    Q = sympy.Matrix(np.zeros((n+1,n+1), dtype=int))\n",
    "    for i, j in itertools.product(range(n+1), range(n+1)):\n",
    "        if i == n or j == n or i == j:\n",
    "            Q[i,j] = Q_sym[max(i,j),min(i,j)]\n",
    "    print(Q)\n",
    "\n",
    "    x_sym = sympy.symarray(\"x\", n+1)\n",
    "    X = sympy.Matrix(np.ones((n+1, 1), dtype=int))\n",
    "    for i in range(n):\n",
    "        X[i] = x_sym[i]\n",
    "        \n",
    "    P = sympy.Matrix(np.zeros((n-1, n+1), dtype=int))\n",
    "    for i in range(n-1):\n",
    "        P[i,0] = X[i+1]\n",
    "        P[i,i+1] = -X[0]\n",
    "    \n",
    "    QXP = P*Q*X\n",
    "    \n",
    "    other_dims_as_x0 = [sympy.solve(QXP[i], X[i+1])[0] for i in range(n-1)] \n",
    "    \n",
    "    XQX = sympy.expand((X.T*Q*X)[0])\n",
    "    XQX_as_x0 = XQX.subs({X[i+1]:other_dims_as_x0[i] for i in range(n-1)})\n",
    "    for sub in other_dims_as_x0:\n",
    "        XQX_as_x0 *= sympy.fraction(sub)[1]**2\n",
    "    XQX_as_x0 = sympy.cancel(XQX_as_x0)\n",
    "    XQX_as_x0 = sympy.simplify(XQX_as_x0)\n",
    "    XQX_as_x0 = sympy.poly(XQX_as_x0, X[0])\n",
    "    \n",
    "    return (X, Q, XQX_as_x0, other_dims_as_x0)\n",
    "    "
   ]
  },
  {
   "cell_type": "code",
   "execution_count": null,
   "metadata": {},
   "outputs": [],
   "source": [
    "def collectify_polynomial_coefficients(poly):\n",
    "    return [rcollect_best(formula) for formula in poly.all_coeffs()]"
   ]
  },
  {
   "cell_type": "code",
   "execution_count": 3011,
   "metadata": {},
   "outputs": [
    {
     "data": {
      "text/plain": [
       "[0, 1, 4, 9]"
      ]
     },
     "execution_count": 3011,
     "metadata": {},
     "output_type": "execute_result"
    }
   ],
   "source": [
    "sorted(map(lambda x: x**2, range(4)))"
   ]
  },
  {
   "cell_type": "code",
   "execution_count": null,
   "metadata": {},
   "outputs": [],
   "source": []
  },
  {
   "cell_type": "code",
   "execution_count": null,
   "metadata": {},
   "outputs": [],
   "source": []
  },
  {
   "cell_type": "code",
   "execution_count": null,
   "metadata": {},
   "outputs": [],
   "source": [
    "def funcify(signature, returnable):\n",
    "    return \"def {}: return {}\\n\".format(signature, returnable)\n",
    "\n",
    "def librarify_quadric_equations():\n",
    "    import sympy\n",
    "    from sympy.abc import a,b,c,d,e,f,g,x,y,z\n",
    "\n",
    "    Q = a*x**2 + b*y**2 + c*z**2 + 2*e*x + 2*f*y + 2*g*z + d\n",
    "    y_as_x_num = f*x\n",
    "    y_as_x_den = e-(b-a)*x\n",
    "    y_as_x = y_as_x_num/y_as_x_den\n",
    "    z_as_x_num = g*x\n",
    "    z_as_x_den = e-(c-a)*x\n",
    "    z_as_x = z_as_x_num/z_as_x_den\n",
    "    Q_as_x = Q.subs({\n",
    "        y: y_as_x,\n",
    "        z: z_as_x,\n",
    "    })\n",
    "\n",
    "    bigQ = sympy.expand(sympy.simplify(Q_as_x*y_as_x_den**2*z_as_x_den**2))\n",
    "\n",
    "    coeffs = list(map(sympy.factor, sympy.poly(bigQ,x).all_coeffs()))\n",
    "\n",
    "    collected = []\n",
    "    for coeff in coeffs:\n",
    "        collected.append(rcollect_best(coeff))\n",
    "\n",
    "    k_mat = sympy.Matrix(collected)\n",
    "    k_jac = k_mat.jacobian([a,b,c,d,e,f,g])\n",
    "\n",
    "    with open(\"quadrics_utils.py\", \"w\") as f:\n",
    "        Q_func = funcify(\"Q(a,b,c,d,e,f,g,x,y,z)\",str(Q))\n",
    "        y_as_x_func = funcify(\"y_as_x(a,b,c,d,e,f,g,x)\", str(y_as_x))\n",
    "        z_as_x_func = funcify(\"z_as_x(a,b,c,d,e,f,g,x)\", str(z_as_x))\n",
    "        Q_as_x_func = funcify(\"Q_as_x(a,b,c,d,e,f,g,x)\", str(Q_as_x))\n",
    "        k_mat_func = funcify(\"k_mat(a,b,c,d,e,f,g)\", str(k_mat.transpose().tolist()[0]))\n",
    "        k_jac_func = funcify(\"k_jac(a,b,c,d,e,f,g)\", str(k_jac.tolist()))\n",
    "        individual_k_funcs = [funcify(\"k{:01d}(a,b,c,d,e,f,g)\".format(i), str(eq)) for i,eq in enumerate(collected[::-1])]\n",
    "        list(map(f.write, [Q_func, y_as_x_func, z_as_x_func, Q_as_x_func, k_mat_func, k_jac_func] + individual_k_funcs))"
   ]
  }
 ],
 "metadata": {
  "kernelspec": {
   "display_name": "Python 3",
   "language": "python",
   "name": "python3"
  },
  "language_info": {
   "codemirror_mode": {
    "name": "ipython",
    "version": 3
   },
   "file_extension": ".py",
   "mimetype": "text/x-python",
   "name": "python",
   "nbconvert_exporter": "python",
   "pygments_lexer": "ipython3",
   "version": "3.5.2"
  }
 },
 "nbformat": 4,
 "nbformat_minor": 2
}
