{
 "cells": [
  {
   "cell_type": "code",
   "execution_count": 1,
   "metadata": {},
   "outputs": [],
   "source": [
    "import local_models.local_models\n",
    "import local_models.algorithms\n",
    "import local_models.utils\n",
    "import local_models.linear_projections\n",
    "import local_models.loggin\n",
    "import local_models.TLS_models\n",
    "import numpy as np\n",
    "import matplotlib.pyplot as plt\n",
    "import sklearn.linear_model\n",
    "import sklearn.cluster\n",
    "from importlib import reload\n",
    "from ml_battery.utils import cmap\n",
    "import matplotlib as mpl\n",
    "import sklearn.datasets\n",
    "import sklearn.decomposition\n",
    "import logging\n",
    "import ml_battery.log\n",
    "import time\n",
    "import os\n",
    "import mayavi\n",
    "import mayavi.mlab\n",
    "import string\n",
    "import subprocess\n",
    "import functools\n",
    "#on headless systems, tmux: \"Xvfb :1 -screen 0 1280x1024x24 -auth localhost\", then \"export DISPLAY=:1\" in the jupyter tmux\n",
    "mayavi.mlab.options.offscreen = True\n",
    "\n",
    "\n",
    "\n",
    "logger = logging.getLogger(__name__)\n",
    "\n",
    "#reload(local_models.local_models)\n",
    "#reload(lm)\n",
    "#reload(local_models.loggin)\n",
    "#reload(local_models.TLS_models)\n",
    "np.warnings.filterwarnings('ignore')\n"
   ]
  },
  {
   "cell_type": "code",
   "execution_count": 2,
   "metadata": {},
   "outputs": [],
   "source": [
    "def import_shit():\n",
    "    import local_models.local_models\n",
    "    import local_models.algorithms\n",
    "    import local_models.utils\n",
    "    import local_models.linear_projections\n",
    "    import local_models.loggin\n",
    "    import local_models.TLS_models\n",
    "    import numpy as np\n",
    "    import logging\n",
    "    import string\n",
    "    import ml_battery.log\n",
    "\n",
    "\n",
    "    logger = logging.getLogger(__name__)\n",
    "\n",
    "    #reload(local_models.local_models)\n",
    "    #reload(lm)\n",
    "    #reload(local_models.loggin)\n",
    "    #reload(local_models.TLS_models)\n",
    "    np.warnings.filterwarnings('ignore')\n",
    "    return logger"
   ]
  },
  {
   "cell_type": "code",
   "execution_count": 3,
   "metadata": {},
   "outputs": [],
   "source": [
    "FRESH=True"
   ]
  },
  {
   "cell_type": "code",
   "execution_count": 4,
   "metadata": {},
   "outputs": [],
   "source": [
    "kernel_names = {\n",
    "    local_models.local_models.GaussianKernel: 'gaussian',\n",
    "    local_models.local_models.TriCubeKernel: 'tricube'\n",
    "}"
   ]
  },
  {
   "cell_type": "code",
   "execution_count": 5,
   "metadata": {},
   "outputs": [],
   "source": [
    "mpl.rcParams['figure.figsize'] = [8.0, 8.0]"
   ]
  },
  {
   "cell_type": "code",
   "execution_count": 6,
   "metadata": {},
   "outputs": [],
   "source": [
    "data = np.loadtxt(\"../data/bunny/bunny/data/bun.csv\")"
   ]
  },
  {
   "cell_type": "code",
   "execution_count": 7,
   "metadata": {},
   "outputs": [
    {
     "data": {
      "text/plain": [
       "(362272, 3)"
      ]
     },
     "execution_count": 7,
     "metadata": {},
     "output_type": "execute_result"
    }
   ],
   "source": [
    "data.shape"
   ]
  },
  {
   "cell_type": "code",
   "execution_count": 8,
   "metadata": {},
   "outputs": [
    {
     "data": {
      "text/plain": [
       "330.8858963590516"
      ]
     },
     "execution_count": 8,
     "metadata": {},
     "output_type": "execute_result"
    }
   ],
   "source": [
    "(data.shape[0]*100)**(1/3)"
   ]
  },
  {
   "cell_type": "code",
   "execution_count": 9,
   "metadata": {},
   "outputs": [
    {
     "data": {
      "text/plain": [
       "array([-0.02360042,  0.09758145,  0.01090169])"
      ]
     },
     "execution_count": 9,
     "metadata": {},
     "output_type": "execute_result"
    }
   ],
   "source": [
    "np.mean(data, axis=0)"
   ]
  },
  {
   "cell_type": "code",
   "execution_count": 10,
   "metadata": {},
   "outputs": [],
   "source": [
    "KERNEL=local_models.local_models.TriCubeKernel\n",
    "RUN = 4\n",
    "\n",
    "project_dir = \"../data/bunny_scms_{}_{:03d}\".format(kernel_names[KERNEL], RUN)\n",
    "\n",
    "os.makedirs(project_dir, exist_ok=1)"
   ]
  },
  {
   "cell_type": "raw",
   "metadata": {},
   "source": [
    "mayavi.mlab.figure(figure=None, bgcolor=(1,1,1), fgcolor=(0,0,0), engine=None, size=(800, 800))\n",
    "#mayavi.mlab.surf(grid[0], grid[1], kde_wireframe/z_scale, colormap='Greys', opacity=1)\n",
    "#nodes = mayavi.mlab.points3d(converged[:,0], converged[:,1], converged[:,2], scale_mode='scalar', color=(1,0,0))\n",
    "#nodes.mlab_source.dataset.point_data.scalars = np.ones(converged.shape[0])*0.1\n",
    "bunodes = mayavi.mlab.points3d(data[:,0], data[:,1], data[:,2], scale_mode='scalar', color=(0,1,0))\n",
    "bunodes.mlab_source.dataset.point_data.scalars = np.ones(data.shape[0])*0.05\n",
    "\n",
    "\n",
    "#mayavi.mlab.axes()\n",
    "\n",
    "#mayavi.mlab.view(views[0][1],views[0][0])\n",
    "data_avg = np.average(data, axis=0)\n",
    "for az in [0,90,180,270]:\n",
    "    for el in [0,90,180,270]:\n",
    "        mayavi.mlab.view(azimuth=az, elevation=el, distance=15*np.average(data_avg), focalpoint=(data_avg[0], data_avg[1], data_avg[2]))\n",
    "        #mayavi.mlab.move(forward=None, right=0.1*data_avg[1], up=-0.02*data_avg[0])\n",
    "        title = \"data_{:03d}_{:03d}\".format(az,el)\n",
    "        mayavi.mlab.savefig(os.path.join(project_dir, \"{}.png\".format(title)))\n",
    "        #mayavi.mlab.clf()"
   ]
  },
  {
   "cell_type": "code",
   "execution_count": null,
   "metadata": {},
   "outputs": [],
   "source": []
  },
  {
   "cell_type": "code",
   "execution_count": null,
   "metadata": {},
   "outputs": [],
   "source": []
  },
  {
   "cell_type": "code",
   "execution_count": 11,
   "metadata": {},
   "outputs": [],
   "source": [
    "#visual = pcl.pcl_visualization.CloudViewing()\n",
    "#visual.ShowMonochromeCloud(room)"
   ]
  },
  {
   "cell_type": "code",
   "execution_count": 12,
   "metadata": {},
   "outputs": [
    {
     "data": {
      "text/plain": [
       "<local_models.local_models.LocalModels at 0x7fcecf8e1a90>"
      ]
     },
     "execution_count": 12,
     "metadata": {},
     "output_type": "execute_result"
    }
   ],
   "source": [
    "linear_models = local_models.local_models.LocalModels(local_models.TLS_models.LinearODR_mD(2))\n",
    "linear_models.fit(data)"
   ]
  },
  {
   "cell_type": "code",
   "execution_count": null,
   "metadata": {},
   "outputs": [],
   "source": [
    "avg_pt_dist = np.average(linear_models.index.query(data, k=2)[0][:,1])"
   ]
  },
  {
   "cell_type": "code",
   "execution_count": null,
   "metadata": {},
   "outputs": [],
   "source": [
    "avg_pt_dist"
   ]
  },
  {
   "cell_type": "code",
   "execution_count": null,
   "metadata": {},
   "outputs": [],
   "source": [
    "#kernel_kwargses = [{\"bandwidth\": x} for x in np.linspace(avg_pt_dist, 100*avg_pt_dist, 20)]\n",
    "kernel_kwargses = [{\"bandwidth\": \"knn\", \"k\": x} for x in range(4,40,2)]"
   ]
  },
  {
   "cell_type": "code",
   "execution_count": null,
   "metadata": {
    "scrolled": true
   },
   "outputs": [],
   "source": [
    "range_pct = 0.2\n",
    "grid_steps = 20\n",
    "data_mins, data_maxes, data_ranges = local_models.linear_projections.min_max_range(data)\n",
    "graph_bounds = local_models.linear_projections.sane_graph_bounds(data_mins, data_maxes, data_ranges, range_pct)\n",
    "\n",
    "grid = local_models.utils.get_global_grid(data, outside_range_pct=range_pct, n_steps=grid_steps)\n",
    "gridder = local_models.utils.Grid2Vec()\n",
    "grid = gridder.fit_transform(grid)"
   ]
  },
  {
   "cell_type": "code",
   "execution_count": null,
   "metadata": {},
   "outputs": [],
   "source": [
    "pth = os.path.join(project_dir, \"filler\")\n",
    "os.makedirs(pth, exist_ok=1)"
   ]
  },
  {
   "cell_type": "code",
   "execution_count": null,
   "metadata": {},
   "outputs": [],
   "source": [
    "def converge_n_save(kernel, i, data, pth):\n",
    "    logger = import_shit()\n",
    "    logger.info(\"stuff!\")\n",
    "    for converged in local_models.algorithms.local_tls_shift_till_convergence(linear_models, data, tol=1e-8,\n",
    "                                         kernel=kernel,\n",
    "                                         report=False,\n",
    "                                         number_of_iterations_to_give_up_after_if_nothing_is_happening=20):\n",
    "        pass\n",
    "    logger.info(\"batch {:05d} complete\".format(i))\n",
    "    save_dat(i, pth, converged)\n",
    "\n",
    "def save_dat(i, pth, dat):\n",
    "    np.savetxt(os.path.join(pth, \"converged{:08d}.dat\".format(i)), dat)\n",
    "\n",
    "def converge_n_return(kernel, i, data):\n",
    "    logger = import_shit()\n",
    "    logger.info(\"stuff!\")\n",
    "    for converged in local_models.algorithms.local_tls_shift_till_convergence(linear_models, data, tol=1e-8,\n",
    "                                         kernel=kernel,\n",
    "                                         report=False):\n",
    "        pass\n",
    "    logger.info(\"batch {:05d} complete\".format(i))\n",
    "    return converged\n",
    "\n",
    "def batcher(data, size):\n",
    "    for i in range(0, data.shape[0], size):\n",
    "        batch = data[i:i+size]\n",
    "        yield batch"
   ]
  },
  {
   "cell_type": "code",
   "execution_count": null,
   "metadata": {},
   "outputs": [],
   "source": [
    "from joblib import Parallel, delayed"
   ]
  },
  {
   "cell_type": "code",
   "execution_count": null,
   "metadata": {
    "scrolled": true
   },
   "outputs": [],
   "source": [
    "BATCH_SIZE = 1000\n",
    "\n",
    "kernels_n_paths = []\n",
    "for kernel_kwargs in kernel_kwargses:\n",
    "    kernel = KERNEL(**kernel_kwargs)\n",
    "    kernel_path = os.path.join(pth, str(kernel))\n",
    "    kernels_n_paths.append((kernel, kernel_path))\n",
    "    os.makedirs(kernel_path, exist_ok=1)\n",
    "if FRESH:\n",
    "    Parallel(n_jobs=32)(delayed(converge_n_save)(kernel, i, batch, kernel_path) \n",
    "        for kernel, kernel_path in kernels_n_paths\n",
    "        for i, batch in enumerate(batcher(grid, BATCH_SIZE))\n",
    "    )\n",
    "elif blah:\n",
    "    class ConvergeThread(threading.Thread):\n",
    "        def __init__(self):\n",
    "            threading.Thread.__init__(self)\n",
    "        def run(self):\n",
    "            Parallel(n_jobs=32)(delayed(converge_n_save)(kernel, i, batch, kernel_path) \n",
    "                for kernel, kernel_path in kernels_n_paths\n",
    "                for i, batch in enumerate(batcher(grid, BATCH_SIZE))\n",
    "            )\n",
    "    thread = ConvergeThread()\n",
    "    thread.start()\n",
    "        \n",
    "elif FRESH_DASK:\n",
    "    import dask.distributed\n",
    "    client = dask.distributed.Client(\"localhost:8786\")\n",
    "    futures = client.map(\n",
    "        lambda *args: converge_n_save(*args), (\n",
    "            (kernel, i, data, pth) \n",
    "            for kernel, pth in kernels_n_paths\n",
    "            for i, data in enumerate(batcher(grid, BATCH_SIZE))\n",
    "        )\n",
    "    )\n"
   ]
  },
  {
   "cell_type": "code",
   "execution_count": 19,
   "metadata": {},
   "outputs": [],
   "source": [
    "def mean_center(data, weights=None):\n",
    "    return data - np.average(data, axis=0,weights=weights)"
   ]
  },
  {
   "cell_type": "code",
   "execution_count": 20,
   "metadata": {},
   "outputs": [],
   "source": [
    "def load_converged_data(pth, bandwidth):\n",
    "    bandwidth_path = os.path.join(pth, \"b{:08.05f}\".format(bandwidth))\n",
    "    convergededs = []\n",
    "    for dat in sorted(os.listdir(bandwidth_path)):\n",
    "        convergededs.append(np.loadtxt(os.path.join(bandwidth_path, dat)))\n",
    "    return np.concatenate(convergededs, axis=0)\n",
    "\n",
    "def plt_grid(fig, grid, data_avg, data_std):\n",
    "    nodes = mayavi.mlab.points3d(grid[:,0], grid[:,1], grid[:,2], \n",
    "                                 scale_mode='scalar', colormap='gist_earth', figure=fig)\n",
    "    nodes.glyph.scale_mode = 'scale_by_vector'\n",
    "    nodes.mlab_source.dataset.point_data.vectors = np.ones((grid.shape[0],3))*(np.average(data_std)/40)\n",
    "    nodes.mlab_source.dataset.point_data.scalars = (grid[:,1] - (data_avg[1]-3*data_std[1]))/(6*data_std[1])\n",
    "    return nodes\n",
    "\n",
    "def plt_data(fig, data):\n",
    "    nodes = mayavi.mlab.points3d(data[:,0], data[:,1], data[:,2], scale_mode='scalar', color=(0,1,0), figure=fig)\n",
    "    nodes.mlab_source.dataset.point_data.scalars = np.ones(data.shape[0])*0.05\n",
    "    return nodes\n",
    "\n",
    "def normalize_view(fig, data_avg, data_std):\n",
    "    mayavi.mlab.view(azimuth=0, elevation=0, distance=15*np.average(data_avg), focalpoint=(data_avg[0], data_avg[1], data_avg[2]))\n",
    "    \n",
    "def plt_and_save(data, grid, bandwidth, pth):\n",
    "    data_avg = np.average(data, axis=0)\n",
    "    data_std = np.std(data, axis=0)\n",
    "    figure = mayavi.mlab.figure(figure=None, bgcolor=(1,1,1), fgcolor=(0,0,0), engine=None, size=(1000, 500))\n",
    "    converged_nodes = plt_grid(figure, grid, data_avg, data_std)\n",
    "    data_nodes = plt_data(figure, data)\n",
    "    normalize_view(figure, data_avg, data_std)\n",
    "    mayavi.mlab.savefig(pth)\n",
    "    mayavi.mlab.close(figure)\n",
    "    \n",
    "def serialize_plt(pth):\n",
    "    import zlib\n",
    "    with open(pth, 'rb') as f:\n",
    "        dat = f.read()\n",
    "    return zlib.compress(dat)\n",
    "   \n",
    "def deserialize_plt(dat, pth):\n",
    "    import zlib\n",
    "    with open(pth, 'wb') as f:\n",
    "        f.write(zlib.decompress(dat))\n",
    "    return pth\n",
    "\n",
    "def distributed_plt_and_save(data, grid, bandwidth):\n",
    "    import numpy as np\n",
    "    import mayavi\n",
    "    import mayavi.mlab\n",
    "    import string\n",
    "    import os\n",
    "    #on headless systems, tmux: \"Xvfb :1 -screen 0 1280x1024x24 -auth localhost\", then \"export DISPLAY=:1\" in the jupyter tmux\n",
    "    mayavi.mlab.options.offscreen = True\n",
    "    \n",
    "    unique_id = \"\".join(np.random.choice(list(string.ascii_lowercase), replace=True, size=20))\n",
    "    pth = \"/ramfs/{}.png\".format(unique_id)\n",
    "    try:\n",
    "        plt_and_save(data, grid, bandwidth, pth)\n",
    "        result = serialize_plt(pth)\n",
    "    except:\n",
    "        os.remove(pth)"
   ]
  },
  {
   "cell_type": "code",
   "execution_count": 21,
   "metadata": {},
   "outputs": [
    {
     "ename": "KeyboardInterrupt",
     "evalue": "",
     "output_type": "error",
     "traceback": [
      "\u001b[0;31m---------------------------------------------------------------------------\u001b[0m",
      "\u001b[0;31mKeyboardInterrupt\u001b[0m                         Traceback (most recent call last)",
      "\u001b[0;32m<ipython-input-21-bf2183392486>\u001b[0m in \u001b[0;36m<module>\u001b[0;34m()\u001b[0m\n\u001b[1;32m      3\u001b[0m     \u001b[0mimg_pth\u001b[0m \u001b[0;34m=\u001b[0m \u001b[0mos\u001b[0m\u001b[0;34m.\u001b[0m\u001b[0mpath\u001b[0m\u001b[0;34m.\u001b[0m\u001b[0mjoin\u001b[0m\u001b[0;34m(\u001b[0m\u001b[0mpth\u001b[0m\u001b[0;34m,\u001b[0m \u001b[0;34m\"{}.png\"\u001b[0m\u001b[0;34m.\u001b[0m\u001b[0mformat\u001b[0m\u001b[0;34m(\u001b[0m\u001b[0mtitle\u001b[0m\u001b[0;34m)\u001b[0m\u001b[0;34m)\u001b[0m\u001b[0;34m\u001b[0m\u001b[0m\n\u001b[1;32m      4\u001b[0m     \u001b[0mgrid\u001b[0m \u001b[0;34m=\u001b[0m \u001b[0mload_converged_data\u001b[0m\u001b[0;34m(\u001b[0m\u001b[0mpth\u001b[0m\u001b[0;34m,\u001b[0m \u001b[0mbandwidth\u001b[0m\u001b[0;34m)\u001b[0m\u001b[0;34m\u001b[0m\u001b[0m\n\u001b[0;32m----> 5\u001b[0;31m     \u001b[0mplt_and_save\u001b[0m\u001b[0;34m(\u001b[0m\u001b[0mdata\u001b[0m\u001b[0;34m,\u001b[0m \u001b[0mgrid\u001b[0m\u001b[0;34m,\u001b[0m \u001b[0mbandwidth\u001b[0m\u001b[0;34m,\u001b[0m \u001b[0mimg_pth\u001b[0m\u001b[0;34m)\u001b[0m\u001b[0;34m\u001b[0m\u001b[0m\n\u001b[0m",
      "\u001b[0;32m<ipython-input-20-ac7a32baafb6>\u001b[0m in \u001b[0;36mplt_and_save\u001b[0;34m(data, grid, bandwidth, pth)\u001b[0m\n\u001b[1;32m     27\u001b[0m     \u001b[0mfigure\u001b[0m \u001b[0;34m=\u001b[0m \u001b[0mmayavi\u001b[0m\u001b[0;34m.\u001b[0m\u001b[0mmlab\u001b[0m\u001b[0;34m.\u001b[0m\u001b[0mfigure\u001b[0m\u001b[0;34m(\u001b[0m\u001b[0mfigure\u001b[0m\u001b[0;34m=\u001b[0m\u001b[0;32mNone\u001b[0m\u001b[0;34m,\u001b[0m \u001b[0mbgcolor\u001b[0m\u001b[0;34m=\u001b[0m\u001b[0;34m(\u001b[0m\u001b[0;36m1\u001b[0m\u001b[0;34m,\u001b[0m\u001b[0;36m1\u001b[0m\u001b[0;34m,\u001b[0m\u001b[0;36m1\u001b[0m\u001b[0;34m)\u001b[0m\u001b[0;34m,\u001b[0m \u001b[0mfgcolor\u001b[0m\u001b[0;34m=\u001b[0m\u001b[0;34m(\u001b[0m\u001b[0;36m0\u001b[0m\u001b[0;34m,\u001b[0m\u001b[0;36m0\u001b[0m\u001b[0;34m,\u001b[0m\u001b[0;36m0\u001b[0m\u001b[0;34m)\u001b[0m\u001b[0;34m,\u001b[0m \u001b[0mengine\u001b[0m\u001b[0;34m=\u001b[0m\u001b[0;32mNone\u001b[0m\u001b[0;34m,\u001b[0m \u001b[0msize\u001b[0m\u001b[0;34m=\u001b[0m\u001b[0;34m(\u001b[0m\u001b[0;36m1000\u001b[0m\u001b[0;34m,\u001b[0m \u001b[0;36m500\u001b[0m\u001b[0;34m)\u001b[0m\u001b[0;34m)\u001b[0m\u001b[0;34m\u001b[0m\u001b[0m\n\u001b[1;32m     28\u001b[0m     \u001b[0mconverged_nodes\u001b[0m \u001b[0;34m=\u001b[0m \u001b[0mplt_grid\u001b[0m\u001b[0;34m(\u001b[0m\u001b[0mfigure\u001b[0m\u001b[0;34m,\u001b[0m \u001b[0mgrid\u001b[0m\u001b[0;34m,\u001b[0m \u001b[0mdata_avg\u001b[0m\u001b[0;34m,\u001b[0m \u001b[0mdata_std\u001b[0m\u001b[0;34m)\u001b[0m\u001b[0;34m\u001b[0m\u001b[0m\n\u001b[0;32m---> 29\u001b[0;31m     \u001b[0mdata_nodes\u001b[0m \u001b[0;34m=\u001b[0m \u001b[0mplt_data\u001b[0m\u001b[0;34m(\u001b[0m\u001b[0mfigure\u001b[0m\u001b[0;34m,\u001b[0m \u001b[0mdata\u001b[0m\u001b[0;34m)\u001b[0m\u001b[0;34m\u001b[0m\u001b[0m\n\u001b[0m\u001b[1;32m     30\u001b[0m     \u001b[0mnormalize_view\u001b[0m\u001b[0;34m(\u001b[0m\u001b[0mfigure\u001b[0m\u001b[0;34m,\u001b[0m \u001b[0mdata_avg\u001b[0m\u001b[0;34m,\u001b[0m \u001b[0mdata_std\u001b[0m\u001b[0;34m)\u001b[0m\u001b[0;34m\u001b[0m\u001b[0m\n\u001b[1;32m     31\u001b[0m     \u001b[0mmayavi\u001b[0m\u001b[0;34m.\u001b[0m\u001b[0mmlab\u001b[0m\u001b[0;34m.\u001b[0m\u001b[0msavefig\u001b[0m\u001b[0;34m(\u001b[0m\u001b[0mpth\u001b[0m\u001b[0;34m)\u001b[0m\u001b[0;34m\u001b[0m\u001b[0m\n",
      "\u001b[0;32m<ipython-input-20-ac7a32baafb6>\u001b[0m in \u001b[0;36mplt_data\u001b[0;34m(fig, data)\u001b[0m\n\u001b[1;32m     15\u001b[0m \u001b[0;34m\u001b[0m\u001b[0m\n\u001b[1;32m     16\u001b[0m \u001b[0;32mdef\u001b[0m \u001b[0mplt_data\u001b[0m\u001b[0;34m(\u001b[0m\u001b[0mfig\u001b[0m\u001b[0;34m,\u001b[0m \u001b[0mdata\u001b[0m\u001b[0;34m)\u001b[0m\u001b[0;34m:\u001b[0m\u001b[0;34m\u001b[0m\u001b[0m\n\u001b[0;32m---> 17\u001b[0;31m     \u001b[0mnodes\u001b[0m \u001b[0;34m=\u001b[0m \u001b[0mmayavi\u001b[0m\u001b[0;34m.\u001b[0m\u001b[0mmlab\u001b[0m\u001b[0;34m.\u001b[0m\u001b[0mpoints3d\u001b[0m\u001b[0;34m(\u001b[0m\u001b[0mdata\u001b[0m\u001b[0;34m[\u001b[0m\u001b[0;34m:\u001b[0m\u001b[0;34m,\u001b[0m\u001b[0;36m0\u001b[0m\u001b[0;34m]\u001b[0m\u001b[0;34m,\u001b[0m \u001b[0mdata\u001b[0m\u001b[0;34m[\u001b[0m\u001b[0;34m:\u001b[0m\u001b[0;34m,\u001b[0m\u001b[0;36m1\u001b[0m\u001b[0;34m]\u001b[0m\u001b[0;34m,\u001b[0m \u001b[0mdata\u001b[0m\u001b[0;34m[\u001b[0m\u001b[0;34m:\u001b[0m\u001b[0;34m,\u001b[0m\u001b[0;36m2\u001b[0m\u001b[0;34m]\u001b[0m\u001b[0;34m,\u001b[0m \u001b[0mscale_mode\u001b[0m\u001b[0;34m=\u001b[0m\u001b[0;34m'scalar'\u001b[0m\u001b[0;34m,\u001b[0m \u001b[0mcolor\u001b[0m\u001b[0;34m=\u001b[0m\u001b[0;34m(\u001b[0m\u001b[0;36m0\u001b[0m\u001b[0;34m,\u001b[0m\u001b[0;36m1\u001b[0m\u001b[0;34m,\u001b[0m\u001b[0;36m0\u001b[0m\u001b[0;34m)\u001b[0m\u001b[0;34m,\u001b[0m \u001b[0mfigure\u001b[0m\u001b[0;34m=\u001b[0m\u001b[0mfig\u001b[0m\u001b[0;34m)\u001b[0m\u001b[0;34m\u001b[0m\u001b[0m\n\u001b[0m\u001b[1;32m     18\u001b[0m     \u001b[0mnodes\u001b[0m\u001b[0;34m.\u001b[0m\u001b[0mmlab_source\u001b[0m\u001b[0;34m.\u001b[0m\u001b[0mdataset\u001b[0m\u001b[0;34m.\u001b[0m\u001b[0mpoint_data\u001b[0m\u001b[0;34m.\u001b[0m\u001b[0mscalars\u001b[0m \u001b[0;34m=\u001b[0m \u001b[0mnp\u001b[0m\u001b[0;34m.\u001b[0m\u001b[0mones\u001b[0m\u001b[0;34m(\u001b[0m\u001b[0mdata\u001b[0m\u001b[0;34m.\u001b[0m\u001b[0mshape\u001b[0m\u001b[0;34m[\u001b[0m\u001b[0;36m0\u001b[0m\u001b[0;34m]\u001b[0m\u001b[0;34m)\u001b[0m\u001b[0;34m*\u001b[0m\u001b[0;36m0.05\u001b[0m\u001b[0;34m\u001b[0m\u001b[0m\n\u001b[1;32m     19\u001b[0m     \u001b[0;32mreturn\u001b[0m \u001b[0mnodes\u001b[0m\u001b[0;34m\u001b[0m\u001b[0m\n",
      "\u001b[0;32m/usr/local/lib/python3.5/dist-packages/mayavi/tools/helper_functions.py\u001b[0m in \u001b[0;36mthe_function\u001b[0;34m(*args, **kwargs)\u001b[0m\n\u001b[1;32m     35\u001b[0m \u001b[0;34m\u001b[0m\u001b[0m\n\u001b[1;32m     36\u001b[0m     \u001b[0;32mdef\u001b[0m \u001b[0mthe_function\u001b[0m\u001b[0;34m(\u001b[0m\u001b[0;34m*\u001b[0m\u001b[0margs\u001b[0m\u001b[0;34m,\u001b[0m \u001b[0;34m**\u001b[0m\u001b[0mkwargs\u001b[0m\u001b[0;34m)\u001b[0m\u001b[0;34m:\u001b[0m\u001b[0;34m\u001b[0m\u001b[0m\n\u001b[0;32m---> 37\u001b[0;31m         \u001b[0;32mreturn\u001b[0m \u001b[0mpipeline\u001b[0m\u001b[0;34m(\u001b[0m\u001b[0;34m*\u001b[0m\u001b[0margs\u001b[0m\u001b[0;34m,\u001b[0m \u001b[0;34m**\u001b[0m\u001b[0mkwargs\u001b[0m\u001b[0;34m)\u001b[0m\u001b[0;34m\u001b[0m\u001b[0m\n\u001b[0m\u001b[1;32m     38\u001b[0m \u001b[0;34m\u001b[0m\u001b[0m\n\u001b[1;32m     39\u001b[0m     \u001b[0;32mif\u001b[0m \u001b[0mhasattr\u001b[0m\u001b[0;34m(\u001b[0m\u001b[0mpipeline\u001b[0m\u001b[0;34m,\u001b[0m \u001b[0;34m'doc'\u001b[0m\u001b[0;34m)\u001b[0m\u001b[0;34m:\u001b[0m\u001b[0;34m\u001b[0m\u001b[0m\n",
      "\u001b[0;32m/usr/local/lib/python3.5/dist-packages/mayavi/tools/helper_functions.py\u001b[0m in \u001b[0;36m__call__\u001b[0;34m(self, *args, **kwargs)\u001b[0m\n\u001b[1;32m     83\u001b[0m         \u001b[0;31m# And re-enable the rendering, if needed.\u001b[0m\u001b[0;34m\u001b[0m\u001b[0;34m\u001b[0m\u001b[0m\n\u001b[1;32m     84\u001b[0m         \u001b[0;32mif\u001b[0m \u001b[0mscene\u001b[0m \u001b[0;32mis\u001b[0m \u001b[0;32mnot\u001b[0m \u001b[0;32mNone\u001b[0m\u001b[0;34m:\u001b[0m\u001b[0;34m\u001b[0m\u001b[0m\n\u001b[0;32m---> 85\u001b[0;31m             \u001b[0mscene\u001b[0m\u001b[0;34m.\u001b[0m\u001b[0mdisable_render\u001b[0m \u001b[0;34m=\u001b[0m \u001b[0;32mnot\u001b[0m \u001b[0mself\u001b[0m\u001b[0;34m.\u001b[0m\u001b[0m_do_redraw\u001b[0m\u001b[0;34m\u001b[0m\u001b[0m\n\u001b[0m\u001b[1;32m     86\u001b[0m         \u001b[0;32mreturn\u001b[0m \u001b[0moutput\u001b[0m\u001b[0;34m\u001b[0m\u001b[0m\n\u001b[1;32m     87\u001b[0m \u001b[0;34m\u001b[0m\u001b[0m\n",
      "\u001b[0;32m/usr/local/lib/python3.5/dist-packages/traits/trait_notifiers.py\u001b[0m in \u001b[0;36m__call__\u001b[0;34m(self, object, trait_name, old, new)\u001b[0m\n\u001b[1;32m    338\u001b[0m             \u001b[0;32mtry\u001b[0m\u001b[0;34m:\u001b[0m\u001b[0;34m\u001b[0m\u001b[0m\n\u001b[1;32m    339\u001b[0m                 \u001b[0;31m# Call the handler.\u001b[0m\u001b[0;34m\u001b[0m\u001b[0;34m\u001b[0m\u001b[0m\n\u001b[0;32m--> 340\u001b[0;31m                 \u001b[0mself\u001b[0m\u001b[0;34m.\u001b[0m\u001b[0mhandler\u001b[0m\u001b[0;34m(\u001b[0m \u001b[0;34m*\u001b[0m\u001b[0margs\u001b[0m \u001b[0;34m)\u001b[0m\u001b[0;34m\u001b[0m\u001b[0m\n\u001b[0m\u001b[1;32m    341\u001b[0m             \u001b[0;32mexcept\u001b[0m \u001b[0mException\u001b[0m \u001b[0;32mas\u001b[0m \u001b[0me\u001b[0m\u001b[0;34m:\u001b[0m\u001b[0;34m\u001b[0m\u001b[0m\n\u001b[1;32m    342\u001b[0m                 \u001b[0;32mif\u001b[0m \u001b[0m_post_change_event_tracer\u001b[0m \u001b[0;32mis\u001b[0m \u001b[0;32mnot\u001b[0m \u001b[0;32mNone\u001b[0m\u001b[0;34m:\u001b[0m\u001b[0;34m\u001b[0m\u001b[0m\n",
      "\u001b[0;32m/usr/local/lib/python3.5/dist-packages/tvtk/pyface/tvtk_scene.py\u001b[0m in \u001b[0;36m_disable_render_changed\u001b[0;34m(self, val)\u001b[0m\n\u001b[1;32m    878\u001b[0m     \u001b[0;32mdef\u001b[0m \u001b[0m_disable_render_changed\u001b[0m\u001b[0;34m(\u001b[0m\u001b[0mself\u001b[0m\u001b[0;34m,\u001b[0m \u001b[0mval\u001b[0m\u001b[0;34m)\u001b[0m\u001b[0;34m:\u001b[0m\u001b[0;34m\u001b[0m\u001b[0m\n\u001b[1;32m    879\u001b[0m         \u001b[0;32mif\u001b[0m \u001b[0;32mnot\u001b[0m \u001b[0mval\u001b[0m \u001b[0;32mand\u001b[0m \u001b[0mself\u001b[0m\u001b[0;34m.\u001b[0m\u001b[0m_renwin\u001b[0m \u001b[0;32mis\u001b[0m \u001b[0;32mnot\u001b[0m \u001b[0;32mNone\u001b[0m\u001b[0;34m:\u001b[0m\u001b[0;34m\u001b[0m\u001b[0m\n\u001b[0;32m--> 880\u001b[0;31m             \u001b[0mself\u001b[0m\u001b[0;34m.\u001b[0m\u001b[0mrender\u001b[0m\u001b[0;34m(\u001b[0m\u001b[0;34m)\u001b[0m\u001b[0;34m\u001b[0m\u001b[0m\n\u001b[0m\u001b[1;32m    881\u001b[0m \u001b[0;34m\u001b[0m\u001b[0m\n\u001b[1;32m    882\u001b[0m     \u001b[0;32mdef\u001b[0m \u001b[0m_record_methods\u001b[0m\u001b[0;34m(\u001b[0m\u001b[0mself\u001b[0m\u001b[0;34m,\u001b[0m \u001b[0mcalls\u001b[0m\u001b[0;34m)\u001b[0m\u001b[0;34m:\u001b[0m\u001b[0;34m\u001b[0m\u001b[0m\n",
      "\u001b[0;32m/usr/local/lib/python3.5/dist-packages/tvtk/pyface/tvtk_scene.py\u001b[0m in \u001b[0;36mrender\u001b[0;34m(self)\u001b[0m\n\u001b[1;32m    264\u001b[0m         `disable_render` trait is set to True.\"\"\"\n\u001b[1;32m    265\u001b[0m         \u001b[0;32mif\u001b[0m \u001b[0;32mnot\u001b[0m \u001b[0mself\u001b[0m\u001b[0;34m.\u001b[0m\u001b[0mdisable_render\u001b[0m\u001b[0;34m:\u001b[0m\u001b[0;34m\u001b[0m\u001b[0m\n\u001b[0;32m--> 266\u001b[0;31m             \u001b[0mself\u001b[0m\u001b[0;34m.\u001b[0m\u001b[0m_renwin\u001b[0m\u001b[0;34m.\u001b[0m\u001b[0mrender\u001b[0m\u001b[0;34m(\u001b[0m\u001b[0;34m)\u001b[0m\u001b[0;34m\u001b[0m\u001b[0m\n\u001b[0m\u001b[1;32m    267\u001b[0m \u001b[0;34m\u001b[0m\u001b[0m\n\u001b[1;32m    268\u001b[0m     \u001b[0;32mdef\u001b[0m \u001b[0madd_actors\u001b[0m\u001b[0;34m(\u001b[0m\u001b[0mself\u001b[0m\u001b[0;34m,\u001b[0m \u001b[0mactors\u001b[0m\u001b[0;34m)\u001b[0m\u001b[0;34m:\u001b[0m\u001b[0;34m\u001b[0m\u001b[0m\n",
      "\u001b[0;32m/usr/local/lib/python3.5/dist-packages/tvtk/tvtk_classes.zip/tvtk_classes/window.pyc\u001b[0m in \u001b[0;36mrender\u001b[0;34m(self)\u001b[0m\n",
      "\u001b[0;31mKeyboardInterrupt\u001b[0m: "
     ]
    }
   ],
   "source": [
    "for i,bandwidth in enumerate(bandwidths):\n",
    "    title = \"converged_data_b{:08.05f}\".format(bandwidth)\n",
    "    img_pth = os.path.join(pth, \"{}.png\".format(title))\n",
    "    grid = load_converged_data(pth, bandwidth)\n",
    "    plt_and_save(data, grid, bandwidth, img_pth)"
   ]
  },
  {
   "cell_type": "code",
   "execution_count": 23,
   "metadata": {},
   "outputs": [
    {
     "data": {
      "text/plain": [
       "array([nan, nan, nan])"
      ]
     },
     "execution_count": 23,
     "metadata": {},
     "output_type": "execute_result"
    }
   ],
   "source": []
  },
  {
   "cell_type": "code",
   "execution_count": null,
   "metadata": {},
   "outputs": [],
   "source": [
    "mayavi.mlab.close(all=True)"
   ]
  },
  {
   "cell_type": "code",
   "execution_count": null,
   "metadata": {},
   "outputs": [],
   "source": [
    "bandwidths = [BANDWIDTH]\n",
    "converged = np.concatenate(convergededs)\n",
    "for i, bandwidth in enumerate(bandwidths):\n",
    "    data_avg = np.average(converged, axis=0)\n",
    "    data_std = np.std(converged, axis=0)\n",
    "    figure = mayavi.mlab.figure(figure=None, bgcolor=(1,1,1), fgcolor=(0,0,0), engine=None, size=(1000, 500))\n",
    "    #mayavi.mlab.surf(grid[0], grid[1], kde_wireframe/z_scale, colormap='Greys', opacity=1)\n",
    "    nodes = mayavi.mlab.triangular_mesh(converged[:,0], converged[:,1], converged[:,2], \n",
    "                                 scale_mode='scalar', colormap='gist_earth')\n",
    "    nodes.glyph.scale_mode = 'scale_by_vector'\n",
    "    nodes.mlab_source.dataset.point_data.vectors = np.ones((converged.shape[0],3))*(np.average(data_std)/400)\n",
    "    nodes.mlab_source.dataset.point_data.scalars = (converged[:,1] - (data_avg[1]-3*data_std[1]))/(6*data_std[1])\n",
    "    #bunodes = mayavi.mlab.points3d(data[:,0], data[:,1], data[:,2], scale_mode='scalar', color=(0,1,0))\n",
    "    #bunodes.mlab_source.dataset.point_data.scalars = np.ones(data.shape[0])*0.1\n",
    "\n",
    "\n",
    "    #mayavi.mlab.axes()\n",
    "\n",
    "    #mayavi.mlab.view(views[0][1],views[0][0])\n",
    "    mayavi.mlab.view(azimuth=180, elevation=80, distance=1*np.average(data_avg), focalpoint=(data_avg[0], data_avg[1], data_avg[2]))\n",
    "    mayavi.mlab.move(forward=None, right=0.1*data_avg[1], up=-0.02*data_avg[0])\n",
    "    title = \"converged_data_b{:08.05f}\".format(bandwidth)\n",
    "    mayavi.mlab.savefig(os.path.join(pth, \"{}.png\".format(title)))\n",
    "    mayavi.mlab.close(figure)"
   ]
  },
  {
   "cell_type": "code",
   "execution_count": null,
   "metadata": {},
   "outputs": [],
   "source": [
    "mayavi.mlab.close(all=True)"
   ]
  },
  {
   "cell_type": "code",
   "execution_count": null,
   "metadata": {},
   "outputs": [],
   "source": []
  },
  {
   "cell_type": "code",
   "execution_count": null,
   "metadata": {},
   "outputs": [],
   "source": []
  },
  {
   "cell_type": "code",
   "execution_count": null,
   "metadata": {},
   "outputs": [],
   "source": []
  },
  {
   "cell_type": "code",
   "execution_count": null,
   "metadata": {},
   "outputs": [],
   "source": []
  },
  {
   "cell_type": "code",
   "execution_count": null,
   "metadata": {},
   "outputs": [],
   "source": []
  },
  {
   "cell_type": "code",
   "execution_count": null,
   "metadata": {},
   "outputs": [],
   "source": [
    "range_pct = 0.2\n",
    "grid_steps = 20\n",
    "data_mins, data_maxes, data_ranges = local_models.linear_projections.min_max_range(data)\n",
    "graph_bounds = local_models.linear_projections.sane_graph_bounds(data_mins, data_maxes, data_ranges, range_pct)\n",
    "\n",
    "grid_limits = tuple(map(lambda i: slice(graph_bounds[0,i], graph_bounds[1,i], grid_steps*1j), range(graph_bounds.shape[1])))\n",
    "grid = np.mgrid[grid_limits]\n",
    "gridder = local_models.utils.Grid2Vec()\n",
    "grid = gridder.fit_transform(grid)"
   ]
  },
  {
   "cell_type": "code",
   "execution_count": null,
   "metadata": {},
   "outputs": [],
   "source": [
    "for converged2 in local_models.algorithms.local_tls_shift_till_convergence(linear_models, grid, tol=1e-10,\n",
    "                                     kernel=KERNEL(bandwidth),\n",
    "                                     report=False):\n",
    "    pass"
   ]
  },
  {
   "cell_type": "code",
   "execution_count": null,
   "metadata": {},
   "outputs": [],
   "source": [
    "converged2"
   ]
  },
  {
   "cell_type": "code",
   "execution_count": null,
   "metadata": {},
   "outputs": [],
   "source": [
    "cloud = pcl.PointCloud()\n",
    "cloud.from_array(converged2.astype('float32'))\n",
    "#visual = pcl.pcl_visualization.CloudViewing()\n",
    "#visual.ShowMonochromeCloud(cloud)"
   ]
  },
  {
   "cell_type": "code",
   "execution_count": null,
   "metadata": {},
   "outputs": [],
   "source": [
    "mayavi.mlab.figure(figure=None, bgcolor=(1,1,1), fgcolor=(0,0,0), engine=None, size=(800, 800))\n",
    "#mayavi.mlab.surf(grid[0], grid[1], kde_wireframe/z_scale, colormap='Greys', opacity=1)\n",
    "nodes = mayavi.mlab.points3d(converged2[:,0], converged2[:,1], converged2[:,2], scale_mode='scalar', color=(1,0,0))\n",
    "nodes.mlab_source.dataset.point_data.scalars = np.ones(converged2.shape[0])*0.1\n",
    "bunodes = mayavi.mlab.points3d(data[:,0], data[:,1], data[:,2], scale_mode='scalar', color=(0,1,0))\n",
    "bunodes.mlab_source.dataset.point_data.scalars = np.ones(data.shape[0])*0.1\n",
    "\n",
    "\n",
    "#mayavi.mlab.axes()\n",
    "\n",
    "#mayavi.mlab.view(views[0][1],views[0][0])\n",
    "data_avg = np.average(converged2, axis=1)\n",
    "mayavi.mlab.view(azimuth=0, elevation=30, distance=1, focalpoint=(data_avg[0], data_avg[1], data_avg[2]))\n",
    "title = \"converged_g000{:05d}\".format(grid_steps)\n",
    "mayavi.mlab.savefig(os.path.join(project_dir, \"{}.png\".format(title)))\n",
    "mayavi.mlab.clf()"
   ]
  },
  {
   "cell_type": "code",
   "execution_count": null,
   "metadata": {},
   "outputs": [],
   "source": []
  },
  {
   "cell_type": "code",
   "execution_count": null,
   "metadata": {},
   "outputs": [],
   "source": []
  }
 ],
 "metadata": {
  "kernelspec": {
   "display_name": "Python 3",
   "language": "python",
   "name": "python3"
  },
  "language_info": {
   "codemirror_mode": {
    "name": "ipython",
    "version": 3
   },
   "file_extension": ".py",
   "mimetype": "text/x-python",
   "name": "python",
   "nbconvert_exporter": "python",
   "pygments_lexer": "ipython3",
   "version": "3.5.2"
  }
 },
 "nbformat": 4,
 "nbformat_minor": 2
}
