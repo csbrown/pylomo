{
 "cells": [
  {
   "cell_type": "code",
   "execution_count": 1,
   "metadata": {},
   "outputs": [],
   "source": [
    "import local_models.local_models\n",
    "import local_models.algorithms\n",
    "import local_models.utils\n",
    "import local_models.linear_projections\n",
    "import local_models.loggin\n",
    "import local_models.TLS_models\n",
    "import numpy as np\n",
    "import matplotlib.pyplot as plt\n",
    "import sklearn.linear_model\n",
    "import sklearn.cluster\n",
    "from importlib import reload\n",
    "from ml_battery.utils import cmap\n",
    "import matplotlib as mpl\n",
    "import sklearn.datasets\n",
    "import sklearn.decomposition\n",
    "import logging\n",
    "import ml_battery.log\n",
    "import time\n",
    "import os\n",
    "import mayavi\n",
    "import mayavi.mlab\n",
    "\n",
    "import subprocess\n",
    "#on headless systems, tmux: \"Xvfb :1 -screen 0 1280x1024x24 -auth localhost\", then \"export DISPLAY=:1\" in the jupyter tmux\n",
    "mayavi.mlab.options.offscreen = True\n",
    "\n",
    "\n",
    "\n",
    "logger = logging.getLogger(__name__)\n",
    "\n",
    "#reload(local_models.local_models)\n",
    "#reload(lm)\n",
    "#reload(local_models.loggin)\n",
    "#reload(local_models.TLS_models)\n",
    "np.warnings.filterwarnings('ignore')\n"
   ]
  },
  {
   "cell_type": "code",
   "execution_count": 63,
   "metadata": {},
   "outputs": [],
   "source": [
    "def import_shit():\n",
    "    import local_models.local_models\n",
    "    import local_models.algorithms\n",
    "    import local_models.utils\n",
    "    import local_models.linear_projections\n",
    "    import local_models.loggin\n",
    "    import local_models.TLS_models\n",
    "    import numpy as np\n",
    "    import logging\n",
    "    import ml_battery.log\n",
    "\n",
    "    logger = logging.getLogger(__name__)\n",
    "\n",
    "    #reload(local_models.local_models)\n",
    "    #reload(lm)\n",
    "    #reload(local_models.loggin)\n",
    "    #reload(local_models.TLS_models)\n",
    "    np.warnings.filterwarnings('ignore')"
   ]
  },
  {
   "cell_type": "code",
   "execution_count": 3,
   "metadata": {},
   "outputs": [],
   "source": [
    "FRESH=False"
   ]
  },
  {
   "cell_type": "code",
   "execution_count": 4,
   "metadata": {},
   "outputs": [],
   "source": [
    "kernel_names = {\n",
    "    local_models.local_models.GaussianKernel: 'gaussian',\n",
    "    local_models.local_models.TriCubeKernel: 'tricube'\n",
    "}"
   ]
  },
  {
   "cell_type": "code",
   "execution_count": 5,
   "metadata": {},
   "outputs": [],
   "source": [
    "mpl.rcParams['figure.figsize'] = [8.0, 8.0]"
   ]
  },
  {
   "cell_type": "code",
   "execution_count": 6,
   "metadata": {},
   "outputs": [],
   "source": [
    "data = np.loadtxt(\"../data/cmu_campus/oakland_part3_an_training.xyz_label_conf\")[:,:3]"
   ]
  },
  {
   "cell_type": "code",
   "execution_count": 66,
   "metadata": {},
   "outputs": [
    {
     "data": {
      "text/plain": [
       "154.57322768137988"
      ]
     },
     "execution_count": 66,
     "metadata": {},
     "output_type": "execute_result"
    }
   ],
   "source": [
    "(data.shape[0]*100)**(1/3)"
   ]
  },
  {
   "cell_type": "code",
   "execution_count": 58,
   "metadata": {},
   "outputs": [],
   "source": [
    "KERNEL=local_models.local_models.GaussianKernel\n",
    "RUN = 3\n",
    "\n",
    "project_dir = \"../data/3dscene_{}_{:03d}\".format(kernel_names[KERNEL], RUN)\n",
    "\n",
    "os.makedirs(project_dir, exist_ok=1)"
   ]
  },
  {
   "cell_type": "code",
   "execution_count": 8,
   "metadata": {},
   "outputs": [],
   "source": [
    "mayavi.mlab.figure(figure=None, bgcolor=(1,1,1), fgcolor=(0,0,0), engine=None, size=(800, 800))\n",
    "#mayavi.mlab.surf(grid[0], grid[1], kde_wireframe/z_scale, colormap='Greys', opacity=1)\n",
    "#nodes = mayavi.mlab.points3d(converged[:,0], converged[:,1], converged[:,2], scale_mode='scalar', color=(1,0,0))\n",
    "#nodes.mlab_source.dataset.point_data.scalars = np.ones(converged.shape[0])*0.1\n",
    "bunodes = mayavi.mlab.points3d(data[:,0], data[:,1], data[:,2], scale_mode='scalar', color=(0,1,0))\n",
    "bunodes.mlab_source.dataset.point_data.scalars = np.ones(data.shape[0])*0.05\n",
    "\n",
    "\n",
    "#mayavi.mlab.axes()\n",
    "\n",
    "#mayavi.mlab.view(views[0][1],views[0][0])\n",
    "data_avg = np.average(data, axis=1)\n",
    "mayavi.mlab.view(azimuth=180, elevation=80, distance=1.5*np.average(data_avg))#, focalpoint=(data_avg[0], data_avg[1], data_avg[2]))\n",
    "title = \"data\"\n",
    "mayavi.mlab.savefig(os.path.join(project_dir, \"{}.png\".format(title)))\n",
    "mayavi.mlab.clf()"
   ]
  },
  {
   "cell_type": "code",
   "execution_count": null,
   "metadata": {},
   "outputs": [],
   "source": []
  },
  {
   "cell_type": "code",
   "execution_count": null,
   "metadata": {},
   "outputs": [],
   "source": []
  },
  {
   "cell_type": "code",
   "execution_count": 9,
   "metadata": {},
   "outputs": [],
   "source": [
    "#visual = pcl.pcl_visualization.CloudViewing()\n",
    "#visual.ShowMonochromeCloud(room)"
   ]
  },
  {
   "cell_type": "code",
   "execution_count": 8,
   "metadata": {},
   "outputs": [
    {
     "data": {
      "text/plain": [
       "<local_models.local_models.LocalModels at 0x7f4152fb7a20>"
      ]
     },
     "execution_count": 8,
     "metadata": {},
     "output_type": "execute_result"
    }
   ],
   "source": [
    "linear_models = local_models.local_models.LocalModels(local_models.TLS_models.LinearODR_mD(2))\n",
    "linear_models.fit(data)"
   ]
  },
  {
   "cell_type": "code",
   "execution_count": 9,
   "metadata": {},
   "outputs": [],
   "source": [
    "avg_pt_dist = np.average(linear_models.index.query(data, k=2)[0][:,1])"
   ]
  },
  {
   "cell_type": "code",
   "execution_count": 10,
   "metadata": {},
   "outputs": [
    {
     "data": {
      "text/plain": [
       "0.13714420516231735"
      ]
     },
     "execution_count": 10,
     "metadata": {},
     "output_type": "execute_result"
    }
   ],
   "source": [
    "avg_pt_dist"
   ]
  },
  {
   "cell_type": "code",
   "execution_count": 52,
   "metadata": {},
   "outputs": [
    {
     "data": {
      "text/plain": [
       "array([2.        , 2.03225806, 2.06451613, 2.09677419, 2.12903226,\n",
       "       2.16129032, 2.19354839, 2.22580645, 2.25806452, 2.29032258,\n",
       "       2.32258065, 2.35483871, 2.38709677, 2.41935484, 2.4516129 ,\n",
       "       2.48387097, 2.51612903, 2.5483871 , 2.58064516, 2.61290323,\n",
       "       2.64516129, 2.67741935, 2.70967742, 2.74193548, 2.77419355,\n",
       "       2.80645161, 2.83870968, 2.87096774, 2.90322581, 2.93548387,\n",
       "       2.96774194, 3.        ])"
      ]
     },
     "execution_count": 52,
     "metadata": {},
     "output_type": "execute_result"
    }
   ],
   "source": [
    "#bandwidths = np.linspace(3,34,32)\n",
    "bandwidths = np.concatenate((\n",
    "    np.linspace(2,3,32),\n",
    "    #np.linspace(3,34,32),\n",
    "    #np.linspace(35,66,32),\n",
    "    #np.linspace(67,98,32)\n",
    "))\n",
    "bandwidths"
   ]
  },
  {
   "cell_type": "code",
   "execution_count": 53,
   "metadata": {},
   "outputs": [
    {
     "data": {
      "text/plain": [
       "array([2.2       , 2.23876171, 2.27762747, 2.31659729, 2.35567118,\n",
       "       2.39484912, 2.43413111, 2.47351717, 2.51300728, 2.55260146,\n",
       "       2.59229969, 2.63210198, 2.67200832, 2.71201873, 2.75213319,\n",
       "       2.79235172, 2.8326743 , 2.87310094, 2.91363163, 2.95426639,\n",
       "       2.9950052 , 3.03584807, 3.07679501, 3.11784599, 3.15900104,\n",
       "       3.20026015, 3.24162331, 3.28309053, 3.32466181, 3.36633715,\n",
       "       3.40811655, 3.45      ])"
      ]
     },
     "execution_count": 53,
     "metadata": {},
     "output_type": "execute_result"
    }
   ],
   "source": [
    "bandwidths = bandwidths**2*0.05 + bandwidths\n",
    "bandwidths"
   ]
  },
  {
   "cell_type": "code",
   "execution_count": 59,
   "metadata": {},
   "outputs": [],
   "source": [
    "pth = os.path.join(project_dir, \"varying_bandwidth\")\n",
    "os.makedirs(pth, exist_ok=1)"
   ]
  },
  {
   "cell_type": "code",
   "execution_count": 57,
   "metadata": {},
   "outputs": [],
   "source": [
    "def converge(bandwidth):\n",
    "    import_shit()\n",
    "    for converged in local_models.algorithms.local_tls_shift_till_convergence(linear_models, data, tol=1e-8,\n",
    "                                         kernel=KERNEL(bandwidth),\n",
    "                                         report=False):\n",
    "        pass\n",
    "    return converged\n",
    "\n",
    "if FRESH:\n",
    "    from joblib import Parallel, delayed\n",
    "    convergededs = Parallel(n_jobs=32)(delayed(converge)(bandwidth) for bandwidth in bandwidths*avg_pt_dist)\n",
    "\n",
    "    for i, bandwidth in enumerate(bandwidths):\n",
    "        np.savetxt(os.path.join(pth, \"converged{:08.02f}.dat\".format(bandwidth)), convergededs[i])\n",
    "else:\n",
    "    convergededs = []\n",
    "    for i, bandwidth in enumerate(bandwidths):\n",
    "        convergededs.append(np.loadtxt(os.path.join(pth, \"converged{:08.02f}.dat\".format(bandwidth))))\n"
   ]
  },
  {
   "cell_type": "code",
   "execution_count": null,
   "metadata": {},
   "outputs": [],
   "source": [
    "def mean_center(data, weights=None):\n",
    "    return data - np.average(data, axis=0,weights=weights)"
   ]
  },
  {
   "cell_type": "code",
   "execution_count": 60,
   "metadata": {},
   "outputs": [],
   "source": [
    "for i, bandwidth in enumerate(bandwidths):\n",
    "    converged = convergededs[i]\n",
    "    data_avg = np.average(converged, axis=0)\n",
    "    data_std = np.std(converged, axis=0)\n",
    "    figure = mayavi.mlab.figure(figure=None, bgcolor=(1,1,1), fgcolor=(0,0,0), engine=None, size=(1000, 500))\n",
    "    #mayavi.mlab.surf(grid[0], grid[1], kde_wireframe/z_scale, colormap='Greys', opacity=1)\n",
    "    nodes = mayavi.mlab.points3d(converged[:,0], converged[:,1], converged[:,2], \n",
    "                                 scale_mode='scalar', colormap='gist_earth')\n",
    "    nodes.glyph.scale_mode = 'scale_by_vector'\n",
    "    nodes.mlab_source.dataset.point_data.vectors = np.ones((converged.shape[0],3))*(np.average(data_std)/400)\n",
    "    nodes.mlab_source.dataset.point_data.scalars = (converged[:,1] - (data_avg[1]-3*data_std[1]))/(6*data_std[1])\n",
    "    #bunodes = mayavi.mlab.points3d(data[:,0], data[:,1], data[:,2], scale_mode='scalar', color=(0,1,0))\n",
    "    #bunodes.mlab_source.dataset.point_data.scalars = np.ones(data.shape[0])*0.1\n",
    "\n",
    "\n",
    "    #mayavi.mlab.axes()\n",
    "\n",
    "    #mayavi.mlab.view(views[0][1],views[0][0])\n",
    "    mayavi.mlab.view(azimuth=180, elevation=80, distance=1*np.average(data_avg), focalpoint=(data_avg[0], data_avg[1], data_avg[2]))\n",
    "    mayavi.mlab.move(forward=None, right=0.1*data_avg[1], up=-0.02*data_avg[0])\n",
    "    title = \"converged_data_b{:08.02f}\".format(bandwidth)\n",
    "    mayavi.mlab.savefig(os.path.join(pth, \"{}.png\".format(title)))\n",
    "    mayavi.mlab.close(figure)"
   ]
  },
  {
   "cell_type": "code",
   "execution_count": 40,
   "metadata": {},
   "outputs": [],
   "source": [
    "mayavi.mlab.close(all=True)"
   ]
  },
  {
   "cell_type": "code",
   "execution_count": null,
   "metadata": {},
   "outputs": [],
   "source": []
  },
  {
   "cell_type": "code",
   "execution_count": null,
   "metadata": {},
   "outputs": [],
   "source": [
    "range_pct = 0.2\n",
    "grid_steps = 20\n",
    "data_mins, data_maxes, data_ranges = local_models.linear_projections.min_max_range(data)\n",
    "graph_bounds = local_models.linear_projections.sane_graph_bounds(data_mins, data_maxes, data_ranges, range_pct)\n",
    "\n",
    "grid_limits = tuple(map(lambda i: slice(graph_bounds[0,i], graph_bounds[1,i], grid_steps*1j), range(graph_bounds.shape[1])))\n",
    "grid = np.mgrid[grid_limits]\n",
    "gridder = local_models.utils.Grid2Vec()\n",
    "grid = gridder.fit_transform(grid)"
   ]
  },
  {
   "cell_type": "code",
   "execution_count": null,
   "metadata": {},
   "outputs": [],
   "source": [
    "for converged2 in local_models.algorithms.local_tls_shift_till_convergence(linear_models, grid, tol=1e-10,\n",
    "                                     kernel=KERNEL(bandwidth),\n",
    "                                     report=False):\n",
    "    pass"
   ]
  },
  {
   "cell_type": "code",
   "execution_count": null,
   "metadata": {},
   "outputs": [],
   "source": [
    "converged2"
   ]
  },
  {
   "cell_type": "code",
   "execution_count": null,
   "metadata": {},
   "outputs": [],
   "source": [
    "cloud = pcl.PointCloud()\n",
    "cloud.from_array(converged2.astype('float32'))\n",
    "#visual = pcl.pcl_visualization.CloudViewing()\n",
    "#visual.ShowMonochromeCloud(cloud)"
   ]
  },
  {
   "cell_type": "code",
   "execution_count": null,
   "metadata": {},
   "outputs": [],
   "source": [
    "mayavi.mlab.figure(figure=None, bgcolor=(1,1,1), fgcolor=(0,0,0), engine=None, size=(800, 800))\n",
    "#mayavi.mlab.surf(grid[0], grid[1], kde_wireframe/z_scale, colormap='Greys', opacity=1)\n",
    "nodes = mayavi.mlab.points3d(converged2[:,0], converged2[:,1], converged2[:,2], scale_mode='scalar', color=(1,0,0))\n",
    "nodes.mlab_source.dataset.point_data.scalars = np.ones(converged2.shape[0])*0.1\n",
    "bunodes = mayavi.mlab.points3d(data[:,0], data[:,1], data[:,2], scale_mode='scalar', color=(0,1,0))\n",
    "bunodes.mlab_source.dataset.point_data.scalars = np.ones(data.shape[0])*0.1\n",
    "\n",
    "\n",
    "#mayavi.mlab.axes()\n",
    "\n",
    "#mayavi.mlab.view(views[0][1],views[0][0])\n",
    "data_avg = np.average(converged2, axis=1)\n",
    "mayavi.mlab.view(azimuth=0, elevation=30, distance=1, focalpoint=(data_avg[0], data_avg[1], data_avg[2]))\n",
    "title = \"converged_g000{:05d}\".format(grid_steps)\n",
    "mayavi.mlab.savefig(os.path.join(project_dir, \"{}.png\".format(title)))\n",
    "mayavi.mlab.clf()"
   ]
  },
  {
   "cell_type": "code",
   "execution_count": null,
   "metadata": {},
   "outputs": [],
   "source": []
  },
  {
   "cell_type": "code",
   "execution_count": null,
   "metadata": {},
   "outputs": [],
   "source": []
  }
 ],
 "metadata": {
  "kernelspec": {
   "display_name": "Python 3",
   "language": "python",
   "name": "python3"
  },
  "language_info": {
   "codemirror_mode": {
    "name": "ipython",
    "version": 3
   },
   "file_extension": ".py",
   "mimetype": "text/x-python",
   "name": "python",
   "nbconvert_exporter": "python",
   "pygments_lexer": "ipython3",
   "version": "3.5.2"
  }
 },
 "nbformat": 4,
 "nbformat_minor": 2
}
