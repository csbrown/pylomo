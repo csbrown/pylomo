{
 "cells": [
  {
   "cell_type": "code",
   "execution_count": 1,
   "metadata": {},
   "outputs": [
    {
     "ename": "ImportError",
     "evalue": "No module named 'sympy'",
     "output_type": "error",
     "traceback": [
      "\u001b[0;31m---------------------------------------------------------------------------\u001b[0m",
      "\u001b[0;31mImportError\u001b[0m                               Traceback (most recent call last)",
      "\u001b[0;32m<ipython-input-1-3b02787bb8ab>\u001b[0m in \u001b[0;36m<module>\u001b[0;34m\u001b[0m\n\u001b[1;32m      1\u001b[0m \u001b[0;32mimport\u001b[0m \u001b[0mnumpy\u001b[0m \u001b[0;32mas\u001b[0m \u001b[0mnp\u001b[0m\u001b[0;34m\u001b[0m\u001b[0m\n\u001b[0;32m----> 2\u001b[0;31m \u001b[0;32mimport\u001b[0m \u001b[0msympy\u001b[0m \u001b[0;32mas\u001b[0m \u001b[0msym\u001b[0m\u001b[0;34m\u001b[0m\u001b[0m\n\u001b[0m",
      "\u001b[0;31mImportError\u001b[0m: No module named 'sympy'"
     ]
    }
   ],
   "source": [
    "import numpy as np\n",
    "import sympy as sym\n"
   ]
  },
  {
   "cell_type": "code",
   "execution_count": 2,
   "metadata": {},
   "outputs": [],
   "source": [
    "sym.init_printing()"
   ]
  },
  {
   "cell_type": "code",
   "execution_count": 3,
   "metadata": {},
   "outputs": [],
   "source": [
    "X = sym.Matrix(sym.MatrixSymbol(\"x\",3,3))"
   ]
  },
  {
   "cell_type": "code",
   "execution_count": 4,
   "metadata": {},
   "outputs": [],
   "source": [
    "Y = sym.Matrix(sym.MatrixSymbol(\"y\",3,1))"
   ]
  },
  {
   "cell_type": "code",
   "execution_count": 5,
   "metadata": {},
   "outputs": [],
   "source": [
    "w = sym.symbols(\"w\")"
   ]
  },
  {
   "cell_type": "code",
   "execution_count": 6,
   "metadata": {},
   "outputs": [
    {
     "data": {
      "image/png": "[encoded data removed]",
      "text/latex": [
       "$$\\left ( \\left[\\begin{array}{ccc}x_{0, 0} & x_{0, 1} & x_{0, 2}\\\\x_{1, 0} & x_{1, 1} & x_{1, 2}\\\\x_{2, 0} & x_{2, 1} & x_{2, 2}\\end{array}\\right], \\quad \\left[\\begin{array}{c}y_{0, 0}\\\\y_{1, 0}\\\\y_{2, 0}\\end{array}\\right]\\right )$$"
      ],
      "text/plain": [
       "⎛⎡x₀₀  x₀₁  x₀₂⎤  ⎡y₀₀⎤⎞\n",
       "⎜⎢             ⎥  ⎢   ⎥⎟\n",
       "⎜⎢x₁₀  x₁₁  x₁₂⎥, ⎢y₁₀⎥⎟\n",
       "⎜⎢             ⎥  ⎢   ⎥⎟\n",
       "⎝⎣x₂₀  x₂₁  x₂₂⎦  ⎣y₂₀⎦⎠"
      ]
     },
     "execution_count": 6,
     "metadata": {},
     "output_type": "execute_result"
    }
   ],
   "source": [
    "X, Y"
   ]
  },
  {
   "cell_type": "code",
   "execution_count": 7,
   "metadata": {},
   "outputs": [],
   "source": [
    "X[2,:] = X[1,:]\n",
    "X[2,2] = X[1,1]\n",
    "X[1,2] = w\n",
    "X[2,1] = w\n",
    "X[0,1] = X[1,0]\n",
    "X[0,2] = X[0,1]\n",
    "\n",
    "Y[2,0] = Y[1,0]"
   ]
  },
  {
   "cell_type": "code",
   "execution_count": 8,
   "metadata": {},
   "outputs": [
    {
     "data": {
      "image/png": "[encoded data removed]",
      "text/latex": [
       "$$\\left ( \\left[\\begin{array}{ccc}x_{0, 0} & x_{1, 0} & x_{1, 0}\\\\x_{1, 0} & x_{1, 1} & w\\\\x_{1, 0} & w & x_{1, 1}\\end{array}\\right], \\quad \\left[\\begin{array}{c}y_{0, 0}\\\\y_{1, 0}\\\\y_{1, 0}\\end{array}\\right]\\right )$$"
      ],
      "text/plain": [
       "⎛⎡x₀₀  x₁₀  x₁₀⎤  ⎡y₀₀⎤⎞\n",
       "⎜⎢             ⎥  ⎢   ⎥⎟\n",
       "⎜⎢x₁₀  x₁₁   w ⎥, ⎢y₁₀⎥⎟\n",
       "⎜⎢             ⎥  ⎢   ⎥⎟\n",
       "⎝⎣x₁₀   w   x₁₁⎦  ⎣y₁₀⎦⎠"
      ]
     },
     "execution_count": 8,
     "metadata": {},
     "output_type": "execute_result"
    }
   ],
   "source": [
    "X, Y"
   ]
  },
  {
   "cell_type": "code",
   "execution_count": 9,
   "metadata": {},
   "outputs": [],
   "source": [
    "X_inv = X.inv()"
   ]
  },
  {
   "cell_type": "code",
   "execution_count": 10,
   "metadata": {},
   "outputs": [],
   "source": [
    "X_inv_simp = sym.simplify(X_inv)"
   ]
  },
  {
   "cell_type": "code",
   "execution_count": 11,
   "metadata": {},
   "outputs": [
    {
     "data": {
      "image/png": "[encoded data removed]",
      "text/latex": [
       "$$\\left[\\begin{matrix}\\frac{w + x_{1, 1}}{w x_{0, 0} + x_{0, 0} x_{1, 1} - 2 x_{1, 0}^{2}} & - \\frac{x_{1, 0}}{w x_{0, 0} + x_{0, 0} x_{1, 1} - 2 x_{1, 0}^{2}} & - \\frac{x_{1, 0}}{w x_{0, 0} + x_{0, 0} x_{1, 1} - 2 x_{1, 0}^{2}}\\\\- \\frac{x_{1, 0}}{w x_{0, 0} + x_{0, 0} x_{1, 1} - 2 x_{1, 0}^{2}} & - \\frac{\\left(x_{0, 0} x_{1, 1} - x_{1, 0}^{2}\\right) x_{0, 0}}{\\left(w x_{0, 0} - x_{1, 0}^{2}\\right)^{2} - \\left(x_{0, 0} x_{1, 1} - x_{1, 0}^{2}\\right)^{2}} & \\frac{\\left(w x_{0, 0} - x_{1, 0}^{2}\\right) x_{0, 0}}{\\left(w x_{0, 0} - x_{1, 0}^{2}\\right)^{2} - \\left(x_{0, 0} x_{1, 1} - x_{1, 0}^{2}\\right)^{2}}\\\\- \\frac{x_{1, 0}}{w x_{0, 0} + x_{0, 0} x_{1, 1} - 2 x_{1, 0}^{2}} & \\frac{\\left(w x_{0, 0} - x_{1, 0}^{2}\\right) x_{0, 0}}{\\left(w x_{0, 0} - x_{1, 0}^{2}\\right)^{2} - \\left(x_{0, 0} x_{1, 1} - x_{1, 0}^{2}\\right)^{2}} & - \\frac{\\left(x_{0, 0} x_{1, 1} - x_{1, 0}^{2}\\right) x_{0, 0}}{\\left(w x_{0, 0} - x_{1, 0}^{2}\\right)^{2} - \\left(x_{0, 0} x_{1, 1} - x_{1, 0}^{2}\\right)^{2}}\\end{matrix}\\right]$$"
      ],
      "text/plain": [
       "⎡        w + x₁₁                         -x₁₀                                 \n",
       "⎢────────────────────────       ────────────────────────             ─────────\n",
       "⎢                       2                              2                      \n",
       "⎢w⋅x₀₀ + x₀₀⋅x₁₁ - 2⋅x₁₀        w⋅x₀₀ + x₀₀⋅x₁₁ - 2⋅x₁₀              w⋅x₀₀ + x\n",
       "⎢                                                                             \n",
       "⎢                                  ⎛             2⎞                      ⎛    \n",
       "⎢         -x₁₀                    -⎝x₀₀⋅x₁₁ - x₁₀ ⎠⋅x₀₀                  ⎝w⋅x₀\n",
       "⎢────────────────────────  ───────────────────────────────────  ──────────────\n",
       "⎢                       2                2                   2                \n",
       "⎢w⋅x₀₀ + x₀₀⋅x₁₁ - 2⋅x₁₀   ⎛           2⎞    ⎛             2⎞   ⎛           2⎞\n",
       "⎢                          ⎝w⋅x₀₀ - x₁₀ ⎠  - ⎝x₀₀⋅x₁₁ - x₁₀ ⎠   ⎝w⋅x₀₀ - x₁₀ ⎠\n",
       "⎢                                                                             \n",
       "⎢                                   ⎛           2⎞                      ⎛     \n",
       "⎢         -x₁₀                      ⎝w⋅x₀₀ - x₁₀ ⎠⋅x₀₀                 -⎝x₀₀⋅x\n",
       "⎢────────────────────────  ───────────────────────────────────  ──────────────\n",
       "⎢                       2                2                   2                \n",
       "⎢w⋅x₀₀ + x₀₀⋅x₁₁ - 2⋅x₁₀   ⎛           2⎞    ⎛             2⎞   ⎛           2⎞\n",
       "⎣                          ⎝w⋅x₀₀ - x₁₀ ⎠  - ⎝x₀₀⋅x₁₁ - x₁₀ ⎠   ⎝w⋅x₀₀ - x₁₀ ⎠\n",
       "\n",
       "-x₁₀                 ⎤\n",
       "───────────────      ⎥\n",
       "              2      ⎥\n",
       "₀₀⋅x₁₁ - 2⋅x₁₀       ⎥\n",
       "                     ⎥\n",
       "       2⎞            ⎥\n",
       "₀ - x₁₀ ⎠⋅x₀₀        ⎥\n",
       "─────────────────────⎥\n",
       "2                   2⎥\n",
       "    ⎛             2⎞ ⎥\n",
       "  - ⎝x₀₀⋅x₁₁ - x₁₀ ⎠ ⎥\n",
       "                     ⎥\n",
       "        2⎞           ⎥\n",
       "₁₁ - x₁₀ ⎠⋅x₀₀       ⎥\n",
       "─────────────────────⎥\n",
       "2                   2⎥\n",
       "    ⎛             2⎞ ⎥\n",
       "  - ⎝x₀₀⋅x₁₁ - x₁₀ ⎠ ⎦"
      ]
     },
     "execution_count": 11,
     "metadata": {},
     "output_type": "execute_result"
    }
   ],
   "source": [
    "X_inv_simp"
   ]
  },
  {
   "cell_type": "code",
   "execution_count": 12,
   "metadata": {},
   "outputs": [],
   "source": [
    "dot = Y.T*X_inv_simp*Y"
   ]
  },
  {
   "cell_type": "code",
   "execution_count": 13,
   "metadata": {},
   "outputs": [],
   "source": [
    "dot = sym.simplify(dot)"
   ]
  },
  {
   "cell_type": "code",
   "execution_count": 14,
   "metadata": {},
   "outputs": [
    {
     "data": {
      "image/png": "[encoded data removed]",
      "text/latex": [
       "$$\\left[\\begin{matrix}\\frac{w y_{0, 0}^{2} + 2 x_{0, 0} y_{1, 0}^{2} - 4 x_{1, 0} y_{0, 0} y_{1, 0} + x_{1, 1} y_{0, 0}^{2}}{w x_{0, 0} + x_{0, 0} x_{1, 1} - 2 x_{1, 0}^{2}}\\end{matrix}\\right]$$"
      ],
      "text/plain": [
       "⎡     2            2                          2⎤\n",
       "⎢w⋅y₀₀  + 2⋅x₀₀⋅y₁₀  - 4⋅x₁₀⋅y₀₀⋅y₁₀ + x₁₁⋅y₀₀ ⎥\n",
       "⎢──────────────────────────────────────────────⎥\n",
       "⎢                                  2           ⎥\n",
       "⎣           w⋅x₀₀ + x₀₀⋅x₁₁ - 2⋅x₁₀            ⎦"
      ]
     },
     "execution_count": 14,
     "metadata": {},
     "output_type": "execute_result"
    }
   ],
   "source": [
    "dot"
   ]
  },
  {
   "cell_type": "code",
   "execution_count": 15,
   "metadata": {},
   "outputs": [
    {
     "data": {
      "image/png": "[encoded data removed]",
      "text/latex": [
       "$$\\left[\\begin{matrix}y_{0, 0}\\\\y_{1, 0}\\end{matrix}\\right]$$"
      ],
      "text/plain": [
       "⎡y₀₀⎤\n",
       "⎢   ⎥\n",
       "⎣y₁₀⎦"
      ]
     },
     "execution_count": 15,
     "metadata": {},
     "output_type": "execute_result"
    }
   ],
   "source": [
    "Y[:2,:]"
   ]
  },
  {
   "cell_type": "code",
   "execution_count": 16,
   "metadata": {},
   "outputs": [],
   "source": [
    "unw_dot = sym.simplify(Y[:2,:].T*sym.simplify(X[:2,:2].inv())*Y[:2,:])"
   ]
  },
  {
   "cell_type": "code",
   "execution_count": 17,
   "metadata": {},
   "outputs": [
    {
     "data": {
      "image/png": "[encoded data removed]",
      "text/latex": [
       "$$\\left[\\begin{matrix}\\frac{\\left(x_{0, 0} y_{1, 0} - x_{1, 0} y_{0, 0}\\right) y_{1, 0} - \\left(x_{1, 0} y_{1, 0} - x_{1, 1} y_{0, 0}\\right) y_{0, 0}}{x_{0, 0} x_{1, 1} - x_{1, 0}^{2}}\\end{matrix}\\right]$$"
      ],
      "text/plain": [
       "⎡(x₀₀⋅y₁₀ - x₁₀⋅y₀₀)⋅y₁₀ - (x₁₀⋅y₁₀ - x₁₁⋅y₀₀)⋅y₀₀⎤\n",
       "⎢─────────────────────────────────────────────────⎥\n",
       "⎢                               2                 ⎥\n",
       "⎣                  x₀₀⋅x₁₁ - x₁₀                  ⎦"
      ]
     },
     "execution_count": 17,
     "metadata": {},
     "output_type": "execute_result"
    }
   ],
   "source": [
    "unw_dot"
   ]
  },
  {
   "cell_type": "code",
   "execution_count": 18,
   "metadata": {},
   "outputs": [],
   "source": [
    "n,d = sym.fraction(dot[0,0])"
   ]
  },
  {
   "cell_type": "code",
   "execution_count": 19,
   "metadata": {},
   "outputs": [],
   "source": [
    "unw_n, unw_d = sym.fraction(unw_dot[0,0])"
   ]
  },
  {
   "cell_type": "code",
   "execution_count": 20,
   "metadata": {},
   "outputs": [
    {
     "data": {
      "image/png": "[encoded data removed]",
      "text/latex": [
       "$$\\frac{w x_{0, 0} + x_{0, 0} x_{1, 1} - 2 x_{1, 0}^{2}}{x_{0, 0} x_{1, 1} - x_{1, 0}^{2}}$$"
      ],
      "text/plain": [
       "                       2\n",
       "w⋅x₀₀ + x₀₀⋅x₁₁ - 2⋅x₁₀ \n",
       "────────────────────────\n",
       "                  2     \n",
       "     x₀₀⋅x₁₁ - x₁₀      "
      ]
     },
     "execution_count": 20,
     "metadata": {},
     "output_type": "execute_result"
    }
   ],
   "source": [
    "sym.simplify(d/unw_d)"
   ]
  },
  {
   "cell_type": "code",
   "execution_count": 21,
   "metadata": {},
   "outputs": [
    {
     "data": {
      "image/png": "[encoded data removed]",
      "text/latex": [
       "$$w x_{0, 0} + x_{0, 0} x_{1, 1} - 2 x_{1, 0}^{2}$$"
      ],
      "text/plain": [
       "                       2\n",
       "w⋅x₀₀ + x₀₀⋅x₁₁ - 2⋅x₁₀ "
      ]
     },
     "execution_count": 21,
     "metadata": {},
     "output_type": "execute_result"
    }
   ],
   "source": [
    "sym.factor(d)"
   ]
  },
  {
   "cell_type": "code",
   "execution_count": 22,
   "metadata": {},
   "outputs": [
    {
     "data": {
      "image/png": "[encoded data removed]",
      "text/latex": [
       "$$\\frac{w y_{0, 0}^{2} + 2 x_{0, 0} y_{1, 0}^{2} - 4 x_{1, 0} y_{0, 0} y_{1, 0} + x_{1, 1} y_{0, 0}^{2}}{\\left(x_{0, 0} y_{1, 0} - x_{1, 0} y_{0, 0}\\right) y_{1, 0} - \\left(x_{1, 0} y_{1, 0} - x_{1, 1} y_{0, 0}\\right) y_{0, 0}}$$"
      ],
      "text/plain": [
       "       2            2                          2 \n",
       "  w⋅y₀₀  + 2⋅x₀₀⋅y₁₀  - 4⋅x₁₀⋅y₀₀⋅y₁₀ + x₁₁⋅y₀₀  \n",
       "─────────────────────────────────────────────────\n",
       "(x₀₀⋅y₁₀ - x₁₀⋅y₀₀)⋅y₁₀ - (x₁₀⋅y₁₀ - x₁₁⋅y₀₀)⋅y₀₀"
      ]
     },
     "execution_count": 22,
     "metadata": {},
     "output_type": "execute_result"
    }
   ],
   "source": [
    "sym.simplify(n/unw_n)"
   ]
  },
  {
   "cell_type": "code",
   "execution_count": 23,
   "metadata": {},
   "outputs": [
    {
     "data": {
      "image/png": "[encoded data removed]",
      "text/latex": [
       "$$w y_{0, 0}^{2} + x_{0, 0} y_{1, 0}^{2} - 2 x_{1, 0} y_{0, 0} y_{1, 0}$$"
      ],
      "text/plain": [
       "     2          2                \n",
       "w⋅y₀₀  + x₀₀⋅y₁₀  - 2⋅x₁₀⋅y₀₀⋅y₁₀"
      ]
     },
     "execution_count": 23,
     "metadata": {},
     "output_type": "execute_result"
    }
   ],
   "source": [
    "sym.simplify(n-unw_n)"
   ]
  },
  {
   "cell_type": "code",
   "execution_count": 24,
   "metadata": {},
   "outputs": [],
   "source": [
    "blah = sym.simplify(dot[0,0].subs(w,0))"
   ]
  },
  {
   "cell_type": "code",
   "execution_count": 25,
   "metadata": {},
   "outputs": [
    {
     "data": {
      "image/png": "[encoded data removed]",
      "text/latex": [
       "$$\\frac{2 x_{0, 0} y_{1, 0}^{2} - 4 x_{1, 0} y_{0, 0} y_{1, 0} + x_{1, 1} y_{0, 0}^{2}}{x_{0, 0} x_{1, 1} - 2 x_{1, 0}^{2}}$$"
      ],
      "text/plain": [
       "         2                          2\n",
       "2⋅x₀₀⋅y₁₀  - 4⋅x₁₀⋅y₀₀⋅y₁₀ + x₁₁⋅y₀₀ \n",
       "─────────────────────────────────────\n",
       "                          2          \n",
       "           x₀₀⋅x₁₁ - 2⋅x₁₀           "
      ]
     },
     "execution_count": 25,
     "metadata": {},
     "output_type": "execute_result"
    }
   ],
   "source": [
    "blah"
   ]
  },
  {
   "cell_type": "code",
   "execution_count": 26,
   "metadata": {},
   "outputs": [
    {
     "data": {
      "image/png": "[encoded data removed]",
      "text/latex": [
       "$$\\frac{x_{0, 0} y_{1, 0}^{2} - 2 x_{1, 0} y_{0, 0} y_{1, 0} + x_{1, 1} y_{0, 0}^{2}}{x_{0, 0} x_{1, 1} - x_{1, 0}^{2}}$$"
      ],
      "text/plain": [
       "       2                          2\n",
       "x₀₀⋅y₁₀  - 2⋅x₁₀⋅y₀₀⋅y₁₀ + x₁₁⋅y₀₀ \n",
       "───────────────────────────────────\n",
       "                        2          \n",
       "           x₀₀⋅x₁₁ - x₁₀           "
      ]
     },
     "execution_count": 26,
     "metadata": {},
     "output_type": "execute_result"
    }
   ],
   "source": [
    "sym.simplify(sym.expand(unw_dot[0,0]))"
   ]
  },
  {
   "cell_type": "code",
   "execution_count": 27,
   "metadata": {},
   "outputs": [
    {
     "data": {
      "image/png": "[encoded data removed]",
      "text/latex": [
       "$$\\frac{2 x_{0, 0} y_{1, 0}^{2} - 4 x_{1, 0} y_{0, 0} y_{1, 0} + x_{1, 1} y_{0, 0}^{2}}{x_{0, 0} x_{1, 1} - 2 x_{1, 0}^{2}}$$"
      ],
      "text/plain": [
       "         2                          2\n",
       "2⋅x₀₀⋅y₁₀  - 4⋅x₁₀⋅y₀₀⋅y₁₀ + x₁₁⋅y₀₀ \n",
       "─────────────────────────────────────\n",
       "                          2          \n",
       "           x₀₀⋅x₁₁ - 2⋅x₁₀           "
      ]
     },
     "execution_count": 27,
     "metadata": {},
     "output_type": "execute_result"
    }
   ],
   "source": [
    "sym.simplify(unw_dot[0,0].subs(X[1,0],X[1,0]*sym.sqrt(2)).subs(Y[1,0],Y[1,0]*sym.sqrt(2)))"
   ]
  },
  {
   "cell_type": "code",
   "execution_count": 28,
   "metadata": {},
   "outputs": [
    {
     "data": {
      "image/png": "[encoded data removed]",
      "text/latex": [
       "$$\\frac{2 x_{0, 0} y_{1, 0}^{2} - 4 x_{1, 0} y_{0, 0} y_{1, 0} + x_{1, 1} y_{0, 0}^{2}}{x_{0, 0} x_{1, 1} - 2 x_{1, 0}^{2}}$$"
      ],
      "text/plain": [
       "         2                          2\n",
       "2⋅x₀₀⋅y₁₀  - 4⋅x₁₀⋅y₀₀⋅y₁₀ + x₁₁⋅y₀₀ \n",
       "─────────────────────────────────────\n",
       "                          2          \n",
       "           x₀₀⋅x₁₁ - 2⋅x₁₀           "
      ]
     },
     "execution_count": 28,
     "metadata": {},
     "output_type": "execute_result"
    }
   ],
   "source": [
    "blah"
   ]
  },
  {
   "cell_type": "code",
   "execution_count": 29,
   "metadata": {},
   "outputs": [],
   "source": [
    "unw_X, unw_Y = X[:2,:2], Y[:2,0]"
   ]
  },
  {
   "cell_type": "code",
   "execution_count": 30,
   "metadata": {},
   "outputs": [
    {
     "data": {
      "image/png": "[encoded data removed]",
      "text/latex": [
       "$$\\left[\\begin{matrix}y_{0, 0}\\\\y_{1, 0}\\end{matrix}\\right]$$"
      ],
      "text/plain": [
       "⎡y₀₀⎤\n",
       "⎢   ⎥\n",
       "⎣y₁₀⎦"
      ]
     },
     "execution_count": 30,
     "metadata": {},
     "output_type": "execute_result"
    }
   ],
   "source": [
    "unw_Y"
   ]
  },
  {
   "cell_type": "code",
   "execution_count": 31,
   "metadata": {},
   "outputs": [],
   "source": [
    "#unw_X = unw_X/2"
   ]
  },
  {
   "cell_type": "code",
   "execution_count": 32,
   "metadata": {},
   "outputs": [],
   "source": [
    "unw_X[1,1] /= 2"
   ]
  },
  {
   "cell_type": "code",
   "execution_count": 33,
   "metadata": {},
   "outputs": [
    {
     "data": {
      "image/png": "[encoded data removed]",
      "text/latex": [
       "$$\\left[\\begin{matrix}x_{0, 0} & x_{1, 0}\\\\x_{1, 0} & \\frac{x_{1, 1}}{2}\\end{matrix}\\right]$$"
      ],
      "text/plain": [
       "⎡x₀₀  x₁₀⎤\n",
       "⎢        ⎥\n",
       "⎢     x₁₁⎥\n",
       "⎢x₁₀  ───⎥\n",
       "⎣      2 ⎦"
      ]
     },
     "execution_count": 33,
     "metadata": {},
     "output_type": "execute_result"
    }
   ],
   "source": [
    "unw_X"
   ]
  },
  {
   "cell_type": "code",
   "execution_count": 34,
   "metadata": {},
   "outputs": [
    {
     "data": {
      "image/png": "[encoded data removed]",
      "text/latex": [
       "$$\\frac{2 x_{0, 0} y_{1, 0}^{2} - 4 x_{1, 0} y_{0, 0} y_{1, 0} + x_{1, 1} y_{0, 0}^{2}}{x_{0, 0} x_{1, 1} - 2 x_{1, 0}^{2}}$$"
      ],
      "text/plain": [
       "         2                          2\n",
       "2⋅x₀₀⋅y₁₀  - 4⋅x₁₀⋅y₀₀⋅y₁₀ + x₁₁⋅y₀₀ \n",
       "─────────────────────────────────────\n",
       "                          2          \n",
       "           x₀₀⋅x₁₁ - 2⋅x₁₀           "
      ]
     },
     "execution_count": 34,
     "metadata": {},
     "output_type": "execute_result"
    }
   ],
   "source": [
    "sym.simplify(unw_Y.T*sym.simplify(unw_X.inv())*unw_Y)[0,0]"
   ]
  },
  {
   "cell_type": "code",
   "execution_count": 35,
   "metadata": {},
   "outputs": [
    {
     "data": {
      "image/png": "[encoded data removed]",
      "text/latex": [
       "$$\\frac{2 x_{0, 0} y_{1, 0}^{2} - 4 x_{1, 0} y_{0, 0} y_{1, 0} + x_{1, 1} y_{0, 0}^{2}}{x_{0, 0} x_{1, 1} - 2 x_{1, 0}^{2}}$$"
      ],
      "text/plain": [
       "         2                          2\n",
       "2⋅x₀₀⋅y₁₀  - 4⋅x₁₀⋅y₀₀⋅y₁₀ + x₁₁⋅y₀₀ \n",
       "─────────────────────────────────────\n",
       "                          2          \n",
       "           x₀₀⋅x₁₁ - 2⋅x₁₀           "
      ]
     },
     "execution_count": 35,
     "metadata": {},
     "output_type": "execute_result"
    }
   ],
   "source": [
    "blah"
   ]
  },
  {
   "cell_type": "code",
   "execution_count": null,
   "metadata": {},
   "outputs": [],
   "source": []
  },
  {
   "cell_type": "code",
   "execution_count": null,
   "metadata": {},
   "outputs": [],
   "source": []
  },
  {
   "cell_type": "code",
   "execution_count": 67,
   "metadata": {},
   "outputs": [],
   "source": [
    "X = sym.Matrix(sym.MatrixSymbol(\"x\",4,4))\n",
    "Y = sym.Matrix(sym.MatrixSymbol(\"y\",4,1))\n",
    "w = sym.symbols(\"w\")"
   ]
  },
  {
   "cell_type": "code",
   "execution_count": 68,
   "metadata": {},
   "outputs": [],
   "source": [
    "X[0,3] = X[0,2]\n",
    "X[1,3] = X[1,2]\n",
    "X[2,3] = w\n",
    "X[3,3] = X[2,2]\n",
    "\n",
    "for i in range(X.shape[0]):\n",
    "    for j in range(i,X.shape[1]):\n",
    "        X[j,i] = X[i,j]\n",
    "\n",
    "Y[3,0] = Y[2,0]"
   ]
  },
  {
   "cell_type": "code",
   "execution_count": 69,
   "metadata": {},
   "outputs": [
    {
     "data": {
      "image/png": "[encoded data removed]",
      "text/latex": [
       "$$\\left ( \\left[\\begin{array}{cccc}x_{0, 0} & x_{0, 1} & x_{0, 2} & x_{0, 2}\\\\x_{0, 1} & x_{1, 1} & x_{1, 2} & x_{1, 2}\\\\x_{0, 2} & x_{1, 2} & x_{2, 2} & w\\\\x_{0, 2} & x_{1, 2} & w & x_{2, 2}\\end{array}\\right], \\quad \\left[\\begin{array}{c}y_{0, 0}\\\\y_{1, 0}\\\\y_{2, 0}\\\\y_{2, 0}\\end{array}\\right]\\right )$$"
      ],
      "text/plain": [
       "⎛⎡x₀₀  x₀₁  x₀₂  x₀₂⎤  ⎡y₀₀⎤⎞\n",
       "⎜⎢                  ⎥  ⎢   ⎥⎟\n",
       "⎜⎢x₀₁  x₁₁  x₁₂  x₁₂⎥  ⎢y₁₀⎥⎟\n",
       "⎜⎢                  ⎥, ⎢   ⎥⎟\n",
       "⎜⎢x₀₂  x₁₂  x₂₂   w ⎥  ⎢y₂₀⎥⎟\n",
       "⎜⎢                  ⎥  ⎢   ⎥⎟\n",
       "⎝⎣x₀₂  x₁₂   w   x₂₂⎦  ⎣y₂₀⎦⎠"
      ]
     },
     "execution_count": 69,
     "metadata": {},
     "output_type": "execute_result"
    }
   ],
   "source": [
    "X,Y"
   ]
  },
  {
   "cell_type": "code",
   "execution_count": 78,
   "metadata": {},
   "outputs": [],
   "source": [
    "X_inv = sym.simplify(X.inv())"
   ]
  },
  {
   "cell_type": "code",
   "execution_count": 79,
   "metadata": {},
   "outputs": [],
   "source": [
    "dot = sym.simplify(Y.T * X_inv * Y)"
   ]
  },
  {
   "cell_type": "code",
   "execution_count": 80,
   "metadata": {},
   "outputs": [
    {
     "data": {
      "image/png": "[encoded data removed]",
      "text/latex": [
       "$$\\frac{- 2 x_{0, 0} x_{1, 1} y_{2, 0}^{2} + 4 x_{0, 0} x_{1, 2} y_{1, 0} y_{2, 0} - x_{0, 0} x_{2, 2} y_{1, 0}^{2} + 2 x_{0, 1}^{2} y_{2, 0}^{2} - 4 x_{0, 1} x_{0, 2} y_{1, 0} y_{2, 0} - 4 x_{0, 1} x_{1, 2} y_{0, 0} y_{2, 0} + 2 x_{0, 1} x_{2, 2} y_{0, 0} y_{1, 0} + 2 x_{0, 2}^{2} y_{1, 0}^{2} + 4 x_{0, 2} x_{1, 1} y_{0, 0} y_{2, 0} - 4 x_{0, 2} x_{1, 2} y_{0, 0} y_{1, 0} - x_{1, 1} x_{2, 2} y_{0, 0}^{2} + 2 x_{1, 2}^{2} y_{0, 0}^{2}}{- x_{0, 0} x_{1, 1} x_{2, 2} + 2 x_{0, 0} x_{1, 2}^{2} + x_{0, 1}^{2} x_{2, 2} - 4 x_{0, 1} x_{0, 2} x_{1, 2} + 2 x_{0, 2}^{2} x_{1, 1}}$$"
      ],
      "text/plain": [
       "               2                                  2        2    2             \n",
       "- 2⋅x₀₀⋅x₁₁⋅y₂₀  + 4⋅x₀₀⋅x₁₂⋅y₁₀⋅y₂₀ - x₀₀⋅x₂₂⋅y₁₀  + 2⋅x₀₁ ⋅y₂₀  - 4⋅x₀₁⋅x₀₂⋅\n",
       "──────────────────────────────────────────────────────────────────────────────\n",
       "                                                                              \n",
       "                                                                       -x₀₀⋅x₁\n",
       "\n",
       "                                                       2    2                 \n",
       "y₁₀⋅y₂₀ - 4⋅x₀₁⋅x₁₂⋅y₀₀⋅y₂₀ + 2⋅x₀₁⋅x₂₂⋅y₀₀⋅y₁₀ + 2⋅x₀₂ ⋅y₁₀  + 4⋅x₀₂⋅x₁₁⋅y₀₀⋅\n",
       "──────────────────────────────────────────────────────────────────────────────\n",
       "                 2      2                            2                        \n",
       "₁⋅x₂₂ + 2⋅x₀₀⋅x₁₂  + x₀₁ ⋅x₂₂ - 4⋅x₀₁⋅x₀₂⋅x₁₂ + 2⋅x₀₂ ⋅x₁₁                    \n",
       "\n",
       "                                     2        2    2\n",
       "y₂₀ - 4⋅x₀₂⋅x₁₂⋅y₀₀⋅y₁₀ - x₁₁⋅x₂₂⋅y₀₀  + 2⋅x₁₂ ⋅y₀₀ \n",
       "────────────────────────────────────────────────────\n",
       "                                                    \n",
       "                                                    "
      ]
     },
     "execution_count": 80,
     "metadata": {},
     "output_type": "execute_result"
    }
   ],
   "source": [
    "sym.simplify(dot.subs(w,0))[0,0]"
   ]
  },
  {
   "cell_type": "code",
   "execution_count": 129,
   "metadata": {},
   "outputs": [],
   "source": [
    "w_X, w_Y = X[:3,:3], Y[:3,:]"
   ]
  },
  {
   "cell_type": "code",
   "execution_count": 130,
   "metadata": {},
   "outputs": [],
   "source": [
    "w_X[2,2] /= 2"
   ]
  },
  {
   "cell_type": "code",
   "execution_count": 131,
   "metadata": {},
   "outputs": [],
   "source": [
    "w_X_inv = sym.simplify(w_X.inv())"
   ]
  },
  {
   "cell_type": "code",
   "execution_count": null,
   "metadata": {},
   "outputs": [],
   "source": []
  },
  {
   "cell_type": "code",
   "execution_count": 132,
   "metadata": {},
   "outputs": [],
   "source": [
    "w_dot = sym.simplify(w_Y.T * w_X_inv * w_Y)"
   ]
  },
  {
   "cell_type": "code",
   "execution_count": 133,
   "metadata": {},
   "outputs": [
    {
     "data": {
      "image/png": "[encoded data removed]",
      "text/latex": [
       "$$\\frac{- 4 x_{0, 0} x_{1, 1} y_{2, 0}^{2} + 8 x_{0, 0} x_{1, 2} y_{1, 0} y_{2, 0} - x_{0, 0} x_{2, 2} y_{1, 0}^{2} + 4 x_{0, 1}^{2} y_{2, 0}^{2} - 8 x_{0, 1} x_{0, 2} y_{1, 0} y_{2, 0} - 8 x_{0, 1} x_{1, 2} y_{0, 0} y_{2, 0} + 2 x_{0, 1} x_{2, 2} y_{0, 0} y_{1, 0} + 4 x_{0, 2}^{2} y_{1, 0}^{2} + 8 x_{0, 2} x_{1, 1} y_{0, 0} y_{2, 0} - 8 x_{0, 2} x_{1, 2} y_{0, 0} y_{1, 0} - x_{1, 1} x_{2, 2} y_{0, 0}^{2} + 4 x_{1, 2}^{2} y_{0, 0}^{2}}{- x_{0, 0} x_{1, 1} x_{2, 2} + 4 x_{0, 0} x_{1, 2}^{2} + x_{0, 1}^{2} x_{2, 2} - 8 x_{0, 1} x_{0, 2} x_{1, 2} + 4 x_{0, 2}^{2} x_{1, 1}}$$"
      ],
      "text/plain": [
       "               2                                  2        2    2             \n",
       "- 4⋅x₀₀⋅x₁₁⋅y₂₀  + 8⋅x₀₀⋅x₁₂⋅y₁₀⋅y₂₀ - x₀₀⋅x₂₂⋅y₁₀  + 4⋅x₀₁ ⋅y₂₀  - 8⋅x₀₁⋅x₀₂⋅\n",
       "──────────────────────────────────────────────────────────────────────────────\n",
       "                                                                              \n",
       "                                                                       -x₀₀⋅x₁\n",
       "\n",
       "                                                       2    2                 \n",
       "y₁₀⋅y₂₀ - 8⋅x₀₁⋅x₁₂⋅y₀₀⋅y₂₀ + 2⋅x₀₁⋅x₂₂⋅y₀₀⋅y₁₀ + 4⋅x₀₂ ⋅y₁₀  + 8⋅x₀₂⋅x₁₁⋅y₀₀⋅\n",
       "──────────────────────────────────────────────────────────────────────────────\n",
       "                 2      2                            2                        \n",
       "₁⋅x₂₂ + 4⋅x₀₀⋅x₁₂  + x₀₁ ⋅x₂₂ - 8⋅x₀₁⋅x₀₂⋅x₁₂ + 4⋅x₀₂ ⋅x₁₁                    \n",
       "\n",
       "                                     2        2    2\n",
       "y₂₀ - 8⋅x₀₂⋅x₁₂⋅y₀₀⋅y₁₀ - x₁₁⋅x₂₂⋅y₀₀  + 4⋅x₁₂ ⋅y₀₀ \n",
       "────────────────────────────────────────────────────\n",
       "                                                    \n",
       "                                                    "
      ]
     },
     "execution_count": 133,
     "metadata": {},
     "output_type": "execute_result"
    }
   ],
   "source": [
    "sym.simplify(w_dot[0,0].subs(X[2,2],X[2,2]/2))"
   ]
  },
  {
   "cell_type": "code",
   "execution_count": 134,
   "metadata": {},
   "outputs": [
    {
     "data": {
      "image/png": "[encoded data removed]",
      "text/latex": [
       "$$\\left[\\begin{matrix}\\frac{- x_{1, 1} x_{2, 2} + 2 x_{1, 2}^{2}}{- x_{0, 0} x_{1, 1} x_{2, 2} + 2 x_{0, 0} x_{1, 2}^{2} + x_{0, 1}^{2} x_{2, 2} - 4 x_{0, 1} x_{0, 2} x_{1, 2} + 2 x_{0, 2}^{2} x_{1, 1}} & \\frac{x_{0, 1} x_{2, 2} - 2 x_{0, 2} x_{1, 2}}{- x_{0, 0} x_{1, 1} x_{2, 2} + 2 x_{0, 0} x_{1, 2}^{2} + x_{0, 1}^{2} x_{2, 2} - 4 x_{0, 1} x_{0, 2} x_{1, 2} + 2 x_{0, 2}^{2} x_{1, 1}} & \\frac{- x_{0, 1} x_{1, 2} + x_{0, 2} x_{1, 1}}{- x_{0, 0} x_{1, 1} x_{2, 2} + 2 x_{0, 0} x_{1, 2}^{2} + x_{0, 1}^{2} x_{2, 2} - 4 x_{0, 1} x_{0, 2} x_{1, 2} + 2 x_{0, 2}^{2} x_{1, 1}} & \\frac{- x_{0, 1} x_{1, 2} + x_{0, 2} x_{1, 1}}{- x_{0, 0} x_{1, 1} x_{2, 2} + 2 x_{0, 0} x_{1, 2}^{2} + x_{0, 1}^{2} x_{2, 2} - 4 x_{0, 1} x_{0, 2} x_{1, 2} + 2 x_{0, 2}^{2} x_{1, 1}}\\\\\\frac{x_{0, 1} x_{2, 2} - 2 x_{0, 2} x_{1, 2}}{- x_{0, 0} x_{1, 1} x_{2, 2} + 2 x_{0, 0} x_{1, 2}^{2} + x_{0, 1}^{2} x_{2, 2} - 4 x_{0, 1} x_{0, 2} x_{1, 2} + 2 x_{0, 2}^{2} x_{1, 1}} & \\frac{- x_{0, 0} x_{2, 2} + 2 x_{0, 2}^{2}}{- x_{0, 0} x_{1, 1} x_{2, 2} + 2 x_{0, 0} x_{1, 2}^{2} + x_{0, 1}^{2} x_{2, 2} - 4 x_{0, 1} x_{0, 2} x_{1, 2} + 2 x_{0, 2}^{2} x_{1, 1}} & \\frac{x_{0, 0} x_{1, 2} - x_{0, 1} x_{0, 2}}{- x_{0, 0} x_{1, 1} x_{2, 2} + 2 x_{0, 0} x_{1, 2}^{2} + x_{0, 1}^{2} x_{2, 2} - 4 x_{0, 1} x_{0, 2} x_{1, 2} + 2 x_{0, 2}^{2} x_{1, 1}} & \\frac{x_{0, 0} x_{1, 2} - x_{0, 1} x_{0, 2}}{- x_{0, 0} x_{1, 1} x_{2, 2} + 2 x_{0, 0} x_{1, 2}^{2} + x_{0, 1}^{2} x_{2, 2} - 4 x_{0, 1} x_{0, 2} x_{1, 2} + 2 x_{0, 2}^{2} x_{1, 1}}\\\\\\frac{- x_{0, 1} x_{1, 2} + x_{0, 2} x_{1, 1}}{- x_{0, 0} x_{1, 1} x_{2, 2} + 2 x_{0, 0} x_{1, 2}^{2} + x_{0, 1}^{2} x_{2, 2} - 4 x_{0, 1} x_{0, 2} x_{1, 2} + 2 x_{0, 2}^{2} x_{1, 1}} & \\frac{x_{0, 0} x_{1, 2} - x_{0, 1} x_{0, 2}}{- x_{0, 0} x_{1, 1} x_{2, 2} + 2 x_{0, 0} x_{1, 2}^{2} + x_{0, 1}^{2} x_{2, 2} - 4 x_{0, 1} x_{0, 2} x_{1, 2} + 2 x_{0, 2}^{2} x_{1, 1}} & \\frac{x_{0, 0} x_{1, 1} x_{2, 2} - x_{0, 0} x_{1, 2}^{2} - x_{0, 1}^{2} x_{2, 2} + 2 x_{0, 1} x_{0, 2} x_{1, 2} - x_{0, 2}^{2} x_{1, 1}}{\\left(x_{0, 0} x_{1, 1} x_{2, 2} - 2 x_{0, 0} x_{1, 2}^{2} - x_{0, 1}^{2} x_{2, 2} + 4 x_{0, 1} x_{0, 2} x_{1, 2} - 2 x_{0, 2}^{2} x_{1, 1}\\right) x_{2, 2}} & \\frac{x_{0, 0} x_{1, 2}^{2} - 2 x_{0, 1} x_{0, 2} x_{1, 2} + x_{0, 2}^{2} x_{1, 1}}{\\left(x_{0, 0} x_{1, 1} x_{2, 2} - 2 x_{0, 0} x_{1, 2}^{2} - x_{0, 1}^{2} x_{2, 2} + 4 x_{0, 1} x_{0, 2} x_{1, 2} - 2 x_{0, 2}^{2} x_{1, 1}\\right) x_{2, 2}}\\\\\\frac{- x_{0, 1} x_{1, 2} + x_{0, 2} x_{1, 1}}{- x_{0, 0} x_{1, 1} x_{2, 2} + 2 x_{0, 0} x_{1, 2}^{2} + x_{0, 1}^{2} x_{2, 2} - 4 x_{0, 1} x_{0, 2} x_{1, 2} + 2 x_{0, 2}^{2} x_{1, 1}} & \\frac{x_{0, 0} x_{1, 2} - x_{0, 1} x_{0, 2}}{- x_{0, 0} x_{1, 1} x_{2, 2} + 2 x_{0, 0} x_{1, 2}^{2} + x_{0, 1}^{2} x_{2, 2} - 4 x_{0, 1} x_{0, 2} x_{1, 2} + 2 x_{0, 2}^{2} x_{1, 1}} & \\frac{x_{0, 0} x_{1, 2}^{2} - 2 x_{0, 1} x_{0, 2} x_{1, 2} + x_{0, 2}^{2} x_{1, 1}}{\\left(x_{0, 0} x_{1, 1} x_{2, 2} - 2 x_{0, 0} x_{1, 2}^{2} - x_{0, 1}^{2} x_{2, 2} + 4 x_{0, 1} x_{0, 2} x_{1, 2} - 2 x_{0, 2}^{2} x_{1, 1}\\right) x_{2, 2}} & \\frac{x_{0, 0} x_{1, 1} x_{2, 2} - x_{0, 0} x_{1, 2}^{2} - x_{0, 1}^{2} x_{2, 2} + 2 x_{0, 1} x_{0, 2} x_{1, 2} - x_{0, 2}^{2} x_{1, 1}}{\\left(x_{0, 0} x_{1, 1} x_{2, 2} - 2 x_{0, 0} x_{1, 2}^{2} - x_{0, 1}^{2} x_{2, 2} + 4 x_{0, 1} x_{0, 2} x_{1, 2} - 2 x_{0, 2}^{2} x_{1, 1}\\right) x_{2, 2}}\\end{matrix}\\right]$$"
      ],
      "text/plain": [
       "⎡                                        2                                    \n",
       "⎢                        -x₁₁⋅x₂₂ + 2⋅x₁₂                                     \n",
       "⎢─────────────────────────────────────────────────────────────────  ──────────\n",
       "⎢                        2      2                            2                \n",
       "⎢-x₀₀⋅x₁₁⋅x₂₂ + 2⋅x₀₀⋅x₁₂  + x₀₁ ⋅x₂₂ - 4⋅x₀₁⋅x₀₂⋅x₁₂ + 2⋅x₀₂ ⋅x₁₁  -x₀₀⋅x₁₁⋅x\n",
       "⎢                                                                             \n",
       "⎢                                                                             \n",
       "⎢                       x₀₁⋅x₂₂ - 2⋅x₀₂⋅x₁₂                                   \n",
       "⎢─────────────────────────────────────────────────────────────────  ──────────\n",
       "⎢                        2      2                            2                \n",
       "⎢-x₀₀⋅x₁₁⋅x₂₂ + 2⋅x₀₀⋅x₁₂  + x₀₁ ⋅x₂₂ - 4⋅x₀₁⋅x₀₂⋅x₁₂ + 2⋅x₀₂ ⋅x₁₁  -x₀₀⋅x₁₁⋅x\n",
       "⎢                                                                             \n",
       "⎢                                                                             \n",
       "⎢                        -x₀₁⋅x₁₂ + x₀₂⋅x₁₁                                   \n",
       "⎢─────────────────────────────────────────────────────────────────  ──────────\n",
       "⎢                        2      2                            2                \n",
       "⎢-x₀₀⋅x₁₁⋅x₂₂ + 2⋅x₀₀⋅x₁₂  + x₀₁ ⋅x₂₂ - 4⋅x₀₁⋅x₀₂⋅x₁₂ + 2⋅x₀₂ ⋅x₁₁  -x₀₀⋅x₁₁⋅x\n",
       "⎢                                                                             \n",
       "⎢                                                                             \n",
       "⎢                        -x₀₁⋅x₁₂ + x₀₂⋅x₁₁                                   \n",
       "⎢─────────────────────────────────────────────────────────────────  ──────────\n",
       "⎢                        2      2                            2                \n",
       "⎣-x₀₀⋅x₁₁⋅x₂₂ + 2⋅x₀₀⋅x₁₂  + x₀₁ ⋅x₂₂ - 4⋅x₀₁⋅x₀₂⋅x₁₂ + 2⋅x₀₂ ⋅x₁₁  -x₀₀⋅x₁₁⋅x\n",
       "\n",
       "                                                                              \n",
       "             x₀₁⋅x₂₂ - 2⋅x₀₂⋅x₁₂                                              \n",
       "───────────────────────────────────────────────────────    ───────────────────\n",
       "              2      2                            2                           \n",
       "₂₂ + 2⋅x₀₀⋅x₁₂  + x₀₁ ⋅x₂₂ - 4⋅x₀₁⋅x₀₂⋅x₁₂ + 2⋅x₀₂ ⋅x₁₁    -x₀₀⋅x₁₁⋅x₂₂ + 2⋅x₀\n",
       "                                                                              \n",
       "                              2                                               \n",
       "              -x₀₀⋅x₂₂ + 2⋅x₀₂                                                \n",
       "───────────────────────────────────────────────────────    ───────────────────\n",
       "              2      2                            2                           \n",
       "₂₂ + 2⋅x₀₀⋅x₁₂  + x₀₁ ⋅x₂₂ - 4⋅x₀₁⋅x₀₂⋅x₁₂ + 2⋅x₀₂ ⋅x₁₁    -x₀₀⋅x₁₁⋅x₂₂ + 2⋅x₀\n",
       "                                                                              \n",
       "                                                                              \n",
       "              x₀₀⋅x₁₂ - x₀₁⋅x₀₂                               x₀₀⋅x₁₁⋅x₂₂ - x₀\n",
       "───────────────────────────────────────────────────────  ─────────────────────\n",
       "              2      2                            2      ⎛                    \n",
       "₂₂ + 2⋅x₀₀⋅x₁₂  + x₀₁ ⋅x₂₂ - 4⋅x₀₁⋅x₀₂⋅x₁₂ + 2⋅x₀₂ ⋅x₁₁  ⎝x₀₀⋅x₁₁⋅x₂₂ - 2⋅x₀₀⋅\n",
       "                                                                              \n",
       "                                                                              \n",
       "              x₀₀⋅x₁₂ - x₀₁⋅x₀₂                                           x₀₀⋅\n",
       "───────────────────────────────────────────────────────  ─────────────────────\n",
       "              2      2                            2      ⎛                    \n",
       "₂₂ + 2⋅x₀₀⋅x₁₂  + x₀₁ ⋅x₂₂ - 4⋅x₀₁⋅x₀₂⋅x₁₂ + 2⋅x₀₂ ⋅x₁₁  ⎝x₀₀⋅x₁₁⋅x₂₂ - 2⋅x₀₀⋅\n",
       "\n",
       "                                                                              \n",
       "     -x₀₁⋅x₁₂ + x₀₂⋅x₁₁                                                      -\n",
       "──────────────────────────────────────────────       ─────────────────────────\n",
       "     2      2                            2                                   2\n",
       "₀⋅x₁₂  + x₀₁ ⋅x₂₂ - 4⋅x₀₁⋅x₀₂⋅x₁₂ + 2⋅x₀₂ ⋅x₁₁       -x₀₀⋅x₁₁⋅x₂₂ + 2⋅x₀₀⋅x₁₂ \n",
       "                                                                              \n",
       "                                                                              \n",
       "     x₀₀⋅x₁₂ - x₀₁⋅x₀₂                                                       x\n",
       "──────────────────────────────────────────────       ─────────────────────────\n",
       "     2      2                            2                                   2\n",
       "₀⋅x₁₂  + x₀₁ ⋅x₂₂ - 4⋅x₀₁⋅x₀₂⋅x₁₂ + 2⋅x₀₂ ⋅x₁₁       -x₀₀⋅x₁₁⋅x₂₂ + 2⋅x₀₀⋅x₁₂ \n",
       "                                                                              \n",
       "     2      2                          2                                   2  \n",
       "₀⋅x₁₂  - x₀₁ ⋅x₂₂ + 2⋅x₀₁⋅x₀₂⋅x₁₂ - x₀₂ ⋅x₁₁                        x₀₀⋅x₁₂  -\n",
       "─────────────────────────────────────────────────  ───────────────────────────\n",
       "   2      2                            2    ⎞      ⎛                       2  \n",
       "x₁₂  - x₀₁ ⋅x₂₂ + 4⋅x₀₁⋅x₀₂⋅x₁₂ - 2⋅x₀₂ ⋅x₁₁⎠⋅x₂₂  ⎝x₀₀⋅x₁₁⋅x₂₂ - 2⋅x₀₀⋅x₁₂  -\n",
       "                                                                              \n",
       "   2                      2                                                  2\n",
       "x₁₂  - 2⋅x₀₁⋅x₀₂⋅x₁₂ + x₀₂ ⋅x₁₁                         x₀₀⋅x₁₁⋅x₂₂ - x₀₀⋅x₁₂ \n",
       "─────────────────────────────────────────────────  ───────────────────────────\n",
       "   2      2                            2    ⎞      ⎛                       2  \n",
       "x₁₂  - x₀₁ ⋅x₂₂ + 4⋅x₀₁⋅x₀₂⋅x₁₂ - 2⋅x₀₂ ⋅x₁₁⎠⋅x₂₂  ⎝x₀₀⋅x₁₁⋅x₂₂ - 2⋅x₀₀⋅x₁₂  -\n",
       "\n",
       "                                           ⎤\n",
       "x₀₁⋅x₁₂ + x₀₂⋅x₁₁                          ⎥\n",
       "────────────────────────────────────────   ⎥\n",
       "      2                            2       ⎥\n",
       " + x₀₁ ⋅x₂₂ - 4⋅x₀₁⋅x₀₂⋅x₁₂ + 2⋅x₀₂ ⋅x₁₁   ⎥\n",
       "                                           ⎥\n",
       "                                           ⎥\n",
       "₀₀⋅x₁₂ - x₀₁⋅x₀₂                           ⎥\n",
       "────────────────────────────────────────   ⎥\n",
       "      2                            2       ⎥\n",
       " + x₀₁ ⋅x₂₂ - 4⋅x₀₁⋅x₀₂⋅x₁₂ + 2⋅x₀₂ ⋅x₁₁   ⎥\n",
       "                                           ⎥\n",
       "                    2                      ⎥\n",
       " 2⋅x₀₁⋅x₀₂⋅x₁₂ + x₀₂ ⋅x₁₁                  ⎥\n",
       "───────────────────────────────────────────⎥\n",
       "    2                            2    ⎞    ⎥\n",
       " x₀₁ ⋅x₂₂ + 4⋅x₀₁⋅x₀₂⋅x₁₂ - 2⋅x₀₂ ⋅x₁₁⎠⋅x₂₂⎥\n",
       "                                           ⎥\n",
       "      2                          2         ⎥\n",
       " - x₀₁ ⋅x₂₂ + 2⋅x₀₁⋅x₀₂⋅x₁₂ - x₀₂ ⋅x₁₁     ⎥\n",
       "───────────────────────────────────────────⎥\n",
       "    2                            2    ⎞    ⎥\n",
       " x₀₁ ⋅x₂₂ + 4⋅x₀₁⋅x₀₂⋅x₁₂ - 2⋅x₀₂ ⋅x₁₁⎠⋅x₂₂⎦"
      ]
     },
     "execution_count": 134,
     "metadata": {},
     "output_type": "execute_result"
    }
   ],
   "source": [
    "sym.simplify(sym.factor(X_inv.subs(w,0)))"
   ]
  },
  {
   "cell_type": "code",
   "execution_count": 135,
   "metadata": {},
   "outputs": [
    {
     "data": {
      "image/png": "[encoded data removed]",
      "text/latex": [
       "$$\\left[\\begin{matrix}\\frac{- x_{1, 1} x_{2, 2} + 2 x_{1, 2}^{2}}{- x_{0, 0} x_{1, 1} x_{2, 2} + 2 x_{0, 0} x_{1, 2}^{2} + x_{0, 1}^{2} x_{2, 2} - 4 x_{0, 1} x_{0, 2} x_{1, 2} + 2 x_{0, 2}^{2} x_{1, 1}} & \\frac{x_{0, 1} x_{2, 2} - 2 x_{0, 2} x_{1, 2}}{- x_{0, 0} x_{1, 1} x_{2, 2} + 2 x_{0, 0} x_{1, 2}^{2} + x_{0, 1}^{2} x_{2, 2} - 4 x_{0, 1} x_{0, 2} x_{1, 2} + 2 x_{0, 2}^{2} x_{1, 1}} & \\frac{2 \\left(- x_{0, 1} x_{1, 2} + x_{0, 2} x_{1, 1}\\right)}{- x_{0, 0} x_{1, 1} x_{2, 2} + 2 x_{0, 0} x_{1, 2}^{2} + x_{0, 1}^{2} x_{2, 2} - 4 x_{0, 1} x_{0, 2} x_{1, 2} + 2 x_{0, 2}^{2} x_{1, 1}}\\\\\\frac{x_{0, 1} x_{2, 2} - 2 x_{0, 2} x_{1, 2}}{- x_{0, 0} x_{1, 1} x_{2, 2} + 2 x_{0, 0} x_{1, 2}^{2} + x_{0, 1}^{2} x_{2, 2} - 4 x_{0, 1} x_{0, 2} x_{1, 2} + 2 x_{0, 2}^{2} x_{1, 1}} & \\frac{- x_{0, 0} x_{2, 2} + 2 x_{0, 2}^{2}}{- x_{0, 0} x_{1, 1} x_{2, 2} + 2 x_{0, 0} x_{1, 2}^{2} + x_{0, 1}^{2} x_{2, 2} - 4 x_{0, 1} x_{0, 2} x_{1, 2} + 2 x_{0, 2}^{2} x_{1, 1}} & \\frac{2 \\left(x_{0, 0} x_{1, 2} - x_{0, 1} x_{0, 2}\\right)}{- x_{0, 0} x_{1, 1} x_{2, 2} + 2 x_{0, 0} x_{1, 2}^{2} + x_{0, 1}^{2} x_{2, 2} - 4 x_{0, 1} x_{0, 2} x_{1, 2} + 2 x_{0, 2}^{2} x_{1, 1}}\\\\\\frac{2 \\left(- x_{0, 1} x_{1, 2} + x_{0, 2} x_{1, 1}\\right)}{- x_{0, 0} x_{1, 1} x_{2, 2} + 2 x_{0, 0} x_{1, 2}^{2} + x_{0, 1}^{2} x_{2, 2} - 4 x_{0, 1} x_{0, 2} x_{1, 2} + 2 x_{0, 2}^{2} x_{1, 1}} & \\frac{2 \\left(x_{0, 0} x_{1, 2} - x_{0, 1} x_{0, 2}\\right)}{- x_{0, 0} x_{1, 1} x_{2, 2} + 2 x_{0, 0} x_{1, 2}^{2} + x_{0, 1}^{2} x_{2, 2} - 4 x_{0, 1} x_{0, 2} x_{1, 2} + 2 x_{0, 2}^{2} x_{1, 1}} & \\frac{2 \\left(- x_{0, 0} x_{1, 1} + x_{0, 1}^{2}\\right)}{- x_{0, 0} x_{1, 1} x_{2, 2} + 2 x_{0, 0} x_{1, 2}^{2} + x_{0, 1}^{2} x_{2, 2} - 4 x_{0, 1} x_{0, 2} x_{1, 2} + 2 x_{0, 2}^{2} x_{1, 1}}\\end{matrix}\\right]$$"
      ],
      "text/plain": [
       "⎡                                        2                                    \n",
       "⎢                        -x₁₁⋅x₂₂ + 2⋅x₁₂                                     \n",
       "⎢─────────────────────────────────────────────────────────────────  ──────────\n",
       "⎢                        2      2                            2                \n",
       "⎢-x₀₀⋅x₁₁⋅x₂₂ + 2⋅x₀₀⋅x₁₂  + x₀₁ ⋅x₂₂ - 4⋅x₀₁⋅x₀₂⋅x₁₂ + 2⋅x₀₂ ⋅x₁₁  -x₀₀⋅x₁₁⋅x\n",
       "⎢                                                                             \n",
       "⎢                                                                             \n",
       "⎢                       x₀₁⋅x₂₂ - 2⋅x₀₂⋅x₁₂                                   \n",
       "⎢─────────────────────────────────────────────────────────────────  ──────────\n",
       "⎢                        2      2                            2                \n",
       "⎢-x₀₀⋅x₁₁⋅x₂₂ + 2⋅x₀₀⋅x₁₂  + x₀₁ ⋅x₂₂ - 4⋅x₀₁⋅x₀₂⋅x₁₂ + 2⋅x₀₂ ⋅x₁₁  -x₀₀⋅x₁₁⋅x\n",
       "⎢                                                                             \n",
       "⎢                                                                             \n",
       "⎢                      2⋅(-x₀₁⋅x₁₂ + x₀₂⋅x₁₁)                                 \n",
       "⎢─────────────────────────────────────────────────────────────────  ──────────\n",
       "⎢                        2      2                            2                \n",
       "⎣-x₀₀⋅x₁₁⋅x₂₂ + 2⋅x₀₀⋅x₁₂  + x₀₁ ⋅x₂₂ - 4⋅x₀₁⋅x₀₂⋅x₁₂ + 2⋅x₀₂ ⋅x₁₁  -x₀₀⋅x₁₁⋅x\n",
       "\n",
       "                                                                              \n",
       "             x₀₁⋅x₂₂ - 2⋅x₀₂⋅x₁₂                                              \n",
       "───────────────────────────────────────────────────────  ─────────────────────\n",
       "              2      2                            2                           \n",
       "₂₂ + 2⋅x₀₀⋅x₁₂  + x₀₁ ⋅x₂₂ - 4⋅x₀₁⋅x₀₂⋅x₁₂ + 2⋅x₀₂ ⋅x₁₁  -x₀₀⋅x₁₁⋅x₂₂ + 2⋅x₀₀⋅\n",
       "                                                                              \n",
       "                              2                                               \n",
       "              -x₀₀⋅x₂₂ + 2⋅x₀₂                                                \n",
       "───────────────────────────────────────────────────────  ─────────────────────\n",
       "              2      2                            2                           \n",
       "₂₂ + 2⋅x₀₀⋅x₁₂  + x₀₁ ⋅x₂₂ - 4⋅x₀₁⋅x₀₂⋅x₁₂ + 2⋅x₀₂ ⋅x₁₁  -x₀₀⋅x₁₁⋅x₂₂ + 2⋅x₀₀⋅\n",
       "                                                                              \n",
       "                                                                              \n",
       "            2⋅(x₀₀⋅x₁₂ - x₀₁⋅x₀₂)                                             \n",
       "───────────────────────────────────────────────────────  ─────────────────────\n",
       "              2      2                            2                           \n",
       "₂₂ + 2⋅x₀₀⋅x₁₂  + x₀₁ ⋅x₂₂ - 4⋅x₀₁⋅x₀₂⋅x₁₂ + 2⋅x₀₂ ⋅x₁₁  -x₀₀⋅x₁₁⋅x₂₂ + 2⋅x₀₀⋅\n",
       "\n",
       "                                            ⎤\n",
       " 2⋅(-x₀₁⋅x₁₂ + x₀₂⋅x₁₁)                     ⎥\n",
       "────────────────────────────────────────────⎥\n",
       "   2      2                            2    ⎥\n",
       "x₁₂  + x₀₁ ⋅x₂₂ - 4⋅x₀₁⋅x₀₂⋅x₁₂ + 2⋅x₀₂ ⋅x₁₁⎥\n",
       "                                            ⎥\n",
       "                                            ⎥\n",
       " 2⋅(x₀₀⋅x₁₂ - x₀₁⋅x₀₂)                      ⎥\n",
       "────────────────────────────────────────────⎥\n",
       "   2      2                            2    ⎥\n",
       "x₁₂  + x₀₁ ⋅x₂₂ - 4⋅x₀₁⋅x₀₂⋅x₁₂ + 2⋅x₀₂ ⋅x₁₁⎥\n",
       "                                            ⎥\n",
       "    ⎛              2⎞                       ⎥\n",
       "  2⋅⎝-x₀₀⋅x₁₁ + x₀₁ ⎠                       ⎥\n",
       "────────────────────────────────────────────⎥\n",
       "   2      2                            2    ⎥\n",
       "x₁₂  + x₀₁ ⋅x₂₂ - 4⋅x₀₁⋅x₀₂⋅x₁₂ + 2⋅x₀₂ ⋅x₁₁⎦"
      ]
     },
     "execution_count": 135,
     "metadata": {},
     "output_type": "execute_result"
    }
   ],
   "source": [
    "sym.simplify(sym.expand(w_X_inv))"
   ]
  },
  {
   "cell_type": "code",
   "execution_count": 136,
   "metadata": {},
   "outputs": [],
   "source": [
    "X_inv_divide_commonD = X_inv * sym.fraction(X_inv[0,0])[1]"
   ]
  },
  {
   "cell_type": "code",
   "execution_count": 139,
   "metadata": {},
   "outputs": [
    {
     "data": {
      "image/png": "[encoded data removed]",
      "text/latex": [
       "$$\\left[\\begin{matrix}x_{1, 1} x_{2, 2} - 2 x_{1, 2}^{2} & - x_{0, 1} x_{2, 2} + 2 x_{0, 2} x_{1, 2} & x_{0, 1} x_{1, 2} - x_{0, 2} x_{1, 1} & x_{0, 1} x_{1, 2} - x_{0, 2} x_{1, 1}\\\\- x_{0, 1} x_{2, 2} + 2 x_{0, 2} x_{1, 2} & x_{0, 0} x_{2, 2} - 2 x_{0, 2}^{2} & - x_{0, 0} x_{1, 2} + x_{0, 1} x_{0, 2} & - x_{0, 0} x_{1, 2} + x_{0, 1} x_{0, 2}\\\\x_{0, 1} x_{1, 2} - x_{0, 2} x_{1, 1} & - x_{0, 0} x_{1, 2} + x_{0, 1} x_{0, 2} & \\frac{x_{0, 0} x_{1, 1} x_{2, 2} - x_{0, 0} x_{1, 2}^{2} - x_{0, 1}^{2} x_{2, 2} + 2 x_{0, 1} x_{0, 2} x_{1, 2} - x_{0, 2}^{2} x_{1, 1}}{x_{2, 2}} & \\frac{x_{0, 0} x_{1, 2}^{2} - 2 x_{0, 1} x_{0, 2} x_{1, 2} + x_{0, 2}^{2} x_{1, 1}}{x_{2, 2}}\\\\x_{0, 1} x_{1, 2} - x_{0, 2} x_{1, 1} & - x_{0, 0} x_{1, 2} + x_{0, 1} x_{0, 2} & \\frac{x_{0, 0} x_{1, 2}^{2} - 2 x_{0, 1} x_{0, 2} x_{1, 2} + x_{0, 2}^{2} x_{1, 1}}{x_{2, 2}} & \\frac{x_{0, 0} x_{1, 1} x_{2, 2} - x_{0, 0} x_{1, 2}^{2} - x_{0, 1}^{2} x_{2, 2} + 2 x_{0, 1} x_{0, 2} x_{1, 2} - x_{0, 2}^{2} x_{1, 1}}{x_{2, 2}}\\end{matrix}\\right]$$"
      ],
      "text/plain": [
       "⎡                 2                                                           \n",
       "⎢  x₁₁⋅x₂₂ - 2⋅x₁₂     -x₀₁⋅x₂₂ + 2⋅x₀₂⋅x₁₂                       x₀₁⋅x₁₂ - x₀\n",
       "⎢                                                                             \n",
       "⎢                                       2                                     \n",
       "⎢-x₀₁⋅x₂₂ + 2⋅x₀₂⋅x₁₂    x₀₀⋅x₂₂ - 2⋅x₀₂                          -x₀₀⋅x₁₂ + x\n",
       "⎢                                                                             \n",
       "⎢                                                                 2      2    \n",
       "⎢                                            x₀₀⋅x₁₁⋅x₂₂ - x₀₀⋅x₁₂  - x₀₁ ⋅x₂₂\n",
       "⎢ x₀₁⋅x₁₂ - x₀₂⋅x₁₁     -x₀₀⋅x₁₂ + x₀₁⋅x₀₂   ─────────────────────────────────\n",
       "⎢                                                                        x₂₂  \n",
       "⎢                                                                             \n",
       "⎢                                                               2             \n",
       "⎢                                                        x₀₀⋅x₁₂  - 2⋅x₀₁⋅x₀₂⋅\n",
       "⎢ x₀₁⋅x₁₂ - x₀₂⋅x₁₁     -x₀₀⋅x₁₂ + x₀₁⋅x₀₂               ─────────────────────\n",
       "⎣                                                                        x₂₂  \n",
       "\n",
       "                                                                              \n",
       "₂⋅x₁₁                                             x₀₁⋅x₁₂ - x₀₂⋅x₁₁           \n",
       "                                                                              \n",
       "                                                                              \n",
       "₀₁⋅x₀₂                                            -x₀₀⋅x₁₂ + x₀₁⋅x₀₂          \n",
       "                                                                              \n",
       "                      2                         2                      2      \n",
       " + 2⋅x₀₁⋅x₀₂⋅x₁₂ - x₀₂ ⋅x₁₁              x₀₀⋅x₁₂  - 2⋅x₀₁⋅x₀₂⋅x₁₂ + x₀₂ ⋅x₁₁  \n",
       "───────────────────────────              ───────────────────────────────────  \n",
       "                                                         x₂₂                  \n",
       "                                                                              \n",
       "         2                                        2      2                    \n",
       "x₁₂ + x₀₂ ⋅x₁₁               x₀₀⋅x₁₁⋅x₂₂ - x₀₀⋅x₁₂  - x₀₁ ⋅x₂₂ + 2⋅x₀₁⋅x₀₂⋅x₁₂\n",
       "──────────────               ─────────────────────────────────────────────────\n",
       "                                                         x₂₂                  \n",
       "\n",
       "           ⎤\n",
       "           ⎥\n",
       "           ⎥\n",
       "           ⎥\n",
       "           ⎥\n",
       "           ⎥\n",
       "           ⎥\n",
       "           ⎥\n",
       "           ⎥\n",
       "           ⎥\n",
       "           ⎥\n",
       "      2    ⎥\n",
       " - x₀₂ ⋅x₁₁⎥\n",
       "───────────⎥\n",
       "           ⎦"
      ]
     },
     "execution_count": 139,
     "metadata": {},
     "output_type": "execute_result"
    }
   ],
   "source": [
    "sym.factor(sym.simplify(X_inv_divide_commonD.subs(w,0)))"
   ]
  },
  {
   "cell_type": "code",
   "execution_count": 138,
   "metadata": {},
   "outputs": [
    {
     "data": {
      "image/png": "[encoded data removed]",
      "text/latex": [
       "$$\\left[\\begin{matrix}x_{1, 1} x_{2, 2} - 2 x_{1, 2}^{2} & - x_{0, 1} x_{2, 2} + 2 x_{0, 2} x_{1, 2} & 2 x_{0, 1} x_{1, 2} - 2 x_{0, 2} x_{1, 1}\\\\- x_{0, 1} x_{2, 2} + 2 x_{0, 2} x_{1, 2} & x_{0, 0} x_{2, 2} - 2 x_{0, 2}^{2} & - 2 x_{0, 0} x_{1, 2} + 2 x_{0, 1} x_{0, 2}\\\\2 x_{0, 1} x_{1, 2} - 2 x_{0, 2} x_{1, 1} & - 2 x_{0, 0} x_{1, 2} + 2 x_{0, 1} x_{0, 2} & 2 x_{0, 0} x_{1, 1} - 2 x_{0, 1}^{2}\\end{matrix}\\right]$$"
      ],
      "text/plain": [
       "⎡                 2                                                   ⎤\n",
       "⎢  x₁₁⋅x₂₂ - 2⋅x₁₂       -x₀₁⋅x₂₂ + 2⋅x₀₂⋅x₁₂   2⋅x₀₁⋅x₁₂ - 2⋅x₀₂⋅x₁₁ ⎥\n",
       "⎢                                                                     ⎥\n",
       "⎢                                         2                           ⎥\n",
       "⎢-x₀₁⋅x₂₂ + 2⋅x₀₂⋅x₁₂      x₀₀⋅x₂₂ - 2⋅x₀₂      -2⋅x₀₀⋅x₁₂ + 2⋅x₀₁⋅x₀₂⎥\n",
       "⎢                                                                     ⎥\n",
       "⎢                                                                  2  ⎥\n",
       "⎣2⋅x₀₁⋅x₁₂ - 2⋅x₀₂⋅x₁₁  -2⋅x₀₀⋅x₁₂ + 2⋅x₀₁⋅x₀₂    2⋅x₀₀⋅x₁₁ - 2⋅x₀₁   ⎦"
      ]
     },
     "execution_count": 138,
     "metadata": {},
     "output_type": "execute_result"
    }
   ],
   "source": [
    "sym.simplify(sym.expand((w_X_inv * sym.fraction(w_X_inv[0,0])[1])))"
   ]
  },
  {
   "cell_type": "code",
   "execution_count": 145,
   "metadata": {},
   "outputs": [
    {
     "data": {
      "image/png": "[encoded data removed]",
      "text/latex": [
       "$$\\left(x_{0, 0} x_{1, 1} x_{2, 2} - 2 x_{0, 0} x_{1, 2}^{2} - x_{0, 1}^{2} x_{2, 2} + 4 x_{0, 1} x_{0, 2} x_{1, 2} - 2 x_{0, 2}^{2} x_{1, 1}\\right) x_{2, 2}$$"
      ],
      "text/plain": [
       "⎛                       2      2                            2    ⎞    \n",
       "⎝x₀₀⋅x₁₁⋅x₂₂ - 2⋅x₀₀⋅x₁₂  - x₀₁ ⋅x₂₂ + 4⋅x₀₁⋅x₀₂⋅x₁₂ - 2⋅x₀₂ ⋅x₁₁⎠⋅x₂₂"
      ]
     },
     "execution_count": 145,
     "metadata": {},
     "output_type": "execute_result"
    }
   ],
   "source": [
    "sym.simplify(X.subs(w,0).det())"
   ]
  },
  {
   "cell_type": "code",
   "execution_count": 147,
   "metadata": {},
   "outputs": [
    {
     "data": {
      "image/png": "[encoded data removed]",
      "text/latex": [
       "$$x_{0, 0} x_{1, 1} x_{2, 2} - 2 x_{0, 0} x_{1, 2}^{2} - x_{0, 1}^{2} x_{2, 2} + 4 x_{0, 1} x_{0, 2} x_{1, 2} - 2 x_{0, 2}^{2} x_{1, 1}$$"
      ],
      "text/plain": [
       "                       2      2                            2    \n",
       "x₀₀⋅x₁₁⋅x₂₂ - 2⋅x₀₀⋅x₁₂  - x₀₁ ⋅x₂₂ + 4⋅x₀₁⋅x₀₂⋅x₁₂ - 2⋅x₀₂ ⋅x₁₁"
      ]
     },
     "execution_count": 147,
     "metadata": {},
     "output_type": "execute_result"
    }
   ],
   "source": [
    "sym.simplify(w_X.det()*2)"
   ]
  },
  {
   "cell_type": "code",
   "execution_count": 148,
   "metadata": {},
   "outputs": [],
   "source": [
    "w_X[2,2]*=2/w"
   ]
  },
  {
   "cell_type": "code",
   "execution_count": 180,
   "metadata": {},
   "outputs": [
    {
     "data": {
      "image/png": "[encoded data removed]",
      "text/latex": [
       "$$\\left[\\begin{matrix}x_{0, 0} & x_{0, 1} & x_{0, 2}\\\\x_{0, 1} & x_{1, 1} & x_{1, 2}\\\\x_{0, 2} & x_{1, 2} & \\frac{x_{2, 2}}{w}\\end{matrix}\\right]$$"
      ],
      "text/plain": [
       "⎡x₀₀  x₀₁  x₀₂⎤\n",
       "⎢             ⎥\n",
       "⎢x₀₁  x₁₁  x₁₂⎥\n",
       "⎢             ⎥\n",
       "⎢          x₂₂⎥\n",
       "⎢x₀₂  x₁₂  ───⎥\n",
       "⎣           w ⎦"
      ]
     },
     "execution_count": 180,
     "metadata": {},
     "output_type": "execute_result"
    }
   ],
   "source": [
    "w_X"
   ]
  },
  {
   "cell_type": "code",
   "execution_count": 161,
   "metadata": {},
   "outputs": [
    {
     "data": {
      "image/png": "[encoded data removed]",
      "text/latex": [
       "$$- x_{0, 0} x_{1, 2}^{2} + 2 x_{0, 1} x_{0, 2} x_{1, 2} - x_{0, 2}^{2} x_{1, 1} + \\frac{x_{0, 0} x_{1, 1} x_{2, 2}}{w} - \\frac{x_{0, 1}^{2} x_{2, 2}}{w}$$"
      ],
      "text/plain": [
       "                                                         2    \n",
       "         2                      2       x₀₀⋅x₁₁⋅x₂₂   x₀₁ ⋅x₂₂\n",
       "- x₀₀⋅x₁₂  + 2⋅x₀₁⋅x₀₂⋅x₁₂ - x₀₂ ⋅x₁₁ + ─────────── - ────────\n",
       "                                             w           w    "
      ]
     },
     "execution_count": 161,
     "metadata": {},
     "output_type": "execute_result"
    }
   ],
   "source": [
    "sym.expand(sym.simplify(w_X.det()))"
   ]
  },
  {
   "cell_type": "code",
   "execution_count": null,
   "metadata": {},
   "outputs": [],
   "source": []
  },
  {
   "cell_type": "code",
   "execution_count": 157,
   "metadata": {},
   "outputs": [],
   "source": [
    "X5 = sym.Matrix(sym.MatrixSymbol(\"x\",5,5))\n",
    "X5[0,3] = X5[0,2]\n",
    "X5[1,3] = X5[1,2]\n",
    "X5[2,3] = 0\n",
    "X5[3,3] = X5[2,2]\n",
    "X5[4,3] = 0\n",
    "X5[0,4] = X5[0,2]\n",
    "X5[1,4] = X5[1,2]\n",
    "X5[2,4] = 0\n",
    "X5[3,4] = 0\n",
    "X5[4,4] = X5[2,2]\n",
    "\n",
    "for i in range(X5.shape[0]):\n",
    "    for j in range(i,X5.shape[1]):\n",
    "        X5[j,i] = X5[i,j]"
   ]
  },
  {
   "cell_type": "code",
   "execution_count": 158,
   "metadata": {},
   "outputs": [
    {
     "data": {
      "image/png": "[encoded data removed]",
      "text/latex": [
       "$$\\left[\\begin{array}{ccccc}x_{0, 0} & x_{0, 1} & x_{0, 2} & x_{0, 2} & x_{0, 2}\\\\x_{0, 1} & x_{1, 1} & x_{1, 2} & x_{1, 2} & x_{1, 2}\\\\x_{0, 2} & x_{1, 2} & x_{2, 2} & 0 & 0\\\\x_{0, 2} & x_{1, 2} & 0 & x_{2, 2} & 0\\\\x_{0, 2} & x_{1, 2} & 0 & 0 & x_{2, 2}\\end{array}\\right]$$"
      ],
      "text/plain": [
       "⎡x₀₀  x₀₁  x₀₂  x₀₂  x₀₂⎤\n",
       "⎢                       ⎥\n",
       "⎢x₀₁  x₁₁  x₁₂  x₁₂  x₁₂⎥\n",
       "⎢                       ⎥\n",
       "⎢x₀₂  x₁₂  x₂₂   0    0 ⎥\n",
       "⎢                       ⎥\n",
       "⎢x₀₂  x₁₂   0   x₂₂   0 ⎥\n",
       "⎢                       ⎥\n",
       "⎣x₀₂  x₁₂   0    0   x₂₂⎦"
      ]
     },
     "execution_count": 158,
     "metadata": {},
     "output_type": "execute_result"
    }
   ],
   "source": [
    "X5"
   ]
  },
  {
   "cell_type": "code",
   "execution_count": 159,
   "metadata": {},
   "outputs": [
    {
     "data": {
      "image/png": "[encoded data removed]",
      "text/latex": [
       "$$\\left(x_{0, 0} x_{1, 1} x_{2, 2} - 3 x_{0, 0} x_{1, 2}^{2} - x_{0, 1}^{2} x_{2, 2} + 6 x_{0, 1} x_{0, 2} x_{1, 2} - 3 x_{0, 2}^{2} x_{1, 1}\\right) x_{2, 2}^{2}$$"
      ],
      "text/plain": [
       "⎛                       2      2                            2    ⎞    2\n",
       "⎝x₀₀⋅x₁₁⋅x₂₂ - 3⋅x₀₀⋅x₁₂  - x₀₁ ⋅x₂₂ + 6⋅x₀₁⋅x₀₂⋅x₁₂ - 3⋅x₀₂ ⋅x₁₁⎠⋅x₂₂ "
      ]
     },
     "execution_count": 159,
     "metadata": {},
     "output_type": "execute_result"
    }
   ],
   "source": [
    "sym.simplify(X5.det())"
   ]
  },
  {
   "cell_type": "code",
   "execution_count": 179,
   "metadata": {},
   "outputs": [
    {
     "data": {
      "image/png": "[encoded data removed]",
      "text/latex": [
       "$$\\frac{\\left(x_{0, 0} x_{1, 1} x_{2, 2} - 3 x_{0, 0} x_{1, 2}^{2} - x_{0, 1}^{2} x_{2, 2} + 6 x_{0, 1} x_{0, 2} x_{1, 2} - 3 x_{0, 2}^{2} x_{1, 1}\\right) x_{2, 2}^{2}}{27}$$"
      ],
      "text/plain": [
       "⎛                       2      2                            2    ⎞    2\n",
       "⎝x₀₀⋅x₁₁⋅x₂₂ - 3⋅x₀₀⋅x₁₂  - x₀₁ ⋅x₂₂ + 6⋅x₀₁⋅x₀₂⋅x₁₂ - 3⋅x₀₂ ⋅x₁₁⎠⋅x₂₂ \n",
       "───────────────────────────────────────────────────────────────────────\n",
       "                                   27                                  "
      ]
     },
     "execution_count": 179,
     "metadata": {},
     "output_type": "execute_result"
    }
   ],
   "source": [
    "sym.simplify((w_X.det()*w_X[2,2]**(w-1)).subs(w,3))"
   ]
  },
  {
   "cell_type": "code",
   "execution_count": 181,
   "metadata": {},
   "outputs": [],
   "source": [
    "A = X5[:3,:3]\n",
    "B = X5[:3,3:]\n",
    "C = X5[3:,:3]\n",
    "D = X5[3:,3:]"
   ]
  },
  {
   "cell_type": "code",
   "execution_count": 184,
   "metadata": {},
   "outputs": [],
   "source": [
    "blah = sym.simplify((D-C*A.inv()*B)).det()"
   ]
  },
  {
   "cell_type": "code",
   "execution_count": 186,
   "metadata": {},
   "outputs": [
    {
     "data": {
      "image/png": "[encoded data removed]",
      "text/latex": [
       "$$\\frac{\\left(- x_{0, 0} x_{1, 1} x_{2, 2} + 3 x_{0, 0} x_{1, 2}^{2} + x_{0, 1}^{2} x_{2, 2} - 6 x_{0, 1} x_{0, 2} x_{1, 2} + 3 x_{0, 2}^{2} x_{1, 1}\\right) x_{2, 2}^{2}}{- x_{0, 0} x_{1, 1} x_{2, 2} + x_{0, 0} x_{1, 2}^{2} + x_{0, 1}^{2} x_{2, 2} - 2 x_{0, 1} x_{0, 2} x_{1, 2} + x_{0, 2}^{2} x_{1, 1}}$$"
      ],
      "text/plain": [
       "⎛                        2      2                            2    ⎞    2\n",
       "⎝-x₀₀⋅x₁₁⋅x₂₂ + 3⋅x₀₀⋅x₁₂  + x₀₁ ⋅x₂₂ - 6⋅x₀₁⋅x₀₂⋅x₁₂ + 3⋅x₀₂ ⋅x₁₁⎠⋅x₂₂ \n",
       "────────────────────────────────────────────────────────────────────────\n",
       "                           2      2                          2          \n",
       "     -x₀₀⋅x₁₁⋅x₂₂ + x₀₀⋅x₁₂  + x₀₁ ⋅x₂₂ - 2⋅x₀₁⋅x₀₂⋅x₁₂ + x₀₂ ⋅x₁₁      "
      ]
     },
     "execution_count": 186,
     "metadata": {},
     "output_type": "execute_result"
    }
   ],
   "source": [
    "sym.simplify(sym.factor(blah))"
   ]
  },
  {
   "cell_type": "code",
   "execution_count": null,
   "metadata": {},
   "outputs": [],
   "source": []
  },
  {
   "cell_type": "code",
   "execution_count": null,
   "metadata": {},
   "outputs": [],
   "source": []
  },
  {
   "cell_type": "code",
   "execution_count": null,
   "metadata": {},
   "outputs": [],
   "source": []
  },
  {
   "cell_type": "code",
   "execution_count": 2,
   "metadata": {},
   "outputs": [
    {
     "name": "stdout",
     "output_type": "stream",
     "text": [
      "['/home/brown/python_packages/local_models/examples', '/home/brown/python_packages/local_models', '/home/brown/python_packages/ml_battery', '/home/brown/python_packages/patched_gpr', '/usr/lib/python35.zip', '/usr/lib/python3.5', '/usr/lib/python3.5/plat-x86_64-linux-gnu', '/usr/lib/python3.5/lib-dynload', '', '/usr/local/lib/python3.5/dist-packages', '/usr/lib/python3/dist-packages', '/usr/local/lib/python3.5/dist-packages/IPython/extensions', '/home/brown/.ipython']\n"
     ]
    }
   ],
   "source": [
    "import sklearn.gaussian_process\n",
    "import numpy as np\n",
    "import sys\n",
    "#sys.path.append('/home/brown/python_packages/patched_gpr')\n",
    "print(sys.path)\n",
    "import patched_gpr\n",
    "import importlib\n",
    "import local_models\n",
    "import local_models.local_models\n"
   ]
  },
  {
   "cell_type": "code",
   "execution_count": 3,
   "metadata": {},
   "outputs": [],
   "source": [
    "class ConstantKernel(sklearn.gaussian_process.kernels.Kernel):\n",
    "    def __init__(self, weights=None):\n",
    "        if weights is None:\n",
    "            raise Exception(\"must provide weights\")\n",
    "        self.weights = weights\n",
    "        self.normalized_weights = np.max(self.weights)/self.weights #Why is this justified?\n",
    "    def __call__(self, X, Y=None, eval_gradient=False):\n",
    "        calt = np.ones((X.shape[0], X.shape[0]))\n",
    "        calt[np.diag_indices_from(calt)] = self.normalized_weights\n",
    "        if eval_gradient:\n",
    "            return calt, np.empty((X.shape[0], X.shape[0], 0))\n",
    "        return calt\n",
    "    def diag(self, X):\n",
    "        return self.normalized_weights\n",
    "    def is_stationary(self):\n",
    "        return True"
   ]
  },
  {
   "cell_type": "code",
   "execution_count": 4,
   "metadata": {},
   "outputs": [],
   "source": [
    "class MonkeyPatchGPR(sklearn.gaussian_process.GaussianProcessRegressor):\n",
    "    def fit(self, X, *args, sample_weight=None, **kwargs):\n",
    "        import numpy as np\n",
    "        if sample_weight is not None:\n",
    "            old_kernel = self.kernel\n",
    "            self.kernel = old_kernel*ConstantKernel(sample_weight)\n",
    "            print(self.kernel(X))\n",
    "            result = super().fit(X, *args, **kwargs)\n",
    "            self.kernel = old_kernel\n",
    "            self.kernel_ = self.kernel_.k1\n",
    "        else:\n",
    "            result = super().fit(*args, **kwargs)\n",
    "        return result"
   ]
  },
  {
   "cell_type": "code",
   "execution_count": 3,
   "metadata": {},
   "outputs": [],
   "source": [
    "kernel = (\n",
    "    (\n",
    "        sklearn.gaussian_process.kernels.ConstantKernel() *\n",
    "        sklearn.gaussian_process.kernels.WhiteKernel()\n",
    "    ) +\n",
    "    (\n",
    "        sklearn.gaussian_process.kernels.ConstantKernel() *\n",
    "        sklearn.gaussian_process.kernels.RBF()\n",
    "    )\n",
    ")"
   ]
  },
  {
   "cell_type": "code",
   "execution_count": 4,
   "metadata": {},
   "outputs": [],
   "source": [
    "importlib.reload(patched_gpr)\n",
    "gpr = patched_gpr.GaussianProcessRegressor(kernel,alpha=0)"
   ]
  },
  {
   "cell_type": "code",
   "execution_count": 5,
   "metadata": {},
   "outputs": [],
   "source": [
    "n = 100\n",
    "xx = np.linspace(-50,50,n)\n",
    "xx_dense = np.linspace(-50,50,n*5)\n",
    "yy = np.sin(xx**2/100) + np.random.normal(0,0.06,n)"
   ]
  },
  {
   "cell_type": "code",
   "execution_count": 6,
   "metadata": {},
   "outputs": [],
   "source": [
    "import matplotlib.pyplot as plt\n",
    "import scipy.stats"
   ]
  },
  {
   "cell_type": "code",
   "execution_count": 7,
   "metadata": {},
   "outputs": [
    {
     "data": {
      "text/plain": [
       "[<matplotlib.lines.Line2D at 0x7f9fdfa4f780>]"
      ]
     },
     "execution_count": 7,
     "metadata": {},
     "output_type": "execute_result"
    },
    {
     "data": {
      "image/png": "[encoded data removed]",
      "text/plain": [
       "<matplotlib.figure.Figure at 0x7f9fdfa84390>"
      ]
     },
     "metadata": {
      "needs_background": "light"
     },
     "output_type": "display_data"
    }
   ],
   "source": [
    "plt.plot(xx, yy)"
   ]
  },
  {
   "cell_type": "code",
   "execution_count": 8,
   "metadata": {},
   "outputs": [
    {
     "data": {
      "text/plain": [
       "GaussianProcessRegressor(alpha=0, copy_X_train=True,\n",
       "                         kernel=1**2 * WhiteKernel(noise_level=1) + 1**2 * RBF(length_scale=1),\n",
       "                         n_restarts_optimizer=0, normalize_y=False,\n",
       "                         optimizer='fmin_l_bfgs_b', random_state=None)"
      ]
     },
     "execution_count": 8,
     "metadata": {},
     "output_type": "execute_result"
    }
   ],
   "source": [
    "gpr.fit(xx.reshape(-1,1),yy,sample_weight=np.full(xx.shape[0],1.))"
   ]
  },
  {
   "cell_type": "code",
   "execution_count": 9,
   "metadata": {},
   "outputs": [
    {
     "data": {
      "text/plain": [
       "array([-2.97029497, -2.97029497,  0.00741369,  0.94479378])"
      ]
     },
     "execution_count": 9,
     "metadata": {},
     "output_type": "execute_result"
    }
   ],
   "source": [
    "gpr.kernel_.theta"
   ]
  },
  {
   "cell_type": "code",
   "execution_count": 10,
   "metadata": {},
   "outputs": [
    {
     "data": {
      "text/plain": [
       "[<matplotlib.lines.Line2D at 0x7f9fdf9ea470>]"
      ]
     },
     "execution_count": 10,
     "metadata": {},
     "output_type": "execute_result"
    },
    {
     "data": {
      "image/png": "[encoded data removed]",
      "text/plain": [
       "<matplotlib.figure.Figure at 0x7f9fdfa1ccf8>"
      ]
     },
     "metadata": {
      "needs_background": "light"
     },
     "output_type": "display_data"
    }
   ],
   "source": [
    "plt.plot(xx, gpr.predict(xx.reshape(-1,1)))\n",
    "plt.plot(xx,yy,c='r')"
   ]
  },
  {
   "cell_type": "code",
   "execution_count": 11,
   "metadata": {},
   "outputs": [],
   "source": [
    "gpr = sklearn.gaussian_process.GaussianProcessRegressor(kernel,alpha=0)"
   ]
  },
  {
   "cell_type": "code",
   "execution_count": 12,
   "metadata": {},
   "outputs": [
    {
     "data": {
      "text/plain": [
       "GaussianProcessRegressor(alpha=0, copy_X_train=True,\n",
       "                         kernel=1**2 * WhiteKernel(noise_level=1) + 1**2 * RBF(length_scale=1),\n",
       "                         n_restarts_optimizer=0, normalize_y=False,\n",
       "                         optimizer='fmin_l_bfgs_b', random_state=None)"
      ]
     },
     "execution_count": 12,
     "metadata": {},
     "output_type": "execute_result"
    }
   ],
   "source": [
    "gpr.fit(xx.reshape(-1,1),yy)"
   ]
  },
  {
   "cell_type": "code",
   "execution_count": 13,
   "metadata": {},
   "outputs": [
    {
     "data": {
      "text/plain": [
       "0.226**2 * WhiteKernel(noise_level=0.0513) + 1**2 * RBF(length_scale=2.57)"
      ]
     },
     "execution_count": 13,
     "metadata": {},
     "output_type": "execute_result"
    }
   ],
   "source": [
    "gpr.kernel_"
   ]
  },
  {
   "cell_type": "code",
   "execution_count": 14,
   "metadata": {},
   "outputs": [
    {
     "data": {
      "text/plain": [
       "array([-2.97029497, -2.97029497,  0.00741369,  0.94479378])"
      ]
     },
     "execution_count": 14,
     "metadata": {},
     "output_type": "execute_result"
    }
   ],
   "source": [
    "gpr.kernel_.theta"
   ]
  },
  {
   "cell_type": "code",
   "execution_count": 15,
   "metadata": {},
   "outputs": [
    {
     "data": {
      "text/plain": [
       "[<matplotlib.lines.Line2D at 0x7f9fd0192a20>]"
      ]
     },
     "execution_count": 15,
     "metadata": {},
     "output_type": "execute_result"
    },
    {
     "data": {
      "image/png": "[encoded data removed]",
      "text/plain": [
       "<matplotlib.figure.Figure at 0x7f9fd0192ef0>"
      ]
     },
     "metadata": {
      "needs_background": "light"
     },
     "output_type": "display_data"
    }
   ],
   "source": [
    "plt.plot(xx, gpr.predict(xx.reshape(-1,1)))\n",
    "plt.plot(xx,yy,c='r')"
   ]
  },
  {
   "cell_type": "code",
   "execution_count": null,
   "metadata": {},
   "outputs": [],
   "source": []
  },
  {
   "cell_type": "code",
   "execution_count": 16,
   "metadata": {},
   "outputs": [],
   "source": [
    "class GPR(patched_gpr.GaussianProcessRegressor):\n",
    "    def fit(self, *args, sample_weight=None, **kwargs):\n",
    "        if \"beta0\" in kwargs:\n",
    "            self.kernel.theta = kwargs[\"beta0\"]\n",
    "            del kwargs[\"beta0\"]\n",
    "        all_done = super().fit(*args, sample_weight=sample_weight, **kwargs)\n",
    "        self.coef_ = self.kernel_.theta\n",
    "        self.intercept_ = np.array(())\n",
    "        return all_done"
   ]
  },
  {
   "cell_type": "code",
   "execution_count": 17,
   "metadata": {},
   "outputs": [],
   "source": [
    "weights = scipy.stats.norm.pdf(xx,0,10)\n",
    "weights /= np.max(weights)"
   ]
  },
  {
   "cell_type": "code",
   "execution_count": 18,
   "metadata": {},
   "outputs": [],
   "source": [
    "gpr = GPR(kernel,alpha=0)"
   ]
  },
  {
   "cell_type": "code",
   "execution_count": 19,
   "metadata": {},
   "outputs": [
    {
     "data": {
      "text/plain": [
       "GPR(alpha=0, copy_X_train=True,\n",
       "    kernel=1**2 * WhiteKernel(noise_level=1) + 1**2 * RBF(length_scale=1),\n",
       "    n_restarts_optimizer=0, normalize_y=False, optimizer='fmin_l_bfgs_b',\n",
       "    random_state=None)"
      ]
     },
     "execution_count": 19,
     "metadata": {},
     "output_type": "execute_result"
    }
   ],
   "source": [
    "gpr.fit(xx.reshape(-1,1),yy,sample_weight=weights)"
   ]
  },
  {
   "cell_type": "code",
   "execution_count": 20,
   "metadata": {},
   "outputs": [
    {
     "data": {
      "text/plain": [
       "0.00559**2 * WhiteKernel(noise_level=1e-05) + 0.238**2 * RBF(length_scale=5.13)"
      ]
     },
     "execution_count": 20,
     "metadata": {},
     "output_type": "execute_result"
    }
   ],
   "source": [
    "gpr.kernel_"
   ]
  },
  {
   "cell_type": "code",
   "execution_count": 21,
   "metadata": {},
   "outputs": [
    {
     "data": {
      "text/plain": [
       "[<matplotlib.lines.Line2D at 0x7f9fd01b1f98>]"
      ]
     },
     "execution_count": 21,
     "metadata": {},
     "output_type": "execute_result"
    },
    {
     "data": {
      "image/png": "[encoded data removed]",
      "text/plain": [
       "<matplotlib.figure.Figure at 0x7f9fd01b1da0>"
      ]
     },
     "metadata": {
      "needs_background": "light"
     },
     "output_type": "display_data"
    }
   ],
   "source": [
    "plt.plot(xx, gpr.predict(xx.reshape(-1,1)))\n",
    "plt.plot(xx,yy,c='r')"
   ]
  },
  {
   "cell_type": "code",
   "execution_count": 279,
   "metadata": {},
   "outputs": [
    {
     "data": {
      "text/plain": [
       "<local_models.local_models.LocalModels at 0x7f472044db38>"
      ]
     },
     "execution_count": 279,
     "metadata": {},
     "output_type": "execute_result"
    }
   ],
   "source": [
    "lm_kernel = local_models.local_models.TriCubeKernel(bandwidth=30)\n",
    "gpr_models = local_models.local_models.LocalModels(gpr)\n",
    "gpr_models.fit(xx.reshape(-1,1),yy)"
   ]
  },
  {
   "cell_type": "code",
   "execution_count": 285,
   "metadata": {},
   "outputs": [
    {
     "name": "stderr",
     "output_type": "stream",
     "text": [
      "/home/brown/python_packages/patched_gpr/patched_gpr.py:505: ConvergenceWarning: fmin_l_bfgs_b terminated abnormally with the  state: {'task': b'ABNORMAL_TERMINATION_IN_LNSRCH', 'nit': 3, 'warnflag': 2, 'grad': array([ 0.10137788,  7.52225775, -0.62215074,  1.88496453]), 'funcalls': 73}\n",
      "  ConvergenceWarning)\n",
      "/home/brown/python_packages/patched_gpr/patched_gpr.py:505: ConvergenceWarning: fmin_l_bfgs_b terminated abnormally with the  state: {'task': b'ABNORMAL_TERMINATION_IN_LNSRCH', 'nit': 11, 'warnflag': 2, 'grad': array([ 6.10276820e-05,  7.27331976e+00, -1.70509643e+00,  1.06388192e+00]), 'funcalls': 99}\n",
      "  ConvergenceWarning)\n",
      "/home/brown/python_packages/patched_gpr/patched_gpr.py:505: ConvergenceWarning: fmin_l_bfgs_b terminated abnormally with the  state: {'task': b'ABNORMAL_TERMINATION_IN_LNSRCH', 'nit': 0, 'warnflag': 2, 'grad': array([ 6.23093230e-05,  7.68759854e+00, -1.72647608e+00,  1.00882852e+00]), 'funcalls': 21}\n",
      "  ConvergenceWarning)\n",
      "/home/brown/python_packages/patched_gpr/patched_gpr.py:505: ConvergenceWarning: fmin_l_bfgs_b terminated abnormally with the  state: {'task': b'ABNORMAL_TERMINATION_IN_LNSRCH', 'nit': 0, 'warnflag': 2, 'grad': array([ 6.35943762e-05,  7.60188397e+00, -1.74727929e+00,  9.52560631e-01]), 'funcalls': 21}\n",
      "  ConvergenceWarning)\n",
      "/home/brown/python_packages/patched_gpr/patched_gpr.py:505: ConvergenceWarning: fmin_l_bfgs_b terminated abnormally with the  state: {'task': b'ABNORMAL_TERMINATION_IN_LNSRCH', 'nit': 0, 'warnflag': 2, 'grad': array([ 6.48826638e-05,  7.51617464e+00, -1.76752362e+00,  8.95093849e-01]), 'funcalls': 21}\n",
      "  ConvergenceWarning)\n",
      "/home/brown/python_packages/patched_gpr/patched_gpr.py:505: ConvergenceWarning: fmin_l_bfgs_b terminated abnormally with the  state: {'task': b'ABNORMAL_TERMINATION_IN_LNSRCH', 'nit': 0, 'warnflag': 2, 'grad': array([ 6.61740258e-05,  7.43047050e+00, -1.78723740e+00,  8.36436445e-01]), 'funcalls': 21}\n",
      "  ConvergenceWarning)\n",
      "/home/brown/python_packages/patched_gpr/patched_gpr.py:505: ConvergenceWarning: fmin_l_bfgs_b terminated abnormally with the  state: {'task': b'ABNORMAL_TERMINATION_IN_LNSRCH', 'nit': 0, 'warnflag': 2, 'grad': array([ 6.74683565e-05,  7.34477584e+00, -1.80645696e+00,  7.76588547e-01]), 'funcalls': 21}\n",
      "  ConvergenceWarning)\n",
      "/home/brown/python_packages/patched_gpr/patched_gpr.py:505: ConvergenceWarning: fmin_l_bfgs_b terminated abnormally with the  state: {'task': b'ABNORMAL_TERMINATION_IN_LNSRCH', 'nit': 0, 'warnflag': 2, 'grad': array([ 6.87657376e-05,  7.75910329e+00, -1.82521754e+00,  7.15538357e-01]), 'funcalls': 21}\n",
      "  ConvergenceWarning)\n",
      "/home/brown/python_packages/patched_gpr/patched_gpr.py:505: ConvergenceWarning: fmin_l_bfgs_b terminated abnormally with the  state: {'task': b'ABNORMAL_TERMINATION_IN_LNSRCH', 'nit': 0, 'warnflag': 2, 'grad': array([ 7.00663579e-05,  7.67345374e+00, -1.84355046e+00,  6.53266468e-01]), 'funcalls': 21}\n",
      "  ConvergenceWarning)\n",
      "/home/brown/python_packages/patched_gpr/patched_gpr.py:505: ConvergenceWarning: fmin_l_bfgs_b terminated abnormally with the  state: {'task': b'ABNORMAL_TERMINATION_IN_LNSRCH', 'nit': 0, 'warnflag': 2, 'grad': array([ 7.13704697e-05,  7.58782805e+00, -1.86148425e+00,  5.89747922e-01]), 'funcalls': 21}\n",
      "  ConvergenceWarning)\n",
      "/home/brown/python_packages/patched_gpr/patched_gpr.py:505: ConvergenceWarning: fmin_l_bfgs_b terminated abnormally with the  state: {'task': b'ABNORMAL_TERMINATION_IN_LNSRCH', 'nit': 0, 'warnflag': 2, 'grad': array([ 7.26783436e-05,  7.50222832e+00, -1.87905334e+00,  5.24953903e-01]), 'funcalls': 21}\n",
      "  ConvergenceWarning)\n",
      "/home/brown/python_packages/patched_gpr/patched_gpr.py:505: ConvergenceWarning: fmin_l_bfgs_b terminated abnormally with the  state: {'task': b'ABNORMAL_TERMINATION_IN_LNSRCH', 'nit': 0, 'warnflag': 2, 'grad': array([ 7.39901918e-05,  7.41666092e+00, -1.89629645e+00,  4.58852369e-01]), 'funcalls': 21}\n",
      "  ConvergenceWarning)\n",
      "/home/brown/python_packages/patched_gpr/patched_gpr.py:505: ConvergenceWarning: fmin_l_bfgs_b terminated abnormally with the  state: {'task': b'ABNORMAL_TERMINATION_IN_LNSRCH', 'nit': 0, 'warnflag': 2, 'grad': array([ 7.53058634e-05,  7.83114065e+00, -1.91325201e+00,  3.91406593e-01]), 'funcalls': 21}\n",
      "  ConvergenceWarning)\n",
      "/home/brown/python_packages/patched_gpr/patched_gpr.py:505: ConvergenceWarning: fmin_l_bfgs_b terminated abnormally with the  state: {'task': b'ABNORMAL_TERMINATION_IN_LNSRCH', 'nit': 0, 'warnflag': 2, 'grad': array([ 7.66251419e-05,  7.74567114e+00, -1.92995066e+00,  3.22578984e-01]), 'funcalls': 21}\n",
      "  ConvergenceWarning)\n",
      "/home/brown/python_packages/patched_gpr/patched_gpr.py:505: ConvergenceWarning: fmin_l_bfgs_b terminated abnormally with the  state: {'task': b'ABNORMAL_TERMINATION_IN_LNSRCH', 'nit': 0, 'warnflag': 2, 'grad': array([ 7.79478738e-05,  7.66025555e+00, -1.94641340e+00,  2.52333568e-01]), 'funcalls': 21}\n",
      "  ConvergenceWarning)\n",
      "/home/brown/python_packages/patched_gpr/patched_gpr.py:505: ConvergenceWarning: fmin_l_bfgs_b terminated abnormally with the  state: {'task': b'ABNORMAL_TERMINATION_IN_LNSRCH', 'nit': 0, 'warnflag': 2, 'grad': array([ 7.92739207e-05,  7.57489807e+00, -1.96266096e+00,  1.80637236e-01]), 'funcalls': 21}\n",
      "  ConvergenceWarning)\n",
      "/home/brown/python_packages/patched_gpr/patched_gpr.py:505: ConvergenceWarning: fmin_l_bfgs_b terminated abnormally with the  state: {'task': b'ABNORMAL_TERMINATION_IN_LNSRCH', 'nit': 0, 'warnflag': 2, 'grad': array([ 8.06031086e-05,  7.48960716e+00, -1.97871366e+00,  1.07462654e-01]), 'funcalls': 21}\n",
      "  ConvergenceWarning)\n",
      "/home/brown/python_packages/patched_gpr/patched_gpr.py:505: ConvergenceWarning: fmin_l_bfgs_b terminated abnormally with the  state: {'task': b'ABNORMAL_TERMINATION_IN_LNSRCH', 'nit': 0, 'warnflag': 2, 'grad': array([ 8.19349985e-05,  7.90439968e+00, -1.99459156e+00,  3.27974936e-02]), 'funcalls': 21}\n",
      "  ConvergenceWarning)\n",
      "/home/brown/python_packages/patched_gpr/patched_gpr.py:505: ConvergenceWarning: fmin_l_bfgs_b terminated abnormally with the  state: {'task': b'ABNORMAL_TERMINATION_IN_LNSRCH', 'nit': 0, 'warnflag': 2, 'grad': array([ 8.32691000e-05,  7.81928202e+00, -2.01030463e+00, -4.33605773e-02]), 'funcalls': 21}\n",
      "  ConvergenceWarning)\n",
      "/home/brown/python_packages/patched_gpr/patched_gpr.py:505: ConvergenceWarning: fmin_l_bfgs_b terminated abnormally with the  state: {'task': b'ABNORMAL_TERMINATION_IN_LNSRCH', 'nit': 0, 'warnflag': 2, 'grad': array([ 8.46049827e-05,  7.73425955e+00, -2.02584890e+00, -1.21006335e-01]), 'funcalls': 21}\n",
      "  ConvergenceWarning)\n",
      "/home/brown/python_packages/patched_gpr/patched_gpr.py:505: ConvergenceWarning: fmin_l_bfgs_b terminated abnormally with the  state: {'task': b'ABNORMAL_TERMINATION_IN_LNSRCH', 'nit': 0, 'warnflag': 2, 'grad': array([ 8.59422265e-05,  7.64933855e+00, -2.04121726e+00, -2.00126961e-01]), 'funcalls': 21}\n",
      "  ConvergenceWarning)\n",
      "/home/brown/python_packages/patched_gpr/patched_gpr.py:505: ConvergenceWarning: fmin_l_bfgs_b terminated abnormally with the  state: {'task': b'ABNORMAL_TERMINATION_IN_LNSRCH', 'nit': 0, 'warnflag': 2, 'grad': array([ 8.72803895e-05,  7.56452948e+00, -2.05639910e+00, -2.80702741e-01]), 'funcalls': 21}\n",
      "  ConvergenceWarning)\n",
      "/home/brown/python_packages/patched_gpr/patched_gpr.py:505: ConvergenceWarning: fmin_l_bfgs_b terminated abnormally with the  state: {'task': b'ABNORMAL_TERMINATION_IN_LNSRCH', 'nit': 0, 'warnflag': 2, 'grad': array([ 8.86188452e-05,  7.97985120e+00, -2.07137488e+00, -3.62712168e-01]), 'funcalls': 21}\n",
      "  ConvergenceWarning)\n",
      "/home/brown/python_packages/patched_gpr/patched_gpr.py:505: ConvergenceWarning: fmin_l_bfgs_b terminated abnormally with the  state: {'task': b'ABNORMAL_TERMINATION_IN_LNSRCH', 'nit': 0, 'warnflag': 2, 'grad': array([ 8.99569353e-05,  7.89531274e+00, -2.08611259e+00, -4.46128003e-01]), 'funcalls': 21}\n",
      "  ConvergenceWarning)\n",
      "/home/brown/python_packages/patched_gpr/patched_gpr.py:505: ConvergenceWarning: fmin_l_bfgs_b terminated abnormally with the  state: {'task': b'ABNORMAL_TERMINATION_IN_LNSRCH', 'nit': 0, 'warnflag': 2, 'grad': array([ 9.12940665e-05,  7.81092166e+00, -2.10056714e+00, -5.30914822e-01]), 'funcalls': 21}\n",
      "  ConvergenceWarning)\n",
      "/home/brown/python_packages/patched_gpr/patched_gpr.py:505: ConvergenceWarning: fmin_l_bfgs_b terminated abnormally with the  state: {'task': b'ABNORMAL_TERMINATION_IN_LNSRCH', 'nit': 0, 'warnflag': 2, 'grad': array([ 9.26296623e-05,  7.72668623e+00, -2.11469230e+00, -6.17030125e-01]), 'funcalls': 21}\n",
      "  ConvergenceWarning)\n",
      "/home/brown/python_packages/patched_gpr/patched_gpr.py:505: ConvergenceWarning: fmin_l_bfgs_b terminated abnormally with the  state: {'task': b'ABNORMAL_TERMINATION_IN_LNSRCH', 'nit': 0, 'warnflag': 2, 'grad': array([ 9.39631201e-05,  7.64261879e+00, -2.12844169e+00, -7.04424865e-01]), 'funcalls': 21}\n",
      "  ConvergenceWarning)\n",
      "/home/brown/python_packages/patched_gpr/patched_gpr.py:505: ConvergenceWarning: fmin_l_bfgs_b terminated abnormally with the  state: {'task': b'ABNORMAL_TERMINATION_IN_LNSRCH', 'nit': 0, 'warnflag': 2, 'grad': array([ 9.52935448e-05,  8.05874010e+00, -2.14176496e+00, -7.93042703e-01]), 'funcalls': 21}\n",
      "  ConvergenceWarning)\n"
     ]
    },
    {
     "name": "stderr",
     "output_type": "stream",
     "text": [
      "/home/brown/python_packages/patched_gpr/patched_gpr.py:505: ConvergenceWarning: fmin_l_bfgs_b terminated abnormally with the  state: {'task': b'ABNORMAL_TERMINATION_IN_LNSRCH', 'nit': 0, 'warnflag': 2, 'grad': array([ 9.66199550e-05,  7.97506172e+00, -2.15460452e+00, -8.82822066e-01]), 'funcalls': 21}\n",
      "  ConvergenceWarning)\n",
      "/home/brown/python_packages/patched_gpr/patched_gpr.py:505: ConvergenceWarning: fmin_l_bfgs_b terminated abnormally with the  state: {'task': b'ABNORMAL_TERMINATION_IN_LNSRCH', 'nit': 0, 'warnflag': 2, 'grad': array([ 9.79414494e-05,  7.89159325e+00, -2.16689446e+00, -9.73698253e-01]), 'funcalls': 21}\n",
      "  ConvergenceWarning)\n",
      "/home/brown/python_packages/patched_gpr/patched_gpr.py:505: ConvergenceWarning: fmin_l_bfgs_b terminated abnormally with the  state: {'task': b'ABNORMAL_TERMINATION_IN_LNSRCH', 'nit': 0, 'warnflag': 2, 'grad': array([ 9.92571616e-05,  7.80834481e+00, -2.17857298e+00, -1.06560482e+00]), 'funcalls': 21}\n",
      "  ConvergenceWarning)\n",
      "/home/brown/python_packages/patched_gpr/patched_gpr.py:505: ConvergenceWarning: fmin_l_bfgs_b terminated abnormally with the  state: {'task': b'ABNORMAL_TERMINATION_IN_LNSRCH', 'nit': 0, 'warnflag': 2, 'grad': array([ 1.00566225e-04,  7.72533053e+00, -2.18958458e+00, -1.15847370e+00]), 'funcalls': 21}\n",
      "  ConvergenceWarning)\n",
      "/home/brown/python_packages/patched_gpr/patched_gpr.py:505: ConvergenceWarning: fmin_l_bfgs_b terminated abnormally with the  state: {'task': b'ABNORMAL_TERMINATION_IN_LNSRCH', 'nit': 0, 'warnflag': 2, 'grad': array([ 1.01867510e-04,  8.14257285e+00, -2.19988187e+00, -1.25222831e+00]), 'funcalls': 21}\n",
      "  ConvergenceWarning)\n",
      "/home/brown/python_packages/patched_gpr/patched_gpr.py:505: ConvergenceWarning: fmin_l_bfgs_b terminated abnormally with the  state: {'task': b'ABNORMAL_TERMINATION_IN_LNSRCH', 'nit': 0, 'warnflag': 2, 'grad': array([ 1.03159812e-04,  8.06008568e+00, -2.20941937e+00, -1.34678955e+00]), 'funcalls': 21}\n",
      "  ConvergenceWarning)\n",
      "/home/brown/python_packages/patched_gpr/patched_gpr.py:505: ConvergenceWarning: fmin_l_bfgs_b terminated abnormally with the  state: {'task': b'ABNORMAL_TERMINATION_IN_LNSRCH', 'nit': 0, 'warnflag': 2, 'grad': array([ 1.04442035e-04,  7.97788052e+00, -2.21814854e+00, -1.44208241e+00]), 'funcalls': 21}\n",
      "  ConvergenceWarning)\n",
      "/home/brown/python_packages/patched_gpr/patched_gpr.py:505: ConvergenceWarning: fmin_l_bfgs_b terminated abnormally with the  state: {'task': b'ABNORMAL_TERMINATION_IN_LNSRCH', 'nit': 0, 'warnflag': 2, 'grad': array([ 1.05713154e-04,  7.89596916e+00, -2.22602995e+00, -1.53803667e+00]), 'funcalls': 21}\n",
      "  ConvergenceWarning)\n",
      "/home/brown/python_packages/patched_gpr/patched_gpr.py:505: ConvergenceWarning: fmin_l_bfgs_b terminated abnormally with the  state: {'task': b'ABNORMAL_TERMINATION_IN_LNSRCH', 'nit': 0, 'warnflag': 2, 'grad': array([ 1.06972182e-04,  7.81436728e+00, -2.23303518e+00, -1.63458672e+00]), 'funcalls': 21}\n",
      "  ConvergenceWarning)\n",
      "/home/brown/python_packages/patched_gpr/patched_gpr.py:505: ConvergenceWarning: fmin_l_bfgs_b terminated abnormally with the  state: {'task': b'ABNORMAL_TERMINATION_IN_LNSRCH', 'nit': 0, 'warnflag': 2, 'grad': array([ 1.08217914e-04,  8.23309880e+00, -2.23914853e+00, -1.73166414e+00]), 'funcalls': 21}\n",
      "  ConvergenceWarning)\n",
      "/home/brown/python_packages/patched_gpr/patched_gpr.py:505: ConvergenceWarning: fmin_l_bfgs_b terminated abnormally with the  state: {'task': b'ABNORMAL_TERMINATION_IN_LNSRCH', 'nit': 0, 'warnflag': 2, 'grad': array([ 1.09449092e-04,  8.15217971e+00, -2.24436062e+00, -1.82920288e+00]), 'funcalls': 21}\n",
      "  ConvergenceWarning)\n",
      "/home/brown/python_packages/patched_gpr/patched_gpr.py:505: ConvergenceWarning: fmin_l_bfgs_b terminated abnormally with the  state: {'task': b'ABNORMAL_TERMINATION_IN_LNSRCH', 'nit': 0, 'warnflag': 2, 'grad': array([ 1.10664606e-04,  8.07162323e+00, -2.24866173e+00, -1.92714640e+00]), 'funcalls': 21}\n",
      "  ConvergenceWarning)\n",
      "/home/brown/python_packages/patched_gpr/patched_gpr.py:505: ConvergenceWarning: fmin_l_bfgs_b terminated abnormally with the  state: {'task': b'ABNORMAL_TERMINATION_IN_LNSRCH', 'nit': 0, 'warnflag': 2, 'grad': array([ 1.11863450e-04,  7.99144252e+00, -2.25205322e+00, -2.02544718e+00]), 'funcalls': 21}\n",
      "  ConvergenceWarning)\n",
      "/home/brown/python_packages/patched_gpr/patched_gpr.py:505: ConvergenceWarning: fmin_l_bfgs_b terminated abnormally with the  state: {'task': b'ABNORMAL_TERMINATION_IN_LNSRCH', 'nit': 0, 'warnflag': 2, 'grad': array([ 1.13044714e-04,  7.91165456e+00, -2.25454807e+00, -2.12406685e+00]), 'funcalls': 21}\n",
      "  ConvergenceWarning)\n",
      "/home/brown/python_packages/patched_gpr/patched_gpr.py:505: ConvergenceWarning: fmin_l_bfgs_b terminated abnormally with the  state: {'task': b'ABNORMAL_TERMINATION_IN_LNSRCH', 'nit': 0, 'warnflag': 2, 'grad': array([ 1.14207482e-04,  8.33228447e+00, -2.25616244e+00, -2.22297888e+00]), 'funcalls': 21}\n",
      "  ConvergenceWarning)\n",
      "/home/brown/python_packages/patched_gpr/patched_gpr.py:505: ConvergenceWarning: fmin_l_bfgs_b terminated abnormally with the  state: {'task': b'ABNORMAL_TERMINATION_IN_LNSRCH', 'nit': 0, 'warnflag': 2, 'grad': array([ 1.15350908e-04,  8.25334999e+00, -2.25691303e+00, -2.32216799e+00]), 'funcalls': 21}\n",
      "  ConvergenceWarning)\n",
      "/home/brown/python_packages/patched_gpr/patched_gpr.py:505: ConvergenceWarning: fmin_l_bfgs_b terminated abnormally with the  state: {'task': b'ABNORMAL_TERMINATION_IN_LNSRCH', 'nit': 0, 'warnflag': 2, 'grad': array([ 1.16474325e-04,  8.17486576e+00, -2.25681507e+00, -2.42162968e+00]), 'funcalls': 21}\n",
      "  ConvergenceWarning)\n",
      "/home/brown/python_packages/patched_gpr/patched_gpr.py:505: ConvergenceWarning: fmin_l_bfgs_b terminated abnormally with the  state: {'task': b'ABNORMAL_TERMINATION_IN_LNSRCH', 'nit': 0, 'warnflag': 2, 'grad': array([ 1.17577197e-04,  8.09684601e+00, -2.25589315e+00, -2.52136871e+00]), 'funcalls': 21}\n",
      "  ConvergenceWarning)\n",
      "/home/brown/python_packages/patched_gpr/patched_gpr.py:505: ConvergenceWarning: fmin_l_bfgs_b terminated abnormally with the  state: {'task': b'ABNORMAL_TERMINATION_IN_LNSRCH', 'nit': 0, 'warnflag': 2, 'grad': array([ 1.18659096e-04,  8.01930868e+00, -2.25418205e+00, -2.62139761e+00]), 'funcalls': 21}\n",
      "  ConvergenceWarning)\n",
      "/home/brown/python_packages/patched_gpr/patched_gpr.py:505: ConvergenceWarning: fmin_l_bfgs_b terminated abnormally with the  state: {'task': b'ABNORMAL_TERMINATION_IN_LNSRCH', 'nit': 0, 'warnflag': 2, 'grad': array([ 1.19719430e-04,  8.44227972e+00, -2.25172456e+00, -2.72172982e+00]), 'funcalls': 21}\n",
      "  ConvergenceWarning)\n",
      "/home/brown/python_packages/patched_gpr/patched_gpr.py:505: ConvergenceWarning: fmin_l_bfgs_b terminated abnormally with the  state: {'task': b'ABNORMAL_TERMINATION_IN_LNSRCH', 'nit': 0, 'warnflag': 2, 'grad': array([ 1.20757561e-04,  8.36577823e+00, -2.24856590e+00, -2.82238147e+00]), 'funcalls': 21}\n",
      "  ConvergenceWarning)\n",
      "/home/brown/python_packages/patched_gpr/patched_gpr.py:505: ConvergenceWarning: fmin_l_bfgs_b terminated abnormally with the  state: {'task': b'ABNORMAL_TERMINATION_IN_LNSRCH', 'nit': 0, 'warnflag': 2, 'grad': array([ 1.21773041e-04,  8.28981991e+00, -2.24474604e+00, -2.92337704e+00]), 'funcalls': 21}\n",
      "  ConvergenceWarning)\n",
      "/home/brown/python_packages/patched_gpr/patched_gpr.py:505: ConvergenceWarning: fmin_l_bfgs_b terminated abnormally with the  state: {'task': b'ABNORMAL_TERMINATION_IN_LNSRCH', 'nit': 0, 'warnflag': 2, 'grad': array([ 1.22765565e-04,  8.21441965e+00, -2.24031007e+00, -3.02474729e+00]), 'funcalls': 21}\n",
      "  ConvergenceWarning)\n",
      "/home/brown/python_packages/patched_gpr/patched_gpr.py:505: ConvergenceWarning: fmin_l_bfgs_b terminated abnormally with the  state: {'task': b'ABNORMAL_TERMINATION_IN_LNSRCH', 'nit': 0, 'warnflag': 2, 'grad': array([ 1.23734946e-04,  8.13959596e+00, -2.23530923e+00, -3.12652727e+00]), 'funcalls': 21}\n",
      "  ConvergenceWarning)\n",
      "/home/brown/python_packages/patched_gpr/patched_gpr.py:505: ConvergenceWarning: fmin_l_bfgs_b terminated abnormally with the  state: {'task': b'ABNORMAL_TERMINATION_IN_LNSRCH', 'nit': 0, 'warnflag': 2, 'grad': array([ 1.24680874e-04,  8.56537516e+00, -2.22980115e+00, -3.22874680e+00]), 'funcalls': 21}\n",
      "  ConvergenceWarning)\n",
      "/home/brown/python_packages/patched_gpr/patched_gpr.py:505: ConvergenceWarning: fmin_l_bfgs_b terminated abnormally with the  state: {'task': b'ABNORMAL_TERMINATION_IN_LNSRCH', 'nit': 0, 'warnflag': 2, 'grad': array([ 1.25602993e-04,  8.49177725e+00, -2.22384397e+00, -3.33143210e+00]), 'funcalls': 21}\n",
      "  ConvergenceWarning)\n",
      "/home/brown/python_packages/patched_gpr/patched_gpr.py:505: ConvergenceWarning: fmin_l_bfgs_b terminated abnormally with the  state: {'task': b'ABNORMAL_TERMINATION_IN_LNSRCH', 'nit': 0, 'warnflag': 2, 'grad': array([ 1.26501137e-04,  8.41881855e+00, -2.21748594e+00, -3.43461376e+00]), 'funcalls': 21}\n",
      "  ConvergenceWarning)\n"
     ]
    },
    {
     "name": "stderr",
     "output_type": "stream",
     "text": [
      "/home/brown/python_packages/patched_gpr/patched_gpr.py:505: ConvergenceWarning: fmin_l_bfgs_b terminated abnormally with the  state: {'task': b'ABNORMAL_TERMINATION_IN_LNSRCH', 'nit': 0, 'warnflag': 2, 'grad': array([ 1.27375279e-04,  8.34651415e+00, -2.21077568e+00, -3.53832486e+00]), 'funcalls': 21}\n",
      "  ConvergenceWarning)\n",
      "/home/brown/python_packages/patched_gpr/patched_gpr.py:505: ConvergenceWarning: fmin_l_bfgs_b terminated abnormally with the  state: {'task': b'ABNORMAL_TERMINATION_IN_LNSRCH', 'nit': 0, 'warnflag': 2, 'grad': array([ 1.28225507e-04,  8.27488263e+00, -2.20376365e+00, -3.64259926e+00]), 'funcalls': 21}\n",
      "  ConvergenceWarning)\n",
      "/home/brown/python_packages/patched_gpr/patched_gpr.py:505: ConvergenceWarning: fmin_l_bfgs_b terminated abnormally with the  state: {'task': b'ABNORMAL_TERMINATION_IN_LNSRCH', 'nit': 0, 'warnflag': 2, 'grad': array([ 1.29051817e-04,  8.70395016e+00, -2.19650031e+00, -3.74746523e+00]), 'funcalls': 21}\n",
      "  ConvergenceWarning)\n",
      "/home/brown/python_packages/patched_gpr/patched_gpr.py:505: ConvergenceWarning: fmin_l_bfgs_b terminated abnormally with the  state: {'task': b'ABNORMAL_TERMINATION_IN_LNSRCH', 'nit': 0, 'warnflag': 2, 'grad': array([ 1.29854159e-04,  8.63373711e+00, -2.18903145e+00, -3.85294597e+00]), 'funcalls': 21}\n",
      "  ConvergenceWarning)\n",
      "/home/brown/python_packages/patched_gpr/patched_gpr.py:505: ConvergenceWarning: fmin_l_bfgs_b terminated abnormally with the  state: {'task': b'ABNORMAL_TERMINATION_IN_LNSRCH', 'nit': 0, 'warnflag': 2, 'grad': array([ 1.30632660e-04,  8.56425992e+00, -2.18138931e+00, -3.95906556e+00]), 'funcalls': 21}\n",
      "  ConvergenceWarning)\n",
      "/home/brown/python_packages/patched_gpr/patched_gpr.py:505: ConvergenceWarning: fmin_l_bfgs_b terminated abnormally with the  state: {'task': b'ABNORMAL_TERMINATION_IN_LNSRCH', 'nit': 0, 'warnflag': 2, 'grad': array([ 1.31387579e-04,  8.49553331e+00, -2.17360317e+00, -4.06584759e+00]), 'funcalls': 21}\n",
      "  ConvergenceWarning)\n",
      "/home/brown/python_packages/patched_gpr/patched_gpr.py:505: ConvergenceWarning: fmin_l_bfgs_b terminated abnormally with the  state: {'task': b'ABNORMAL_TERMINATION_IN_LNSRCH', 'nit': 0, 'warnflag': 2, 'grad': array([ 1.32119282e-04,  8.42757536e+00, -2.16570157e+00, -4.17331381e+00]), 'funcalls': 21}\n",
      "  ConvergenceWarning)\n",
      "/home/brown/python_packages/patched_gpr/patched_gpr.py:505: ConvergenceWarning: fmin_l_bfgs_b terminated abnormally with the  state: {'task': b'ABNORMAL_TERMINATION_IN_LNSRCH', 'nit': 0, 'warnflag': 2, 'grad': array([ 1.32828000e-04,  8.86041154e+00, -2.15771076e+00, -4.28147625e+00]), 'funcalls': 21}\n",
      "  ConvergenceWarning)\n",
      "/home/brown/python_packages/patched_gpr/patched_gpr.py:505: ConvergenceWarning: fmin_l_bfgs_b terminated abnormally with the  state: {'task': b'ABNORMAL_TERMINATION_IN_LNSRCH', 'nit': 0, 'warnflag': 2, 'grad': array([ 1.33513851e-04,  8.79406194e+00, -2.14965081e+00, -4.39033734e+00]), 'funcalls': 21}\n",
      "  ConvergenceWarning)\n",
      "/home/brown/python_packages/patched_gpr/patched_gpr.py:505: ConvergenceWarning: fmin_l_bfgs_b terminated abnormally with the  state: {'task': b'ABNORMAL_TERMINATION_IN_LNSRCH', 'nit': 0, 'warnflag': 2, 'grad': array([ 1.34177119e-04,  8.72854254e+00, -2.14152664e+00, -4.49989785e+00]), 'funcalls': 21}\n",
      "  ConvergenceWarning)\n",
      "/home/brown/python_packages/patched_gpr/patched_gpr.py:505: ConvergenceWarning: fmin_l_bfgs_b terminated abnormally with the  state: {'task': b'ABNORMAL_TERMINATION_IN_LNSRCH', 'nit': 1, 'warnflag': 2, 'grad': array([ 1.34694554e-04,  8.66386687e+00, -2.14287646e+00, -4.52804338e+00]), 'funcalls': 51}\n",
      "  ConvergenceWarning)\n",
      "/home/brown/python_packages/patched_gpr/patched_gpr.py:505: ConvergenceWarning: fmin_l_bfgs_b terminated abnormally with the  state: {'task': b'ABNORMAL_TERMINATION_IN_LNSRCH', 'nit': 1, 'warnflag': 2, 'grad': array([ 1.35111460e-04,  8.60005199e+00, -2.15028173e+00, -4.50422656e+00]), 'funcalls': 54}\n",
      "  ConvergenceWarning)\n",
      "/home/brown/python_packages/patched_gpr/patched_gpr.py:505: ConvergenceWarning: fmin_l_bfgs_b terminated abnormally with the  state: {'task': b'ABNORMAL_TERMINATION_IN_LNSRCH', 'nit': 1, 'warnflag': 2, 'grad': array([ 1.35535456e-04,  8.53711994e+00, -2.15474402e+00, -4.50343640e+00]), 'funcalls': 50}\n",
      "  ConvergenceWarning)\n",
      "/home/brown/python_packages/patched_gpr/patched_gpr.py:505: ConvergenceWarning: fmin_l_bfgs_b terminated abnormally with the  state: {'task': b'ABNORMAL_TERMINATION_IN_LNSRCH', 'nit': 0, 'warnflag': 2, 'grad': array([ 1.36114667e-04,  8.97509673e+00, -2.14582561e+00, -4.61719716e+00]), 'funcalls': 21}\n",
      "  ConvergenceWarning)\n",
      "/home/brown/python_packages/patched_gpr/patched_gpr.py:505: ConvergenceWarning: fmin_l_bfgs_b terminated abnormally with the  state: {'task': b'ABNORMAL_TERMINATION_IN_LNSRCH', 'nit': 1, 'warnflag': 2, 'grad': array([ 1.36480213e-04,  8.91399001e+00, -2.15228951e+00, -4.60033976e+00]), 'funcalls': 52}\n",
      "  ConvergenceWarning)\n",
      "/home/brown/python_packages/patched_gpr/patched_gpr.py:505: ConvergenceWarning: fmin_l_bfgs_b terminated abnormally with the  state: {'task': b'ABNORMAL_TERMINATION_IN_LNSRCH', 'nit': 1, 'warnflag': 2, 'grad': array([ 1.36844100e-04,  8.85381443e+00, -2.15654299e+00, -4.59948725e+00]), 'funcalls': 50}\n",
      "  ConvergenceWarning)\n",
      "/home/brown/python_packages/patched_gpr/patched_gpr.py:505: ConvergenceWarning: fmin_l_bfgs_b terminated abnormally with the  state: {'task': b'ABNORMAL_TERMINATION_IN_LNSRCH', 'nit': 1, 'warnflag': 2, 'grad': array([ 1.37186981e-04,  8.79458510e+00, -2.16037416e+00, -4.59975211e+00]), 'funcalls': 50}\n",
      "  ConvergenceWarning)\n",
      "/home/brown/python_packages/patched_gpr/patched_gpr.py:505: ConvergenceWarning: fmin_l_bfgs_b terminated abnormally with the  state: {'task': b'ABNORMAL_TERMINATION_IN_LNSRCH', 'nit': 1, 'warnflag': 2, 'grad': array([ 1.37509457e-04,  8.73632183e+00, -2.16375890e+00, -4.60100879e+00]), 'funcalls': 50}\n",
      "  ConvergenceWarning)\n",
      "/home/brown/python_packages/patched_gpr/patched_gpr.py:505: ConvergenceWarning: fmin_l_bfgs_b terminated abnormally with the  state: {'task': b'ABNORMAL_TERMINATION_IN_LNSRCH', 'nit': 0, 'warnflag': 2, 'grad': array([ 1.37995997e-04,  9.17904895e+00, -2.15307715e+00, -4.72043614e+00]), 'funcalls': 21}\n",
      "  ConvergenceWarning)\n",
      "/home/brown/python_packages/patched_gpr/patched_gpr.py:505: ConvergenceWarning: fmin_l_bfgs_b terminated abnormally with the  state: {'task': b'ABNORMAL_TERMINATION_IN_LNSRCH', 'nit': 1, 'warnflag': 2, 'grad': array([ 1.38190392e-04,  9.12277224e+00, -2.16425532e+00, -4.65384349e+00]), 'funcalls': 52}\n",
      "  ConvergenceWarning)\n",
      "/home/brown/python_packages/patched_gpr/patched_gpr.py:505: ConvergenceWarning: fmin_l_bfgs_b terminated abnormally with the  state: {'task': b'ABNORMAL_TERMINATION_IN_LNSRCH', 'nit': 1, 'warnflag': 2, 'grad': array([ 1.38586893e-04,  9.06750440e+00, -2.15684739e+00, -4.73844310e+00]), 'funcalls': 53}\n",
      "  ConvergenceWarning)\n",
      "/home/brown/python_packages/patched_gpr/patched_gpr.py:505: ConvergenceWarning: fmin_l_bfgs_b terminated abnormally with the  state: {'task': b'ABNORMAL_TERMINATION_IN_LNSRCH', 'nit': 1, 'warnflag': 2, 'grad': array([ 1.38690124e-04,  9.01325723e+00, -2.17120043e+00, -4.63672257e+00]), 'funcalls': 53}\n",
      "  ConvergenceWarning)\n",
      "/home/brown/python_packages/patched_gpr/patched_gpr.py:505: ConvergenceWarning: fmin_l_bfgs_b terminated abnormally with the  state: {'task': b'ABNORMAL_TERMINATION_IN_LNSRCH', 'nit': 1, 'warnflag': 2, 'grad': array([ 1.39107254e-04,  8.96004871e+00, -2.15864578e+00, -4.75619740e+00]), 'funcalls': 52}\n",
      "  ConvergenceWarning)\n",
      "/home/brown/python_packages/patched_gpr/patched_gpr.py:505: ConvergenceWarning: fmin_l_bfgs_b terminated abnormally with the  state: {'task': b'ABNORMAL_TERMINATION_IN_LNSRCH', 'nit': 1, 'warnflag': 2, 'grad': array([ 1.39385864e-04,  9.40789962e+00, -2.15530082e+00, -4.79343749e+00]), 'funcalls': 51}\n",
      "  ConvergenceWarning)\n",
      "/home/brown/python_packages/patched_gpr/patched_gpr.py:505: ConvergenceWarning: fmin_l_bfgs_b terminated abnormally with the  state: {'task': b'ABNORMAL_TERMINATION_IN_LNSRCH', 'nit': 1, 'warnflag': 2, 'grad': array([ 1.39502039e-04,  9.35681401e+00, -2.16320999e+00, -4.73076589e+00]), 'funcalls': 52}\n",
      "  ConvergenceWarning)\n",
      "/home/brown/python_packages/patched_gpr/patched_gpr.py:505: ConvergenceWarning: fmin_l_bfgs_b terminated abnormally with the  state: {'task': b'ABNORMAL_TERMINATION_IN_LNSRCH', 'nit': 1, 'warnflag': 2, 'grad': array([ 1.39841657e-04,  9.30680123e+00, -2.15118497e+00, -4.82888736e+00]), 'funcalls': 55}\n",
      "  ConvergenceWarning)\n"
     ]
    },
    {
     "name": "stderr",
     "output_type": "stream",
     "text": [
      "/home/brown/python_packages/patched_gpr/patched_gpr.py:505: ConvergenceWarning: fmin_l_bfgs_b terminated abnormally with the  state: {'task': b'ABNORMAL_TERMINATION_IN_LNSRCH', 'nit': 1, 'warnflag': 2, 'grad': array([ 1.39830892e-04,  9.25786965e+00, -2.16553033e+00, -4.69937826e+00]), 'funcalls': 56}\n",
      "  ConvergenceWarning)\n",
      "/home/brown/python_packages/patched_gpr/patched_gpr.py:505: ConvergenceWarning: fmin_l_bfgs_b terminated abnormally with the  state: {'task': b'ABNORMAL_TERMINATION_IN_LNSRCH', 'nit': 0, 'warnflag': 2, 'grad': array([ 1.40193206e-04,  9.21003392e+00, -2.14815954e+00, -4.82856851e+00]), 'funcalls': 21}\n",
      "  ConvergenceWarning)\n",
      "/home/brown/python_packages/patched_gpr/patched_gpr.py:505: ConvergenceWarning: fmin_l_bfgs_b terminated abnormally with the  state: {'task': b'ABNORMAL_TERMINATION_IN_LNSRCH', 'nit': 1, 'warnflag': 2, 'grad': array([ 1.40411065e-04,  9.66331135e+00, -2.14035469e+00, -4.86961200e+00]), 'funcalls': 51}\n",
      "  ConvergenceWarning)\n",
      "/home/brown/python_packages/patched_gpr/patched_gpr.py:505: ConvergenceWarning: fmin_l_bfgs_b terminated abnormally with the  state: {'task': b'ABNORMAL_TERMINATION_IN_LNSRCH', 'nit': 1, 'warnflag': 2, 'grad': array([ 1.40468019e-04,  9.61770289e+00, -2.14374054e+00, -4.80855798e+00]), 'funcalls': 52}\n",
      "  ConvergenceWarning)\n",
      "/home/brown/python_packages/patched_gpr/patched_gpr.py:505: ConvergenceWarning: fmin_l_bfgs_b terminated abnormally with the  state: {'task': b'ABNORMAL_TERMINATION_IN_LNSRCH', 'nit': 1, 'warnflag': 2, 'grad': array([ 1.40722621e-04,  9.57321390e+00, -2.12909000e+00, -4.88944945e+00]), 'funcalls': 57}\n",
      "  ConvergenceWarning)\n",
      "/home/brown/python_packages/patched_gpr/patched_gpr.py:505: ConvergenceWarning: fmin_l_bfgs_b terminated abnormally with the  state: {'task': b'ABNORMAL_TERMINATION_IN_LNSRCH', 'nit': 1, 'warnflag': 2, 'grad': array([ 1.40675633e-04,  9.52984885e+00, -2.13689245e+00, -4.77258886e+00]), 'funcalls': 55}\n",
      "  ConvergenceWarning)\n",
      "/home/brown/python_packages/patched_gpr/patched_gpr.py:505: ConvergenceWarning: fmin_l_bfgs_b terminated abnormally with the  state: {'task': b'ABNORMAL_TERMINATION_IN_LNSRCH', 'nit': 0, 'warnflag': 2, 'grad': array([ 1.40993372e-04,  9.48761800e+00, -2.11378658e+00, -4.90602185e+00]), 'funcalls': 21}\n",
      "  ConvergenceWarning)\n",
      "/home/brown/python_packages/patched_gpr/patched_gpr.py:505: ConvergenceWarning: fmin_l_bfgs_b terminated abnormally with the  state: {'task': b'ABNORMAL_TERMINATION_IN_LNSRCH', 'nit': 1, 'warnflag': 2, 'grad': array([ 1.41118713e-04,  9.94653452e+00, -2.10425361e+00, -4.91529764e+00]), 'funcalls': 50}\n",
      "  ConvergenceWarning)\n",
      "/home/brown/python_packages/patched_gpr/patched_gpr.py:505: ConvergenceWarning: fmin_l_bfgs_b terminated abnormally with the  state: {'task': b'ABNORMAL_TERMINATION_IN_LNSRCH', 'nit': 1, 'warnflag': 2, 'grad': array([ 1.41164120e-04,  9.90659571e+00, -2.09921892e+00, -4.87582083e+00]), 'funcalls': 51}\n",
      "  ConvergenceWarning)\n",
      "/home/brown/python_packages/patched_gpr/patched_gpr.py:505: ConvergenceWarning: fmin_l_bfgs_b terminated abnormally with the  state: {'task': b'ABNORMAL_TERMINATION_IN_LNSRCH', 'nit': 1, 'warnflag': 2, 'grad': array([ 1.41276407e-04,  9.86780197e+00, -2.08644090e+00, -4.88900040e+00]), 'funcalls': 50}\n",
      "  ConvergenceWarning)\n",
      "/home/brown/python_packages/patched_gpr/patched_gpr.py:505: ConvergenceWarning: fmin_l_bfgs_b terminated abnormally with the  state: {'task': b'ABNORMAL_TERMINATION_IN_LNSRCH', 'nit': 1, 'warnflag': 2, 'grad': array([ 1.41343805e-04,  9.83015368e+00, -2.07541802e+00, -4.87599834e+00]), 'funcalls': 54}\n",
      "  ConvergenceWarning)\n",
      "/home/brown/python_packages/patched_gpr/patched_gpr.py:505: ConvergenceWarning: fmin_l_bfgs_b terminated abnormally with the  state: {'task': b'ABNORMAL_TERMINATION_IN_LNSRCH', 'nit': 1, 'warnflag': 2, 'grad': array([ 1.41405952e-04,  9.79365509e+00, -2.06275919e+00, -4.86447656e+00]), 'funcalls': 54}\n",
      "  ConvergenceWarning)\n",
      "/home/brown/python_packages/patched_gpr/patched_gpr.py:505: ConvergenceWarning: fmin_l_bfgs_b terminated abnormally with the  state: {'task': b'ABNORMAL_TERMINATION_IN_LNSRCH', 'nit': 0, 'warnflag': 2, 'grad': array([ 1.41690707e-04,  1.02583159e+01, -2.03131155e+00, -5.00173276e+00]), 'funcalls': 21}\n",
      "  ConvergenceWarning)\n",
      "/home/brown/python_packages/patched_gpr/patched_gpr.py:505: ConvergenceWarning: fmin_l_bfgs_b terminated abnormally with the  state: {'task': b'ABNORMAL_TERMINATION_IN_LNSRCH', 'nit': 1, 'warnflag': 2, 'grad': array([ 1.41312990e-04,  1.02241272e+01, -2.05384649e+00, -4.68149144e+00]), 'funcalls': 50}\n",
      "  ConvergenceWarning)\n",
      "/home/brown/python_packages/patched_gpr/patched_gpr.py:505: ConvergenceWarning: fmin_l_bfgs_b terminated abnormally with the  state: {'task': b'ABNORMAL_TERMINATION_IN_LNSRCH', 'nit': 0, 'warnflag': 2, 'grad': array([ 1.41593874e-04,  1.01910862e+01, -2.01882806e+00, -4.82185719e+00]), 'funcalls': 21}\n",
      "  ConvergenceWarning)\n",
      "/home/brown/python_packages/patched_gpr/patched_gpr.py:505: ConvergenceWarning: fmin_l_bfgs_b terminated abnormally with the  state: {'task': b'ABNORMAL_TERMINATION_IN_LNSRCH', 'nit': 0, 'warnflag': 2, 'grad': array([ 1.41869650e-04,  1.01591870e+01, -1.98266411e+00, -4.96140408e+00]), 'funcalls': 21}\n",
      "  ConvergenceWarning)\n",
      "/home/brown/python_packages/patched_gpr/patched_gpr.py:505: ConvergenceWarning: fmin_l_bfgs_b terminated abnormally with the  state: {'task': b'ABNORMAL_TERMINATION_IN_LNSRCH', 'nit': 1, 'warnflag': 2, 'grad': array([ 1.41224339e-04,  1.01284266e+01, -2.02055559e+00, -4.47880346e+00]), 'funcalls': 49}\n",
      "  ConvergenceWarning)\n",
      "/home/brown/python_packages/patched_gpr/patched_gpr.py:505: ConvergenceWarning: fmin_l_bfgs_b terminated abnormally with the  state: {'task': b'ABNORMAL_TERMINATION_IN_LNSRCH', 'nit': 0, 'warnflag': 2, 'grad': array([ 1.41500951e-04,  1.05988122e+01, -1.98035686e+00, -4.62310733e+00]), 'funcalls': 21}\n",
      "  ConvergenceWarning)\n",
      "/home/brown/python_packages/patched_gpr/patched_gpr.py:505: ConvergenceWarning: fmin_l_bfgs_b terminated abnormally with the  state: {'task': b'ABNORMAL_TERMINATION_IN_LNSRCH', 'nit': 0, 'warnflag': 2, 'grad': array([ 1.41772743e-04,  1.05703298e+01, -1.93906193e+00, -4.76639329e+00]), 'funcalls': 21}\n",
      "  ConvergenceWarning)\n",
      "/home/brown/python_packages/patched_gpr/patched_gpr.py:505: ConvergenceWarning: fmin_l_bfgs_b terminated abnormally with the  state: {'task': b'ABNORMAL_TERMINATION_IN_LNSRCH', 'nit': 0, 'warnflag': 2, 'grad': array([ 1.42039887e-04,  1.05429685e+01, -1.89668747e+00, -4.90860607e+00]), 'funcalls': 21}\n",
      "  ConvergenceWarning)\n",
      "/home/brown/python_packages/patched_gpr/patched_gpr.py:505: ConvergenceWarning: fmin_l_bfgs_b terminated abnormally with the  state: {'task': b'ABNORMAL_TERMINATION_IN_LNSRCH', 'nit': 1, 'warnflag': 2, 'grad': array([ 1.41942930e-04,  1.05167173e+01, -1.88282514e+00, -4.80577332e+00]), 'funcalls': 55}\n",
      "  ConvergenceWarning)\n",
      "/home/brown/python_packages/patched_gpr/patched_gpr.py:505: ConvergenceWarning: fmin_l_bfgs_b terminated abnormally with the  state: {'task': b'ABNORMAL_TERMINATION_IN_LNSRCH', 'nit': 1, 'warnflag': 2, 'grad': array([ 1.42072806e-04,  1.04915698e+01, -1.84788821e+00, -4.86280703e+00]), 'funcalls': 51}\n",
      "  ConvergenceWarning)\n",
      "/home/brown/python_packages/patched_gpr/patched_gpr.py:505: ConvergenceWarning: fmin_l_bfgs_b terminated abnormally with the  state: {'task': b'ABNORMAL_TERMINATION_IN_LNSRCH', 'nit': 1, 'warnflag': 2, 'grad': array([ 1.42154636e-04,  1.09675236e+01, -1.81601930e+00, -4.88595622e+00]), 'funcalls': 50}\n",
      "  ConvergenceWarning)\n",
      "/home/brown/python_packages/patched_gpr/patched_gpr.py:505: ConvergenceWarning: fmin_l_bfgs_b terminated abnormally with the  state: {'task': b'ABNORMAL_TERMINATION_IN_LNSRCH', 'nit': 1, 'warnflag': 2, 'grad': array([ 1.42125154e-04,  1.09445611e+01, -1.79252316e+00, -4.83257410e+00]), 'funcalls': 53}\n",
      "  ConvergenceWarning)\n",
      "/home/brown/python_packages/patched_gpr/patched_gpr.py:505: ConvergenceWarning: fmin_l_bfgs_b terminated abnormally with the  state: {'task': b'ABNORMAL_TERMINATION_IN_LNSRCH', 'nit': 1, 'warnflag': 2, 'grad': array([ 1.42105989e-04,  1.09226655e+01, -1.76603802e+00, -4.79246535e+00]), 'funcalls': 52}\n",
      "  ConvergenceWarning)\n",
      "/home/brown/python_packages/patched_gpr/patched_gpr.py:505: ConvergenceWarning: fmin_l_bfgs_b terminated abnormally with the  state: {'task': b'ABNORMAL_TERMINATION_IN_LNSRCH', 'nit': 1, 'warnflag': 2, 'grad': array([ 1.42149312e-04,  1.09018205e+01, -1.73271679e+00, -4.79788377e+00]), 'funcalls': 54}\n",
      "  ConvergenceWarning)\n"
     ]
    },
    {
     "name": "stderr",
     "output_type": "stream",
     "text": [
      "/home/brown/python_packages/patched_gpr/patched_gpr.py:505: ConvergenceWarning: fmin_l_bfgs_b terminated abnormally with the  state: {'task': b'ABNORMAL_TERMINATION_IN_LNSRCH', 'nit': 1, 'warnflag': 2, 'grad': array([ 1.42046492e-04,  1.08820121e+01, -1.71056836e+00, -4.70651326e+00]), 'funcalls': 55}\n",
      "  ConvergenceWarning)\n",
      "/home/brown/python_packages/patched_gpr/patched_gpr.py:505: ConvergenceWarning: fmin_l_bfgs_b terminated abnormally with the  state: {'task': b'ABNORMAL_TERMINATION_IN_LNSRCH', 'nit': 0, 'warnflag': 2, 'grad': array([ 1.42297213e-04,  1.13632335e+01, -1.65758407e+00, -4.85248966e+00]), 'funcalls': 21}\n",
      "  ConvergenceWarning)\n",
      "/home/brown/python_packages/patched_gpr/patched_gpr.py:505: ConvergenceWarning: fmin_l_bfgs_b terminated abnormally with the  state: {'task': b'ABNORMAL_TERMINATION_IN_LNSRCH', 'nit': 1, 'warnflag': 2, 'grad': array([ 1.41675756e-04,  1.13454594e+01, -1.68171058e+00, -4.39578740e+00]), 'funcalls': 49}\n",
      "  ConvergenceWarning)\n",
      "/home/brown/python_packages/patched_gpr/patched_gpr.py:505: ConvergenceWarning: fmin_l_bfgs_b terminated abnormally with the  state: {'task': b'ABNORMAL_TERMINATION_IN_LNSRCH', 'nit': 0, 'warnflag': 2, 'grad': array([ 1.41927271e-04,  1.13286702e+01, -1.62578223e+00, -4.54641813e+00]), 'funcalls': 21}\n",
      "  ConvergenceWarning)\n",
      "/home/brown/python_packages/patched_gpr/patched_gpr.py:505: ConvergenceWarning: fmin_l_bfgs_b terminated abnormally with the  state: {'task': b'ABNORMAL_TERMINATION_IN_LNSRCH', 'nit': 0, 'warnflag': 2, 'grad': array([ 1.42174189e-04,  1.13128417e+01, -1.56934765e+00, -4.69538050e+00]), 'funcalls': 21}\n",
      "  ConvergenceWarning)\n",
      "/home/brown/python_packages/patched_gpr/patched_gpr.py:505: ConvergenceWarning: fmin_l_bfgs_b terminated abnormally with the  state: {'task': b'ABNORMAL_TERMINATION_IN_LNSRCH', 'nit': 1, 'warnflag': 2, 'grad': array([ 1.41786585e-04,  1.12979533e+01, -1.56632818e+00, -4.42885740e+00]), 'funcalls': 50}\n",
      "  ConvergenceWarning)\n",
      "/home/brown/python_packages/patched_gpr/patched_gpr.py:505: ConvergenceWarning: fmin_l_bfgs_b terminated abnormally with the  state: {'task': b'ABNORMAL_TERMINATION_IN_LNSRCH', 'nit': 0, 'warnflag': 2, 'grad': array([ 1.42031414e-04,  1.17839937e+01, -1.50790933e+00, -4.57999661e+00]), 'funcalls': 21}\n",
      "  ConvergenceWarning)\n",
      "/home/brown/python_packages/patched_gpr/patched_gpr.py:505: ConvergenceWarning: fmin_l_bfgs_b terminated abnormally with the  state: {'task': b'ABNORMAL_TERMINATION_IN_LNSRCH', 'nit': 1, 'warnflag': 2, 'grad': array([ 1.42098679e-04,  1.17709333e+01, -1.46350570e+00, -4.61972366e+00]), 'funcalls': 50}\n",
      "  ConvergenceWarning)\n",
      "/home/brown/python_packages/patched_gpr/patched_gpr.py:505: ConvergenceWarning: fmin_l_bfgs_b terminated abnormally with the  state: {'task': b'ABNORMAL_TERMINATION_IN_LNSRCH', 'nit': 1, 'warnflag': 2, 'grad': array([ 1.41717190e-04,  1.17587434e+01, -1.45812045e+00, -4.36573674e+00]), 'funcalls': 50}\n",
      "  ConvergenceWarning)\n",
      "/home/brown/python_packages/patched_gpr/patched_gpr.py:505: ConvergenceWarning: fmin_l_bfgs_b terminated abnormally with the  state: {'task': b'ABNORMAL_TERMINATION_IN_LNSRCH', 'nit': 0, 'warnflag': 2, 'grad': array([ 1.41956484e-04,  1.17473976e+01, -1.39755643e+00, -4.51855073e+00]), 'funcalls': 21}\n",
      "  ConvergenceWarning)\n",
      "/home/brown/python_packages/patched_gpr/patched_gpr.py:505: ConvergenceWarning: fmin_l_bfgs_b terminated abnormally with the  state: {'task': b'ABNORMAL_TERMINATION_IN_LNSRCH', 'nit': 1, 'warnflag': 2, 'grad': array([ 1.41572832e-04,  1.17368687e+01, -1.38960097e+00, -4.27998899e+00]), 'funcalls': 50}\n",
      "  ConvergenceWarning)\n",
      "/home/brown/python_packages/patched_gpr/patched_gpr.py:505: ConvergenceWarning: fmin_l_bfgs_b terminated abnormally with the  state: {'task': b'ABNORMAL_TERMINATION_IN_LNSRCH', 'nit': 0, 'warnflag': 2, 'grad': array([ 1.41809117e-04,  1.22271404e+01, -1.32784661e+00, -4.43448896e+00]), 'funcalls': 21}\n",
      "  ConvergenceWarning)\n",
      "/home/brown/python_packages/patched_gpr/patched_gpr.py:505: ConvergenceWarning: fmin_l_bfgs_b terminated abnormally with the  state: {'task': b'ABNORMAL_TERMINATION_IN_LNSRCH', 'nit': 1, 'warnflag': 2, 'grad': array([ 1.41767017e-04,  1.22181786e+01, -1.28937458e+00, -4.41772684e+00]), 'funcalls': 53}\n",
      "  ConvergenceWarning)\n",
      "/home/brown/python_packages/patched_gpr/patched_gpr.py:505: ConvergenceWarning: fmin_l_bfgs_b terminated abnormally with the  state: {'task': b'ABNORMAL_TERMINATION_IN_LNSRCH', 'nit': 1, 'warnflag': 2, 'grad': array([ 1.41388658e-04,  1.22099499e+01, -1.27958616e+00, -4.19540977e+00]), 'funcalls': 50}\n",
      "  ConvergenceWarning)\n",
      "/home/brown/python_packages/patched_gpr/patched_gpr.py:505: ConvergenceWarning: fmin_l_bfgs_b terminated abnormally with the  state: {'task': b'ABNORMAL_TERMINATION_IN_LNSRCH', 'nit': 0, 'warnflag': 2, 'grad': array([ 1.41618846e-04,  1.22024235e+01, -1.21667870e+00, -4.35160967e+00]), 'funcalls': 21}\n",
      "  ConvergenceWarning)\n",
      "/home/brown/python_packages/patched_gpr/patched_gpr.py:505: ConvergenceWarning: fmin_l_bfgs_b terminated abnormally with the  state: {'task': b'ABNORMAL_TERMINATION_IN_LNSRCH', 'nit': 1, 'warnflag': 2, 'grad': array([ 1.41007207e-04,  1.21955673e+01, -1.22652058e+00, -3.99659898e+00]), 'funcalls': 49}\n",
      "  ConvergenceWarning)\n",
      "/home/brown/python_packages/patched_gpr/patched_gpr.py:505: ConvergenceWarning: fmin_l_bfgs_b terminated abnormally with the  state: {'task': b'ABNORMAL_TERMINATION_IN_LNSRCH', 'nit': 0, 'warnflag': 2, 'grad': array([ 1.41235941e-04,  1.26893617e+01, -1.16279667e+00, -4.15603471e+00]), 'funcalls': 21}\n",
      "  ConvergenceWarning)\n",
      "/home/brown/python_packages/patched_gpr/patched_gpr.py:505: ConvergenceWarning: fmin_l_bfgs_b terminated abnormally with the  state: {'task': b'ABNORMAL_TERMINATION_IN_LNSRCH', 'nit': 1, 'warnflag': 2, 'grad': array([ 1.41411116e-04,  1.26837697e+01, -1.10330482e+00, -4.28561878e+00]), 'funcalls': 52}\n",
      "  ConvergenceWarning)\n",
      "/home/brown/python_packages/patched_gpr/patched_gpr.py:505: ConvergenceWarning: fmin_l_bfgs_b terminated abnormally with the  state: {'task': b'ABNORMAL_TERMINATION_IN_LNSRCH', 'nit': 1, 'warnflag': 2, 'grad': array([ 1.40802247e-04,  1.26787535e+01, -1.11488689e+00, -3.93604815e+00]), 'funcalls': 49}\n",
      "  ConvergenceWarning)\n",
      "/home/brown/python_packages/patched_gpr/patched_gpr.py:505: ConvergenceWarning: fmin_l_bfgs_b terminated abnormally with the  state: {'task': b'ABNORMAL_TERMINATION_IN_LNSRCH', 'nit': 0, 'warnflag': 2, 'grad': array([ 1.41025488e-04,  1.26742803e+01, -1.05093623e+00, -4.09623921e+00]), 'funcalls': 21}\n",
      "  ConvergenceWarning)\n",
      "/home/brown/python_packages/patched_gpr/patched_gpr.py:505: ConvergenceWarning: fmin_l_bfgs_b terminated abnormally with the  state: {'task': b'ABNORMAL_TERMINATION_IN_LNSRCH', 'nit': 1, 'warnflag': 2, 'grad': array([ 1.40430059e-04,  1.26703152e+01, -1.05558939e+00, -3.79631194e+00]), 'funcalls': 49}\n",
      "  ConvergenceWarning)\n",
      "/home/brown/python_packages/patched_gpr/patched_gpr.py:505: ConvergenceWarning: fmin_l_bfgs_b terminated abnormally with the  state: {'task': b'ABNORMAL_TERMINATION_IN_LNSRCH', 'nit': 0, 'warnflag': 2, 'grad': array([ 1.40652248e-04,  1.31668361e+01, -9.91456892e-01, -3.95836004e+00]), 'funcalls': 21}\n",
      "  ConvergenceWarning)\n",
      "/home/brown/python_packages/patched_gpr/patched_gpr.py:505: ConvergenceWarning: fmin_l_bfgs_b terminated abnormally with the  state: {'task': b'ABNORMAL_TERMINATION_IN_LNSRCH', 'nit': 1, 'warnflag': 2, 'grad': array([ 1.40607672e-04,  1.31638051e+01, -9.49086887e-01, -3.97680857e+00]), 'funcalls': 53}\n",
      "  ConvergenceWarning)\n",
      "/home/brown/python_packages/patched_gpr/patched_gpr.py:505: ConvergenceWarning: fmin_l_bfgs_b terminated abnormally with the  state: {'task': b'ABNORMAL_TERMINATION_IN_LNSRCH', 'nit': 1, 'warnflag': 2, 'grad': array([ 1.40021987e-04,  1.31611839e+01, -9.53215037e-01, -3.69713894e+00]), 'funcalls': 49}\n",
      "  ConvergenceWarning)\n",
      "/home/brown/python_packages/patched_gpr/patched_gpr.py:505: ConvergenceWarning: fmin_l_bfgs_b terminated abnormally with the  state: {'task': b'ABNORMAL_TERMINATION_IN_LNSRCH', 'nit': 0, 'warnflag': 2, 'grad': array([ 1.40241326e-04,  1.31589385e+01, -8.89278729e-01, -3.85965872e+00]), 'funcalls': 21}\n",
      "  ConvergenceWarning)\n",
      "/home/brown/python_packages/patched_gpr/patched_gpr.py:505: ConvergenceWarning: fmin_l_bfgs_b terminated abnormally with the  state: {'task': b'ABNORMAL_TERMINATION_IN_LNSRCH', 'nit': 1, 'warnflag': 2, 'grad': array([ 1.39661600e-04,  1.31570342e+01, -8.91561426e-01, -3.60102196e+00]), 'funcalls': 49}\n",
      "  ConvergenceWarning)\n",
      "/home/brown/python_packages/patched_gpr/patched_gpr.py:505: ConvergenceWarning: fmin_l_bfgs_b terminated abnormally with the  state: {'task': b'ABNORMAL_TERMINATION_IN_LNSRCH', 'nit': 0, 'warnflag': 2, 'grad': array([ 1.39880286e-04,  1.36554494e+01, -8.27767186e-01, -3.76404346e+00]), 'funcalls': 21}\n",
      "  ConvergenceWarning)\n"
     ]
    },
    {
     "name": "stderr",
     "output_type": "stream",
     "text": [
      "/home/brown/python_packages/patched_gpr/patched_gpr.py:505: ConvergenceWarning: fmin_l_bfgs_b terminated abnormally with the  state: {'task': b'ABNORMAL_TERMINATION_IN_LNSRCH', 'nit': 1, 'warnflag': 2, 'grad': array([ 1.39311351e-04,  1.36541470e+01, -8.28937134e-01, -3.52260059e+00]), 'funcalls': 49}\n",
      "  ConvergenceWarning)\n",
      "/home/brown/python_packages/patched_gpr/patched_gpr.py:505: ConvergenceWarning: fmin_l_bfgs_b terminated abnormally with the  state: {'task': b'ABNORMAL_TERMINATION_IN_LNSRCH', 'nit': 0, 'warnflag': 2, 'grad': array([ 1.39528932e-04,  1.36530942e+01, -7.65345862e-01, -3.68557310e+00]), 'funcalls': 21}\n",
      "  ConvergenceWarning)\n",
      "/home/brown/python_packages/patched_gpr/patched_gpr.py:505: ConvergenceWarning: fmin_l_bfgs_b terminated abnormally with the  state: {'task': b'ABNORMAL_TERMINATION_IN_LNSRCH', 'nit': 1, 'warnflag': 2, 'grad': array([ 1.38874132e-04,  1.36522545e+01, -7.74178319e-01, -3.40791096e+00]), 'funcalls': 51}\n",
      "  ConvergenceWarning)\n",
      "/home/brown/python_packages/patched_gpr/patched_gpr.py:505: ConvergenceWarning: fmin_l_bfgs_b terminated abnormally with the  state: {'task': b'ABNORMAL_TERMINATION_IN_LNSRCH', 'nit': 0, 'warnflag': 2, 'grad': array([ 1.39091649e-04,  1.36516022e+01, -7.10698686e-01, -3.57124768e+00]), 'funcalls': 21}\n",
      "  ConvergenceWarning)\n",
      "/home/brown/python_packages/patched_gpr/patched_gpr.py:505: ConvergenceWarning: fmin_l_bfgs_b terminated abnormally with the  state: {'task': b'ABNORMAL_TERMINATION_IN_LNSRCH', 'nit': 1, 'warnflag': 2, 'grad': array([ 1.38533807e-04,  1.41511144e+01, -7.10560986e-01, -3.35624294e+00]), 'funcalls': 49}\n",
      "  ConvergenceWarning)\n",
      "/home/brown/python_packages/patched_gpr/patched_gpr.py:505: ConvergenceWarning: fmin_l_bfgs_b terminated abnormally with the  state: {'task': b'ABNORMAL_TERMINATION_IN_LNSRCH', 'nit': 0, 'warnflag': 2, 'grad': array([ 1.38749844e-04,  1.41507656e+01, -6.47325287e-01, -3.51868007e+00]), 'funcalls': 21}\n",
      "  ConvergenceWarning)\n",
      "/home/brown/python_packages/patched_gpr/patched_gpr.py:505: ConvergenceWarning: fmin_l_bfgs_b terminated abnormally with the  state: {'task': b'ABNORMAL_TERMINATION_IN_LNSRCH', 'nit': 1, 'warnflag': 2, 'grad': array([ 1.37741544e-04,  1.41505229e+01, -6.86389804e-01, -3.08529788e+00]), 'funcalls': 52}\n",
      "  ConvergenceWarning)\n",
      "/home/brown/python_packages/patched_gpr/patched_gpr.py:505: ConvergenceWarning: fmin_l_bfgs_b terminated abnormally with the  state: {'task': b'ABNORMAL_TERMINATION_IN_LNSRCH', 'nit': 0, 'warnflag': 2, 'grad': array([ 1.37959687e-04,  1.41503639e+01, -6.22906818e-01, -3.25044083e+00]), 'funcalls': 21}\n",
      "  ConvergenceWarning)\n",
      "/home/brown/python_packages/patched_gpr/patched_gpr.py:505: ConvergenceWarning: fmin_l_bfgs_b terminated abnormally with the  state: {'task': b'ABNORMAL_TERMINATION_IN_LNSRCH', 'nit': 1, 'warnflag': 2, 'grad': array([ 1.37430125e-04,  1.41502649e+01, -6.14999629e-01, -3.09139176e+00]), 'funcalls': 49}\n",
      "  ConvergenceWarning)\n",
      "/home/brown/python_packages/patched_gpr/patched_gpr.py:505: ConvergenceWarning: fmin_l_bfgs_b terminated abnormally with the  state: {'task': b'ABNORMAL_TERMINATION_IN_LNSRCH', 'nit': 0, 'warnflag': 2, 'grad': array([ 1.37645394e-04,  1.46502174e+01, -5.51858250e-01, -3.25441694e+00]), 'funcalls': 21}\n",
      "  ConvergenceWarning)\n",
      "/home/brown/python_packages/patched_gpr/patched_gpr.py:505: ConvergenceWarning: fmin_l_bfgs_b terminated abnormally with the  state: {'task': b'ABNORMAL_TERMINATION_IN_LNSRCH', 'nit': 1, 'warnflag': 2, 'grad': array([ 1.36665508e-04,  1.46502011e+01, -5.83262310e-01, -2.88332973e+00]), 'funcalls': 52}\n",
      "  ConvergenceWarning)\n",
      "/home/brown/python_packages/patched_gpr/patched_gpr.py:505: ConvergenceWarning: fmin_l_bfgs_b terminated abnormally with the  state: {'task': b'ABNORMAL_TERMINATION_IN_LNSRCH', 'nit': 0, 'warnflag': 2, 'grad': array([ 1.36880628e-04,  1.46502023e+01, -5.20036077e-01, -3.04783141e+00]), 'funcalls': 21}\n",
      "  ConvergenceWarning)\n",
      "/home/brown/python_packages/patched_gpr/patched_gpr.py:505: ConvergenceWarning: fmin_l_bfgs_b terminated abnormally with the  state: {'task': b'ABNORMAL_TERMINATION_IN_LNSRCH', 'nit': 1, 'warnflag': 2, 'grad': array([ 1.36355060e-04,  1.46502042e+01, -5.11051056e-01, -2.90748448e+00]), 'funcalls': 49}\n",
      "  ConvergenceWarning)\n",
      "/home/brown/python_packages/patched_gpr/patched_gpr.py:505: ConvergenceWarning: fmin_l_bfgs_b terminated abnormally with the  state: {'task': b'ABNORMAL_TERMINATION_IN_LNSRCH', 'nit': 1, 'warnflag': 2, 'grad': array([ 1.36326969e-04,  1.46502025e+01, -4.64576512e-01, -2.97793703e+00]), 'funcalls': 53}\n",
      "  ConvergenceWarning)\n",
      "/home/brown/python_packages/patched_gpr/patched_gpr.py:505: ConvergenceWarning: fmin_l_bfgs_b terminated abnormally with the  state: {'task': b'ABNORMAL_TERMINATION_IN_LNSRCH', 'nit': 1, 'warnflag': 2, 'grad': array([ 1.35411288e-04,  1.51501996e+01, -4.85275202e-01, -2.68108340e+00]), 'funcalls': 51}\n",
      "  ConvergenceWarning)\n",
      "/home/brown/python_packages/patched_gpr/patched_gpr.py:505: ConvergenceWarning: fmin_l_bfgs_b terminated abnormally with the  state: {'task': b'ABNORMAL_TERMINATION_IN_LNSRCH', 'nit': 0, 'warnflag': 2, 'grad': array([ 1.35620889e-04,  1.51501997e+01, -4.22454890e-01, -2.84498867e+00]), 'funcalls': 21}\n",
      "  ConvergenceWarning)\n",
      "/home/brown/python_packages/patched_gpr/patched_gpr.py:505: ConvergenceWarning: fmin_l_bfgs_b terminated abnormally with the  state: {'task': b'ABNORMAL_TERMINATION_IN_LNSRCH', 'nit': 1, 'warnflag': 2, 'grad': array([ 1.34417918e-04,  1.46501978e+01, -4.61274383e-01, -2.45602975e+00]), 'funcalls': 54}\n",
      "  ConvergenceWarning)\n",
      "/home/brown/python_packages/patched_gpr/patched_gpr.py:505: ConvergenceWarning: fmin_l_bfgs_b terminated abnormally with the  state: {'task': b'ABNORMAL_TERMINATION_IN_LNSRCH', 'nit': 0, 'warnflag': 2, 'grad': array([ 1.34625411e-04,  1.46502010e+01, -3.98493620e-01, -2.62191090e+00]), 'funcalls': 21}\n",
      "  ConvergenceWarning)\n",
      "/home/brown/python_packages/patched_gpr/patched_gpr.py:505: ConvergenceWarning: fmin_l_bfgs_b terminated abnormally with the  state: {'task': b'ABNORMAL_TERMINATION_IN_LNSRCH', 'nit': 1, 'warnflag': 2, 'grad': array([ 1.34000094e-04,  1.46501986e+01, -3.90301056e-01, -2.49136539e+00]), 'funcalls': 53}\n",
      "  ConvergenceWarning)\n",
      "/home/brown/python_packages/patched_gpr/patched_gpr.py:505: ConvergenceWarning: fmin_l_bfgs_b terminated abnormally with the  state: {'task': b'ABNORMAL_TERMINATION_IN_LNSRCH', 'nit': 1, 'warnflag': 2, 'grad': array([ 1.34114454e-04,  1.51501973e+01, -3.33460205e-01, -2.62606687e+00]), 'funcalls': 53}\n",
      "  ConvergenceWarning)\n",
      "/home/brown/python_packages/patched_gpr/patched_gpr.py:505: ConvergenceWarning: fmin_l_bfgs_b terminated abnormally with the  state: {'task': b'ABNORMAL_TERMINATION_IN_LNSRCH', 'nit': 1, 'warnflag': 2, 'grad': array([ 1.30913681e-04,  1.51501917e+01, -5.08533309e-01, -1.52202990e+00]), 'funcalls': 48}\n",
      "  ConvergenceWarning)\n",
      "/home/brown/python_packages/patched_gpr/patched_gpr.py:505: ConvergenceWarning: fmin_l_bfgs_b terminated abnormally with the  state: {'task': b'ABNORMAL_TERMINATION_IN_LNSRCH', 'nit': 0, 'warnflag': 2, 'grad': array([ 1.31122230e-04,  1.46501921e+01, -4.44840038e-01, -1.70141855e+00]), 'funcalls': 21}\n",
      "  ConvergenceWarning)\n",
      "/home/brown/python_packages/patched_gpr/patched_gpr.py:505: ConvergenceWarning: fmin_l_bfgs_b terminated abnormally with the  state: {'task': b'ABNORMAL_TERMINATION_IN_LNSRCH', 'nit': 0, 'warnflag': 2, 'grad': array([ 1.31325042e-04,  1.46501954e+01, -3.81833379e-01, -1.87702216e+00]), 'funcalls': 21}\n",
      "  ConvergenceWarning)\n",
      "/home/brown/python_packages/patched_gpr/patched_gpr.py:505: ConvergenceWarning: fmin_l_bfgs_b terminated abnormally with the  state: {'task': b'ABNORMAL_TERMINATION_IN_LNSRCH', 'nit': 0, 'warnflag': 2, 'grad': array([ 1.31522351e-04,  1.46501945e+01, -3.19516207e-01, -2.04895084e+00]), 'funcalls': 21}\n",
      "  ConvergenceWarning)\n",
      "/home/brown/python_packages/patched_gpr/patched_gpr.py:505: ConvergenceWarning: fmin_l_bfgs_b terminated abnormally with the  state: {'task': b'ABNORMAL_TERMINATION_IN_LNSRCH', 'nit': 0, 'warnflag': 2, 'grad': array([ 1.31714213e-04,  1.51501932e+01, -2.57899523e-01, -2.21730884e+00]), 'funcalls': 21}\n",
      "  ConvergenceWarning)\n",
      "/home/brown/python_packages/patched_gpr/patched_gpr.py:505: ConvergenceWarning: fmin_l_bfgs_b terminated abnormally with the  state: {'task': b'ABNORMAL_TERMINATION_IN_LNSRCH', 'nit': 1, 'warnflag': 2, 'grad': array([ 1.28561645e-04,  1.51501878e+01, -3.96796040e-01, -1.32781375e+00]), 'funcalls': 48}\n",
      "  ConvergenceWarning)\n",
      "/home/brown/python_packages/patched_gpr/patched_gpr.py:505: ConvergenceWarning: fmin_l_bfgs_b terminated abnormally with the  state: {'task': b'ABNORMAL_TERMINATION_IN_LNSRCH', 'nit': 0, 'warnflag': 2, 'grad': array([ 1.28757091e-04,  1.46501881e+01, -3.34154523e-01, -1.50928545e+00]), 'funcalls': 21}\n",
      "  ConvergenceWarning)\n",
      "/home/brown/python_packages/patched_gpr/patched_gpr.py:505: ConvergenceWarning: fmin_l_bfgs_b terminated abnormally with the  state: {'task': b'ABNORMAL_TERMINATION_IN_LNSRCH', 'nit': 0, 'warnflag': 2, 'grad': array([ 1.28946968e-04,  1.46501915e+01, -2.72292682e-01, -1.68721838e+00]), 'funcalls': 21}\n",
      "  ConvergenceWarning)\n"
     ]
    },
    {
     "name": "stderr",
     "output_type": "stream",
     "text": [
      "/home/brown/python_packages/patched_gpr/patched_gpr.py:505: ConvergenceWarning: fmin_l_bfgs_b terminated abnormally with the  state: {'task': b'ABNORMAL_TERMINATION_IN_LNSRCH', 'nit': 0, 'warnflag': 2, 'grad': array([ 1.29131550e-04,  1.46501907e+01, -2.11227930e-01, -1.86172502e+00]), 'funcalls': 21}\n",
      "  ConvergenceWarning)\n",
      "/home/brown/python_packages/patched_gpr/patched_gpr.py:505: ConvergenceWarning: fmin_l_bfgs_b terminated abnormally with the  state: {'task': b'ABNORMAL_TERMINATION_IN_LNSRCH', 'nit': 1, 'warnflag': 2, 'grad': array([ 1.27506488e-04,  1.51501865e+01, -2.42606973e-01, -1.55452328e+00]), 'funcalls': 52}\n",
      "  ConvergenceWarning)\n",
      "/home/brown/python_packages/patched_gpr/patched_gpr.py:505: ConvergenceWarning: fmin_l_bfgs_b terminated abnormally with the  state: {'task': b'ABNORMAL_TERMINATION_IN_LNSRCH', 'nit': 0, 'warnflag': 2, 'grad': array([ 1.27687287e-04,  1.51501863e+01, -1.82045507e-01, -1.73196660e+00]), 'funcalls': 21}\n",
      "  ConvergenceWarning)\n",
      "/home/brown/python_packages/patched_gpr/patched_gpr.py:505: ConvergenceWarning: fmin_l_bfgs_b terminated abnormally with the  state: {'task': b'ABNORMAL_TERMINATION_IN_LNSRCH', 'nit': 1, 'warnflag': 2, 'grad': array([ 1.24341857e-04,  1.46501810e+01, -2.94151533e-01, -1.00915769e+00]), 'funcalls': 48}\n",
      "  ConvergenceWarning)\n",
      "/home/brown/python_packages/patched_gpr/patched_gpr.py:505: ConvergenceWarning: fmin_l_bfgs_b terminated abnormally with the  state: {'task': b'ABNORMAL_TERMINATION_IN_LNSRCH', 'nit': 0, 'warnflag': 2, 'grad': array([ 1.24525703e-04,  1.46501844e+01, -2.33164832e-01, -1.19850130e+00]), 'funcalls': 21}\n",
      "  ConvergenceWarning)\n",
      "/home/brown/python_packages/patched_gpr/patched_gpr.py:505: ConvergenceWarning: fmin_l_bfgs_b terminated abnormally with the  state: {'task': b'ABNORMAL_TERMINATION_IN_LNSRCH', 'nit': 0, 'warnflag': 2, 'grad': array([ 1.24704329e-04,  1.46501839e+01, -1.73167375e-01, -1.38441867e+00]), 'funcalls': 21}\n",
      "  ConvergenceWarning)\n",
      "/home/brown/python_packages/patched_gpr/patched_gpr.py:505: ConvergenceWarning: fmin_l_bfgs_b terminated abnormally with the  state: {'task': b'ABNORMAL_TERMINATION_IN_LNSRCH', 'nit': 0, 'warnflag': 2, 'grad': array([ 1.24877789e-04,  1.51501823e+01, -1.14187036e-01, -1.56697865e+00]), 'funcalls': 21}\n",
      "  ConvergenceWarning)\n",
      "/home/brown/python_packages/patched_gpr/patched_gpr.py:505: ConvergenceWarning: fmin_l_bfgs_b terminated abnormally with the  state: {'task': b'ABNORMAL_TERMINATION_IN_LNSRCH', 'nit': 1, 'warnflag': 2, 'grad': array([ 1.20665060e-04,  1.51501752e+01, -2.65113682e-01, -6.78569906e-01]), 'funcalls': 52}\n",
      "  ConvergenceWarning)\n",
      "/home/brown/python_packages/patched_gpr/patched_gpr.py:505: ConvergenceWarning: fmin_l_bfgs_b terminated abnormally with the  state: {'task': b'ABNORMAL_TERMINATION_IN_LNSRCH', 'nit': 0, 'warnflag': 2, 'grad': array([ 1.20846020e-04,  1.46501754e+01, -2.05460522e-01, -8.77349531e-01]), 'funcalls': 21}\n",
      "  ConvergenceWarning)\n",
      "/home/brown/python_packages/patched_gpr/patched_gpr.py:505: ConvergenceWarning: fmin_l_bfgs_b terminated abnormally with the  state: {'task': b'ABNORMAL_TERMINATION_IN_LNSRCH', 'nit': 0, 'warnflag': 2, 'grad': array([ 1.21021503e-04,  1.46501789e+01, -1.46940469e-01, -1.07249554e+00]), 'funcalls': 21}\n",
      "  ConvergenceWarning)\n",
      "/home/brown/python_packages/patched_gpr/patched_gpr.py:505: ConvergenceWarning: fmin_l_bfgs_b terminated abnormally with the  state: {'task': b'ABNORMAL_TERMINATION_IN_LNSRCH', 'nit': 0, 'warnflag': 2, 'grad': array([ 1.21191714e-04,  1.46501785e+01, -8.95627985e-02, -1.26406617e+00]), 'funcalls': 21}\n",
      "  ConvergenceWarning)\n",
      "/home/brown/python_packages/patched_gpr/patched_gpr.py:505: ConvergenceWarning: fmin_l_bfgs_b terminated abnormally with the  state: {'task': b'ABNORMAL_TERMINATION_IN_LNSRCH', 'nit': 1, 'warnflag': 2, 'grad': array([ 1.16980571e-04,  1.51501701e+01, -2.10343456e-01, -5.50020631e-01]), 'funcalls': 48}\n",
      "  ConvergenceWarning)\n",
      "/home/brown/python_packages/patched_gpr/patched_gpr.py:505: ConvergenceWarning: fmin_l_bfgs_b terminated abnormally with the  state: {'task': b'ABNORMAL_TERMINATION_IN_LNSRCH', 'nit': 0, 'warnflag': 2, 'grad': array([ 1.17155593e-04,  1.51501697e+01, -1.52890573e-01, -7.54215870e-01]), 'funcalls': 21}\n",
      "  ConvergenceWarning)\n",
      "/home/brown/python_packages/patched_gpr/patched_gpr.py:505: ConvergenceWarning: fmin_l_bfgs_b terminated abnormally with the  state: {'task': b'ABNORMAL_TERMINATION_IN_LNSRCH', 'nit': 0, 'warnflag': 2, 'grad': array([ 1.17324966e-04,  1.46501698e+01, -9.66504409e-02, -9.54558992e-01]), 'funcalls': 21}\n",
      "  ConvergenceWarning)\n",
      "/home/brown/python_packages/patched_gpr/patched_gpr.py:505: ConvergenceWarning: fmin_l_bfgs_b terminated abnormally with the  state: {'task': b'ABNORMAL_TERMINATION_IN_LNSRCH', 'nit': 1, 'warnflag': 2, 'grad': array([ 1.15226187e-04,  1.46501699e+01, -1.13027863e-01, -7.84009611e-01]), 'funcalls': 54}\n",
      "  ConvergenceWarning)\n",
      "/home/brown/python_packages/patched_gpr/patched_gpr.py:505: ConvergenceWarning: fmin_l_bfgs_b terminated abnormally with the  state: {'task': b'ABNORMAL_TERMINATION_IN_LNSRCH', 'nit': 0, 'warnflag': 2, 'grad': array([ 1.15390352e-04,  1.46501697e+01, -5.82600036e-02, -9.84881713e-01]), 'funcalls': 21}\n",
      "  ConvergenceWarning)\n",
      "/home/brown/python_packages/patched_gpr/patched_gpr.py:505: ConvergenceWarning: fmin_l_bfgs_b terminated abnormally with the  state: {'task': b'ABNORMAL_TERMINATION_IN_LNSRCH', 'nit': 1, 'warnflag': 2, 'grad': array([ 1.09333029e-04,  1.51501585e+01, -2.24740546e-01, -6.10088690e-02]), 'funcalls': 52}\n",
      "  ConvergenceWarning)\n",
      "/home/brown/python_packages/patched_gpr/patched_gpr.py:505: ConvergenceWarning: fmin_l_bfgs_b terminated abnormally with the  state: {'task': b'ABNORMAL_TERMINATION_IN_LNSRCH', 'nit': 0, 'warnflag': 2, 'grad': array([ 1.09504260e-04,  1.51501580e+01, -1.69473265e-01, -2.79047448e-01]), 'funcalls': 21}\n",
      "  ConvergenceWarning)\n",
      "/home/brown/python_packages/patched_gpr/patched_gpr.py:505: ConvergenceWarning: fmin_l_bfgs_b terminated abnormally with the  state: {'task': b'ABNORMAL_TERMINATION_IN_LNSRCH', 'nit': 0, 'warnflag': 2, 'grad': array([ 1.09669491e-04,  1.46501581e+01, -1.15546525e-01, -4.92826931e-01]), 'funcalls': 21}\n",
      "  ConvergenceWarning)\n",
      "/home/brown/python_packages/patched_gpr/patched_gpr.py:505: ConvergenceWarning: fmin_l_bfgs_b terminated abnormally with the  state: {'task': b'ABNORMAL_TERMINATION_IN_LNSRCH', 'nit': 0, 'warnflag': 2, 'grad': array([ 1.09828916e-04,  1.46501616e+01, -6.29793184e-02, -7.02428305e-01]), 'funcalls': 21}\n",
      "  ConvergenceWarning)\n",
      "/home/brown/python_packages/patched_gpr/patched_gpr.py:505: ConvergenceWarning: fmin_l_bfgs_b terminated abnormally with the  state: {'task': b'ABNORMAL_TERMINATION_IN_LNSRCH', 'nit': 1, 'warnflag': 2, 'grad': array([ 1.03730691e-04,  1.46501523e+01, -1.86322914e-01, -5.67975929e-03]), 'funcalls': 48}\n",
      "  ConvergenceWarning)\n",
      "/home/brown/python_packages/patched_gpr/patched_gpr.py:505: ConvergenceWarning: fmin_l_bfgs_b terminated abnormally with the  state: {'task': b'ABNORMAL_TERMINATION_IN_LNSRCH', 'nit': 0, 'warnflag': 2, 'grad': array([ 1.03890867e-04,  1.51501503e+01, -1.34076468e-01, -2.27238710e-01]), 'funcalls': 21}\n",
      "  ConvergenceWarning)\n",
      "/home/brown/python_packages/patched_gpr/patched_gpr.py:505: ConvergenceWarning: fmin_l_bfgs_b terminated abnormally with the  state: {'task': b'ABNORMAL_TERMINATION_IN_LNSRCH', 'nit': 0, 'warnflag': 2, 'grad': array([ 1.04045248e-04,  1.51501497e+01, -8.32682927e-02, -4.44334616e-01]), 'funcalls': 21}\n",
      "  ConvergenceWarning)\n",
      "/home/brown/python_packages/patched_gpr/patched_gpr.py:505: ConvergenceWarning: fmin_l_bfgs_b terminated abnormally with the  state: {'task': b'ABNORMAL_TERMINATION_IN_LNSRCH', 'nit': 0, 'warnflag': 2, 'grad': array([ 1.04194037e-04,  1.46501498e+01, -3.38966492e-02, -6.57017586e-01]), 'funcalls': 21}\n",
      "  ConvergenceWarning)\n",
      "/home/brown/python_packages/patched_gpr/patched_gpr.py:505: ConvergenceWarning: fmin_l_bfgs_b terminated abnormally with the  state: {'task': b'ABNORMAL_TERMINATION_IN_LNSRCH', 'nit': 1, 'warnflag': 2, 'grad': array([ 9.52527276e-05,  1.46501398e+01, -2.57070507e-01,  5.31311597e-01]), 'funcalls': 50}\n",
      "  ConvergenceWarning)\n",
      "/home/brown/python_packages/patched_gpr/patched_gpr.py:505: ConvergenceWarning: fmin_l_bfgs_b terminated abnormally with the  state: {'task': b'ABNORMAL_TERMINATION_IN_LNSRCH', 'nit': 0, 'warnflag': 2, 'grad': array([ 9.54083785e-05,  1.46501400e+01, -2.06687044e-01,  2.95690921e-01]), 'funcalls': 21}\n",
      "  ConvergenceWarning)\n",
      "/home/brown/python_packages/patched_gpr/patched_gpr.py:505: ConvergenceWarning: fmin_l_bfgs_b terminated abnormally with the  state: {'task': b'ABNORMAL_TERMINATION_IN_LNSRCH', 'nit': 0, 'warnflag': 2, 'grad': array([ 9.55584724e-05,  1.46501369e+01, -1.57725660e-01,  6.51647493e-02]), 'funcalls': 21}\n",
      "  ConvergenceWarning)\n"
     ]
    },
    {
     "name": "stderr",
     "output_type": "stream",
     "text": [
      "/home/brown/python_packages/patched_gpr/patched_gpr.py:505: ConvergenceWarning: fmin_l_bfgs_b terminated abnormally with the  state: {'task': b'ABNORMAL_TERMINATION_IN_LNSRCH', 'nit': 0, 'warnflag': 2, 'grad': array([ 9.57031701e-05,  1.51501372e+01, -1.10139686e-01, -1.60292078e-01]), 'funcalls': 21}\n",
      "  ConvergenceWarning)\n",
      "/home/brown/python_packages/patched_gpr/patched_gpr.py:505: ConvergenceWarning: fmin_l_bfgs_b terminated abnormally with the  state: {'task': b'ABNORMAL_TERMINATION_IN_LNSRCH', 'nit': 0, 'warnflag': 2, 'grad': array([ 9.58426980e-05,  1.51501382e+01, -6.38655624e-02, -3.80705681e-01]), 'funcalls': 21}\n",
      "  ConvergenceWarning)\n",
      "/home/brown/python_packages/patched_gpr/patched_gpr.py:505: ConvergenceWarning: fmin_l_bfgs_b terminated abnormally with the  state: {'task': b'ABNORMAL_TERMINATION_IN_LNSRCH', 'nit': 0, 'warnflag': 2, 'grad': array([ 9.59773389e-05,  1.46501407e+01, -1.88306388e-02, -5.96106276e-01]), 'funcalls': 21}\n",
      "  ConvergenceWarning)\n",
      "/home/brown/python_packages/patched_gpr/patched_gpr.py:505: ConvergenceWarning: fmin_l_bfgs_b terminated abnormally with the  state: {'task': b'ABNORMAL_TERMINATION_IN_LNSRCH', 'nit': 1, 'warnflag': 2, 'grad': array([ 8.63148353e-05,  1.46501266e+01, -2.79521602e-01,  7.72087516e-01]), 'funcalls': 51}\n",
      "  ConvergenceWarning)\n",
      "/home/brown/python_packages/patched_gpr/patched_gpr.py:505: ConvergenceWarning: fmin_l_bfgs_b terminated abnormally with the  state: {'task': b'ABNORMAL_TERMINATION_IN_LNSRCH', 'nit': 0, 'warnflag': 2, 'grad': array([ 8.64590891e-05,  1.46501236e+01, -2.32087533e-01,  5.30021708e-01]), 'funcalls': 21}\n",
      "  ConvergenceWarning)\n",
      "/home/brown/python_packages/patched_gpr/patched_gpr.py:505: ConvergenceWarning: fmin_l_bfgs_b terminated abnormally with the  state: {'task': b'ABNORMAL_TERMINATION_IN_LNSRCH', 'nit': 0, 'warnflag': 2, 'grad': array([ 8.65983642e-05,  1.51501237e+01, -1.85657982e-01,  2.93720750e-01]), 'funcalls': 21}\n",
      "  ConvergenceWarning)\n",
      "/home/brown/python_packages/patched_gpr/patched_gpr.py:505: ConvergenceWarning: fmin_l_bfgs_b terminated abnormally with the  state: {'task': b'ABNORMAL_TERMINATION_IN_LNSRCH', 'nit': 0, 'warnflag': 2, 'grad': array([ 8.67328952e-05,  1.51501246e+01, -1.40138290e-01,  6.31051740e-02]), 'funcalls': 21}\n",
      "  ConvergenceWarning)\n",
      "/home/brown/python_packages/patched_gpr/patched_gpr.py:505: ConvergenceWarning: fmin_l_bfgs_b terminated abnormally with the  state: {'task': b'ABNORMAL_TERMINATION_IN_LNSRCH', 'nit': 0, 'warnflag': 2, 'grad': array([ 8.68629577e-05,  1.46501272e+01, -9.54401422e-02, -1.61910958e-01]), 'funcalls': 21}\n",
      "  ConvergenceWarning)\n",
      "/home/brown/python_packages/patched_gpr/patched_gpr.py:505: ConvergenceWarning: fmin_l_bfgs_b terminated abnormally with the  state: {'task': b'ABNORMAL_TERMINATION_IN_LNSRCH', 'nit': 0, 'warnflag': 2, 'grad': array([ 8.69888774e-05,  1.46501278e+01, -5.14773968e-02, -3.81432734e-01]), 'funcalls': 21}\n",
      "  ConvergenceWarning)\n",
      "/home/brown/python_packages/patched_gpr/patched_gpr.py:505: ConvergenceWarning: fmin_l_bfgs_b terminated abnormally with the  state: {'task': b'ABNORMAL_TERMINATION_IN_LNSRCH', 'nit': 1, 'warnflag': 2, 'grad': array([ 8.34212748e-05,  1.46501193e+01, -9.26120935e-02, -1.45132069e-01]), 'funcalls': 49}\n",
      "  ConvergenceWarning)\n",
      "/home/brown/python_packages/patched_gpr/patched_gpr.py:505: ConvergenceWarning: fmin_l_bfgs_b terminated abnormally with the  state: {'task': b'ABNORMAL_TERMINATION_IN_LNSRCH', 'nit': 0, 'warnflag': 2, 'grad': array([ 8.35431301e-05,  1.51501192e+01, -4.85159474e-02, -3.64626004e-01]), 'funcalls': 21}\n",
      "  ConvergenceWarning)\n",
      "/home/brown/python_packages/patched_gpr/patched_gpr.py:505: ConvergenceWarning: fmin_l_bfgs_b terminated abnormally with the  state: {'task': b'ABNORMAL_TERMINATION_IN_LNSRCH', 'nit': 1, 'warnflag': 2, 'grad': array([ 7.89184126e-05,  1.51501130e+01, -1.16664632e-01,  2.05593901e-02]), 'funcalls': 48}\n",
      "  ConvergenceWarning)\n",
      "/home/brown/python_packages/patched_gpr/patched_gpr.py:505: ConvergenceWarning: fmin_l_bfgs_b terminated abnormally with the  state: {'task': b'ABNORMAL_TERMINATION_IN_LNSRCH', 'nit': 0, 'warnflag': 2, 'grad': array([ 7.90375102e-05,  1.46501156e+01, -7.18007386e-02, -2.02559255e-01]), 'funcalls': 21}\n",
      "  ConvergenceWarning)\n",
      "/home/brown/python_packages/patched_gpr/patched_gpr.py:505: ConvergenceWarning: fmin_l_bfgs_b terminated abnormally with the  state: {'task': b'ABNORMAL_TERMINATION_IN_LNSRCH', 'nit': 0, 'warnflag': 2, 'grad': array([ 7.91528196e-05,  1.46501164e+01, -2.74997634e-02, -4.20022131e-01]), 'funcalls': 21}\n",
      "  ConvergenceWarning)\n",
      "/home/brown/python_packages/patched_gpr/patched_gpr.py:505: ConvergenceWarning: fmin_l_bfgs_b terminated abnormally with the  state: {'task': b'ABNORMAL_TERMINATION_IN_LNSRCH', 'nit': 1, 'warnflag': 2, 'grad': array([ 7.15872108e-05,  1.46501021e+01, -2.06995874e-01,  5.57781538e-01]), 'funcalls': 51}\n",
      "  ConvergenceWarning)\n",
      "/home/brown/python_packages/patched_gpr/patched_gpr.py:505: ConvergenceWarning: fmin_l_bfgs_b terminated abnormally with the  state: {'task': b'ABNORMAL_TERMINATION_IN_LNSRCH', 'nit': 0, 'warnflag': 2, 'grad': array([ 7.17069411e-05,  1.51501018e+01, -1.60036431e-01,  3.21654105e-01]), 'funcalls': 21}\n",
      "  ConvergenceWarning)\n",
      "/home/brown/python_packages/patched_gpr/patched_gpr.py:505: ConvergenceWarning: fmin_l_bfgs_b terminated abnormally with the  state: {'task': b'ABNORMAL_TERMINATION_IN_LNSRCH', 'nit': 0, 'warnflag': 2, 'grad': array([ 7.18225593e-05,  1.51501025e+01, -1.13757917e-01,  9.18820061e-02]), 'funcalls': 21}\n",
      "  ConvergenceWarning)\n",
      "/home/brown/python_packages/patched_gpr/patched_gpr.py:505: ConvergenceWarning: fmin_l_bfgs_b terminated abnormally with the  state: {'task': b'ABNORMAL_TERMINATION_IN_LNSRCH', 'nit': 0, 'warnflag': 2, 'grad': array([ 7.19341967e-05,  1.46501051e+01, -6.81830695e-02, -1.31504079e-01]), 'funcalls': 21}\n",
      "  ConvergenceWarning)\n",
      "/home/brown/python_packages/patched_gpr/patched_gpr.py:505: ConvergenceWarning: fmin_l_bfgs_b terminated abnormally with the  state: {'task': b'ABNORMAL_TERMINATION_IN_LNSRCH', 'nit': 0, 'warnflag': 2, 'grad': array([ 7.20420233e-05,  1.46501061e+01, -2.33279132e-02, -3.48462703e-01]), 'funcalls': 21}\n",
      "  ConvergenceWarning)\n",
      "/home/brown/python_packages/patched_gpr/patched_gpr.py:505: ConvergenceWarning: fmin_l_bfgs_b terminated abnormally with the  state: {'task': b'ABNORMAL_TERMINATION_IN_LNSRCH', 'nit': 1, 'warnflag': 2, 'grad': array([ 5.57610023e-05,  1.46500791e+01, -4.85923553e-01,  2.20183444e+00]), 'funcalls': 47}\n",
      "  ConvergenceWarning)\n",
      "/home/brown/python_packages/patched_gpr/patched_gpr.py:505: ConvergenceWarning: fmin_l_bfgs_b terminated abnormally with the  state: {'task': b'ABNORMAL_TERMINATION_IN_LNSRCH', 'nit': 0, 'warnflag': 2, 'grad': array([ 5.58895051e-05,  1.51500785e+01, -4.34453425e-01,  1.92592506e+00]), 'funcalls': 21}\n",
      "  ConvergenceWarning)\n",
      "/home/brown/python_packages/patched_gpr/patched_gpr.py:505: ConvergenceWarning: fmin_l_bfgs_b terminated abnormally with the  state: {'task': b'ABNORMAL_TERMINATION_IN_LNSRCH', 'nit': 0, 'warnflag': 2, 'grad': array([ 5.60130578e-05,  1.51500792e+01, -3.83967701e-01,  1.65911366e+00]), 'funcalls': 21}\n",
      "  ConvergenceWarning)\n",
      "/home/brown/python_packages/patched_gpr/patched_gpr.py:505: ConvergenceWarning: fmin_l_bfgs_b terminated abnormally with the  state: {'task': b'ABNORMAL_TERMINATION_IN_LNSRCH', 'nit': 0, 'warnflag': 2, 'grad': array([ 5.61318085e-05,  1.46500819e+01, -3.34460474e-01,  1.40147836e+00]), 'funcalls': 21}\n",
      "  ConvergenceWarning)\n",
      "/home/brown/python_packages/patched_gpr/patched_gpr.py:505: ConvergenceWarning: fmin_l_bfgs_b terminated abnormally with the  state: {'task': b'ABNORMAL_TERMINATION_IN_LNSRCH', 'nit': 0, 'warnflag': 2, 'grad': array([ 5.62459400e-05,  1.46500831e+01, -2.85912123e-01,  1.15304598e+00]), 'funcalls': 21}\n",
      "  ConvergenceWarning)\n",
      "/home/brown/python_packages/patched_gpr/patched_gpr.py:505: ConvergenceWarning: fmin_l_bfgs_b terminated abnormally with the  state: {'task': b'ABNORMAL_TERMINATION_IN_LNSRCH', 'nit': 0, 'warnflag': 2, 'grad': array([ 5.63556048e-05,  1.46500801e+01, -2.38301686e-01,  9.13801182e-01]), 'funcalls': 21}\n",
      "  ConvergenceWarning)\n",
      "/home/brown/python_packages/patched_gpr/patched_gpr.py:505: ConvergenceWarning: fmin_l_bfgs_b terminated abnormally with the  state: {'task': b'ABNORMAL_TERMINATION_IN_LNSRCH', 'nit': 0, 'warnflag': 2, 'grad': array([ 5.64608810e-05,  1.51500794e+01, -1.91614992e-01,  6.83696821e-01]), 'funcalls': 21}\n",
      "  ConvergenceWarning)\n",
      "/home/brown/python_packages/patched_gpr/patched_gpr.py:505: ConvergenceWarning: fmin_l_bfgs_b terminated abnormally with the  state: {'task': b'ABNORMAL_TERMINATION_IN_LNSRCH', 'nit': 0, 'warnflag': 2, 'grad': array([ 5.65618774e-05,  1.51500799e+01, -1.45839134e-01,  4.62658596e-01]), 'funcalls': 21}\n",
      "  ConvergenceWarning)\n",
      "/home/brown/python_packages/patched_gpr/patched_gpr.py:505: ConvergenceWarning: fmin_l_bfgs_b terminated abnormally with the  state: {'task': b'ABNORMAL_TERMINATION_IN_LNSRCH', 'nit': 0, 'warnflag': 2, 'grad': array([ 5.66587366e-05,  1.46500826e+01, -1.00969988e-01,  2.50575457e-01]), 'funcalls': 21}\n",
      "  ConvergenceWarning)\n"
     ]
    },
    {
     "name": "stderr",
     "output_type": "stream",
     "text": [
      "/home/brown/python_packages/patched_gpr/patched_gpr.py:505: ConvergenceWarning: fmin_l_bfgs_b terminated abnormally with the  state: {'task': b'ABNORMAL_TERMINATION_IN_LNSRCH', 'nit': 0, 'warnflag': 2, 'grad': array([ 5.67516411e-05,  1.46500839e+01, -5.70069314e-02,  4.72728108e-02]), 'funcalls': 21}\n",
      "  ConvergenceWarning)\n",
      "/home/brown/python_packages/patched_gpr/patched_gpr.py:505: ConvergenceWarning: fmin_l_bfgs_b terminated abnormally with the  state: {'task': b'ABNORMAL_TERMINATION_IN_LNSRCH', 'nit': 0, 'warnflag': 2, 'grad': array([ 5.68407395e-05,  1.46500810e+01, -1.39626618e-02, -1.47466681e-01]), 'funcalls': 21}\n",
      "  ConvergenceWarning)\n",
      "/home/brown/python_packages/patched_gpr/patched_gpr.py:505: ConvergenceWarning: fmin_l_bfgs_b terminated abnormally with the  state: {'task': b'ABNORMAL_TERMINATION_IN_LNSRCH', 'nit': 1, 'warnflag': 2, 'grad': array([ 4.15960011e-05,  1.51500577e+01, -4.08213830e-01,  1.94037381e+00]), 'funcalls': 49}\n",
      "  ConvergenceWarning)\n",
      "/home/brown/python_packages/patched_gpr/patched_gpr.py:505: ConvergenceWarning: fmin_l_bfgs_b terminated abnormally with the  state: {'task': b'ABNORMAL_TERMINATION_IN_LNSRCH', 'nit': 0, 'warnflag': 2, 'grad': array([ 4.16882099e-05,  1.51500582e+01, -3.60782944e-01,  1.71370985e+00]), 'funcalls': 21}\n",
      "  ConvergenceWarning)\n",
      "/home/brown/python_packages/patched_gpr/patched_gpr.py:505: ConvergenceWarning: fmin_l_bfgs_b terminated abnormally with the  state: {'task': b'ABNORMAL_TERMINATION_IN_LNSRCH', 'nit': 0, 'warnflag': 2, 'grad': array([ 4.17758695e-05,  1.46500608e+01, -3.14576236e-01,  1.49682130e+00]), 'funcalls': 21}\n",
      "  ConvergenceWarning)\n",
      "/home/brown/python_packages/patched_gpr/patched_gpr.py:505: ConvergenceWarning: fmin_l_bfgs_b terminated abnormally with the  state: {'task': b'ABNORMAL_TERMINATION_IN_LNSRCH', 'nit': 0, 'warnflag': 2, 'grad': array([ 4.18591383e-05,  1.46500623e+01, -2.69711971e-01,  1.28938522e+00]), 'funcalls': 21}\n",
      "  ConvergenceWarning)\n",
      "/home/brown/python_packages/patched_gpr/patched_gpr.py:505: ConvergenceWarning: fmin_l_bfgs_b terminated abnormally with the  state: {'task': b'ABNORMAL_TERMINATION_IN_LNSRCH', 'nit': 0, 'warnflag': 2, 'grad': array([ 4.19381518e-05,  1.46500595e+01, -2.26326266e-01,  1.09108392e+00]), 'funcalls': 21}\n",
      "  ConvergenceWarning)\n",
      "/home/brown/python_packages/patched_gpr/patched_gpr.py:505: ConvergenceWarning: fmin_l_bfgs_b terminated abnormally with the  state: {'task': b'ABNORMAL_TERMINATION_IN_LNSRCH', 'nit': 0, 'warnflag': 2, 'grad': array([ 4.20129671e-05,  1.51500583e+01, -1.84573812e-01,  9.01618341e-01]), 'funcalls': 21}\n",
      "  ConvergenceWarning)\n",
      "/home/brown/python_packages/patched_gpr/patched_gpr.py:505: ConvergenceWarning: fmin_l_bfgs_b terminated abnormally with the  state: {'task': b'ABNORMAL_TERMINATION_IN_LNSRCH', 'nit': 0, 'warnflag': 2, 'grad': array([ 4.20836561e-05,  1.51500587e+01, -1.44614950e-01,  7.20707540e-01]), 'funcalls': 21}\n",
      "  ConvergenceWarning)\n",
      "/home/brown/python_packages/patched_gpr/patched_gpr.py:505: ConvergenceWarning: fmin_l_bfgs_b terminated abnormally with the  state: {'task': b'ABNORMAL_TERMINATION_IN_LNSRCH', 'nit': 0, 'warnflag': 2, 'grad': array([ 4.21503134e-05,  1.46500612e+01, -1.06614530e-01,  5.48094733e-01]), 'funcalls': 21}\n",
      "  ConvergenceWarning)\n",
      "/home/brown/python_packages/patched_gpr/patched_gpr.py:505: ConvergenceWarning: fmin_l_bfgs_b terminated abnormally with the  state: {'task': b'ABNORMAL_TERMINATION_IN_LNSRCH', 'nit': 0, 'warnflag': 2, 'grad': array([ 4.22130584e-05,  1.46500628e+01, -7.07277775e-02,  3.83560620e-01]), 'funcalls': 21}\n",
      "  ConvergenceWarning)\n",
      "/home/brown/python_packages/patched_gpr/patched_gpr.py:505: ConvergenceWarning: fmin_l_bfgs_b terminated abnormally with the  state: {'task': b'ABNORMAL_TERMINATION_IN_LNSRCH', 'nit': 0, 'warnflag': 2, 'grad': array([ 4.22720037e-05,  1.46500601e+01, -3.70995904e-02,  2.26920321e-01]), 'funcalls': 21}\n",
      "  ConvergenceWarning)\n",
      "/home/brown/python_packages/patched_gpr/patched_gpr.py:505: ConvergenceWarning: fmin_l_bfgs_b terminated abnormally with the  state: {'task': b'ABNORMAL_TERMINATION_IN_LNSRCH', 'nit': 0, 'warnflag': 2, 'grad': array([ 4.23272113e-05,  1.51500587e+01, -5.86735966e-03,  7.80217279e-02]), 'funcalls': 21}\n",
      "  ConvergenceWarning)\n",
      "/home/brown/python_packages/patched_gpr/patched_gpr.py:505: ConvergenceWarning: fmin_l_bfgs_b terminated abnormally with the  state: {'task': b'ABNORMAL_TERMINATION_IN_LNSRCH', 'nit': 0, 'warnflag': 2, 'grad': array([ 2.08695150e-05,  1.46500307e+01, -2.61415405e-01,  1.22644926e+00]), 'funcalls': 21}\n",
      "  ConvergenceWarning)\n",
      "/home/brown/python_packages/patched_gpr/patched_gpr.py:505: ConvergenceWarning: fmin_l_bfgs_b terminated abnormally with the  state: {'task': b'ABNORMAL_TERMINATION_IN_LNSRCH', 'nit': 0, 'warnflag': 2, 'grad': array([ 2.08966103e-05,  1.46500324e+01, -2.35983107e-01,  1.07953132e+00]), 'funcalls': 21}\n",
      "  ConvergenceWarning)\n",
      "/home/brown/python_packages/patched_gpr/patched_gpr.py:505: ConvergenceWarning: fmin_l_bfgs_b terminated abnormally with the  state: {'task': b'ABNORMAL_TERMINATION_IN_LNSRCH', 'nit': 0, 'warnflag': 2, 'grad': array([ 2.09214791e-05,  1.46500297e+01, -2.13535751e-01,  9.41609454e-01]), 'funcalls': 21}\n",
      "  ConvergenceWarning)\n",
      "/home/brown/python_packages/patched_gpr/patched_gpr.py:505: ConvergenceWarning: fmin_l_bfgs_b terminated abnormally with the  state: {'task': b'ABNORMAL_TERMINATION_IN_LNSRCH', 'nit': 0, 'warnflag': 2, 'grad': array([ 2.09441617e-05,  1.51500280e+01, -1.94036878e-01,  8.12679245e-01]), 'funcalls': 21}\n",
      "  ConvergenceWarning)\n",
      "/home/brown/python_packages/patched_gpr/patched_gpr.py:505: ConvergenceWarning: fmin_l_bfgs_b terminated abnormally with the  state: {'task': b'ABNORMAL_TERMINATION_IN_LNSRCH', 'nit': 0, 'warnflag': 2, 'grad': array([ 2.09647041e-05,  1.51500282e+01, -1.77400124e-01,  6.92754213e-01]), 'funcalls': 21}\n",
      "  ConvergenceWarning)\n",
      "/home/brown/python_packages/patched_gpr/patched_gpr.py:505: ConvergenceWarning: fmin_l_bfgs_b terminated abnormally with the  state: {'task': b'ABNORMAL_TERMINATION_IN_LNSRCH', 'nit': 0, 'warnflag': 2, 'grad': array([ 2.09831640e-05,  1.46500307e+01, -1.63494397e-01,  5.81861542e-01]), 'funcalls': 21}\n",
      "  ConvergenceWarning)\n",
      "/home/brown/python_packages/patched_gpr/patched_gpr.py:505: ConvergenceWarning: fmin_l_bfgs_b terminated abnormally with the  state: {'task': b'ABNORMAL_TERMINATION_IN_LNSRCH', 'nit': 0, 'warnflag': 2, 'grad': array([ 2.10374127e-05,  1.51500283e+01, -1.31157298e-01,  2.28613955e-01]), 'funcalls': 21}\n",
      "  ConvergenceWarning)\n",
      "/home/brown/python_packages/patched_gpr/patched_gpr.py:505: ConvergenceWarning: fmin_l_bfgs_b terminated abnormally with the  state: {'task': b'ABNORMAL_TERMINATION_IN_LNSRCH', 'nit': 0, 'warnflag': 2, 'grad': array([ 2.10462799e-05,  1.46500307e+01, -1.27657507e-01,  1.62859827e-01]), 'funcalls': 21}\n",
      "  ConvergenceWarning)\n",
      "/home/brown/python_packages/patched_gpr/patched_gpr.py:505: ConvergenceWarning: fmin_l_bfgs_b terminated abnormally with the  state: {'task': b'ABNORMAL_TERMINATION_IN_LNSRCH', 'nit': 0, 'warnflag': 2, 'grad': array([ 2.10533657e-05,  1.46500328e+01, -1.25433308e-01,  1.06111268e-01]), 'funcalls': 21}\n",
      "  ConvergenceWarning)\n",
      "/home/brown/python_packages/patched_gpr/patched_gpr.py:505: ConvergenceWarning: fmin_l_bfgs_b terminated abnormally with the  state: {'task': b'ABNORMAL_TERMINATION_IN_LNSRCH', 'nit': 0, 'warnflag': 2, 'grad': array([ 2.10643746e-05,  1.51500284e+01, -1.23663710e-01, -1.06208055e-02]), 'funcalls': 21}\n",
      "  ConvergenceWarning)\n",
      "/home/brown/python_packages/patched_gpr/patched_gpr.py:505: ConvergenceWarning: fmin_l_bfgs_b terminated abnormally with the  state: {'task': b'ABNORMAL_TERMINATION_IN_LNSRCH', 'nit': 0, 'warnflag': 2, 'grad': array([ 2.10344930e-05,  1.46500328e+01, -1.23066512e-01,  2.21353047e-02]), 'funcalls': 21}\n",
      "  ConvergenceWarning)\n",
      "/home/brown/python_packages/patched_gpr/patched_gpr.py:505: ConvergenceWarning: fmin_l_bfgs_b terminated abnormally with the  state: {'task': b'ABNORMAL_TERMINATION_IN_LNSRCH', 'nit': 0, 'warnflag': 2, 'grad': array([ 2.09995827e-05,  1.51500283e+01, -1.21169178e-01,  1.62068592e-01]), 'funcalls': 21}\n",
      "  ConvergenceWarning)\n",
      "/home/brown/python_packages/patched_gpr/patched_gpr.py:505: ConvergenceWarning: fmin_l_bfgs_b terminated abnormally with the  state: {'task': b'ABNORMAL_TERMINATION_IN_LNSRCH', 'nit': 0, 'warnflag': 2, 'grad': array([ 2.09693420e-05,  1.46500327e+01, -1.21791237e-01,  2.95275487e-01]), 'funcalls': 21}\n",
      "  ConvergenceWarning)\n"
     ]
    },
    {
     "name": "stderr",
     "output_type": "stream",
     "text": [
      "/home/brown/python_packages/patched_gpr/patched_gpr.py:505: ConvergenceWarning: fmin_l_bfgs_b terminated abnormally with the  state: {'task': b'ABNORMAL_TERMINATION_IN_LNSRCH', 'nit': 0, 'warnflag': 2, 'grad': array([ 2.09338062e-05,  1.51500283e+01, -1.26115489e-01,  4.59287492e-01]), 'funcalls': 21}\n",
      "  ConvergenceWarning)\n",
      "/home/brown/python_packages/patched_gpr/patched_gpr.py:505: ConvergenceWarning: fmin_l_bfgs_b terminated abnormally with the  state: {'task': b'ABNORMAL_TERMINATION_IN_LNSRCH', 'nit': 0, 'warnflag': 2, 'grad': array([ 2.09140643e-05,  1.51500281e+01, -1.30316189e-01,  5.52517008e-01]), 'funcalls': 21}\n",
      "  ConvergenceWarning)\n",
      "/home/brown/python_packages/patched_gpr/patched_gpr.py:505: ConvergenceWarning: fmin_l_bfgs_b terminated abnormally with the  state: {'task': b'ABNORMAL_TERMINATION_IN_LNSRCH', 'nit': 0, 'warnflag': 2, 'grad': array([ 2.08930171e-05,  1.46500300e+01, -1.36215728e-01,  6.53000779e-01]), 'funcalls': 21}\n",
      "  ConvergenceWarning)\n",
      "/home/brown/python_packages/patched_gpr/patched_gpr.py:505: ConvergenceWarning: fmin_l_bfgs_b terminated abnormally with the  state: {'task': b'ABNORMAL_TERMINATION_IN_LNSRCH', 'nit': 0, 'warnflag': 2, 'grad': array([ 2.08471044e-05,  1.46500306e+01, -1.53999970e-01,  8.75094884e-01]), 'funcalls': 21}\n",
      "  ConvergenceWarning)\n",
      "/home/brown/python_packages/patched_gpr/patched_gpr.py:505: ConvergenceWarning: fmin_l_bfgs_b terminated abnormally with the  state: {'task': b'ABNORMAL_TERMINATION_IN_LNSRCH', 'nit': 0, 'warnflag': 2, 'grad': array([ 2.08222597e-05,  1.51500281e+01, -1.66259844e-01,  9.96412629e-01]), 'funcalls': 21}\n",
      "  ConvergenceWarning)\n",
      "/home/brown/python_packages/patched_gpr/patched_gpr.py:505: ConvergenceWarning: fmin_l_bfgs_b terminated abnormally with the  state: {'task': b'ABNORMAL_TERMINATION_IN_LNSRCH', 'nit': 0, 'warnflag': 2, 'grad': array([ 2.07961427e-05,  1.51500279e+01, -1.80963390e-01,  1.12436697e+00]), 'funcalls': 21}\n",
      "  ConvergenceWarning)\n",
      "/home/brown/python_packages/patched_gpr/patched_gpr.py:505: ConvergenceWarning: fmin_l_bfgs_b terminated abnormally with the  state: {'task': b'ABNORMAL_TERMINATION_IN_LNSRCH', 'nit': 0, 'warnflag': 2, 'grad': array([ 2.07400962e-05,  1.46500323e+01, -2.18020241e-01,  1.39954781e+00]), 'funcalls': 21}\n",
      "  ConvergenceWarning)\n",
      "/home/brown/python_packages/patched_gpr/patched_gpr.py:505: ConvergenceWarning: fmin_l_bfgs_b terminated abnormally with the  state: {'task': b'ABNORMAL_TERMINATION_IN_LNSRCH', 'nit': 0, 'warnflag': 2, 'grad': array([ 2.07101834e-05,  1.46500306e+01, -2.40417685e-01,  1.54653054e+00]), 'funcalls': 21}\n",
      "  ConvergenceWarning)\n",
      "/home/brown/python_packages/patched_gpr/patched_gpr.py:505: ConvergenceWarning: fmin_l_bfgs_b terminated abnormally with the  state: {'task': b'ABNORMAL_TERMINATION_IN_LNSRCH', 'nit': 0, 'warnflag': 2, 'grad': array([ 2.06789835e-05,  1.51500280e+01, -2.65362008e-01,  1.69966692e+00]), 'funcalls': 21}\n",
      "  ConvergenceWarning)\n",
      "/home/brown/python_packages/patched_gpr/patched_gpr.py:505: ConvergenceWarning: fmin_l_bfgs_b terminated abnormally with the  state: {'task': b'ABNORMAL_TERMINATION_IN_LNSRCH', 'nit': 0, 'warnflag': 2, 'grad': array([ 2.06464545e-05,  1.51500277e+01, -2.92781208e-01,  1.85891822e+00]), 'funcalls': 21}\n",
      "  ConvergenceWarning)\n",
      "/home/brown/python_packages/patched_gpr/patched_gpr.py:505: ConvergenceWarning: fmin_l_bfgs_b terminated abnormally with the  state: {'task': b'ABNORMAL_TERMINATION_IN_LNSRCH', 'nit': 0, 'warnflag': 2, 'grad': array([ 2.06125595e-05,  1.46500293e+01, -3.22559265e-01,  2.02428887e+00]), 'funcalls': 21}\n",
      "  ConvergenceWarning)\n",
      "/home/brown/python_packages/patched_gpr/patched_gpr.py:505: ConvergenceWarning: fmin_l_bfgs_b terminated abnormally with the  state: {'task': b'ABNORMAL_TERMINATION_IN_LNSRCH', 'nit': 0, 'warnflag': 2, 'grad': array([ 2.05772648e-05,  1.46500321e+01, -3.54551111e-01,  2.19583060e+00]), 'funcalls': 21}\n",
      "  ConvergenceWarning)\n",
      "/home/brown/python_packages/patched_gpr/patched_gpr.py:505: ConvergenceWarning: fmin_l_bfgs_b terminated abnormally with the  state: {'task': b'ABNORMAL_TERMINATION_IN_LNSRCH', 'nit': 0, 'warnflag': 2, 'grad': array([ 2.05405368e-05,  1.46500305e+01, -3.88584499e-01,  2.37364124e+00]), 'funcalls': 21}\n",
      "  ConvergenceWarning)\n",
      "/home/brown/python_packages/patched_gpr/patched_gpr.py:505: ConvergenceWarning: fmin_l_bfgs_b terminated abnormally with the  state: {'task': b'ABNORMAL_TERMINATION_IN_LNSRCH', 'nit': 0, 'warnflag': 2, 'grad': array([ 2.05023049e-05,  1.51500278e+01, -4.24480557e-01,  2.55786850e+00]), 'funcalls': 21}\n",
      "  ConvergenceWarning)\n",
      "/home/brown/python_packages/patched_gpr/patched_gpr.py:505: ConvergenceWarning: fmin_l_bfgs_b terminated abnormally with the  state: {'task': b'ABNORMAL_TERMINATION_IN_LNSRCH', 'nit': 0, 'warnflag': 2, 'grad': array([ 2.04624856e-05,  1.51500274e+01, -4.62051392e-01,  2.74871169e+00]), 'funcalls': 21}\n",
      "  ConvergenceWarning)\n",
      "/home/brown/python_packages/patched_gpr/patched_gpr.py:505: ConvergenceWarning: fmin_l_bfgs_b terminated abnormally with the  state: {'task': b'ABNORMAL_TERMINATION_IN_LNSRCH', 'nit': 0, 'warnflag': 2, 'grad': array([ 2.04210003e-05,  1.46500289e+01, -5.01101155e-01,  2.94642513e+00]), 'funcalls': 21}\n",
      "  ConvergenceWarning)\n",
      "/home/brown/python_packages/patched_gpr/patched_gpr.py:505: ConvergenceWarning: fmin_l_bfgs_b terminated abnormally with the  state: {'task': b'ABNORMAL_TERMINATION_IN_LNSRCH', 'nit': 0, 'warnflag': 2, 'grad': array([ 2.03777748e-05,  1.46500318e+01, -5.41442077e-01,  3.15130640e+00]), 'funcalls': 21}\n",
      "  ConvergenceWarning)\n",
      "/home/brown/python_packages/patched_gpr/patched_gpr.py:505: ConvergenceWarning: fmin_l_bfgs_b terminated abnormally with the  state: {'task': b'ABNORMAL_TERMINATION_IN_LNSRCH', 'nit': 0, 'warnflag': 2, 'grad': array([ 2.03327356e-05,  1.46500303e+01, -5.82896498e-01,  3.36369017e+00]), 'funcalls': 21}\n",
      "  ConvergenceWarning)\n",
      "/home/brown/python_packages/patched_gpr/patched_gpr.py:505: ConvergenceWarning: fmin_l_bfgs_b terminated abnormally with the  state: {'task': b'ABNORMAL_TERMINATION_IN_LNSRCH', 'nit': 0, 'warnflag': 2, 'grad': array([ 2.02857654e-05,  1.51500275e+01, -6.25308989e-01,  3.58394548e+00]), 'funcalls': 21}\n",
      "  ConvergenceWarning)\n",
      "/home/brown/python_packages/patched_gpr/patched_gpr.py:505: ConvergenceWarning: fmin_l_bfgs_b terminated abnormally with the  state: {'task': b'ABNORMAL_TERMINATION_IN_LNSRCH', 'nit': 0, 'warnflag': 2, 'grad': array([ 2.02367305e-05,  1.51500271e+01, -6.68546359e-01,  3.81246313e+00]), 'funcalls': 21}\n",
      "  ConvergenceWarning)\n",
      "/home/brown/python_packages/patched_gpr/patched_gpr.py:505: ConvergenceWarning: fmin_l_bfgs_b terminated abnormally with the  state: {'task': b'ABNORMAL_TERMINATION_IN_LNSRCH', 'nit': 1, 'warnflag': 2, 'grad': array([ 2.01828549e-05,  1.46500284e+01, -6.75771062e-01,  3.82802626e+00]), 'funcalls': 49}\n",
      "  ConvergenceWarning)\n",
      "/home/brown/python_packages/patched_gpr/patched_gpr.py:505: ConvergenceWarning: fmin_l_bfgs_b terminated abnormally with the  state: {'task': b'ABNORMAL_TERMINATION_IN_LNSRCH', 'nit': 1, 'warnflag': 2, 'grad': array([ 2.01274680e-05,  1.46500314e+01, -6.81981671e-01,  3.84233683e+00]), 'funcalls': 49}\n",
      "  ConvergenceWarning)\n",
      "/home/brown/python_packages/patched_gpr/patched_gpr.py:505: ConvergenceWarning: fmin_l_bfgs_b terminated abnormally with the  state: {'task': b'ABNORMAL_TERMINATION_IN_LNSRCH', 'nit': 1, 'warnflag': 2, 'grad': array([ 2.00705218e-05,  1.46500301e+01, -6.87066329e-01,  3.85528907e+00]), 'funcalls': 49}\n",
      "  ConvergenceWarning)\n",
      "/home/brown/python_packages/patched_gpr/patched_gpr.py:505: ConvergenceWarning: fmin_l_bfgs_b terminated abnormally with the  state: {'task': b'ABNORMAL_TERMINATION_IN_LNSRCH', 'nit': 1, 'warnflag': 2, 'grad': array([ 2.00122445e-05,  1.51500272e+01, -6.92863220e-01,  3.87812175e+00]), 'funcalls': 49}\n",
      "  ConvergenceWarning)\n",
      "/home/brown/python_packages/patched_gpr/patched_gpr.py:505: ConvergenceWarning: fmin_l_bfgs_b terminated abnormally with the  state: {'task': b'ABNORMAL_TERMINATION_IN_LNSRCH', 'nit': 1, 'warnflag': 2, 'grad': array([ 1.99523034e-05,  1.51500267e+01, -6.97076693e-01,  3.89712976e+00]), 'funcalls': 49}\n",
      "  ConvergenceWarning)\n",
      "/home/brown/python_packages/patched_gpr/patched_gpr.py:505: ConvergenceWarning: fmin_l_bfgs_b terminated abnormally with the  state: {'task': b'ABNORMAL_TERMINATION_IN_LNSRCH', 'nit': 1, 'warnflag': 2, 'grad': array([ 1.98894942e-05,  1.46500279e+01, -6.93142209e-01,  3.87325411e+00]), 'funcalls': 51}\n",
      "  ConvergenceWarning)\n"
     ]
    },
    {
     "name": "stderr",
     "output_type": "stream",
     "text": [
      "/home/brown/python_packages/patched_gpr/patched_gpr.py:505: ConvergenceWarning: fmin_l_bfgs_b terminated abnormally with the  state: {'task': b'ABNORMAL_TERMINATION_IN_LNSRCH', 'nit': 1, 'warnflag': 2, 'grad': array([ 1.98260288e-05,  1.46500309e+01, -6.93808742e-01,  3.88184221e+00]), 'funcalls': 49}\n",
      "  ConvergenceWarning)\n",
      "/home/brown/python_packages/patched_gpr/patched_gpr.py:505: ConvergenceWarning: fmin_l_bfgs_b terminated abnormally with the  state: {'task': b'ABNORMAL_TERMINATION_IN_LNSRCH', 'nit': 1, 'warnflag': 2, 'grad': array([ 1.97600085e-05,  1.46500298e+01, -6.88527822e-01,  3.86005373e+00]), 'funcalls': 51}\n",
      "  ConvergenceWarning)\n",
      "/home/brown/python_packages/patched_gpr/patched_gpr.py:505: ConvergenceWarning: fmin_l_bfgs_b terminated abnormally with the  state: {'task': b'ABNORMAL_TERMINATION_IN_LNSRCH', 'nit': 1, 'warnflag': 2, 'grad': array([ 1.96941973e-05,  1.51500269e+01, -6.90068585e-01,  3.88260795e+00]), 'funcalls': 49}\n",
      "  ConvergenceWarning)\n",
      "/home/brown/python_packages/patched_gpr/patched_gpr.py:505: ConvergenceWarning: fmin_l_bfgs_b terminated abnormally with the  state: {'task': b'ABNORMAL_TERMINATION_IN_LNSRCH', 'nit': 1, 'warnflag': 2, 'grad': array([ 1.96269367e-05,  1.51500263e+01, -6.89879509e-01,  3.89849841e+00]), 'funcalls': 49}\n",
      "  ConvergenceWarning)\n",
      "/home/brown/python_packages/patched_gpr/patched_gpr.py:505: ConvergenceWarning: fmin_l_bfgs_b terminated abnormally with the  state: {'task': b'ABNORMAL_TERMINATION_IN_LNSRCH', 'nit': 1, 'warnflag': 2, 'grad': array([ 1.95516848e-05,  1.46500273e+01, -6.61699168e-01,  3.75411701e+00]), 'funcalls': 47}\n",
      "  ConvergenceWarning)\n",
      "/home/brown/python_packages/patched_gpr/patched_gpr.py:505: ConvergenceWarning: fmin_l_bfgs_b terminated abnormally with the  state: {'task': b'ABNORMAL_TERMINATION_IN_LNSRCH', 'nit': 1, 'warnflag': 2, 'grad': array([ 1.94829385e-05,  1.46500304e+01, -6.62934523e-01,  3.78412279e+00]), 'funcalls': 49}\n",
      "  ConvergenceWarning)\n",
      "/home/brown/python_packages/patched_gpr/patched_gpr.py:505: ConvergenceWarning: fmin_l_bfgs_b terminated abnormally with the  state: {'task': b'ABNORMAL_TERMINATION_IN_LNSRCH', 'nit': 1, 'warnflag': 2, 'grad': array([ 1.94111174e-05,  1.46500295e+01, -6.54672124e-01,  3.76124247e+00]), 'funcalls': 53}\n",
      "  ConvergenceWarning)\n",
      "/home/brown/python_packages/patched_gpr/patched_gpr.py:505: ConvergenceWarning: fmin_l_bfgs_b terminated abnormally with the  state: {'task': b'ABNORMAL_TERMINATION_IN_LNSRCH', 'nit': 1, 'warnflag': 2, 'grad': array([ 1.93416383e-05,  1.51500265e+01, -6.56110214e-01,  3.79636113e+00]), 'funcalls': 49}\n",
      "  ConvergenceWarning)\n",
      "/home/brown/python_packages/patched_gpr/patched_gpr.py:505: ConvergenceWarning: fmin_l_bfgs_b terminated abnormally with the  state: {'task': b'ABNORMAL_TERMINATION_IN_LNSRCH', 'nit': 0, 'warnflag': 2, 'grad': array([ 1.92305476e-05,  1.46500301e+01, -7.79445019e-02,  4.46767146e-01]), 'funcalls': 21}\n",
      "  ConvergenceWarning)\n",
      "/home/brown/python_packages/patched_gpr/patched_gpr.py:505: ConvergenceWarning: fmin_l_bfgs_b terminated abnormally with the  state: {'task': b'ABNORMAL_TERMINATION_IN_LNSRCH', 'nit': 0, 'warnflag': 2, 'grad': array([ 1.91601499e-05,  1.51500264e+01, -1.58043379e-01,  9.16002667e-01]), 'funcalls': 21}\n",
      "  ConvergenceWarning)\n",
      "/home/brown/python_packages/patched_gpr/patched_gpr.py:505: ConvergenceWarning: fmin_l_bfgs_b terminated abnormally with the  state: {'task': b'ABNORMAL_TERMINATION_IN_LNSRCH', 'nit': 0, 'warnflag': 2, 'grad': array([ 1.91240238e-05,  1.51500257e+01, -1.99006486e-01,  1.15926460e+00]), 'funcalls': 21}\n",
      "  ConvergenceWarning)\n",
      "/home/brown/python_packages/patched_gpr/patched_gpr.py:505: ConvergenceWarning: fmin_l_bfgs_b terminated abnormally with the  state: {'task': b'ABNORMAL_TERMINATION_IN_LNSRCH', 'nit': 0, 'warnflag': 2, 'grad': array([ 1.90872228e-05,  1.46500266e+01, -2.40595480e-01,  1.40828430e+00]), 'funcalls': 21}\n",
      "  ConvergenceWarning)\n",
      "/home/brown/python_packages/patched_gpr/patched_gpr.py:505: ConvergenceWarning: fmin_l_bfgs_b terminated abnormally with the  state: {'task': b'ABNORMAL_TERMINATION_IN_LNSRCH', 'nit': 0, 'warnflag': 2, 'grad': array([ 1.90497109e-05,  1.46500298e+01, -2.82839493e-01,  1.66308283e+00]), 'funcalls': 21}\n",
      "  ConvergenceWarning)\n",
      "/home/brown/python_packages/patched_gpr/patched_gpr.py:505: ConvergenceWarning: fmin_l_bfgs_b terminated abnormally with the  state: {'task': b'ABNORMAL_TERMINATION_IN_LNSRCH', 'nit': 0, 'warnflag': 2, 'grad': array([ 1.90114579e-05,  1.46500293e+01, -3.25773872e-01,  1.92371219e+00]), 'funcalls': 21}\n",
      "  ConvergenceWarning)\n",
      "/home/brown/python_packages/patched_gpr/patched_gpr.py:505: ConvergenceWarning: fmin_l_bfgs_b terminated abnormally with the  state: {'task': b'ABNORMAL_TERMINATION_IN_LNSRCH', 'nit': 0, 'warnflag': 2, 'grad': array([ 1.89724080e-05,  1.51500262e+01, -3.69452049e-01,  2.19024907e+00]), 'funcalls': 21}\n",
      "  ConvergenceWarning)\n",
      "/home/brown/python_packages/patched_gpr/patched_gpr.py:505: ConvergenceWarning: fmin_l_bfgs_b terminated abnormally with the  state: {'task': b'ABNORMAL_TERMINATION_IN_LNSRCH', 'nit': 0, 'warnflag': 2, 'grad': array([ 1.89324857e-05,  1.51500254e+01, -4.13944512e-01,  2.46278250e+00]), 'funcalls': 21}\n",
      "  ConvergenceWarning)\n",
      "/home/brown/python_packages/patched_gpr/patched_gpr.py:505: ConvergenceWarning: fmin_l_bfgs_b terminated abnormally with the  state: {'task': b'ABNORMAL_TERMINATION_IN_LNSRCH', 'nit': 0, 'warnflag': 2, 'grad': array([ 1.88916251e-05,  1.46500262e+01, -4.59329218e-01,  2.74138949e+00]), 'funcalls': 21}\n",
      "  ConvergenceWarning)\n",
      "/home/brown/python_packages/patched_gpr/patched_gpr.py:505: ConvergenceWarning: fmin_l_bfgs_b terminated abnormally with the  state: {'task': b'ABNORMAL_TERMINATION_IN_LNSRCH', 'nit': 0, 'warnflag': 2, 'grad': array([ 1.88497666e-05,  1.46500293e+01, -5.05694750e-01,  3.02615145e+00]), 'funcalls': 21}\n",
      "  ConvergenceWarning)\n",
      "/home/brown/python_packages/patched_gpr/patched_gpr.py:505: ConvergenceWarning: fmin_l_bfgs_b terminated abnormally with the  state: {'task': b'ABNORMAL_TERMINATION_IN_LNSRCH', 'nit': 0, 'warnflag': 2, 'grad': array([ 1.88068601e-05,  1.46500291e+01, -5.53128962e-01,  3.31716302e+00]), 'funcalls': 21}\n",
      "  ConvergenceWarning)\n",
      "/home/brown/python_packages/patched_gpr/patched_gpr.py:505: ConvergenceWarning: fmin_l_bfgs_b terminated abnormally with the  state: {'task': b'ABNORMAL_TERMINATION_IN_LNSRCH', 'nit': 0, 'warnflag': 2, 'grad': array([ 1.87628427e-05,  1.51500260e+01, -6.01726938e-01,  3.61453131e+00]), 'funcalls': 21}\n",
      "  ConvergenceWarning)\n",
      "/home/brown/python_packages/patched_gpr/patched_gpr.py:505: ConvergenceWarning: fmin_l_bfgs_b terminated abnormally with the  state: {'task': b'ABNORMAL_TERMINATION_IN_LNSRCH', 'nit': 11, 'warnflag': 2, 'grad': array([ 1.90107481e-05,  1.51500257e+01, -2.48550697e-04,  8.47631582e-04]), 'funcalls': 63}\n",
      "  ConvergenceWarning)\n",
      "/home/brown/python_packages/patched_gpr/patched_gpr.py:505: ConvergenceWarning: fmin_l_bfgs_b terminated abnormally with the  state: {'task': b'ABNORMAL_TERMINATION_IN_LNSRCH', 'nit': 0, 'warnflag': 2, 'grad': array([ 1.89645974e-05,  1.46500295e+01, -8.49400575e-02,  4.41238886e-01]), 'funcalls': 21}\n",
      "  ConvergenceWarning)\n",
      "/home/brown/python_packages/patched_gpr/patched_gpr.py:505: ConvergenceWarning: fmin_l_bfgs_b terminated abnormally with the  state: {'task': b'ABNORMAL_TERMINATION_IN_LNSRCH', 'nit': 0, 'warnflag': 2, 'grad': array([ 1.89404829e-05,  1.46500295e+01, -1.29358378e-01,  6.67950474e-01]), 'funcalls': 21}\n",
      "  ConvergenceWarning)\n",
      "/home/brown/python_packages/patched_gpr/patched_gpr.py:505: ConvergenceWarning: fmin_l_bfgs_b terminated abnormally with the  state: {'task': b'ABNORMAL_TERMINATION_IN_LNSRCH', 'nit': 0, 'warnflag': 2, 'grad': array([ 1.89156138e-05,  1.46500262e+01, -1.75227495e-01,  8.99083336e-01]), 'funcalls': 21}\n",
      "  ConvergenceWarning)\n",
      "/home/brown/python_packages/patched_gpr/patched_gpr.py:505: ConvergenceWarning: fmin_l_bfgs_b terminated abnormally with the  state: {'task': b'ABNORMAL_TERMINATION_IN_LNSRCH', 'nit': 0, 'warnflag': 2, 'grad': array([ 1.88633228e-05,  1.51500262e+01, -2.71475579e-01,  1.37491298e+00]), 'funcalls': 21}\n",
      "  ConvergenceWarning)\n",
      "/home/brown/python_packages/patched_gpr/patched_gpr.py:505: ConvergenceWarning: fmin_l_bfgs_b terminated abnormally with the  state: {'task': b'ABNORMAL_TERMINATION_IN_LNSRCH', 'nit': 0, 'warnflag': 2, 'grad': array([ 1.88357765e-05,  1.46500292e+01, -3.21898615e-01,  1.61979277e+00]), 'funcalls': 21}\n",
      "  ConvergenceWarning)\n",
      "/home/brown/python_packages/patched_gpr/patched_gpr.py:505: ConvergenceWarning: fmin_l_bfgs_b terminated abnormally with the  state: {'task': b'ABNORMAL_TERMINATION_IN_LNSRCH', 'nit': 0, 'warnflag': 2, 'grad': array([ 1.88072264e-05,  1.46500294e+01, -3.73866350e-01,  1.86945840e+00]), 'funcalls': 21}\n",
      "  ConvergenceWarning)\n"
     ]
    },
    {
     "name": "stderr",
     "output_type": "stream",
     "text": [
      "/home/brown/python_packages/patched_gpr/patched_gpr.py:505: ConvergenceWarning: fmin_l_bfgs_b terminated abnormally with the  state: {'task': b'ABNORMAL_TERMINATION_IN_LNSRCH', 'nit': 0, 'warnflag': 2, 'grad': array([ 1.87775978e-05,  1.46500261e+01, -4.27382078e-01,  2.12404039e+00]), 'funcalls': 21}\n",
      "  ConvergenceWarning)\n",
      "/home/brown/python_packages/patched_gpr/patched_gpr.py:505: ConvergenceWarning: fmin_l_bfgs_b terminated abnormally with the  state: {'task': b'ABNORMAL_TERMINATION_IN_LNSRCH', 'nit': 0, 'warnflag': 2, 'grad': array([ 1.87467869e-05,  1.51500252e+01, -4.82448986e-01,  2.38369210e+00]), 'funcalls': 21}\n",
      "  ConvergenceWarning)\n",
      "/home/brown/python_packages/patched_gpr/patched_gpr.py:505: ConvergenceWarning: fmin_l_bfgs_b terminated abnormally with the  state: {'task': b'ABNORMAL_TERMINATION_IN_LNSRCH', 'nit': 0, 'warnflag': 2, 'grad': array([ 1.86812353e-05,  1.46500288e+01, -5.97220453e-01,  2.91888996e+00]), 'funcalls': 21}\n",
      "  ConvergenceWarning)\n",
      "/home/brown/python_packages/patched_gpr/patched_gpr.py:505: ConvergenceWarning: fmin_l_bfgs_b terminated abnormally with the  state: {'task': b'ABNORMAL_TERMINATION_IN_LNSRCH', 'nit': 0, 'warnflag': 2, 'grad': array([ 1.86463178e-05,  1.46500292e+01, -6.56916147e-01,  3.19481046e+00]), 'funcalls': 21}\n",
      "  ConvergenceWarning)\n",
      "/home/brown/python_packages/patched_gpr/patched_gpr.py:505: ConvergenceWarning: fmin_l_bfgs_b terminated abnormally with the  state: {'task': b'ABNORMAL_TERMINATION_IN_LNSRCH', 'nit': 0, 'warnflag': 2, 'grad': array([ 1.86098351e-05,  1.46500259e+01, -7.18148673e-01,  3.47655332e+00]), 'funcalls': 21}\n",
      "  ConvergenceWarning)\n",
      "/home/brown/python_packages/patched_gpr/patched_gpr.py:505: ConvergenceWarning: fmin_l_bfgs_b terminated abnormally with the  state: {'task': b'ABNORMAL_TERMINATION_IN_LNSRCH', 'nit': 0, 'warnflag': 2, 'grad': array([ 1.85716465e-05,  1.51500249e+01, -7.80923267e-01,  3.76434799e+00]), 'funcalls': 21}\n",
      "  ConvergenceWarning)\n",
      "/home/brown/python_packages/patched_gpr/patched_gpr.py:505: ConvergenceWarning: fmin_l_bfgs_b terminated abnormally with the  state: {'task': b'ABNORMAL_TERMINATION_IN_LNSRCH', 'nit': 0, 'warnflag': 2, 'grad': array([ 1.85316168e-05,  1.51500255e+01, -8.45241242e-01,  4.05841999e+00]), 'funcalls': 21}\n",
      "  ConvergenceWarning)\n",
      "/home/brown/python_packages/patched_gpr/patched_gpr.py:505: ConvergenceWarning: fmin_l_bfgs_b terminated abnormally with the  state: {'task': b'ABNORMAL_TERMINATION_IN_LNSRCH', 'nit': 1, 'warnflag': 2, 'grad': array([ 1.84843619e-05,  1.46500284e+01, -8.91399218e-01,  4.25270137e+00]), 'funcalls': 53}\n",
      "  ConvergenceWarning)\n",
      "/home/brown/python_packages/patched_gpr/patched_gpr.py:505: ConvergenceWarning: fmin_l_bfgs_b terminated abnormally with the  state: {'task': b'ABNORMAL_TERMINATION_IN_LNSRCH', 'nit': 1, 'warnflag': 2, 'grad': array([ 1.84123263e-05,  1.46500289e+01, -8.56259780e-01,  4.00765660e+00]), 'funcalls': 47}\n",
      "  ConvergenceWarning)\n",
      "/home/brown/python_packages/patched_gpr/patched_gpr.py:505: ConvergenceWarning: fmin_l_bfgs_b terminated abnormally with the  state: {'task': b'ABNORMAL_TERMINATION_IN_LNSRCH', 'nit': 0, 'warnflag': 2, 'grad': array([ 1.83692522e-05,  1.46500257e+01, -9.23607817e-01,  4.30753525e+00]), 'funcalls': 21}\n",
      "  ConvergenceWarning)\n",
      "/home/brown/python_packages/patched_gpr/patched_gpr.py:505: ConvergenceWarning: fmin_l_bfgs_b terminated abnormally with the  state: {'task': b'ABNORMAL_TERMINATION_IN_LNSRCH', 'nit': 1, 'warnflag': 2, 'grad': array([ 1.83103529e-05,  1.51500246e+01, -9.43381177e-01,  4.35006256e+00]), 'funcalls': 50}\n",
      "  ConvergenceWarning)\n",
      "/home/brown/python_packages/patched_gpr/patched_gpr.py:505: ConvergenceWarning: fmin_l_bfgs_b terminated abnormally with the  state: {'task': b'ABNORMAL_TERMINATION_IN_LNSRCH', 'nit': 1, 'warnflag': 2, 'grad': array([ 1.82497556e-05,  1.51500250e+01, -9.62909998e-01,  4.38844085e+00]), 'funcalls': 50}\n",
      "  ConvergenceWarning)\n",
      "/home/brown/python_packages/patched_gpr/patched_gpr.py:505: ConvergenceWarning: fmin_l_bfgs_b terminated abnormally with the  state: {'task': b'ABNORMAL_TERMINATION_IN_LNSRCH', 'nit': 1, 'warnflag': 2, 'grad': array([ 1.81806453e-05,  1.46500279e+01, -9.60473129e-01,  4.30725362e+00]), 'funcalls': 49}\n",
      "  ConvergenceWarning)\n",
      "/home/brown/python_packages/patched_gpr/patched_gpr.py:505: ConvergenceWarning: fmin_l_bfgs_b terminated abnormally with the  state: {'task': b'ABNORMAL_TERMINATION_IN_LNSRCH', 'nit': 1, 'warnflag': 2, 'grad': array([ 1.81241122e-05,  1.46500286e+01, -1.00391086e+00,  4.46802537e+00]), 'funcalls': 55}\n",
      "  ConvergenceWarning)\n",
      "/home/brown/python_packages/patched_gpr/patched_gpr.py:505: ConvergenceWarning: fmin_l_bfgs_b terminated abnormally with the  state: {'task': b'ABNORMAL_TERMINATION_IN_LNSRCH', 'nit': 1, 'warnflag': 2, 'grad': array([ 1.80509502e-05,  1.46500254e+01, -1.00037473e+00,  4.37716708e+00]), 'funcalls': 49}\n",
      "  ConvergenceWarning)\n",
      "/home/brown/python_packages/patched_gpr/patched_gpr.py:505: ConvergenceWarning: fmin_l_bfgs_b terminated abnormally with the  state: {'task': b'ABNORMAL_TERMINATION_IN_LNSRCH', 'nit': 1, 'warnflag': 2, 'grad': array([ 1.79986228e-05,  1.51500241e+01, -1.06754291e+00,  4.65955901e+00]), 'funcalls': 57}\n",
      "  ConvergenceWarning)\n",
      "/home/brown/python_packages/patched_gpr/patched_gpr.py:505: ConvergenceWarning: fmin_l_bfgs_b terminated abnormally with the  state: {'task': b'ABNORMAL_TERMINATION_IN_LNSRCH', 'nit': 1, 'warnflag': 2, 'grad': array([ 1.79207955e-05,  1.51500245e+01, -1.05986709e+00,  4.54324598e+00]), 'funcalls': 49}\n",
      "  ConvergenceWarning)\n",
      "/home/brown/python_packages/patched_gpr/patched_gpr.py:505: ConvergenceWarning: fmin_l_bfgs_b terminated abnormally with the  state: {'task': b'ABNORMAL_TERMINATION_IN_LNSRCH', 'nit': 1, 'warnflag': 2, 'grad': array([ 1.78422523e-05,  1.46500273e+01, -1.05733354e+00,  4.45426017e+00]), 'funcalls': 49}\n",
      "  ConvergenceWarning)\n",
      "/home/brown/python_packages/patched_gpr/patched_gpr.py:505: ConvergenceWarning: fmin_l_bfgs_b terminated abnormally with the  state: {'task': b'ABNORMAL_TERMINATION_IN_LNSRCH', 'nit': 1, 'warnflag': 2, 'grad': array([ 1.77816846e-05,  1.46500282e+01, -1.11310205e+00,  4.67084607e+00]), 'funcalls': 53}\n",
      "  ConvergenceWarning)\n",
      "/home/brown/python_packages/patched_gpr/patched_gpr.py:505: ConvergenceWarning: fmin_l_bfgs_b terminated abnormally with the  state: {'task': b'ABNORMAL_TERMINATION_IN_LNSRCH', 'nit': 1, 'warnflag': 2, 'grad': array([ 1.76985027e-05,  1.46500250e+01, -1.10640569e+00,  4.55853565e+00]), 'funcalls': 49}\n",
      "  ConvergenceWarning)\n",
      "/home/brown/python_packages/patched_gpr/patched_gpr.py:505: ConvergenceWarning: fmin_l_bfgs_b terminated abnormally with the  state: {'task': b'ABNORMAL_TERMINATION_IN_LNSRCH', 'nit': 1, 'warnflag': 2, 'grad': array([ 1.76400900e-05,  1.51500237e+01, -1.17859867e+00,  4.85936961e+00]), 'funcalls': 54}\n",
      "  ConvergenceWarning)\n",
      "/home/brown/python_packages/patched_gpr/patched_gpr.py:505: ConvergenceWarning: fmin_l_bfgs_b terminated abnormally with the  state: {'task': b'ABNORMAL_TERMINATION_IN_LNSRCH', 'nit': 1, 'warnflag': 2, 'grad': array([ 1.75528704e-05,  1.51500239e+01, -1.16774572e+00,  4.72409349e+00]), 'funcalls': 49}\n",
      "  ConvergenceWarning)\n",
      "/home/brown/python_packages/patched_gpr/patched_gpr.py:505: ConvergenceWarning: fmin_l_bfgs_b terminated abnormally with the  state: {'task': b'ABNORMAL_TERMINATION_IN_LNSRCH', 'nit': 1, 'warnflag': 2, 'grad': array([ 1.74658669e-05,  1.46500266e+01, -1.16324616e+00,  4.62334878e+00]), 'funcalls': 49}\n",
      "  ConvergenceWarning)\n",
      "/home/brown/python_packages/patched_gpr/patched_gpr.py:505: ConvergenceWarning: fmin_l_bfgs_b terminated abnormally with the  state: {'task': b'ABNORMAL_TERMINATION_IN_LNSRCH', 'nit': 1, 'warnflag': 2, 'grad': array([ 1.74000217e-05,  1.46500278e+01, -1.22470343e+00,  4.86535712e+00]), 'funcalls': 52}\n",
      "  ConvergenceWarning)\n",
      "/home/brown/python_packages/patched_gpr/patched_gpr.py:505: ConvergenceWarning: fmin_l_bfgs_b terminated abnormally with the  state: {'task': b'ABNORMAL_TERMINATION_IN_LNSRCH', 'nit': 1, 'warnflag': 2, 'grad': array([ 1.73091897e-05,  1.46500246e+01, -1.21479996e+00,  4.73628843e+00]), 'funcalls': 49}\n",
      "  ConvergenceWarning)\n",
      "/home/brown/python_packages/patched_gpr/patched_gpr.py:505: ConvergenceWarning: fmin_l_bfgs_b terminated abnormally with the  state: {'task': b'ABNORMAL_TERMINATION_IN_LNSRCH', 'nit': 1, 'warnflag': 2, 'grad': array([ 1.72447348e-05,  1.51500231e+01, -1.28882994e+00,  5.04299032e+00]), 'funcalls': 57}\n",
      "  ConvergenceWarning)\n"
     ]
    },
    {
     "name": "stderr",
     "output_type": "stream",
     "text": [
      "/home/brown/python_packages/patched_gpr/patched_gpr.py:505: ConvergenceWarning: fmin_l_bfgs_b terminated abnormally with the  state: {'task': b'ABNORMAL_TERMINATION_IN_LNSRCH', 'nit': 1, 'warnflag': 2, 'grad': array([ 1.71361304e-05,  1.51500233e+01, -1.22875616e+00,  4.65416973e+00]), 'funcalls': 47}\n",
      "  ConvergenceWarning)\n",
      "/home/brown/python_packages/patched_gpr/patched_gpr.py:505: ConvergenceWarning: fmin_l_bfgs_b terminated abnormally with the  state: {'task': b'ABNORMAL_TERMINATION_IN_LNSRCH', 'nit': 0, 'warnflag': 2, 'grad': array([ 1.70730367e-05,  1.46500260e+01, -1.31065500e+00,  4.99931493e+00]), 'funcalls': 21}\n",
      "  ConvergenceWarning)\n",
      "/home/brown/python_packages/patched_gpr/patched_gpr.py:505: ConvergenceWarning: fmin_l_bfgs_b terminated abnormally with the  state: {'task': b'ABNORMAL_TERMINATION_IN_LNSRCH', 'nit': 1, 'warnflag': 2, 'grad': array([ 1.69791357e-05,  1.46500273e+01, -1.29922316e+00,  4.86245397e+00]), 'funcalls': 49}\n",
      "  ConvergenceWarning)\n",
      "/home/brown/python_packages/patched_gpr/patched_gpr.py:505: ConvergenceWarning: fmin_l_bfgs_b terminated abnormally with the  state: {'task': b'ABNORMAL_TERMINATION_IN_LNSRCH', 'nit': 1, 'warnflag': 2, 'grad': array([ 1.69046243e-05,  1.46500242e+01, -1.35167461e+00,  5.05533317e+00]), 'funcalls': 53}\n",
      "  ConvergenceWarning)\n",
      "/home/brown/python_packages/patched_gpr/patched_gpr.py:505: ConvergenceWarning: fmin_l_bfgs_b terminated abnormally with the  state: {'task': b'ABNORMAL_TERMINATION_IN_LNSRCH', 'nit': 1, 'warnflag': 2, 'grad': array([ 1.68188930e-05,  1.51500226e+01, -1.36872823e+00,  5.06494077e+00]), 'funcalls': 50}\n",
      "  ConvergenceWarning)\n",
      "/home/brown/python_packages/patched_gpr/patched_gpr.py:505: ConvergenceWarning: fmin_l_bfgs_b terminated abnormally with the  state: {'task': b'ABNORMAL_TERMINATION_IN_LNSRCH', 'nit': 1, 'warnflag': 2, 'grad': array([ 1.67409721e-05,  1.51500228e+01, -1.41433711e+00,  5.22191833e+00]), 'funcalls': 56}\n",
      "  ConvergenceWarning)\n",
      "/home/brown/python_packages/patched_gpr/patched_gpr.py:505: ConvergenceWarning: fmin_l_bfgs_b terminated abnormally with the  state: {'task': b'ABNORMAL_TERMINATION_IN_LNSRCH', 'nit': 1, 'warnflag': 2, 'grad': array([ 1.66300995e-05,  1.46500253e+01, -1.34381796e+00,  4.77873385e+00]), 'funcalls': 47}\n",
      "  ConvergenceWarning)\n",
      "/home/brown/python_packages/patched_gpr/patched_gpr.py:505: ConvergenceWarning: fmin_l_bfgs_b terminated abnormally with the  state: {'task': b'ABNORMAL_TERMINATION_IN_LNSRCH', 'nit': 0, 'warnflag': 2, 'grad': array([ 1.65643063e-05,  1.46500268e+01, -1.42881183e+00,  5.13592316e+00]), 'funcalls': 21}\n",
      "  ConvergenceWarning)\n",
      "/home/brown/python_packages/patched_gpr/patched_gpr.py:505: ConvergenceWarning: fmin_l_bfgs_b terminated abnormally with the  state: {'task': b'ABNORMAL_TERMINATION_IN_LNSRCH', 'nit': 1, 'warnflag': 2, 'grad': array([ 1.64712839e-05,  1.46500238e+01, -1.41829042e+00,  5.00114576e+00]), 'funcalls': 49}\n",
      "  ConvergenceWarning)\n",
      "/home/brown/python_packages/patched_gpr/patched_gpr.py:505: ConvergenceWarning: fmin_l_bfgs_b terminated abnormally with the  state: {'task': b'ABNORMAL_TERMINATION_IN_LNSRCH', 'nit': 1, 'warnflag': 2, 'grad': array([ 1.63993249e-05,  1.46500229e+01, -1.48606766e+00,  5.26976743e+00]), 'funcalls': 50}\n",
      "  ConvergenceWarning)\n",
      "/home/brown/python_packages/patched_gpr/patched_gpr.py:505: ConvergenceWarning: fmin_l_bfgs_b terminated abnormally with the  state: {'task': b'ABNORMAL_TERMINATION_IN_LNSRCH', 'nit': 1, 'warnflag': 2, 'grad': array([ 1.63035069e-05,  1.46500374e+01, -1.45918329e+00,  5.04843422e+00]), 'funcalls': 48}\n",
      "  ConvergenceWarning)\n",
      "/home/brown/python_packages/patched_gpr/patched_gpr.py:505: ConvergenceWarning: fmin_l_bfgs_b terminated abnormally with the  state: {'task': b'ABNORMAL_TERMINATION_IN_LNSRCH', 'nit': 1, 'warnflag': 2, 'grad': array([ 1.62266523e-05,  1.41500864e+01, -1.50627589e+00,  5.20869020e+00]), 'funcalls': 56}\n",
      "  ConvergenceWarning)\n",
      "/home/brown/python_packages/patched_gpr/patched_gpr.py:505: ConvergenceWarning: fmin_l_bfgs_b terminated abnormally with the  state: {'task': b'ABNORMAL_TERMINATION_IN_LNSRCH', 'nit': 1, 'warnflag': 2, 'grad': array([ 1.61325575e-05,  1.41501844e+01, -1.48147010e+00,  4.99701488e+00]), 'funcalls': 48}\n",
      "  ConvergenceWarning)\n",
      "/home/brown/python_packages/patched_gpr/patched_gpr.py:505: ConvergenceWarning: fmin_l_bfgs_b terminated abnormally with the  state: {'task': b'ABNORMAL_TERMINATION_IN_LNSRCH', 'nit': 1, 'warnflag': 2, 'grad': array([ 1.60618067e-05,  1.41503436e+01, -1.55022545e+00,  5.26701073e+00]), 'funcalls': 50}\n",
      "  ConvergenceWarning)\n",
      "/home/brown/python_packages/patched_gpr/patched_gpr.py:505: ConvergenceWarning: fmin_l_bfgs_b terminated abnormally with the  state: {'task': b'ABNORMAL_TERMINATION_IN_LNSRCH', 'nit': 1, 'warnflag': 2, 'grad': array([ 1.59692333e-05,  1.41505844e+01, -1.52365553e+00,  5.04391599e+00]), 'funcalls': 48}\n",
      "  ConvergenceWarning)\n",
      "/home/brown/python_packages/patched_gpr/patched_gpr.py:505: ConvergenceWarning: fmin_l_bfgs_b terminated abnormally with the  state: {'task': b'ABNORMAL_TERMINATION_IN_LNSRCH', 'nit': 1, 'warnflag': 2, 'grad': array([ 1.59016440e-05,  1.41509334e+01, -1.60483029e+00,  5.37628902e+00]), 'funcalls': 54}\n",
      "  ConvergenceWarning)\n",
      "/home/brown/python_packages/patched_gpr/patched_gpr.py:505: ConvergenceWarning: fmin_l_bfgs_b terminated abnormally with the  state: {'task': b'ABNORMAL_TERMINATION_IN_LNSRCH', 'nit': 1, 'warnflag': 2, 'grad': array([ 1.58111962e-05,  1.36514215e+01, -1.57739749e+00,  5.14556295e+00]), 'funcalls': 45}\n",
      "  ConvergenceWarning)\n",
      "/home/brown/python_packages/patched_gpr/patched_gpr.py:505: ConvergenceWarning: fmin_l_bfgs_b terminated abnormally with the  state: {'task': b'ABNORMAL_TERMINATION_IN_LNSRCH', 'nit': 1, 'warnflag': 2, 'grad': array([ 1.57367578e-05,  1.36520740e+01, -1.62309572e+00,  5.29225757e+00]), 'funcalls': 56}\n",
      "  ConvergenceWarning)\n",
      "/home/brown/python_packages/patched_gpr/patched_gpr.py:505: ConvergenceWarning: fmin_l_bfgs_b terminated abnormally with the  state: {'task': b'ABNORMAL_TERMINATION_IN_LNSRCH', 'nit': 1, 'warnflag': 2, 'grad': array([ 1.56472462e-05,  1.36529124e+01, -1.59357049e+00,  5.04930598e+00]), 'funcalls': 48}\n",
      "  ConvergenceWarning)\n",
      "/home/brown/python_packages/patched_gpr/patched_gpr.py:505: ConvergenceWarning: fmin_l_bfgs_b terminated abnormally with the  state: {'task': b'ABNORMAL_TERMINATION_IN_LNSRCH', 'nit': 0, 'warnflag': 2, 'grad': array([ 1.55828275e-05,  1.36539655e+01, -1.68123056e+00,  5.40909365e+00]), 'funcalls': 21}\n",
      "  ConvergenceWarning)\n",
      "/home/brown/python_packages/patched_gpr/patched_gpr.py:505: ConvergenceWarning: fmin_l_bfgs_b terminated abnormally with the  state: {'task': b'ABNORMAL_TERMINATION_IN_LNSRCH', 'nit': 1, 'warnflag': 2, 'grad': array([ 1.54943423e-05,  1.36552667e+01, -1.64460546e+00,  5.12570895e+00]), 'funcalls': 48}\n",
      "  ConvergenceWarning)\n",
      "/home/brown/python_packages/patched_gpr/patched_gpr.py:505: ConvergenceWarning: fmin_l_bfgs_b terminated abnormally with the  state: {'task': b'ABNORMAL_TERMINATION_IN_LNSRCH', 'nit': 1, 'warnflag': 2, 'grad': array([ 1.54246546e-05,  1.31568532e+01, -1.70090333e+00,  5.32036368e+00]), 'funcalls': 52}\n",
      "  ConvergenceWarning)\n",
      "/home/brown/python_packages/patched_gpr/patched_gpr.py:505: ConvergenceWarning: fmin_l_bfgs_b terminated abnormally with the  state: {'task': b'ABNORMAL_TERMINATION_IN_LNSRCH', 'nit': 1, 'warnflag': 2, 'grad': array([ 1.53379504e-05,  1.31587564e+01, -1.66740176e+00,  5.05150222e+00]), 'funcalls': 48}\n",
      "  ConvergenceWarning)\n",
      "/home/brown/python_packages/patched_gpr/patched_gpr.py:505: ConvergenceWarning: fmin_l_bfgs_b terminated abnormally with the  state: {'task': b'ABNORMAL_TERMINATION_IN_LNSRCH', 'nit': 0, 'warnflag': 2, 'grad': array([ 1.52758942e-05,  1.31610019e+01, -1.75535802e+00,  5.40410316e+00]), 'funcalls': 21}\n",
      "  ConvergenceWarning)\n",
      "/home/brown/python_packages/patched_gpr/patched_gpr.py:505: ConvergenceWarning: fmin_l_bfgs_b terminated abnormally with the  state: {'task': b'ABNORMAL_TERMINATION_IN_LNSRCH', 'nit': 1, 'warnflag': 2, 'grad': array([ 1.51926365e-05,  1.31636219e+01, -1.72840989e+00,  5.16488631e+00]), 'funcalls': 45}\n",
      "  ConvergenceWarning)\n",
      "/home/brown/python_packages/patched_gpr/patched_gpr.py:505: ConvergenceWarning: fmin_l_bfgs_b terminated abnormally with the  state: {'task': b'ABNORMAL_TERMINATION_IN_LNSRCH', 'nit': 1, 'warnflag': 2, 'grad': array([ 1.51303873e-05,  1.31666527e+01, -1.81255019e+00,  5.49371870e+00]), 'funcalls': 51}\n",
      "  ConvergenceWarning)\n",
      "/home/brown/python_packages/patched_gpr/patched_gpr.py:505: ConvergenceWarning: fmin_l_bfgs_b terminated abnormally with the  state: {'task': b'ABNORMAL_TERMINATION_IN_LNSRCH', 'nit': 1, 'warnflag': 2, 'grad': array([ 1.50469611e-05,  1.26701335e+01, -1.77426834e+00,  5.19259547e+00]), 'funcalls': 45}\n",
      "  ConvergenceWarning)\n"
     ]
    },
    {
     "name": "stderr",
     "output_type": "stream",
     "text": [
      "/home/brown/python_packages/patched_gpr/patched_gpr.py:505: ConvergenceWarning: fmin_l_bfgs_b terminated abnormally with the  state: {'task': b'ABNORMAL_TERMINATION_IN_LNSRCH', 'nit': 1, 'warnflag': 2, 'grad': array([ 1.49828286e-05,  1.26740974e+01, -1.84101315e+00,  5.42722085e+00]), 'funcalls': 50}\n",
      "  ConvergenceWarning)\n",
      "/home/brown/python_packages/patched_gpr/patched_gpr.py:505: ConvergenceWarning: fmin_l_bfgs_b terminated abnormally with the  state: {'task': b'ABNORMAL_TERMINATION_IN_LNSRCH', 'nit': 1, 'warnflag': 2, 'grad': array([ 1.49015360e-05,  1.26785708e+01, -1.80996861e+00,  5.16163563e+00]), 'funcalls': 45}\n",
      "  ConvergenceWarning)\n",
      "/home/brown/python_packages/patched_gpr/patched_gpr.py:505: ConvergenceWarning: fmin_l_bfgs_b terminated abnormally with the  state: {'task': b'ABNORMAL_TERMINATION_IN_LNSRCH', 'nit': 0, 'warnflag': 2, 'grad': array([ 1.48426364e-05,  1.26835857e+01, -1.89846604e+00,  5.50141557e+00]), 'funcalls': 21}\n",
      "  ConvergenceWarning)\n",
      "/home/brown/python_packages/patched_gpr/patched_gpr.py:505: ConvergenceWarning: fmin_l_bfgs_b terminated abnormally with the  state: {'task': b'ABNORMAL_TERMINATION_IN_LNSRCH', 'nit': 1, 'warnflag': 2, 'grad': array([ 1.47620959e-05,  1.26891778e+01, -1.86345556e+00,  5.21292552e+00]), 'funcalls': 45}\n",
      "  ConvergenceWarning)\n",
      "/home/brown/python_packages/patched_gpr/patched_gpr.py:505: ConvergenceWarning: fmin_l_bfgs_b terminated abnormally with the  state: {'task': b'ABNORMAL_TERMINATION_IN_LNSRCH', 'nit': 1, 'warnflag': 2, 'grad': array([ 1.47001414e-05,  1.21953852e+01, -1.92943889e+00,  5.43395575e+00]), 'funcalls': 50}\n",
      "  ConvergenceWarning)\n",
      "/home/brown/python_packages/patched_gpr/patched_gpr.py:505: ConvergenceWarning: fmin_l_bfgs_b terminated abnormally with the  state: {'task': b'ABNORMAL_TERMINATION_IN_LNSRCH', 'nit': 1, 'warnflag': 2, 'grad': array([ 1.46199114e-05,  1.22022401e+01, -1.89477808e+00,  5.14767464e+00]), 'funcalls': 45}\n",
      "  ConvergenceWarning)\n",
      "/home/brown/python_packages/patched_gpr/patched_gpr.py:505: ConvergenceWarning: fmin_l_bfgs_b terminated abnormally with the  state: {'task': b'ABNORMAL_TERMINATION_IN_LNSRCH', 'nit': 0, 'warnflag': 2, 'grad': array([ 1.45633816e-05,  1.22097667e+01, -1.98285875e+00,  5.47455647e+00]), 'funcalls': 21}\n",
      "  ConvergenceWarning)\n",
      "/home/brown/python_packages/patched_gpr/patched_gpr.py:505: ConvergenceWarning: fmin_l_bfgs_b terminated abnormally with the  state: {'task': b'ABNORMAL_TERMINATION_IN_LNSRCH', 'nit': 1, 'warnflag': 2, 'grad': array([ 1.44294294e-05,  1.22269560e+01, -2.04396838e+00,  5.54965846e+00]), 'funcalls': 50}\n",
      "  ConvergenceWarning)\n",
      "/home/brown/python_packages/patched_gpr/patched_gpr.py:505: ConvergenceWarning: fmin_l_bfgs_b terminated abnormally with the  state: {'task': b'ABNORMAL_TERMINATION_IN_LNSRCH', 'nit': 1, 'warnflag': 2, 'grad': array([ 1.43481131e-05,  1.17366862e+01, -1.99536324e+00,  5.19497525e+00]), 'funcalls': 45}\n",
      "  ConvergenceWarning)\n",
      "/home/brown/python_packages/patched_gpr/patched_gpr.py:505: ConvergenceWarning: fmin_l_bfgs_b terminated abnormally with the  state: {'task': b'ABNORMAL_TERMINATION_IN_LNSRCH', 'nit': 0, 'warnflag': 2, 'grad': array([ 1.42930513e-05,  1.17472141e+01, -2.08246633e+00,  5.50959719e+00]), 'funcalls': 21}\n",
      "  ConvergenceWarning)\n",
      "/home/brown/python_packages/patched_gpr/patched_gpr.py:505: ConvergenceWarning: fmin_l_bfgs_b terminated abnormally with the  state: {'task': b'ABNORMAL_TERMINATION_IN_LNSRCH', 'nit': 1, 'warnflag': 2, 'grad': array([ 1.41629133e-05,  1.17707491e+01, -2.15192883e+00,  5.62358341e+00]), 'funcalls': 53}\n",
      "  ConvergenceWarning)\n",
      "/home/brown/python_packages/patched_gpr/patched_gpr.py:505: ConvergenceWarning: fmin_l_bfgs_b terminated abnormally with the  state: {'task': b'ABNORMAL_TERMINATION_IN_LNSRCH', 'nit': 1, 'warnflag': 2, 'grad': array([ 1.40812249e-05,  1.17838093e+01, -2.09877135e+00,  5.25477935e+00]), 'funcalls': 45}\n",
      "  ConvergenceWarning)\n",
      "/home/brown/python_packages/patched_gpr/patched_gpr.py:505: ConvergenceWarning: fmin_l_bfgs_b terminated abnormally with the  state: {'task': b'ABNORMAL_TERMINATION_IN_LNSRCH', 'nit': 0, 'warnflag': 2, 'grad': array([ 1.40268515e-05,  1.12977708e+01, -2.18400140e+00,  5.55751353e+00]), 'funcalls': 21}\n",
      "  ConvergenceWarning)\n",
      "/home/brown/python_packages/patched_gpr/patched_gpr.py:505: ConvergenceWarning: fmin_l_bfgs_b terminated abnormally with the  state: {'task': b'ABNORMAL_TERMINATION_IN_LNSRCH', 'nit': 1, 'warnflag': 2, 'grad': array([ 1.39438998e-05,  1.13126582e+01, -2.12903972e+00,  5.18894489e+00]), 'funcalls': 45}\n",
      "  ConvergenceWarning)\n",
      "/home/brown/python_packages/patched_gpr/patched_gpr.py:505: ConvergenceWarning: fmin_l_bfgs_b terminated abnormally with the  state: {'task': b'ABNORMAL_TERMINATION_IN_LNSRCH', 'nit': 0, 'warnflag': 2, 'grad': array([ 1.38899532e-05,  1.13284869e+01, -2.21267868e+00,  5.48417571e+00]), 'funcalls': 21}\n",
      "  ConvergenceWarning)\n",
      "/home/brown/python_packages/patched_gpr/patched_gpr.py:505: ConvergenceWarning: fmin_l_bfgs_b terminated abnormally with the  state: {'task': b'ABNORMAL_TERMINATION_IN_LNSRCH', 'nit': 1, 'warnflag': 2, 'grad': array([ 1.38284385e-05,  1.13452763e+01, -2.26269585e+00,  5.62137430e+00]), 'funcalls': 54}\n",
      "  ConvergenceWarning)\n",
      "/home/brown/python_packages/patched_gpr/patched_gpr.py:505: ConvergenceWarning: fmin_l_bfgs_b terminated abnormally with the  state: {'task': b'ABNORMAL_TERMINATION_IN_LNSRCH', 'nit': 1, 'warnflag': 2, 'grad': array([ 1.37596132e-05,  1.13630490e+01, -2.27535806e+00,  5.58320979e+00]), 'funcalls': 54}\n",
      "  ConvergenceWarning)\n",
      "/home/brown/python_packages/patched_gpr/patched_gpr.py:505: ConvergenceWarning: fmin_l_bfgs_b terminated abnormally with the  state: {'task': b'ABNORMAL_TERMINATION_IN_LNSRCH', 'nit': 0, 'warnflag': 2, 'grad': array([ 1.36193131e-05,  1.09016375e+01, -2.28943298e+00,  5.46527637e+00]), 'funcalls': 21}\n",
      "  ConvergenceWarning)\n",
      "/home/brown/python_packages/patched_gpr/patched_gpr.py:505: ConvergenceWarning: fmin_l_bfgs_b terminated abnormally with the  state: {'task': b'ABNORMAL_TERMINATION_IN_LNSRCH', 'nit': 1, 'warnflag': 2, 'grad': array([ 1.35573054e-05,  1.09224823e+01, -2.33728092e+00,  5.60227236e+00]), 'funcalls': 52}\n",
      "  ConvergenceWarning)\n",
      "/home/brown/python_packages/patched_gpr/patched_gpr.py:505: ConvergenceWarning: fmin_l_bfgs_b terminated abnormally with the  state: {'task': b'ABNORMAL_TERMINATION_IN_LNSRCH', 'nit': 1, 'warnflag': 2, 'grad': array([ 1.34884500e-05,  1.09443775e+01, -2.35232573e+00,  5.59041131e+00]), 'funcalls': 56}\n",
      "  ConvergenceWarning)\n",
      "/home/brown/python_packages/patched_gpr/patched_gpr.py:505: ConvergenceWarning: fmin_l_bfgs_b terminated abnormally with the  state: {'task': b'ABNORMAL_TERMINATION_IN_LNSRCH', 'nit': 1, 'warnflag': 2, 'grad': array([ 1.34207732e-05,  1.09673397e+01, -2.37402900e+00,  5.61356476e+00]), 'funcalls': 53}\n",
      "  ConvergenceWarning)\n",
      "/home/brown/python_packages/patched_gpr/patched_gpr.py:505: ConvergenceWarning: fmin_l_bfgs_b terminated abnormally with the  state: {'task': b'ABNORMAL_TERMINATION_IN_LNSRCH', 'nit': 1, 'warnflag': 2, 'grad': array([ 1.33306097e-05,  1.04913874e+01, -2.29353011e+00,  5.17708193e+00]), 'funcalls': 45}\n",
      "  ConvergenceWarning)\n",
      "/home/brown/python_packages/patched_gpr/patched_gpr.py:505: ConvergenceWarning: fmin_l_bfgs_b terminated abnormally with the  state: {'task': b'ABNORMAL_TERMINATION_IN_LNSRCH', 'nit': 0, 'warnflag': 2, 'grad': array([ 1.32747086e-05,  1.05165349e+01, -2.36816353e+00,  5.44881444e+00]), 'funcalls': 21}\n",
      "  ConvergenceWarning)\n",
      "/home/brown/python_packages/patched_gpr/patched_gpr.py:505: ConvergenceWarning: fmin_l_bfgs_b terminated abnormally with the  state: {'task': b'ABNORMAL_TERMINATION_IN_LNSRCH', 'nit': 1, 'warnflag': 2, 'grad': array([ 1.32111959e-05,  1.05427856e+01, -2.41240690e+00,  5.58779503e+00]), 'funcalls': 50}\n",
      "  ConvergenceWarning)\n",
      "/home/brown/python_packages/patched_gpr/patched_gpr.py:505: ConvergenceWarning: fmin_l_bfgs_b terminated abnormally with the  state: {'task': b'ABNORMAL_TERMINATION_IN_LNSRCH', 'nit': 1, 'warnflag': 2, 'grad': array([ 1.31395529e-05,  1.05701470e+01, -2.41904711e+00,  5.56175212e+00]), 'funcalls': 56}\n",
      "  ConvergenceWarning)\n",
      "/home/brown/python_packages/patched_gpr/patched_gpr.py:505: ConvergenceWarning: fmin_l_bfgs_b terminated abnormally with the  state: {'task': b'ABNORMAL_TERMINATION_IN_LNSRCH', 'nit': 1, 'warnflag': 2, 'grad': array([ 1.30691501e-05,  1.05986296e+01, -2.43298377e+00,  5.57371261e+00]), 'funcalls': 53}\n",
      "  ConvergenceWarning)\n",
      "/home/brown/python_packages/patched_gpr/patched_gpr.py:505: ConvergenceWarning: fmin_l_bfgs_b terminated abnormally with the  state: {'task': b'ABNORMAL_TERMINATION_IN_LNSRCH', 'nit': 1, 'warnflag': 2, 'grad': array([ 1.29755129e-05,  1.01282459e+01, -2.34230369e+00,  5.12940773e+00]), 'funcalls': 45}\n",
      "  ConvergenceWarning)\n"
     ]
    },
    {
     "name": "stderr",
     "output_type": "stream",
     "text": [
      "/home/brown/python_packages/patched_gpr/patched_gpr.py:505: ConvergenceWarning: fmin_l_bfgs_b terminated abnormally with the  state: {'task': b'ABNORMAL_TERMINATION_IN_LNSRCH', 'nit': 0, 'warnflag': 2, 'grad': array([ 1.29170665e-05,  1.01590049e+01, -2.41050849e+00,  5.39057464e+00]), 'funcalls': 21}\n",
      "  ConvergenceWarning)\n",
      "/home/brown/python_packages/patched_gpr/patched_gpr.py:505: ConvergenceWarning: fmin_l_bfgs_b terminated abnormally with the  state: {'task': b'ABNORMAL_TERMINATION_IN_LNSRCH', 'nit': 1, 'warnflag': 2, 'grad': array([ 1.28507763e-05,  1.01909043e+01, -2.44779886e+00,  5.52107424e+00]), 'funcalls': 50}\n",
      "  ConvergenceWarning)\n",
      "/home/brown/python_packages/patched_gpr/patched_gpr.py:505: ConvergenceWarning: fmin_l_bfgs_b terminated abnormally with the  state: {'task': b'ABNORMAL_TERMINATION_IN_LNSRCH', 'nit': 1, 'warnflag': 2, 'grad': array([ 1.27762556e-05,  1.02239454e+01, -2.44716194e+00,  5.49010953e+00]), 'funcalls': 56}\n",
      "  ConvergenceWarning)\n",
      "/home/brown/python_packages/patched_gpr/patched_gpr.py:505: ConvergenceWarning: fmin_l_bfgs_b terminated abnormally with the  state: {'task': b'ABNORMAL_TERMINATION_IN_LNSRCH', 'nit': 1, 'warnflag': 2, 'grad': array([ 1.27043533e-05,  1.02581331e+01, -2.46075691e+00,  5.52647809e+00]), 'funcalls': 53}\n",
      "  ConvergenceWarning)\n",
      "/home/brown/python_packages/patched_gpr/patched_gpr.py:505: ConvergenceWarning: fmin_l_bfgs_b terminated abnormally with the  state: {'task': b'ABNORMAL_TERMINATION_IN_LNSRCH', 'nit': 1, 'warnflag': 2, 'grad': array([ 1.26078367e-05,  9.79347424e+00, -2.35902643e+00,  5.07113025e+00]), 'funcalls': 45}\n",
      "  ConvergenceWarning)\n",
      "/home/brown/python_packages/patched_gpr/patched_gpr.py:505: ConvergenceWarning: fmin_l_bfgs_b terminated abnormally with the  state: {'task': b'ABNORMAL_TERMINATION_IN_LNSRCH', 'nit': 0, 'warnflag': 2, 'grad': array([ 1.25461976e-05,  9.82997260e+00, -2.42053173e+00,  5.32280789e+00]), 'funcalls': 21}\n",
      "  ConvergenceWarning)\n",
      "/home/brown/python_packages/patched_gpr/patched_gpr.py:505: ConvergenceWarning: fmin_l_bfgs_b terminated abnormally with the  state: {'task': b'ABNORMAL_TERMINATION_IN_LNSRCH', 'nit': 1, 'warnflag': 2, 'grad': array([ 1.24761425e-05,  9.86762065e+00, -2.44715694e+00,  5.42988655e+00]), 'funcalls': 52}\n",
      "  ConvergenceWarning)\n",
      "/home/brown/python_packages/patched_gpr/patched_gpr.py:505: ConvergenceWarning: fmin_l_bfgs_b terminated abnormally with the  state: {'task': b'ABNORMAL_TERMINATION_IN_LNSRCH', 'nit': 1, 'warnflag': 2, 'grad': array([ 1.23990077e-05,  9.90641420e+00, -2.43972994e+00,  5.39551064e+00]), 'funcalls': 56}\n",
      "  ConvergenceWarning)\n",
      "/home/brown/python_packages/patched_gpr/patched_gpr.py:505: ConvergenceWarning: fmin_l_bfgs_b terminated abnormally with the  state: {'task': b'ABNORMAL_TERMINATION_IN_LNSRCH', 'nit': 1, 'warnflag': 2, 'grad': array([ 1.23244085e-05,  9.94635271e+00, -2.44667705e+00,  5.42696645e+00]), 'funcalls': 53}\n",
      "  ConvergenceWarning)\n",
      "/home/brown/python_packages/patched_gpr/patched_gpr.py:505: ConvergenceWarning: fmin_l_bfgs_b terminated abnormally with the  state: {'task': b'ABNORMAL_TERMINATION_IN_LNSRCH', 'nit': 0, 'warnflag': 2, 'grad': array([ 1.21619522e-05,  9.52966889e+00, -2.39380404e+00,  5.21957328e+00]), 'funcalls': 21}\n",
      "  ConvergenceWarning)\n",
      "/home/brown/python_packages/patched_gpr/patched_gpr.py:505: ConvergenceWarning: fmin_l_bfgs_b terminated abnormally with the  state: {'task': b'ABNORMAL_TERMINATION_IN_LNSRCH', 'nit': 1, 'warnflag': 2, 'grad': array([ 1.20888544e-05,  9.57303347e+00, -2.41245819e+00,  5.31225734e+00]), 'funcalls': 54}\n",
      "  ConvergenceWarning)\n",
      "/home/brown/python_packages/patched_gpr/patched_gpr.py:505: ConvergenceWarning: fmin_l_bfgs_b terminated abnormally with the  state: {'task': b'ABNORMAL_TERMINATION_IN_LNSRCH', 'nit': 1, 'warnflag': 2, 'grad': array([ 1.20097530e-05,  9.61752246e+00, -2.39973666e+00,  5.27631113e+00]), 'funcalls': 56}\n",
      "  ConvergenceWarning)\n",
      "/home/brown/python_packages/patched_gpr/patched_gpr.py:505: ConvergenceWarning: fmin_l_bfgs_b terminated abnormally with the  state: {'task': b'ABNORMAL_TERMINATION_IN_LNSRCH', 'nit': 1, 'warnflag': 2, 'grad': array([ 1.19322739e-05,  9.66313060e+00, -2.39695257e+00,  5.28530628e+00]), 'funcalls': 53}\n",
      "  ConvergenceWarning)\n",
      "/home/brown/python_packages/patched_gpr/patched_gpr.py:505: ConvergenceWarning: fmin_l_bfgs_b terminated abnormally with the  state: {'task': b'ABNORMAL_TERMINATION_IN_LNSRCH', 'nit': 1, 'warnflag': 2, 'grad': array([ 1.18355022e-05,  9.20985501e+00, -2.28769505e+00,  4.85527080e+00]), 'funcalls': 45}\n",
      "  ConvergenceWarning)\n",
      "/home/brown/python_packages/patched_gpr/patched_gpr.py:505: ConvergenceWarning: fmin_l_bfgs_b terminated abnormally with the  state: {'task': b'ABNORMAL_TERMINATION_IN_LNSRCH', 'nit': 0, 'warnflag': 2, 'grad': array([ 1.17677759e-05,  9.25769091e+00, -2.33695585e+00,  5.08518120e+00]), 'funcalls': 21}\n",
      "  ConvergenceWarning)\n",
      "/home/brown/python_packages/patched_gpr/patched_gpr.py:505: ConvergenceWarning: fmin_l_bfgs_b terminated abnormally with the  state: {'task': b'ABNORMAL_TERMINATION_IN_LNSRCH', 'nit': 1, 'warnflag': 2, 'grad': array([ 1.16931843e-05,  9.30662203e+00, -2.35262488e+00,  5.17882244e+00]), 'funcalls': 52}\n",
      "  ConvergenceWarning)\n",
      "/home/brown/python_packages/patched_gpr/patched_gpr.py:505: ConvergenceWarning: fmin_l_bfgs_b terminated abnormally with the  state: {'task': b'ABNORMAL_TERMINATION_IN_LNSRCH', 'nit': 1, 'warnflag': 2, 'grad': array([ 1.16132204e-05,  9.35663490e+00, -2.33604310e+00,  5.14058934e+00]), 'funcalls': 56}\n",
      "  ConvergenceWarning)\n",
      "/home/brown/python_packages/patched_gpr/patched_gpr.py:505: ConvergenceWarning: fmin_l_bfgs_b terminated abnormally with the  state: {'task': b'ABNORMAL_TERMINATION_IN_LNSRCH', 'nit': 1, 'warnflag': 2, 'grad': array([ 1.15354644e-05,  9.40772022e+00, -2.33370131e+00,  5.16310758e+00]), 'funcalls': 53}\n",
      "  ConvergenceWarning)\n",
      "/home/brown/python_packages/patched_gpr/patched_gpr.py:505: ConvergenceWarning: fmin_l_bfgs_b terminated abnormally with the  state: {'task': b'ABNORMAL_TERMINATION_IN_LNSRCH', 'nit': 1, 'warnflag': 2, 'grad': array([ 1.14405350e-05,  8.95987123e+00, -2.22206741e+00,  4.73758998e+00]), 'funcalls': 45}\n",
      "  ConvergenceWarning)\n",
      "/home/brown/python_packages/patched_gpr/patched_gpr.py:505: ConvergenceWarning: fmin_l_bfgs_b terminated abnormally with the  state: {'task': b'ABNORMAL_TERMINATION_IN_LNSRCH', 'nit': 0, 'warnflag': 2, 'grad': array([ 1.13706486e-05,  9.01307993e+00, -2.26627280e+00,  4.95327254e+00]), 'funcalls': 21}\n",
      "  ConvergenceWarning)\n",
      "/home/brown/python_packages/patched_gpr/patched_gpr.py:505: ConvergenceWarning: fmin_l_bfgs_b terminated abnormally with the  state: {'task': b'ABNORMAL_TERMINATION_IN_LNSRCH', 'nit': 1, 'warnflag': 2, 'grad': array([ 1.12949086e-05,  9.06732677e+00, -2.27794563e+00,  5.03698608e+00]), 'funcalls': 52}\n",
      "  ConvergenceWarning)\n",
      "/home/brown/python_packages/patched_gpr/patched_gpr.py:505: ConvergenceWarning: fmin_l_bfgs_b terminated abnormally with the  state: {'task': b'ABNORMAL_TERMINATION_IN_LNSRCH', 'nit': 1, 'warnflag': 2, 'grad': array([ 1.12150564e-05,  9.12259472e+00, -2.26110999e+00,  5.00394867e+00]), 'funcalls': 55}\n",
      "  ConvergenceWarning)\n",
      "/home/brown/python_packages/patched_gpr/patched_gpr.py:505: ConvergenceWarning: fmin_l_bfgs_b terminated abnormally with the  state: {'task': b'ABNORMAL_TERMINATION_IN_LNSRCH', 'nit': 1, 'warnflag': 2, 'grad': array([ 1.11367059e-05,  9.17887119e+00, -2.25579046e+00,  5.01861945e+00]), 'funcalls': 53}\n",
      "  ConvergenceWarning)\n",
      "/home/brown/python_packages/patched_gpr/patched_gpr.py:505: ConvergenceWarning: fmin_l_bfgs_b terminated abnormally with the  state: {'task': b'ABNORMAL_TERMINATION_IN_LNSRCH', 'nit': 0, 'warnflag': 2, 'grad': array([ 1.09723214e-05,  8.79440953e+00, -2.18547108e+00,  4.80333283e+00]), 'funcalls': 21}\n",
      "  ConvergenceWarning)\n",
      "/home/brown/python_packages/patched_gpr/patched_gpr.py:505: ConvergenceWarning: fmin_l_bfgs_b terminated abnormally with the  state: {'task': b'ABNORMAL_TERMINATION_IN_LNSRCH', 'nit': 1, 'warnflag': 2, 'grad': array([ 1.08959133e-05,  8.85363884e+00, -2.19764765e+00,  4.88933221e+00]), 'funcalls': 50}\n",
      "  ConvergenceWarning)\n",
      "/home/brown/python_packages/patched_gpr/patched_gpr.py:505: ConvergenceWarning: fmin_l_bfgs_b terminated abnormally with the  state: {'task': b'ABNORMAL_TERMINATION_IN_LNSRCH', 'nit': 1, 'warnflag': 2, 'grad': array([ 1.08161515e-05,  8.91381440e+00, -2.18377065e+00,  4.86815959e+00]), 'funcalls': 53}\n",
      "  ConvergenceWarning)\n"
     ]
    },
    {
     "name": "stderr",
     "output_type": "stream",
     "text": [
      "/home/brown/python_packages/patched_gpr/patched_gpr.py:505: ConvergenceWarning: fmin_l_bfgs_b terminated abnormally with the  state: {'task': b'ABNORMAL_TERMINATION_IN_LNSRCH', 'nit': 1, 'warnflag': 2, 'grad': array([ 1.07371153e-05,  8.97492109e+00, -2.17811759e+00,  4.87998021e+00]), 'funcalls': 52}\n",
      "  ConvergenceWarning)\n",
      "/home/brown/python_packages/patched_gpr/patched_gpr.py:505: ConvergenceWarning: fmin_l_bfgs_b terminated abnormally with the  state: {'task': b'ABNORMAL_TERMINATION_IN_LNSRCH', 'nit': 1, 'warnflag': 2, 'grad': array([ 1.06462745e-05,  8.53694663e+00, -2.07017691e+00,  4.47431156e+00]), 'funcalls': 45}\n",
      "  ConvergenceWarning)\n",
      "/home/brown/python_packages/patched_gpr/patched_gpr.py:505: ConvergenceWarning: fmin_l_bfgs_b terminated abnormally with the  state: {'task': b'ABNORMAL_TERMINATION_IN_LNSRCH', 'nit': 0, 'warnflag': 2, 'grad': array([ 1.05720461e-05,  8.59987872e+00, -2.10648553e+00,  4.65461135e+00]), 'funcalls': 21}\n",
      "  ConvergenceWarning)\n",
      "/home/brown/python_packages/patched_gpr/patched_gpr.py:505: ConvergenceWarning: fmin_l_bfgs_b terminated abnormally with the  state: {'task': b'ABNORMAL_TERMINATION_IN_LNSRCH', 'nit': 1, 'warnflag': 2, 'grad': array([ 1.04946189e-05,  8.66369362e+00, -2.12367875e+00,  4.75693416e+00]), 'funcalls': 51}\n",
      "  ConvergenceWarning)\n",
      "/home/brown/python_packages/patched_gpr/patched_gpr.py:505: ConvergenceWarning: fmin_l_bfgs_b terminated abnormally with the  state: {'task': b'ABNORMAL_TERMINATION_IN_LNSRCH', 'nit': 1, 'warnflag': 2, 'grad': array([ 1.04140916e-05,  8.72836943e+00, -2.11459795e+00,  4.75103712e+00]), 'funcalls': 53}\n",
      "  ConvergenceWarning)\n",
      "/home/brown/python_packages/patched_gpr/patched_gpr.py:505: ConvergenceWarning: fmin_l_bfgs_b terminated abnormally with the  state: {'task': b'ABNORMAL_TERMINATION_IN_LNSRCH', 'nit': 1, 'warnflag': 2, 'grad': array([ 1.03333009e-05,  8.79388920e+00, -2.10697609e+00,  4.75002815e+00]), 'funcalls': 52}\n",
      "  ConvergenceWarning)\n",
      "/home/brown/python_packages/patched_gpr/patched_gpr.py:505: ConvergenceWarning: fmin_l_bfgs_b terminated abnormally with the  state: {'task': b'ABNORMAL_TERMINATION_IN_LNSRCH', 'nit': 1, 'warnflag': 2, 'grad': array([ 1.02520432e-05,  8.86023920e+00, -2.09902845e+00,  4.74661508e+00]), 'funcalls': 52}\n",
      "  ConvergenceWarning)\n",
      "/home/brown/python_packages/patched_gpr/patched_gpr.py:505: ConvergenceWarning: fmin_l_bfgs_b terminated abnormally with the  state: {'task': b'ABNORMAL_TERMINATION_IN_LNSRCH', 'nit': 1, 'warnflag': 2, 'grad': array([ 1.01617979e-05,  8.42740548e+00, -1.99402867e+00,  4.34768285e+00]), 'funcalls': 45}\n",
      "  ConvergenceWarning)\n",
      "/home/brown/python_packages/patched_gpr/patched_gpr.py:505: ConvergenceWarning: fmin_l_bfgs_b terminated abnormally with the  state: {'task': b'ABNORMAL_TERMINATION_IN_LNSRCH', 'nit': 0, 'warnflag': 2, 'grad': array([ 1.00836814e-05,  8.49536387e+00, -2.02639145e+00,  4.50563776e+00]), 'funcalls': 21}\n",
      "  ConvergenceWarning)\n",
      "/home/brown/python_packages/patched_gpr/patched_gpr.py:505: ConvergenceWarning: fmin_l_bfgs_b terminated abnormally with the  state: {'task': b'ABNORMAL_TERMINATION_IN_LNSRCH', 'nit': 0, 'warnflag': 2, 'grad': array([ 1.00041637e-05,  8.56409095e+00, -2.05822287e+00,  4.66139128e+00]), 'funcalls': 21}\n",
      "  ConvergenceWarning)\n",
      "/home/brown/python_packages/patched_gpr/patched_gpr.py:505: ConvergenceWarning: fmin_l_bfgs_b terminated abnormally with the  state: {'task': b'ABNORMAL_TERMINATION_IN_LNSRCH', 'nit': 1, 'warnflag': 2, 'grad': array([ 9.92024532e-06,  8.63356863e+00, -2.04042259e+00,  4.61441565e+00]), 'funcalls': 53}\n",
      "  ConvergenceWarning)\n",
      "/home/brown/python_packages/patched_gpr/patched_gpr.py:505: ConvergenceWarning: fmin_l_bfgs_b terminated abnormally with the  state: {'task': b'ABNORMAL_TERMINATION_IN_LNSRCH', 'nit': 1, 'warnflag': 2, 'grad': array([ 9.83698864e-06,  8.70378218e+00, -2.04203141e+00,  4.64606943e+00]), 'funcalls': 52}\n",
      "  ConvergenceWarning)\n",
      "/home/brown/python_packages/patched_gpr/patched_gpr.py:505: ConvergenceWarning: fmin_l_bfgs_b terminated abnormally with the  state: {'task': b'ABNORMAL_TERMINATION_IN_LNSRCH', 'nit': 1, 'warnflag': 2, 'grad': array([ 9.74588275e-06,  8.27471724e+00, -1.93689304e+00,  4.24401487e+00]), 'funcalls': 45}\n",
      "  ConvergenceWarning)\n",
      "/home/brown/python_packages/patched_gpr/patched_gpr.py:505: ConvergenceWarning: fmin_l_bfgs_b terminated abnormally with the  state: {'task': b'ABNORMAL_TERMINATION_IN_LNSRCH', 'nit': 0, 'warnflag': 2, 'grad': array([ 9.66381936e-06,  8.34634932e+00, -1.96559957e+00,  4.38425133e+00]), 'funcalls': 21}\n",
      "  ConvergenceWarning)\n",
      "/home/brown/python_packages/patched_gpr/patched_gpr.py:505: ConvergenceWarning: fmin_l_bfgs_b terminated abnormally with the  state: {'task': b'ABNORMAL_TERMINATION_IN_LNSRCH', 'nit': 0, 'warnflag': 2, 'grad': array([ 9.58034695e-06,  8.41865430e+00, -1.99359201e+00,  4.52218402e+00]), 'funcalls': 21}\n",
      "  ConvergenceWarning)\n",
      "/home/brown/python_packages/patched_gpr/patched_gpr.py:505: ConvergenceWarning: fmin_l_bfgs_b terminated abnormally with the  state: {'task': b'ABNORMAL_TERMINATION_IN_LNSRCH', 'nit': 1, 'warnflag': 2, 'grad': array([ 9.49373616e-06,  8.49161361e+00, -1.98184370e+00,  4.49912856e+00]), 'funcalls': 52}\n",
      "  ConvergenceWarning)\n",
      "/home/brown/python_packages/patched_gpr/patched_gpr.py:505: ConvergenceWarning: fmin_l_bfgs_b terminated abnormally with the  state: {'task': b'ABNORMAL_TERMINATION_IN_LNSRCH', 'nit': 1, 'warnflag': 2, 'grad': array([ 9.40701413e-06,  8.56521214e+00, -1.98325920e+00,  4.52996349e+00]), 'funcalls': 50}\n",
      "  ConvergenceWarning)\n",
      "/home/brown/python_packages/patched_gpr/patched_gpr.py:505: ConvergenceWarning: fmin_l_bfgs_b terminated abnormally with the  state: {'task': b'ABNORMAL_TERMINATION_IN_LNSRCH', 'nit': 0, 'warnflag': 2, 'grad': array([ 9.22788045e-06,  8.21426003e+00, -1.90321463e+00,  4.25761326e+00]), 'funcalls': 21}\n",
      "  ConvergenceWarning)\n",
      "/home/brown/python_packages/patched_gpr/patched_gpr.py:505: ConvergenceWarning: fmin_l_bfgs_b terminated abnormally with the  state: {'task': b'ABNORMAL_TERMINATION_IN_LNSRCH', 'nit': 0, 'warnflag': 2, 'grad': array([ 9.14009911e-06,  8.28966100e+00, -1.92663791e+00,  4.37962786e+00]), 'funcalls': 21}\n",
      "  ConvergenceWarning)\n",
      "/home/brown/python_packages/patched_gpr/patched_gpr.py:505: ConvergenceWarning: fmin_l_bfgs_b terminated abnormally with the  state: {'task': b'ABNORMAL_TERMINATION_IN_LNSRCH', 'nit': 1, 'warnflag': 2, 'grad': array([ 9.05030468e-06,  8.36562005e+00, -1.92512860e+00,  4.40224719e+00]), 'funcalls': 50}\n",
      "  ConvergenceWarning)\n",
      "/home/brown/python_packages/patched_gpr/patched_gpr.py:505: ConvergenceWarning: fmin_l_bfgs_b terminated abnormally with the  state: {'task': b'ABNORMAL_TERMINATION_IN_LNSRCH', 'nit': 1, 'warnflag': 2, 'grad': array([ 8.95960150e-06,  8.44212230e+00, -1.91944214e+00,  4.40929633e+00]), 'funcalls': 52}\n",
      "  ConvergenceWarning)\n",
      "/home/brown/python_packages/patched_gpr/patched_gpr.py:505: ConvergenceWarning: fmin_l_bfgs_b terminated abnormally with the  state: {'task': b'ABNORMAL_TERMINATION_IN_LNSRCH', 'nit': 1, 'warnflag': 2, 'grad': array([ 8.86495385e-06,  8.01915410e+00, -1.81501527e+00,  4.02014231e+00]), 'funcalls': 45}\n",
      "  ConvergenceWarning)\n",
      "/home/brown/python_packages/patched_gpr/patched_gpr.py:505: ConvergenceWarning: fmin_l_bfgs_b terminated abnormally with the  state: {'task': b'ABNORMAL_TERMINATION_IN_LNSRCH', 'nit': 0, 'warnflag': 2, 'grad': array([ 8.77422158e-06,  8.09669223e+00, -1.83429096e+00,  4.13050763e+00]), 'funcalls': 21}\n",
      "  ConvergenceWarning)\n",
      "/home/brown/python_packages/patched_gpr/patched_gpr.py:505: ConvergenceWarning: fmin_l_bfgs_b terminated abnormally with the  state: {'task': b'ABNORMAL_TERMINATION_IN_LNSRCH', 'nit': 0, 'warnflag': 2, 'grad': array([ 8.68226444e-06,  8.17471281e+00, -1.85249922e+00,  4.23878694e+00]), 'funcalls': 21}\n",
      "  ConvergenceWarning)\n",
      "/home/brown/python_packages/patched_gpr/patched_gpr.py:505: ConvergenceWarning: fmin_l_bfgs_b terminated abnormally with the  state: {'task': b'ABNORMAL_TERMINATION_IN_LNSRCH', 'nit': 1, 'warnflag': 2, 'grad': array([ 8.58883735e-06,  8.25319789e+00, -1.84710185e+00,  4.25421424e+00]), 'funcalls': 50}\n",
      "  ConvergenceWarning)\n",
      "/home/brown/python_packages/patched_gpr/patched_gpr.py:505: ConvergenceWarning: fmin_l_bfgs_b terminated abnormally with the  state: {'task': b'ABNORMAL_TERMINATION_IN_LNSRCH', 'nit': 1, 'warnflag': 2, 'grad': array([ 8.49469313e-06,  8.33213323e+00, -1.84022832e+00,  4.26574578e+00]), 'funcalls': 50}\n",
      "  ConvergenceWarning)\n",
      "/home/brown/python_packages/patched_gpr/patched_gpr.py:505: ConvergenceWarning: fmin_l_bfgs_b terminated abnormally with the  state: {'task': b'ABNORMAL_TERMINATION_IN_LNSRCH', 'nit': 1, 'warnflag': 2, 'grad': array([ 8.39831978e-06,  7.91150627e+00, -1.73672755e+00,  3.89188885e+00]), 'funcalls': 45}\n",
      "  ConvergenceWarning)\n"
     ]
    },
    {
     "name": "stderr",
     "output_type": "stream",
     "text": [
      "/home/brown/python_packages/patched_gpr/patched_gpr.py:505: ConvergenceWarning: fmin_l_bfgs_b terminated abnormally with the  state: {'task': b'ABNORMAL_TERMINATION_IN_LNSRCH', 'nit': 0, 'warnflag': 2, 'grad': array([ 8.30386798e-06,  7.99129515e+00, -1.75054626e+00,  3.99031435e+00]), 'funcalls': 21}\n",
      "  ConvergenceWarning)\n",
      "/home/brown/python_packages/patched_gpr/patched_gpr.py:505: ConvergenceWarning: fmin_l_bfgs_b terminated abnormally with the  state: {'task': b'ABNORMAL_TERMINATION_IN_LNSRCH', 'nit': 0, 'warnflag': 2, 'grad': array([ 8.20841327e-06,  8.07147679e+00, -1.76323222e+00,  4.08677111e+00]), 'funcalls': 21}\n",
      "  ConvergenceWarning)\n",
      "/home/brown/python_packages/patched_gpr/patched_gpr.py:505: ConvergenceWarning: fmin_l_bfgs_b terminated abnormally with the  state: {'task': b'ABNORMAL_TERMINATION_IN_LNSRCH', 'nit': 1, 'warnflag': 2, 'grad': array([ 8.11205071e-06,  8.15203422e+00, -1.75366924e+00,  4.09649478e+00]), 'funcalls': 50}\n",
      "  ConvergenceWarning)\n",
      "/home/brown/python_packages/patched_gpr/patched_gpr.py:505: ConvergenceWarning: fmin_l_bfgs_b terminated abnormally with the  state: {'task': b'ABNORMAL_TERMINATION_IN_LNSRCH', 'nit': 1, 'warnflag': 2, 'grad': array([ 8.01517396e-06,  8.23295428e+00, -1.74272427e+00,  4.10289604e+00]), 'funcalls': 50}\n",
      "  ConvergenceWarning)\n",
      "/home/brown/python_packages/patched_gpr/patched_gpr.py:505: ConvergenceWarning: fmin_l_bfgs_b terminated abnormally with the  state: {'task': b'ABNORMAL_TERMINATION_IN_LNSRCH', 'nit': 1, 'warnflag': 2, 'grad': array([ 7.91749303e-06,  7.81422579e+00, -1.63041659e+00,  3.70681984e+00]), 'funcalls': 48}\n",
      "  ConvergenceWarning)\n",
      "/home/brown/python_packages/patched_gpr/patched_gpr.py:505: ConvergenceWarning: fmin_l_bfgs_b terminated abnormally with the  state: {'task': b'ABNORMAL_TERMINATION_IN_LNSRCH', 'nit': 0, 'warnflag': 2, 'grad': array([ 7.82043329e-06,  7.89582867e+00, -1.63889195e+00,  3.79459046e+00]), 'funcalls': 21}\n",
      "  ConvergenceWarning)\n",
      "/home/brown/python_packages/patched_gpr/patched_gpr.py:505: ConvergenceWarning: fmin_l_bfgs_b terminated abnormally with the  state: {'task': b'ABNORMAL_TERMINATION_IN_LNSRCH', 'nit': 0, 'warnflag': 2, 'grad': array([ 7.72263996e-06,  7.97774104e+00, -1.64628544e+00,  3.88038074e+00]), 'funcalls': 21}\n",
      "  ConvergenceWarning)\n",
      "/home/brown/python_packages/patched_gpr/patched_gpr.py:505: ConvergenceWarning: fmin_l_bfgs_b terminated abnormally with the  state: {'task': b'ABNORMAL_TERMINATION_IN_LNSRCH', 'nit': 0, 'warnflag': 2, 'grad': array([ 7.62415951e-06,  8.05994721e+00, -1.65261644e+00,  3.96415008e+00]), 'funcalls': 21}\n",
      "  ConvergenceWarning)\n",
      "/home/brown/python_packages/patched_gpr/patched_gpr.py:505: ConvergenceWarning: fmin_l_bfgs_b terminated abnormally with the  state: {'task': b'ABNORMAL_TERMINATION_IN_LNSRCH', 'nit': 1, 'warnflag': 2, 'grad': array([ 7.52580593e-06,  8.14243541e+00, -1.62627512e+00,  3.91887790e+00]), 'funcalls': 52}\n",
      "  ConvergenceWarning)\n",
      "/home/brown/python_packages/patched_gpr/patched_gpr.py:505: ConvergenceWarning: fmin_l_bfgs_b terminated abnormally with the  state: {'task': b'ABNORMAL_TERMINATION_IN_LNSRCH', 'nit': 1, 'warnflag': 2, 'grad': array([ 7.42790030e-06,  7.72519618e+00, -1.51834730e+00,  3.55060030e+00]), 'funcalls': 48}\n",
      "  ConvergenceWarning)\n",
      "/home/brown/python_packages/patched_gpr/patched_gpr.py:505: ConvergenceWarning: fmin_l_bfgs_b terminated abnormally with the  state: {'task': b'ABNORMAL_TERMINATION_IN_LNSRCH', 'nit': 0, 'warnflag': 2, 'grad': array([ 7.32921520e-06,  7.80821151e+00, -1.52222594e+00,  3.62847804e+00]), 'funcalls': 21}\n",
      "  ConvergenceWarning)\n",
      "/home/brown/python_packages/patched_gpr/patched_gpr.py:505: ConvergenceWarning: fmin_l_bfgs_b terminated abnormally with the  state: {'task': b'ABNORMAL_TERMINATION_IN_LNSRCH', 'nit': 0, 'warnflag': 2, 'grad': array([ 7.23004498e-06,  7.89146099e+00, -1.52522203e+00,  3.70433486e+00]), 'funcalls': 21}\n",
      "  ConvergenceWarning)\n",
      "/home/brown/python_packages/patched_gpr/patched_gpr.py:505: ConvergenceWarning: fmin_l_bfgs_b terminated abnormally with the  state: {'task': b'ABNORMAL_TERMINATION_IN_LNSRCH', 'nit': 0, 'warnflag': 2, 'grad': array([ 7.13042718e-06,  7.97493050e+00, -1.52738066e+00,  3.77814949e+00]), 'funcalls': 21}\n",
      "  ConvergenceWarning)\n",
      "/home/brown/python_packages/patched_gpr/patched_gpr.py:505: ConvergenceWarning: fmin_l_bfgs_b terminated abnormally with the  state: {'task': b'ABNORMAL_TERMINATION_IN_LNSRCH', 'nit': 1, 'warnflag': 2, 'grad': array([ 7.03146642e-06,  8.05860994e+00, -1.49960778e+00,  3.73302858e+00]), 'funcalls': 52}\n",
      "  ConvergenceWarning)\n",
      "/home/brown/python_packages/patched_gpr/patched_gpr.py:505: ConvergenceWarning: fmin_l_bfgs_b terminated abnormally with the  state: {'task': b'ABNORMAL_TERMINATION_IN_LNSRCH', 'nit': 0, 'warnflag': 2, 'grad': array([ 6.83466533e-06,  7.72656023e+00, -1.39741373e+00,  3.45847287e+00]), 'funcalls': 21}\n",
      "  ConvergenceWarning)\n",
      "/home/brown/python_packages/patched_gpr/patched_gpr.py:505: ConvergenceWarning: fmin_l_bfgs_b terminated abnormally with the  state: {'task': b'ABNORMAL_TERMINATION_IN_LNSRCH', 'nit': 0, 'warnflag': 2, 'grad': array([ 6.73498950e-06,  7.81079671e+00, -1.39745120e+00,  3.52516719e+00]), 'funcalls': 21}\n",
      "  ConvergenceWarning)\n",
      "/home/brown/python_packages/patched_gpr/patched_gpr.py:505: ConvergenceWarning: fmin_l_bfgs_b terminated abnormally with the  state: {'task': b'ABNORMAL_TERMINATION_IN_LNSRCH', 'nit': 1, 'warnflag': 2, 'grad': array([ 6.63522106e-06,  7.89518884e+00, -1.39315884e+00,  3.57485922e+00]), 'funcalls': 53}\n",
      "  ConvergenceWarning)\n",
      "/home/brown/python_packages/patched_gpr/patched_gpr.py:505: ConvergenceWarning: fmin_l_bfgs_b terminated abnormally with the  state: {'task': b'ABNORMAL_TERMINATION_IN_LNSRCH', 'nit': 1, 'warnflag': 2, 'grad': array([ 6.53638800e-06,  7.97972833e+00, -1.36586618e+00,  3.53235915e+00]), 'funcalls': 52}\n",
      "  ConvergenceWarning)\n",
      "/home/brown/python_packages/patched_gpr/patched_gpr.py:505: ConvergenceWarning: fmin_l_bfgs_b terminated abnormally with the  state: {'task': b'ABNORMAL_TERMINATION_IN_LNSRCH', 'nit': 1, 'warnflag': 2, 'grad': array([ 6.43976753e-06,  7.56440972e+00, -1.27895675e+00,  3.25194523e+00]), 'funcalls': 49}\n",
      "  ConvergenceWarning)\n",
      "/home/brown/python_packages/patched_gpr/patched_gpr.py:505: ConvergenceWarning: fmin_l_bfgs_b terminated abnormally with the  state: {'task': b'ABNORMAL_TERMINATION_IN_LNSRCH', 'nit': 0, 'warnflag': 2, 'grad': array([ 6.34049269e-06,  7.64921984e+00, -1.27757160e+00,  3.31191436e+00]), 'funcalls': 21}\n",
      "  ConvergenceWarning)\n",
      "/home/brown/python_packages/patched_gpr/patched_gpr.py:505: ConvergenceWarning: fmin_l_bfgs_b terminated abnormally with the  state: {'task': b'ABNORMAL_TERMINATION_IN_LNSRCH', 'nit': 0, 'warnflag': 2, 'grad': array([ 6.24115389e-06,  7.73414187e+00, -1.27571557e+00,  3.36989547e+00]), 'funcalls': 21}\n",
      "  ConvergenceWarning)\n",
      "/home/brown/python_packages/patched_gpr/patched_gpr.py:505: ConvergenceWarning: fmin_l_bfgs_b terminated abnormally with the  state: {'task': b'ABNORMAL_TERMINATION_IN_LNSRCH', 'nit': 1, 'warnflag': 2, 'grad': array([ 6.14268648e-06,  7.81916537e+00, -1.25641214e+00,  3.35777387e+00]), 'funcalls': 52}\n",
      "  ConvergenceWarning)\n",
      "/home/brown/python_packages/patched_gpr/patched_gpr.py:505: ConvergenceWarning: fmin_l_bfgs_b terminated abnormally with the  state: {'task': b'ABNORMAL_TERMINATION_IN_LNSRCH', 'nit': 1, 'warnflag': 2, 'grad': array([ 6.04443718e-06,  7.90428405e+00, -1.23694636e+00,  3.34449950e+00]), 'funcalls': 52}\n",
      "  ConvergenceWarning)\n",
      "/home/brown/python_packages/patched_gpr/patched_gpr.py:505: ConvergenceWarning: fmin_l_bfgs_b terminated abnormally with the  state: {'task': b'ABNORMAL_TERMINATION_IN_LNSRCH', 'nit': 1, 'warnflag': 2, 'grad': array([ 5.94946801e-06,  7.48949463e+00, -1.15604980e+00,  3.08504303e+00]), 'funcalls': 49}\n",
      "  ConvergenceWarning)\n",
      "/home/brown/python_packages/patched_gpr/patched_gpr.py:505: ConvergenceWarning: fmin_l_bfgs_b terminated abnormally with the  state: {'task': b'ABNORMAL_TERMINATION_IN_LNSRCH', 'nit': 0, 'warnflag': 2, 'grad': array([ 5.85113675e-06,  7.57478656e+00, -1.15320110e+00,  3.13703334e+00]), 'funcalls': 21}\n",
      "  ConvergenceWarning)\n",
      "/home/brown/python_packages/patched_gpr/patched_gpr.py:505: ConvergenceWarning: fmin_l_bfgs_b terminated abnormally with the  state: {'task': b'ABNORMAL_TERMINATION_IN_LNSRCH', 'nit': 0, 'warnflag': 2, 'grad': array([ 5.75286476e-06,  7.66014504e+00, -1.14989994e+00,  3.18717313e+00]), 'funcalls': 21}\n",
      "  ConvergenceWarning)\n"
     ]
    },
    {
     "name": "stderr",
     "output_type": "stream",
     "text": [
      "/home/brown/python_packages/patched_gpr/patched_gpr.py:505: ConvergenceWarning: fmin_l_bfgs_b terminated abnormally with the  state: {'task': b'ABNORMAL_TERMINATION_IN_LNSRCH', 'nit': 1, 'warnflag': 2, 'grad': array([ 5.65607616e-06,  7.74556164e+00, -1.12485772e+00,  3.14992551e+00]), 'funcalls': 52}\n",
      "  ConvergenceWarning)\n",
      "/home/brown/python_packages/patched_gpr/patched_gpr.py:505: ConvergenceWarning: fmin_l_bfgs_b terminated abnormally with the  state: {'task': b'ABNORMAL_TERMINATION_IN_LNSRCH', 'nit': 1, 'warnflag': 2, 'grad': array([ 5.55909270e-06,  7.83103215e+00, -1.10742884e+00,  3.14308638e+00]), 'funcalls': 50}\n",
      "  ConvergenceWarning)\n",
      "/home/brown/python_packages/patched_gpr/patched_gpr.py:505: ConvergenceWarning: fmin_l_bfgs_b terminated abnormally with the  state: {'task': b'ABNORMAL_TERMINATION_IN_LNSRCH', 'nit': 1, 'warnflag': 2, 'grad': array([ 5.46755678e-06,  7.41655550e+00, -9.99292275e-01,  2.77336620e+00]), 'funcalls': 47}\n",
      "  ConvergenceWarning)\n",
      "/home/brown/python_packages/patched_gpr/patched_gpr.py:505: ConvergenceWarning: fmin_l_bfgs_b terminated abnormally with the  state: {'task': b'ABNORMAL_TERMINATION_IN_LNSRCH', 'nit': 0, 'warnflag': 2, 'grad': array([ 5.37087701e-06,  7.50212390e+00, -9.95287941e-01,  2.81965224e+00]), 'funcalls': 21}\n",
      "  ConvergenceWarning)\n",
      "/home/brown/python_packages/patched_gpr/patched_gpr.py:505: ConvergenceWarning: fmin_l_bfgs_b terminated abnormally with the  state: {'task': b'ABNORMAL_TERMINATION_IN_LNSRCH', 'nit': 0, 'warnflag': 2, 'grad': array([ 5.27432169e-06,  7.58772462e+00, -9.90787140e-01,  2.86442780e+00]), 'funcalls': 21}\n",
      "  ConvergenceWarning)\n",
      "/home/brown/python_packages/patched_gpr/patched_gpr.py:505: ConvergenceWarning: fmin_l_bfgs_b terminated abnormally with the  state: {'task': b'ABNORMAL_TERMINATION_IN_LNSRCH', 'nit': 0, 'warnflag': 2, 'grad': array([ 5.17790981e-06,  7.67335130e+00, -9.85753401e-01,  2.90768815e+00]), 'funcalls': 21}\n",
      "  ConvergenceWarning)\n",
      "/home/brown/python_packages/patched_gpr/patched_gpr.py:505: ConvergenceWarning: fmin_l_bfgs_b terminated abnormally with the  state: {'task': b'ABNORMAL_TERMINATION_IN_LNSRCH', 'nit': 1, 'warnflag': 2, 'grad': array([ 5.08220146e-06,  7.75900184e+00, -9.73546933e-01,  2.92276876e+00]), 'funcalls': 53}\n",
      "  ConvergenceWarning)\n",
      "/home/brown/python_packages/patched_gpr/patched_gpr.py:505: ConvergenceWarning: fmin_l_bfgs_b terminated abnormally with the  state: {'task': b'ABNORMAL_TERMINATION_IN_LNSRCH', 'nit': 1, 'warnflag': 2, 'grad': array([ 4.99292291e-06,  7.34467746e+00, -8.76570245e-01,  2.59816103e+00]), 'funcalls': 47}\n",
      "  ConvergenceWarning)\n",
      "/home/brown/python_packages/patched_gpr/patched_gpr.py:505: ConvergenceWarning: fmin_l_bfgs_b terminated abnormally with the  state: {'task': b'ABNORMAL_TERMINATION_IN_LNSRCH', 'nit': 0, 'warnflag': 2, 'grad': array([ 4.89793979e-06,  7.43037311e+00, -8.70730027e-01,  2.63947389e+00]), 'funcalls': 21}\n",
      "  ConvergenceWarning)\n",
      "/home/brown/python_packages/patched_gpr/patched_gpr.py:505: ConvergenceWarning: fmin_l_bfgs_b terminated abnormally with the  state: {'task': b'ABNORMAL_TERMINATION_IN_LNSRCH', 'nit': 0, 'warnflag': 2, 'grad': array([ 4.80318201e-06,  7.51607824e+00, -8.64252077e-01,  2.67929328e+00]), 'funcalls': 21}\n",
      "  ConvergenceWarning)\n",
      "/home/brown/python_packages/patched_gpr/patched_gpr.py:505: ConvergenceWarning: fmin_l_bfgs_b terminated abnormally with the  state: {'task': b'ABNORMAL_TERMINATION_IN_LNSRCH', 'nit': 1, 'warnflag': 2, 'grad': array([ 4.61636281e-06,  7.68750411e+00, -8.29199001e-01,  2.67301441e+00]), 'funcalls': 55}\n",
      "  ConvergenceWarning)\n",
      "/home/brown/python_packages/patched_gpr/patched_gpr.py:505: ConvergenceWarning: fmin_l_bfgs_b terminated abnormally with the  state: {'task': b'ABNORMAL_TERMINATION_IN_LNSRCH', 'nit': 1, 'warnflag': 2, 'grad': array([ 4.52939843e-06,  7.27322839e+00, -7.43772697e-01,  2.39788043e+00]), 'funcalls': 47}\n",
      "  ConvergenceWarning)\n",
      "/home/brown/python_packages/patched_gpr/patched_gpr.py:505: ConvergenceWarning: fmin_l_bfgs_b terminated abnormally with the  state: {'task': b'ABNORMAL_TERMINATION_IN_LNSRCH', 'nit': 0, 'warnflag': 2, 'grad': array([ 4.43656413e-06,  7.35895915e+00, -7.35646278e-01,  2.43468546e+00]), 'funcalls': 21}\n",
      "  ConvergenceWarning)\n",
      "/home/brown/python_packages/local_models/local_models/loggin.py:6: RuntimeWarning: divide by zero encountered in log10\n",
      "  places = np.log10(np.abs(number))\n"
     ]
    }
   ],
   "source": [
    "gpr_params, the_models = gpr_models.transform(xx_dense.reshape(-1,1),r=lm_kernel.support_radius(),weighted=True,kernel=lm_kernel,neighbor_beta0s=True, batch_size=xx_dense.shape[0],return_models=True)"
   ]
  },
  {
   "cell_type": "code",
   "execution_count": 286,
   "metadata": {},
   "outputs": [
    {
     "data": {
      "text/plain": [
       "500"
      ]
     },
     "execution_count": 286,
     "metadata": {},
     "output_type": "execute_result"
    }
   ],
   "source": [
    "len(the_models)"
   ]
  },
  {
   "cell_type": "code",
   "execution_count": 288,
   "metadata": {},
   "outputs": [
    {
     "data": {
      "text/plain": [
       "[<matplotlib.lines.Line2D at 0x7f47202db048>]"
      ]
     },
     "execution_count": 288,
     "metadata": {},
     "output_type": "execute_result"
    },
    {
     "data": {
      "image/png": "[encoded data removed]",
      "text/plain": [
       "<matplotlib.figure.Figure at 0x7f472037b860>"
      ]
     },
     "metadata": {},
     "output_type": "display_data"
    }
   ],
   "source": [
    "plt.plot(xx,the_models[250].predict(xx.reshape(-1,1)))\n",
    "plt.plot(xx,yy,c='r')"
   ]
  },
  {
   "cell_type": "code",
   "execution_count": 290,
   "metadata": {},
   "outputs": [
    {
     "data": {
      "text/plain": [
       "<matplotlib.legend.Legend at 0x7f47200c68d0>"
      ]
     },
     "execution_count": 290,
     "metadata": {},
     "output_type": "execute_result"
    },
    {
     "data": {
      "image/png": "[encoded data removed]",
      "text/plain": [
       "<matplotlib.figure.Figure at 0x7f47200c6eb8>"
      ]
     },
     "metadata": {},
     "output_type": "display_data"
    }
   ],
   "source": [
    "for i in range(gpr_params.shape[1]):\n",
    "    plt.plot(xx_dense,gpr_params[:,i])\n",
    "plt.legend(list(map(str,patched_gpr.decompose_kernels(kernel))))"
   ]
  },
  {
   "cell_type": "code",
   "execution_count": 291,
   "metadata": {
    "scrolled": true
   },
   "outputs": [
    {
     "data": {
      "text/plain": [
       "[<matplotlib.lines.Line2D at 0x7f4720046470>]"
      ]
     },
     "execution_count": 291,
     "metadata": {},
     "output_type": "execute_result"
    },
    {
     "data": {
      "image/png": "[encoded data removed]",
      "text/plain": [
       "<matplotlib.figure.Figure at 0x7f472006b160>"
      ]
     },
     "metadata": {},
     "output_type": "display_data"
    }
   ],
   "source": [
    "plt.plot(xx_dense, gpr_params[:,3])"
   ]
  },
  {
   "cell_type": "code",
   "execution_count": 9,
   "metadata": {},
   "outputs": [],
   "source": [
    "import os\n",
    "project_dir = \"../data/local_gpr_stuff\"\n",
    "os.makedirs(project_dir, exist_ok=1)"
   ]
  },
  {
   "cell_type": "code",
   "execution_count": 297,
   "metadata": {},
   "outputs": [],
   "source": [
    "for i in range(xx.shape[0]):\n",
    "    x = xx[i]\n",
    "    fig = plt.figure(figsize=(8,8))\n",
    "    plt.plot(xx,yy,c='r')\n",
    "    plt.plot(xx, the_models[i*5].predict(xx.reshape(-1,1)),c='b')\n",
    "    plt.axis(\"off\")\n",
    "    plt.savefig(os.path.join(project_dir, \"{:05d}.png\".format(i)))\n",
    "    plt.close(fig)"
   ]
  },
  {
   "cell_type": "code",
   "execution_count": 10,
   "metadata": {},
   "outputs": [],
   "source": [
    "# turn it into a gif\n",
    "import imageio\n",
    "images = [imageio.imread(os.path.join(project_dir, \"{:05d}.png\".format(i))) for i in range(xx.shape[0])]\n",
    "imageio.mimsave(os.path.join(project_dir, 'local_gpr_variable_rbf.gif'), images + images[::-1])"
   ]
  },
  {
   "cell_type": "code",
   "execution_count": null,
   "metadata": {},
   "outputs": [],
   "source": []
  },
  {
   "cell_type": "code",
   "execution_count": 204,
   "metadata": {},
   "outputs": [],
   "source": [
    "gpr = MonkeyPatchGPR(kernel,alpha=0)"
   ]
  },
  {
   "cell_type": "code",
   "execution_count": 205,
   "metadata": {},
   "outputs": [
    {
     "name": "stdout",
     "output_type": "stream",
     "text": [
      "[[5.35990545e+05 6.00404295e-01 1.29949664e-01 ... 0.00000000e+00\n",
      "  0.00000000e+00 0.00000000e+00]\n",
      " [6.00404295e-01 3.25111284e+05 6.00404295e-01 ... 0.00000000e+00\n",
      "  0.00000000e+00 0.00000000e+00]\n",
      " [1.29949664e-01 6.00404295e-01 1.99222361e+05 ... 0.00000000e+00\n",
      "  0.00000000e+00 0.00000000e+00]\n",
      " ...\n",
      " [0.00000000e+00 0.00000000e+00 0.00000000e+00 ... 1.99222361e+05\n",
      "  6.00404295e-01 1.29949664e-01]\n",
      " [0.00000000e+00 0.00000000e+00 0.00000000e+00 ... 6.00404295e-01\n",
      "  3.25111284e+05 6.00404295e-01]\n",
      " [0.00000000e+00 0.00000000e+00 0.00000000e+00 ... 1.29949664e-01\n",
      "  6.00404295e-01 5.35990545e+05]]\n"
     ]
    },
    {
     "data": {
      "text/plain": [
       "MonkeyPatchGPR(alpha=0, copy_X_train=True,\n",
       "               kernel=1**2 * WhiteKernel(noise_level=1) + 1**2 * RBF(length_scale=1),\n",
       "               n_restarts_optimizer=0, normalize_y=False,\n",
       "               optimizer='fmin_l_bfgs_b', random_state=None)"
      ]
     },
     "execution_count": 205,
     "metadata": {},
     "output_type": "execute_result"
    }
   ],
   "source": [
    "gpr.fit(xx.reshape(-1,1),yy,sample_weight=weights)"
   ]
  },
  {
   "cell_type": "code",
   "execution_count": 206,
   "metadata": {},
   "outputs": [
    {
     "data": {
      "text/plain": [
       "0.169**2 * WhiteKernel(noise_level=0.0286) + 0.173**2 * RBF(length_scale=4.1)"
      ]
     },
     "execution_count": 206,
     "metadata": {},
     "output_type": "execute_result"
    }
   ],
   "source": [
    "gpr.kernel_"
   ]
  },
  {
   "cell_type": "code",
   "execution_count": 207,
   "metadata": {},
   "outputs": [
    {
     "data": {
      "text/plain": [
       "[<matplotlib.lines.Line2D at 0x7f472e0f69b0>]"
      ]
     },
     "execution_count": 207,
     "metadata": {},
     "output_type": "execute_result"
    },
    {
     "data": {
      "image/png": "[encoded data removed]",
      "text/plain": [
       "<matplotlib.figure.Figure at 0x7f472e1be710>"
      ]
     },
     "metadata": {},
     "output_type": "display_data"
    }
   ],
   "source": [
    "plt.plot(xx, gpr.predict(xx.reshape(-1,1)))\n",
    "plt.plot(xx,yy,c='r')"
   ]
  },
  {
   "cell_type": "code",
   "execution_count": null,
   "metadata": {},
   "outputs": [],
   "source": []
  },
  {
   "cell_type": "code",
   "execution_count": null,
   "metadata": {},
   "outputs": [],
   "source": []
  },
  {
   "cell_type": "code",
   "execution_count": null,
   "metadata": {},
   "outputs": [],
   "source": []
  },
  {
   "cell_type": "code",
   "execution_count": null,
   "metadata": {},
   "outputs": [],
   "source": []
  },
  {
   "cell_type": "code",
   "execution_count": null,
   "metadata": {},
   "outputs": [],
   "source": []
  },
  {
   "cell_type": "code",
   "execution_count": null,
   "metadata": {},
   "outputs": [],
   "source": []
  }
 ],
 "metadata": {
  "kernelspec": {
   "display_name": "Python 3",
   "language": "python",
   "name": "python3"
  },
  "language_info": {
   "codemirror_mode": {
    "name": "ipython",
    "version": 3
   },
   "file_extension": ".py",
   "mimetype": "text/x-python",
   "name": "python",
   "nbconvert_exporter": "python",
   "pygments_lexer": "ipython3",
   "version": "3.5.2"
  }
 },
 "nbformat": 4,
 "nbformat_minor": 2
}
