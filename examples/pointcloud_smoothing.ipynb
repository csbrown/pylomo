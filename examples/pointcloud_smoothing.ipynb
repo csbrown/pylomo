{
 "cells": [
  {
   "cell_type": "code",
   "execution_count": 1,
   "metadata": {},
   "outputs": [],
   "source": [
    "import local_models.local_models\n",
    "import local_models.algorithms\n",
    "import local_models.utils\n",
    "import local_models.linear_projections\n",
    "import local_models.loggin\n",
    "import local_models.TLS_models\n",
    "import numpy as np\n",
    "import matplotlib.pyplot as plt\n",
    "import sklearn.linear_model\n",
    "import sklearn.cluster\n",
    "from importlib import reload\n",
    "from ml_battery.utils import cmap\n",
    "import matplotlib as mpl\n",
    "import sklearn.datasets\n",
    "import sklearn.decomposition\n",
    "import logging\n",
    "import ml_battery.log\n",
    "import time\n",
    "import os\n",
    "import pcl\n",
    "import pcl.pcl_visualization\n",
    "import mayavi\n",
    "import mayavi.mlab\n",
    "\n",
    "import subprocess\n",
    "#on headless systems, tmux: \"Xvfb :1 -screen 0 1280x1024x24 -auth localhost\", then \"export DISPLAY=:1\" in the jupyter tmux\n",
    "mayavi.mlab.options.offscreen = True\n",
    "\n",
    "\n",
    "\n",
    "logger = logging.getLogger(__name__)\n",
    "\n",
    "#reload(local_models.local_models)\n",
    "#reload(lm)\n",
    "#reload(local_models.loggin)\n",
    "#reload(local_models.TLS_models)\n",
    "np.warnings.filterwarnings('ignore')\n"
   ]
  },
  {
   "cell_type": "code",
   "execution_count": 2,
   "metadata": {},
   "outputs": [],
   "source": [
    "kernel_names = {\n",
    "    local_models.local_models.GaussianKernel: 'gaussian',\n",
    "    local_models.local_models.TriCubeKernel: 'tricube'\n",
    "}"
   ]
  },
  {
   "cell_type": "code",
   "execution_count": 3,
   "metadata": {},
   "outputs": [],
   "source": [
    "mpl.rcParams['figure.figsize'] = [8.0, 8.0]"
   ]
  },
  {
   "cell_type": "code",
   "execution_count": 4,
   "metadata": {},
   "outputs": [],
   "source": [
    "bun = pcl.load(\"../data/bun0.pcd\")\n",
    "bunny = np.asarray(bun)"
   ]
  },
  {
   "cell_type": "code",
   "execution_count": 5,
   "metadata": {},
   "outputs": [],
   "source": [
    "KERNEL=local_models.local_models.GaussianKernel\n",
    "\n",
    "project_dir = \"../data/pcl/bun0_{}\".format(kernel_names[KERNEL])\n",
    "os.makedirs(project_dir, exist_ok=1)"
   ]
  },
  {
   "cell_type": "code",
   "execution_count": null,
   "metadata": {},
   "outputs": [],
   "source": []
  },
  {
   "cell_type": "code",
   "execution_count": 6,
   "metadata": {},
   "outputs": [],
   "source": [
    "#visual = pcl.pcl_visualization.CloudViewing()\n",
    "#visual.ShowMonochromeCloud(room)"
   ]
  },
  {
   "cell_type": "code",
   "execution_count": 7,
   "metadata": {},
   "outputs": [
    {
     "data": {
      "text/plain": [
       "<local_models.local_models.LocalModels at 0x7f0f8f3114e0>"
      ]
     },
     "execution_count": 7,
     "metadata": {},
     "output_type": "execute_result"
    }
   ],
   "source": [
    "linear_models = local_models.local_models.LocalModels(local_models.TLS_models.LinearODR_mD(2))\n",
    "linear_models.fit(bunny)"
   ]
  },
  {
   "cell_type": "code",
   "execution_count": 24,
   "metadata": {},
   "outputs": [],
   "source": [
    "bandwidth = 3*np.average(linear_models.index.query(bunny, k=2)[0][:,1])"
   ]
  },
  {
   "cell_type": "code",
   "execution_count": 25,
   "metadata": {},
   "outputs": [],
   "source": [
    "for converged in local_models.algorithms.local_tls_shift_till_convergence(linear_models, bunny, tol=1e-8,\n",
    "                                     kernel=KERNEL(bandwidth),\n",
    "                                     report=False):\n",
    "    pass"
   ]
  },
  {
   "cell_type": "code",
   "execution_count": 26,
   "metadata": {},
   "outputs": [
    {
     "data": {
      "text/plain": [
       "array([[ 0.00487494,  0.11126457,  0.03734089],\n",
       "       [-0.00191818,  0.11182683,  0.03764273],\n",
       "       [-0.01050489,  0.11141071,  0.03788622],\n",
       "       ...,\n",
       "       [-0.06519622,  0.17987472, -0.05381454],\n",
       "       [-0.06984834,  0.17880122, -0.05245961],\n",
       "       [-0.07785027,  0.17445776, -0.04472706]], dtype=float32)"
      ]
     },
     "execution_count": 26,
     "metadata": {},
     "output_type": "execute_result"
    }
   ],
   "source": [
    "converged"
   ]
  },
  {
   "cell_type": "code",
   "execution_count": 27,
   "metadata": {},
   "outputs": [],
   "source": [
    "cloud = pcl.PointCloud()\n",
    "cloud.from_array(converged)\n",
    "#visual = pcl.pcl_visualization.CloudViewing()\n",
    "#visual.ShowMonochromeCloud(cloud)"
   ]
  },
  {
   "cell_type": "code",
   "execution_count": null,
   "metadata": {},
   "outputs": [],
   "source": []
  },
  {
   "cell_type": "code",
   "execution_count": 28,
   "metadata": {},
   "outputs": [],
   "source": [
    "range_pct = 0.2\n",
    "grid_steps = 20\n",
    "data_mins, data_maxes, data_ranges = local_models.linear_projections.min_max_range(bunny)\n",
    "graph_bounds = local_models.linear_projections.sane_graph_bounds(data_mins, data_maxes, data_ranges, range_pct)\n",
    "\n",
    "grid_limits = tuple(map(lambda i: slice(graph_bounds[0,i], graph_bounds[1,i], grid_steps*1j), range(graph_bounds.shape[1])))\n",
    "grid = np.mgrid[grid_limits]\n",
    "gridder = local_models.utils.Grid2Vec()\n",
    "grid = gridder.fit_transform(grid)"
   ]
  },
  {
   "cell_type": "code",
   "execution_count": 29,
   "metadata": {},
   "outputs": [],
   "source": [
    "for converged2 in local_models.algorithms.local_tls_shift_till_convergence(linear_models, grid, tol=1e-10,\n",
    "                                     kernel=KERNEL(bandwidth),\n",
    "                                     report=False):\n",
    "    pass"
   ]
  },
  {
   "cell_type": "code",
   "execution_count": 30,
   "metadata": {},
   "outputs": [
    {
     "data": {
      "text/plain": [
       "array([[-0.06859611,  0.03610813,  0.00019016],\n",
       "       [-0.06947882,  0.03422496, -0.0007538 ],\n",
       "       [-0.0703089 ,  0.03285433, -0.00226235],\n",
       "       ...,\n",
       "       [ 0.02695358,  0.1280962 ,  0.0112135 ],\n",
       "       [ 0.02647546,  0.12739984,  0.01289547],\n",
       "       [ 0.02610835,  0.12693077,  0.01398126]])"
      ]
     },
     "execution_count": 30,
     "metadata": {},
     "output_type": "execute_result"
    }
   ],
   "source": [
    "converged2"
   ]
  },
  {
   "cell_type": "code",
   "execution_count": 31,
   "metadata": {},
   "outputs": [],
   "source": [
    "cloud = pcl.PointCloud()\n",
    "cloud.from_array(converged2.astype('float32'))\n",
    "#visual = pcl.pcl_visualization.CloudViewing()\n",
    "#visual.ShowMonochromeCloud(cloud)"
   ]
  },
  {
   "cell_type": "code",
   "execution_count": 32,
   "metadata": {},
   "outputs": [],
   "source": [
    "mayavi.mlab.figure(figure=None, bgcolor=(1,1,1), fgcolor=(0,0,0), engine=None, size=(800, 800))\n",
    "#mayavi.mlab.surf(grid[0], grid[1], kde_wireframe/z_scale, colormap='Greys', opacity=1)\n",
    "nodes = mayavi.mlab.points3d(converged2[:,0], converged2[:,1], converged2[:,2], scale_mode='scalar', color=(1,0,0))\n",
    "nodes.mlab_source.dataset.point_data.scalars = np.ones(converged2.shape[0])*0.1\n",
    "bunodes = mayavi.mlab.points3d(bunny[:,0], bunny[:,1], bunny[:,2], scale_mode='scalar', color=(0,1,0))\n",
    "bunodes.mlab_source.dataset.point_data.scalars = np.ones(bunny.shape[0])*0.1\n",
    "\n",
    "\n",
    "#mayavi.mlab.axes()\n",
    "\n",
    "#mayavi.mlab.view(views[0][1],views[0][0])\n",
    "data_avg = np.average(converged2, axis=1)\n",
    "mayavi.mlab.view(azimuth=0, elevation=30, distance=1, focalpoint=(data_avg[0], data_avg[1], data_avg[2]))\n",
    "title = \"converged_g00020\"\n",
    "mayavi.mlab.savefig(os.path.join(project_dir, \"{}.png\".format(title)))\n",
    "mayavi.mlab.clf()"
   ]
  },
  {
   "cell_type": "code",
   "execution_count": null,
   "metadata": {},
   "outputs": [],
   "source": []
  },
  {
   "cell_type": "code",
   "execution_count": null,
   "metadata": {},
   "outputs": [],
   "source": []
  }
 ],
 "metadata": {
  "kernelspec": {
   "display_name": "Python 3",
   "language": "python",
   "name": "python3"
  },
  "language_info": {
   "codemirror_mode": {
    "name": "ipython",
    "version": 3
   },
   "file_extension": ".py",
   "mimetype": "text/x-python",
   "name": "python",
   "nbconvert_exporter": "python",
   "pygments_lexer": "ipython3",
   "version": "3.5.2"
  }
 },
 "nbformat": 4,
 "nbformat_minor": 2
}
