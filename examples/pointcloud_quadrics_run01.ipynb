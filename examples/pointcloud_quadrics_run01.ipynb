{
 "cells": [
  {
   "cell_type": "code",
   "execution_count": 2,
   "metadata": {},
   "outputs": [],
   "source": [
    "import local_models.local_models\n",
    "import local_models.algorithms\n",
    "import local_models.utils\n",
    "import local_models.linear_projections\n",
    "import local_models.loggin\n",
    "import local_models.TLS_models\n",
    "import numpy as np\n",
    "import matplotlib.pyplot as plt\n",
    "import sklearn.linear_model\n",
    "import sklearn.cluster\n",
    "from importlib import reload\n",
    "from ml_battery.utils import cmap\n",
    "import matplotlib as mpl\n",
    "import sklearn.datasets\n",
    "import sklearn.decomposition\n",
    "import logging\n",
    "import ml_battery.log\n",
    "import time\n",
    "import os\n",
    "import mayavi\n",
    "import mayavi.mlab\n",
    "import string\n",
    "import subprocess\n",
    "import functools\n",
    "import cv2\n",
    "import itertools\n",
    "\n",
    "#on headless systems, tmux: \"Xvfb :1 -screen 0 1280x1024x24 -auth localhost\", then \"export DISPLAY=:1\" in the jupyter tmux\n",
    "mayavi.mlab.options.offscreen = True\n",
    "\n",
    "\n",
    "\n",
    "logger = logging.getLogger(__name__)\n",
    "\n",
    "#reload(local_models.local_models)\n",
    "#reload(lm)\n",
    "#reload(local_models.loggin)\n",
    "#reload(local_models.TLS_models)\n",
    "np.warnings.filterwarnings('ignore')\n"
   ]
  },
  {
   "cell_type": "code",
   "execution_count": 3,
   "metadata": {},
   "outputs": [],
   "source": [
    "def import_shit():\n",
    "    import local_models.local_models\n",
    "    import local_models.algorithms\n",
    "    import local_models.utils\n",
    "    import local_models.linear_projections\n",
    "    import local_models.loggin\n",
    "    import local_models.TLS_models\n",
    "    import numpy as np\n",
    "    import logging\n",
    "    import string\n",
    "    import ml_battery.log\n",
    "\n",
    "\n",
    "    logger = logging.getLogger(__name__)\n",
    "\n",
    "    #reload(local_models.local_models)\n",
    "    #reload(lm)\n",
    "    #reload(local_models.loggin)\n",
    "    #reload(local_models.TLS_models)\n",
    "    np.warnings.filterwarnings('ignore')\n",
    "    return logger\n",
    "    \n",
    "def mean_center(data, weights=None):\n",
    "    return data - np.average(data, axis=0,weights=weights)\n",
    "\n",
    "def load_converged_data(pth):\n",
    "    convergededs = []\n",
    "    for dat in sorted(os.listdir(pth)):\n",
    "        convergededs.append(np.loadtxt(os.path.join(pth, dat)))\n",
    "    return np.concatenate(convergededs, axis=0)\n",
    "\n",
    "def plt_grid(fig, grid, data_avg, data_std):\n",
    "    nodes = mayavi.mlab.points3d(grid[:,0], grid[:,1], grid[:,2], \n",
    "                                 scale_mode='scalar', scale_factor=1,\n",
    "                                 colormap='gist_earth', figure=fig)\n",
    "    nodes.glyph.scale_mode = 'scale_by_vector'\n",
    "    nodes.mlab_source.dataset.point_data.vectors = np.ones((grid.shape[0],3))*(np.average(data_std)/60)\n",
    "    nodes.mlab_source.dataset.point_data.scalars = (grid[:,1] - (data_avg[1]-3*data_std[1]))/(6*data_std[1])\n",
    "    return nodes\n",
    "\n",
    "def plt_data(fig, data, data_std):\n",
    "    nodes = mayavi.mlab.points3d(data[:,0], data[:,1], data[:,2], \n",
    "                                 scale_mode='scalar', scale_factor=1,\n",
    "                                 colormap='Greens', figure=fig)\n",
    "    nodes.glyph.scale_mode = 'scale_by_vector'\n",
    "    nodes.mlab_source.dataset.point_data.vectors = np.ones((data.shape[0],3))*(np.average(data_std)/60)\n",
    "    nodes.mlab_source.dataset.point_data.scalars = np.ones((data.shape[0]))\n",
    "    return nodes\n",
    "\n",
    "def get_normals(kernel, linear_models, data):\n",
    "    if hasattr(kernel.bandwidth, \"__call__\"):\n",
    "        linear_params_vecs, linear_params_mean = local_models.linear_projections.transformate_data(data, kernel, linear_models, k=kernel.k)\n",
    "    else:\n",
    "        linear_params_vecs, linear_params_mean = local_models.linear_projections.transformate_data(data, kernel, linear_models, r=kernel.support_radius())\n",
    "    return linear_params_vecs\n",
    "\n",
    "def align_normals(data, normals, k=10, iterations=100):\n",
    "    balltree = sklearn.neighbors.BallTree(data)\n",
    "    pairwise_nearest_indices = balltree.query(data,k=k,sort_results=True,return_distance=False)\n",
    "    for iteration in range(iterations):\n",
    "        alignments = []\n",
    "        for index in range(1,pairwise_nearest_indices.shape[1]):\n",
    "            alignment = np.einsum(\"ij,ij->i\",normals,normals[pairwise_nearest_indices[:,index]])\n",
    "            alignments.append(alignment)\n",
    "        alignment = np.average(alignments, axis=0)\n",
    "        wrong_alignment = np.sign(alignment)\n",
    "        normals = normals*wrong_alignment.reshape(-1,1)\n",
    "    return normals\n",
    "\n",
    "def align_edge_normals(data, normals, edge_range=0.1):\n",
    "    data_mins, data_maxes, data_ranges = local_models.linear_projections.min_max_range(data)\n",
    "    graph_bounds = local_models.linear_projections.sane_graph_bounds(data_mins, data_maxes, data_ranges, -edge_range)\n",
    "    mins = data < graph_bounds[:1]\n",
    "    maxes = data > graph_bounds[1:]\n",
    "    mins_alignment = np.sign(np.einsum(\"ij,ij->i\",mins,-1*normals))\n",
    "    maxes_alignment = np.sign(np.einsum(\"ij,ij->i\",maxes,normals))\n",
    "    mins_alignment += np.logical_not(mins_alignment) # turn 0s into 1s (so they don't change)\n",
    "    maxes_alignment += np.logical_not(maxes_alignment)    \n",
    "    return normals*mins_alignment.reshape(-1,1)*maxes_alignment.reshape(-1,1)\n",
    "\n",
    "def plt_normals(fig, normals, data, data_std):\n",
    "    nodes = mayavi.mlab.quiver3d(data[:,0], data[:,1], data[:,2],\n",
    "                                 normals[:,0], normals[:,1], normals[:,2],\n",
    "                                 scale_mode='scalar', scale_factor=np.average(data_std)/5,\n",
    "                                 colormap='Purples', figure=fig, line_width=1.0)\n",
    "    return nodes\n",
    "\n",
    "def normalize_view(fig, data_avg, data_std, azimuth=0, elevation=0):\n",
    "    mayavi.mlab.view(azimuth=azimuth, elevation=elevation, distance=15*np.average(data_std), focalpoint=(data_avg[0], data_avg[1], data_avg[2]))\n",
    "    \n",
    "def plt_and_save(data, grid, normals, pth):\n",
    "    data_avg = np.average(data, axis=0)\n",
    "    data_std = np.std(data, axis=0)\n",
    "    figure = mayavi.mlab.figure(figure=None, bgcolor=(1,1,1), fgcolor=(0,0,0), engine=None, size=(1000, 500))\n",
    "    data_nodes = plt_data(figure, data, data_std)\n",
    "    converged_nodes = plt_grid(figure, grid, data_avg, data_std)\n",
    "    normal_vecs = plt_normals(figure, normals, grid, data_std)\n",
    "    neg_normal_vecs = plt_normals(figure, -normals, grid, data_std)\n",
    "    normalize_view(figure, data_avg, data_std)\n",
    "    mayavi.mlab.savefig(pth, magnification=2)\n",
    "    mayavi.mlab.close(figure)\n",
    "\n",
    "def serialize_plt(pth):\n",
    "    import zlib\n",
    "    with open(pth, 'rb') as f:\n",
    "        dat = f.read()\n",
    "    return zlib.compress(dat)\n",
    "   \n",
    "def deserialize_plt(dat, pth):\n",
    "    import zlib\n",
    "    with open(pth, 'wb') as f:\n",
    "        f.write(zlib.decompress(dat))\n",
    "    return pth\n",
    "\n",
    "def distributed_plt_and_save(data, grid, bandwidth):\n",
    "    import numpy as np\n",
    "    import mayavi\n",
    "    import mayavi.mlab\n",
    "    import string\n",
    "    import os\n",
    "    #on headless systems, tmux: \"Xvfb :1 -screen 0 1280x1024x24 -auth localhost\", then \"export DISPLAY=:1\" in the jupyter tmux\n",
    "    mayavi.mlab.options.offscreen = True\n",
    "    \n",
    "    unique_id = \"\".join(np.random.choice(list(string.ascii_lowercase), replace=True, size=20))\n",
    "    pth = \"/ramfs/{}.png\".format(unique_id)\n",
    "    try:\n",
    "        plt_and_save(data, grid, bandwidth, pth)\n",
    "        result = serialize_plt(pth)\n",
    "    except:\n",
    "        os.remove(pth)"
   ]
  },
  {
   "cell_type": "code",
   "execution_count": 4,
   "metadata": {},
   "outputs": [],
   "source": [
    "FRESH=True"
   ]
  },
  {
   "cell_type": "code",
   "execution_count": 5,
   "metadata": {},
   "outputs": [],
   "source": [
    "kernel_names = {\n",
    "    local_models.local_models.GaussianKernel: 'gaussian',\n",
    "    local_models.local_models.TriCubeKernel: 'tricube'\n",
    "}"
   ]
  },
  {
   "cell_type": "code",
   "execution_count": 6,
   "metadata": {},
   "outputs": [],
   "source": [
    "mpl.rcParams['figure.figsize'] = [8.0, 8.0]"
   ]
  },
  {
   "cell_type": "code",
   "execution_count": 7,
   "metadata": {},
   "outputs": [],
   "source": [
    "data_file = \"/home/brown/Downloads/subject001/3d/andreadm2.stl\""
   ]
  },
  {
   "cell_type": "code",
   "execution_count": 8,
   "metadata": {},
   "outputs": [],
   "source": [
    "import stl\n",
    "\n",
    "tri_mesh = stl.mesh.Mesh.from_file(data_file).points.reshape(-1,3)"
   ]
  },
  {
   "cell_type": "code",
   "execution_count": 9,
   "metadata": {},
   "outputs": [
    {
     "data": {
      "text/plain": [
       "(346758, 3)"
      ]
     },
     "execution_count": 9,
     "metadata": {},
     "output_type": "execute_result"
    }
   ],
   "source": [
    "tri_mesh.shape"
   ]
  },
  {
   "cell_type": "code",
   "execution_count": 10,
   "metadata": {},
   "outputs": [],
   "source": [
    "data, cts = np.unique(tri_mesh, axis=0, return_counts=True)"
   ]
  },
  {
   "cell_type": "code",
   "execution_count": 11,
   "metadata": {},
   "outputs": [
    {
     "data": {
      "text/plain": [
       "(58659, 3)"
      ]
     },
     "execution_count": 11,
     "metadata": {},
     "output_type": "execute_result"
    }
   ],
   "source": [
    "data.shape"
   ]
  },
  {
   "cell_type": "code",
   "execution_count": 12,
   "metadata": {},
   "outputs": [
    {
     "data": {
      "text/plain": [
       "180.348091843"
      ]
     },
     "execution_count": 12,
     "metadata": {},
     "output_type": "execute_result"
    }
   ],
   "source": [
    "(data.shape[0]*100)**(1/3)"
   ]
  },
  {
   "cell_type": "code",
   "execution_count": 13,
   "metadata": {},
   "outputs": [
    {
     "data": {
      "text/plain": [
       "array([ -71.71989 , -340.46124 ,   31.036196], dtype=float32)"
      ]
     },
     "execution_count": 13,
     "metadata": {},
     "output_type": "execute_result"
    }
   ],
   "source": [
    "np.mean(data, axis=0)"
   ]
  },
  {
   "cell_type": "code",
   "execution_count": null,
   "metadata": {},
   "outputs": [],
   "source": []
  },
  {
   "cell_type": "code",
   "execution_count": 14,
   "metadata": {},
   "outputs": [],
   "source": [
    "KERNEL=local_models.local_models.TriCubeKernel\n",
    "RUN = 2\n",
    "\n",
    "project_dir = \"../data/quadrics_{}_{:03d}\".format(kernel_names[KERNEL], RUN)\n",
    "\n",
    "os.makedirs(project_dir, exist_ok=1)"
   ]
  },
  {
   "cell_type": "code",
   "execution_count": null,
   "metadata": {},
   "outputs": [],
   "source": []
  },
  {
   "cell_type": "code",
   "execution_count": 15,
   "metadata": {},
   "outputs": [],
   "source": [
    "A = np.array([[0,0,0,1]]).T\n",
    "ORIGIN = np.array([[0,0,0]])\n",
    "ONE = np.array([[1]])\n",
    "\n",
    "import quadrics_utils\n",
    "\n",
    "def diagonalize_quadric_and_translate(Q,X):\n",
    "    Q_s = Q[:-1,:-1]\n",
    "    _, U = np.linalg.eig(Q_s)\n",
    "    UTQs = U.T@Q_s\n",
    "    UL = np.diag(UTQs@U)\n",
    "    UR = UTQs@X.T + U.T@Q[:-1,-1:]\n",
    "    BR = np.einsum('kj,kj->k', X@Q_s, X).reshape(-1,1) + 2*X@Q[:-1,-1:] + Q[-1,-1]\n",
    "    return (U, UL, UR, BR)\n",
    "\n",
    "def array_roots(coeffses):\n",
    "    ret = np.zeros((coeffses.shape[0], coeffses.shape[1]-1), dtype=complex)\n",
    "    for i, coeffs in enumerate(coeffses):\n",
    "        nproots = np.roots(coeffs.flatten())\n",
    "        ret[i] = nproots\n",
    "    return ret\n",
    "\n",
    "quadric_projection_polynomial_coefficients = [\n",
    "    quadrics_utils.k6,\n",
    "    quadrics_utils.k5,\n",
    "    quadrics_utils.k4,\n",
    "    quadrics_utils.k3,\n",
    "    quadrics_utils.k2,\n",
    "    quadrics_utils.k1,\n",
    "    quadrics_utils.k0,\n",
    "]\n",
    "def orthogonal_quadric_projection(X,Q,projection_funcs):\n",
    "    U, ul, ur, br = diagonalize_quadric_and_translate(Q,X)\n",
    "    a,b,c = ul.reshape(-1,1,1)\n",
    "    e,f,g = ur\n",
    "    d = br\n",
    "    e,f,g,d = list(map(lambda x: x.reshape(-1, 1), [e,f,g,d]))\n",
    "\n",
    "    coeffses = list(map(lambda func: func(a,b,c,d,e,f,g), quadric_projection_polynomial_coefficients))\n",
    "    # the first coefficient doesn't depend on x, so it needs tiling.\n",
    "    coeffses[0] = np.repeat(coeffses[0], X.shape[0], axis=0)\n",
    "    coeffses = np.stack(coeffses, axis=1)\n",
    "    x = np.ma.array(array_roots(coeffses))\n",
    "    candidates = x.imag == 0\n",
    "    x.mask = ~candidates\n",
    "    y = quadrics_utils.y_as_x(a,b,c,d,e,f,g,x)\n",
    "    z = quadrics_utils.z_as_x(a,b,c,d,e,f,g,x)\n",
    "    pts = np.ma.stack((x,y,z), axis=1)\n",
    "    dists = np.sum(pts**2, axis=1)\n",
    "    mindists = np.argmin(dists, axis=1)\n",
    "    X_indices = np.arange(X.shape[0])\n",
    "    best_pts = np.array(pts[X_indices,:,mindists], dtype=float)\n",
    "    best_dists = np.array(dists[X_indices,mindists],dtype=float)\n",
    "    return unrotate_and_translate(U, X, best_pts), best_dists\n",
    "\n",
    "k_jac_funcs=None\n",
    "projection_funcs = {\n",
    "    \"k_mat\": quadrics_utils.k_mat,\n",
    "    \"other_dims_as_x\": lambda a,b,c,d,e,f,g,x: [quadrics_utils.y_as_x(a,b,c,d,e,f,g,x), quadrics_utils.z_as_x(a,b,c,d,e,f,g,x)],\n",
    "    \"k_jac\": k_jac_funcs,\n",
    "}\n",
    "def orthogonal_quadric_projection(X,Q,projection_funcs):\n",
    "    U, ul, ur, br = diagonalize_quadric_and_translate(Q,X)\n",
    "    #put all of the dimensions right for math stuff\n",
    "    args = (\n",
    "        list(ul.reshape(-1,1,1)) +\n",
    "        [br.reshape(-1,1)] +\n",
    "        list(ur.reshape(ur.shape[0], -1, 1))\n",
    "    )\n",
    "\n",
    "    coeffses = projection_funcs[\"k_mat\"](*args)\n",
    "    # depending on which variables are in an equation, it may need to be tiled\n",
    "    for i, coeff in enumerate(coeffses):\n",
    "        if coeff.shape[0] != X.shape[0]:\n",
    "            coeffses[i] = np.repeat(coeff, X.shape[0], axis=0)\n",
    "\n",
    "    coeffses = np.stack(coeffses, axis=1)\n",
    "    x = np.ma.array(array_roots(coeffses))\n",
    "    candidates = x.imag == 0\n",
    "    x.mask = ~candidates\n",
    "    other_dims = projection_funcs[\"other_dims_as_x\"](*(args + [x]))\n",
    "\n",
    "    pts = np.ma.stack([x] + other_dims, axis=1)\n",
    "    dists = np.sum(pts**2, axis=1)\n",
    "    mindists = np.argmin(dists, axis=1)\n",
    "    X_indices = np.arange(X.shape[0])\n",
    "    best_pts = np.array(pts[X_indices,:,mindists], dtype=float)\n",
    "    best_dists = np.array(dists[X_indices,mindists],dtype=float)\n",
    "    return unrotate_and_translate(U, X, best_pts), best_dists\n",
    "\n",
    "def orthogonal_quadric_projection_with_jacobian(X,Q,projection_funcs):\n",
    "    U, ul, ur, br = diagonalize_quadric_and_translate(Q,X)\n",
    "    #put all of the dimensions right for math stuff\n",
    "    args = (\n",
    "        list(ul.reshape(-1,1,1)) +\n",
    "        [br.reshape(-1,1)] +\n",
    "        list(ur.reshape(ur.shape[0], -1, 1))\n",
    "    )\n",
    "\n",
    "    coeffses = projection_funcs[\"k_mat\"](*args)\n",
    "    # depending on which variables are in an equation, it may need to be tiled\n",
    "    for i, coeff in enumerate(coeffses):\n",
    "        if coeff.shape[0] != X.shape[0]:\n",
    "            coeffses[i] = np.repeat(coeff, X.shape[0], axis=0)\n",
    "\n",
    "    coeffses = np.stack(coeffses, axis=1)\n",
    "    x = np.ma.array(array_roots(coeffses))\n",
    "    candidates = x.imag == 0\n",
    "    x.mask = ~candidates\n",
    "    other_dims = projection_funcs[\"other_dims_as_x\"](*(args + [x]))\n",
    "\n",
    "    pts = np.ma.stack([x] + other_dims, axis=1)\n",
    "    dists = np.sum(pts**2, axis=1)\n",
    "    mindists = np.argmin(dists, axis=1)\n",
    "    X_indices = np.arange(X.shape[0])\n",
    "    best_pts = np.array(pts[X_indices,:,mindists], dtype=float)\n",
    "    best_dists = np.array(dists[X_indices,mindists],dtype=float)\n",
    "    \n",
    "    k_jac = projection_funcs[\"k_jac\"]\n",
    "    jac1 = [f(*args) for f in k_jac[0]]\n",
    "    jacn = [[k_jac[j][i](*(args + [best_pts[:,:1], jac1[i]])) for i in range(len(k_jac[0]))] for j in range(1,len(k_jac))]\n",
    "    jac = [jac1] + jacn\n",
    "    # depending on which variables are in an equation, it may need to be tiled\n",
    "    for i, var in enumerate(jac):\n",
    "        for j, der in enumerate(var):\n",
    "            if der.shape[0] != X.shape[0]:\n",
    "                jac[i][j] = np.repeat(der, X.shape[0], axis=0)\n",
    "            jac[i][j] = jac[i][j].reshape(-1,1,1)\n",
    "    print(list(map(lambda y: list(map(lambda x: x.shape, y)), jac)))\n",
    "\n",
    "    jac = np.block(jac)\n",
    "    print(jac.shape)\n",
    "    \n",
    "    return unrotate_and_translate(U, X, best_pts), unrotate_jac(U, X, jac), best_dists\n",
    "    \n",
    "\n",
    "def unrotate_and_translate(U, orig_X, new_X):\n",
    "    return new_X@U.T + orig_X\n",
    "    #return np.einsum('ji,ki->kj',U,orig_X) + new_X\n",
    "def unrotate_jac(U, orig_X, jac):\n",
    "    return U@jac"
   ]
  },
  {
   "cell_type": "code",
   "execution_count": null,
   "metadata": {},
   "outputs": [],
   "source": []
  },
  {
   "cell_type": "code",
   "execution_count": null,
   "metadata": {},
   "outputs": [],
   "source": []
  },
  {
   "cell_type": "code",
   "execution_count": 16,
   "metadata": {},
   "outputs": [],
   "source": [
    "def test_diagonalize_quadratic_and_translate():\n",
    "    q = np.array([ # an ellipse\n",
    "        [0.5,0,0,0],\n",
    "        [0,0.4,0,0],\n",
    "        [0,0,0.3,0],\n",
    "        [0,0,0,-1],\n",
    "    ])\n",
    "    x = np.random.uniform(size=3).reshape(1,-1)\n",
    "    x = np.ones(3).reshape(1,-1)*0.01\n",
    "    x[0,2] = 1\n",
    "    \n",
    "    _, ul, ur, br = diagonalize_quadric_and_translate(q,x)\n",
    "    \n",
    "    q1 = np.block([[np.diag(ul), ur],[ur.T, br]])\n",
    "    \n",
    "    _,U = np.linalg.eig(q[:3,:3])\n",
    "    E = np.block([[U, x.T],[ORIGIN, 1]])\n",
    "    q2 = E.T@q@E\n",
    "    \n",
    "    assert np.allclose(q1,q2)\n",
    "test_diagonalize_quadratic_and_translate()"
   ]
  },
  {
   "cell_type": "code",
   "execution_count": 17,
   "metadata": {},
   "outputs": [
    {
     "name": "stdout",
     "output_type": "stream",
     "text": [
      "[[-0.67376632 -0.63784999 -0.37307686]\n",
      " [-0.55176238  0.77009738 -0.32016917]\n",
      " [-0.49152542  0.00986943  0.8708073 ]]\n",
      "[1. 1. 1.]\n",
      "[[ 0.30309095  0.10865323  0.16984763  0.49152542]\n",
      " [ 0.10865323  0.3516888   0.05734317 -0.00986943]\n",
      " [ 0.16984763  0.05734317  0.09522024 -0.8708073 ]\n",
      " [ 0.49152542 -0.00986943 -0.8708073   0.1       ]]\n"
     ]
    },
    {
     "data": {
      "text/plain": [
       "array([[ 0.30309095,  0.10865323,  0.16984763,  0.49152542],\n",
       "       [ 0.10865323,  0.3516888 ,  0.05734317, -0.00986943],\n",
       "       [ 0.16984763,  0.05734317,  0.09522024, -0.8708073 ],\n",
       "       [ 0.49152542, -0.00986943, -0.8708073 ,  0.1       ]])"
      ]
     },
     "execution_count": 17,
     "metadata": {},
     "output_type": "execute_result"
    }
   ],
   "source": [
    "#q = np.random.uniform(size=(4,4))\n",
    "#q += q.T\n",
    "q = np.array([ # an ellipse\n",
    "    [0.5,0,0,0],\n",
    "    [0,0.25,0,0],\n",
    "    [0,0,0.125,0],\n",
    "    [0,0,0,-1],\n",
    "])\n",
    "q = np.array([ # an elliptic paraboloid\n",
    "    [0.5,0,0,0],\n",
    "    [0,0.25,0,0],\n",
    "    [0,0,0,-1],\n",
    "    [0,0,-1,0.1],\n",
    "])\n",
    "init_q = q\n",
    "u = np.random.uniform(size=(3,3))\n",
    "u += u.T\n",
    "_, u = np.linalg.eig(u)\n",
    "print(u)\n",
    "print(np.linalg.norm(u, axis=0))\n",
    "E = np.block([[u, np.zeros((3,1))],[np.zeros(3), 1]])\n",
    "q = E.T@q@E\n",
    "print(q)\n",
    "x = np.random.uniform(size=3).reshape(1,-1)\n",
    "x = np.ones(3).reshape(1,-1)*0.01\n",
    "x[0,2] = 1\n",
    "\n",
    "q"
   ]
  },
  {
   "cell_type": "code",
   "execution_count": null,
   "metadata": {},
   "outputs": [],
   "source": []
  },
  {
   "cell_type": "code",
   "execution_count": 18,
   "metadata": {},
   "outputs": [
    {
     "data": {
      "text/plain": [
       "array([[ 0.49152542],\n",
       "       [-0.00986943],\n",
       "       [-0.8708073 ]])"
      ]
     },
     "execution_count": 18,
     "metadata": {},
     "output_type": "execute_result"
    }
   ],
   "source": [
    "q[:3,3:]"
   ]
  },
  {
   "cell_type": "code",
   "execution_count": 19,
   "metadata": {},
   "outputs": [],
   "source": [
    "_, ul, ur, br = diagonalize_quadric_and_translate(q,x)"
   ]
  },
  {
   "cell_type": "code",
   "execution_count": 20,
   "metadata": {},
   "outputs": [
    {
     "data": {
      "text/plain": [
       "array([[-1.53213022]])"
      ]
     },
     "execution_count": 20,
     "metadata": {},
     "output_type": "execute_result"
    }
   ],
   "source": [
    "br"
   ]
  },
  {
   "cell_type": "code",
   "execution_count": 21,
   "metadata": {},
   "outputs": [
    {
     "data": {
      "text/plain": [
       "array([[0.01, 0.01, 1.  ]])"
      ]
     },
     "execution_count": 21,
     "metadata": {},
     "output_type": "execute_result"
    }
   ],
   "source": [
    "x"
   ]
  },
  {
   "cell_type": "code",
   "execution_count": 22,
   "metadata": {},
   "outputs": [
    {
     "data": {
      "text/plain": [
       "array([[-1.62100910e-17,  0.00000000e+00,  0.00000000e+00,\n",
       "         1.00000000e+00],\n",
       "       [ 0.00000000e+00,  5.00000000e-01,  0.00000000e+00,\n",
       "        -1.93096509e-01],\n",
       "       [ 0.00000000e+00,  0.00000000e+00,  2.50000000e-01,\n",
       "         7.94964558e-02],\n",
       "       [ 1.00000000e+00, -1.93096509e-01,  7.94964558e-02,\n",
       "        -1.53213022e+00]])"
      ]
     },
     "execution_count": 22,
     "metadata": {},
     "output_type": "execute_result"
    }
   ],
   "source": [
    "Q1 = np.block([[np.diag(ul), ur],[ur.T, br]])\n",
    "Q1"
   ]
  },
  {
   "cell_type": "code",
   "execution_count": 23,
   "metadata": {},
   "outputs": [],
   "source": [
    "_,U = np.linalg.eig(q[:3,:3])"
   ]
  },
  {
   "cell_type": "code",
   "execution_count": 24,
   "metadata": {},
   "outputs": [
    {
     "data": {
      "text/plain": [
       "array([[ 0.49152542, -0.67376632,  0.55176238,  0.01      ],\n",
       "       [-0.00986943, -0.63784999, -0.77009738,  0.01      ],\n",
       "       [-0.8708073 , -0.37307686,  0.32016917,  1.        ],\n",
       "       [ 0.        ,  0.        ,  0.        ,  1.        ]])"
      ]
     },
     "execution_count": 24,
     "metadata": {},
     "output_type": "execute_result"
    }
   ],
   "source": [
    "E = np.block([[U, x.T],[ORIGIN, 1]])\n",
    "E"
   ]
  },
  {
   "cell_type": "code",
   "execution_count": 25,
   "metadata": {},
   "outputs": [
    {
     "data": {
      "text/plain": [
       "array([[ 0.30309095,  0.10865323,  0.16984763,  0.49152542],\n",
       "       [ 0.10865323,  0.3516888 ,  0.05734317, -0.00986943],\n",
       "       [ 0.16984763,  0.05734317,  0.09522024, -0.8708073 ],\n",
       "       [ 0.49152542, -0.00986943, -0.8708073 ,  0.1       ]])"
      ]
     },
     "execution_count": 25,
     "metadata": {},
     "output_type": "execute_result"
    }
   ],
   "source": [
    "q"
   ]
  },
  {
   "cell_type": "code",
   "execution_count": 26,
   "metadata": {},
   "outputs": [
    {
     "data": {
      "text/plain": [
       "array([[-0.   ,  0.   , -0.   ,  1.   ],\n",
       "       [ 0.   ,  0.5  , -0.   , -0.193],\n",
       "       [ 0.   , -0.   ,  0.25 ,  0.079],\n",
       "       [ 1.   , -0.193,  0.079, -1.532]])"
      ]
     },
     "execution_count": 26,
     "metadata": {},
     "output_type": "execute_result"
    }
   ],
   "source": [
    "np.round(E.T@q@E,3)"
   ]
  },
  {
   "cell_type": "code",
   "execution_count": 27,
   "metadata": {},
   "outputs": [
    {
     "data": {
      "text/plain": [
       "array([[ 0.49152542, -0.67376632,  0.55176238,  0.01      ],\n",
       "       [-0.00986943, -0.63784999, -0.77009738,  0.01      ],\n",
       "       [-0.8708073 , -0.37307686,  0.32016917,  1.        ],\n",
       "       [ 0.        ,  0.        ,  0.        ,  1.        ]])"
      ]
     },
     "execution_count": 27,
     "metadata": {},
     "output_type": "execute_result"
    }
   ],
   "source": [
    "E"
   ]
  },
  {
   "cell_type": "code",
   "execution_count": 28,
   "metadata": {},
   "outputs": [
    {
     "name": "stdout",
     "output_type": "stream",
     "text": [
      "[[0.5383172  0.08533322 0.48432215]] [0.55071781]\n"
     ]
    }
   ],
   "source": [
    "pts, dists = orthogonal_quadric_projection(x,q, projection_funcs)\n",
    "pts2, dists2 = orthogonal_quadric_projection(x,q, projection_funcs)\n",
    "print(pts2, dists2)"
   ]
  },
  {
   "cell_type": "code",
   "execution_count": 29,
   "metadata": {},
   "outputs": [
    {
     "data": {
      "text/plain": [
       "(array([[0.5383172 , 0.08533322, 0.48432215]]), array([0.55071781]))"
      ]
     },
     "execution_count": 29,
     "metadata": {},
     "output_type": "execute_result"
    }
   ],
   "source": [
    "orthogonal_quadric_projection(x,q,projection_funcs)"
   ]
  },
  {
   "cell_type": "code",
   "execution_count": 30,
   "metadata": {},
   "outputs": [
    {
     "data": {
      "text/plain": [
       "(array([[0.5383172 , 0.08533322, 0.48432215]]), array([0.55071781]))"
      ]
     },
     "execution_count": 30,
     "metadata": {},
     "output_type": "execute_result"
    }
   ],
   "source": [
    "pts, dists"
   ]
  },
  {
   "cell_type": "code",
   "execution_count": 31,
   "metadata": {},
   "outputs": [
    {
     "data": {
      "text/plain": [
       "(array([[0.5383172 , 0.08533322, 0.48432215]]), array([0.55071781]))"
      ]
     },
     "execution_count": 31,
     "metadata": {},
     "output_type": "execute_result"
    }
   ],
   "source": [
    "pts2, dists2"
   ]
  },
  {
   "cell_type": "code",
   "execution_count": 32,
   "metadata": {},
   "outputs": [
    {
     "data": {
      "text/plain": [
       "array([0.55071781])"
      ]
     },
     "execution_count": 32,
     "metadata": {},
     "output_type": "execute_result"
    }
   ],
   "source": [
    "dists"
   ]
  },
  {
   "cell_type": "code",
   "execution_count": 33,
   "metadata": {},
   "outputs": [
    {
     "data": {
      "text/plain": [
       "(1, 3)"
      ]
     },
     "execution_count": 33,
     "metadata": {},
     "output_type": "execute_result"
    }
   ],
   "source": [
    "pts.shape"
   ]
  },
  {
   "cell_type": "code",
   "execution_count": 34,
   "metadata": {},
   "outputs": [
    {
     "data": {
      "text/plain": [
       "array([[0.5383172 , 0.08533322, 0.48432215, 1.        ]])"
      ]
     },
     "execution_count": 34,
     "metadata": {},
     "output_type": "execute_result"
    }
   ],
   "source": [
    "pt1 = np.ones((1,4))\n",
    "pt1[:,:3] = pts\n",
    "pt1"
   ]
  },
  {
   "cell_type": "code",
   "execution_count": 35,
   "metadata": {},
   "outputs": [
    {
     "data": {
      "text/plain": [
       "array([[2.12288146e-05]])"
      ]
     },
     "execution_count": 35,
     "metadata": {},
     "output_type": "execute_result"
    }
   ],
   "source": [
    "pt1@q@pt1.T"
   ]
  },
  {
   "cell_type": "code",
   "execution_count": null,
   "metadata": {},
   "outputs": [],
   "source": []
  },
  {
   "cell_type": "code",
   "execution_count": null,
   "metadata": {},
   "outputs": [],
   "source": []
  },
  {
   "cell_type": "code",
   "execution_count": null,
   "metadata": {},
   "outputs": [],
   "source": []
  },
  {
   "cell_type": "code",
   "execution_count": null,
   "metadata": {},
   "outputs": [],
   "source": []
  },
  {
   "cell_type": "code",
   "execution_count": null,
   "metadata": {},
   "outputs": [],
   "source": []
  },
  {
   "cell_type": "code",
   "execution_count": null,
   "metadata": {},
   "outputs": [],
   "source": []
  },
  {
   "cell_type": "code",
   "execution_count": 36,
   "metadata": {},
   "outputs": [
    {
     "data": {
      "text/plain": [
       "((1, 3), (4, 4))"
      ]
     },
     "execution_count": 36,
     "metadata": {},
     "output_type": "execute_result"
    }
   ],
   "source": [
    "x.shape, q.shape"
   ]
  },
  {
   "cell_type": "code",
   "execution_count": 37,
   "metadata": {},
   "outputs": [],
   "source": [
    "x = (np.random.uniform(size=(3000,3))-0.5)*10"
   ]
  },
  {
   "cell_type": "code",
   "execution_count": 38,
   "metadata": {},
   "outputs": [],
   "source": [
    "pts, dists = orthogonal_quadric_projection(x,q, projection_funcs)"
   ]
  },
  {
   "cell_type": "code",
   "execution_count": 39,
   "metadata": {},
   "outputs": [],
   "source": [
    "#pts, dists = orthogonal_quadric_projection2(x,q, projection_funcs)"
   ]
  },
  {
   "cell_type": "code",
   "execution_count": 40,
   "metadata": {},
   "outputs": [],
   "source": [
    "check_pts, check_dists = orthogonal_quadric_projection(np.array(pts),q, projection_funcs)"
   ]
  },
  {
   "cell_type": "code",
   "execution_count": 41,
   "metadata": {},
   "outputs": [
    {
     "data": {
      "text/plain": [
       "array([1.06442486e-11, 7.34895229e-13, 8.34915586e-13, ...,\n",
       "       1.90087620e-13, 4.16364624e-15, 7.83137416e-11])"
      ]
     },
     "execution_count": 41,
     "metadata": {},
     "output_type": "execute_result"
    }
   ],
   "source": [
    "check_dists"
   ]
  },
  {
   "cell_type": "code",
   "execution_count": 42,
   "metadata": {},
   "outputs": [],
   "source": [
    "pts, dists = orthogonal_quadric_projection(x,q, projection_funcs)"
   ]
  },
  {
   "cell_type": "code",
   "execution_count": 43,
   "metadata": {},
   "outputs": [
    {
     "name": "stdout",
     "output_type": "stream",
     "text": [
      "(3000, 3) (3000,)\n"
     ]
    }
   ],
   "source": [
    "print(pts.shape, dists.shape)"
   ]
  },
  {
   "cell_type": "code",
   "execution_count": 44,
   "metadata": {},
   "outputs": [],
   "source": [
    "def imshow(pth, cv2color=cv2.IMREAD_COLOR, **kwargs):\n",
    "    img = cv2.imread(pth, cv2color)\n",
    "    img = trim_whiteborder(img)\n",
    "    plt.imshow(img, **kwargs)\n",
    "    plt.axis(\"off\")"
   ]
  },
  {
   "cell_type": "code",
   "execution_count": 45,
   "metadata": {},
   "outputs": [],
   "source": [
    "pth = os.path.join(project_dir, \"quadric_test.png\")\n",
    "\n",
    "data_avg = np.average(pts, axis=0)\n",
    "data_std = np.std(pts, axis=0)\n",
    "figure = mayavi.mlab.figure(figure=None, bgcolor=(1,1,1), fgcolor=(0,0,0), engine=None, size=(1000, 1000))\n",
    "#data_nodes = plt_data(figure, x[np.random.choice(np.arange(x.shape[0]), size=40, replace=False)], data_std)\n",
    "vecs = pts-x\n",
    "#mayavi.mlab.quiver3d(x[:,0], x[:,1], x[:,2], vecs[:,0], vecs[:,1], vecs[:,2])\n",
    "quadric_nodes = plt_grid(figure, pts, data_avg, data_std)\n",
    "#ellipse_axes = plt_data(figure, np.diag(np.sqrt(1/np.diag(init_q[:3,:3])))@u, data_std*10)\n",
    "\n",
    "normalize_view(figure, data_avg, data_std)\n",
    "mayavi.mlab.savefig(pth, magnification=2)\n",
    "mayavi.mlab.close(figure)"
   ]
  },
  {
   "cell_type": "code",
   "execution_count": 46,
   "metadata": {},
   "outputs": [],
   "source": [
    "def trim_whiteborder(img, ratio=1.1):\n",
    "    img = cv2.bitwise_not(img)\n",
    "    print(img.shape)\n",
    "    im_sq = img**2\n",
    "    sum_sq_cols = np.sum(im_sq, axis=0)\n",
    "    sum_sq_rows = np.sum(im_sq, axis=1)\n",
    "    if len(img.shape) > 2:\n",
    "        sum_sq_cols = np.sum(sum_sq_cols, axis=1)\n",
    "        sum_sq_rows = np.sum(sum_sq_rows, axis=1)\n",
    "    print(sum_sq_cols.shape, sum_sq_rows.shape)\n",
    "    first_nonzero_col = (sum_sq_cols!=0).argmax()\n",
    "    last_nonzero_col = sum_sq_cols.shape[0] - (sum_sq_cols[::-1]!=0).argmax()\n",
    "    first_nonzero_row = (sum_sq_rows!=0).argmax()\n",
    "    last_nonzero_row = sum_sq_rows.shape[0] - (sum_sq_rows[::-1]!=0).argmax()\n",
    "    print(first_nonzero_col, last_nonzero_col, first_nonzero_row, last_nonzero_row)\n",
    "    totally_trimmed = img[first_nonzero_row:last_nonzero_row, first_nonzero_col:last_nonzero_col]\n",
    "    if len(img.shape) == 2:\n",
    "        just_a_little_whitespace = np.zeros((\n",
    "            int(totally_trimmed.shape[0]*ratio), \n",
    "            int(totally_trimmed.shape[1]*ratio)\n",
    "        ), dtype=np.uint8)\n",
    "    else:\n",
    "        just_a_little_whitespace = np.zeros((\n",
    "            int(totally_trimmed.shape[0]*ratio), \n",
    "            int(totally_trimmed.shape[1]*ratio),\n",
    "            img.shape[2]\n",
    "        ), dtype=np.uint8)\n",
    "    jalw_middle_section_start = ((np.array(just_a_little_whitespace.shape) - np.array(totally_trimmed.shape))/2).astype(int)\n",
    "    just_a_little_whitespace[\n",
    "        jalw_middle_section_start[0]:jalw_middle_section_start[0] + totally_trimmed.shape[0],\n",
    "        jalw_middle_section_start[1]:jalw_middle_section_start[1] + totally_trimmed.shape[1]\n",
    "    ] = totally_trimmed\n",
    "    #return just_a_little_whitespace\n",
    "    return cv2.bitwise_not(just_a_little_whitespace)\n",
    "        "
   ]
  },
  {
   "cell_type": "code",
   "execution_count": null,
   "metadata": {},
   "outputs": [],
   "source": []
  },
  {
   "cell_type": "code",
   "execution_count": null,
   "metadata": {},
   "outputs": [],
   "source": []
  },
  {
   "cell_type": "code",
   "execution_count": 47,
   "metadata": {},
   "outputs": [
    {
     "name": "stdout",
     "output_type": "stream",
     "text": [
      "(2000, 2000, 3)\n",
      "(2000,) (2000,)\n",
      "183 1465 123 1840\n"
     ]
    },
    {
     "data": {
      "image/png": "[encoded data removed]",
      "text/plain": [
       "<matplotlib.figure.Figure at 0x7f50c175ba90>"
      ]
     },
     "metadata": {
      "needs_background": "light"
     },
     "output_type": "display_data"
    }
   ],
   "source": [
    "blah = imshow(pth)"
   ]
  },
  {
   "cell_type": "code",
   "execution_count": null,
   "metadata": {},
   "outputs": [],
   "source": []
  },
  {
   "cell_type": "code",
   "execution_count": 48,
   "metadata": {},
   "outputs": [],
   "source": [
    "def weighted_avg_and_std(values, weights=None, axis=None):\n",
    "    \"\"\"\n",
    "    Return the weighted average and standard deviation.\n",
    "\n",
    "    values, weights -- Numpy ndarrays with the same shape.\n",
    "    \"\"\"\n",
    "    if weights is None:\n",
    "        return np.average(values, axis=axis), np.std(values, axis=axis)\n",
    "    average = np.average(values, weights=weights, axis=axis)\n",
    "    # Fast and numerically precise:\n",
    "    variance = np.average((values-average)**2, weights=weights, axis=axis)\n",
    "    return (average, np.sqrt(variance))"
   ]
  },
  {
   "cell_type": "code",
   "execution_count": 49,
   "metadata": {},
   "outputs": [],
   "source": [
    "import scipy.optimize\n",
    "import sklearn.utils\n",
    "import sklearn.base\n",
    "\n",
    "class QuadricModel(sklearn.base.RegressorMixin):\n",
    "    def __init__(self):\n",
    "        pass\n",
    "    def get_params(self, *args, **kwargs):\n",
    "        return dict()\n",
    "    def set_params(self, params, *args, **kwargs):\n",
    "        pass\n",
    "\n",
    "    \n",
    "    def _optimizer_logger(self, xk, *args):\n",
    "        logging.info(\"quadric modeling: it{}, xk{}\".format(self.i, xk))\n",
    "        self.i += 1      \n",
    "            \n",
    "    def fit(self, X, y=None, sample_weight=None, beta0=None):\n",
    "        logging.info(\"fitting quadric model\")\n",
    "        X = sklearn.utils.check_array(X)\n",
    "        if beta0 is None:\n",
    "            #this allows us to orient the data to set an initial set of parameters\n",
    "            global_linear_model = local_models.TLS_models.LinearODR_mD(2)\n",
    "            global_linear_model.fit(X, sample_weight=sample_weight)\n",
    "            global_linear_vecs = global_linear_model.cov_eigenvectors[global_linear_model.cov_eigenvalues_sorter]\n",
    "            global_linear_mean = global_linear_model.intercept_\n",
    "\n",
    "            transformed_X = (X-global_linear_mean)@global_linear_vecs.T\n",
    "\n",
    "            transformed_q = np.zeros((4,4))\n",
    "            \n",
    "            # an elliptic paraboloid pointing in the smallest eigenvector direction\n",
    "            '''\n",
    "            transformed_q[0,0] = 1/weighted_avg_and_std(transformed_X[0], weights=None)[1]**2 #flat-ish in x\n",
    "            transformed_q[1,1] = 1/weighted_avg_and_std(transformed_X[1], weights=None)[1]**2 #flat-ish in y\n",
    "            transformed_q[2,3] = transformed_q[3,2] = -1 # elliptic paraboloid pointing in z direction\n",
    "            '''\n",
    "            \n",
    "            # an ellipse with axes in the various directions\n",
    "            transformed_q[np.diag_indices(3)] = 1/global_linear_model.cov_eigenvalues[global_linear_model.cov_eigenvalues_sorter]**2\n",
    "            transformed_q[3,3] = -1\n",
    "            #print(np.diag(transformed_q), weighted_avg_and_std(transformed_X, weights = sample_weight, axis=0)[1])\n",
    "            \n",
    "            #print(transformed_q)\n",
    "            #print(global_linear_mean)\n",
    "            E = np.block([[global_linear_vecs, global_linear_mean.reshape(-1,1)],[np.zeros(3),1]])\n",
    "            Einv = np.linalg.inv(E)\n",
    "            q = Einv.T@transformed_q@Einv\n",
    "            print(q)\n",
    "            beta0 = q[np.triu_indices(4)]\n",
    "        \n",
    "        beta0 /= beta0[-1]\n",
    "        \n",
    "        self.i = 0\n",
    "        self.solution = scipy.optimize.minimize(self._loss, beta0[:-1], args=(X, sample_weight), callback=self._optimizer_logger)#, method = 'Nelder-Mead')\n",
    "        self.coef_ = self.solution.x\n",
    "        self.intercept_ = np.array([])\n",
    "        return self\n",
    "            \n",
    "    def _loss(self, beta, X, sample_weight=None):\n",
    "        q = np.zeros((4,4))\n",
    "        beta = np.concatenate((beta, [1]))\n",
    "        q[np.triu_indices(4)] = beta\n",
    "        q[3,3] = 1\n",
    "        q += q.T\n",
    "        q[np.diag_indices(4)] /= 2\n",
    "        pts, dists = orthogonal_quadric_projection(X,q,projection_funcs)\n",
    "\n",
    "        #pts, jac, dists = orthogonal_quadric_projection_with_jacobian(X,q,projection_funcs)\n",
    "        \n",
    "        if sample_weight is not None:\n",
    "            dists *= sample_weight\n",
    "        lost = np.sum(dists)\n",
    "        #total_jac = np.einsum('ki,kij->ij', (X - pts), jac)\n",
    "        #if lost > 20:\n",
    "        #    print(q)\n",
    "        #print(lost)\n",
    "        return lost#, total_jac"
   ]
  },
  {
   "cell_type": "code",
   "execution_count": null,
   "metadata": {},
   "outputs": [],
   "source": []
  },
  {
   "cell_type": "code",
   "execution_count": 50,
   "metadata": {},
   "outputs": [
    {
     "name": "stdout",
     "output_type": "stream",
     "text": [
      "[[ 0.07879929 -0.0141152   0.06286708 -0.02376961]\n",
      " [-0.0141152   0.0970706  -0.12928873  0.1653156 ]\n",
      " [ 0.06286708 -0.12928873  0.33178246 -0.41396382]\n",
      " [-0.02376961  0.1653156  -0.41396382 -0.43836932]]\n"
     ]
    },
    {
     "data": {
      "text/plain": [
       "<__main__.QuadricModel at 0x7f50c175b9b0>"
      ]
     },
     "execution_count": 50,
     "metadata": {},
     "output_type": "execute_result"
    }
   ],
   "source": [
    "qm = QuadricModel()\n",
    "qm.fit(pts)#, beta0=q[np.triu_indices(4)]+0.001)"
   ]
  },
  {
   "cell_type": "code",
   "execution_count": 51,
   "metadata": {},
   "outputs": [
    {
     "data": {
      "text/plain": [
       "      fun: 1.1545693882294028\n",
       " hess_inv: array([[ 4.62506021e+10,  1.69757951e+10,  2.80197580e+10,\n",
       "         7.26582169e+10,  5.49833782e+10,  8.58133664e+09,\n",
       "        -8.38285745e+08,  1.08599943e+10, -1.26296365e+11],\n",
       "       [ 1.69757952e+10,  6.23078635e+09,  1.02843563e+10,\n",
       "         2.66684313e+10,  2.01810684e+10,  3.14968901e+09,\n",
       "        -3.07683931e+08,  3.98604623e+09, -4.63557473e+10],\n",
       "       [ 2.80197581e+10,  1.02843563e+10,  1.69750621e+10,\n",
       "         4.40181440e+10,  3.33102898e+10,  5.19878588e+09,\n",
       "        -5.07854228e+08,  6.57925300e+09, -7.65134602e+10],\n",
       "       [ 7.26582169e+10,  2.66684313e+10,  4.40181439e+10,\n",
       "         1.14143735e+11,  8.63771289e+10,  1.34810055e+10,\n",
       "        -1.31692010e+09,  1.70607037e+10, -1.98407551e+11],\n",
       "       [ 5.49833783e+10,  2.01810684e+10,  3.33102897e+10,\n",
       "         8.63771290e+10,  6.53650275e+10,  1.02016159e+10,\n",
       "        -9.96566101e+08,  1.29105167e+10, -1.50142928e+11],\n",
       "       [ 8.58133667e+09,  3.14968901e+09,  5.19878588e+09,\n",
       "         1.34810055e+10,  1.02016159e+10,  1.59218119e+09,\n",
       "        -1.55535536e+08,  2.01496333e+09, -2.34330275e+10],\n",
       "       [-8.38285748e+08, -3.07683931e+08, -5.07854228e+08,\n",
       "        -1.31692010e+09, -9.96566102e+08, -1.55535536e+08,\n",
       "         1.51938128e+07, -1.96835890e+08,  2.28910410e+09],\n",
       "       [ 1.08599943e+10,  3.98604622e+09,  6.57925299e+09,\n",
       "         1.70607037e+10,  1.29105167e+10,  2.01496332e+09,\n",
       "        -1.96835889e+08,  2.55000952e+09, -2.96553502e+10],\n",
       "       [-1.26296365e+11, -4.63557472e+10, -7.65134601e+10,\n",
       "        -1.98407551e+11, -1.50142928e+11, -2.34330274e+10,\n",
       "         2.28910410e+09, -2.96553502e+10,  3.44877064e+11]])\n",
       "      jac: array([ 1.67876482e-04,  4.28706408e-04, -3.89844179e-04, -1.60858035e-04,\n",
       "       -1.03116035e-04,  6.81877136e-04,  3.90410423e-05,  2.47955322e-05,\n",
       "       -5.66095114e-05])\n",
       "  message: 'Desired error not necessarily achieved due to precision loss.'\n",
       "     nfev: 1750\n",
       "      nit: 65\n",
       "     njev: 158\n",
       "   status: 2\n",
       "  success: False\n",
       "        x: array([-20846.49647981,  -7651.48639582, -12629.46423712, -32749.02111365,\n",
       "       -24782.70988536,  -3867.81999852,    377.77191479,  -4894.59822336,\n",
       "        56924.89411724])"
      ]
     },
     "execution_count": 51,
     "metadata": {},
     "output_type": "execute_result"
    }
   ],
   "source": [
    "qm.solution"
   ]
  },
  {
   "cell_type": "code",
   "execution_count": 52,
   "metadata": {},
   "outputs": [
    {
     "data": {
      "text/plain": [
       "array([[-2.0846496e+04, -7.6514860e+03, -1.2629464e+04, -3.2749021e+04],\n",
       "       [-7.6514860e+03, -2.4782710e+04, -3.8678200e+03,  3.7777200e+02],\n",
       "       [-1.2629464e+04, -3.8678200e+03, -4.8945980e+03,  5.6924894e+04],\n",
       "       [-3.2749021e+04,  3.7777200e+02,  5.6924894e+04,  1.0000000e+00]])"
      ]
     },
     "execution_count": 52,
     "metadata": {},
     "output_type": "execute_result"
    }
   ],
   "source": [
    "qq = np.zeros((4,4))\n",
    "qq[np.triu_indices(4)] = np.concatenate((qm.coef_, [1]))\n",
    "qq += qq.T\n",
    "qq[np.diag_indices(4)] /= 2\n",
    "np.round(qq,3)"
   ]
  },
  {
   "cell_type": "code",
   "execution_count": 53,
   "metadata": {},
   "outputs": [
    {
     "data": {
      "text/plain": [
       "array([[ 0.30309095,  0.10865323,  0.16984763,  0.49152542],\n",
       "       [ 0.10865323,  0.3516888 ,  0.05734317, -0.00986943],\n",
       "       [ 0.16984763,  0.05734317,  0.09522024, -0.8708073 ],\n",
       "       [ 0.49152542, -0.00986943, -0.8708073 ,  0.1       ]])"
      ]
     },
     "execution_count": 53,
     "metadata": {},
     "output_type": "execute_result"
    }
   ],
   "source": [
    "q"
   ]
  },
  {
   "cell_type": "raw",
   "metadata": {},
   "source": [
    "qq = np.array(\n",
    "[[ 0.98928691, -0.42390962, -0.20757044, -0.35397327],\n",
    " [-0.42390962,  0.24742997,  0.33970501, -0.9004247 ],\n",
    " [-0.20757044,  0.33970501,  0.99941526,  0.25388832],\n",
    " [-0.35397327, -0.9004247 ,  0.25388832, -0.02455888]]\n",
    ")"
   ]
  },
  {
   "cell_type": "raw",
   "metadata": {},
   "source": [
    "qq = np.array(\n",
    "[[ 0.56025787,  0.64822194,  0.0094628 ,  0.00872895],\n",
    " [ 0.64822194,  1.92161331, -0.4789617 ,  0.02687668],\n",
    " [ 0.0094628 , -0.4789617 ,  0.47708798, -0.00464847],\n",
    " [ 0.00872895,  0.02687668, -0.00464847, -0.99960565]]\n",
    "\n",
    " )"
   ]
  },
  {
   "cell_type": "code",
   "execution_count": 54,
   "metadata": {},
   "outputs": [
    {
     "data": {
      "text/plain": [
       "array([[ 0.30309095,  0.10865323,  0.16984763,  0.49152542],\n",
       "       [ 0.10865323,  0.3516888 ,  0.05734317, -0.00986943],\n",
       "       [ 0.16984763,  0.05734317,  0.09522024, -0.8708073 ],\n",
       "       [ 0.49152542, -0.00986943, -0.8708073 ,  0.1       ]])"
      ]
     },
     "execution_count": 54,
     "metadata": {},
     "output_type": "execute_result"
    }
   ],
   "source": [
    "q"
   ]
  },
  {
   "cell_type": "code",
   "execution_count": 55,
   "metadata": {},
   "outputs": [
    {
     "data": {
      "text/plain": [
       "(4, 4)"
      ]
     },
     "execution_count": 55,
     "metadata": {},
     "output_type": "execute_result"
    }
   ],
   "source": [
    "qq.shape"
   ]
  },
  {
   "cell_type": "code",
   "execution_count": 56,
   "metadata": {},
   "outputs": [
    {
     "data": {
      "text/plain": [
       "(4, 4)"
      ]
     },
     "execution_count": 56,
     "metadata": {},
     "output_type": "execute_result"
    }
   ],
   "source": [
    "q.shape"
   ]
  },
  {
   "cell_type": "code",
   "execution_count": 57,
   "metadata": {},
   "outputs": [
    {
     "data": {
      "text/plain": [
       "array([[ 0.22154492,  1.14058941,  0.55479045],\n",
       "       [ 1.81872468, -1.95776169,  3.42825888],\n",
       "       [-1.14905968,  1.37888974, -0.16698182],\n",
       "       ...,\n",
       "       [ 0.22358705,  2.47940081,  2.1900757 ],\n",
       "       [-0.01934217,  1.48104939,  0.53494599],\n",
       "       [ 1.31972056, -3.63798663,  4.31532586]])"
      ]
     },
     "execution_count": 57,
     "metadata": {},
     "output_type": "execute_result"
    }
   ],
   "source": [
    "np.array(pts)"
   ]
  },
  {
   "cell_type": "code",
   "execution_count": 58,
   "metadata": {},
   "outputs": [],
   "source": [
    "qfit_pth = os.path.join(project_dir, \"qfit_test.png\")\n",
    "qfit_pts, qfit_dists = orthogonal_quadric_projection(x,qq,projection_funcs)\n",
    "\n",
    "data_avg = np.average(qfit_pts, axis=0)\n",
    "data_std = np.std(qfit_pts, axis=0)\n",
    "figure = mayavi.mlab.figure(figure=None, bgcolor=(1,1,1), fgcolor=(0,0,0), engine=None, size=(1000, 1000))\n",
    "#data_nodes = plt_data(figure, x[np.random.choice(np.arange(x.shape[0]), size=40, replace=False)], data_std)\n",
    "vecs = qfit_pts-pts\n",
    "#mayavi.mlab.quiver3d(x[:,0], x[:,1], x[:,2], vecs[:,0], vecs[:,1], vecs[:,2])\n",
    "quadric_nodes = plt_grid(figure, qfit_pts, data_avg, data_std)\n",
    "#other_nodes = plt_grid(figure, pts, data_avg, data_std)\n",
    "\n",
    "normalize_view(figure, data_avg, data_std)\n",
    "mayavi.mlab.savefig(qfit_pth, magnification=2)\n",
    "mayavi.mlab.close(figure)\n"
   ]
  },
  {
   "cell_type": "code",
   "execution_count": 59,
   "metadata": {},
   "outputs": [
    {
     "name": "stdout",
     "output_type": "stream",
     "text": [
      "(2000, 2000, 3)\n",
      "(2000,) (2000,)\n",
      "193 1467 118 1843\n"
     ]
    },
    {
     "data": {
      "image/png": "[encoded data removed]",
      "text/plain": [
       "<matplotlib.figure.Figure at 0x7f50b95b1e10>"
      ]
     },
     "metadata": {
      "needs_background": "light"
     },
     "output_type": "display_data"
    }
   ],
   "source": [
    "imshow(qfit_pth)"
   ]
  },
  {
   "cell_type": "code",
   "execution_count": 60,
   "metadata": {},
   "outputs": [
    {
     "data": {
      "text/plain": [
       "0"
      ]
     },
     "execution_count": 60,
     "metadata": {},
     "output_type": "execute_result"
    }
   ],
   "source": [
    "np.sum(np.isnan(pts))"
   ]
  },
  {
   "cell_type": "code",
   "execution_count": 61,
   "metadata": {},
   "outputs": [
    {
     "data": {
      "text/plain": [
       "<local_models.local_models.LocalModels at 0x7f50b952c080>"
      ]
     },
     "execution_count": 61,
     "metadata": {},
     "output_type": "execute_result"
    }
   ],
   "source": [
    "local_quadrics = local_models.local_models.LocalModels(QuadricModel())\n",
    "local_quadrics.fit(pts)"
   ]
  },
  {
   "cell_type": "code",
   "execution_count": 62,
   "metadata": {},
   "outputs": [],
   "source": [
    "avg_pt_dist = np.average(local_quadrics.index.query(pts, k=2)[0][:,1])"
   ]
  },
  {
   "cell_type": "code",
   "execution_count": 63,
   "metadata": {},
   "outputs": [],
   "source": [
    "bandwidth = avg_pt_dist*64\n",
    "lm_kernel = local_models.local_models.TriCubeKernel(bandwidth=bandwidth)"
   ]
  },
  {
   "cell_type": "code",
   "execution_count": null,
   "metadata": {},
   "outputs": [
    {
     "name": "stdout",
     "output_type": "stream",
     "text": [
      "[[ 0.26997088 -0.38665474  0.5005991  -0.16377088]\n",
      " [-0.38665474  1.93159097 -2.12019813  0.79724746]\n",
      " [ 0.5005991  -2.12019813  2.67843921 -1.17477756]\n",
      " [-0.16377088  0.79724746 -1.17477756 -0.39421309]]\n",
      "[[ 1.07451019  2.38203903  1.24487566 -0.66271889]\n",
      " [ 2.38203903  6.5939681   3.37593958 -1.21775479]\n",
      " [ 1.24487566  3.37593958  1.91016238 -1.02963945]\n",
      " [-0.66271889 -1.21775479 -1.02963945  0.26377632]]\n",
      "[[ 0.21217955  0.09993774 -0.37021808  0.35085391]\n",
      " [ 0.09993774  0.97119292 -1.88965635  0.54897052]\n",
      " [-0.37021808 -1.88965635  4.64415134 -1.82346066]\n",
      " [ 0.35085391  0.54897052 -1.82346066  0.04529998]]\n",
      "[[  0.67395752   2.21722747  -2.58863936   8.6407621 ]\n",
      " [  2.21722747   8.61702807  -9.97707063  33.00890039]\n",
      " [ -2.58863936  -9.97707063  11.86160186 -38.65196332]\n",
      " [  8.6407621   33.00890039 -38.65196332 126.18652856]]\n",
      "[[ 0.53489242 -0.466911    1.01611211 -0.61885201]\n",
      " [-0.466911    0.98194055 -1.60284133  1.10854616]\n",
      " [ 1.01611211 -1.60284133  3.31034738 -2.28312543]\n",
      " [-0.61885201  1.10854616 -2.28312543  0.60496189]]\n",
      "[[ 0.39428808 -0.79634638  1.10439783  1.33825193]\n",
      " [-0.79634638  2.67806486 -3.61489095 -3.69935978]\n",
      " [ 1.10439783 -3.61489095  5.35764459  4.69079372]\n",
      " [ 1.33825193 -3.69935978  4.69079372  4.72554019]]\n",
      "[[ 0.47038704 -1.1222838   0.87040614 -0.24259593]\n",
      " [-1.1222838   4.02877073 -3.04261545  0.7951026 ]\n",
      " [ 0.87040614 -3.04261545  2.50748311 -0.86459507]\n",
      " [-0.24259593  0.7951026  -0.86459507 -0.50994502]]\n",
      "[[ 0.40866322 -0.43782556  0.78825566 -0.39875628]\n",
      " [-0.43782556  1.26163619 -1.78483851  1.02324437]\n",
      " [ 0.78825566 -1.78483851  3.06262395 -1.83220323]\n",
      " [-0.39875628  1.02324437 -1.83220323  0.1342828 ]]\n",
      "[[  3.41163639  -3.54766233  -3.55767017  13.50207558]\n",
      " [ -3.54766233   3.95444553   3.82488503 -14.68921194]\n",
      " [ -3.55767017   3.82488503   3.96297088 -14.6363788 ]\n",
      " [ 13.50207558 -14.68921194 -14.6363788   54.3449939 ]]\n",
      "[[ 0.97011696 -1.49630498  1.26066095 -2.24388302]\n",
      " [-1.49630498  3.03868701 -2.39778653  4.22086577]\n",
      " [ 1.26066095 -2.39778653  2.1153464  -3.65108329]\n",
      " [-2.24388302  4.22086577 -3.65108329  5.33543931]]\n",
      "[[ 0.43695685 -0.45836013  0.83416448 -0.45673999]\n",
      " [-0.45836013  1.22961649 -1.75787499  1.07995994]\n",
      " [ 0.83416448 -1.75787499  3.06094603 -1.93932399]\n",
      " [-0.45673999  1.07995994 -1.93932399  0.2609208 ]]\n",
      "[[ 0.43600216 -1.0863917   0.76274479 -1.12043892]\n",
      " [-1.0863917   4.530918   -3.03667062  4.27819077]\n",
      " [ 0.76274479 -3.03667062  2.22705861 -3.14435852]\n",
      " [-1.12043892  4.27819077 -3.14435852  3.45146908]]\n",
      "[[ 2.46418395  1.63836058  2.15722745 -2.35411472]\n",
      " [ 1.63836058  1.39635557  1.61344307 -1.49598604]\n",
      " [ 2.15722745  1.61344307  2.21160254 -2.36126108]\n",
      " [-2.35411472 -1.49598604 -2.36126108  1.79587841]]\n",
      "[[ 1.53373595  0.60045279  3.25972853 -0.16161445]\n",
      " [ 0.60045279  0.36965541  1.38699125 -0.02266905]\n",
      " [ 3.25972853  1.38699125  7.71316494 -0.84080778]\n",
      " [-0.16161445 -0.02266905 -0.84080778 -0.56472205]]\n",
      "[[ 1.44537088 -0.4256547   2.84938369  2.72425422]\n",
      " [-0.4256547   0.30026676 -0.9540232  -1.07706016]\n",
      " [ 2.84938369 -0.9540232   6.89659713  4.88144655]\n",
      " [ 2.72425422 -1.07706016  4.88144655  4.93880755]]\n",
      "[[ 7.18726149 -0.67168749 -4.79928777 10.17138103]\n",
      " [-0.67168749  0.19141533  0.45298707 -1.15366843]\n",
      " [-4.79928777  0.45298707  3.38821396 -7.05549113]\n",
      " [10.17138103 -1.15366843 -7.05549113 14.07401672]]\n",
      "[[ 4.62541036  0.36822205  5.99289568  7.7539694 ]\n",
      " [ 0.36822205  0.19019111  0.48052699  0.17973802]\n",
      " [ 5.99289568  0.48052699  8.86141218  9.11582497]\n",
      " [ 7.7539694   0.17973802  9.11582497 13.96247933]]\n",
      "[[  2.65212933   9.86857422  -3.59919563  -4.52861551]\n",
      " [  9.86857422  39.39481203 -14.40930421 -17.5610567 ]\n",
      " [ -3.59919563 -14.40930421   5.40994222   6.0972373 ]\n",
      " [ -4.52861551 -17.5610567    6.0972373    7.65181945]]\n",
      "[[  12.03452033  -23.12187127  -10.32175068   80.31600329]\n",
      " [ -23.12187127   45.15571833   20.02037744 -156.470059  ]\n",
      " [ -10.32175068   20.02037744    9.07290916  -69.83899613]\n",
      " [  80.31600329 -156.470059    -69.83899613  542.29705098]]\n",
      "[[  0.22280334  -0.66975392  -0.66072167   2.30151347]\n",
      " [ -0.66975392   5.14264842   4.84223968 -16.0851538 ]\n",
      " [ -0.66072167   4.84223968   4.8357965  -15.45970869]\n",
      " [  2.30151347 -16.0851538  -15.45970869  49.89296235]]\n",
      "[[ 0.26152182 -0.39463979  0.47795684 -0.16832476]\n",
      " [-0.39463979  2.10199318 -2.19418203  0.86147202]\n",
      " [ 0.47795684 -2.19418203  2.61644493 -1.19262997]\n",
      " [-0.16832476  0.86147202 -1.19262997 -0.36692445]]\n",
      "[[ 0.17128165  0.1438562  -0.21543568  0.15442916]\n",
      " [ 0.1438562   2.10903106 -2.38034817  0.03486837]\n",
      " [-0.21543568 -2.38034817  3.04165247 -0.38088924]\n",
      " [ 0.15442916  0.03486837 -0.38088924 -0.60447583]]\n"
     ]
    }
   ],
   "source": [
    "try:\n",
    "    stuff = local_quadrics.transform(pts,\n",
    "        r=lm_kernel.support_radius()-1, weighted=True, kernel=lm_kernel,\n",
    "        neighbor_beta0s=False, batch_size=int(pts.shape[0]/32), return_models=True)\n",
    "except:\n",
    "    logging.exception(\"transformation failed!\")"
   ]
  },
  {
   "cell_type": "code",
   "execution_count": null,
   "metadata": {},
   "outputs": [],
   "source": []
  },
  {
   "cell_type": "code",
   "execution_count": null,
   "metadata": {},
   "outputs": [],
   "source": []
  },
  {
   "cell_type": "code",
   "execution_count": null,
   "metadata": {},
   "outputs": [],
   "source": []
  },
  {
   "cell_type": "code",
   "execution_count": 1900,
   "metadata": {},
   "outputs": [
    {
     "data": {
      "text/plain": [
       "array([[ 0.5,  0. ,  0. ,  0. ],\n",
       "       [ 0. ,  0.4,  0. ,  0. ],\n",
       "       [ 0. ,  0. ,  0.3,  0. ],\n",
       "       [ 0. ,  0. ,  0. , -1. ]])"
      ]
     },
     "execution_count": 1900,
     "metadata": {},
     "output_type": "execute_result"
    }
   ],
   "source": [
    "q"
   ]
  },
  {
   "cell_type": "code",
   "execution_count": 424,
   "metadata": {},
   "outputs": [
    {
     "data": {
      "text/plain": [
       "<module 'quadrics_utils' from '/home/brown/python_packages/local_models/examples/quadrics_utils.py'>"
      ]
     },
     "execution_count": 424,
     "metadata": {},
     "output_type": "execute_result"
    }
   ],
   "source": [
    "import importlib; importlib.reload(quadrics_utils)"
   ]
  },
  {
   "cell_type": "code",
   "execution_count": 1860,
   "metadata": {},
   "outputs": [],
   "source": [
    "def collect_best(expr, measure=sympy.count_ops):\n",
    "    best = expr\n",
    "    best_score = measure(expr)\n",
    "    perms = itertools.permutations(expr.free_symbols)\n",
    "    permlen = np.math.factorial(len(expr.free_symbols))\n",
    "    print(permlen)\n",
    "    for i, perm in enumerate(perms):\n",
    "        if (permlen > 1000) and not (i%int(permlen/100)):\n",
    "            print(i)\n",
    "        collected = sympy.collect(expr, perm)\n",
    "        if measure(collected) < best_score:\n",
    "            best_score = measure(collected)\n",
    "            best = collected\n",
    "        else:\n",
    "            factored = sympy.factor(expr)\n",
    "            if measure(factored) < best_score:\n",
    "                best_score = measure(factored)\n",
    "                best = factored\n",
    "    return best\n",
    "    \n",
    "def product(args):\n",
    "    arg = next(args)\n",
    "    try:\n",
    "        return arg*product(args)\n",
    "    except:\n",
    "        return arg\n",
    "    \n",
    "def rcollect_best(expr, measure=sympy.count_ops):\n",
    "    best = collect_best(expr, measure)\n",
    "    best_score = measure(best)\n",
    "    if expr == best:\n",
    "        return best\n",
    "    if isinstance(best, sympy.Mul):\n",
    "        return product(map(rcollect_best, best.args))\n",
    "    if isinstance(best, sympy.Add):\n",
    "        return sum(map(rcollect_best, best.args))"
   ]
  },
  {
   "cell_type": "code",
   "execution_count": 3579,
   "metadata": {},
   "outputs": [],
   "source": [
    "def derive_quadratic_orthogonal_projection_1D_polynomial(n):\n",
    "    import sympy\n",
    "    \n",
    "    Q_sym = sympy.symarray(\"q\", (n+1, n+1))\n",
    "    Q = sympy.Matrix(np.zeros((n+1,n+1), dtype=int))\n",
    "    for i, j in itertools.product(range(n+1), range(n+1)):\n",
    "        if i == n or j == n or i == j:\n",
    "            Q[i,j] = Q_sym[max(i,j),min(i,j)]\n",
    "    print(Q)\n",
    "\n",
    "    x_sym = sympy.symarray(\"x\", n+1)\n",
    "    X = sympy.Matrix(np.ones((n+1, 1), dtype=int))\n",
    "    for i in range(n):\n",
    "        X[i] = x_sym[i]\n",
    "        \n",
    "    P = sympy.Matrix(np.zeros((n-1, n+1), dtype=int))\n",
    "    for i in range(n-1):\n",
    "        P[i,0] = X[i+1]\n",
    "        P[i,i+1] = -X[0]\n",
    "    \n",
    "    QXP = P*Q*X\n",
    "    \n",
    "    other_dims_as_x0 = [sympy.solve(QXP[i], X[i+1])[0] for i in range(n-1)] \n",
    "    \n",
    "    XQX = sympy.expand((X.T*Q*X)[0])\n",
    "    XQX_as_x0 = XQX.subs({X[i+1]:other_dims_as_x0[i] for i in range(n-1)})\n",
    "    for sub in other_dims_as_x0:\n",
    "        XQX_as_x0 *= sympy.fraction(sub)[1]**2\n",
    "    XQX_as_x0 = sympy.cancel(XQX_as_x0)\n",
    "    XQX_as_x0 = sympy.simplify(XQX_as_x0)\n",
    "    XQX_as_x0 = sympy.poly(XQX_as_x0, X[0])\n",
    "    \n",
    "    return (X, Q, XQX_as_x0, other_dims_as_x0)\n",
    "    "
   ]
  },
  {
   "cell_type": "code",
   "execution_count": null,
   "metadata": {},
   "outputs": [],
   "source": [
    "def collectify_polynomial_coefficients(poly):\n",
    "    return [rcollect_best(formula) for formula in poly.all_coeffs()]"
   ]
  },
  {
   "cell_type": "code",
   "execution_count": 3011,
   "metadata": {},
   "outputs": [
    {
     "data": {
      "text/plain": [
       "[0, 1, 4, 9]"
      ]
     },
     "execution_count": 3011,
     "metadata": {},
     "output_type": "execute_result"
    }
   ],
   "source": [
    "sorted(map(lambda x: x**2, range(4)))"
   ]
  },
  {
   "cell_type": "code",
   "execution_count": null,
   "metadata": {},
   "outputs": [],
   "source": []
  },
  {
   "cell_type": "code",
   "execution_count": null,
   "metadata": {},
   "outputs": [],
   "source": [
    "import shelve\n",
    "\n",
    "def funcify(signature, returnable):\n",
    "    return \"def {}: return {}\\n\".format(signature, returnable)\n",
    "\n",
    "def get_signature(expr, name):\n",
    "    return name+str(tuple(sorted(map(str, expr.free_symbols))))\n",
    "\n",
    "k_mat = sympy.Matrix(collected)\n",
    "k_jac = k_mat.jacobian([a,b,c,d,e,f,g])\n",
    "\n",
    "with open(\"quadrics_formulae.shelf\", \"w\") as quadrics_formulae:\n",
    "    quadrics_formulae[3] = {\n",
    "        \"k_mat\":  sympy.Matrix(collected),\n",
    "        \"k_jac\": None,\n",
    "        \"other_dims_as_x\": other_dims_as_x0,\n",
    "}"
   ]
  },
  {
   "cell_type": "code",
   "execution_count": 3603,
   "metadata": {
    "scrolled": true
   },
   "outputs": [
    {
     "name": "stdout",
     "output_type": "stream",
     "text": [
      "Matrix([[q_0_0, 0, 0, q_3_0], [0, q_1_1, 0, q_3_1], [0, 0, q_2_2, q_3_2], [q_3_0, q_3_1, q_3_2, q_3_3]])\n"
     ]
    }
   ],
   "source": [
    "X,Q,poly,other_dims_as_x = derive_quadratic_orthogonal_projection_1D_polynomial(3)"
   ]
  },
  {
   "cell_type": "code",
   "execution_count": 3589,
   "metadata": {},
   "outputs": [],
   "source": [
    "func_x0 = sympy.Function('fx_0')(*sorted(Q.free_symbols, key=str))\n",
    "func_xn = [sympy.Function('fx_{}'.format(i))(*(sorted(Q.free_symbols, key=str) + [func_x0]))]"
   ]
  },
  {
   "cell_type": "code",
   "execution_count": 3600,
   "metadata": {},
   "outputs": [],
   "source": [
    "dx_dvars = []\n",
    "for var in sorted(Q.free_symbols, key=str):\n",
    "    dx_dvars.append(\n",
    "        sympy.solve(sympy.diff(poly.as_expr().subs(X[0], func_x0), var), sympy.diff(func_x0, var))[0]\n",
    "    )\n",
    "dotherdims_dvars = []\n",
    "for i, otherdim in enumerate(X[1:-1]):\n",
    "    dotherdims_dvars.append([])\n",
    "    for j, var in enumerate(sorted(Q.free_symbols, key=str)):\n",
    "        dotherdims_dvars[-1].append(\n",
    "            sympy.diff(other_dims_as_x[i].subs(X[0], func_x0), var)\n",
    "        )"
   ]
  },
  {
   "cell_type": "code",
   "execution_count": 3604,
   "metadata": {},
   "outputs": [],
   "source": [
    "k_jac = [dx_dvars] + dotherdims_dvars"
   ]
  },
  {
   "cell_type": "code",
   "execution_count": 3663,
   "metadata": {},
   "outputs": [],
   "source": [
    "jaco_vars = [sympy.Symbol(\"dx_0_\" + str(var)) for var in sorted(Q.free_symbols, key=str)]"
   ]
  },
  {
   "cell_type": "code",
   "execution_count": 3731,
   "metadata": {},
   "outputs": [],
   "source": [
    "k_jac_funcs = (\n",
    "    [[sympy.lambdify(sorted(Q.free_symbols, key=str), var) for var in sorted(Q.free_symbols, key=str)]] +\n",
    "    [[sympy.lambdify(sorted(Q.free_symbols, key=str) + [X[0], jaco_vars[j]], \n",
    "                     dotherdims_dvars[i][j].subs(sympy.diff(func_x0, var), jaco_vars[j]).subs(func_x0, X[0])) \n",
    "         for j,var in enumerate(sorted(Q.free_symbols, key=str))\n",
    "     ] for i in range(len(k_jac)-1)]\n",
    ")"
   ]
  },
  {
   "cell_type": "code",
   "execution_count": 3732,
   "metadata": {},
   "outputs": [
    {
     "data": {
      "text/latex": [
       "$\\displaystyle \\frac{dx_{0 q 1 1} q_{3 2}}{q_{0 0} x_{0} - q_{2 2} x_{0} + q_{3 0}} + \\frac{q_{3 2} x_{0} \\left(- dx_{0 q 1 1} q_{0 0} + dx_{0 q 1 1} q_{2 2}\\right)}{\\left(q_{0 0} x_{0} - q_{2 2} x_{0} + q_{3 0}\\right)^{2}}$"
      ],
      "text/plain": [
       "dx_0_q_1_1*q_3_2/(q_0_0*x_0 - q_2_2*x_0 + q_3_0) + q_3_2*x_0*(-dx_0_q_1_1*q_0_0 + dx_0_q_1_1*q_2_2)/(q_0_0*x_0 - q_2_2*x_0 + q_3_0)**2"
      ]
     },
     "execution_count": 3732,
     "metadata": {},
     "output_type": "execute_result"
    }
   ],
   "source": [
    "i=j=1\n",
    "dotherdims_dvars[i][j].subs(sympy.diff(func_x0, sorted(Q.free_symbols, key=str)[j]), jaco_vars[j]).subs(func_x0, X[0])"
   ]
  },
  {
   "cell_type": "code",
   "execution_count": 3687,
   "metadata": {},
   "outputs": [
    {
     "data": {
      "text/plain": [
       "[dx_0_q_0_0,\n",
       " dx_0_q_1_1,\n",
       " dx_0_q_2_2,\n",
       " dx_0_q_3_0,\n",
       " dx_0_q_3_1,\n",
       " dx_0_q_3_2,\n",
       " dx_0_q_3_3]"
      ]
     },
     "execution_count": 3687,
     "metadata": {},
     "output_type": "execute_result"
    }
   ],
   "source": [
    "jaco_vars"
   ]
  },
  {
   "cell_type": "code",
   "execution_count": 3688,
   "metadata": {},
   "outputs": [
    {
     "data": {
      "text/plain": [
       "<function _lambdifygenerated(q_0_0, q_1_1, q_2_2, q_3_0, q_3_1, q_3_2, q_3_3, x_0, dx_0_q_0_0)>"
      ]
     },
     "execution_count": 3688,
     "metadata": {},
     "output_type": "execute_result"
    }
   ],
   "source": [
    "k_jac_funcs[1][0]"
   ]
  },
  {
   "cell_type": "code",
   "execution_count": null,
   "metadata": {},
   "outputs": [],
   "source": [
    "def dU_dQ(Q, L, U):\n",
    "    Qs = Q[:-1,:-1]\n",
    "    QsLinv = np.stack(\n",
    "        [np.linalg.pinv(l*np.eye(Qs.shape[0])-Qs, hermitian=True) for l in L],\n",
    "        axis=2\n",
    "    )\n",
    "    dQsU = np.einsum('ij,kl->ijkl', np.ones(Qs.shape), U)\n",
    "    dUdQs = np.einsum('ijl,kl->ijkl', QsLinv, U)\n",
    "    ret = np.zeros(list(Q.shape) + list(U.shape)) \n",
    "    ret[:-1,:-1] = dUdQs\n",
    "    return ret #du_kl/dq_ij in slot i,j,k,l\n",
    "def dL_dQ(Q, L, U):\n",
    "    return np.einsum('il,kl->ikl', U, U)\n",
    "def dETQE_dQ(Q, L, U, X):\n",
    "    Qs = Q[:-1,:-1]\n",
    "    dUdQ = dU_dQ(Q,L,U)\n",
    "    dLdQ = dL_dQ(Q,L,U)\n",
    "    ret = np.zeros([Q.shape[0]]*4)\n",
    "    ret[:-1,:-1,np.arange(Q.shape[0]-1), np.arange(Q.shape[0]-1)] = dLdQ\n",
    "    ret[:-1,-1] = np.einsum('ijkl,jm,bm->bikl',np.transpose(dUdQ,(1,0,2,3)),Qs,X)"
   ]
  },
  {
   "cell_type": "raw",
   "metadata": {},
   "source": [
    "x = np.random.uniform(size=(3000,3,1))\n",
    "q = np.array([ # an elliptic paraboloid\n",
    "    [0.5,0,0,0],\n",
    "    [0,0.25,0,0],\n",
    "    [0,0,0,-1],\n",
    "    [0,0,-1,0.1],\n",
    "])\n",
    "init_q = q\n",
    "u = np.random.uniform(size=(3,3))\n",
    "u += u.T\n",
    "_, u = np.linalg.eig(u)\n",
    "print(u)\n",
    "print(np.linalg.norm(u, axis=0))\n",
    "E = np.block([[u, np.zeros((3,1))],[np.zeros(3), 1]])\n",
    "q = E.T@q@E\n",
    "print(q)"
   ]
  },
  {
   "cell_type": "raw",
   "metadata": {},
   "source": [
    "import tensorflow as tf\n",
    "Q = tf.data.Dataset.from_tensor_slices(q)\n",
    "X = tf.data.Dataset.from_tensor_slices(x)\n",
    "\n",
    "Qs = Q[:,:-1,:-1]\n",
    "L, U = tf.linalg.eigh(Qs)\n",
    "UTQs = tf.matmul(U,Q,transpose_a=True)\n",
    "UL = tf.tile(UTQs@U, [X.shape[0]] + list(U.shape))\n",
    "UR = UTQS@X + tf.matmul(U,Q[:-1,-1:],transpose_a=True)\n",
    "BR = tf.matmul(tf.matmul(X,Qs,transpose_a=True),X) + 2*tf.matmul(X,Q[:-1,-1:],transpose_a=True) + Q[-1,-1]\n",
    "\n",
    "ULdiag = tf.matrix_diag_part(UL)\n",
    "args = [ULdiag[:,i] for i in ULdiag.shape[1]] + [BR] + [UR[:,i,:] for i in UR.shape[1]]\n",
    "kmat = tf.stack(quadric_utils.k_mat(*args), axis=-1)\n",
    "C = tf.zeros((X.shape[0], len(kmat), len(kmat)))\n",
    "C[:,1:,:-1] = tf.eye(len(kmat)-1, batch_shape=[X.shape[0]])\n",
    "C[:,:,-1] = -kmat[:,::-1]\n",
    "roots, _ = tf.linalg.eigh(C)\n",
    "\n"
   ]
  },
  {
   "cell_type": "code",
   "execution_count": null,
   "metadata": {},
   "outputs": [],
   "source": []
  },
  {
   "cell_type": "code",
   "execution_count": null,
   "metadata": {},
   "outputs": [],
   "source": []
  },
  {
   "cell_type": "code",
   "execution_count": null,
   "metadata": {},
   "outputs": [],
   "source": []
  },
  {
   "cell_type": "code",
   "execution_count": null,
   "metadata": {},
   "outputs": [],
   "source": []
  },
  {
   "cell_type": "code",
   "execution_count": null,
   "metadata": {},
   "outputs": [],
   "source": []
  },
  {
   "cell_type": "code",
   "execution_count": null,
   "metadata": {},
   "outputs": [],
   "source": []
  },
  {
   "cell_type": "code",
   "execution_count": 3606,
   "metadata": {},
   "outputs": [
    {
     "data": {
      "text/plain": [
       "7"
      ]
     },
     "execution_count": 3606,
     "metadata": {},
     "output_type": "execute_result"
    }
   ],
   "source": [
    "len(k_jac[0])"
   ]
  },
  {
   "cell_type": "code",
   "execution_count": null,
   "metadata": {},
   "outputs": [
    {
     "name": "stdout",
     "output_type": "stream",
     "text": [
      "6\n",
      "1\n",
      "2\n",
      "2\n",
      "24\n",
      "1\n",
      "1\n",
      "2\n",
      "2\n",
      "6\n",
      "1\n",
      "6\n",
      "2\n",
      "5040\n",
      "0\n"
     ]
    }
   ],
   "source": [
    "collectification_test = [rcollect_best(formula) for formula in poly.all_coeffs()]"
   ]
  },
  {
   "cell_type": "code",
   "execution_count": 3015,
   "metadata": {},
   "outputs": [
    {
     "data": {
      "text/plain": [
       "<function _lambdifygenerated(q_0_0, q_1_1, q_2_2, q_3_0, q_3_1, q_3_2, q_3_3)>"
      ]
     },
     "execution_count": 3015,
     "metadata": {},
     "output_type": "execute_result"
    }
   ],
   "source": [
    "sympy.lambdify(sorted(Q.free_symbols, key=str), collectification_test[0])"
   ]
  },
  {
   "cell_type": "code",
   "execution_count": 3008,
   "metadata": {},
   "outputs": [
    {
     "data": {
      "text/plain": [
       "[6, 15, 51, 49, 39, 13, 2]"
      ]
     },
     "execution_count": 3008,
     "metadata": {},
     "output_type": "execute_result"
    }
   ],
   "source": [
    "list(map(sympy.count_ops, collectification_test))"
   ]
  },
  {
   "cell_type": "code",
   "execution_count": 2985,
   "metadata": {},
   "outputs": [
    {
     "data": {
      "text/plain": [
       "158"
      ]
     },
     "execution_count": 2985,
     "metadata": {},
     "output_type": "execute_result"
    }
   ],
   "source": [
    "sympy.count_ops(sympy.expand(collectification_test[2]))"
   ]
  },
  {
   "cell_type": "code",
   "execution_count": 2990,
   "metadata": {},
   "outputs": [
    {
     "data": {
      "text/latex": [
       "$\\displaystyle \\left[\\begin{matrix}q_{0 0} & 0 & 0 & q_{3 0}\\\\0 & q_{1 1} & 0 & q_{3 1}\\\\0 & 0 & q_{2 2} & q_{3 2}\\\\q_{3 0} & q_{3 1} & q_{3 2} & q_{3 3}\\end{matrix}\\right]$"
      ],
      "text/plain": [
       "Matrix([\n",
       "[q_0_0,     0,     0, q_3_0],\n",
       "[    0, q_1_1,     0, q_3_1],\n",
       "[    0,     0, q_2_2, q_3_2],\n",
       "[q_3_0, q_3_1, q_3_2, q_3_3]])"
      ]
     },
     "execution_count": 2990,
     "metadata": {},
     "output_type": "execute_result"
    }
   ],
   "source": [
    "Q"
   ]
  },
  {
   "cell_type": "code",
   "execution_count": 3000,
   "metadata": {},
   "outputs": [
    {
     "name": "stdout",
     "output_type": "stream",
     "text": [
      "True\n",
      "True\n",
      "True\n",
      "True\n",
      "True\n",
      "True\n",
      "True\n"
     ]
    }
   ],
   "source": [
    "for i in range(len(collectification_test)):\n",
    "    print(sympy.expand(collectification_test[i].subs({\n",
    "        Q[0,0]:a,\n",
    "        Q[1,1]:b,\n",
    "        Q[2,2]:c,\n",
    "        Q[3,3]:d,\n",
    "        Q[3,0]:e,\n",
    "        Q[3,1]:f,\n",
    "        Q[3,2]:g})) == sympy.expand(collected[i]))"
   ]
  },
  {
   "cell_type": "code",
   "execution_count": null,
   "metadata": {},
   "outputs": [],
   "source": []
  },
  {
   "cell_type": "code",
   "execution_count": 2986,
   "metadata": {},
   "outputs": [
    {
     "data": {
      "text/plain": [
       "158"
      ]
     },
     "execution_count": 2986,
     "metadata": {},
     "output_type": "execute_result"
    }
   ],
   "source": [
    "sympy.count_ops(sympy.expand(collected[2]))"
   ]
  },
  {
   "cell_type": "code",
   "execution_count": 3004,
   "metadata": {},
   "outputs": [
    {
     "data": {
      "text/latex": [
       "$\\displaystyle 4 a^{3} d e - 6 a^{2} b d e - 6 a^{2} c d e + 16 a^{2} e^{3} + 6 a^{2} e f^{2} + 6 a^{2} e g^{2} + 2 a b^{2} d e + 8 a b c d e - 14 a b e^{3} - 2 a b e f^{2} - 8 a b e g^{2} + 2 a c^{2} d e - 14 a c e^{3} - 8 a c e f^{2} - 2 a c e g^{2} - 2 b^{2} c d e + 2 b^{2} e^{3} + 2 b^{2} e g^{2} - 2 b c^{2} d e + 8 b c e^{3} + 2 b c e f^{2} + 2 b c e g^{2} + 2 c^{2} e^{3} + 2 c^{2} e f^{2}$"
      ],
      "text/plain": [
       "4*a**3*d*e - 6*a**2*b*d*e - 6*a**2*c*d*e + 16*a**2*e**3 + 6*a**2*e*f**2 + 6*a**2*e*g**2 + 2*a*b**2*d*e + 8*a*b*c*d*e - 14*a*b*e**3 - 2*a*b*e*f**2 - 8*a*b*e*g**2 + 2*a*c**2*d*e - 14*a*c*e**3 - 8*a*c*e*f**2 - 2*a*c*e*g**2 - 2*b**2*c*d*e + 2*b**2*e**3 + 2*b**2*e*g**2 - 2*b*c**2*d*e + 8*b*c*e**3 + 2*b*c*e*f**2 + 2*b*c*e*g**2 + 2*c**2*e**3 + 2*c**2*e*f**2"
      ]
     },
     "execution_count": 3004,
     "metadata": {},
     "output_type": "execute_result"
    }
   ],
   "source": [
    "sympy.expand(collected[3])"
   ]
  },
  {
   "cell_type": "code",
   "execution_count": 3005,
   "metadata": {},
   "outputs": [
    {
     "data": {
      "text/latex": [
       "$\\displaystyle q_{3 0}^{3} \\left(16 q_{0 0}^{2} - 14 q_{0 0} q_{2 2} + 2 q_{1 1}^{2} + q_{1 1} \\left(- 14 q_{0 0} + 8 q_{2 2}\\right) + 2 q_{2 2}^{2}\\right) + 2 q_{3 0} q_{3 1}^{2} \\left(q_{0 0} - q_{2 2}\\right) \\left(3 q_{0 0} - q_{1 1} - q_{2 2}\\right) + 2 q_{3 0} q_{3 2}^{2} \\left(q_{0 0} - q_{1 1}\\right) \\left(3 q_{0 0} - q_{1 1} - q_{2 2}\\right) + 2 q_{3 0} q_{3 3} \\left(q_{0 0} - q_{1 1}\\right) \\left(q_{0 0} - q_{2 2}\\right) \\left(2 q_{0 0} - q_{1 1} - q_{2 2}\\right)$"
      ],
      "text/plain": [
       "q_3_0**3*(16*q_0_0**2 - 14*q_0_0*q_2_2 + 2*q_1_1**2 + q_1_1*(-14*q_0_0 + 8*q_2_2) + 2*q_2_2**2) + 2*q_3_0*q_3_1**2*(q_0_0 - q_2_2)*(3*q_0_0 - q_1_1 - q_2_2) + 2*q_3_0*q_3_2**2*(q_0_0 - q_1_1)*(3*q_0_0 - q_1_1 - q_2_2) + 2*q_3_0*q_3_3*(q_0_0 - q_1_1)*(q_0_0 - q_2_2)*(2*q_0_0 - q_1_1 - q_2_2)"
      ]
     },
     "execution_count": 3005,
     "metadata": {},
     "output_type": "execute_result"
    }
   ],
   "source": [
    "collectification_test[2]"
   ]
  },
  {
   "cell_type": "code",
   "execution_count": 3007,
   "metadata": {},
   "outputs": [
    {
     "data": {
      "text/latex": [
       "$\\displaystyle d \\left(a^{4} - 2 a^{3} b + a^{2} b^{2} + c^{2} \\left(a^{2} - 2 a b + b^{2}\\right) + c \\left(- 2 a^{3} + 4 a^{2} b - 2 a b^{2}\\right)\\right) + e^{2} \\left(14 a^{3} - 18 a^{2} b + 5 a b^{2} + c^{2} \\left(5 a - 4 b\\right) + c \\left(- 18 a^{2} + 20 a b - 4 b^{2}\\right)\\right) + f^{2} \\left(2 a^{3} - a^{2} b + c^{2} \\left(2 a - b\\right) + c \\left(- 4 a^{2} + 2 a b\\right)\\right) + g^{2} \\left(2 a^{3} - a^{2} c + b^{2} \\left(2 a - c\\right) + b \\left(- 4 a^{2} + 2 a c\\right)\\right)$"
      ],
      "text/plain": [
       "d*(a**4 - 2*a**3*b + a**2*b**2 + c**2*(a**2 - 2*a*b + b**2) + c*(-2*a**3 + 4*a**2*b - 2*a*b**2)) + e**2*(14*a**3 - 18*a**2*b + 5*a*b**2 + c**2*(5*a - 4*b) + c*(-18*a**2 + 20*a*b - 4*b**2)) + f**2*(2*a**3 - a**2*b + c**2*(2*a - b) + c*(-4*a**2 + 2*a*b)) + g**2*(2*a**3 - a**2*c + b**2*(2*a - c) + b*(-4*a**2 + 2*a*c))"
      ]
     },
     "execution_count": 3007,
     "metadata": {},
     "output_type": "execute_result"
    }
   ],
   "source": [
    "collected[2]"
   ]
  },
  {
   "cell_type": "code",
   "execution_count": 3003,
   "metadata": {},
   "outputs": [
    {
     "data": {
      "text/latex": [
       "$\\displaystyle 4 a^{3} d e - 6 a^{2} b d e - 6 a^{2} c d e + 16 a^{2} e^{3} + 6 a^{2} e f^{2} + 6 a^{2} e g^{2} + 2 a b^{2} d e + 8 a b c d e - 14 a b e^{3} - 2 a b e f^{2} - 8 a b e g^{2} + 2 a c^{2} d e - 14 a c e^{3} - 8 a c e f^{2} - 2 a c e g^{2} - 2 b^{2} c d e + 2 b^{2} e^{3} + 2 b^{2} e g^{2} - 2 b c^{2} d e + 8 b c e^{3} + 2 b c e f^{2} + 2 b c e g^{2} + 2 c^{2} e^{3} + 2 c^{2} e f^{2}$"
      ],
      "text/plain": [
       "4*a**3*d*e - 6*a**2*b*d*e - 6*a**2*c*d*e + 16*a**2*e**3 + 6*a**2*e*f**2 + 6*a**2*e*g**2 + 2*a*b**2*d*e + 8*a*b*c*d*e - 14*a*b*e**3 - 2*a*b*e*f**2 - 8*a*b*e*g**2 + 2*a*c**2*d*e - 14*a*c*e**3 - 8*a*c*e*f**2 - 2*a*c*e*g**2 - 2*b**2*c*d*e + 2*b**2*e**3 + 2*b**2*e*g**2 - 2*b*c**2*d*e + 8*b*c*e**3 + 2*b*c*e*f**2 + 2*b*c*e*g**2 + 2*c**2*e**3 + 2*c**2*e*f**2"
      ]
     },
     "execution_count": 3003,
     "metadata": {},
     "output_type": "execute_result"
    }
   ],
   "source": [
    "sympy.expand(collectification_test[3].subs({\n",
    "        Q[0,0]:a,\n",
    "        Q[1,1]:b,\n",
    "        Q[2,2]:c,\n",
    "        Q[3,3]:d,\n",
    "        Q[3,0]:e,\n",
    "        Q[3,1]:f,\n",
    "        Q[3,2]:g}))"
   ]
  },
  {
   "cell_type": "code",
   "execution_count": 3009,
   "metadata": {},
   "outputs": [
    {
     "data": {
      "text/plain": [
       "[6, 15, 100, 68, 39, 13, 2]"
      ]
     },
     "execution_count": 3009,
     "metadata": {},
     "output_type": "execute_result"
    }
   ],
   "source": [
    "list(map(sympy.count_ops, collected))"
   ]
  },
  {
   "cell_type": "raw",
   "metadata": {},
   "source": [
    "import sympy\n",
    "from sympy.abc import a,b,c,d,e,f,g,x,y,z\n",
    "\n",
    "Q = a*x**2 + b*y**2 + c*z**2 + 2*e*x + 2*f*y + 2*g*z + d\n",
    "y_as_x_num = f*x\n",
    "y_as_x_den = e-(b-a)*x\n",
    "y_as_x = y_as_x_num/y_as_x_den\n",
    "z_as_x_num = g*x\n",
    "z_as_x_den = e-(c-a)*x\n",
    "z_as_x = z_as_x_num/z_as_x_den\n",
    "Q_as_x = Q.subs({\n",
    "    y: y_as_x,\n",
    "    z: z_as_x,\n",
    "})\n",
    "\n",
    "bigQ = sympy.expand(sympy.simplify(Q_as_x*y_as_x_den**2*z_as_x_den**2))\n",
    "\n",
    "coeffs = list(map(sympy.factor, sympy.poly(bigQ,x).all_coeffs()))\n",
    "\n",
    "collected = []\n",
    "for coeff in coeffs:\n",
    "    collected.append(rcollect_best(coeff))\n",
    "    \n",
    "def funcify(signature, returnable):\n",
    "    return \"def {}: return {}\\n\".format(signature, returnable)\n",
    "\n",
    "k_mat = sympy.Matrix(collected)\n",
    "k_jac = k_mat.jacobian([a,b,c,d,e,f,g])\n",
    "\n",
    "with open(\"quadrics_utils.py\", \"w\") as f:\n",
    "    Q_func = funcify(\"Q(a,b,c,d,e,f,g,x,y,z)\",str(Q))\n",
    "    y_as_x_func = funcify(\"y_as_x(a,b,c,d,e,f,g,x)\", str(y_as_x))\n",
    "    z_as_x_func = funcify(\"z_as_x(a,b,c,d,e,f,g,x)\", str(z_as_x))\n",
    "    Q_as_x_func = funcify(\"Q_as_x(a,b,c,d,e,f,g,x)\", str(Q_as_x))\n",
    "    k_mat_func = funcify(\"k_mat(a,b,c,d,e,f,g)\", str(k_mat.transpose().tolist()[0]))\n",
    "    k_jac_func = funcify(\"k_jac(a,b,c,d,e,f,g)\", str(k_jac.tolist()))\n",
    "    individual_k_funcs = [funcify(\"k{:01d}(a,b,c,d,e,f,g)\".format(i), str(eq)) for i,eq in enumerate(collected[::-1])]\n",
    "    list(map(f.write, [Q_func, y_as_x_func, z_as_x_func, Q_as_x_func, k_mat_func, k_jac_func] + individual_k_funcs))"
   ]
  },
  {
   "cell_type": "code",
   "execution_count": 1814,
   "metadata": {},
   "outputs": [],
   "source": [
    "xx = sympy.Function('xx')(a,b,c,d,e,f,g)\n",
    "yy = sympy.Function('yy')(a,b,c,d,e,f,g,xx)\n",
    "zz = sympy.Function('zz')(a,b,c,d,e,f,g,xx)"
   ]
  },
  {
   "cell_type": "code",
   "execution_count": null,
   "metadata": {},
   "outputs": [],
   "source": [
    "for var in [a,b,c,d,e,f,g]:\n",
    "    dx_dvar = sympy.solve(sympy.diff(bigQ.subs({x:xx}), var), sympy.diff(xx, var))\n",
    "    dx_dvar_num, dx_dvar_den = sympy.fraction(dx_dvar)\n",
    "    dx_dvar_num, dx_dvar_den = sympy.poly(dx_dvar_num), sympy.poly(dx_dvar_den)\n",
    "    \n",
    "    dx_dvar_num_collections = []\n",
    "    for coeff in dx_dvar_num.all_coeffs():\n",
    "        dx_dvar_num_collections.append(rcollect_best(coeff))\n",
    "    \n",
    "    dx_dvar_den_collections = []\n",
    "    for coeff in dx_dvar_den.all_coeffs():\n",
    "        dx_dvar_den_collections.append(rcollect_best(coeff))\n",
    "        \n",
    "    dx_dvar_num = sum([x**i*dx_dvar_num_collections[-(i+1)] for i in range(dx_dvar_num_collections)])\n",
    "    dx_dvar_den = sum([x**i*dx_dvar_den_collections[-(i+1)] for i in range(dx_dvar_den_collections)])\n",
    "    dx_dvar = dx_dvar_num/dx_dvar_den"
   ]
  },
  {
   "cell_type": "code",
   "execution_count": null,
   "metadata": {},
   "outputs": [],
   "source": [
    "dz_dvars = []\n",
    "for var in (a,b,c,d,e,f,g):\n",
    "    print(\"diffing_z_against_var_{}\".format(str(var)))\n",
    "    dz_dvars.append(sympy.simplify(rcollect_best(sympy.diff(z_as_x.subs({x:xx}), var))))"
   ]
  },
  {
   "cell_type": "code",
   "execution_count": 1873,
   "metadata": {},
   "outputs": [
    {
     "name": "stdout",
     "output_type": "stream",
     "text": [
      "5040\n",
      "0\n",
      "50\n",
      "100\n",
      "150\n",
      "200\n",
      "250\n",
      "300\n",
      "350\n",
      "400\n",
      "450\n",
      "500\n",
      "550\n",
      "600\n",
      "650\n",
      "700\n",
      "750\n",
      "800\n",
      "850\n",
      "900\n",
      "950\n",
      "1000\n",
      "1050\n",
      "1100\n",
      "1150\n",
      "1200\n",
      "1250\n",
      "1300\n",
      "1350\n",
      "1400\n",
      "1450\n",
      "1500\n",
      "1550\n",
      "1600\n",
      "1650\n",
      "1700\n",
      "1750\n",
      "1800\n",
      "1850\n",
      "1900\n",
      "1950\n",
      "2000\n",
      "2050\n",
      "2100\n",
      "2150\n",
      "2200\n",
      "2250\n",
      "2300\n",
      "2350\n",
      "2400\n",
      "2450\n",
      "2500\n",
      "2550\n",
      "2600\n",
      "2650\n",
      "2700\n",
      "2750\n",
      "2800\n",
      "2850\n",
      "2900\n",
      "2950\n",
      "3000\n",
      "3050\n",
      "3100\n",
      "3150\n",
      "3200\n",
      "3250\n",
      "3300\n",
      "3350\n",
      "3400\n",
      "3450\n",
      "3500\n",
      "3550\n",
      "3600\n",
      "3650\n",
      "3700\n",
      "3750\n",
      "3800\n",
      "3850\n",
      "3900\n",
      "3950\n",
      "4000\n",
      "4050\n",
      "4100\n",
      "4150\n",
      "4200\n",
      "4250\n",
      "4300\n",
      "4350\n",
      "4400\n",
      "4450\n",
      "4500\n",
      "4550\n",
      "4600\n",
      "4650\n",
      "4700\n",
      "4750\n",
      "4800\n",
      "4850\n",
      "4900\n",
      "4950\n",
      "5000\n",
      "1\n",
      "5040\n",
      "0\n",
      "50\n",
      "100\n",
      "150\n",
      "200\n",
      "250\n",
      "300\n",
      "350\n",
      "400\n",
      "450\n",
      "500\n",
      "550\n",
      "600\n",
      "650\n",
      "700\n",
      "750\n",
      "800\n",
      "850\n",
      "900\n",
      "950\n",
      "1000\n",
      "1050\n",
      "1100\n",
      "1150\n",
      "1200\n",
      "1250\n",
      "1300\n",
      "1350\n",
      "1400\n",
      "1450\n",
      "1500\n",
      "1550\n",
      "1600\n",
      "1650\n",
      "1700\n",
      "1750\n",
      "1800\n",
      "1850\n",
      "1900\n",
      "1950\n",
      "2000\n",
      "2050\n",
      "2100\n",
      "2150\n",
      "2200\n",
      "2250\n",
      "2300\n",
      "2350\n",
      "2400\n",
      "2450\n",
      "2500\n",
      "2550\n",
      "2600\n",
      "2650\n",
      "2700\n",
      "2750\n",
      "2800\n",
      "2850\n",
      "2900\n",
      "2950\n",
      "3000\n",
      "3050\n",
      "3100\n",
      "3150\n",
      "3200\n",
      "3250\n",
      "3300\n",
      "3350\n",
      "3400\n",
      "3450\n",
      "3500\n",
      "3550\n",
      "3600\n",
      "3650\n",
      "3700\n",
      "3750\n",
      "3800\n",
      "3850\n",
      "3900\n",
      "3950\n",
      "4000\n",
      "4050\n",
      "4100\n",
      "4150\n",
      "4200\n",
      "4250\n",
      "4300\n",
      "4350\n",
      "4400\n",
      "4450\n",
      "4500\n",
      "4550\n",
      "4600\n",
      "4650\n",
      "4700\n",
      "4750\n",
      "4800\n",
      "4850\n",
      "4900\n",
      "4950\n",
      "5000\n",
      "5040\n",
      "0\n",
      "50\n",
      "100\n",
      "150\n",
      "200\n",
      "250\n",
      "300\n",
      "350\n",
      "400\n",
      "450\n",
      "500\n",
      "550\n",
      "600\n",
      "650\n",
      "700\n",
      "750\n",
      "800\n",
      "850\n",
      "900\n",
      "950\n",
      "1000\n",
      "1050\n",
      "1100\n",
      "1150\n",
      "1200\n",
      "1250\n",
      "1300\n",
      "1350\n",
      "1400\n",
      "1450\n",
      "1500\n",
      "1550\n",
      "1600\n",
      "1650\n",
      "1700\n",
      "1750\n",
      "1800\n",
      "1850\n",
      "1900\n",
      "1950\n",
      "2000\n",
      "2050\n",
      "2100\n",
      "2150\n",
      "2200\n",
      "2250\n",
      "2300\n",
      "2350\n",
      "2400\n",
      "2450\n",
      "2500\n",
      "2550\n",
      "2600\n",
      "2650\n",
      "2700\n",
      "2750\n",
      "2800\n",
      "2850\n",
      "2900\n",
      "2950\n",
      "3000\n",
      "3050\n",
      "3100\n",
      "3150\n",
      "3200\n",
      "3250\n",
      "3300\n",
      "3350\n",
      "3400\n",
      "3450\n",
      "3500\n",
      "3550\n",
      "3600\n",
      "3650\n",
      "3700\n",
      "3750\n",
      "3800\n",
      "3850\n",
      "3900\n",
      "3950\n",
      "4000\n",
      "4050\n",
      "4100\n",
      "4150\n",
      "4200\n",
      "4250\n",
      "4300\n",
      "4350\n",
      "4400\n",
      "4450\n",
      "4500\n",
      "4550\n",
      "4600\n",
      "4650\n",
      "4700\n",
      "4750\n",
      "4800\n",
      "4850\n",
      "4900\n",
      "4950\n",
      "5000\n",
      "5040\n",
      "0\n",
      "50\n",
      "100\n",
      "150\n",
      "200\n",
      "250\n",
      "300\n",
      "350\n",
      "400\n",
      "450\n",
      "500\n",
      "550\n",
      "600\n",
      "650\n",
      "700\n",
      "750\n",
      "800\n",
      "850\n",
      "900\n",
      "950\n",
      "1000\n",
      "1050\n",
      "1100\n",
      "1150\n",
      "1200\n",
      "1250\n",
      "1300\n",
      "1350\n",
      "1400\n",
      "1450\n",
      "1500\n",
      "1550\n",
      "1600\n",
      "1650\n",
      "1700\n",
      "1750\n",
      "1800\n",
      "1850\n",
      "1900\n",
      "1950\n",
      "2000\n",
      "2050\n",
      "2100\n",
      "2150\n",
      "2200\n",
      "2250\n",
      "2300\n",
      "2350\n",
      "2400\n",
      "2450\n",
      "2500\n",
      "2550\n",
      "2600\n",
      "2650\n",
      "2700\n",
      "2750\n",
      "2800\n",
      "2850\n",
      "2900\n",
      "2950\n",
      "3000\n",
      "3050\n",
      "3100\n",
      "3150\n",
      "3200\n",
      "3250\n",
      "3300\n",
      "3350\n",
      "3400\n",
      "3450\n",
      "3500\n",
      "3550\n",
      "3600\n",
      "3650\n",
      "3700\n",
      "3750\n",
      "3800\n",
      "3850\n",
      "3900\n",
      "3950\n",
      "4000\n",
      "4050\n",
      "4100\n",
      "4150\n",
      "4200\n",
      "4250\n",
      "4300\n",
      "4350\n",
      "4400\n",
      "4450\n",
      "4500\n",
      "4550\n",
      "4600\n",
      "4650\n",
      "4700\n",
      "4750\n",
      "4800\n",
      "4850\n",
      "4900\n",
      "4950\n",
      "5000\n",
      "1\n",
      "5040\n",
      "0\n",
      "50\n",
      "100\n",
      "150\n",
      "200\n",
      "250\n",
      "300\n",
      "350\n",
      "400\n",
      "450\n",
      "500\n",
      "550\n",
      "600\n",
      "650\n",
      "700\n",
      "750\n",
      "800\n",
      "850\n",
      "900\n",
      "950\n",
      "1000\n",
      "1050\n",
      "1100\n",
      "1150\n",
      "1200\n",
      "1250\n",
      "1300\n",
      "1350\n",
      "1400\n",
      "1450\n",
      "1500\n",
      "1550\n",
      "1600\n",
      "1650\n",
      "1700\n",
      "1750\n",
      "1800\n",
      "1850\n",
      "1900\n",
      "1950\n",
      "2000\n",
      "2050\n",
      "2100\n",
      "2150\n",
      "2200\n",
      "2250\n",
      "2300\n",
      "2350\n",
      "2400\n",
      "2450\n",
      "2500\n",
      "2550\n",
      "2600\n",
      "2650\n",
      "2700\n",
      "2750\n",
      "2800\n",
      "2850\n",
      "2900\n",
      "2950\n",
      "3000\n",
      "3050\n",
      "3100\n",
      "3150\n",
      "3200\n",
      "3250\n",
      "3300\n",
      "3350\n",
      "3400\n",
      "3450\n",
      "3500\n",
      "3550\n",
      "3600\n",
      "3650\n",
      "3700\n",
      "3750\n",
      "3800\n",
      "3850\n",
      "3900\n",
      "3950\n",
      "4000\n",
      "4050\n",
      "4100\n",
      "4150\n",
      "4200\n",
      "4250\n",
      "4300\n",
      "4350\n",
      "4400\n",
      "4450\n",
      "4500\n",
      "4550\n",
      "4600\n",
      "4650\n",
      "4700\n",
      "4750\n",
      "4800\n",
      "4850\n",
      "4900\n",
      "4950\n",
      "5000\n",
      "5040\n",
      "0\n",
      "50\n",
      "100\n",
      "150\n",
      "200\n",
      "250\n",
      "300\n",
      "350\n",
      "400\n",
      "450\n",
      "500\n",
      "550\n",
      "600\n",
      "650\n",
      "700\n",
      "750\n",
      "800\n",
      "850\n",
      "900\n",
      "950\n",
      "1000\n",
      "1050\n",
      "1100\n",
      "1150\n",
      "1200\n",
      "1250\n",
      "1300\n",
      "1350\n",
      "1400\n",
      "1450\n",
      "1500\n",
      "1550\n",
      "1600\n",
      "1650\n",
      "1700\n",
      "1750\n",
      "1800\n",
      "1850\n",
      "1900\n",
      "1950\n",
      "2000\n",
      "2050\n",
      "2100\n",
      "2150\n",
      "2200\n",
      "2250\n",
      "2300\n",
      "2350\n",
      "2400\n",
      "2450\n",
      "2500\n",
      "2550\n",
      "2600\n",
      "2650\n",
      "2700\n",
      "2750\n",
      "2800\n",
      "2850\n",
      "2900\n",
      "2950\n",
      "3000\n",
      "3050\n",
      "3100\n",
      "3150\n",
      "3200\n",
      "3250\n",
      "3300\n",
      "3350\n",
      "3400\n",
      "3450\n",
      "3500\n",
      "3550\n",
      "3600\n",
      "3650\n",
      "3700\n",
      "3750\n",
      "3800\n",
      "3850\n",
      "3900\n",
      "3950\n",
      "4000\n",
      "4050\n",
      "4100\n",
      "4150\n",
      "4200\n",
      "4250\n",
      "4300\n",
      "4350\n",
      "4400\n",
      "4450\n",
      "4500\n",
      "4550\n",
      "4600\n",
      "4650\n",
      "4700\n",
      "4750\n",
      "4800\n",
      "4850\n",
      "4900\n",
      "4950\n",
      "5000\n",
      "5040\n",
      "0\n",
      "50\n",
      "100\n",
      "150\n",
      "200\n",
      "250\n",
      "300\n",
      "350\n",
      "400\n",
      "450\n",
      "500\n",
      "550\n",
      "600\n",
      "650\n",
      "700\n",
      "750\n",
      "800\n",
      "850\n",
      "900\n",
      "950\n",
      "1000\n",
      "1050\n",
      "1100\n",
      "1150\n",
      "1200\n",
      "1250\n",
      "1300\n",
      "1350\n",
      "1400\n",
      "1450\n",
      "1500\n",
      "1550\n",
      "1600\n",
      "1650\n",
      "1700\n",
      "1750\n",
      "1800\n",
      "1850\n",
      "1900\n",
      "1950\n",
      "2000\n",
      "2050\n",
      "2100\n",
      "2150\n",
      "2200\n",
      "2250\n",
      "2300\n",
      "2350\n",
      "2400\n",
      "2450\n",
      "2500\n",
      "2550\n",
      "2600\n",
      "2650\n",
      "2700\n",
      "2750\n",
      "2800\n",
      "2850\n",
      "2900\n",
      "2950\n",
      "3000\n",
      "3050\n",
      "3100\n",
      "3150\n",
      "3200\n",
      "3250\n",
      "3300\n",
      "3350\n",
      "3400\n",
      "3450\n",
      "3500\n",
      "3550\n",
      "3600\n",
      "3650\n",
      "3700\n",
      "3750\n",
      "3800\n",
      "3850\n",
      "3900\n",
      "3950\n",
      "4000\n",
      "4050\n",
      "4100\n",
      "4150\n",
      "4200\n",
      "4250\n",
      "4300\n",
      "4350\n",
      "4400\n",
      "4450\n",
      "4500\n",
      "4550\n",
      "4600\n",
      "4650\n",
      "4700\n",
      "4750\n",
      "4800\n",
      "4850\n",
      "4900\n",
      "4950\n",
      "5000\n",
      "1\n",
      "1\n",
      "5040\n",
      "0\n",
      "50\n",
      "100\n",
      "150\n",
      "200\n",
      "250\n",
      "300\n",
      "350\n",
      "400\n",
      "450\n",
      "500\n",
      "550\n",
      "600\n",
      "650\n",
      "700\n",
      "750\n",
      "800\n",
      "850\n",
      "900\n",
      "950\n",
      "1000\n",
      "1050\n",
      "1100\n",
      "1150\n",
      "1200\n",
      "1250\n",
      "1300\n",
      "1350\n",
      "1400\n",
      "1450\n",
      "1500\n",
      "1550\n",
      "1600\n",
      "1650\n",
      "1700\n",
      "1750\n",
      "1800\n",
      "1850\n",
      "1900\n",
      "1950\n",
      "2000\n",
      "2050\n",
      "2100\n",
      "2150\n",
      "2200\n",
      "2250\n",
      "2300\n",
      "2350\n",
      "2400\n",
      "2450\n",
      "2500\n",
      "2550\n",
      "2600\n",
      "2650\n",
      "2700\n",
      "2750\n",
      "2800\n",
      "2850\n",
      "2900\n",
      "2950\n",
      "3000\n",
      "3050\n",
      "3100\n",
      "3150\n",
      "3200\n",
      "3250\n",
      "3300\n",
      "3350\n",
      "3400\n",
      "3450\n",
      "3500\n",
      "3550\n",
      "3600\n",
      "3650\n",
      "3700\n",
      "3750\n",
      "3800\n",
      "3850\n",
      "3900\n",
      "3950\n",
      "4000\n",
      "4050\n",
      "4100\n",
      "4150\n",
      "4200\n",
      "4250\n",
      "4300\n",
      "4350\n",
      "4400\n",
      "4450\n",
      "4500\n",
      "4550\n",
      "4600\n",
      "4650\n",
      "4700\n",
      "4750\n",
      "4800\n",
      "4850\n",
      "4900\n",
      "4950\n",
      "5000\n",
      "5040\n",
      "0\n",
      "50\n",
      "100\n",
      "150\n",
      "200\n",
      "250\n",
      "300\n",
      "350\n",
      "400\n",
      "450\n",
      "500\n",
      "550\n",
      "600\n",
      "650\n",
      "700\n",
      "750\n",
      "800\n",
      "850\n",
      "900\n",
      "950\n",
      "1000\n",
      "1050\n",
      "1100\n",
      "1150\n",
      "1200\n",
      "1250\n",
      "1300\n",
      "1350\n",
      "1400\n",
      "1450\n",
      "1500\n",
      "1550\n",
      "1600\n",
      "1650\n",
      "1700\n",
      "1750\n",
      "1800\n",
      "1850\n",
      "1900\n",
      "1950\n",
      "2000\n",
      "2050\n",
      "2100\n",
      "2150\n",
      "2200\n",
      "2250\n",
      "2300\n",
      "2350\n",
      "2400\n",
      "2450\n",
      "2500\n",
      "2550\n",
      "2600\n",
      "2650\n",
      "2700\n",
      "2750\n",
      "2800\n",
      "2850\n",
      "2900\n",
      "2950\n",
      "3000\n",
      "3050\n",
      "3100\n",
      "3150\n",
      "3200\n",
      "3250\n",
      "3300\n",
      "3350\n",
      "3400\n",
      "3450\n",
      "3500\n",
      "3550\n",
      "3600\n",
      "3650\n",
      "3700\n",
      "3750\n",
      "3800\n",
      "3850\n",
      "3900\n",
      "3950\n",
      "4000\n",
      "4050\n",
      "4100\n",
      "4150\n",
      "4200\n",
      "4250\n",
      "4300\n",
      "4350\n",
      "4400\n",
      "4450\n",
      "4500\n",
      "4550\n",
      "4600\n",
      "4650\n",
      "4700\n",
      "4750\n",
      "4800\n",
      "4850\n",
      "4900\n",
      "4950\n",
      "5000\n",
      "5040\n",
      "0\n",
      "50\n",
      "100\n",
      "150\n",
      "200\n",
      "250\n",
      "300\n",
      "350\n",
      "400\n",
      "450\n",
      "500\n",
      "550\n",
      "600\n",
      "650\n",
      "700\n",
      "750\n",
      "800\n",
      "850\n",
      "900\n",
      "950\n",
      "1000\n",
      "1050\n",
      "1100\n",
      "1150\n",
      "1200\n",
      "1250\n",
      "1300\n",
      "1350\n",
      "1400\n",
      "1450\n",
      "1500\n",
      "1550\n",
      "1600\n",
      "1650\n",
      "1700\n",
      "1750\n",
      "1800\n",
      "1850\n",
      "1900\n",
      "1950\n",
      "2000\n",
      "2050\n",
      "2100\n",
      "2150\n",
      "2200\n",
      "2250\n",
      "2300\n",
      "2350\n",
      "2400\n",
      "2450\n",
      "2500\n",
      "2550\n",
      "2600\n",
      "2650\n",
      "2700\n",
      "2750\n",
      "2800\n",
      "2850\n",
      "2900\n",
      "2950\n",
      "3000\n",
      "3050\n",
      "3100\n",
      "3150\n",
      "3200\n",
      "3250\n",
      "3300\n",
      "3350\n",
      "3400\n",
      "3450\n",
      "3500\n",
      "3550\n",
      "3600\n",
      "3650\n",
      "3700\n",
      "3750\n",
      "3800\n",
      "3850\n",
      "3900\n",
      "3950\n",
      "4000\n",
      "4050\n",
      "4100\n",
      "4150\n",
      "4200\n",
      "4250\n",
      "4300\n",
      "4350\n",
      "4400\n",
      "4450\n",
      "4500\n",
      "4550\n",
      "4600\n",
      "4650\n",
      "4700\n",
      "4750\n",
      "4800\n",
      "4850\n",
      "4900\n",
      "4950\n",
      "5000\n",
      "1\n",
      "1\n",
      "5040\n",
      "0\n",
      "50\n",
      "100\n",
      "150\n",
      "200\n",
      "250\n",
      "300\n",
      "350\n",
      "400\n",
      "450\n",
      "500\n",
      "550\n",
      "600\n",
      "650\n",
      "700\n",
      "750\n",
      "800\n",
      "850\n",
      "900\n",
      "950\n",
      "1000\n",
      "1050\n",
      "1100\n",
      "1150\n",
      "1200\n",
      "1250\n",
      "1300\n",
      "1350\n",
      "1400\n",
      "1450\n",
      "1500\n",
      "1550\n",
      "1600\n",
      "1650\n",
      "1700\n",
      "1750\n",
      "1800\n",
      "1850\n",
      "1900\n",
      "1950\n",
      "2000\n",
      "2050\n",
      "2100\n",
      "2150\n",
      "2200\n",
      "2250\n",
      "2300\n",
      "2350\n",
      "2400\n",
      "2450\n",
      "2500\n",
      "2550\n",
      "2600\n",
      "2650\n",
      "2700\n",
      "2750\n",
      "2800\n",
      "2850\n",
      "2900\n",
      "2950\n",
      "3000\n",
      "3050\n",
      "3100\n",
      "3150\n",
      "3200\n",
      "3250\n",
      "3300\n",
      "3350\n",
      "3400\n",
      "3450\n",
      "3500\n",
      "3550\n",
      "3600\n",
      "3650\n",
      "3700\n",
      "3750\n",
      "3800\n",
      "3850\n",
      "3900\n",
      "3950\n",
      "4000\n",
      "4050\n",
      "4100\n",
      "4150\n",
      "4200\n",
      "4250\n",
      "4300\n",
      "4350\n",
      "4400\n",
      "4450\n",
      "4500\n",
      "4550\n",
      "4600\n",
      "4650\n",
      "4700\n",
      "4750\n",
      "4800\n",
      "4850\n",
      "4900\n",
      "4950\n",
      "5000\n",
      "5040\n",
      "0\n",
      "50\n",
      "100\n",
      "150\n",
      "200\n",
      "250\n",
      "300\n",
      "350\n",
      "400\n",
      "450\n",
      "500\n",
      "550\n",
      "600\n",
      "650\n",
      "700\n",
      "750\n",
      "800\n",
      "850\n",
      "900\n",
      "950\n",
      "1000\n",
      "1050\n",
      "1100\n",
      "1150\n",
      "1200\n",
      "1250\n",
      "1300\n",
      "1350\n",
      "1400\n",
      "1450\n",
      "1500\n",
      "1550\n",
      "1600\n",
      "1650\n",
      "1700\n",
      "1750\n",
      "1800\n",
      "1850\n",
      "1900\n",
      "1950\n",
      "2000\n",
      "2050\n",
      "2100\n",
      "2150\n",
      "2200\n",
      "2250\n",
      "2300\n",
      "2350\n",
      "2400\n",
      "2450\n",
      "2500\n",
      "2550\n",
      "2600\n",
      "2650\n",
      "2700\n",
      "2750\n",
      "2800\n",
      "2850\n",
      "2900\n",
      "2950\n",
      "3000\n",
      "3050\n",
      "3100\n",
      "3150\n",
      "3200\n",
      "3250\n",
      "3300\n",
      "3350\n",
      "3400\n",
      "3450\n",
      "3500\n",
      "3550\n",
      "3600\n",
      "3650\n",
      "3700\n",
      "3750\n",
      "3800\n",
      "3850\n",
      "3900\n",
      "3950\n",
      "4000\n",
      "4050\n",
      "4100\n",
      "4150\n",
      "4200\n",
      "4250\n",
      "4300\n",
      "4350\n",
      "4400\n",
      "4450\n",
      "4500\n",
      "4550\n",
      "4600\n",
      "4650\n",
      "4700\n",
      "4750\n",
      "4800\n",
      "4850\n",
      "4900\n",
      "4950\n",
      "5000\n",
      "5040\n",
      "0\n",
      "50\n",
      "100\n",
      "150\n",
      "200\n",
      "250\n",
      "300\n",
      "350\n",
      "400\n",
      "450\n",
      "500\n",
      "550\n",
      "600\n",
      "650\n",
      "700\n",
      "750\n",
      "800\n",
      "850\n",
      "900\n",
      "950\n",
      "1000\n",
      "1050\n",
      "1100\n",
      "1150\n",
      "1200\n",
      "1250\n",
      "1300\n",
      "1350\n",
      "1400\n",
      "1450\n",
      "1500\n",
      "1550\n",
      "1600\n",
      "1650\n",
      "1700\n",
      "1750\n",
      "1800\n",
      "1850\n",
      "1900\n",
      "1950\n",
      "2000\n",
      "2050\n",
      "2100\n",
      "2150\n",
      "2200\n",
      "2250\n",
      "2300\n",
      "2350\n",
      "2400\n",
      "2450\n",
      "2500\n",
      "2550\n",
      "2600\n",
      "2650\n",
      "2700\n",
      "2750\n",
      "2800\n",
      "2850\n",
      "2900\n",
      "2950\n",
      "3000\n",
      "3050\n",
      "3100\n",
      "3150\n",
      "3200\n",
      "3250\n",
      "3300\n",
      "3350\n",
      "3400\n",
      "3450\n",
      "3500\n",
      "3550\n",
      "3600\n",
      "3650\n",
      "3700\n",
      "3750\n",
      "3800\n",
      "3850\n",
      "3900\n",
      "3950\n",
      "4000\n",
      "4050\n",
      "4100\n",
      "4150\n",
      "4200\n",
      "4250\n",
      "4300\n",
      "4350\n",
      "4400\n",
      "4450\n",
      "4500\n",
      "4550\n",
      "4600\n",
      "4650\n",
      "4700\n",
      "4750\n",
      "4800\n",
      "4850\n",
      "4900\n",
      "4950\n",
      "5000\n",
      "1\n",
      "5040\n",
      "0\n",
      "50\n",
      "100\n",
      "150\n",
      "200\n",
      "250\n",
      "300\n",
      "350\n",
      "400\n",
      "450\n",
      "500\n",
      "550\n",
      "600\n",
      "650\n",
      "700\n",
      "750\n",
      "800\n",
      "850\n",
      "900\n",
      "950\n",
      "1000\n",
      "1050\n",
      "1100\n",
      "1150\n",
      "1200\n",
      "1250\n",
      "1300\n",
      "1350\n",
      "1400\n",
      "1450\n",
      "1500\n",
      "1550\n",
      "1600\n",
      "1650\n",
      "1700\n",
      "1750\n",
      "1800\n",
      "1850\n",
      "1900\n",
      "1950\n",
      "2000\n",
      "2050\n",
      "2100\n",
      "2150\n",
      "2200\n",
      "2250\n",
      "2300\n",
      "2350\n",
      "2400\n",
      "2450\n",
      "2500\n",
      "2550\n",
      "2600\n",
      "2650\n",
      "2700\n",
      "2750\n",
      "2800\n",
      "2850\n",
      "2900\n",
      "2950\n",
      "3000\n",
      "3050\n",
      "3100\n",
      "3150\n",
      "3200\n",
      "3250\n",
      "3300\n",
      "3350\n",
      "3400\n",
      "3450\n",
      "3500\n",
      "3550\n",
      "3600\n",
      "3650\n",
      "3700\n",
      "3750\n",
      "3800\n",
      "3850\n",
      "3900\n",
      "3950\n",
      "4000\n",
      "4050\n",
      "4100\n",
      "4150\n",
      "4200\n",
      "4250\n",
      "4300\n",
      "4350\n",
      "4400\n",
      "4450\n",
      "4500\n",
      "4550\n",
      "4600\n",
      "4650\n",
      "4700\n",
      "4750\n",
      "4800\n",
      "4850\n",
      "4900\n",
      "4950\n",
      "5000\n",
      "5040\n",
      "0\n",
      "50\n",
      "100\n",
      "150\n",
      "200\n",
      "250\n",
      "300\n",
      "350\n",
      "400\n",
      "450\n",
      "500\n",
      "550\n",
      "600\n",
      "650\n",
      "700\n",
      "750\n",
      "800\n",
      "850\n",
      "900\n",
      "950\n",
      "1000\n",
      "1050\n",
      "1100\n",
      "1150\n",
      "1200\n",
      "1250\n",
      "1300\n",
      "1350\n",
      "1400\n",
      "1450\n",
      "1500\n",
      "1550\n",
      "1600\n",
      "1650\n",
      "1700\n",
      "1750\n",
      "1800\n",
      "1850\n",
      "1900\n",
      "1950\n",
      "2000\n",
      "2050\n",
      "2100\n",
      "2150\n",
      "2200\n",
      "2250\n",
      "2300\n",
      "2350\n",
      "2400\n",
      "2450\n",
      "2500\n",
      "2550\n",
      "2600\n",
      "2650\n",
      "2700\n",
      "2750\n",
      "2800\n",
      "2850\n",
      "2900\n",
      "2950\n",
      "3000\n",
      "3050\n",
      "3100\n",
      "3150\n",
      "3200\n",
      "3250\n",
      "3300\n",
      "3350\n",
      "3400\n",
      "3450\n",
      "3500\n",
      "3550\n",
      "3600\n",
      "3650\n",
      "3700\n",
      "3750\n",
      "3800\n",
      "3850\n",
      "3900\n",
      "3950\n",
      "4000\n",
      "4050\n",
      "4100\n",
      "4150\n",
      "4200\n",
      "4250\n",
      "4300\n",
      "4350\n",
      "4400\n",
      "4450\n",
      "4500\n",
      "4550\n",
      "4600\n",
      "4650\n",
      "4700\n",
      "4750\n",
      "4800\n",
      "4850\n",
      "4900\n",
      "4950\n",
      "5000\n",
      "5040\n",
      "0\n",
      "50\n",
      "100\n",
      "150\n",
      "200\n",
      "250\n",
      "300\n",
      "350\n",
      "400\n",
      "450\n",
      "500\n",
      "550\n",
      "600\n",
      "650\n",
      "700\n",
      "750\n",
      "800\n",
      "850\n",
      "900\n",
      "950\n",
      "1000\n",
      "1050\n",
      "1100\n",
      "1150\n",
      "1200\n",
      "1250\n",
      "1300\n",
      "1350\n",
      "1400\n",
      "1450\n",
      "1500\n",
      "1550\n",
      "1600\n",
      "1650\n",
      "1700\n",
      "1750\n",
      "1800\n",
      "1850\n",
      "1900\n",
      "1950\n",
      "2000\n",
      "2050\n",
      "2100\n",
      "2150\n",
      "2200\n",
      "2250\n",
      "2300\n",
      "2350\n",
      "2400\n",
      "2450\n",
      "2500\n",
      "2550\n",
      "2600\n",
      "2650\n",
      "2700\n",
      "2750\n",
      "2800\n",
      "2850\n",
      "2900\n",
      "2950\n",
      "3000\n",
      "3050\n",
      "3100\n",
      "3150\n",
      "3200\n",
      "3250\n",
      "3300\n",
      "3350\n",
      "3400\n",
      "3450\n",
      "3500\n",
      "3550\n",
      "3600\n",
      "3650\n",
      "3700\n",
      "3750\n",
      "3800\n",
      "3850\n",
      "3900\n",
      "3950\n",
      "4000\n",
      "4050\n",
      "4100\n",
      "4150\n",
      "4200\n",
      "4250\n",
      "4300\n",
      "4350\n",
      "4400\n",
      "4450\n",
      "4500\n",
      "4550\n",
      "4600\n",
      "4650\n",
      "4700\n",
      "4750\n",
      "4800\n",
      "4850\n",
      "4900\n",
      "4950\n",
      "5000\n",
      "5040\n",
      "0\n",
      "50\n",
      "100\n",
      "150\n",
      "200\n",
      "250\n",
      "300\n",
      "350\n",
      "400\n",
      "450\n",
      "500\n",
      "550\n",
      "600\n",
      "650\n",
      "700\n",
      "750\n",
      "800\n",
      "850\n",
      "900\n",
      "950\n",
      "1000\n",
      "1050\n",
      "1100\n",
      "1150\n",
      "1200\n",
      "1250\n",
      "1300\n",
      "1350\n",
      "1400\n",
      "1450\n",
      "1500\n",
      "1550\n",
      "1600\n",
      "1650\n",
      "1700\n",
      "1750\n",
      "1800\n",
      "1850\n",
      "1900\n",
      "1950\n",
      "2000\n",
      "2050\n",
      "2100\n",
      "2150\n",
      "2200\n",
      "2250\n",
      "2300\n",
      "2350\n",
      "2400\n",
      "2450\n",
      "2500\n",
      "2550\n",
      "2600\n",
      "2650\n",
      "2700\n",
      "2750\n",
      "2800\n",
      "2850\n",
      "2900\n",
      "2950\n",
      "3000\n",
      "3050\n",
      "3100\n",
      "3150\n",
      "3200\n",
      "3250\n",
      "3300\n",
      "3350\n",
      "3400\n",
      "3450\n",
      "3500\n",
      "3550\n",
      "3600\n",
      "3650\n",
      "3700\n",
      "3750\n",
      "3800\n",
      "3850\n",
      "3900\n",
      "3950\n",
      "4000\n"
     ]
    },
    {
     "name": "stdout",
     "output_type": "stream",
     "text": [
      "4050\n",
      "4100\n",
      "4150\n",
      "4200\n",
      "4250\n",
      "4300\n",
      "4350\n",
      "4400\n",
      "4450\n",
      "4500\n",
      "4550\n",
      "4600\n",
      "4650\n",
      "4700\n",
      "4750\n",
      "4800\n",
      "4850\n",
      "4900\n",
      "4950\n",
      "5000\n",
      "5040\n",
      "0\n",
      "50\n",
      "100\n",
      "150\n",
      "200\n",
      "250\n",
      "300\n",
      "350\n",
      "400\n",
      "450\n",
      "500\n",
      "550\n",
      "600\n",
      "650\n",
      "700\n",
      "750\n",
      "800\n",
      "850\n",
      "900\n",
      "950\n",
      "1000\n",
      "1050\n",
      "1100\n",
      "1150\n",
      "1200\n",
      "1250\n",
      "1300\n",
      "1350\n",
      "1400\n",
      "1450\n",
      "1500\n",
      "1550\n",
      "1600\n",
      "1650\n",
      "1700\n",
      "1750\n",
      "1800\n",
      "1850\n",
      "1900\n",
      "1950\n",
      "2000\n",
      "2050\n",
      "2100\n",
      "2150\n",
      "2200\n",
      "2250\n",
      "2300\n",
      "2350\n",
      "2400\n",
      "2450\n",
      "2500\n",
      "2550\n",
      "2600\n",
      "2650\n",
      "2700\n",
      "2750\n",
      "2800\n",
      "2850\n",
      "2900\n",
      "2950\n",
      "3000\n",
      "3050\n",
      "3100\n",
      "3150\n",
      "3200\n",
      "3250\n",
      "3300\n",
      "3350\n",
      "3400\n",
      "3450\n",
      "3500\n",
      "3550\n",
      "3600\n",
      "3650\n",
      "3700\n",
      "3750\n",
      "3800\n",
      "3850\n",
      "3900\n",
      "3950\n",
      "4000\n",
      "4050\n",
      "4100\n",
      "4150\n",
      "4200\n",
      "4250\n",
      "4300\n",
      "4350\n",
      "4400\n",
      "4450\n",
      "4500\n",
      "4550\n",
      "4600\n",
      "4650\n",
      "4700\n",
      "4750\n",
      "4800\n",
      "4850\n",
      "4900\n",
      "4950\n",
      "5000\n",
      "5040\n",
      "0\n",
      "50\n",
      "100\n",
      "150\n",
      "200\n",
      "250\n",
      "300\n",
      "350\n",
      "400\n",
      "450\n",
      "500\n",
      "550\n",
      "600\n",
      "650\n",
      "700\n",
      "750\n",
      "800\n",
      "850\n",
      "900\n",
      "950\n",
      "1000\n",
      "1050\n",
      "1100\n",
      "1150\n",
      "1200\n",
      "1250\n",
      "1300\n",
      "1350\n",
      "1400\n",
      "1450\n",
      "1500\n",
      "1550\n",
      "1600\n",
      "1650\n",
      "1700\n",
      "1750\n",
      "1800\n",
      "1850\n",
      "1900\n",
      "1950\n",
      "2000\n",
      "2050\n",
      "2100\n",
      "2150\n",
      "2200\n",
      "2250\n",
      "2300\n",
      "2350\n",
      "2400\n",
      "2450\n",
      "2500\n",
      "2550\n",
      "2600\n",
      "2650\n",
      "2700\n",
      "2750\n",
      "2800\n",
      "2850\n",
      "2900\n",
      "2950\n",
      "3000\n",
      "3050\n",
      "3100\n",
      "3150\n",
      "3200\n",
      "3250\n",
      "3300\n",
      "3350\n",
      "3400\n",
      "3450\n",
      "3500\n",
      "3550\n",
      "3600\n",
      "3650\n",
      "3700\n",
      "3750\n",
      "3800\n",
      "3850\n",
      "3900\n",
      "3950\n",
      "4000\n",
      "4050\n",
      "4100\n",
      "4150\n",
      "4200\n",
      "4250\n",
      "4300\n",
      "4350\n",
      "4400\n",
      "4450\n",
      "4500\n",
      "4550\n",
      "4600\n",
      "4650\n",
      "4700\n",
      "4750\n",
      "4800\n",
      "4850\n",
      "4900\n",
      "4950\n",
      "5000\n",
      "5040\n",
      "0\n",
      "50\n",
      "100\n",
      "150\n",
      "200\n",
      "250\n",
      "300\n",
      "350\n",
      "400\n",
      "450\n",
      "500\n",
      "550\n",
      "600\n",
      "650\n",
      "700\n",
      "750\n",
      "800\n",
      "850\n",
      "900\n",
      "950\n",
      "1000\n",
      "1050\n",
      "1100\n",
      "1150\n",
      "1200\n",
      "1250\n",
      "1300\n",
      "1350\n",
      "1400\n",
      "1450\n",
      "1500\n",
      "1550\n",
      "1600\n",
      "1650\n",
      "1700\n",
      "1750\n",
      "1800\n",
      "1850\n",
      "1900\n",
      "1950\n",
      "2000\n",
      "2050\n",
      "2100\n",
      "2150\n",
      "2200\n",
      "2250\n",
      "2300\n",
      "2350\n",
      "2400\n",
      "2450\n",
      "2500\n",
      "2550\n",
      "2600\n",
      "2650\n",
      "2700\n",
      "2750\n",
      "2800\n",
      "2850\n",
      "2900\n",
      "2950\n",
      "3000\n",
      "3050\n",
      "3100\n",
      "3150\n",
      "3200\n",
      "3250\n",
      "3300\n",
      "3350\n",
      "3400\n",
      "3450\n",
      "3500\n",
      "3550\n",
      "3600\n",
      "3650\n",
      "3700\n",
      "3750\n",
      "3800\n",
      "3850\n",
      "3900\n",
      "3950\n",
      "4000\n",
      "4050\n",
      "4100\n",
      "4150\n",
      "4200\n",
      "4250\n",
      "4300\n",
      "4350\n",
      "4400\n",
      "4450\n",
      "4500\n",
      "4550\n",
      "4600\n",
      "4650\n",
      "4700\n",
      "4750\n",
      "4800\n",
      "4850\n",
      "4900\n",
      "4950\n",
      "5000\n",
      "5040\n",
      "0\n",
      "50\n",
      "100\n",
      "150\n",
      "200\n",
      "250\n",
      "300\n",
      "350\n",
      "400\n",
      "450\n",
      "500\n",
      "550\n",
      "600\n",
      "650\n",
      "700\n",
      "750\n",
      "800\n",
      "850\n",
      "900\n",
      "950\n",
      "1000\n",
      "1050\n",
      "1100\n",
      "1150\n",
      "1200\n",
      "1250\n",
      "1300\n",
      "1350\n",
      "1400\n",
      "1450\n",
      "1500\n",
      "1550\n",
      "1600\n",
      "1650\n",
      "1700\n",
      "1750\n",
      "1800\n",
      "1850\n",
      "1900\n",
      "1950\n",
      "2000\n",
      "2050\n",
      "2100\n",
      "2150\n",
      "2200\n",
      "2250\n",
      "2300\n",
      "2350\n",
      "2400\n",
      "2450\n",
      "2500\n",
      "2550\n",
      "2600\n",
      "2650\n",
      "2700\n",
      "2750\n",
      "2800\n",
      "2850\n",
      "2900\n",
      "2950\n",
      "3000\n",
      "3050\n",
      "3100\n",
      "3150\n",
      "3200\n",
      "3250\n",
      "3300\n",
      "3350\n",
      "3400\n",
      "3450\n",
      "3500\n",
      "3550\n",
      "3600\n",
      "3650\n",
      "3700\n",
      "3750\n",
      "3800\n",
      "3850\n",
      "3900\n",
      "3950\n",
      "4000\n",
      "4050\n",
      "4100\n",
      "4150\n",
      "4200\n",
      "4250\n",
      "4300\n",
      "4350\n",
      "4400\n",
      "4450\n",
      "4500\n",
      "4550\n",
      "4600\n",
      "4650\n",
      "4700\n",
      "4750\n",
      "4800\n",
      "4850\n",
      "4900\n",
      "4950\n",
      "5000\n",
      "5040\n",
      "0\n",
      "50\n",
      "100\n",
      "150\n",
      "200\n",
      "250\n",
      "300\n",
      "350\n",
      "400\n",
      "450\n",
      "500\n",
      "550\n",
      "600\n",
      "650\n",
      "700\n",
      "750\n",
      "800\n",
      "850\n",
      "900\n",
      "950\n",
      "1000\n",
      "1050\n",
      "1100\n",
      "1150\n",
      "1200\n",
      "1250\n",
      "1300\n",
      "1350\n",
      "1400\n",
      "1450\n",
      "1500\n",
      "1550\n",
      "1600\n",
      "1650\n",
      "1700\n",
      "1750\n",
      "1800\n",
      "1850\n",
      "1900\n",
      "1950\n",
      "2000\n",
      "2050\n",
      "2100\n",
      "2150\n",
      "2200\n",
      "2250\n",
      "2300\n",
      "2350\n",
      "2400\n",
      "2450\n",
      "2500\n",
      "2550\n",
      "2600\n",
      "2650\n",
      "2700\n",
      "2750\n",
      "2800\n",
      "2850\n",
      "2900\n",
      "2950\n",
      "3000\n",
      "3050\n",
      "3100\n",
      "3150\n",
      "3200\n",
      "3250\n",
      "3300\n",
      "3350\n",
      "3400\n",
      "3450\n",
      "3500\n",
      "3550\n",
      "3600\n",
      "3650\n",
      "3700\n",
      "3750\n",
      "3800\n",
      "3850\n",
      "3900\n",
      "3950\n",
      "4000\n",
      "4050\n",
      "4100\n",
      "4150\n",
      "4200\n",
      "4250\n",
      "4300\n",
      "4350\n",
      "4400\n",
      "4450\n",
      "4500\n",
      "4550\n",
      "4600\n",
      "4650\n",
      "4700\n",
      "4750\n",
      "4800\n",
      "4850\n",
      "4900\n",
      "4950\n",
      "5000\n",
      "1\n",
      "1\n",
      "5040\n",
      "0\n",
      "50\n",
      "100\n",
      "150\n",
      "200\n",
      "250\n",
      "300\n",
      "350\n",
      "400\n",
      "450\n",
      "500\n",
      "550\n",
      "600\n",
      "650\n",
      "700\n",
      "750\n",
      "800\n",
      "850\n",
      "900\n",
      "950\n",
      "1000\n",
      "1050\n",
      "1100\n",
      "1150\n",
      "1200\n",
      "1250\n",
      "1300\n",
      "1350\n",
      "1400\n",
      "1450\n",
      "1500\n",
      "1550\n",
      "1600\n",
      "1650\n",
      "1700\n",
      "1750\n",
      "1800\n",
      "1850\n",
      "1900\n",
      "1950\n",
      "2000\n",
      "2050\n",
      "2100\n",
      "2150\n",
      "2200\n",
      "2250\n",
      "2300\n",
      "2350\n",
      "2400\n",
      "2450\n",
      "2500\n",
      "2550\n",
      "2600\n",
      "2650\n",
      "2700\n",
      "2750\n",
      "2800\n",
      "2850\n",
      "2900\n",
      "2950\n",
      "3000\n",
      "3050\n",
      "3100\n",
      "3150\n",
      "3200\n",
      "3250\n",
      "3300\n",
      "3350\n",
      "3400\n",
      "3450\n",
      "3500\n",
      "3550\n",
      "3600\n",
      "3650\n",
      "3700\n",
      "3750\n",
      "3800\n",
      "3850\n",
      "3900\n",
      "3950\n",
      "4000\n",
      "4050\n",
      "4100\n",
      "4150\n",
      "4200\n",
      "4250\n",
      "4300\n",
      "4350\n",
      "4400\n",
      "4450\n",
      "4500\n",
      "4550\n",
      "4600\n",
      "4650\n",
      "4700\n",
      "4750\n",
      "4800\n",
      "4850\n",
      "4900\n",
      "4950\n",
      "5000\n",
      "5040\n",
      "0\n",
      "50\n",
      "100\n",
      "150\n",
      "200\n",
      "250\n",
      "300\n",
      "350\n",
      "400\n",
      "450\n",
      "500\n",
      "550\n",
      "600\n",
      "650\n",
      "700\n",
      "750\n",
      "800\n",
      "850\n",
      "900\n",
      "950\n",
      "1000\n",
      "1050\n",
      "1100\n",
      "1150\n",
      "1200\n",
      "1250\n",
      "1300\n",
      "1350\n",
      "1400\n",
      "1450\n",
      "1500\n",
      "1550\n",
      "1600\n",
      "1650\n",
      "1700\n",
      "1750\n",
      "1800\n",
      "1850\n",
      "1900\n",
      "1950\n",
      "2000\n",
      "2050\n",
      "2100\n",
      "2150\n",
      "2200\n",
      "2250\n",
      "2300\n",
      "2350\n",
      "2400\n",
      "2450\n",
      "2500\n",
      "2550\n",
      "2600\n",
      "2650\n",
      "2700\n",
      "2750\n",
      "2800\n",
      "2850\n",
      "2900\n",
      "2950\n",
      "3000\n",
      "3050\n",
      "3100\n",
      "3150\n",
      "3200\n",
      "3250\n",
      "3300\n",
      "3350\n",
      "3400\n",
      "3450\n",
      "3500\n",
      "3550\n",
      "3600\n",
      "3650\n",
      "3700\n",
      "3750\n",
      "3800\n",
      "3850\n",
      "3900\n",
      "3950\n",
      "4000\n",
      "4050\n",
      "4100\n",
      "4150\n",
      "4200\n",
      "4250\n",
      "4300\n",
      "4350\n",
      "4400\n",
      "4450\n",
      "4500\n",
      "4550\n",
      "4600\n",
      "4650\n",
      "4700\n",
      "4750\n",
      "4800\n",
      "4850\n",
      "4900\n",
      "4950\n",
      "5000\n"
     ]
    }
   ],
   "source": [
    "dy_dvars = []\n",
    "for var in (a,b,c,d,e,f,g):\n",
    "    print(\"diffing_y_against_var_{}\".format(str(var)))\n",
    "    dy_dvars.append(sympy.simplify(rcollect_best(sympy.diff(y_as_x.subs({x:xx}), var))))"
   ]
  },
  {
   "cell_type": "code",
   "execution_count": 1876,
   "metadata": {},
   "outputs": [
    {
     "data": {
      "text/latex": [
       "$\\displaystyle \\frac{f \\left(e \\frac{\\partial}{\\partial b} \\operatorname{xx}{\\left(a,b,c,d,e,f,g \\right)} + \\operatorname{xx}^{2}{\\left(a,b,c,d,e,f,g \\right)}\\right)}{\\left(a \\operatorname{xx}{\\left(a,b,c,d,e,f,g \\right)} - b \\operatorname{xx}{\\left(a,b,c,d,e,f,g \\right)} + e\\right)^{2}}$"
      ],
      "text/plain": [
       "f*(e*Derivative(xx(a, b, c, d, e, f, g), b) + xx(a, b, c, d, e, f, g)**2)/(a*xx(a, b, c, d, e, f, g) - b*xx(a, b, c, d, e, f, g) + e)**2"
      ]
     },
     "execution_count": 1876,
     "metadata": {},
     "output_type": "execute_result"
    }
   ],
   "source": [
    "dy_dvars[1]"
   ]
  },
  {
   "cell_type": "code",
   "execution_count": null,
   "metadata": {},
   "outputs": [],
   "source": []
  },
  {
   "cell_type": "code",
   "execution_count": null,
   "metadata": {},
   "outputs": [],
   "source": []
  },
  {
   "cell_type": "code",
   "execution_count": 1830,
   "metadata": {},
   "outputs": [],
   "source": [
    "blah = sympy.solve(sympy.diff(bigQ.subs({x:xx}), a), sympy.diff(xx,a))"
   ]
  },
  {
   "cell_type": "code",
   "execution_count": 1845,
   "metadata": {},
   "outputs": [],
   "source": [
    "wah,hah = sympy.fraction(blah[0])"
   ]
  },
  {
   "cell_type": "code",
   "execution_count": 1846,
   "metadata": {},
   "outputs": [],
   "source": [
    "wah = sympy.poly(wah, xx)"
   ]
  },
  {
   "cell_type": "code",
   "execution_count": 1851,
   "metadata": {},
   "outputs": [
    {
     "data": {
      "text/latex": [
       "$\\displaystyle - \\left(5 a^{4} \\operatorname{xx}^{5}{\\left(a,b,c,d,e,f,g \\right)} - 8 a^{3} b \\operatorname{xx}^{5}{\\left(a,b,c,d,e,f,g \\right)} - 8 a^{3} c \\operatorname{xx}^{5}{\\left(a,b,c,d,e,f,g \\right)} + 4 a^{3} d \\operatorname{xx}^{3}{\\left(a,b,c,d,e,f,g \\right)} + 24 a^{3} e \\operatorname{xx}^{4}{\\left(a,b,c,d,e,f,g \\right)} + 3 a^{2} b^{2} \\operatorname{xx}^{5}{\\left(a,b,c,d,e,f,g \\right)} + 12 a^{2} b c \\operatorname{xx}^{5}{\\left(a,b,c,d,e,f,g \\right)} - 6 a^{2} b d \\operatorname{xx}^{3}{\\left(a,b,c,d,e,f,g \\right)} - 30 a^{2} b e \\operatorname{xx}^{4}{\\left(a,b,c,d,e,f,g \\right)} + 3 a^{2} c^{2} \\operatorname{xx}^{5}{\\left(a,b,c,d,e,f,g \\right)} - 6 a^{2} c d \\operatorname{xx}^{3}{\\left(a,b,c,d,e,f,g \\right)} - 30 a^{2} c e \\operatorname{xx}^{4}{\\left(a,b,c,d,e,f,g \\right)} + 12 a^{2} d e \\operatorname{xx}^{2}{\\left(a,b,c,d,e,f,g \\right)} + 42 a^{2} e^{2} \\operatorname{xx}^{3}{\\left(a,b,c,d,e,f,g \\right)} + 6 a^{2} f^{2} \\operatorname{xx}^{3}{\\left(a,b,c,d,e,f,g \\right)} + 6 a^{2} g^{2} \\operatorname{xx}^{3}{\\left(a,b,c,d,e,f,g \\right)} - 4 a b^{2} c \\operatorname{xx}^{5}{\\left(a,b,c,d,e,f,g \\right)} + 2 a b^{2} d \\operatorname{xx}^{3}{\\left(a,b,c,d,e,f,g \\right)} + 8 a b^{2} e \\operatorname{xx}^{4}{\\left(a,b,c,d,e,f,g \\right)} - 4 a b c^{2} \\operatorname{xx}^{5}{\\left(a,b,c,d,e,f,g \\right)} + 8 a b c d \\operatorname{xx}^{3}{\\left(a,b,c,d,e,f,g \\right)} + 32 a b c e \\operatorname{xx}^{4}{\\left(a,b,c,d,e,f,g \\right)} - 12 a b d e \\operatorname{xx}^{2}{\\left(a,b,c,d,e,f,g \\right)} - 36 a b e^{2} \\operatorname{xx}^{3}{\\left(a,b,c,d,e,f,g \\right)} - 2 a b f^{2} \\operatorname{xx}^{3}{\\left(a,b,c,d,e,f,g \\right)} - 8 a b g^{2} \\operatorname{xx}^{3}{\\left(a,b,c,d,e,f,g \\right)} + 2 a c^{2} d \\operatorname{xx}^{3}{\\left(a,b,c,d,e,f,g \\right)} + 8 a c^{2} e \\operatorname{xx}^{4}{\\left(a,b,c,d,e,f,g \\right)} - 12 a c d e \\operatorname{xx}^{2}{\\left(a,b,c,d,e,f,g \\right)} - 36 a c e^{2} \\operatorname{xx}^{3}{\\left(a,b,c,d,e,f,g \\right)} - 8 a c f^{2} \\operatorname{xx}^{3}{\\left(a,b,c,d,e,f,g \\right)} - 2 a c g^{2} \\operatorname{xx}^{3}{\\left(a,b,c,d,e,f,g \\right)} + 12 a d e^{2} \\operatorname{xx}{\\left(a,b,c,d,e,f,g \\right)} + 32 a e^{3} \\operatorname{xx}^{2}{\\left(a,b,c,d,e,f,g \\right)} + 12 a e f^{2} \\operatorname{xx}^{2}{\\left(a,b,c,d,e,f,g \\right)} + 12 a e g^{2} \\operatorname{xx}^{2}{\\left(a,b,c,d,e,f,g \\right)} + b^{2} c^{2} \\operatorname{xx}^{5}{\\left(a,b,c,d,e,f,g \\right)} - 2 b^{2} c d \\operatorname{xx}^{3}{\\left(a,b,c,d,e,f,g \\right)} - 6 b^{2} c e \\operatorname{xx}^{4}{\\left(a,b,c,d,e,f,g \\right)} + 2 b^{2} d e \\operatorname{xx}^{2}{\\left(a,b,c,d,e,f,g \\right)} + 5 b^{2} e^{2} \\operatorname{xx}^{3}{\\left(a,b,c,d,e,f,g \\right)} + 2 b^{2} g^{2} \\operatorname{xx}^{3}{\\left(a,b,c,d,e,f,g \\right)} - 2 b c^{2} d \\operatorname{xx}^{3}{\\left(a,b,c,d,e,f,g \\right)} - 6 b c^{2} e \\operatorname{xx}^{4}{\\left(a,b,c,d,e,f,g \\right)} + 8 b c d e \\operatorname{xx}^{2}{\\left(a,b,c,d,e,f,g \\right)} + 20 b c e^{2} \\operatorname{xx}^{3}{\\left(a,b,c,d,e,f,g \\right)} + 2 b c f^{2} \\operatorname{xx}^{3}{\\left(a,b,c,d,e,f,g \\right)} + 2 b c g^{2} \\operatorname{xx}^{3}{\\left(a,b,c,d,e,f,g \\right)} - 6 b d e^{2} \\operatorname{xx}{\\left(a,b,c,d,e,f,g \\right)} - 14 b e^{3} \\operatorname{xx}^{2}{\\left(a,b,c,d,e,f,g \\right)} - 2 b e f^{2} \\operatorname{xx}^{2}{\\left(a,b,c,d,e,f,g \\right)} - 8 b e g^{2} \\operatorname{xx}^{2}{\\left(a,b,c,d,e,f,g \\right)} + 2 c^{2} d e \\operatorname{xx}^{2}{\\left(a,b,c,d,e,f,g \\right)} + 5 c^{2} e^{2} \\operatorname{xx}^{3}{\\left(a,b,c,d,e,f,g \\right)} + 2 c^{2} f^{2} \\operatorname{xx}^{3}{\\left(a,b,c,d,e,f,g \\right)} - 6 c d e^{2} \\operatorname{xx}{\\left(a,b,c,d,e,f,g \\right)} - 14 c e^{3} \\operatorname{xx}^{2}{\\left(a,b,c,d,e,f,g \\right)} - 8 c e f^{2} \\operatorname{xx}^{2}{\\left(a,b,c,d,e,f,g \\right)} - 2 c e g^{2} \\operatorname{xx}^{2}{\\left(a,b,c,d,e,f,g \\right)} + 4 d e^{3} + 9 e^{4} \\operatorname{xx}{\\left(a,b,c,d,e,f,g \\right)} + 6 e^{2} f^{2} \\operatorname{xx}{\\left(a,b,c,d,e,f,g \\right)} + 6 e^{2} g^{2} \\operatorname{xx}{\\left(a,b,c,d,e,f,g \\right)}\\right) \\operatorname{xx}{\\left(a,b,c,d,e,f,g \\right)}$"
      ],
      "text/plain": [
       "-(5*a**4*xx(a, b, c, d, e, f, g)**5 - 8*a**3*b*xx(a, b, c, d, e, f, g)**5 - 8*a**3*c*xx(a, b, c, d, e, f, g)**5 + 4*a**3*d*xx(a, b, c, d, e, f, g)**3 + 24*a**3*e*xx(a, b, c, d, e, f, g)**4 + 3*a**2*b**2*xx(a, b, c, d, e, f, g)**5 + 12*a**2*b*c*xx(a, b, c, d, e, f, g)**5 - 6*a**2*b*d*xx(a, b, c, d, e, f, g)**3 - 30*a**2*b*e*xx(a, b, c, d, e, f, g)**4 + 3*a**2*c**2*xx(a, b, c, d, e, f, g)**5 - 6*a**2*c*d*xx(a, b, c, d, e, f, g)**3 - 30*a**2*c*e*xx(a, b, c, d, e, f, g)**4 + 12*a**2*d*e*xx(a, b, c, d, e, f, g)**2 + 42*a**2*e**2*xx(a, b, c, d, e, f, g)**3 + 6*a**2*f**2*xx(a, b, c, d, e, f, g)**3 + 6*a**2*g**2*xx(a, b, c, d, e, f, g)**3 - 4*a*b**2*c*xx(a, b, c, d, e, f, g)**5 + 2*a*b**2*d*xx(a, b, c, d, e, f, g)**3 + 8*a*b**2*e*xx(a, b, c, d, e, f, g)**4 - 4*a*b*c**2*xx(a, b, c, d, e, f, g)**5 + 8*a*b*c*d*xx(a, b, c, d, e, f, g)**3 + 32*a*b*c*e*xx(a, b, c, d, e, f, g)**4 - 12*a*b*d*e*xx(a, b, c, d, e, f, g)**2 - 36*a*b*e**2*xx(a, b, c, d, e, f, g)**3 - 2*a*b*f**2*xx(a, b, c, d, e, f, g)**3 - 8*a*b*g**2*xx(a, b, c, d, e, f, g)**3 + 2*a*c**2*d*xx(a, b, c, d, e, f, g)**3 + 8*a*c**2*e*xx(a, b, c, d, e, f, g)**4 - 12*a*c*d*e*xx(a, b, c, d, e, f, g)**2 - 36*a*c*e**2*xx(a, b, c, d, e, f, g)**3 - 8*a*c*f**2*xx(a, b, c, d, e, f, g)**3 - 2*a*c*g**2*xx(a, b, c, d, e, f, g)**3 + 12*a*d*e**2*xx(a, b, c, d, e, f, g) + 32*a*e**3*xx(a, b, c, d, e, f, g)**2 + 12*a*e*f**2*xx(a, b, c, d, e, f, g)**2 + 12*a*e*g**2*xx(a, b, c, d, e, f, g)**2 + b**2*c**2*xx(a, b, c, d, e, f, g)**5 - 2*b**2*c*d*xx(a, b, c, d, e, f, g)**3 - 6*b**2*c*e*xx(a, b, c, d, e, f, g)**4 + 2*b**2*d*e*xx(a, b, c, d, e, f, g)**2 + 5*b**2*e**2*xx(a, b, c, d, e, f, g)**3 + 2*b**2*g**2*xx(a, b, c, d, e, f, g)**3 - 2*b*c**2*d*xx(a, b, c, d, e, f, g)**3 - 6*b*c**2*e*xx(a, b, c, d, e, f, g)**4 + 8*b*c*d*e*xx(a, b, c, d, e, f, g)**2 + 20*b*c*e**2*xx(a, b, c, d, e, f, g)**3 + 2*b*c*f**2*xx(a, b, c, d, e, f, g)**3 + 2*b*c*g**2*xx(a, b, c, d, e, f, g)**3 - 6*b*d*e**2*xx(a, b, c, d, e, f, g) - 14*b*e**3*xx(a, b, c, d, e, f, g)**2 - 2*b*e*f**2*xx(a, b, c, d, e, f, g)**2 - 8*b*e*g**2*xx(a, b, c, d, e, f, g)**2 + 2*c**2*d*e*xx(a, b, c, d, e, f, g)**2 + 5*c**2*e**2*xx(a, b, c, d, e, f, g)**3 + 2*c**2*f**2*xx(a, b, c, d, e, f, g)**3 - 6*c*d*e**2*xx(a, b, c, d, e, f, g) - 14*c*e**3*xx(a, b, c, d, e, f, g)**2 - 8*c*e*f**2*xx(a, b, c, d, e, f, g)**2 - 2*c*e*g**2*xx(a, b, c, d, e, f, g)**2 + 4*d*e**3 + 9*e**4*xx(a, b, c, d, e, f, g) + 6*e**2*f**2*xx(a, b, c, d, e, f, g) + 6*e**2*g**2*xx(a, b, c, d, e, f, g))*xx(a, b, c, d, e, f, g)"
      ]
     },
     "execution_count": 1851,
     "metadata": {},
     "output_type": "execute_result"
    }
   ],
   "source": [
    "sympy.factor(wah)"
   ]
  },
  {
   "cell_type": "code",
   "execution_count": 1848,
   "metadata": {},
   "outputs": [
    {
     "data": {
      "text/plain": [
       "[-5*a**4 + 8*a**3*b + 8*a**3*c - 3*a**2*b**2 - 12*a**2*b*c - 3*a**2*c**2 + 4*a*b**2*c + 4*a*b*c**2 - b**2*c**2,\n",
       " -24*a**3*e + 30*a**2*b*e + 30*a**2*c*e - 8*a*b**2*e - 32*a*b*c*e - 8*a*c**2*e + 6*b**2*c*e + 6*b*c**2*e,\n",
       " -4*a**3*d + 6*a**2*b*d + 6*a**2*c*d - 42*a**2*e**2 - 6*a**2*f**2 - 6*a**2*g**2 - 2*a*b**2*d - 8*a*b*c*d + 36*a*b*e**2 + 2*a*b*f**2 + 8*a*b*g**2 - 2*a*c**2*d + 36*a*c*e**2 + 8*a*c*f**2 + 2*a*c*g**2 + 2*b**2*c*d - 5*b**2*e**2 - 2*b**2*g**2 + 2*b*c**2*d - 20*b*c*e**2 - 2*b*c*f**2 - 2*b*c*g**2 - 5*c**2*e**2 - 2*c**2*f**2,\n",
       " -12*a**2*d*e + 12*a*b*d*e + 12*a*c*d*e - 32*a*e**3 - 12*a*e*f**2 - 12*a*e*g**2 - 2*b**2*d*e - 8*b*c*d*e + 14*b*e**3 + 2*b*e*f**2 + 8*b*e*g**2 - 2*c**2*d*e + 14*c*e**3 + 8*c*e*f**2 + 2*c*e*g**2,\n",
       " -12*a*d*e**2 + 6*b*d*e**2 + 6*c*d*e**2 - 9*e**4 - 6*e**2*f**2 - 6*e**2*g**2,\n",
       " -4*d*e**3,\n",
       " 0]"
      ]
     },
     "execution_count": 1848,
     "metadata": {},
     "output_type": "execute_result"
    }
   ],
   "source": [
    "wah.all_coeffs()"
   ]
  },
  {
   "cell_type": "code",
   "execution_count": 1849,
   "metadata": {},
   "outputs": [],
   "source": [
    "hah = sympy.poly(hah, xx)"
   ]
  },
  {
   "cell_type": "code",
   "execution_count": 1861,
   "metadata": {},
   "outputs": [
    {
     "data": {
      "text/plain": [
       "[6*a**5 - 12*a**4*b - 12*a**4*c + 6*a**3*b**2 + 24*a**3*b*c + 6*a**3*c**2 - 12*a**2*b**2*c - 12*a**2*b*c**2 + 6*a*b**2*c**2,\n",
       " 30*a**4*e - 50*a**3*b*e - 50*a**3*c*e + 20*a**2*b**2*e + 80*a**2*b*c*e + 20*a**2*c**2*e - 30*a*b**2*c*e - 30*a*b*c**2*e + 10*b**2*c**2*e,\n",
       " 4*a**4*d - 8*a**3*b*d - 8*a**3*c*d + 56*a**3*e**2 + 8*a**3*f**2 + 8*a**3*g**2 + 4*a**2*b**2*d + 16*a**2*b*c*d - 72*a**2*b*e**2 - 4*a**2*b*f**2 - 16*a**2*b*g**2 + 4*a**2*c**2*d - 72*a**2*c*e**2 - 16*a**2*c*f**2 - 4*a**2*c*g**2 - 8*a*b**2*c*d + 20*a*b**2*e**2 + 8*a*b**2*g**2 - 8*a*b*c**2*d + 80*a*b*c*e**2 + 8*a*b*c*f**2 + 8*a*b*c*g**2 + 20*a*c**2*e**2 + 8*a*c**2*f**2 + 4*b**2*c**2*d - 16*b**2*c*e**2 - 4*b**2*c*g**2 - 16*b*c**2*e**2 - 4*b*c**2*f**2,\n",
       " 12*a**3*d*e - 18*a**2*b*d*e - 18*a**2*c*d*e + 48*a**2*e**3 + 18*a**2*e*f**2 + 18*a**2*e*g**2 + 6*a*b**2*d*e + 24*a*b*c*d*e - 42*a*b*e**3 - 6*a*b*e*f**2 - 24*a*b*e*g**2 + 6*a*c**2*d*e - 42*a*c*e**3 - 24*a*c*e*f**2 - 6*a*c*e*g**2 - 6*b**2*c*d*e + 6*b**2*e**3 + 6*b**2*e*g**2 - 6*b*c**2*d*e + 24*b*c*e**3 + 6*b*c*e*f**2 + 6*b*c*e*g**2 + 6*c**2*e**3 + 6*c**2*e*f**2,\n",
       " 12*a**2*d*e**2 - 12*a*b*d*e**2 - 12*a*c*d*e**2 + 18*a*e**4 + 12*a*e**2*f**2 + 12*a*e**2*g**2 + 2*b**2*d*e**2 + 8*b*c*d*e**2 - 8*b*e**4 - 2*b*e**2*f**2 - 8*b*e**2*g**2 + 2*c**2*d*e**2 - 8*c*e**4 - 8*c*e**2*f**2 - 2*c*e**2*g**2,\n",
       " 4*a*d*e**3 - 2*b*d*e**3 - 2*c*d*e**3 + 2*e**5 + 2*e**3*f**2 + 2*e**3*g**2]"
      ]
     },
     "execution_count": 1861,
     "metadata": {},
     "output_type": "execute_result"
    }
   ],
   "source": [
    "hah.all_coeffs()"
   ]
  },
  {
   "cell_type": "code",
   "execution_count": 1862,
   "metadata": {},
   "outputs": [
    {
     "name": "stdout",
     "output_type": "stream",
     "text": [
      "6\n",
      "1\n",
      "1\n",
      "2\n",
      "2\n",
      "24\n",
      "1\n",
      "1\n",
      "2\n",
      "2\n",
      "6\n",
      "1\n",
      "6\n",
      "2\n",
      "5040\n",
      "0\n",
      "50\n",
      "100\n",
      "150\n",
      "200\n",
      "250\n",
      "300\n",
      "350\n",
      "400\n",
      "450\n",
      "500\n",
      "550\n",
      "600\n",
      "650\n",
      "700\n",
      "750\n",
      "800\n",
      "850\n",
      "900\n",
      "950\n",
      "1000\n",
      "1050\n",
      "1100\n",
      "1150\n",
      "1200\n",
      "1250\n",
      "1300\n",
      "1350\n",
      "1400\n",
      "1450\n",
      "1500\n",
      "1550\n",
      "1600\n",
      "1650\n",
      "1700\n",
      "1750\n",
      "1800\n",
      "1850\n",
      "1900\n",
      "1950\n",
      "2000\n",
      "2050\n",
      "2100\n",
      "2150\n",
      "2200\n",
      "2250\n",
      "2300\n",
      "2350\n",
      "2400\n",
      "2450\n",
      "2500\n",
      "2550\n",
      "2600\n",
      "2650\n",
      "2700\n",
      "2750\n",
      "2800\n",
      "2850\n",
      "2900\n",
      "2950\n",
      "3000\n",
      "3050\n",
      "3100\n",
      "3150\n",
      "3200\n",
      "3250\n",
      "3300\n",
      "3350\n",
      "3400\n",
      "3450\n",
      "3500\n",
      "3550\n",
      "3600\n",
      "3650\n",
      "3700\n",
      "3750\n",
      "3800\n",
      "3850\n",
      "3900\n",
      "3950\n",
      "4000\n",
      "4050\n",
      "4100\n",
      "4150\n",
      "4200\n",
      "4250\n",
      "4300\n",
      "4350\n",
      "4400\n",
      "4450\n",
      "4500\n",
      "4550\n",
      "4600\n",
      "4650\n",
      "4700\n",
      "4750\n",
      "4800\n",
      "4850\n",
      "4900\n",
      "4950\n",
      "5000\n",
      "24\n",
      "1\n",
      "1\n",
      "2\n",
      "2\n",
      "24\n",
      "1\n",
      "6\n",
      "24\n",
      "1\n",
      "1\n",
      "2\n",
      "2\n",
      "24\n",
      "1\n",
      "1\n",
      "2\n",
      "2\n",
      "5040\n",
      "0\n",
      "50\n",
      "100\n",
      "150\n",
      "200\n",
      "250\n",
      "300\n",
      "350\n",
      "400\n",
      "450\n",
      "500\n",
      "550\n",
      "600\n",
      "650\n",
      "700\n",
      "750\n",
      "800\n",
      "850\n",
      "900\n",
      "950\n",
      "1000\n",
      "1050\n",
      "1100\n",
      "1150\n"
     ]
    },
    {
     "ename": "KeyboardInterrupt",
     "evalue": "",
     "output_type": "error",
     "traceback": [
      "\u001b[0;31m---------------------------------------------------------------------------\u001b[0m",
      "\u001b[0;31mKeyboardInterrupt\u001b[0m                         Traceback (most recent call last)",
      "\u001b[0;32m<ipython-input-1862-c3eff282ecf5>\u001b[0m in \u001b[0;36m<module>\u001b[0;34m\u001b[0m\n\u001b[1;32m      1\u001b[0m \u001b[0mdxda_den_collections\u001b[0m \u001b[0;34m=\u001b[0m \u001b[0;34m[\u001b[0m\u001b[0;34m]\u001b[0m\u001b[0;34m\u001b[0m\u001b[0m\n\u001b[1;32m      2\u001b[0m \u001b[0;32mfor\u001b[0m \u001b[0mcoeff\u001b[0m \u001b[0;32min\u001b[0m \u001b[0mhah\u001b[0m\u001b[0;34m.\u001b[0m\u001b[0mall_coeffs\u001b[0m\u001b[0;34m(\u001b[0m\u001b[0;34m)\u001b[0m\u001b[0;34m:\u001b[0m\u001b[0;34m\u001b[0m\u001b[0m\n\u001b[0;32m----> 3\u001b[0;31m     \u001b[0mdxda_den_collections\u001b[0m\u001b[0;34m.\u001b[0m\u001b[0mappend\u001b[0m\u001b[0;34m(\u001b[0m\u001b[0mrcollect_best\u001b[0m\u001b[0;34m(\u001b[0m\u001b[0mcoeff\u001b[0m\u001b[0;34m)\u001b[0m\u001b[0;34m)\u001b[0m\u001b[0;34m\u001b[0m\u001b[0m\n\u001b[0m",
      "\u001b[0;32m<ipython-input-1860-3c884599fdb9>\u001b[0m in \u001b[0;36mrcollect_best\u001b[0;34m(expr, measure)\u001b[0m\n\u001b[1;32m     27\u001b[0m \u001b[0;34m\u001b[0m\u001b[0m\n\u001b[1;32m     28\u001b[0m \u001b[0;32mdef\u001b[0m \u001b[0mrcollect_best\u001b[0m\u001b[0;34m(\u001b[0m\u001b[0mexpr\u001b[0m\u001b[0;34m,\u001b[0m \u001b[0mmeasure\u001b[0m\u001b[0;34m=\u001b[0m\u001b[0msympy\u001b[0m\u001b[0;34m.\u001b[0m\u001b[0mcount_ops\u001b[0m\u001b[0;34m)\u001b[0m\u001b[0;34m:\u001b[0m\u001b[0;34m\u001b[0m\u001b[0m\n\u001b[0;32m---> 29\u001b[0;31m     \u001b[0mbest\u001b[0m \u001b[0;34m=\u001b[0m \u001b[0mcollect_best\u001b[0m\u001b[0;34m(\u001b[0m\u001b[0mexpr\u001b[0m\u001b[0;34m,\u001b[0m \u001b[0mmeasure\u001b[0m\u001b[0;34m)\u001b[0m\u001b[0;34m\u001b[0m\u001b[0m\n\u001b[0m\u001b[1;32m     30\u001b[0m     \u001b[0mbest_score\u001b[0m \u001b[0;34m=\u001b[0m \u001b[0mmeasure\u001b[0m\u001b[0;34m(\u001b[0m\u001b[0mbest\u001b[0m\u001b[0;34m)\u001b[0m\u001b[0;34m\u001b[0m\u001b[0m\n\u001b[1;32m     31\u001b[0m     \u001b[0;32mif\u001b[0m \u001b[0mexpr\u001b[0m \u001b[0;34m==\u001b[0m \u001b[0mbest\u001b[0m\u001b[0;34m:\u001b[0m\u001b[0;34m\u001b[0m\u001b[0m\n",
      "\u001b[0;32m<ipython-input-1860-3c884599fdb9>\u001b[0m in \u001b[0;36mcollect_best\u001b[0;34m(expr, measure)\u001b[0m\n\u001b[1;32m     13\u001b[0m             \u001b[0mbest\u001b[0m \u001b[0;34m=\u001b[0m \u001b[0mcollected\u001b[0m\u001b[0;34m\u001b[0m\u001b[0m\n\u001b[1;32m     14\u001b[0m         \u001b[0;32melse\u001b[0m\u001b[0;34m:\u001b[0m\u001b[0;34m\u001b[0m\u001b[0m\n\u001b[0;32m---> 15\u001b[0;31m             \u001b[0mfactored\u001b[0m \u001b[0;34m=\u001b[0m \u001b[0msympy\u001b[0m\u001b[0;34m.\u001b[0m\u001b[0mfactor\u001b[0m\u001b[0;34m(\u001b[0m\u001b[0mexpr\u001b[0m\u001b[0;34m)\u001b[0m\u001b[0;34m\u001b[0m\u001b[0m\n\u001b[0m\u001b[1;32m     16\u001b[0m             \u001b[0;32mif\u001b[0m \u001b[0mmeasure\u001b[0m\u001b[0;34m(\u001b[0m\u001b[0mfactored\u001b[0m\u001b[0;34m)\u001b[0m \u001b[0;34m<\u001b[0m \u001b[0mbest_score\u001b[0m\u001b[0;34m:\u001b[0m\u001b[0;34m\u001b[0m\u001b[0m\n\u001b[1;32m     17\u001b[0m                 \u001b[0mbest_score\u001b[0m \u001b[0;34m=\u001b[0m \u001b[0mmeasure\u001b[0m\u001b[0;34m(\u001b[0m\u001b[0mfactored\u001b[0m\u001b[0;34m)\u001b[0m\u001b[0;34m\u001b[0m\u001b[0m\n",
      "\u001b[0;32m/usr/local/lib/python3.5/dist-packages/sympy/polys/polytools.py\u001b[0m in \u001b[0;36mfactor\u001b[0;34m(f, *gens, **args)\u001b[0m\n\u001b[1;32m   6347\u001b[0m \u001b[0;34m\u001b[0m\u001b[0m\n\u001b[1;32m   6348\u001b[0m     \u001b[0;32mtry\u001b[0m\u001b[0;34m:\u001b[0m\u001b[0;34m\u001b[0m\u001b[0m\n\u001b[0;32m-> 6349\u001b[0;31m         \u001b[0;32mreturn\u001b[0m \u001b[0m_generic_factor\u001b[0m\u001b[0;34m(\u001b[0m\u001b[0mf\u001b[0m\u001b[0;34m,\u001b[0m \u001b[0mgens\u001b[0m\u001b[0;34m,\u001b[0m \u001b[0margs\u001b[0m\u001b[0;34m,\u001b[0m \u001b[0mmethod\u001b[0m\u001b[0;34m=\u001b[0m\u001b[0;34m'factor'\u001b[0m\u001b[0;34m)\u001b[0m\u001b[0;34m\u001b[0m\u001b[0m\n\u001b[0m\u001b[1;32m   6350\u001b[0m     \u001b[0;32mexcept\u001b[0m \u001b[0mPolynomialError\u001b[0m \u001b[0;32mas\u001b[0m \u001b[0mmsg\u001b[0m\u001b[0;34m:\u001b[0m\u001b[0;34m\u001b[0m\u001b[0m\n\u001b[1;32m   6351\u001b[0m         \u001b[0;32mif\u001b[0m \u001b[0;32mnot\u001b[0m \u001b[0mf\u001b[0m\u001b[0;34m.\u001b[0m\u001b[0mis_commutative\u001b[0m\u001b[0;34m:\u001b[0m\u001b[0;34m\u001b[0m\u001b[0m\n",
      "\u001b[0;32m/usr/local/lib/python3.5/dist-packages/sympy/polys/polytools.py\u001b[0m in \u001b[0;36m_generic_factor\u001b[0;34m(expr, gens, args, method)\u001b[0m\n\u001b[1;32m   6019\u001b[0m     \u001b[0mopt\u001b[0m \u001b[0;34m=\u001b[0m \u001b[0moptions\u001b[0m\u001b[0;34m.\u001b[0m\u001b[0mbuild_options\u001b[0m\u001b[0;34m(\u001b[0m\u001b[0mgens\u001b[0m\u001b[0;34m,\u001b[0m \u001b[0margs\u001b[0m\u001b[0;34m)\u001b[0m\u001b[0;34m\u001b[0m\u001b[0m\n\u001b[1;32m   6020\u001b[0m     \u001b[0mopt\u001b[0m\u001b[0;34m[\u001b[0m\u001b[0;34m'fraction'\u001b[0m\u001b[0;34m]\u001b[0m \u001b[0;34m=\u001b[0m \u001b[0mfraction\u001b[0m\u001b[0;34m\u001b[0m\u001b[0m\n\u001b[0;32m-> 6021\u001b[0;31m     \u001b[0;32mreturn\u001b[0m \u001b[0m_symbolic_factor\u001b[0m\u001b[0;34m(\u001b[0m\u001b[0msympify\u001b[0m\u001b[0;34m(\u001b[0m\u001b[0mexpr\u001b[0m\u001b[0;34m)\u001b[0m\u001b[0;34m,\u001b[0m \u001b[0mopt\u001b[0m\u001b[0;34m,\u001b[0m \u001b[0mmethod\u001b[0m\u001b[0;34m)\u001b[0m\u001b[0;34m\u001b[0m\u001b[0m\n\u001b[0m\u001b[1;32m   6022\u001b[0m \u001b[0;34m\u001b[0m\u001b[0m\n\u001b[1;32m   6023\u001b[0m \u001b[0;34m\u001b[0m\u001b[0m\n",
      "\u001b[0;32m/usr/local/lib/python3.5/dist-packages/sympy/polys/polytools.py\u001b[0m in \u001b[0;36m_symbolic_factor\u001b[0;34m(expr, opt, method)\u001b[0m\n\u001b[1;32m   5962\u001b[0m         \u001b[0;32mif\u001b[0m \u001b[0mhasattr\u001b[0m\u001b[0;34m(\u001b[0m\u001b[0mexpr\u001b[0m\u001b[0;34m,\u001b[0m\u001b[0;34m'_eval_factor'\u001b[0m\u001b[0;34m)\u001b[0m\u001b[0;34m:\u001b[0m\u001b[0;34m\u001b[0m\u001b[0m\n\u001b[1;32m   5963\u001b[0m             \u001b[0;32mreturn\u001b[0m \u001b[0mexpr\u001b[0m\u001b[0;34m.\u001b[0m\u001b[0m_eval_factor\u001b[0m\u001b[0;34m(\u001b[0m\u001b[0;34m)\u001b[0m\u001b[0;34m\u001b[0m\u001b[0m\n\u001b[0;32m-> 5964\u001b[0;31m         \u001b[0mcoeff\u001b[0m\u001b[0;34m,\u001b[0m \u001b[0mfactors\u001b[0m \u001b[0;34m=\u001b[0m \u001b[0m_symbolic_factor_list\u001b[0m\u001b[0;34m(\u001b[0m\u001b[0mtogether\u001b[0m\u001b[0;34m(\u001b[0m\u001b[0mexpr\u001b[0m\u001b[0;34m,\u001b[0m \u001b[0mfraction\u001b[0m\u001b[0;34m=\u001b[0m\u001b[0mopt\u001b[0m\u001b[0;34m[\u001b[0m\u001b[0;34m'fraction'\u001b[0m\u001b[0;34m]\u001b[0m\u001b[0;34m)\u001b[0m\u001b[0;34m,\u001b[0m \u001b[0mopt\u001b[0m\u001b[0;34m,\u001b[0m \u001b[0mmethod\u001b[0m\u001b[0;34m)\u001b[0m\u001b[0;34m\u001b[0m\u001b[0m\n\u001b[0m\u001b[1;32m   5965\u001b[0m         \u001b[0;32mreturn\u001b[0m \u001b[0m_keep_coeff\u001b[0m\u001b[0;34m(\u001b[0m\u001b[0mcoeff\u001b[0m\u001b[0;34m,\u001b[0m \u001b[0m_factors_product\u001b[0m\u001b[0;34m(\u001b[0m\u001b[0mfactors\u001b[0m\u001b[0;34m)\u001b[0m\u001b[0;34m)\u001b[0m\u001b[0;34m\u001b[0m\u001b[0m\n\u001b[1;32m   5966\u001b[0m     \u001b[0;32melif\u001b[0m \u001b[0mhasattr\u001b[0m\u001b[0;34m(\u001b[0m\u001b[0mexpr\u001b[0m\u001b[0;34m,\u001b[0m \u001b[0;34m'args'\u001b[0m\u001b[0;34m)\u001b[0m\u001b[0;34m:\u001b[0m\u001b[0;34m\u001b[0m\u001b[0m\n",
      "\u001b[0;32m/usr/local/lib/python3.5/dist-packages/sympy/polys/polytools.py\u001b[0m in \u001b[0;36m_symbolic_factor_list\u001b[0;34m(expr, opt, method)\u001b[0m\n\u001b[1;32m   5930\u001b[0m             \u001b[0mfunc\u001b[0m \u001b[0;34m=\u001b[0m \u001b[0mgetattr\u001b[0m\u001b[0;34m(\u001b[0m\u001b[0mpoly\u001b[0m\u001b[0;34m,\u001b[0m \u001b[0mmethod\u001b[0m \u001b[0;34m+\u001b[0m \u001b[0;34m'_list'\u001b[0m\u001b[0;34m)\u001b[0m\u001b[0;34m\u001b[0m\u001b[0m\n\u001b[1;32m   5931\u001b[0m \u001b[0;34m\u001b[0m\u001b[0m\n\u001b[0;32m-> 5932\u001b[0;31m             \u001b[0m_coeff\u001b[0m\u001b[0;34m,\u001b[0m \u001b[0m_factors\u001b[0m \u001b[0;34m=\u001b[0m \u001b[0mfunc\u001b[0m\u001b[0;34m(\u001b[0m\u001b[0;34m)\u001b[0m\u001b[0;34m\u001b[0m\u001b[0m\n\u001b[0m\u001b[1;32m   5933\u001b[0m             \u001b[0;32mif\u001b[0m \u001b[0m_coeff\u001b[0m \u001b[0;32mis\u001b[0m \u001b[0;32mnot\u001b[0m \u001b[0mS\u001b[0m\u001b[0;34m.\u001b[0m\u001b[0mOne\u001b[0m\u001b[0;34m:\u001b[0m\u001b[0;34m\u001b[0m\u001b[0m\n\u001b[1;32m   5934\u001b[0m                 \u001b[0;32mif\u001b[0m \u001b[0mexp\u001b[0m\u001b[0;34m.\u001b[0m\u001b[0mis_Integer\u001b[0m\u001b[0;34m:\u001b[0m\u001b[0;34m\u001b[0m\u001b[0m\n",
      "\u001b[0;32m/usr/local/lib/python3.5/dist-packages/sympy/polys/polytools.py\u001b[0m in \u001b[0;36mfactor_list\u001b[0;34m(f)\u001b[0m\n\u001b[1;32m   3238\u001b[0m         \u001b[0;32mif\u001b[0m \u001b[0mhasattr\u001b[0m\u001b[0;34m(\u001b[0m\u001b[0mf\u001b[0m\u001b[0;34m.\u001b[0m\u001b[0mrep\u001b[0m\u001b[0;34m,\u001b[0m \u001b[0;34m'factor_list'\u001b[0m\u001b[0;34m)\u001b[0m\u001b[0;34m:\u001b[0m\u001b[0;34m\u001b[0m\u001b[0m\n\u001b[1;32m   3239\u001b[0m             \u001b[0;32mtry\u001b[0m\u001b[0;34m:\u001b[0m\u001b[0;34m\u001b[0m\u001b[0m\n\u001b[0;32m-> 3240\u001b[0;31m                 \u001b[0mcoeff\u001b[0m\u001b[0;34m,\u001b[0m \u001b[0mfactors\u001b[0m \u001b[0;34m=\u001b[0m \u001b[0mf\u001b[0m\u001b[0;34m.\u001b[0m\u001b[0mrep\u001b[0m\u001b[0;34m.\u001b[0m\u001b[0mfactor_list\u001b[0m\u001b[0;34m(\u001b[0m\u001b[0;34m)\u001b[0m\u001b[0;34m\u001b[0m\u001b[0m\n\u001b[0m\u001b[1;32m   3241\u001b[0m             \u001b[0;32mexcept\u001b[0m \u001b[0mDomainError\u001b[0m\u001b[0;34m:\u001b[0m\u001b[0;34m\u001b[0m\u001b[0m\n\u001b[1;32m   3242\u001b[0m                 \u001b[0;32mreturn\u001b[0m \u001b[0mS\u001b[0m\u001b[0;34m.\u001b[0m\u001b[0mOne\u001b[0m\u001b[0;34m,\u001b[0m \u001b[0;34m[\u001b[0m\u001b[0;34m(\u001b[0m\u001b[0mf\u001b[0m\u001b[0;34m,\u001b[0m \u001b[0;36m1\u001b[0m\u001b[0;34m)\u001b[0m\u001b[0;34m]\u001b[0m\u001b[0;34m\u001b[0m\u001b[0m\n",
      "\u001b[0;32m/usr/local/lib/python3.5/dist-packages/sympy/polys/polyclasses.py\u001b[0m in \u001b[0;36mfactor_list\u001b[0;34m(f)\u001b[0m\n\u001b[1;32m    794\u001b[0m     \u001b[0;32mdef\u001b[0m \u001b[0mfactor_list\u001b[0m\u001b[0;34m(\u001b[0m\u001b[0mf\u001b[0m\u001b[0;34m)\u001b[0m\u001b[0;34m:\u001b[0m\u001b[0;34m\u001b[0m\u001b[0m\n\u001b[1;32m    795\u001b[0m         \u001b[0;34m\"\"\"Returns a list of irreducible factors of ``f``. \"\"\"\u001b[0m\u001b[0;34m\u001b[0m\u001b[0m\n\u001b[0;32m--> 796\u001b[0;31m         \u001b[0mcoeff\u001b[0m\u001b[0;34m,\u001b[0m \u001b[0mfactors\u001b[0m \u001b[0;34m=\u001b[0m \u001b[0mdmp_factor_list\u001b[0m\u001b[0;34m(\u001b[0m\u001b[0mf\u001b[0m\u001b[0;34m.\u001b[0m\u001b[0mrep\u001b[0m\u001b[0;34m,\u001b[0m \u001b[0mf\u001b[0m\u001b[0;34m.\u001b[0m\u001b[0mlev\u001b[0m\u001b[0;34m,\u001b[0m \u001b[0mf\u001b[0m\u001b[0;34m.\u001b[0m\u001b[0mdom\u001b[0m\u001b[0;34m)\u001b[0m\u001b[0;34m\u001b[0m\u001b[0m\n\u001b[0m\u001b[1;32m    797\u001b[0m         \u001b[0;32mreturn\u001b[0m \u001b[0mcoeff\u001b[0m\u001b[0;34m,\u001b[0m \u001b[0;34m[\u001b[0m \u001b[0;34m(\u001b[0m\u001b[0mf\u001b[0m\u001b[0;34m.\u001b[0m\u001b[0mper\u001b[0m\u001b[0;34m(\u001b[0m\u001b[0mg\u001b[0m\u001b[0;34m)\u001b[0m\u001b[0;34m,\u001b[0m \u001b[0mk\u001b[0m\u001b[0;34m)\u001b[0m \u001b[0;32mfor\u001b[0m \u001b[0mg\u001b[0m\u001b[0;34m,\u001b[0m \u001b[0mk\u001b[0m \u001b[0;32min\u001b[0m \u001b[0mfactors\u001b[0m \u001b[0;34m]\u001b[0m\u001b[0;34m\u001b[0m\u001b[0m\n\u001b[1;32m    798\u001b[0m \u001b[0;34m\u001b[0m\u001b[0m\n",
      "\u001b[0;32m/usr/local/lib/python3.5/dist-packages/sympy/polys/factortools.py\u001b[0m in \u001b[0;36mdmp_factor_list\u001b[0;34m(f, u, K0)\u001b[0m\n\u001b[1;32m   1281\u001b[0m         \u001b[0;32mif\u001b[0m \u001b[0mK\u001b[0m\u001b[0;34m.\u001b[0m\u001b[0mis_ZZ\u001b[0m\u001b[0;34m:\u001b[0m\u001b[0;34m\u001b[0m\u001b[0m\n\u001b[1;32m   1282\u001b[0m             \u001b[0mlevels\u001b[0m\u001b[0;34m,\u001b[0m \u001b[0mf\u001b[0m\u001b[0;34m,\u001b[0m \u001b[0mv\u001b[0m \u001b[0;34m=\u001b[0m \u001b[0mdmp_exclude\u001b[0m\u001b[0;34m(\u001b[0m\u001b[0mf\u001b[0m\u001b[0;34m,\u001b[0m \u001b[0mu\u001b[0m\u001b[0;34m,\u001b[0m \u001b[0mK\u001b[0m\u001b[0;34m)\u001b[0m\u001b[0;34m\u001b[0m\u001b[0m\n\u001b[0;32m-> 1283\u001b[0;31m             \u001b[0mcoeff\u001b[0m\u001b[0;34m,\u001b[0m \u001b[0mfactors\u001b[0m \u001b[0;34m=\u001b[0m \u001b[0mdmp_zz_factor\u001b[0m\u001b[0;34m(\u001b[0m\u001b[0mf\u001b[0m\u001b[0;34m,\u001b[0m \u001b[0mv\u001b[0m\u001b[0;34m,\u001b[0m \u001b[0mK\u001b[0m\u001b[0;34m)\u001b[0m\u001b[0;34m\u001b[0m\u001b[0m\n\u001b[0m\u001b[1;32m   1284\u001b[0m \u001b[0;34m\u001b[0m\u001b[0m\n\u001b[1;32m   1285\u001b[0m             \u001b[0;32mfor\u001b[0m \u001b[0mi\u001b[0m\u001b[0;34m,\u001b[0m \u001b[0;34m(\u001b[0m\u001b[0mf\u001b[0m\u001b[0;34m,\u001b[0m \u001b[0mk\u001b[0m\u001b[0;34m)\u001b[0m \u001b[0;32min\u001b[0m \u001b[0menumerate\u001b[0m\u001b[0;34m(\u001b[0m\u001b[0mfactors\u001b[0m\u001b[0;34m)\u001b[0m\u001b[0;34m:\u001b[0m\u001b[0;34m\u001b[0m\u001b[0m\n",
      "\u001b[0;32m/usr/local/lib/python3.5/dist-packages/sympy/polys/factortools.py\u001b[0m in \u001b[0;36mdmp_zz_factor\u001b[0;34m(f, u, K)\u001b[0m\n\u001b[1;32m   1092\u001b[0m     \u001b[0;32mif\u001b[0m \u001b[0mdmp_degree\u001b[0m\u001b[0;34m(\u001b[0m\u001b[0mg\u001b[0m\u001b[0;34m,\u001b[0m \u001b[0mu\u001b[0m\u001b[0;34m)\u001b[0m \u001b[0;34m>\u001b[0m \u001b[0;36m0\u001b[0m\u001b[0;34m:\u001b[0m\u001b[0;34m\u001b[0m\u001b[0m\n\u001b[1;32m   1093\u001b[0m         \u001b[0mg\u001b[0m \u001b[0;34m=\u001b[0m \u001b[0mdmp_sqf_part\u001b[0m\u001b[0;34m(\u001b[0m\u001b[0mg\u001b[0m\u001b[0;34m,\u001b[0m \u001b[0mu\u001b[0m\u001b[0;34m,\u001b[0m \u001b[0mK\u001b[0m\u001b[0;34m)\u001b[0m\u001b[0;34m\u001b[0m\u001b[0m\n\u001b[0;32m-> 1094\u001b[0;31m         \u001b[0mH\u001b[0m \u001b[0;34m=\u001b[0m \u001b[0mdmp_zz_wang\u001b[0m\u001b[0;34m(\u001b[0m\u001b[0mg\u001b[0m\u001b[0;34m,\u001b[0m \u001b[0mu\u001b[0m\u001b[0;34m,\u001b[0m \u001b[0mK\u001b[0m\u001b[0;34m)\u001b[0m\u001b[0;34m\u001b[0m\u001b[0m\n\u001b[0m\u001b[1;32m   1095\u001b[0m         \u001b[0mfactors\u001b[0m \u001b[0;34m=\u001b[0m \u001b[0mdmp_trial_division\u001b[0m\u001b[0;34m(\u001b[0m\u001b[0mf\u001b[0m\u001b[0;34m,\u001b[0m \u001b[0mH\u001b[0m\u001b[0;34m,\u001b[0m \u001b[0mu\u001b[0m\u001b[0;34m,\u001b[0m \u001b[0mK\u001b[0m\u001b[0;34m)\u001b[0m\u001b[0;34m\u001b[0m\u001b[0m\n\u001b[1;32m   1096\u001b[0m \u001b[0;34m\u001b[0m\u001b[0m\n",
      "\u001b[0;32m/usr/local/lib/python3.5/dist-packages/sympy/polys/factortools.py\u001b[0m in \u001b[0;36mdmp_zz_wang\u001b[0;34m(f, u, K, mod, seed)\u001b[0m\n\u001b[1;32m   1015\u001b[0m     \u001b[0;32mtry\u001b[0m\u001b[0;34m:\u001b[0m\u001b[0;34m\u001b[0m\u001b[0m\n\u001b[1;32m   1016\u001b[0m         \u001b[0mf\u001b[0m\u001b[0;34m,\u001b[0m \u001b[0mH\u001b[0m\u001b[0;34m,\u001b[0m \u001b[0mLC\u001b[0m \u001b[0;34m=\u001b[0m \u001b[0mdmp_zz_wang_lead_coeffs\u001b[0m\u001b[0;34m(\u001b[0m\u001b[0mf\u001b[0m\u001b[0;34m,\u001b[0m \u001b[0mT\u001b[0m\u001b[0;34m,\u001b[0m \u001b[0mcs\u001b[0m\u001b[0;34m,\u001b[0m \u001b[0mE\u001b[0m\u001b[0;34m,\u001b[0m \u001b[0mH\u001b[0m\u001b[0;34m,\u001b[0m \u001b[0mA\u001b[0m\u001b[0;34m,\u001b[0m \u001b[0mu\u001b[0m\u001b[0;34m,\u001b[0m \u001b[0mK\u001b[0m\u001b[0;34m)\u001b[0m\u001b[0;34m\u001b[0m\u001b[0m\n\u001b[0;32m-> 1017\u001b[0;31m         \u001b[0mfactors\u001b[0m \u001b[0;34m=\u001b[0m \u001b[0mdmp_zz_wang_hensel_lifting\u001b[0m\u001b[0;34m(\u001b[0m\u001b[0mf\u001b[0m\u001b[0;34m,\u001b[0m \u001b[0mH\u001b[0m\u001b[0;34m,\u001b[0m \u001b[0mLC\u001b[0m\u001b[0;34m,\u001b[0m \u001b[0mA\u001b[0m\u001b[0;34m,\u001b[0m \u001b[0mp\u001b[0m\u001b[0;34m,\u001b[0m \u001b[0mu\u001b[0m\u001b[0;34m,\u001b[0m \u001b[0mK\u001b[0m\u001b[0;34m)\u001b[0m\u001b[0;34m\u001b[0m\u001b[0m\n\u001b[0m\u001b[1;32m   1018\u001b[0m     \u001b[0;32mexcept\u001b[0m \u001b[0mExtraneousFactors\u001b[0m\u001b[0;34m:\u001b[0m  \u001b[0;31m# pragma: no cover\u001b[0m\u001b[0;34m\u001b[0m\u001b[0m\n\u001b[1;32m   1019\u001b[0m         \u001b[0;32mif\u001b[0m \u001b[0mquery\u001b[0m\u001b[0;34m(\u001b[0m\u001b[0;34m'EEZ_RESTART_IF_NEEDED'\u001b[0m\u001b[0;34m)\u001b[0m\u001b[0;34m:\u001b[0m\u001b[0;34m\u001b[0m\u001b[0m\n",
      "\u001b[0;32m/usr/local/lib/python3.5/dist-packages/sympy/polys/factortools.py\u001b[0m in \u001b[0;36mdmp_zz_wang_hensel_lifting\u001b[0;34m(f, H, LC, A, p, u, K)\u001b[0m\n\u001b[1;32m    885\u001b[0m                     \u001b[0mH\u001b[0m\u001b[0;34m[\u001b[0m\u001b[0mi\u001b[0m\u001b[0;34m]\u001b[0m \u001b[0;34m=\u001b[0m \u001b[0mdmp_ground_trunc\u001b[0m\u001b[0;34m(\u001b[0m\u001b[0mh\u001b[0m\u001b[0;34m,\u001b[0m \u001b[0mp\u001b[0m\u001b[0;34m,\u001b[0m \u001b[0mw\u001b[0m\u001b[0;34m,\u001b[0m \u001b[0mK\u001b[0m\u001b[0;34m)\u001b[0m\u001b[0;34m\u001b[0m\u001b[0m\n\u001b[1;32m    886\u001b[0m \u001b[0;34m\u001b[0m\u001b[0m\n\u001b[0;32m--> 887\u001b[0;31m                 \u001b[0mh\u001b[0m \u001b[0;34m=\u001b[0m \u001b[0mdmp_sub\u001b[0m\u001b[0;34m(\u001b[0m\u001b[0ms\u001b[0m\u001b[0;34m,\u001b[0m \u001b[0mdmp_expand\u001b[0m\u001b[0;34m(\u001b[0m\u001b[0mH\u001b[0m\u001b[0;34m,\u001b[0m \u001b[0mw\u001b[0m\u001b[0;34m,\u001b[0m \u001b[0mK\u001b[0m\u001b[0;34m)\u001b[0m\u001b[0;34m,\u001b[0m \u001b[0mw\u001b[0m\u001b[0;34m,\u001b[0m \u001b[0mK\u001b[0m\u001b[0;34m)\u001b[0m\u001b[0;34m\u001b[0m\u001b[0m\n\u001b[0m\u001b[1;32m    888\u001b[0m                 \u001b[0mc\u001b[0m \u001b[0;34m=\u001b[0m \u001b[0mdmp_ground_trunc\u001b[0m\u001b[0;34m(\u001b[0m\u001b[0mh\u001b[0m\u001b[0;34m,\u001b[0m \u001b[0mp\u001b[0m\u001b[0;34m,\u001b[0m \u001b[0mw\u001b[0m\u001b[0;34m,\u001b[0m \u001b[0mK\u001b[0m\u001b[0;34m)\u001b[0m\u001b[0;34m\u001b[0m\u001b[0m\n\u001b[1;32m    889\u001b[0m \u001b[0;34m\u001b[0m\u001b[0m\n",
      "\u001b[0;32m/usr/local/lib/python3.5/dist-packages/sympy/polys/densearith.py\u001b[0m in \u001b[0;36mdmp_expand\u001b[0;34m(polys, u, K)\u001b[0m\n\u001b[1;32m   1828\u001b[0m \u001b[0;34m\u001b[0m\u001b[0m\n\u001b[1;32m   1829\u001b[0m     \u001b[0;32mfor\u001b[0m \u001b[0mg\u001b[0m \u001b[0;32min\u001b[0m \u001b[0mpolys\u001b[0m\u001b[0;34m[\u001b[0m\u001b[0;36m1\u001b[0m\u001b[0;34m:\u001b[0m\u001b[0;34m]\u001b[0m\u001b[0;34m:\u001b[0m\u001b[0;34m\u001b[0m\u001b[0m\n\u001b[0;32m-> 1830\u001b[0;31m         \u001b[0mf\u001b[0m \u001b[0;34m=\u001b[0m \u001b[0mdmp_mul\u001b[0m\u001b[0;34m(\u001b[0m\u001b[0mf\u001b[0m\u001b[0;34m,\u001b[0m \u001b[0mg\u001b[0m\u001b[0;34m,\u001b[0m \u001b[0mu\u001b[0m\u001b[0;34m,\u001b[0m \u001b[0mK\u001b[0m\u001b[0;34m)\u001b[0m\u001b[0;34m\u001b[0m\u001b[0m\n\u001b[0m\u001b[1;32m   1831\u001b[0m \u001b[0;34m\u001b[0m\u001b[0m\n\u001b[1;32m   1832\u001b[0m     \u001b[0;32mreturn\u001b[0m \u001b[0mf\u001b[0m\u001b[0;34m\u001b[0m\u001b[0m\n",
      "\u001b[0;32m/usr/local/lib/python3.5/dist-packages/sympy/polys/densearith.py\u001b[0m in \u001b[0;36mdmp_mul\u001b[0;34m(f, g, u, K)\u001b[0m\n\u001b[1;32m    828\u001b[0m \u001b[0;34m\u001b[0m\u001b[0m\n\u001b[1;32m    829\u001b[0m         \u001b[0;32mfor\u001b[0m \u001b[0mj\u001b[0m \u001b[0;32min\u001b[0m \u001b[0mrange\u001b[0m\u001b[0;34m(\u001b[0m\u001b[0mmax\u001b[0m\u001b[0;34m(\u001b[0m\u001b[0;36m0\u001b[0m\u001b[0;34m,\u001b[0m \u001b[0mi\u001b[0m \u001b[0;34m-\u001b[0m \u001b[0mdg\u001b[0m\u001b[0;34m)\u001b[0m\u001b[0;34m,\u001b[0m \u001b[0mmin\u001b[0m\u001b[0;34m(\u001b[0m\u001b[0mdf\u001b[0m\u001b[0;34m,\u001b[0m \u001b[0mi\u001b[0m\u001b[0;34m)\u001b[0m \u001b[0;34m+\u001b[0m \u001b[0;36m1\u001b[0m\u001b[0;34m)\u001b[0m\u001b[0;34m:\u001b[0m\u001b[0;34m\u001b[0m\u001b[0m\n\u001b[0;32m--> 830\u001b[0;31m             \u001b[0mcoeff\u001b[0m \u001b[0;34m=\u001b[0m \u001b[0mdmp_add\u001b[0m\u001b[0;34m(\u001b[0m\u001b[0mcoeff\u001b[0m\u001b[0;34m,\u001b[0m \u001b[0mdmp_mul\u001b[0m\u001b[0;34m(\u001b[0m\u001b[0mf\u001b[0m\u001b[0;34m[\u001b[0m\u001b[0mj\u001b[0m\u001b[0;34m]\u001b[0m\u001b[0;34m,\u001b[0m \u001b[0mg\u001b[0m\u001b[0;34m[\u001b[0m\u001b[0mi\u001b[0m \u001b[0;34m-\u001b[0m \u001b[0mj\u001b[0m\u001b[0;34m]\u001b[0m\u001b[0;34m,\u001b[0m \u001b[0mv\u001b[0m\u001b[0;34m,\u001b[0m \u001b[0mK\u001b[0m\u001b[0;34m)\u001b[0m\u001b[0;34m,\u001b[0m \u001b[0mv\u001b[0m\u001b[0;34m,\u001b[0m \u001b[0mK\u001b[0m\u001b[0;34m)\u001b[0m\u001b[0;34m\u001b[0m\u001b[0m\n\u001b[0m\u001b[1;32m    831\u001b[0m \u001b[0;34m\u001b[0m\u001b[0m\n\u001b[1;32m    832\u001b[0m         \u001b[0mh\u001b[0m\u001b[0;34m.\u001b[0m\u001b[0mappend\u001b[0m\u001b[0;34m(\u001b[0m\u001b[0mcoeff\u001b[0m\u001b[0;34m)\u001b[0m\u001b[0;34m\u001b[0m\u001b[0m\n",
      "\u001b[0;32m/usr/local/lib/python3.5/dist-packages/sympy/polys/densearith.py\u001b[0m in \u001b[0;36mdmp_mul\u001b[0;34m(f, g, u, K)\u001b[0m\n\u001b[1;32m    828\u001b[0m \u001b[0;34m\u001b[0m\u001b[0m\n\u001b[1;32m    829\u001b[0m         \u001b[0;32mfor\u001b[0m \u001b[0mj\u001b[0m \u001b[0;32min\u001b[0m \u001b[0mrange\u001b[0m\u001b[0;34m(\u001b[0m\u001b[0mmax\u001b[0m\u001b[0;34m(\u001b[0m\u001b[0;36m0\u001b[0m\u001b[0;34m,\u001b[0m \u001b[0mi\u001b[0m \u001b[0;34m-\u001b[0m \u001b[0mdg\u001b[0m\u001b[0;34m)\u001b[0m\u001b[0;34m,\u001b[0m \u001b[0mmin\u001b[0m\u001b[0;34m(\u001b[0m\u001b[0mdf\u001b[0m\u001b[0;34m,\u001b[0m \u001b[0mi\u001b[0m\u001b[0;34m)\u001b[0m \u001b[0;34m+\u001b[0m \u001b[0;36m1\u001b[0m\u001b[0;34m)\u001b[0m\u001b[0;34m:\u001b[0m\u001b[0;34m\u001b[0m\u001b[0m\n\u001b[0;32m--> 830\u001b[0;31m             \u001b[0mcoeff\u001b[0m \u001b[0;34m=\u001b[0m \u001b[0mdmp_add\u001b[0m\u001b[0;34m(\u001b[0m\u001b[0mcoeff\u001b[0m\u001b[0;34m,\u001b[0m \u001b[0mdmp_mul\u001b[0m\u001b[0;34m(\u001b[0m\u001b[0mf\u001b[0m\u001b[0;34m[\u001b[0m\u001b[0mj\u001b[0m\u001b[0;34m]\u001b[0m\u001b[0;34m,\u001b[0m \u001b[0mg\u001b[0m\u001b[0;34m[\u001b[0m\u001b[0mi\u001b[0m \u001b[0;34m-\u001b[0m \u001b[0mj\u001b[0m\u001b[0;34m]\u001b[0m\u001b[0;34m,\u001b[0m \u001b[0mv\u001b[0m\u001b[0;34m,\u001b[0m \u001b[0mK\u001b[0m\u001b[0;34m)\u001b[0m\u001b[0;34m,\u001b[0m \u001b[0mv\u001b[0m\u001b[0;34m,\u001b[0m \u001b[0mK\u001b[0m\u001b[0;34m)\u001b[0m\u001b[0;34m\u001b[0m\u001b[0m\n\u001b[0m\u001b[1;32m    831\u001b[0m \u001b[0;34m\u001b[0m\u001b[0m\n\u001b[1;32m    832\u001b[0m         \u001b[0mh\u001b[0m\u001b[0;34m.\u001b[0m\u001b[0mappend\u001b[0m\u001b[0;34m(\u001b[0m\u001b[0mcoeff\u001b[0m\u001b[0;34m)\u001b[0m\u001b[0;34m\u001b[0m\u001b[0m\n",
      "\u001b[0;32m/usr/local/lib/python3.5/dist-packages/sympy/polys/densearith.py\u001b[0m in \u001b[0;36mdmp_mul\u001b[0;34m(f, g, u, K)\u001b[0m\n\u001b[1;32m    828\u001b[0m \u001b[0;34m\u001b[0m\u001b[0m\n\u001b[1;32m    829\u001b[0m         \u001b[0;32mfor\u001b[0m \u001b[0mj\u001b[0m \u001b[0;32min\u001b[0m \u001b[0mrange\u001b[0m\u001b[0;34m(\u001b[0m\u001b[0mmax\u001b[0m\u001b[0;34m(\u001b[0m\u001b[0;36m0\u001b[0m\u001b[0;34m,\u001b[0m \u001b[0mi\u001b[0m \u001b[0;34m-\u001b[0m \u001b[0mdg\u001b[0m\u001b[0;34m)\u001b[0m\u001b[0;34m,\u001b[0m \u001b[0mmin\u001b[0m\u001b[0;34m(\u001b[0m\u001b[0mdf\u001b[0m\u001b[0;34m,\u001b[0m \u001b[0mi\u001b[0m\u001b[0;34m)\u001b[0m \u001b[0;34m+\u001b[0m \u001b[0;36m1\u001b[0m\u001b[0;34m)\u001b[0m\u001b[0;34m:\u001b[0m\u001b[0;34m\u001b[0m\u001b[0m\n\u001b[0;32m--> 830\u001b[0;31m             \u001b[0mcoeff\u001b[0m \u001b[0;34m=\u001b[0m \u001b[0mdmp_add\u001b[0m\u001b[0;34m(\u001b[0m\u001b[0mcoeff\u001b[0m\u001b[0;34m,\u001b[0m \u001b[0mdmp_mul\u001b[0m\u001b[0;34m(\u001b[0m\u001b[0mf\u001b[0m\u001b[0;34m[\u001b[0m\u001b[0mj\u001b[0m\u001b[0;34m]\u001b[0m\u001b[0;34m,\u001b[0m \u001b[0mg\u001b[0m\u001b[0;34m[\u001b[0m\u001b[0mi\u001b[0m \u001b[0;34m-\u001b[0m \u001b[0mj\u001b[0m\u001b[0;34m]\u001b[0m\u001b[0;34m,\u001b[0m \u001b[0mv\u001b[0m\u001b[0;34m,\u001b[0m \u001b[0mK\u001b[0m\u001b[0;34m)\u001b[0m\u001b[0;34m,\u001b[0m \u001b[0mv\u001b[0m\u001b[0;34m,\u001b[0m \u001b[0mK\u001b[0m\u001b[0;34m)\u001b[0m\u001b[0;34m\u001b[0m\u001b[0m\n\u001b[0m\u001b[1;32m    831\u001b[0m \u001b[0;34m\u001b[0m\u001b[0m\n\u001b[1;32m    832\u001b[0m         \u001b[0mh\u001b[0m\u001b[0;34m.\u001b[0m\u001b[0mappend\u001b[0m\u001b[0;34m(\u001b[0m\u001b[0mcoeff\u001b[0m\u001b[0;34m)\u001b[0m\u001b[0;34m\u001b[0m\u001b[0m\n",
      "\u001b[0;32m/usr/local/lib/python3.5/dist-packages/sympy/polys/densearith.py\u001b[0m in \u001b[0;36mdmp_mul\u001b[0;34m(f, g, u, K)\u001b[0m\n\u001b[1;32m    828\u001b[0m \u001b[0;34m\u001b[0m\u001b[0m\n\u001b[1;32m    829\u001b[0m         \u001b[0;32mfor\u001b[0m \u001b[0mj\u001b[0m \u001b[0;32min\u001b[0m \u001b[0mrange\u001b[0m\u001b[0;34m(\u001b[0m\u001b[0mmax\u001b[0m\u001b[0;34m(\u001b[0m\u001b[0;36m0\u001b[0m\u001b[0;34m,\u001b[0m \u001b[0mi\u001b[0m \u001b[0;34m-\u001b[0m \u001b[0mdg\u001b[0m\u001b[0;34m)\u001b[0m\u001b[0;34m,\u001b[0m \u001b[0mmin\u001b[0m\u001b[0;34m(\u001b[0m\u001b[0mdf\u001b[0m\u001b[0;34m,\u001b[0m \u001b[0mi\u001b[0m\u001b[0;34m)\u001b[0m \u001b[0;34m+\u001b[0m \u001b[0;36m1\u001b[0m\u001b[0;34m)\u001b[0m\u001b[0;34m:\u001b[0m\u001b[0;34m\u001b[0m\u001b[0m\n\u001b[0;32m--> 830\u001b[0;31m             \u001b[0mcoeff\u001b[0m \u001b[0;34m=\u001b[0m \u001b[0mdmp_add\u001b[0m\u001b[0;34m(\u001b[0m\u001b[0mcoeff\u001b[0m\u001b[0;34m,\u001b[0m \u001b[0mdmp_mul\u001b[0m\u001b[0;34m(\u001b[0m\u001b[0mf\u001b[0m\u001b[0;34m[\u001b[0m\u001b[0mj\u001b[0m\u001b[0;34m]\u001b[0m\u001b[0;34m,\u001b[0m \u001b[0mg\u001b[0m\u001b[0;34m[\u001b[0m\u001b[0mi\u001b[0m \u001b[0;34m-\u001b[0m \u001b[0mj\u001b[0m\u001b[0;34m]\u001b[0m\u001b[0;34m,\u001b[0m \u001b[0mv\u001b[0m\u001b[0;34m,\u001b[0m \u001b[0mK\u001b[0m\u001b[0;34m)\u001b[0m\u001b[0;34m,\u001b[0m \u001b[0mv\u001b[0m\u001b[0;34m,\u001b[0m \u001b[0mK\u001b[0m\u001b[0;34m)\u001b[0m\u001b[0;34m\u001b[0m\u001b[0m\n\u001b[0m\u001b[1;32m    831\u001b[0m \u001b[0;34m\u001b[0m\u001b[0m\n\u001b[1;32m    832\u001b[0m         \u001b[0mh\u001b[0m\u001b[0;34m.\u001b[0m\u001b[0mappend\u001b[0m\u001b[0;34m(\u001b[0m\u001b[0mcoeff\u001b[0m\u001b[0;34m)\u001b[0m\u001b[0;34m\u001b[0m\u001b[0m\n",
      "\u001b[0;32m/usr/local/lib/python3.5/dist-packages/sympy/polys/densearith.py\u001b[0m in \u001b[0;36mdmp_mul\u001b[0;34m(f, g, u, K)\u001b[0m\n\u001b[1;32m    828\u001b[0m \u001b[0;34m\u001b[0m\u001b[0m\n\u001b[1;32m    829\u001b[0m         \u001b[0;32mfor\u001b[0m \u001b[0mj\u001b[0m \u001b[0;32min\u001b[0m \u001b[0mrange\u001b[0m\u001b[0;34m(\u001b[0m\u001b[0mmax\u001b[0m\u001b[0;34m(\u001b[0m\u001b[0;36m0\u001b[0m\u001b[0;34m,\u001b[0m \u001b[0mi\u001b[0m \u001b[0;34m-\u001b[0m \u001b[0mdg\u001b[0m\u001b[0;34m)\u001b[0m\u001b[0;34m,\u001b[0m \u001b[0mmin\u001b[0m\u001b[0;34m(\u001b[0m\u001b[0mdf\u001b[0m\u001b[0;34m,\u001b[0m \u001b[0mi\u001b[0m\u001b[0;34m)\u001b[0m \u001b[0;34m+\u001b[0m \u001b[0;36m1\u001b[0m\u001b[0;34m)\u001b[0m\u001b[0;34m:\u001b[0m\u001b[0;34m\u001b[0m\u001b[0m\n\u001b[0;32m--> 830\u001b[0;31m             \u001b[0mcoeff\u001b[0m \u001b[0;34m=\u001b[0m \u001b[0mdmp_add\u001b[0m\u001b[0;34m(\u001b[0m\u001b[0mcoeff\u001b[0m\u001b[0;34m,\u001b[0m \u001b[0mdmp_mul\u001b[0m\u001b[0;34m(\u001b[0m\u001b[0mf\u001b[0m\u001b[0;34m[\u001b[0m\u001b[0mj\u001b[0m\u001b[0;34m]\u001b[0m\u001b[0;34m,\u001b[0m \u001b[0mg\u001b[0m\u001b[0;34m[\u001b[0m\u001b[0mi\u001b[0m \u001b[0;34m-\u001b[0m \u001b[0mj\u001b[0m\u001b[0;34m]\u001b[0m\u001b[0;34m,\u001b[0m \u001b[0mv\u001b[0m\u001b[0;34m,\u001b[0m \u001b[0mK\u001b[0m\u001b[0;34m)\u001b[0m\u001b[0;34m,\u001b[0m \u001b[0mv\u001b[0m\u001b[0;34m,\u001b[0m \u001b[0mK\u001b[0m\u001b[0;34m)\u001b[0m\u001b[0;34m\u001b[0m\u001b[0m\n\u001b[0m\u001b[1;32m    831\u001b[0m \u001b[0;34m\u001b[0m\u001b[0m\n\u001b[1;32m    832\u001b[0m         \u001b[0mh\u001b[0m\u001b[0;34m.\u001b[0m\u001b[0mappend\u001b[0m\u001b[0;34m(\u001b[0m\u001b[0mcoeff\u001b[0m\u001b[0;34m)\u001b[0m\u001b[0;34m\u001b[0m\u001b[0m\n",
      "\u001b[0;32m/usr/local/lib/python3.5/dist-packages/sympy/polys/densearith.py\u001b[0m in \u001b[0;36mdmp_mul\u001b[0;34m(f, g, u, K)\u001b[0m\n\u001b[1;32m    828\u001b[0m \u001b[0;34m\u001b[0m\u001b[0m\n\u001b[1;32m    829\u001b[0m         \u001b[0;32mfor\u001b[0m \u001b[0mj\u001b[0m \u001b[0;32min\u001b[0m \u001b[0mrange\u001b[0m\u001b[0;34m(\u001b[0m\u001b[0mmax\u001b[0m\u001b[0;34m(\u001b[0m\u001b[0;36m0\u001b[0m\u001b[0;34m,\u001b[0m \u001b[0mi\u001b[0m \u001b[0;34m-\u001b[0m \u001b[0mdg\u001b[0m\u001b[0;34m)\u001b[0m\u001b[0;34m,\u001b[0m \u001b[0mmin\u001b[0m\u001b[0;34m(\u001b[0m\u001b[0mdf\u001b[0m\u001b[0;34m,\u001b[0m \u001b[0mi\u001b[0m\u001b[0;34m)\u001b[0m \u001b[0;34m+\u001b[0m \u001b[0;36m1\u001b[0m\u001b[0;34m)\u001b[0m\u001b[0;34m:\u001b[0m\u001b[0;34m\u001b[0m\u001b[0m\n\u001b[0;32m--> 830\u001b[0;31m             \u001b[0mcoeff\u001b[0m \u001b[0;34m=\u001b[0m \u001b[0mdmp_add\u001b[0m\u001b[0;34m(\u001b[0m\u001b[0mcoeff\u001b[0m\u001b[0;34m,\u001b[0m \u001b[0mdmp_mul\u001b[0m\u001b[0;34m(\u001b[0m\u001b[0mf\u001b[0m\u001b[0;34m[\u001b[0m\u001b[0mj\u001b[0m\u001b[0;34m]\u001b[0m\u001b[0;34m,\u001b[0m \u001b[0mg\u001b[0m\u001b[0;34m[\u001b[0m\u001b[0mi\u001b[0m \u001b[0;34m-\u001b[0m \u001b[0mj\u001b[0m\u001b[0;34m]\u001b[0m\u001b[0;34m,\u001b[0m \u001b[0mv\u001b[0m\u001b[0;34m,\u001b[0m \u001b[0mK\u001b[0m\u001b[0;34m)\u001b[0m\u001b[0;34m,\u001b[0m \u001b[0mv\u001b[0m\u001b[0;34m,\u001b[0m \u001b[0mK\u001b[0m\u001b[0;34m)\u001b[0m\u001b[0;34m\u001b[0m\u001b[0m\n\u001b[0m\u001b[1;32m    831\u001b[0m \u001b[0;34m\u001b[0m\u001b[0m\n\u001b[1;32m    832\u001b[0m         \u001b[0mh\u001b[0m\u001b[0;34m.\u001b[0m\u001b[0mappend\u001b[0m\u001b[0;34m(\u001b[0m\u001b[0mcoeff\u001b[0m\u001b[0;34m)\u001b[0m\u001b[0;34m\u001b[0m\u001b[0m\n",
      "\u001b[0;32m/usr/local/lib/python3.5/dist-packages/sympy/polys/densearith.py\u001b[0m in \u001b[0;36mdmp_add\u001b[0;34m(f, g, u, K)\u001b[0m\n\u001b[1;32m    563\u001b[0m     \"\"\"\n\u001b[1;32m    564\u001b[0m     \u001b[0;32mif\u001b[0m \u001b[0;32mnot\u001b[0m \u001b[0mu\u001b[0m\u001b[0;34m:\u001b[0m\u001b[0;34m\u001b[0m\u001b[0m\n\u001b[0;32m--> 565\u001b[0;31m         \u001b[0;32mreturn\u001b[0m \u001b[0mdup_add\u001b[0m\u001b[0;34m(\u001b[0m\u001b[0mf\u001b[0m\u001b[0;34m,\u001b[0m \u001b[0mg\u001b[0m\u001b[0;34m,\u001b[0m \u001b[0mK\u001b[0m\u001b[0;34m)\u001b[0m\u001b[0;34m\u001b[0m\u001b[0m\n\u001b[0m\u001b[1;32m    566\u001b[0m \u001b[0;34m\u001b[0m\u001b[0m\n\u001b[1;32m    567\u001b[0m     \u001b[0mdf\u001b[0m \u001b[0;34m=\u001b[0m \u001b[0mdmp_degree\u001b[0m\u001b[0;34m(\u001b[0m\u001b[0mf\u001b[0m\u001b[0;34m,\u001b[0m \u001b[0mu\u001b[0m\u001b[0;34m)\u001b[0m\u001b[0;34m\u001b[0m\u001b[0m\n",
      "\u001b[0;31mKeyboardInterrupt\u001b[0m: "
     ]
    }
   ],
   "source": [
    "dxda_den_collections = []\n",
    "for coeff in hah.all_coeffs():\n",
    "    dxda_den_collections.append(rcollect_best(coeff))"
   ]
  },
  {
   "cell_type": "code",
   "execution_count": 1859,
   "metadata": {},
   "outputs": [
    {
     "data": {
      "text/latex": [
       "$\\displaystyle c^{2} e \\left(20 a^{2} - 30 a b + 10 b^{2}\\right)$"
      ],
      "text/plain": [
       "c**2*e*(20*a**2 - 30*a*b + 10*b**2)"
      ]
     },
     "execution_count": 1859,
     "metadata": {},
     "output_type": "execute_result"
    }
   ],
   "source": [
    "dxda_den_collections[1].args[2]"
   ]
  },
  {
   "cell_type": "code",
   "execution_count": null,
   "metadata": {},
   "outputs": [],
   "source": []
  },
  {
   "cell_type": "code",
   "execution_count": null,
   "metadata": {},
   "outputs": [],
   "source": []
  },
  {
   "cell_type": "code",
   "execution_count": null,
   "metadata": {},
   "outputs": [],
   "source": []
  },
  {
   "cell_type": "code",
   "execution_count": null,
   "metadata": {},
   "outputs": [],
   "source": []
  },
  {
   "cell_type": "code",
   "execution_count": 60,
   "metadata": {},
   "outputs": [
    {
     "data": {
      "text/plain": [
       "<local_models.local_models.LocalModels at 0x7f39c68a8438>"
      ]
     },
     "execution_count": 60,
     "metadata": {},
     "output_type": "execute_result"
    }
   ],
   "source": [
    "linear_models = local_models.local_models.LocalModels(local_models.TLS_models.LinearODR_mD(2))\n",
    "linear_models.fit(data)"
   ]
  },
  {
   "cell_type": "code",
   "execution_count": 61,
   "metadata": {},
   "outputs": [],
   "source": [
    "avg_pt_dist = np.average(linear_models.index.query(data, k=2)[0][:,1])"
   ]
  },
  {
   "cell_type": "code",
   "execution_count": 62,
   "metadata": {},
   "outputs": [
    {
     "data": {
      "text/plain": [
       "1.2836044940342985"
      ]
     },
     "execution_count": 62,
     "metadata": {},
     "output_type": "execute_result"
    }
   ],
   "source": [
    "avg_pt_dist"
   ]
  },
  {
   "cell_type": "code",
   "execution_count": 63,
   "metadata": {},
   "outputs": [],
   "source": [
    "random_data_subset = data[np.random.randint(data.shape[0], size=50)]"
   ]
  },
  {
   "cell_type": "code",
   "execution_count": 64,
   "metadata": {},
   "outputs": [],
   "source": [
    "queried = linear_models.index.query_radius(random_data_subset, r=avg_pt_dist*10)"
   ]
  },
  {
   "cell_type": "code",
   "execution_count": 65,
   "metadata": {},
   "outputs": [
    {
     "data": {
      "text/plain": [
       "[(289,),\n",
       " (315,),\n",
       " (283,),\n",
       " (386,),\n",
       " (209,),\n",
       " (106,),\n",
       " (375,),\n",
       " (321,),\n",
       " (405,),\n",
       " (372,),\n",
       " (341,),\n",
       " (352,),\n",
       " (376,),\n",
       " (308,),\n",
       " (249,),\n",
       " (347,),\n",
       " (245,),\n",
       " (380,),\n",
       " (378,),\n",
       " (414,),\n",
       " (419,),\n",
       " (106,),\n",
       " (345,),\n",
       " (320,),\n",
       " (444,),\n",
       " (282,),\n",
       " (208,),\n",
       " (371,),\n",
       " (368,),\n",
       " (423,),\n",
       " (307,),\n",
       " (435,),\n",
       " (374,),\n",
       " (324,),\n",
       " (271,),\n",
       " (147,),\n",
       " (150,),\n",
       " (147,),\n",
       " (397,),\n",
       " (318,),\n",
       " (407,),\n",
       " (200,),\n",
       " (239,),\n",
       " (403,),\n",
       " (401,),\n",
       " (316,),\n",
       " (353,),\n",
       " (321,),\n",
       " (261,),\n",
       " (289,)]"
      ]
     },
     "execution_count": 65,
     "metadata": {},
     "output_type": "execute_result"
    }
   ],
   "source": [
    "list(map(lambda x: x.shape, queried))"
   ]
  },
  {
   "cell_type": "code",
   "execution_count": 66,
   "metadata": {},
   "outputs": [],
   "source": [
    "kernel = local_models.local_models.TriCubeKernel(bandwidth=avg_pt_dist*10)"
   ]
  },
  {
   "cell_type": "code",
   "execution_count": 67,
   "metadata": {},
   "outputs": [],
   "source": [
    "linear_params_vecs, linear_params_mean = local_models.linear_projections.transformate_data(data, kernel, linear_models, r=kernel.support_radius())"
   ]
  },
  {
   "cell_type": "code",
   "execution_count": 68,
   "metadata": {},
   "outputs": [
    {
     "data": {
      "text/plain": [
       "(58659, 2, 3)"
      ]
     },
     "execution_count": 68,
     "metadata": {},
     "output_type": "execute_result"
    }
   ],
   "source": [
    "linear_params_vecs.shape"
   ]
  },
  {
   "cell_type": "code",
   "execution_count": 103,
   "metadata": {},
   "outputs": [],
   "source": [
    "def imshow(pth, cv2color=cv2.IMREAD_COLOR, **kwargs):\n",
    "    img = cv2.imread(pth, cv2color)\n",
    "    plt.imshow(img, **kwargs)"
   ]
  },
  {
   "cell_type": "code",
   "execution_count": 83,
   "metadata": {},
   "outputs": [],
   "source": [
    "N = int(data.shape[0]/10)\n",
    "sample_indices = np.random.choice(np.arange(data.shape[0]), size=N)\n",
    "\n",
    "pth = os.path.join(project_dir, \"single_convergence.png\")\n",
    "data_avg = np.average(data, axis=0)\n",
    "data_std = np.std(data, axis=0)\n",
    "figure = mayavi.mlab.figure(figure=None, bgcolor=(1,1,1), fgcolor=(0,0,0), engine=None, size=(1000, 500))\n",
    "data_nodes = plt_data(figure, linear_params_mean[sample_indices], data_std)\n",
    "normals = np.cross(*np.rollaxis(linear_params_vecs[sample_indices],1))\n",
    "#normal_vecs = plt_normals(figure, normals, linear_params_mean[sample_indices], data_std)\n",
    "#neg_normal_vecs = plt_normals(figure, -normals, linear_params_mean[sample_indices], data_std)\n",
    "normalize_view(figure, data_avg, data_std, azimuth=40, elevation=80)\n",
    "mayavi.mlab.savefig(pth, magnification=2)\n",
    "mayavi.mlab.close(figure)"
   ]
  },
  {
   "cell_type": "code",
   "execution_count": 105,
   "metadata": {},
   "outputs": [
    {
     "data": {
      "text/plain": [
       "(-0.5, 1999.5, 999.5, -0.5)"
      ]
     },
     "execution_count": 105,
     "metadata": {},
     "output_type": "execute_result"
    },
    {
     "data": {
      "image/png": "[encoded data removed]",
      "text/plain": [
       "<matplotlib.figure.Figure at 0x7f39909159e8>"
      ]
     },
     "metadata": {
      "needs_background": "light"
     },
     "output_type": "display_data"
    }
   ],
   "source": [
    "imshow(pth)\n",
    "plt.axis(\"off\")"
   ]
  },
  {
   "cell_type": "code",
   "execution_count": 84,
   "metadata": {},
   "outputs": [
    {
     "data": {
      "text/plain": [
       "<local_models.TLS_models.LinearODR_mD at 0x7f399aae8240>"
      ]
     },
     "execution_count": 84,
     "metadata": {},
     "output_type": "execute_result"
    }
   ],
   "source": [
    "global_linear_model = local_models.TLS_models.LinearODR_mD(2)\n",
    "global_linear_model.fit(data)"
   ]
  },
  {
   "cell_type": "code",
   "execution_count": 87,
   "metadata": {},
   "outputs": [],
   "source": [
    "global_linear_model.coef_\n",
    "global_params_vecs = global_linear_model.coef_.reshape(2,-1)\n",
    "global_params_mean = global_linear_model.intercept_\n",
    "global_normal = np.cross(*global_params_vecs)"
   ]
  },
  {
   "cell_type": "code",
   "execution_count": 94,
   "metadata": {},
   "outputs": [],
   "source": [
    "basis_changer = np.concatenate((global_params_vecs, global_normal.reshape(1,-1)),axis=0).T\n",
    "basis_changer = np.linalg.inv(basis_changer)"
   ]
  },
  {
   "cell_type": "code",
   "execution_count": 95,
   "metadata": {},
   "outputs": [],
   "source": [
    "bases_changed = np.einsum('ij,kj->ki', basis_changer, data-global_params_mean)"
   ]
  },
  {
   "cell_type": "code",
   "execution_count": 98,
   "metadata": {},
   "outputs": [],
   "source": [
    "x,y,z = bases_changed.T"
   ]
  },
  {
   "cell_type": "code",
   "execution_count": 106,
   "metadata": {},
   "outputs": [
    {
     "data": {
      "text/plain": [
       "(-187.9690848273605,\n",
       " 160.5978956286218,\n",
       " -131.18478754473625,\n",
       " 174.82998666860883)"
      ]
     },
     "execution_count": 106,
     "metadata": {},
     "output_type": "execute_result"
    },
    {
     "data": {
      "image/png": "[encoded data removed]",
      "text/plain": [
       "<matplotlib.figure.Figure at 0x7f39907c0f98>"
      ]
     },
     "metadata": {
      "needs_background": "light"
     },
     "output_type": "display_data"
    }
   ],
   "source": [
    "plt.scatter(x,y,c=z)\n",
    "plt.axis(\"off\")"
   ]
  }
 ],
 "metadata": {
  "kernelspec": {
   "display_name": "Python 3",
   "language": "python",
   "name": "python3"
  },
  "language_info": {
   "codemirror_mode": {
    "name": "ipython",
    "version": 3
   },
   "file_extension": ".py",
   "mimetype": "text/x-python",
   "name": "python",
   "nbconvert_exporter": "python",
   "pygments_lexer": "ipython3",
   "version": "3.5.2"
  }
 },
 "nbformat": 4,
 "nbformat_minor": 2
}
