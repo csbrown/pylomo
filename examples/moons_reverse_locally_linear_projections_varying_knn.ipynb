{
 "cells": [
  {
   "cell_type": "code",
   "execution_count": 1,
   "metadata": {},
   "outputs": [],
   "source": [
    "import local_models.local_models\n",
    "import local_models.loggin\n",
    "import local_models.TLS_models\n",
    "import local_models.linear_projections\n",
    "import local_models.utils\n",
    "import local_models.algorithms\n",
    "import local_models.visualization\n",
    "import numpy as np\n",
    "import matplotlib.pyplot as plt\n",
    "import sklearn.linear_model\n",
    "import sklearn.cluster\n",
    "from importlib import reload\n",
    "from ml_battery.utils import cmap\n",
    "import matplotlib as mpl\n",
    "import sklearn.datasets\n",
    "import scipy.stats\n",
    "import logging\n",
    "import ml_battery.log\n",
    "import time\n",
    "import os\n",
    "from IPython.display import Markdown as md\n",
    "import joblib\n",
    "import tqdm\n",
    "import functools\n",
    "import itertools\n",
    "\n",
    "logger = logging.getLogger(__name__)\n",
    "\n",
    "reload(local_models.local_models)\n",
    "#reload(lm)\n",
    "#reload(local_models.loggin)\n",
    "#reload(local_models.TLS_models)\n",
    "np.warnings.filterwarnings('ignore')\n",
    "\n",
    "def import_shit():\n",
    "    import local_models.local_models\n",
    "    import local_models.loggin\n",
    "    import local_models.TLS_models\n",
    "    import local_models.linear_projections\n",
    "    import local_models.utils\n",
    "    import local_models.algorithms\n",
    "    import numpy as np\n",
    "    import matplotlib.pyplot as plt\n",
    "    import sklearn.linear_model\n",
    "    import sklearn.cluster\n",
    "    from importlib import reload\n",
    "    from ml_battery.utils import cmap\n",
    "    import matplotlib as mpl\n",
    "    import sklearn.datasets\n",
    "    import scipy.stats\n",
    "    import logging\n",
    "    import ml_battery.log\n",
    "    import time\n",
    "    import os\n",
    "    from IPython.display import Markdown as md\n",
    "    import joblib\n",
    "    import itertools\n",
    "    import functools"
   ]
  },
  {
   "cell_type": "code",
   "execution_count": 2,
   "metadata": {},
   "outputs": [],
   "source": [
    "kernel_names = {\n",
    "    local_models.local_models.GaussianKernel: 'gaussian',\n",
    "    local_models.local_models.TriCubeKernel: 'tricube'\n",
    "}"
   ]
  },
  {
   "cell_type": "code",
   "execution_count": 3,
   "metadata": {},
   "outputs": [],
   "source": [
    "mpl.rcParams['figure.figsize'] = [16.0, 16.0]"
   ]
  },
  {
   "cell_type": "code",
   "execution_count": 4,
   "metadata": {},
   "outputs": [],
   "source": [
    "project_dir = \"../data/moons_tls_knn_01\"\n",
    "os.makedirs(project_dir, exist_ok=1)"
   ]
  },
  {
   "cell_type": "code",
   "execution_count": 5,
   "metadata": {},
   "outputs": [],
   "source": [
    "n = 200\n",
    "noise=.06\n",
    "SEED = 1\n",
    "np.random.seed(SEED)\n",
    "KERNEL=local_models.local_models.UniformKernel\n",
    "noisy_moons, c = sklearn.datasets.make_moons(n_samples=n, noise=noise)"
   ]
  },
  {
   "cell_type": "code",
   "execution_count": 6,
   "metadata": {},
   "outputs": [
    {
     "data": {
      "text/plain": [
       "<local_models.local_models.LocalModels at 0x7fcbac0c2f60>"
      ]
     },
     "execution_count": 6,
     "metadata": {},
     "output_type": "execute_result"
    }
   ],
   "source": [
    "linear_models = local_models.local_models.LocalModels(local_models.TLS_models.LinearODR_mD(1))\n",
    "linear_models.fit(noisy_moons)"
   ]
  },
  {
   "cell_type": "code",
   "execution_count": null,
   "metadata": {},
   "outputs": [],
   "source": [
    "%%capture\n",
    "kernel = KERNEL(bandwidth=\"knn\", k=2)\n",
    "fig_dir_lines = os.path.join(project_dir, str(kernel))\n",
    "local_models.visualization.make_tlsline_iterprojections_animation(linear_models, noisy_moons, c, fig_dir_lines, range_pct=0.1, grid_steps=100, iterations=100, kernel=kernel)"
   ]
  },
  {
   "cell_type": "code",
   "execution_count": null,
   "metadata": {},
   "outputs": [],
   "source": []
  },
  {
   "cell_type": "code",
   "execution_count": null,
   "metadata": {},
   "outputs": [],
   "source": []
  }
 ],
 "metadata": {
  "kernelspec": {
   "display_name": "Python 3",
   "language": "python",
   "name": "python3"
  },
  "language_info": {
   "codemirror_mode": {
    "name": "ipython",
    "version": 3
   },
   "file_extension": ".py",
   "mimetype": "text/x-python",
   "name": "python",
   "nbconvert_exporter": "python",
   "pygments_lexer": "ipython3",
   "version": "3.5.2"
  }
 },
 "nbformat": 4,
 "nbformat_minor": 2
}
