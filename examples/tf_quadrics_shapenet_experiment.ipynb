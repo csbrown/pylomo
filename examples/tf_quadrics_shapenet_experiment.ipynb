{
 "cells": [
  {
   "cell_type": "code",
   "execution_count": 1,
   "metadata": {},
   "outputs": [
    {
     "name": "stderr",
     "output_type": "stream",
     "text": [
      "/usr/local/lib/python3.5/dist-packages/tensorboard/compat/tensorflow_stub/dtypes.py:541: FutureWarning: Passing (type, 1) or '1type' as a synonym of type is deprecated; in a future version of numpy, it will be understood as (type, (1,)) / '(1,)type'.\n",
      "  _np_qint8 = np.dtype([(\"qint8\", np.int8, 1)])\n",
      "/usr/local/lib/python3.5/dist-packages/tensorboard/compat/tensorflow_stub/dtypes.py:542: FutureWarning: Passing (type, 1) or '1type' as a synonym of type is deprecated; in a future version of numpy, it will be understood as (type, (1,)) / '(1,)type'.\n",
      "  _np_quint8 = np.dtype([(\"quint8\", np.uint8, 1)])\n",
      "/usr/local/lib/python3.5/dist-packages/tensorboard/compat/tensorflow_stub/dtypes.py:543: FutureWarning: Passing (type, 1) or '1type' as a synonym of type is deprecated; in a future version of numpy, it will be understood as (type, (1,)) / '(1,)type'.\n",
      "  _np_qint16 = np.dtype([(\"qint16\", np.int16, 1)])\n",
      "/usr/local/lib/python3.5/dist-packages/tensorboard/compat/tensorflow_stub/dtypes.py:544: FutureWarning: Passing (type, 1) or '1type' as a synonym of type is deprecated; in a future version of numpy, it will be understood as (type, (1,)) / '(1,)type'.\n",
      "  _np_quint16 = np.dtype([(\"quint16\", np.uint16, 1)])\n",
      "/usr/local/lib/python3.5/dist-packages/tensorboard/compat/tensorflow_stub/dtypes.py:545: FutureWarning: Passing (type, 1) or '1type' as a synonym of type is deprecated; in a future version of numpy, it will be understood as (type, (1,)) / '(1,)type'.\n",
      "  _np_qint32 = np.dtype([(\"qint32\", np.int32, 1)])\n",
      "/usr/local/lib/python3.5/dist-packages/tensorboard/compat/tensorflow_stub/dtypes.py:550: FutureWarning: Passing (type, 1) or '1type' as a synonym of type is deprecated; in a future version of numpy, it will be understood as (type, (1,)) / '(1,)type'.\n",
      "  np_resource = np.dtype([(\"resource\", np.ubyte, 1)])\n"
     ]
    }
   ],
   "source": [
    "import local_models.local_models\n",
    "import local_models.algorithms\n",
    "import local_models.utils\n",
    "import local_models.linear_projections\n",
    "import local_models.loggin\n",
    "import local_models.TLS_models\n",
    "from local_models.plotting_utils import mayavi_plt_pts\n",
    "from local_models.tf_quadric_models import *\n",
    "import numpy as np\n",
    "import matplotlib.pyplot as plt\n",
    "import sklearn.linear_model\n",
    "import sklearn.cluster\n",
    "from importlib import reload\n",
    "from ml_battery.utils import cmap\n",
    "import matplotlib as mpl\n",
    "import sklearn.datasets\n",
    "import sklearn.decomposition\n",
    "import logging\n",
    "import ml_battery.log\n",
    "import time\n",
    "import os\n",
    "import mayavi\n",
    "import mayavi.mlab\n",
    "import string\n",
    "import subprocess\n",
    "import functools\n",
    "import cv2\n",
    "import itertools\n",
    "from local_models.quadric_models import *\n",
    "from local_models.plotting_utils import *\n",
    "import joblib\n",
    "\n",
    "\n",
    "#on headless systems, tmux: \"Xvfb :1 -screen 0 1280x1024x24 -auth localhost\", then \"export DISPLAY=:1\" in the jupyter tmux\n",
    "mayavi.mlab.options.offscreen = True\n",
    "\n",
    "\n",
    "\n",
    "logger = logging.getLogger(__name__)\n",
    "\n",
    "#reload(local_models.local_models)\n",
    "#reload(lm)\n",
    "#reload(local_models.loggin)\n",
    "#reload(local_models.TLS_models)\n",
    "np.warnings.filterwarnings('ignore')\n"
   ]
  },
  {
   "cell_type": "code",
   "execution_count": null,
   "metadata": {},
   "outputs": [],
   "source": []
  },
  {
   "cell_type": "code",
   "execution_count": 2,
   "metadata": {},
   "outputs": [],
   "source": [
    "FRESH=True"
   ]
  },
  {
   "cell_type": "code",
   "execution_count": 3,
   "metadata": {},
   "outputs": [],
   "source": [
    "kernel_names = {\n",
    "    local_models.local_models.GaussianKernel: 'gaussian',\n",
    "    local_models.local_models.TriCubeKernel: 'tricube'\n",
    "}"
   ]
  },
  {
   "cell_type": "code",
   "execution_count": 4,
   "metadata": {},
   "outputs": [],
   "source": [
    "mpl.rcParams['figure.figsize'] = [8.0, 8.0]"
   ]
  },
  {
   "cell_type": "code",
   "execution_count": 5,
   "metadata": {},
   "outputs": [],
   "source": [
    "example_data = np.loadtxt(\"/home/brown/disk2/shapenet/train_data/02691156/000176.pts\")"
   ]
  },
  {
   "cell_type": "code",
   "execution_count": 6,
   "metadata": {},
   "outputs": [
    {
     "data": {
      "text/plain": [
       "(2552, 3)"
      ]
     },
     "execution_count": 6,
     "metadata": {},
     "output_type": "execute_result"
    }
   ],
   "source": [
    "example_data.shape"
   ]
  },
  {
   "cell_type": "code",
   "execution_count": 7,
   "metadata": {},
   "outputs": [
    {
     "data": {
      "text/plain": [
       "array([0.15554406, 0.03679307, 0.11109593])"
      ]
     },
     "execution_count": 7,
     "metadata": {},
     "output_type": "execute_result"
    }
   ],
   "source": [
    "np.std(example_data,axis=0)"
   ]
  },
  {
   "cell_type": "code",
   "execution_count": 8,
   "metadata": {},
   "outputs": [],
   "source": [
    "#scale the data.... having underflow errors\n",
    "example_data = example_data*1/np.min(np.std(example_data, axis=0))"
   ]
  },
  {
   "cell_type": "code",
   "execution_count": 9,
   "metadata": {},
   "outputs": [
    {
     "data": {
      "text/plain": [
       "array([4.22753651, 1.        , 3.01947946])"
      ]
     },
     "execution_count": 9,
     "metadata": {},
     "output_type": "execute_result"
    }
   ],
   "source": [
    "np.std(example_data,axis=0)"
   ]
  },
  {
   "cell_type": "code",
   "execution_count": 10,
   "metadata": {},
   "outputs": [],
   "source": [
    "KERNEL=local_models.local_models.TriCubeKernel\n",
    "RUN = 11\n",
    "ALPHA=1.5 #curvatures\n",
    "BETA=0. #offsets\n",
    "GAMMA=0. #intercept\n",
    "ETA=1.5 #direction\n",
    "ZETA=1. #point\n",
    "\n",
    "#subsample_rate = 0.005\n",
    "K=30\n",
    "kernel=KERNEL(bandwidth=\"knn\", k=K)\n",
    "\n",
    "project_dir = \"../data/shapenet_{}_{:03d}\".format(kernel_names[KERNEL], RUN)\n",
    "\n",
    "os.makedirs(project_dir, exist_ok=1)"
   ]
  },
  {
   "cell_type": "code",
   "execution_count": 11,
   "metadata": {},
   "outputs": [],
   "source": [
    "def local_odq_shift_parallel(unfitted_quadric_models, fit_data, predict_data, \n",
    "    iterations=100, kernel=None, batch_size=100, n_jobs=32, previous_beta0=False, model_updater=None, return_params=False):\n",
    "    \n",
    "    base_batch = np.array([0,batch_size])\n",
    "    n_batches = predict_data.shape[0]/batch_size\n",
    "\n",
    "    slicers = [slice(*(base_batch + batch_size*n)) for n in range(int(np.ceil(n_batches)))]\n",
    "\n",
    "    iterated_predictionses = joblib.Parallel(n_jobs=n_jobs, verbose=100)(joblib.delayed(local_odq_shift_unfitted)(\n",
    "                unfitted_quadric_models,\n",
    "                fit_data,\n",
    "                predict_data[slicer],\n",
    "                iterations=iterations,\n",
    "                kernel=kernel,\n",
    "                previous_beta0=previous_beta0,\n",
    "                model_updater=model_updater,\n",
    "                return_params=return_params,\n",
    "                identifier=slicer\n",
    "            )\n",
    "            for slicer in slicers\n",
    "        )\n",
    "    logger.info(\"finished\")\n",
    "    return iterated_predictionses"
   ]
  },
  {
   "cell_type": "code",
   "execution_count": 12,
   "metadata": {},
   "outputs": [
    {
     "data": {
      "image/png": "[encoded data removed]",
      "text/plain": [
       "<matplotlib.figure.Figure at 0x7f158ae18c50>"
      ]
     },
     "metadata": {
      "needs_background": "light"
     },
     "output_type": "display_data"
    }
   ],
   "source": [
    "mayavi_plt_pts(example_data)"
   ]
  },
  {
   "cell_type": "code",
   "execution_count": 13,
   "metadata": {},
   "outputs": [
    {
     "name": "stdout",
     "output_type": "stream",
     "text": [
      "nothing to del\n",
      "nothing to del\n",
      "nothing to del\n",
      "nothing to del\n",
      "nothing to del\n"
     ]
    }
   ],
   "source": [
    "with fuckit(\"nothing to del\"):\n",
    "    TFQuadricSesh.close()\n",
    "with fuckit(\"nothing to del\"):\n",
    "    del TFQuadricSesh \n",
    "with fuckit(\"nothing to del\"):\n",
    "    del TFQuadricGraph \n",
    "with fuckit(\"nothing to del\"):\n",
    "    del local_models.tf_quadric_models.TFQuadricSesh\n",
    "with fuckit(\"nothing to del\"):\n",
    "    del local_models.tf_quadric_models.TFQuadricGraph"
   ]
  },
  {
   "cell_type": "code",
   "execution_count": 14,
   "metadata": {},
   "outputs": [
    {
     "name": "stdout",
     "output_type": "stream",
     "text": [
      "building!\n",
      "Tensor(\"quadric_regression/quadric_projection/transpose_1:0\", shape=(3, 3), dtype=complex128)\n",
      "Tensor(\"quadric_regression/quadric_projection/matmul_1:0\", shape=(?, 3), dtype=complex128)\n",
      "Tensor(\"quadric_regression/quadric_projection/matmul_2:0\", shape=(1, 3), dtype=complex128)\n",
      "L,U,UL,UR,BR Tensor(\"quadric_regression/quadric_projection/GatherV2_1:0\", shape=(3,), dtype=complex128) Tensor(\"quadric_regression/quadric_projection/GatherV2_2:0\", shape=(3, 3), dtype=complex128) Tensor(\"quadric_regression/quadric_projection/GatherV2_1:0\", shape=(3,), dtype=complex128) Tensor(\"quadric_regression/quadric_projection/add_2:0\", shape=(?, 3), dtype=complex128) Tensor(\"quadric_regression/quadric_projection/add_4:0\", shape=(?, 1), dtype=complex128)\n",
      "args0 Tensor(\"quadric_regression/quadric_projection/cond/strided_slice_2:0\", shape=(?, 1), dtype=complex128)\n",
      "(?, 1)\n",
      "args1 Tensor(\"quadric_regression/quadric_projection/cond/strided_slice_3:0\", shape=(?, 1), dtype=complex128)\n",
      "(?, 1)\n",
      "args2 Tensor(\"quadric_regression/quadric_projection/cond/strided_slice_4:0\", shape=(?, 1), dtype=complex128)\n",
      "(?, 1)\n",
      "args3 Tensor(\"quadric_regression/quadric_projection/cond/strided_slice_5:0\", shape=(?, 1), dtype=complex128)\n",
      "(?, 1)\n",
      "args4 Tensor(\"quadric_regression/quadric_projection/cond/strided_slice_6:0\", shape=(?, 1), dtype=complex128)\n",
      "(?, 1)\n",
      "args5 Tensor(\"quadric_regression/quadric_projection/cond/strided_slice_7:0\", shape=(?, 1), dtype=complex128)\n",
      "(?, 1)\n",
      "coeffses0 Tensor(\"quadric_regression/quadric_projection/cond/mul_3:0\", shape=(?, 1), dtype=complex128)\n",
      "(?, 1)\n",
      "coeffses1 Tensor(\"quadric_regression/quadric_projection/cond/mul_10:0\", shape=(?, 1), dtype=complex128)\n",
      "(?, 1)\n",
      "coeffses2 Tensor(\"quadric_regression/quadric_projection/cond/mul_19:0\", shape=(?, 1), dtype=complex128)\n",
      "(?, 1)\n",
      "coeffses3 Tensor(\"quadric_regression/quadric_projection/cond/add_9:0\", shape=(?, 1), dtype=complex128)\n",
      "(?, 1)\n",
      "coeffses4 Tensor(\"quadric_regression/quadric_projection/cond/mul_32:0\", shape=(?, 1), dtype=complex128)\n",
      "(?, 1)\n",
      "coeffses5 Tensor(\"quadric_regression/quadric_projection/cond/mul_33:0\", shape=(?, 1), dtype=complex128)\n",
      "(?, 1)\n",
      "kmat Tensor(\"quadric_regression/quadric_projection/cond/stack:0\", shape=(?, 1, 6), dtype=complex128)\n",
      "coeff_vectors Tensor(\"quadric_regression/quadric_projection/cond/strided_slice_8:0\", shape=(?, 6), dtype=complex128)\n",
      "zero_indices Tensor(\"quadric_regression/quadric_projection/cond/ArgMax:0\", shape=(?,), dtype=int64)\n",
      "mask Tensor(\"quadric_regression/quadric_projection/cond/Less:0\", shape=(?, ?), dtype=bool)\n",
      "fill_value Tensor(\"quadric_regression/quadric_projection/cond/Cast_2:0\", shape=(), dtype=complex128)\n",
      "justbeforezeroing Tensor(\"quadric_regression/quadric_projection/cond/strided_slice_8:0\", shape=(?, 6), dtype=complex128)\n",
      "t Tensor(\"quadric_regression/quadric_projection/cond/mul_34:0\", shape=(?, ?), dtype=complex128)\n",
      "f Tensor(\"quadric_regression/quadric_projection/cond/mul_35:0\", shape=(?, 6), dtype=complex128)\n",
      "select_result Tensor(\"quadric_regression/quadric_projection/cond/add_12:0\", shape=(?, 6), dtype=complex128)\n",
      "zeroed Tensor(\"quadric_regression/quadric_projection/cond/add_12:0\", shape=(?, 6), dtype=complex128)\n",
      "cshape (?, 6)\n",
      "rotated_coeffs Tensor(\"quadric_regression/quadric_projection/cond/Gather/Reshape_3:0\", shape=(?, 6), dtype=complex128)\n",
      "backward_coeffs_to_nless1 Tensor(\"quadric_regression/quadric_projection/cond/strided_slice_13:0\", shape=(?, 5), dtype=complex128)\n",
      "unit_lead_coeffs_to_nless1 Tensor(\"quadric_regression/quadric_projection/cond/truediv:0\", shape=(?, 5), dtype=complex128)\n",
      "roots Tensor(\"quadric_regression/quadric_projection/cond/CompanionEigv:0\", shape=(?, ?), dtype=complex128)\n",
      "sorted_roots Tensor(\"quadric_regression/quadric_projection/cond/Gather_1/Reshape_3:0\", shape=(?, ?), dtype=complex128)\n",
      "mask Tensor(\"quadric_regression/quadric_projection/cond/Less_1:0\", shape=(?, ?), dtype=bool)\n",
      "fill_value Tensor(\"quadric_regression/quadric_projection/cond/Cast_6:0\", shape=(), dtype=complex128)\n",
      "justbeforezeroing Tensor(\"quadric_regression/quadric_projection/cond/Gather_1/Reshape_3:0\", shape=(?, ?), dtype=complex128)\n",
      "t Tensor(\"quadric_regression/quadric_projection/cond/mul_36:0\", shape=(?, ?), dtype=complex128)\n",
      "f Tensor(\"quadric_regression/quadric_projection/cond/mul_37:0\", shape=(?, ?), dtype=complex128)\n",
      "select_result Tensor(\"quadric_regression/quadric_projection/cond/add_14:0\", shape=(?, ?), dtype=complex128)\n",
      "(?, ?)\n",
      "munging_dims (2, ?, ?) (1, ?, ?)\n",
      "munged (3, ?, ?)\n",
      "pts Tensor(\"quadric_regression/quadric_projection/cond/Select:0\", shape=(?, ?, 3), dtype=complex128)\n",
      "the mask Tensor(\"quadric_regression/quadric_projection/cond/Greater_1:0\", shape=(?, ?), dtype=bool)\n",
      "dists Tensor(\"quadric_regression/quadric_projection/cond/Sum_1:0\", shape=(?, ?), dtype=float64)\n",
      "regular_pts Tensor(\"quadric_regression/quadric_projection/cond/Merge:0\", shape=(?, 3), dtype=complex128)\n",
      "args0 Tensor(\"quadric_regression/quadric_projection/cond_1/strided_slice_2:0\", shape=(?, 1), dtype=complex128)\n",
      "(?, 1)\n",
      "args1 Tensor(\"quadric_regression/quadric_projection/cond_1/strided_slice_3:0\", shape=(?, 1), dtype=complex128)\n",
      "(?, 1)\n",
      "args2 Tensor(\"quadric_regression/quadric_projection/cond_1/strided_slice_4:0\", shape=(?, 1), dtype=complex128)\n",
      "(?, 1)\n",
      "args3 Tensor(\"quadric_regression/quadric_projection/cond_1/strided_slice_5:0\", shape=(?, 1), dtype=complex128)\n",
      "(?, 1)\n",
      "args4 Tensor(\"quadric_regression/quadric_projection/cond_1/strided_slice_6:0\", shape=(?, 1), dtype=complex128)\n",
      "(?, 1)\n",
      "args5 Tensor(\"quadric_regression/quadric_projection/cond_1/strided_slice_7:0\", shape=(?, 1), dtype=complex128)\n",
      "(?, 1)\n",
      "coeffses0 Tensor(\"quadric_regression/quadric_projection/cond_1/mul_1:0\", shape=(?, 1), dtype=complex128)\n",
      "(?, 1)\n",
      "coeffses1 Tensor(\"quadric_regression/quadric_projection/cond_1/mul_7:0\", shape=(?, 1), dtype=complex128)\n",
      "(?, 1)\n",
      "coeffses2 Tensor(\"quadric_regression/quadric_projection/cond_1/add_2:0\", shape=(?, 1), dtype=complex128)\n",
      "(?, 1)\n",
      "coeffses3 Tensor(\"quadric_regression/quadric_projection/cond_1/add_6:0\", shape=(?, 1), dtype=complex128)\n",
      "(?, 1)\n",
      "coeffses4 Tensor(\"quadric_regression/quadric_projection/cond_1/add_10:0\", shape=(?, 1), dtype=complex128)\n",
      "(?, 1)\n",
      "coeffses5 Tensor(\"quadric_regression/quadric_projection/cond_1/mul_59:0\", shape=(?, 1), dtype=complex128)\n",
      "(?, 1)\n",
      "coeffses6 Tensor(\"quadric_regression/quadric_projection/cond_1/mul_60:0\", shape=(?, 1), dtype=complex128)\n",
      "(?, 1)\n",
      "kmat Tensor(\"quadric_regression/quadric_projection/cond_1/stack:0\", shape=(?, 1, 7), dtype=complex128)\n",
      "coeff_vectors Tensor(\"quadric_regression/quadric_projection/cond_1/strided_slice_8:0\", shape=(?, 7), dtype=complex128)\n",
      "zero_indices Tensor(\"quadric_regression/quadric_projection/cond_1/ArgMax:0\", shape=(?,), dtype=int64)\n",
      "mask Tensor(\"quadric_regression/quadric_projection/cond_1/Less:0\", shape=(?, ?), dtype=bool)\n",
      "fill_value Tensor(\"quadric_regression/quadric_projection/cond_1/Cast_2:0\", shape=(), dtype=complex128)\n",
      "justbeforezeroing Tensor(\"quadric_regression/quadric_projection/cond_1/strided_slice_8:0\", shape=(?, 7), dtype=complex128)\n",
      "t Tensor(\"quadric_regression/quadric_projection/cond_1/mul_61:0\", shape=(?, ?), dtype=complex128)\n",
      "f Tensor(\"quadric_regression/quadric_projection/cond_1/mul_62:0\", shape=(?, 7), dtype=complex128)\n",
      "select_result Tensor(\"quadric_regression/quadric_projection/cond_1/add_14:0\", shape=(?, 7), dtype=complex128)\n",
      "zeroed Tensor(\"quadric_regression/quadric_projection/cond_1/add_14:0\", shape=(?, 7), dtype=complex128)\n",
      "cshape (?, 7)\n",
      "rotated_coeffs Tensor(\"quadric_regression/quadric_projection/cond_1/Gather/Reshape_3:0\", shape=(?, 7), dtype=complex128)\n",
      "backward_coeffs_to_nless1 Tensor(\"quadric_regression/quadric_projection/cond_1/strided_slice_13:0\", shape=(?, 6), dtype=complex128)\n",
      "unit_lead_coeffs_to_nless1 Tensor(\"quadric_regression/quadric_projection/cond_1/truediv:0\", shape=(?, 6), dtype=complex128)\n",
      "roots Tensor(\"quadric_regression/quadric_projection/cond_1/CompanionEigv:0\", shape=(?, ?), dtype=complex128)\n",
      "sorted_roots Tensor(\"quadric_regression/quadric_projection/cond_1/Gather_1/Reshape_3:0\", shape=(?, ?), dtype=complex128)\n",
      "mask Tensor(\"quadric_regression/quadric_projection/cond_1/Less_1:0\", shape=(?, ?), dtype=bool)\n",
      "fill_value Tensor(\"quadric_regression/quadric_projection/cond_1/Cast_6:0\", shape=(), dtype=complex128)\n",
      "justbeforezeroing Tensor(\"quadric_regression/quadric_projection/cond_1/Gather_1/Reshape_3:0\", shape=(?, ?), dtype=complex128)\n",
      "t Tensor(\"quadric_regression/quadric_projection/cond_1/mul_63:0\", shape=(?, ?), dtype=complex128)\n",
      "f Tensor(\"quadric_regression/quadric_projection/cond_1/mul_64:0\", shape=(?, ?), dtype=complex128)\n",
      "select_result Tensor(\"quadric_regression/quadric_projection/cond_1/add_16:0\", shape=(?, ?), dtype=complex128)\n",
      "(?, ?)\n",
      "munging_dims (2, ?, ?) (1, ?, ?)\n",
      "munged (3, ?, ?)\n",
      "pts Tensor(\"quadric_regression/quadric_projection/cond_1/Select:0\", shape=(?, ?, 3), dtype=complex128)\n",
      "the mask Tensor(\"quadric_regression/quadric_projection/cond_1/Greater_1:0\", shape=(?, ?), dtype=bool)\n",
      "dists Tensor(\"quadric_regression/quadric_projection/cond_1/Sum_1:0\", shape=(?, ?), dtype=float64)\n"
     ]
    },
    {
     "name": "stdout",
     "output_type": "stream",
     "text": [
      "special_pts Tensor(\"quadric_regression/quadric_projection/cond_1/Merge:0\", shape=(?, 3), dtype=complex128)\n",
      "Tensor(\"quadric_regression/training/optimizer/update_quadric_regression/quadric_projection/flattened_quadric/parabolic_constraint/GatherV2_1:0\", shape=(3,), dtype=float64)\n",
      "Tensor(\"quadric_regression/training/optimizer/update_quadric_regression/quadric_projection/flattened_quadric/parabolic_constraint/concat_3:0\", shape=(3,), dtype=float64)\n",
      "(4, 4)\n"
     ]
    }
   ],
   "source": [
    "parabolic_model = TFParabolic(n_epochs=5000, log_epochs=0.01, weighted=True)"
   ]
  },
  {
   "cell_type": "code",
   "execution_count": 15,
   "metadata": {},
   "outputs": [],
   "source": [
    "local_quadrics = local_models.local_models.LocalModels(parabolic_model)"
   ]
  },
  {
   "cell_type": "code",
   "execution_count": 16,
   "metadata": {},
   "outputs": [
    {
     "data": {
      "text/plain": [
       "<local_models.local_models.LocalModels at 0x7f1582d261d0>"
      ]
     },
     "execution_count": 16,
     "metadata": {},
     "output_type": "execute_result"
    }
   ],
   "source": [
    "local_quadrics.fit(example_data)"
   ]
  },
  {
   "cell_type": "code",
   "execution_count": null,
   "metadata": {},
   "outputs": [],
   "source": []
  },
  {
   "cell_type": "code",
   "execution_count": null,
   "metadata": {},
   "outputs": [],
   "source": [
    "with joblib.parallel_backend(\"loky\", n_jobs=8):\n",
    "    quadric_params = local_quadrics.transform(example_data, k=kernel.k, kernel=kernel, weighted=True,\n",
    "        parallel=True)"
   ]
  },
  {
   "cell_type": "code",
   "execution_count": null,
   "metadata": {},
   "outputs": [],
   "source": [
    "quadric_params.shape"
   ]
  },
  {
   "cell_type": "code",
   "execution_count": null,
   "metadata": {},
   "outputs": [],
   "source": [
    "import importlib; importlib.reload(local_models.quadric_models)\n",
    "import local_models.quadric_models"
   ]
  },
  {
   "cell_type": "code",
   "execution_count": null,
   "metadata": {},
   "outputs": [],
   "source": [
    "TRIU_INDICES4 = np.triu_indices(4)\n",
    "def featurify_param_vectors(X,P,alpha=1.,beta=1.,gamma=1.,eta=1.,zeta=1.):\n",
    "    #alpha, beta, gamma, eta and zeta are the relative weights of: \n",
    "    #alpha :: curvature, \n",
    "    #beta  :: offset of parabola vertex from point\n",
    "    #gamma :: some combo of total offset and intercept\n",
    "    #eta   :: direction of parabola\n",
    "    #zeta  :: original points\n",
    "    rearranged = np.zeros((P.shape[0], 4, 4))\n",
    "    rearranged[:,TRIU_INDICES4[0], TRIU_INDICES4[1]] = P\n",
    "    rearranged[:,TRIU_INDICES4[1], TRIU_INDICES4[0]] = P\n",
    "    Ls, Us, ULs, URs, BRs = map(np.empty, ((P.shape[0],3), (P.shape[0],3,3), (P.shape[0],3), (P.shape[0],1,3), (P.shape[0],1,1)))\n",
    "    for i, Q in enumerate(rearranged):\n",
    "        x = X[i:i+1]\n",
    "        Q_s = Q[:-1,:-1]\n",
    "        L, U = np.linalg.eigh(Q_s)\n",
    "        \n",
    "        #easy indexing is row-wise, so we transpose U for now\n",
    "        U = U.T\n",
    "        \n",
    "        absL_sorter = np.argsort(np.abs(L), axis=-1)\n",
    "        L = L[absL_sorter]\n",
    "        U = U[absL_sorter]\n",
    "        \n",
    "        non0L_sorter = np.argsort(L[1:], axis=-1)\n",
    "        L[1:] = L[1:][non0L_sorter]\n",
    "        U[1:] = U[1:][non0L_sorter]\n",
    "        \n",
    "        #untranspose U from before\n",
    "        U = U.T\n",
    "        \n",
    "        #there is a zero eig.... find it\n",
    "        \n",
    "        UTQs = U.T@Q_s\n",
    "        UL = L\n",
    "        UR = x@UTQs.T + Q[-1:,:-1]@U\n",
    "        BR = np.einsum('kj,kj->k', x@Q_s, x).reshape(-1,1) + 2*x@Q[-1:,:-1].T + Q[-1,-1]\n",
    "        \n",
    "        \n",
    "        Ls[i], Us[i], ULs[i], URs[i], BRs[i] = L, U, UL, UR, BR\n",
    "\n",
    "    #return Us, ULs, URs, BRs\n",
    "    features = np.concatenate((alpha*ULs[:,1:], beta*URs[:,0,:], gamma*BRs[:,0], eta*Us[:,:,0], zeta*X), axis=1)\n",
    "    return features\n",
    "    "
   ]
  },
  {
   "cell_type": "raw",
   "metadata": {},
   "source": [
    "Us, ULs, URs, BRs = featurify_param_vectors(example_data, quadric_params)\n",
    "Us[200], quadric_params[200]"
   ]
  },
  {
   "cell_type": "code",
   "execution_count": null,
   "metadata": {},
   "outputs": [],
   "source": [
    "features = featurify_param_vectors(example_data, quadric_params, \n",
    "    alpha=ALPHA, beta=BETA, gamma=GAMMA, eta=ETA, zeta=ZETA)\n",
    "features.shape"
   ]
  },
  {
   "cell_type": "code",
   "execution_count": null,
   "metadata": {},
   "outputs": [],
   "source": []
  },
  {
   "cell_type": "code",
   "execution_count": null,
   "metadata": {},
   "outputs": [],
   "source": [
    "mean_model = local_models.local_models.TLS_models.Mean()\n",
    "mean_models = local_models.local_models.LocalModels(mean_model)\n",
    "mean_models.fit(features)"
   ]
  },
  {
   "cell_type": "code",
   "execution_count": null,
   "metadata": {},
   "outputs": [],
   "source": [
    "average_nn_dist = np.mean(mean_models.index.query(features, k=2, return_distance=True)[0][:,1])\n",
    "average_nn_dist"
   ]
  },
  {
   "cell_type": "code",
   "execution_count": null,
   "metadata": {},
   "outputs": [],
   "source": [
    "kernel = local_models.local_models.GaussianKernel(bandwidth=2*average_nn_dist)"
   ]
  },
  {
   "cell_type": "code",
   "execution_count": null,
   "metadata": {},
   "outputs": [],
   "source": [
    "shifter = local_models.algorithms.mean_shift(mean_models, features, iterations=200, kernel=kernel)"
   ]
  },
  {
   "cell_type": "code",
   "execution_count": null,
   "metadata": {},
   "outputs": [],
   "source": [
    "start = time.time()\n",
    "for i, shift in enumerate(shifter): print(i)"
   ]
  },
  {
   "cell_type": "code",
   "execution_count": null,
   "metadata": {},
   "outputs": [],
   "source": [
    "print(\"meanshift time: {}\".format((time.time() - start)/60/60))"
   ]
  },
  {
   "cell_type": "code",
   "execution_count": null,
   "metadata": {},
   "outputs": [],
   "source": [
    "blah = local_models.local_models.LocalModels(mean_model)\n",
    "blah.fit(shift)\n",
    "what = blah.index.query_radius(shift, r=average_nn_dist/10, return_distance=True)[0]"
   ]
  },
  {
   "cell_type": "code",
   "execution_count": null,
   "metadata": {},
   "outputs": [],
   "source": [
    "blah.index.query_radius(shift, r=average_nn_dist/10, return_distance=True)"
   ]
  },
  {
   "cell_type": "code",
   "execution_count": null,
   "metadata": {},
   "outputs": [],
   "source": [
    "what"
   ]
  },
  {
   "cell_type": "code",
   "execution_count": null,
   "metadata": {},
   "outputs": [],
   "source": [
    "np.unique(np.array(list(map(np.sum, what))), return_index=True)"
   ]
  },
  {
   "cell_type": "code",
   "execution_count": null,
   "metadata": {},
   "outputs": [],
   "source": [
    "def unique(arr_of_arr):\n",
    "    sorted_arr_of_arr = []\n",
    "    for arr in arr_of_arr:\n",
    "        sorted_arr_of_arr.append(np.sort(arr))\n",
    "    unique_arr_of_arr = []\n",
    "    for arr in sorted_arr_of_arr:\n",
    "        isunique = True\n",
    "        for uarr in unique_arr_of_arr:\n",
    "            if len(uarr) != len(arr): continue\n",
    "            same = True\n",
    "            for i in range(len(arr)):\n",
    "                if arr[i] != uarr[i]: \n",
    "                    same = False\n",
    "                    break\n",
    "            if same:\n",
    "                isunique = False\n",
    "                break\n",
    "        if isunique:\n",
    "            unique_arr_of_arr.append(arr)\n",
    "    return unique_arr_of_arr"
   ]
  },
  {
   "cell_type": "code",
   "execution_count": null,
   "metadata": {},
   "outputs": [],
   "source": [
    "unique(what)"
   ]
  },
  {
   "cell_type": "code",
   "execution_count": null,
   "metadata": {},
   "outputs": [],
   "source": [
    "import collections\n",
    "cluster_map = collections.defaultdict(list)\n",
    "for j, cluster in enumerate(unique(what)):\n",
    "    for i in cluster:\n",
    "        cluster_map[i].append(j)"
   ]
  },
  {
   "cell_type": "code",
   "execution_count": null,
   "metadata": {},
   "outputs": [],
   "source": [
    "cluster_map_lens = list(map(lambda x: len(cluster_map[x]), cluster_map))\n",
    "max(cluster_map_lens)"
   ]
  },
  {
   "cell_type": "code",
   "execution_count": null,
   "metadata": {},
   "outputs": [],
   "source": [
    "cluster_arr = np.array([cluster_map[i][0] for i in sorted(cluster_map)])"
   ]
  },
  {
   "cell_type": "code",
   "execution_count": null,
   "metadata": {},
   "outputs": [],
   "source": [
    "np.unique(cluster_arr, return_counts=True)"
   ]
  },
  {
   "cell_type": "code",
   "execution_count": null,
   "metadata": {},
   "outputs": [],
   "source": [
    "pts = example_data"
   ]
  },
  {
   "cell_type": "code",
   "execution_count": null,
   "metadata": {},
   "outputs": [],
   "source": [
    "import importlib\n",
    "import local_models.plotting_utils\n",
    "importlib.reload(local_models.plotting_utils)\n",
    "from local_models.plotting_utils import *"
   ]
  },
  {
   "cell_type": "code",
   "execution_count": null,
   "metadata": {},
   "outputs": [],
   "source": [
    "figure = mayavi.mlab.figure(figure=None, bgcolor=(1,1,1), fgcolor=(0,0,0), engine=None, size=(1000, 1000))\n",
    "focus = np.average(pts, axis=0)\n",
    "dist = np.std(pts, axis=0)\n",
    "\n",
    "nodes = mayavi.mlab.points3d(pts[:,0], pts[:,1], pts[:,2],\n",
    "                             scale_mode='scalar', scale_factor=1,\n",
    "                             colormap='gist_rainbow', figure=figure, vmin=0, vmax=7)\n",
    "nodes.glyph.scale_mode = 'scale_by_vector'\n",
    "#sizes\n",
    "nodes.mlab_source.dataset.point_data.vectors = np.ones((pts.shape[0],3))*(np.average(dist)/20)\n",
    "#colors\n",
    "nodes.mlab_source.dataset.point_data.scalars = cluster_arr\n"
   ]
  },
  {
   "cell_type": "code",
   "execution_count": null,
   "metadata": {},
   "outputs": [],
   "source": [
    "pth = os.path.join(project_dir, \n",
    "    \"plane_clusters_r{:03d}_a{:.03f}_b{:.03f}_g{:.03f}_e{:.03f}_z{:.03f}.png\".format(\n",
    "        RUN,ALPHA,BETA,GAMMA,ETA,ZETA))"
   ]
  },
  {
   "cell_type": "code",
   "execution_count": null,
   "metadata": {},
   "outputs": [],
   "source": [
    "normalize_view(figure, focus, dist, azimuth=45, elevation=-65, roll=15)\n",
    "mayavi.mlab.savefig(pth, figure=figure, magnification=2)\n",
    "mayavi.mlab.clf(figure)\n",
    "mayavi.mlab.close(figure)"
   ]
  },
  {
   "cell_type": "code",
   "execution_count": null,
   "metadata": {},
   "outputs": [],
   "source": [
    "imshow(pth, trim_border=True)"
   ]
  },
  {
   "cell_type": "code",
   "execution_count": null,
   "metadata": {},
   "outputs": [],
   "source": []
  },
  {
   "cell_type": "code",
   "execution_count": null,
   "metadata": {},
   "outputs": [],
   "source": []
  },
  {
   "cell_type": "code",
   "execution_count": null,
   "metadata": {},
   "outputs": [],
   "source": []
  },
  {
   "cell_type": "code",
   "execution_count": null,
   "metadata": {},
   "outputs": [],
   "source": []
  },
  {
   "cell_type": "code",
   "execution_count": null,
   "metadata": {},
   "outputs": [],
   "source": []
  }
 ],
 "metadata": {
  "kernelspec": {
   "display_name": "Python 3",
   "language": "python",
   "name": "python3"
  },
  "language_info": {
   "codemirror_mode": {
    "name": "ipython",
    "version": 3
   },
   "file_extension": ".py",
   "mimetype": "text/x-python",
   "name": "python",
   "nbconvert_exporter": "python",
   "pygments_lexer": "ipython3",
   "version": "3.5.2"
  }
 },
 "nbformat": 4,
 "nbformat_minor": 2
}
