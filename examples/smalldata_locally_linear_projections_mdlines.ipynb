{
 "cells": [
  {
   "cell_type": "code",
   "execution_count": null,
   "metadata": {},
   "outputs": [],
   "source": [
    "import local_models.local_models\n",
    "import local_models.loggin\n",
    "import local_models.TLS_models\n",
    "import local_models.linear_projections\n",
    "import local_models.TLS_models\n",
    "import local_models.utils\n",
    "import numpy as np\n",
    "import matplotlib.pyplot as plt\n",
    "import sklearn.linear_model\n",
    "import sklearn.cluster\n",
    "from importlib import reload\n",
    "from ml_battery.utils import cmap\n",
    "import matplotlib as mpl\n",
    "import sklearn.datasets\n",
    "import sklearn.decomposition\n",
    "import logging\n",
    "import ml_battery.log\n",
    "import time\n",
    "import os\n",
    "from IPython.display import Markdown as md\n",
    "\n",
    "logger = logging.getLogger(__name__)\n",
    "\n",
    "reload(local_models.local_models)\n",
    "#reload(lm)\n",
    "#reload(local_models.loggin)\n",
    "#reload(local_models.TLS_models)\n",
    "np.warnings.filterwarnings('ignore')\n"
   ]
  },
  {
   "cell_type": "code",
   "execution_count": null,
   "metadata": {},
   "outputs": [],
   "source": []
  },
  {
   "cell_type": "code",
   "execution_count": null,
   "metadata": {},
   "outputs": [],
   "source": [
    "mpl.rcParams['figure.figsize'] = [8.0, 8.0]"
   ]
  },
  {
   "cell_type": "code",
   "execution_count": null,
   "metadata": {},
   "outputs": [],
   "source": [
    "K = 3\n",
    "n = 5\n",
    "SEED = 1\n",
    "np.random.seed(SEED)\n",
    "KERNEL=local_models.local_models.TriCubeKernel\n",
    "small_data, c = np.random.random(size=(n,2)), np.zeros(shape=(n,))"
   ]
  },
  {
   "cell_type": "code",
   "execution_count": null,
   "metadata": {},
   "outputs": [],
   "source": [
    "project_dir = \"../data/smalldata/n{}_seed{}_ktricube_md_03\".format(str(n).rjust(5,\"0\"), str(SEED).rjust(5,\"0\"))\n",
    "os.makedirs(project_dir, exist_ok=1)"
   ]
  },
  {
   "cell_type": "code",
   "execution_count": null,
   "metadata": {},
   "outputs": [],
   "source": [
    "small_data.shape"
   ]
  },
  {
   "cell_type": "code",
   "execution_count": null,
   "metadata": {
    "scrolled": true
   },
   "outputs": [],
   "source": [
    "plt.scatter(small_data[:,0], small_data[:,1],c=cmap(c))\n",
    "plt.show()"
   ]
  },
  {
   "cell_type": "code",
   "execution_count": null,
   "metadata": {},
   "outputs": [],
   "source": [
    "linear_models = local_models.local_models.LocalModels(local_models.TLS_models.LinearODR_mD(1))\n",
    "linear_models.fit(small_data)"
   ]
  },
  {
   "cell_type": "code",
   "execution_count": null,
   "metadata": {},
   "outputs": [],
   "source": []
  },
  {
   "cell_type": "code",
   "execution_count": null,
   "metadata": {},
   "outputs": [],
   "source": []
  },
  {
   "cell_type": "code",
   "execution_count": null,
   "metadata": {
    "scrolled": false
   },
   "outputs": [],
   "source": [
    "fig_dir_lines = os.path.join(project_dir, \"odr_various_bandwidth\")\n",
    "local_models.linear_projections.make_local_odr_lines_animation(linear_models, small_data, c, fig_dir_lines, \n",
    "    np.concatenate((np.linspace(0.03,0.3,20,endpoint=False), \n",
    "                    np.linspace(0.3,1,20,endpoint=False), \n",
    "                    np.linspace(1,5,20,endpoint=False))),\n",
    "                               kernel_cls=KERNEL\n",
    ")"
   ]
  },
  {
   "cell_type": "code",
   "execution_count": null,
   "metadata": {},
   "outputs": [],
   "source": [
    "fig_dir_projections_k = os.path.join(project_dir, \"odr_projections_various_k\")\n",
    "local_models.linear_projections.make_local_odr_projections_animation_k(linear_models, small_data, c, fig_dir_projections_k,\n",
    "                                     np.array([3]),\n",
    "                                     kernel=KERNEL\n",
    "                                    )"
   ]
  },
  {
   "cell_type": "code",
   "execution_count": null,
   "metadata": {},
   "outputs": [],
   "source": [
    "fig_dir_projections = os.path.join(project_dir, \"odr_projections_various_bandwidth\")\n",
    "local_models.linear_projections.make_local_odr_projections_animation(linear_models, small_data, c, fig_dir_projections,\n",
    "                                     np.concatenate((np.linspace(0.03,0.3,20,endpoint=False), \n",
    "                                                     np.linspace(0.3,1,20,endpoint=False), \n",
    "                                                     np.linspace(1,5,20,endpoint=False))),\n",
    "                                     kernel=KERNEL\n",
    "                                    )\n",
    "plt.close()\n"
   ]
  },
  {
   "cell_type": "code",
   "execution_count": null,
   "metadata": {},
   "outputs": [],
   "source": [
    "local_models.utils.imgs2video(os.path.join(fig_dir_lines,\"*.png\"),\n",
    "           os.path.join(fig_dir_lines,\"out.mp4\"), 10)\n",
    "local_models.utils.imgs2video(os.path.join(fig_dir_projections,\"*.png\"), \n",
    "           os.path.join(fig_dir_projections,\"out.mp4\"), 10)"
   ]
  },
  {
   "cell_type": "code",
   "execution_count": null,
   "metadata": {
    "scrolled": true
   },
   "outputs": [],
   "source": [
    "md(local_models.utils.video_html(os.path.join(fig_dir_lines, \"out.mp4\")) +\n",
    "   local_models.utils.video_html(os.path.join(fig_dir_projections, \"out.mp4\")))"
   ]
  },
  {
   "cell_type": "code",
   "execution_count": null,
   "metadata": {},
   "outputs": [],
   "source": []
  },
  {
   "cell_type": "code",
   "execution_count": null,
   "metadata": {},
   "outputs": [],
   "source": [
    "BANDWIDTH = 0.192\n",
    "N_STEPS = 100\n",
    "fig_dir_iterprojections = os.path.join(project_dir, \"odr_projections_iteration_b{:.4f}_g{:05d}\".format(BANDWIDTH,N_STEPS))\n",
    "local_models.linear_projections.make_odr_iterprojections_animation(linear_models, small_data, c, fig_dir_iterprojections, BANDWIDTH, grid_steps=N_STEPS, kernel=KERNEL)\n",
    "plt.close()"
   ]
  },
  {
   "cell_type": "code",
   "execution_count": null,
   "metadata": {},
   "outputs": [],
   "source": [
    "local_models.utils.imgs2video(os.path.join(fig_dir_iterprojections,\"*.png\"),\n",
    "           os.path.join(fig_dir_iterprojections,\"out.mp4\"), 10)"
   ]
  },
  {
   "cell_type": "code",
   "execution_count": null,
   "metadata": {},
   "outputs": [],
   "source": [
    "md(local_models.utils.video_html(os.path.join(fig_dir_iterprojections, \"out.mp4\"))"
   ]
  }
 ],
 "metadata": {
  "kernelspec": {
   "display_name": "Python 3",
   "language": "python",
   "name": "python3"
  },
  "language_info": {
   "codemirror_mode": {
    "name": "ipython",
    "version": 3
   },
   "file_extension": ".py",
   "mimetype": "text/x-python",
   "name": "python",
   "nbconvert_exporter": "python",
   "pygments_lexer": "ipython3",
   "version": "3.5.2"
  }
 },
 "nbformat": 4,
 "nbformat_minor": 2
}
