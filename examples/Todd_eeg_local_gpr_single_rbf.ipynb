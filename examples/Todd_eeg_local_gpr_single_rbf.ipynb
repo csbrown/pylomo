{
 "cells": [
  {
   "cell_type": "code",
   "execution_count": 1,
   "metadata": {},
   "outputs": [],
   "source": [
    "import matplotlib\n",
    "import local_models.local_models\n",
    "import local_models.algorithms\n",
    "import local_models.utils\n",
    "import local_models.linear_projections\n",
    "import local_models.loggin\n",
    "import local_models.TLS_models\n",
    "import numpy as np\n",
    "import matplotlib.pyplot as plt\n",
    "import sklearn.linear_model\n",
    "import sklearn.cluster\n",
    "from importlib import reload\n",
    "from ml_battery.utils import cmap\n",
    "import matplotlib as mpl\n",
    "import sklearn.datasets\n",
    "import sklearn.decomposition\n",
    "import logging\n",
    "import ml_battery.log\n",
    "import time\n",
    "import os\n",
    "import pandas as pd\n",
    "import scipy.fftpack\n",
    "import gc\n",
    "import patched_gpr\n",
    "import sklearn.gaussian_process as gp\n",
    "import importlib\n",
    "np.random.seed(1)\n",
    "\n",
    "\n",
    "\n",
    "\n",
    "logger = logging.getLogger(__name__)\n",
    "\n",
    "#reload(local_models.local_models)\n",
    "#reload(lm)\n",
    "#reload(local_models.loggin)\n",
    "#reload(local_models.TLS_models)\n",
    "np.warnings.filterwarnings('ignore')"
   ]
  },
  {
   "cell_type": "code",
   "execution_count": 2,
   "metadata": {},
   "outputs": [],
   "source": [
    "HZ=250\n",
    "EEG_CHANNELS=21\n",
    "RUN=1\n",
    "SECONDS_OF_SIGNAL=100\n",
    "l = HZ*SECONDS_OF_SIGNAL\n",
    "subsample_rate=50\n",
    "bandwidth = 500\n",
    "n = 2*bandwidth-1"
   ]
  },
  {
   "cell_type": "code",
   "execution_count": null,
   "metadata": {},
   "outputs": [],
   "source": []
  },
  {
   "cell_type": "code",
   "execution_count": 3,
   "metadata": {},
   "outputs": [],
   "source": [
    "mpl.rcParams['figure.figsize'] = [16.0*SECONDS_OF_SIGNAL/20, 8.0]\n",
    "mpl.rcParams['font.size'] = int(mpl.rcParams['figure.figsize'][1]*2)"
   ]
  },
  {
   "cell_type": "code",
   "execution_count": 4,
   "metadata": {},
   "outputs": [],
   "source": [
    "def adjust_ax_labels(axs, rng, n_ticks=8, hz=250):\n",
    "    try:\n",
    "        axs_iterator = iter(axs)\n",
    "    except TypeError as te:\n",
    "        axs_iterator = iter([axs])\n",
    "    for ax in axs_iterator:\n",
    "        ax.axis(\"off\")\n",
    "    ax.axis(\"on\")\n",
    "    x_ticks = np.linspace(rng[0],rng[1],n_ticks)\n",
    "    x_tick_labels = x_ticks/hz\n",
    "    ax.set_xticks(x_ticks)\n",
    "    ax.set_xticklabels(list(map(lambda x: \"{:.01f}\".format(x), x_tick_labels)))\n",
    "    ax.get_yaxis().set_visible(False)\n",
    "    ax.set_frame_on(False)        "
   ]
  },
  {
   "cell_type": "code",
   "execution_count": 5,
   "metadata": {},
   "outputs": [],
   "source": [
    "#HB suggests using std(X)*n**(-1/5)... since std(X) depends crucially on the length of the signal, how can this help?"
   ]
  },
  {
   "cell_type": "code",
   "execution_count": 6,
   "metadata": {},
   "outputs": [],
   "source": [
    "project_dir = \"../data/todd_eeg_gpr_single_rbf_run{:03d}\".format(RUN)\n",
    "os.makedirs(project_dir, exist_ok=1)"
   ]
  },
  {
   "cell_type": "code",
   "execution_count": 7,
   "metadata": {},
   "outputs": [],
   "source": [
    "data_dir = \"/home/brown/disk2/eeg/Phasespace/Phasespace/data/eeg-text\""
   ]
  },
  {
   "cell_type": "code",
   "execution_count": null,
   "metadata": {},
   "outputs": [],
   "source": []
  },
  {
   "cell_type": "code",
   "execution_count": 8,
   "metadata": {},
   "outputs": [],
   "source": [
    "data_info = pd.read_csv(os.path.join(data_dir, \"fileinformation.csv\"), skiprows=1).iloc[:,2:]"
   ]
  },
  {
   "cell_type": "code",
   "execution_count": 9,
   "metadata": {},
   "outputs": [
    {
     "data": {
      "text/html": [
       "<div>\n",
       "<style scoped>\n",
       "    .dataframe tbody tr th:only-of-type {\n",
       "        vertical-align: middle;\n",
       "    }\n",
       "\n",
       "    .dataframe tbody tr th {\n",
       "        vertical-align: top;\n",
       "    }\n",
       "\n",
       "    .dataframe thead th {\n",
       "        text-align: right;\n",
       "    }\n",
       "</style>\n",
       "<table border=\"1\" class=\"dataframe\">\n",
       "  <thead>\n",
       "    <tr style=\"text-align: right;\">\n",
       "      <th></th>\n",
       "      <th>Unnamed: 2</th>\n",
       "      <th>Number of Records</th>\n",
       "      <th>Time of Seizure</th>\n",
       "      <th>Unnamed: 5</th>\n",
       "      <th>Point of Seizure</th>\n",
       "      <th>250</th>\n",
       "    </tr>\n",
       "  </thead>\n",
       "  <tbody>\n",
       "    <tr>\n",
       "      <th>0</th>\n",
       "      <td>DAT.F00012</td>\n",
       "      <td>3963799</td>\n",
       "      <td>14040</td>\n",
       "      <td>NaN</td>\n",
       "      <td>3510000</td>\n",
       "      <td>3510000</td>\n",
       "    </tr>\n",
       "    <tr>\n",
       "      <th>1</th>\n",
       "      <td>DAT.F00013</td>\n",
       "      <td>3632699</td>\n",
       "      <td>12720</td>\n",
       "      <td>NaN</td>\n",
       "      <td>3180000</td>\n",
       "      <td>3180000</td>\n",
       "    </tr>\n",
       "    <tr>\n",
       "      <th>2</th>\n",
       "      <td>DAT.F00016</td>\n",
       "      <td>4447824</td>\n",
       "      <td>15960</td>\n",
       "      <td>NaN</td>\n",
       "      <td>3990000</td>\n",
       "      <td>3990000</td>\n",
       "    </tr>\n",
       "    <tr>\n",
       "      <th>3</th>\n",
       "      <td>DAT.F00017</td>\n",
       "      <td>1827224</td>\n",
       "      <td>0</td>\n",
       "      <td>NaN</td>\n",
       "      <td>0</td>\n",
       "      <td>0</td>\n",
       "    </tr>\n",
       "    <tr>\n",
       "      <th>4</th>\n",
       "      <td>DAT.F00018</td>\n",
       "      <td>2985924</td>\n",
       "      <td>10020</td>\n",
       "      <td>NaN</td>\n",
       "      <td>2505000</td>\n",
       "      <td>2505000</td>\n",
       "    </tr>\n",
       "    <tr>\n",
       "      <th>5</th>\n",
       "      <td>DAT.F00019</td>\n",
       "      <td>3692374</td>\n",
       "      <td>12960</td>\n",
       "      <td>NaN</td>\n",
       "      <td>3240000</td>\n",
       "      <td>3240000</td>\n",
       "    </tr>\n",
       "    <tr>\n",
       "      <th>6</th>\n",
       "      <td>DAT.F00020</td>\n",
       "      <td>3270974</td>\n",
       "      <td>11280</td>\n",
       "      <td>NaN</td>\n",
       "      <td>2820000</td>\n",
       "      <td>2820000</td>\n",
       "    </tr>\n",
       "    <tr>\n",
       "      <th>7</th>\n",
       "      <td>DAT.F00022</td>\n",
       "      <td>2120524</td>\n",
       "      <td>0</td>\n",
       "      <td>NaN</td>\n",
       "      <td>0</td>\n",
       "      <td>0</td>\n",
       "    </tr>\n",
       "    <tr>\n",
       "      <th>8</th>\n",
       "      <td>DAT.F00024</td>\n",
       "      <td>3378499</td>\n",
       "      <td>11700</td>\n",
       "      <td>NaN</td>\n",
       "      <td>2925000</td>\n",
       "      <td>2925000</td>\n",
       "    </tr>\n",
       "    <tr>\n",
       "      <th>9</th>\n",
       "      <td>DAT.F00026</td>\n",
       "      <td>3370999</td>\n",
       "      <td>0</td>\n",
       "      <td>NaN</td>\n",
       "      <td>0</td>\n",
       "      <td>0</td>\n",
       "    </tr>\n",
       "    <tr>\n",
       "      <th>10</th>\n",
       "      <td>DAT.F00037</td>\n",
       "      <td>5777399</td>\n",
       "      <td>0</td>\n",
       "      <td>NaN</td>\n",
       "      <td>0</td>\n",
       "      <td>0</td>\n",
       "    </tr>\n",
       "    <tr>\n",
       "      <th>11</th>\n",
       "      <td>DAT.F00039</td>\n",
       "      <td>4126199</td>\n",
       "      <td>16320</td>\n",
       "      <td>NaN</td>\n",
       "      <td>4080000</td>\n",
       "      <td>4080000</td>\n",
       "    </tr>\n",
       "    <tr>\n",
       "      <th>12</th>\n",
       "      <td>DAT.F00042</td>\n",
       "      <td>2897624</td>\n",
       "      <td>13920</td>\n",
       "      <td>NaN</td>\n",
       "      <td>3480000</td>\n",
       "      <td>3480000</td>\n",
       "    </tr>\n",
       "    <tr>\n",
       "      <th>13</th>\n",
       "      <td>DAT.F00046</td>\n",
       "      <td>3302074</td>\n",
       "      <td>11400</td>\n",
       "      <td>NaN</td>\n",
       "      <td>2850000</td>\n",
       "      <td>2850000</td>\n",
       "    </tr>\n",
       "    <tr>\n",
       "      <th>14</th>\n",
       "      <td>DAT.F00125</td>\n",
       "      <td>5066224</td>\n",
       "      <td>17760</td>\n",
       "      <td>NaN</td>\n",
       "      <td>4440000</td>\n",
       "      <td>4440000</td>\n",
       "    </tr>\n",
       "    <tr>\n",
       "      <th>15</th>\n",
       "      <td>DAT.F00127</td>\n",
       "      <td>5309924</td>\n",
       "      <td>0</td>\n",
       "      <td>NaN</td>\n",
       "      <td>0</td>\n",
       "      <td>0</td>\n",
       "    </tr>\n",
       "    <tr>\n",
       "      <th>16</th>\n",
       "      <td>DAT.F00131</td>\n",
       "      <td>4819049</td>\n",
       "      <td>17580</td>\n",
       "      <td>NaN</td>\n",
       "      <td>4395000</td>\n",
       "      <td>4395000</td>\n",
       "    </tr>\n",
       "    <tr>\n",
       "      <th>17</th>\n",
       "      <td>DAT.F00149</td>\n",
       "      <td>1672274</td>\n",
       "      <td>0</td>\n",
       "      <td>NaN</td>\n",
       "      <td>0</td>\n",
       "      <td>0</td>\n",
       "    </tr>\n",
       "    <tr>\n",
       "      <th>18</th>\n",
       "      <td>DAT.F00150</td>\n",
       "      <td>1819424</td>\n",
       "      <td>0</td>\n",
       "      <td>NaN</td>\n",
       "      <td>0</td>\n",
       "      <td>0</td>\n",
       "    </tr>\n",
       "    <tr>\n",
       "      <th>19</th>\n",
       "      <td>DAT.F00157</td>\n",
       "      <td>1823724</td>\n",
       "      <td>0</td>\n",
       "      <td>NaN</td>\n",
       "      <td>0</td>\n",
       "      <td>0</td>\n",
       "    </tr>\n",
       "    <tr>\n",
       "      <th>20</th>\n",
       "      <td>DAT.F00158</td>\n",
       "      <td>1679274</td>\n",
       "      <td>0</td>\n",
       "      <td>NaN</td>\n",
       "      <td>0</td>\n",
       "      <td>0</td>\n",
       "    </tr>\n",
       "    <tr>\n",
       "      <th>21</th>\n",
       "      <td>DAT.F00163</td>\n",
       "      <td>1265374</td>\n",
       "      <td>0</td>\n",
       "      <td>NaN</td>\n",
       "      <td>0</td>\n",
       "      <td>0</td>\n",
       "    </tr>\n",
       "    <tr>\n",
       "      <th>22</th>\n",
       "      <td>DAT.F00165</td>\n",
       "      <td>3041574</td>\n",
       "      <td>0</td>\n",
       "      <td>NaN</td>\n",
       "      <td>0</td>\n",
       "      <td>0</td>\n",
       "    </tr>\n",
       "    <tr>\n",
       "      <th>23</th>\n",
       "      <td>DAT.F00170</td>\n",
       "      <td>2687174</td>\n",
       "      <td>10620</td>\n",
       "      <td>NaN</td>\n",
       "      <td>2655000</td>\n",
       "      <td>2655000</td>\n",
       "    </tr>\n",
       "    <tr>\n",
       "      <th>24</th>\n",
       "      <td>DAT.F00193</td>\n",
       "      <td>2762099</td>\n",
       "      <td>10680</td>\n",
       "      <td>NaN</td>\n",
       "      <td>2670000</td>\n",
       "      <td>2670000</td>\n",
       "    </tr>\n",
       "    <tr>\n",
       "      <th>25</th>\n",
       "      <td>DAT.F00199</td>\n",
       "      <td>5653524</td>\n",
       "      <td>22140</td>\n",
       "      <td>NaN</td>\n",
       "      <td>5535000</td>\n",
       "      <td>5535000</td>\n",
       "    </tr>\n",
       "    <tr>\n",
       "      <th>26</th>\n",
       "      <td>DAT.F00200</td>\n",
       "      <td>4025574</td>\n",
       "      <td>13620</td>\n",
       "      <td>NaN</td>\n",
       "      <td>3405000</td>\n",
       "      <td>3405000</td>\n",
       "    </tr>\n",
       "    <tr>\n",
       "      <th>27</th>\n",
       "      <td>DAT.F00203</td>\n",
       "      <td>5088799</td>\n",
       "      <td>20220</td>\n",
       "      <td>NaN</td>\n",
       "      <td>5055000</td>\n",
       "      <td>5055000</td>\n",
       "    </tr>\n",
       "    <tr>\n",
       "      <th>28</th>\n",
       "      <td>DAT.F00207</td>\n",
       "      <td>7418649</td>\n",
       "      <td>23760</td>\n",
       "      <td>NaN</td>\n",
       "      <td>5940000</td>\n",
       "      <td>5940000</td>\n",
       "    </tr>\n",
       "    <tr>\n",
       "      <th>29</th>\n",
       "      <td>DAT.F00211</td>\n",
       "      <td>4805499</td>\n",
       "      <td>18660</td>\n",
       "      <td>NaN</td>\n",
       "      <td>4665000</td>\n",
       "      <td>4665000</td>\n",
       "    </tr>\n",
       "    <tr>\n",
       "      <th>30</th>\n",
       "      <td>DAT.F00214</td>\n",
       "      <td>4480549</td>\n",
       "      <td>17460</td>\n",
       "      <td>NaN</td>\n",
       "      <td>4365000</td>\n",
       "      <td>4365000</td>\n",
       "    </tr>\n",
       "    <tr>\n",
       "      <th>31</th>\n",
       "      <td>DAT.F00216</td>\n",
       "      <td>5161974</td>\n",
       "      <td>9840</td>\n",
       "      <td>NaN</td>\n",
       "      <td>2460000</td>\n",
       "      <td>2460000</td>\n",
       "    </tr>\n",
       "    <tr>\n",
       "      <th>32</th>\n",
       "      <td>DAT.F00221</td>\n",
       "      <td>3228749</td>\n",
       "      <td>11760</td>\n",
       "      <td>NaN</td>\n",
       "      <td>2940000</td>\n",
       "      <td>2940000</td>\n",
       "    </tr>\n",
       "    <tr>\n",
       "      <th>33</th>\n",
       "      <td>DAT.F00222</td>\n",
       "      <td>3827549</td>\n",
       "      <td>9360</td>\n",
       "      <td>NaN</td>\n",
       "      <td>2340000</td>\n",
       "      <td>2340000</td>\n",
       "    </tr>\n",
       "    <tr>\n",
       "      <th>34</th>\n",
       "      <td>DAT.F00235</td>\n",
       "      <td>5233424</td>\n",
       "      <td>20340</td>\n",
       "      <td>NaN</td>\n",
       "      <td>5085000</td>\n",
       "      <td>5085000</td>\n",
       "    </tr>\n",
       "    <tr>\n",
       "      <th>35</th>\n",
       "      <td>DAT.F00255</td>\n",
       "      <td>3331249</td>\n",
       "      <td>13200</td>\n",
       "      <td>NaN</td>\n",
       "      <td>3300000</td>\n",
       "      <td>3300000</td>\n",
       "    </tr>\n",
       "    <tr>\n",
       "      <th>36</th>\n",
       "      <td>DAT.F00259</td>\n",
       "      <td>2599024</td>\n",
       "      <td>10200</td>\n",
       "      <td>NaN</td>\n",
       "      <td>2550000</td>\n",
       "      <td>2550000</td>\n",
       "    </tr>\n",
       "    <tr>\n",
       "      <th>37</th>\n",
       "      <td>DAT.F00261</td>\n",
       "      <td>4830424</td>\n",
       "      <td>0</td>\n",
       "      <td>NaN</td>\n",
       "      <td>0</td>\n",
       "      <td>0</td>\n",
       "    </tr>\n",
       "    <tr>\n",
       "      <th>38</th>\n",
       "      <td>DAT.F00264</td>\n",
       "      <td>3043774</td>\n",
       "      <td>11940</td>\n",
       "      <td>NaN</td>\n",
       "      <td>2985000</td>\n",
       "      <td>2985000</td>\n",
       "    </tr>\n",
       "    <tr>\n",
       "      <th>39</th>\n",
       "      <td>DAT.F00265</td>\n",
       "      <td>6092424</td>\n",
       "      <td>24120</td>\n",
       "      <td>NaN</td>\n",
       "      <td>6030000</td>\n",
       "      <td>6030000</td>\n",
       "    </tr>\n",
       "    <tr>\n",
       "      <th>40</th>\n",
       "      <td>DAT.F00266</td>\n",
       "      <td>3855174</td>\n",
       "      <td>14820</td>\n",
       "      <td>NaN</td>\n",
       "      <td>3705000</td>\n",
       "      <td>3705000</td>\n",
       "    </tr>\n",
       "    <tr>\n",
       "      <th>41</th>\n",
       "      <td>DAT.F00267</td>\n",
       "      <td>2728574</td>\n",
       "      <td>10500</td>\n",
       "      <td>NaN</td>\n",
       "      <td>2625000</td>\n",
       "      <td>2625000</td>\n",
       "    </tr>\n",
       "    <tr>\n",
       "      <th>42</th>\n",
       "      <td>DAT.F00270</td>\n",
       "      <td>1454724</td>\n",
       "      <td>0</td>\n",
       "      <td>NaN</td>\n",
       "      <td>0</td>\n",
       "      <td>0</td>\n",
       "    </tr>\n",
       "    <tr>\n",
       "      <th>43</th>\n",
       "      <td>DAT.F00271</td>\n",
       "      <td>3979724</td>\n",
       "      <td>15120</td>\n",
       "      <td>NaN</td>\n",
       "      <td>3780000</td>\n",
       "      <td>3780000</td>\n",
       "    </tr>\n",
       "    <tr>\n",
       "      <th>44</th>\n",
       "      <td>DAT.F00273</td>\n",
       "      <td>6516849</td>\n",
       "      <td>0</td>\n",
       "      <td>NaN</td>\n",
       "      <td>0</td>\n",
       "      <td>0</td>\n",
       "    </tr>\n",
       "    <tr>\n",
       "      <th>45</th>\n",
       "      <td>DAT.F00274</td>\n",
       "      <td>1290974</td>\n",
       "      <td>0</td>\n",
       "      <td>NaN</td>\n",
       "      <td>0</td>\n",
       "      <td>0</td>\n",
       "    </tr>\n",
       "    <tr>\n",
       "      <th>46</th>\n",
       "      <td>DAT.F00275</td>\n",
       "      <td>4839974</td>\n",
       "      <td>0</td>\n",
       "      <td>NaN</td>\n",
       "      <td>0</td>\n",
       "      <td>0</td>\n",
       "    </tr>\n",
       "    <tr>\n",
       "      <th>47</th>\n",
       "      <td>DAT.F00276</td>\n",
       "      <td>5760574</td>\n",
       "      <td>0</td>\n",
       "      <td>NaN</td>\n",
       "      <td>0</td>\n",
       "      <td>0</td>\n",
       "    </tr>\n",
       "    <tr>\n",
       "      <th>48</th>\n",
       "      <td>DAT.F00283</td>\n",
       "      <td>3231949</td>\n",
       "      <td>0</td>\n",
       "      <td>NaN</td>\n",
       "      <td>0</td>\n",
       "      <td>0</td>\n",
       "    </tr>\n",
       "    <tr>\n",
       "      <th>49</th>\n",
       "      <td>DAT.F00284</td>\n",
       "      <td>5188349</td>\n",
       "      <td>0</td>\n",
       "      <td>NaN</td>\n",
       "      <td>0</td>\n",
       "      <td>0</td>\n",
       "    </tr>\n",
       "    <tr>\n",
       "      <th>50</th>\n",
       "      <td>DAT.F00285</td>\n",
       "      <td>4364624</td>\n",
       "      <td>0</td>\n",
       "      <td>NaN</td>\n",
       "      <td>0</td>\n",
       "      <td>0</td>\n",
       "    </tr>\n",
       "    <tr>\n",
       "      <th>51</th>\n",
       "      <td>DAT.F00286</td>\n",
       "      <td>4065674</td>\n",
       "      <td>13920</td>\n",
       "      <td>NaN</td>\n",
       "      <td>3480000</td>\n",
       "      <td>3480000</td>\n",
       "    </tr>\n",
       "    <tr>\n",
       "      <th>52</th>\n",
       "      <td>DAT.F00287</td>\n",
       "      <td>6872524</td>\n",
       "      <td>10020</td>\n",
       "      <td>NaN</td>\n",
       "      <td>2505000</td>\n",
       "      <td>2505000</td>\n",
       "    </tr>\n",
       "    <tr>\n",
       "      <th>53</th>\n",
       "      <td>DAT.F00289</td>\n",
       "      <td>5352749</td>\n",
       "      <td>18000</td>\n",
       "      <td>NaN</td>\n",
       "      <td>4500000</td>\n",
       "      <td>4500000</td>\n",
       "    </tr>\n",
       "    <tr>\n",
       "      <th>54</th>\n",
       "      <td>DAT.F00293</td>\n",
       "      <td>3631274</td>\n",
       "      <td>13980</td>\n",
       "      <td>NaN</td>\n",
       "      <td>3495000</td>\n",
       "      <td>3495000</td>\n",
       "    </tr>\n",
       "    <tr>\n",
       "      <th>55</th>\n",
       "      <td>DAT.F00299</td>\n",
       "      <td>3083649</td>\n",
       "      <td>12180</td>\n",
       "      <td>NaN</td>\n",
       "      <td>3045000</td>\n",
       "      <td>3045000</td>\n",
       "    </tr>\n",
       "    <tr>\n",
       "      <th>56</th>\n",
       "      <td>DAT.F00300</td>\n",
       "      <td>7239499</td>\n",
       "      <td>18600</td>\n",
       "      <td>NaN</td>\n",
       "      <td>4650000</td>\n",
       "      <td>4650000</td>\n",
       "    </tr>\n",
       "    <tr>\n",
       "      <th>57</th>\n",
       "      <td>DAT.F00308</td>\n",
       "      <td>3333024</td>\n",
       "      <td>13080</td>\n",
       "      <td>NaN</td>\n",
       "      <td>3270000</td>\n",
       "      <td>3270000</td>\n",
       "    </tr>\n",
       "    <tr>\n",
       "      <th>58</th>\n",
       "      <td>DAT.F00386</td>\n",
       "      <td>4596474</td>\n",
       "      <td>11220</td>\n",
       "      <td>NaN</td>\n",
       "      <td>2805000</td>\n",
       "      <td>2805000</td>\n",
       "    </tr>\n",
       "    <tr>\n",
       "      <th>59</th>\n",
       "      <td>DAT.F00403</td>\n",
       "      <td>4719199</td>\n",
       "      <td>18240</td>\n",
       "      <td>NaN</td>\n",
       "      <td>4560000</td>\n",
       "      <td>4560000</td>\n",
       "    </tr>\n",
       "  </tbody>\n",
       "</table>\n",
       "</div>"
      ],
      "text/plain": [
       "    Unnamed: 2  Number of Records  Time of Seizure  Unnamed: 5  \\\n",
       "0   DAT.F00012            3963799            14040         NaN   \n",
       "1   DAT.F00013            3632699            12720         NaN   \n",
       "2   DAT.F00016            4447824            15960         NaN   \n",
       "3   DAT.F00017            1827224                0         NaN   \n",
       "4   DAT.F00018            2985924            10020         NaN   \n",
       "5   DAT.F00019            3692374            12960         NaN   \n",
       "6   DAT.F00020            3270974            11280         NaN   \n",
       "7   DAT.F00022            2120524                0         NaN   \n",
       "8   DAT.F00024            3378499            11700         NaN   \n",
       "9   DAT.F00026            3370999                0         NaN   \n",
       "10  DAT.F00037            5777399                0         NaN   \n",
       "11  DAT.F00039            4126199            16320         NaN   \n",
       "12  DAT.F00042            2897624            13920         NaN   \n",
       "13  DAT.F00046            3302074            11400         NaN   \n",
       "14  DAT.F00125            5066224            17760         NaN   \n",
       "15  DAT.F00127            5309924                0         NaN   \n",
       "16  DAT.F00131            4819049            17580         NaN   \n",
       "17  DAT.F00149            1672274                0         NaN   \n",
       "18  DAT.F00150            1819424                0         NaN   \n",
       "19  DAT.F00157            1823724                0         NaN   \n",
       "20  DAT.F00158            1679274                0         NaN   \n",
       "21  DAT.F00163            1265374                0         NaN   \n",
       "22  DAT.F00165            3041574                0         NaN   \n",
       "23  DAT.F00170            2687174            10620         NaN   \n",
       "24  DAT.F00193            2762099            10680         NaN   \n",
       "25  DAT.F00199            5653524            22140         NaN   \n",
       "26  DAT.F00200            4025574            13620         NaN   \n",
       "27  DAT.F00203            5088799            20220         NaN   \n",
       "28  DAT.F00207            7418649            23760         NaN   \n",
       "29  DAT.F00211            4805499            18660         NaN   \n",
       "30  DAT.F00214            4480549            17460         NaN   \n",
       "31  DAT.F00216            5161974             9840         NaN   \n",
       "32  DAT.F00221            3228749            11760         NaN   \n",
       "33  DAT.F00222            3827549             9360         NaN   \n",
       "34  DAT.F00235            5233424            20340         NaN   \n",
       "35  DAT.F00255            3331249            13200         NaN   \n",
       "36  DAT.F00259            2599024            10200         NaN   \n",
       "37  DAT.F00261            4830424                0         NaN   \n",
       "38  DAT.F00264            3043774            11940         NaN   \n",
       "39  DAT.F00265            6092424            24120         NaN   \n",
       "40  DAT.F00266            3855174            14820         NaN   \n",
       "41  DAT.F00267            2728574            10500         NaN   \n",
       "42  DAT.F00270            1454724                0         NaN   \n",
       "43  DAT.F00271            3979724            15120         NaN   \n",
       "44  DAT.F00273            6516849                0         NaN   \n",
       "45  DAT.F00274            1290974                0         NaN   \n",
       "46  DAT.F00275            4839974                0         NaN   \n",
       "47  DAT.F00276            5760574                0         NaN   \n",
       "48  DAT.F00283            3231949                0         NaN   \n",
       "49  DAT.F00284            5188349                0         NaN   \n",
       "50  DAT.F00285            4364624                0         NaN   \n",
       "51  DAT.F00286            4065674            13920         NaN   \n",
       "52  DAT.F00287            6872524            10020         NaN   \n",
       "53  DAT.F00289            5352749            18000         NaN   \n",
       "54  DAT.F00293            3631274            13980         NaN   \n",
       "55  DAT.F00299            3083649            12180         NaN   \n",
       "56  DAT.F00300            7239499            18600         NaN   \n",
       "57  DAT.F00308            3333024            13080         NaN   \n",
       "58  DAT.F00386            4596474            11220         NaN   \n",
       "59  DAT.F00403            4719199            18240         NaN   \n",
       "\n",
       "    Point of Seizure      250  \n",
       "0            3510000  3510000  \n",
       "1            3180000  3180000  \n",
       "2            3990000  3990000  \n",
       "3                  0        0  \n",
       "4            2505000  2505000  \n",
       "5            3240000  3240000  \n",
       "6            2820000  2820000  \n",
       "7                  0        0  \n",
       "8            2925000  2925000  \n",
       "9                  0        0  \n",
       "10                 0        0  \n",
       "11           4080000  4080000  \n",
       "12           3480000  3480000  \n",
       "13           2850000  2850000  \n",
       "14           4440000  4440000  \n",
       "15                 0        0  \n",
       "16           4395000  4395000  \n",
       "17                 0        0  \n",
       "18                 0        0  \n",
       "19                 0        0  \n",
       "20                 0        0  \n",
       "21                 0        0  \n",
       "22                 0        0  \n",
       "23           2655000  2655000  \n",
       "24           2670000  2670000  \n",
       "25           5535000  5535000  \n",
       "26           3405000  3405000  \n",
       "27           5055000  5055000  \n",
       "28           5940000  5940000  \n",
       "29           4665000  4665000  \n",
       "30           4365000  4365000  \n",
       "31           2460000  2460000  \n",
       "32           2940000  2940000  \n",
       "33           2340000  2340000  \n",
       "34           5085000  5085000  \n",
       "35           3300000  3300000  \n",
       "36           2550000  2550000  \n",
       "37                 0        0  \n",
       "38           2985000  2985000  \n",
       "39           6030000  6030000  \n",
       "40           3705000  3705000  \n",
       "41           2625000  2625000  \n",
       "42                 0        0  \n",
       "43           3780000  3780000  \n",
       "44                 0        0  \n",
       "45                 0        0  \n",
       "46                 0        0  \n",
       "47                 0        0  \n",
       "48                 0        0  \n",
       "49                 0        0  \n",
       "50                 0        0  \n",
       "51           3480000  3480000  \n",
       "52           2505000  2505000  \n",
       "53           4500000  4500000  \n",
       "54           3495000  3495000  \n",
       "55           3045000  3045000  \n",
       "56           4650000  4650000  \n",
       "57           3270000  3270000  \n",
       "58           2805000  2805000  \n",
       "59           4560000  4560000  "
      ]
     },
     "execution_count": 9,
     "metadata": {},
     "output_type": "execute_result"
    }
   ],
   "source": [
    "data_info"
   ]
  },
  {
   "cell_type": "code",
   "execution_count": 10,
   "metadata": {},
   "outputs": [],
   "source": [
    "WHICH_DATA_FILE=5"
   ]
  },
  {
   "cell_type": "code",
   "execution_count": 11,
   "metadata": {},
   "outputs": [],
   "source": [
    "data_file = data_info.iloc[WHICH_DATA_FILE,0]"
   ]
  },
  {
   "cell_type": "code",
   "execution_count": 12,
   "metadata": {},
   "outputs": [],
   "source": [
    "data_epipoint = data_info.iloc[WHICH_DATA_FILE,4]"
   ]
  },
  {
   "cell_type": "code",
   "execution_count": 13,
   "metadata": {},
   "outputs": [
    {
     "data": {
      "text/plain": [
       "3240000"
      ]
     },
     "execution_count": 13,
     "metadata": {},
     "output_type": "execute_result"
    }
   ],
   "source": [
    "data_epipoint"
   ]
  },
  {
   "cell_type": "code",
   "execution_count": 14,
   "metadata": {},
   "outputs": [],
   "source": [
    "dat = np.loadtxt(os.path.join(data_dir, data_file))"
   ]
  },
  {
   "cell_type": "code",
   "execution_count": 15,
   "metadata": {},
   "outputs": [],
   "source": [
    "ictal_rng = (max(0,data_epipoint-l), min(dat.shape[0], data_epipoint+l))\n",
    "non_ictal_rng = (max(0, int(data_epipoint/2)-l), min(dat.shape[0], int(data_epipoint/2)+l))\n",
    "subsample_ictal_rng = (np.array(ictal_rng)/subsample_rate).astype(int)\n",
    "lm_kernel = local_models.local_models.TriCubeKernel(bandwidth=bandwidth)\n",
    "index_X = np.arange(dat.shape[0]*1.).reshape(-1,1)\n",
    "index = local_models.local_models.ConstantDistanceSortedIndex(index_X.flatten())\n",
    "nonictal_rng = (1000,1000+n) \n",
    "nonictal_X = np.arange(*nonictal_rng)"
   ]
  },
  {
   "cell_type": "code",
   "execution_count": null,
   "metadata": {},
   "outputs": [],
   "source": [
    "\n"
   ]
  },
  {
   "cell_type": "code",
   "execution_count": 16,
   "metadata": {},
   "outputs": [],
   "source": [
    "class GPR(patched_gpr.GaussianProcessRegressor):\n",
    "    def fit(self, X,y,sample_weight=None, **kwargs):\n",
    "        if \"beta0\" in kwargs:\n",
    "            self.kernel.theta = kwargs[\"beta0\"]\n",
    "            del kwargs[\"beta0\"]\n",
    "        the_model = super().fit(X,y,sample_weight, **kwargs)\n",
    "        self.coef_ = the_model.kernel_.theta\n",
    "        self.intercept_ = np.empty((0,))\n",
    "        return the_model"
   ]
  },
  {
   "cell_type": "code",
   "execution_count": 28,
   "metadata": {},
   "outputs": [],
   "source": [
    "kernel = np.sum((\n",
    "    np.prod((#delta waves\n",
    "        gp.kernels.ConstantKernel(constant_value=1.0, constant_value_bounds=[0.001,1e10]),\n",
    "        gp.kernels.RBF(length_scale=HZ/2, length_scale_bounds=[1e-5,1e5]))),\n",
    "    gp.kernels.WhiteKernel(noise_level=1e-9, noise_level_bounds=[1e-9,1e-9])\n",
    "))"
   ]
  },
  {
   "cell_type": "code",
   "execution_count": null,
   "metadata": {},
   "outputs": [],
   "source": []
  },
  {
   "cell_type": "markdown",
   "metadata": {},
   "source": [
    "## Fit exemplar GPR to get starting values"
   ]
  },
  {
   "cell_type": "code",
   "execution_count": null,
   "metadata": {},
   "outputs": [],
   "source": []
  },
  {
   "cell_type": "code",
   "execution_count": 29,
   "metadata": {},
   "outputs": [],
   "source": [
    "#a computationally convenient approximation to the beta... sig on [0,1]\n",
    "def kumaraswamy(sig,a=1.,b=1.):\n",
    "    return a*b*sig**(a-1)*(1-sig**a)**(b-1)\n",
    "def spectrum(sig, d):\n",
    "    f = scipy.fftpack.rfftfreq(sig.size, d=d)\n",
    "    y = scipy.fftpack.rfft(sig)\n",
    "    return f, y\n",
    "def kumaraswamy_filter(sig,d,a=1.,b=1.):\n",
    "    f, y = spectrum(sig, d)\n",
    "    max_f = np.max(f)\n",
    "    kumaraswamy_filter = kumaraswamy(f/max_f,a,b)\n",
    "    kumaraswamy_filter /= np.max(kumaraswamy_filter) #scale units\n",
    "    y *= kumaraswamy_filter\n",
    "    filtered_sig = scipy.fftpack.irfft(y)\n",
    "    return filtered_sig"
   ]
  },
  {
   "cell_type": "code",
   "execution_count": 30,
   "metadata": {},
   "outputs": [],
   "source": [
    "filtered_dat0 = kumaraswamy_filter(dat[:,0],1/HZ,1.2,10.)"
   ]
  },
  {
   "cell_type": "code",
   "execution_count": 31,
   "metadata": {},
   "outputs": [],
   "source": [
    "filtered_regressor = GPR(kernel=kernel, normalize_y=True, n_restarts_optimizer=7, alpha=0)"
   ]
  },
  {
   "cell_type": "code",
   "execution_count": 32,
   "metadata": {},
   "outputs": [],
   "source": [
    "exemplar_rng = (1000,1000+n) \n",
    "exemplar_X = np.arange(*exemplar_rng)\n",
    "lm_kernel = local_models.local_models.TriCubeKernel(bandwidth=bandwidth)"
   ]
  },
  {
   "cell_type": "code",
   "execution_count": 33,
   "metadata": {},
   "outputs": [],
   "source": [
    "filtered_exemplar_gpr = filtered_regressor.fit(exemplar_X.reshape(-1,1), filtered_dat0[slice(*exemplar_rng)],lm_kernel(np.abs(exemplar_X-np.mean(exemplar_X))))"
   ]
  },
  {
   "cell_type": "code",
   "execution_count": 34,
   "metadata": {},
   "outputs": [
    {
     "data": {
      "image/png": "[encoded data removed]",
      "text/plain": [
       "<matplotlib.figure.Figure at 0x7f0acbd152b0>"
      ]
     },
     "metadata": {
      "needs_background": "light"
     },
     "output_type": "display_data"
    }
   ],
   "source": [
    "fig, axs = plt.subplots(1, sharex=True, gridspec_kw={'hspace': 0})\n",
    "adjust_ax_labels(axs,exemplar_rng,hz=HZ)\n",
    "axs.plot(exemplar_X, filtered_dat0[slice(*exemplar_rng)])\n",
    "axs.plot(exemplar_X, filtered_exemplar_gpr.predict(exemplar_X.reshape(-1,1)))\n",
    "plt.savefig(os.path.join(project_dir, \"filtered_exemplar_gpr_rng{}.png\".format(str(exemplar_rng))))"
   ]
  },
  {
   "cell_type": "code",
   "execution_count": 35,
   "metadata": {},
   "outputs": [
    {
     "data": {
      "text/plain": [
       "array([3.95139973e+03, 4.79716330e+00, 1.00000000e-09])"
      ]
     },
     "execution_count": 35,
     "metadata": {},
     "output_type": "execute_result"
    }
   ],
   "source": [
    "np.exp(filtered_exemplar_gpr.kernel_.theta)"
   ]
  },
  {
   "cell_type": "code",
   "execution_count": null,
   "metadata": {},
   "outputs": [],
   "source": []
  },
  {
   "cell_type": "code",
   "execution_count": 36,
   "metadata": {},
   "outputs": [
    {
     "data": {
      "text/plain": [
       "<local_models.local_models.LocalModels at 0x7f0acbb8f198>"
      ]
     },
     "execution_count": 36,
     "metadata": {},
     "output_type": "execute_result"
    }
   ],
   "source": [
    "filtered_local_regressor = GPR(kernel=filtered_exemplar_gpr.kernel_, normalize_y=True, n_restarts_optimizer=0, alpha=0)\n",
    "X = np.arange(filtered_dat0.shape[0]*1.).reshape(-1,1)\n",
    "index = local_models.local_models.ConstantDistanceSortedIndex(X.flatten())\n",
    "y = filtered_dat0\n",
    "lm_kernel = local_models.local_models.TriCubeKernel(bandwidth=bandwidth)\n",
    "filtered_gpr_models = local_models.local_models.LocalModels(filtered_local_regressor)\n",
    "filtered_gpr_models.fit(X,y,index=index)"
   ]
  },
  {
   "cell_type": "code",
   "execution_count": null,
   "metadata": {},
   "outputs": [],
   "source": [
    "filtered_gpr_params = filtered_gpr_models.transform(X[ictal_rng[0]:ictal_rng[1]:subsample_rate,:],r=lm_kernel.support_radius()-1,weighted=True,kernel=lm_kernel,neighbor_beta0s=False, batch_size=int((subsample_ictal_rng[1] - subsample_ictal_rng[0])/10))"
   ]
  },
  {
   "cell_type": "code",
   "execution_count": null,
   "metadata": {},
   "outputs": [],
   "source": []
  },
  {
   "cell_type": "code",
   "execution_count": null,
   "metadata": {},
   "outputs": [],
   "source": [
    "def clear(fig, axs):\n",
    "    for ax in axs:\n",
    "        ax.clear()\n",
    "    fig.clear()\n",
    "    plt.close(fig)\n",
    "    plt.close(\"all\")"
   ]
  },
  {
   "cell_type": "code",
   "execution_count": 57,
   "metadata": {},
   "outputs": [],
   "source": [
    "def plt_gpr_params(X, y, gpr_X, gpr_params, epipoint, kernel, filename, hz=HZ):\n",
    "    fig, axs = plt.subplots(2, sharex=True, gridspec_kw={'hspace': 0})\n",
    "    adjust_ax_labels(axs,(np.min(X), np.max(X)),hz=HZ)\n",
    "    artists = []\n",
    "    colors = (color for color in plt.rcParams['axes.prop_cycle'].by_key()['color'])\n",
    "    for var in range(gpr_params.shape[1]):\n",
    "        c = next(colors)\n",
    "        ar = axs[0].plot(gpr_X, gpr_params[:,var],c=c)\n",
    "        artists.append(ar[0])\n",
    "    c = next(colors)\n",
    "    for ax in axs:\n",
    "        ar = ax.axvline(epipoint,c=c,lw=5)\n",
    "    artists.append(ar)\n",
    "    c = next(colors)\n",
    "    ar = axs[1].plot(X, y, c=c)\n",
    "    artists.append(ar[0])\n",
    "    axs[0].legend(artists, list(map(lambda x: type(x).__name__, [k for k in patched_gpr.decompose_kernels(kernel) if k.n_dims])) + [\"ictal point\", \"filtered eeg\"],loc=\"lower left\")\n",
    "    plt.savefig(filename)\n",
    "    clear(fig, axs)"
   ]
  },
  {
   "cell_type": "code",
   "execution_count": null,
   "metadata": {},
   "outputs": [],
   "source": [
    "fig, axs = plt.subplots(2, sharex=True, gridspec_kw={'hspace': 0})\n",
    "adjust_ax_labels(axs,ictal_rng,hz=HZ)\n",
    "artists = []\n",
    "colors = (color for color in plt.rcParams['axes.prop_cycle'].by_key()['color'])\n",
    "for var in range(filtered_gpr_params.shape[1]):\n",
    "    c = next(colors)\n",
    "    ar = axs[0].plot(X[ictal_rng[0]:ictal_rng[1]:subsample_rate],filtered_gpr_params[:,var],c=c)\n",
    "    artists.append(ar[0])\n",
    "c = next(colors)\n",
    "for ax in axs:\n",
    "    ar = ax.axvline(data_epipoint,c=c,lw=5)\n",
    "artists.append(ar)\n",
    "c = next(colors)\n",
    "ar = axs[1].plot(X[ictal_rng[0]:ictal_rng[1]],filtered_dat0[slice(*ictal_rng)],c=c)\n",
    "artists.append(ar[0])\n",
    "axs[0].legend(artists, list(map(lambda x: type(x).__name__, [k for k in patched_gpr.decompose_kernels(kernel) if k.n_dims])) + [\"ictal point\", \"filtered eeg\"],loc=\"lower left\")\n",
    "plt.savefig(os.path.join(project_dir, \"filtered_gpr_params_subsamplerate{:07d}_kernel{}.png\".format(subsample_rate, str(lm_kernel))))"
   ]
  },
  {
   "cell_type": "markdown",
   "metadata": {},
   "source": [
    "## Filter the eeg to the range of normal brainwaves"
   ]
  },
  {
   "cell_type": "code",
   "execution_count": null,
   "metadata": {},
   "outputs": [],
   "source": [
    "a = 1.2; b=10.\n",
    "filtered_data_dir = os.path.join(data_dir, \"filtered_data\")\n",
    "os.makedirs(filtered_data_dir, exist_ok=1)\n",
    "filtered_data_filename = os.path.join(filtered_data_dir, \"kumaraswamy_filtered_data_eeg{}_a{:05.02f}_b{:05.02f}\".format(data_file, a, b))"
   ]
  },
  {
   "cell_type": "code",
   "execution_count": null,
   "metadata": {},
   "outputs": [],
   "source": [
    "if not os.path.isfile(filtered_data_filename):\n",
    "    filtered_dat = np.empty(dat[:,:EEG_CHANNELS].shape)\n",
    "    for channel in range(EEG_CHANNELS):\n",
    "        print(channel)\n",
    "        filtered_dat[:,channel] = kumaraswamy_filter(dat[:,channel],1/HZ,a,b)\n",
    "    np.savetxt(filtered_data_filename, filtered_dat)\n",
    "else:\n",
    "    filtered_dat = np.loadtxt(filtered_data_filename)"
   ]
  },
  {
   "cell_type": "code",
   "execution_count": null,
   "metadata": {},
   "outputs": [],
   "source": [
    "transformed_data_dir = os.path.join(data_dir, \"transformed_data_single_rbf_{:03d}\".format(RUN))\n",
    "os.makedirs(transformed_data_dir, exist_ok=1)"
   ]
  },
  {
   "cell_type": "code",
   "execution_count": null,
   "metadata": {},
   "outputs": [],
   "source": [
    "timelog = local_models.local_models.loggin.TimeLogger(\n",
    "    logger=logger, \n",
    "    how_often=1, total=EEG_CHANNELS, \n",
    "    tag=\"local gpr eeg transform eeg{}\".format(data_file))\n",
    "\n",
    "for channel in range(EEG_CHANNELS):\n",
    "    with timelog:\n",
    "        transformed_data_filename = os.path.join(transformed_data_dir, \"gpr_transformed_data_k{}_rng{}_channel{:03d}.dat\".format(str(lm_kernel), str(ictal_rng), channel))\n",
    "        #fit an exemplar gpr to get optimizer starting parameters\n",
    "        filtered_regressor = GPR(kernel=kernel, normalize_y=True, n_restarts_optimizer=0, alpha=0)\n",
    "        filtered_exemplar_gpr = filtered_regressor.fit(\n",
    "            nonictal_X.reshape(-1,1), \n",
    "            filtered_dat[slice(*nonictal_rng),channel], \n",
    "            lm_kernel(np.abs(nonictal_X-np.mean(nonictal_X))))\n",
    "        #fit the local models\n",
    "        filtered_local_regressor = GPR(kernel=filtered_exemplar_gpr.kernel_, normalize_y=True, n_restarts_optimizer=0, alpha=0)\n",
    "        y = filtered_dat[:,channel]\n",
    "        filtered_gpr_models = local_models.local_models.LocalModels(filtered_local_regressor)\n",
    "        filtered_gpr_models.fit(index_X,y,index=index)\n",
    "        filtered_gpr_params = filtered_gpr_models.transform(index_X[ictal_rng[0]:ictal_rng[1]:subsample_rate,:],r=lm_kernel.support_radius()-1,weighted=True,kernel=lm_kernel,neighbor_beta0s=False, batch_size=int((subsample_ictal_rng[1] - subsample_ictal_rng[0])/10))\n",
    "        np.savetxt(transformed_data_filename, filtered_gpr_params)"
   ]
  },
  {
   "cell_type": "code",
   "execution_count": 52,
   "metadata": {},
   "outputs": [
    {
     "data": {
      "text/plain": [
       "(1000, 3)"
      ]
     },
     "execution_count": 52,
     "metadata": {},
     "output_type": "execute_result"
    }
   ],
   "source": [
    "filtered_gpr_params.shape"
   ]
  },
  {
   "cell_type": "code",
   "execution_count": null,
   "metadata": {},
   "outputs": [],
   "source": [
    "transformed_data_img_dir = os.path.join(transformed_data_dir, \"transformed_data_imgs\")\n",
    "os.makedirs(transformed_data_img_dir, exist_ok=1)"
   ]
  },
  {
   "cell_type": "code",
   "execution_count": 58,
   "metadata": {},
   "outputs": [
    {
     "name": "stdout",
     "output_type": "stream",
     "text": [
      "0\n",
      "1\n",
      "2\n",
      "3\n",
      "4\n",
      "5\n",
      "6\n",
      "7\n",
      "8\n",
      "9\n",
      "10\n",
      "11\n",
      "12\n",
      "13\n",
      "14\n",
      "15\n",
      "16\n",
      "17\n",
      "18\n",
      "19\n",
      "20\n"
     ]
    }
   ],
   "source": [
    "gpr_X = index_X[ictal_rng[0]:ictal_rng[1]:subsample_rate,:]\n",
    "X = index_X[slice(*ictal_rng),:]\n",
    "for channel in range(EEG_CHANNELS):\n",
    "    print(channel)\n",
    "    transformed_data_filename = os.path.join(transformed_data_dir, \"gpr_transformed_data_k{}_rng{}_channel{:03d}.dat\".format(str(lm_kernel), str(ictal_rng), channel))\n",
    "    transformed_data_img_filename = os.path.join(transformed_data_img_dir, \"gpr_transformed_data_k{}_rng{}_channel{:03d}.png\".format(str(lm_kernel), str(ictal_rng), channel))\n",
    "    y = filtered_dat[slice(*ictal_rng),channel]\n",
    "    gpr_params = np.loadtxt(transformed_data_filename)\n",
    "    plt_gpr_params(X, y, gpr_X, gpr_params, data_epipoint, kernel, transformed_data_img_filename)"
   ]
  },
  {
   "cell_type": "code",
   "execution_count": null,
   "metadata": {},
   "outputs": [],
   "source": [
    "import importlib; importlib.reload(local_models.algorithms)\n",
    "importlib.reload(local_models.TLS_models)"
   ]
  },
  {
   "cell_type": "code",
   "execution_count": null,
   "metadata": {},
   "outputs": [],
   "source": [
    "def fit_meanshift(gpr_paramses, kernel):\n",
    "    mean_regressor = local_models.TLS_models.LinearODR_mD(0)\n",
    "    mean_models = local_models.local_models.LocalModels(mean_regressor)\n",
    "    mean_models.fit(gpr_paramses)\n",
    "    for i, (dat, report) in enumerate(local_models.algorithms.local_tls_shift_till_convergence(\n",
    "                mean_models, gpr_paramses, kernel=kernel, report=True)):\n",
    "        if not i%100:\n",
    "            #print(report)\n",
    "            pass\n",
    "    return dat"
   ]
  },
  {
   "cell_type": "code",
   "execution_count": null,
   "metadata": {},
   "outputs": [],
   "source": [
    "def cleanup_meanshift(meanshifted_data, tol=1e-7): \n",
    "    import sklearn.neighbors\n",
    "    bt = sklearn.neighbors.BallTree(meanshifted_data)\n",
    "    bins = bt.query_radius(meanshifted_data, r=tol)\n",
    "    cleanuped = np.empty(meanshifted_data.shape)\n",
    "    for i, the_bin in enumerate(bins):\n",
    "        cleanuped[i] = np.mean(meanshifted_data[the_bin], axis=0)\n",
    "    return cleanuped"
   ]
  },
  {
   "cell_type": "code",
   "execution_count": null,
   "metadata": {},
   "outputs": [],
   "source": [
    "def pick_optimal_meanshift_bandwidth(initial_bandwidths, gpr_paramses, iterations=7):\n",
    "    #go middle of the road to get two clusters.\n",
    "    #i.e. find the minimum bandwidth giving 3, the max giving 1, then take their average\n",
    "    print(iterations)\n",
    "    checked_bandwidths = []\n",
    "    given_n_clusters = []\n",
    "    if iterations == 0:\n",
    "        return checked_bandwidths, given_n_clusters\n",
    "    for bandwidth in initial_bandwidths:\n",
    "        ms_kernel = local_models.local_models.TriCubeKernel(bandwidth=bandwidth)\n",
    "        fitted_meanshift = fit_meanshift(gpr_paramses, ms_kernel)\n",
    "        fitted_meanshift = cleanup_meanshift(fitted_meanshift)\n",
    "        observed_clusters = np.unique(fitted_meanshift, axis=0).shape[0]\n",
    "        checked_bandwidths.append(bandwidth)\n",
    "        given_n_clusters.append(observed_clusters)\n",
    "    #get half of the ones, and half of the twos:\n",
    "    the_ones = [checked_bandwidths[i] for i in range(len(checked_bandwidths)) if given_n_clusters[i]==1]\n",
    "    the_twos = [checked_bandwidths[i] for i in range(len(checked_bandwidths)) if given_n_clusters[i]==2]\n",
    "    the_more_than_twos = [checked_bandwidths[i] for i in range(len(checked_bandwidths)) if given_n_clusters[i]>2]\n",
    "    median_the_ones = np.median(the_ones)\n",
    "    median_the_more_than_twos = np.median(the_more_than_twos)\n",
    "    median_the_twos = np.median(the_twos) if the_twos else np.mean([median_the_ones, median_the_more_than_twos])\n",
    "    sub_checked, sub_n_clusters = pick_optimal_meanshift_bandwidth(\n",
    "        np.concatenate((\n",
    "            np.linspace(median_the_more_than_twos, median_the_twos, len(initial_bandwidths)),\n",
    "            np.linspace(median_the_twos, median_the_ones, len(initial_bandwidths))\n",
    "        )),\n",
    "        gpr_paramses,\n",
    "        iterations - 1\n",
    "    )\n",
    "    return checked_bandwidths + sub_checked, given_n_clusters + sub_n_clusters "
   ]
  },
  {
   "cell_type": "code",
   "execution_count": null,
   "metadata": {},
   "outputs": [],
   "source": []
  },
  {
   "cell_type": "markdown",
   "metadata": {},
   "source": [
    "## Check out what happens when meanshift clustering gpr_params for different bandwidths"
   ]
  },
  {
   "cell_type": "code",
   "execution_count": null,
   "metadata": {},
   "outputs": [],
   "source": [
    "bs, ns = pick_optimal_meanshift_bandwidth([1,5,13,34,89], gpr_params)"
   ]
  },
  {
   "cell_type": "code",
   "execution_count": null,
   "metadata": {},
   "outputs": [],
   "source": [
    "sorted_bs_indices = sorted(list(range(len(bs))), key=lambda i: bs[i])\n",
    "sorted_bs = [bs[i] for i in sorted_bs_indices]\n",
    "sorted_ns = [ns[i] for i in sorted_bs_indices]"
   ]
  },
  {
   "cell_type": "code",
   "execution_count": 50,
   "metadata": {},
   "outputs": [
    {
     "ename": "NameError",
     "evalue": "name 'sorted_ns' is not defined",
     "output_type": "error",
     "traceback": [
      "\u001b[0;31m---------------------------------------------------------------------------\u001b[0m",
      "\u001b[0;31mNameError\u001b[0m                                 Traceback (most recent call last)",
      "\u001b[0;32m<ipython-input-50-c0be85af765f>\u001b[0m in \u001b[0;36m<module>\u001b[0;34m\u001b[0m\n\u001b[0;32m----> 1\u001b[0;31m \u001b[0mlist\u001b[0m\u001b[0;34m(\u001b[0m\u001b[0mzip\u001b[0m\u001b[0;34m(\u001b[0m\u001b[0msorted_ns\u001b[0m\u001b[0;34m,\u001b[0m \u001b[0msorted_bs\u001b[0m\u001b[0;34m)\u001b[0m\u001b[0;34m)\u001b[0m\u001b[0;34m\u001b[0m\u001b[0m\n\u001b[0m",
      "\u001b[0;31mNameError\u001b[0m: name 'sorted_ns' is not defined"
     ]
    }
   ],
   "source": [
    "list(zip(sorted_ns, sorted_bs))"
   ]
  },
  {
   "cell_type": "code",
   "execution_count": null,
   "metadata": {},
   "outputs": [],
   "source": [
    "plt.plot(sorted_bs, sorted_ns)"
   ]
  },
  {
   "cell_type": "markdown",
   "metadata": {},
   "source": [
    "### The optimal bandwidth is something that robustly gives 2 clusters"
   ]
  },
  {
   "cell_type": "code",
   "execution_count": null,
   "metadata": {},
   "outputs": [],
   "source": [
    "optimal_bandwidth = np.median([bs[i] for i in range(len(bs)) if ns[i] ==2])\n",
    "optimal_bandwidth"
   ]
  },
  {
   "cell_type": "code",
   "execution_count": null,
   "metadata": {},
   "outputs": [],
   "source": []
  },
  {
   "cell_type": "code",
   "execution_count": null,
   "metadata": {},
   "outputs": [],
   "source": [
    "ms_kernel = local_models.local_models.TriCubeKernel(bandwidth=optimal_bandwidth)\n",
    "single_channel_meanshift = fit_meanshift(gpr_params, ms_kernel)\n",
    "single_channel_meanshift = cleanup_meanshift(single_channel_meanshift)"
   ]
  },
  {
   "cell_type": "code",
   "execution_count": null,
   "metadata": {},
   "outputs": [],
   "source": [
    "uq, ind = np.unique(single_channel_meanshift,axis=0,return_inverse=True)"
   ]
  },
  {
   "cell_type": "code",
   "execution_count": 51,
   "metadata": {},
   "outputs": [
    {
     "ename": "NameError",
     "evalue": "name 'uq' is not defined",
     "output_type": "error",
     "traceback": [
      "\u001b[0;31m---------------------------------------------------------------------------\u001b[0m",
      "\u001b[0;31mNameError\u001b[0m                                 Traceback (most recent call last)",
      "\u001b[0;32m<ipython-input-51-93cbdbbd06a1>\u001b[0m in \u001b[0;36m<module>\u001b[0;34m\u001b[0m\n\u001b[0;32m----> 1\u001b[0;31m \u001b[0mplt\u001b[0m\u001b[0;34m.\u001b[0m\u001b[0mplot\u001b[0m\u001b[0;34m(\u001b[0m\u001b[0mnp\u001b[0m\u001b[0;34m.\u001b[0m\u001b[0mmean\u001b[0m\u001b[0;34m(\u001b[0m\u001b[0muq\u001b[0m\u001b[0;34m,\u001b[0m\u001b[0maxis\u001b[0m\u001b[0;34m=\u001b[0m\u001b[0;36m1\u001b[0m\u001b[0;34m)\u001b[0m\u001b[0;34m[\u001b[0m\u001b[0mind\u001b[0m\u001b[0;34m]\u001b[0m\u001b[0;34m)\u001b[0m\u001b[0;34m\u001b[0m\u001b[0m\n\u001b[0m",
      "\u001b[0;31mNameError\u001b[0m: name 'uq' is not defined"
     ]
    }
   ],
   "source": [
    "plt.plot(np.mean(uq,axis=1)[ind])"
   ]
  },
  {
   "cell_type": "code",
   "execution_count": null,
   "metadata": {},
   "outputs": [],
   "source": [
    "meanshifted_data_dir = os.path.join(data_dir, \"meanshifted_data_{:03d}\".format(RUN))\n",
    "os.makedirs(meanshifted_data_dir, exist_ok=1)"
   ]
  },
  {
   "cell_type": "code",
   "execution_count": null,
   "metadata": {},
   "outputs": [],
   "source": [
    "fig, axs = plt.subplots(3, sharex=True, gridspec_kw={'hspace': 0})\n",
    "adjust_ax_labels(axs,rng,hz=HZ)\n",
    "artists = []\n",
    "colors = (color for color in plt.rcParams['axes.prop_cycle'].by_key()['color'])\n",
    "for var in range(filtered_gpr_params.shape[1]-1):\n",
    "    c = next(colors)\n",
    "    ar = axs[0].plot(gpr_X,gpr_params[:,var],c=c)\n",
    "    artists.append(ar[0])\n",
    "    axs[1].plot(gpr_X,single_channel_meanshift[:,var],c=c)\n",
    "c = next(colors)\n",
    "for ax in axs:\n",
    "    ar = ax.axvline(data_epipoint,c=c,lw=5)\n",
    "artists.append(ar)\n",
    "c = next(colors)\n",
    "y = filtered_dat[slice(*ictal_rng),channel]\n",
    "ar = axs[2].plot(X, y,c=c)\n",
    "artists.append(ar[0])\n",
    "axs[0].legend(artists, list(map(lambda x: type(x).__name__, [k for k in patched_gpr.decompose_kernels(kernel) if k.n_dims][:-1])) + [\"ictal point\", \"filtered eeg\"],loc=\"lower left\")\n",
    "plt.savefig(os.path.join(meanshifted_data_dir, \"filtered_gpr_params_meanshifted_msb{:06.02f}_subsamplerate{:07d}_kernel{}.png\".format(optimal_bandwidth, subsample_rate, str(lm_kernel))))"
   ]
  },
  {
   "cell_type": "markdown",
   "metadata": {},
   "source": [
    "## Do the above things but for all channels... We'll just cram em into a single vector"
   ]
  },
  {
   "cell_type": "code",
   "execution_count": null,
   "metadata": {},
   "outputs": [],
   "source": [
    "gpr_paramses = np.empty((gpr_params.shape[0], gpr_params.shape[1], EEG_CHANNELS))"
   ]
  },
  {
   "cell_type": "code",
   "execution_count": null,
   "metadata": {},
   "outputs": [],
   "source": [
    "for channel in range(EEG_CHANNELS):\n",
    "    print(channel)\n",
    "    transformed_data_filename = os.path.join(transformed_data_dir, \"gpr_transformed_data_k{}_rng{}_channel{:03d}.dat\".format(str(lm_kernel), str(ictal_rng), channel))\n",
    "    transformed_data_img_filename = os.path.join(transformed_data_img_dir, \"gpr_transformed_data_k{}_rng{}_channel{:03d}.png\".format(str(lm_kernel), str(ictal_rng), channel))\n",
    "    y = filtered_dat[slice(*ictal_rng),channel]\n",
    "    gpr_params = np.loadtxt(transformed_data_filename)\n",
    "    gpr_paramses[:,:,channel] = gpr_params"
   ]
  },
  {
   "cell_type": "code",
   "execution_count": null,
   "metadata": {},
   "outputs": [],
   "source": [
    "flattened_params = gpr_paramses.transpose([0,2,1]).reshape(gpr_params.shape[0],-1)"
   ]
  },
  {
   "cell_type": "code",
   "execution_count": 49,
   "metadata": {},
   "outputs": [
    {
     "ename": "NameError",
     "evalue": "name 'flattened_params' is not defined",
     "output_type": "error",
     "traceback": [
      "\u001b[0;31m---------------------------------------------------------------------------\u001b[0m",
      "\u001b[0;31mNameError\u001b[0m                                 Traceback (most recent call last)",
      "\u001b[0;32m<ipython-input-49-3c827072fd8a>\u001b[0m in \u001b[0;36m<module>\u001b[0;34m\u001b[0m\n\u001b[0;32m----> 1\u001b[0;31m \u001b[0mflattened_params\u001b[0m\u001b[0;34m.\u001b[0m\u001b[0mshape\u001b[0m\u001b[0;34m\u001b[0m\u001b[0m\n\u001b[0m",
      "\u001b[0;31mNameError\u001b[0m: name 'flattened_params' is not defined"
     ]
    }
   ],
   "source": [
    "flattened_params.shape"
   ]
  },
  {
   "cell_type": "code",
   "execution_count": null,
   "metadata": {},
   "outputs": [],
   "source": [
    "np.linalg.norm(flattened_params[0]-flattened_params[1])"
   ]
  },
  {
   "cell_type": "code",
   "execution_count": null,
   "metadata": {},
   "outputs": [],
   "source": [
    "ms_kernel = local_models.local_models.TriCubeKernel(bandwidth=30)"
   ]
  },
  {
   "cell_type": "code",
   "execution_count": null,
   "metadata": {},
   "outputs": [],
   "source": [
    "fitted_meanshift = fit_meanshift(flattened_params, ms_kernel)"
   ]
  },
  {
   "cell_type": "code",
   "execution_count": 48,
   "metadata": {},
   "outputs": [
    {
     "ename": "NameError",
     "evalue": "name 'fitted_meanshift' is not defined",
     "output_type": "error",
     "traceback": [
      "\u001b[0;31m---------------------------------------------------------------------------\u001b[0m",
      "\u001b[0;31mNameError\u001b[0m                                 Traceback (most recent call last)",
      "\u001b[0;32m<ipython-input-48-f4796edfc905>\u001b[0m in \u001b[0;36m<module>\u001b[0;34m\u001b[0m\n\u001b[0;32m----> 1\u001b[0;31m \u001b[0mfitted_meanshift\u001b[0m\u001b[0;34m.\u001b[0m\u001b[0mshape\u001b[0m\u001b[0;34m\u001b[0m\u001b[0m\n\u001b[0m",
      "\u001b[0;31mNameError\u001b[0m: name 'fitted_meanshift' is not defined"
     ]
    }
   ],
   "source": [
    "fitted_meanshift.shape"
   ]
  },
  {
   "cell_type": "code",
   "execution_count": null,
   "metadata": {},
   "outputs": [],
   "source": [
    "fitted_meanshift = cleanup_meanshift(fitted_meanshift)"
   ]
  },
  {
   "cell_type": "code",
   "execution_count": null,
   "metadata": {},
   "outputs": [],
   "source": [
    "plt.plot(fitted_meanshift[:,0])"
   ]
  },
  {
   "cell_type": "code",
   "execution_count": null,
   "metadata": {},
   "outputs": [],
   "source": []
  },
  {
   "cell_type": "markdown",
   "metadata": {},
   "source": [
    "## Get the optimal meanshift bandwidth for the \"big\" dataset"
   ]
  },
  {
   "cell_type": "code",
   "execution_count": null,
   "metadata": {},
   "outputs": [],
   "source": [
    "bs_all_channels, ns_all_channels = pick_optimal_meanshift_bandwidth([13,34,89,150], flattened_params)"
   ]
  },
  {
   "cell_type": "code",
   "execution_count": 47,
   "metadata": {},
   "outputs": [
    {
     "ename": "NameError",
     "evalue": "name 'bs_all_channels' is not defined",
     "output_type": "error",
     "traceback": [
      "\u001b[0;31m---------------------------------------------------------------------------\u001b[0m",
      "\u001b[0;31mNameError\u001b[0m                                 Traceback (most recent call last)",
      "\u001b[0;32m<ipython-input-47-60bf01ba2c89>\u001b[0m in \u001b[0;36m<module>\u001b[0;34m\u001b[0m\n\u001b[0;32m----> 1\u001b[0;31m \u001b[0moptimal_bandwidth_all_channels\u001b[0m \u001b[0;34m=\u001b[0m \u001b[0mnp\u001b[0m\u001b[0;34m.\u001b[0m\u001b[0mmedian\u001b[0m\u001b[0;34m(\u001b[0m\u001b[0;34m[\u001b[0m\u001b[0mbs_all_channels\u001b[0m\u001b[0;34m[\u001b[0m\u001b[0mi\u001b[0m\u001b[0;34m]\u001b[0m \u001b[0;32mfor\u001b[0m \u001b[0mi\u001b[0m \u001b[0;32min\u001b[0m \u001b[0mrange\u001b[0m\u001b[0;34m(\u001b[0m\u001b[0mlen\u001b[0m\u001b[0;34m(\u001b[0m\u001b[0mbs_all_channels\u001b[0m\u001b[0;34m)\u001b[0m\u001b[0;34m)\u001b[0m \u001b[0;32mif\u001b[0m \u001b[0mns_all_channels\u001b[0m\u001b[0;34m[\u001b[0m\u001b[0mi\u001b[0m\u001b[0;34m]\u001b[0m \u001b[0;34m==\u001b[0m\u001b[0;36m2\u001b[0m\u001b[0;34m]\u001b[0m\u001b[0;34m)\u001b[0m\u001b[0;34m\u001b[0m\u001b[0m\n\u001b[0m\u001b[1;32m      2\u001b[0m \u001b[0moptimal_bandwidth_all_channels\u001b[0m\u001b[0;34m\u001b[0m\u001b[0m\n",
      "\u001b[0;31mNameError\u001b[0m: name 'bs_all_channels' is not defined"
     ]
    }
   ],
   "source": [
    "optimal_bandwidth_all_channels = np.median([bs_all_channels[i] for i in range(len(bs_all_channels)) if ns_all_channels[i] ==2])\n",
    "optimal_bandwidth_all_channels"
   ]
  },
  {
   "cell_type": "code",
   "execution_count": null,
   "metadata": {},
   "outputs": [],
   "source": [
    "ms_kernel = local_models.local_models.TriCubeKernel(bandwidth=optimal_bandwidth_all_channels)\n",
    "all_channels_meanshift = fit_meanshift(flattened_params, ms_kernel)\n",
    "all_channels_meanshift = cleanup_meanshift(all_channels_meanshift)"
   ]
  },
  {
   "cell_type": "code",
   "execution_count": null,
   "metadata": {},
   "outputs": [],
   "source": [
    "plt.plot(np.mean(all_channels_meanshift,axis=1))"
   ]
  },
  {
   "cell_type": "code",
   "execution_count": null,
   "metadata": {},
   "outputs": [],
   "source": [
    "fig, axs = plt.subplots(3, sharex=True, gridspec_kw={'hspace': 0})\n",
    "adjust_ax_labels(axs,rng,hz=HZ)\n",
    "artists = []\n",
    "colors = (color for color in plt.rcParams['axes.prop_cycle'].by_key()['color'])\n",
    "for var in range(filtered_gpr_params.shape[1]-1):\n",
    "    c = next(colors)\n",
    "    for channel in range(gpr_paramses.shape[2]):\n",
    "        ar = axs[0].plot(gpr_X,gpr_paramses[:,var,channel],c=c)\n",
    "        axs[1].plot(\n",
    "            gpr_X,\n",
    "            all_channels_meanshift[:,channel*filtered_gpr_params.shape[1] + var],\n",
    "            c=c)\n",
    "    artists.append(ar[0])\n",
    "c = next(colors)\n",
    "for ax in axs:\n",
    "    ar = ax.axvline(data_epipoint,c=c,lw=5)\n",
    "artists.append(ar)\n",
    "c = next(colors)\n",
    "for channel in range(gpr_paramses.shape[2]):\n",
    "    y = filtered_dat[slice(*ictal_rng),channel]\n",
    "    ar = axs[2].plot(X, y, c=c)\n",
    "artists.append(ar[0])\n",
    "axs[0].legend(artists, list(map(lambda x: type(x).__name__, [k for k in patched_gpr.decompose_kernels(kernel) if k.n_dims][:-1])) + [\"ictal point\", \"filtered eeg\"],loc=\"lower left\")\n",
    "plt.savefig(os.path.join(meanshifted_data_dir, \"all_channels_gpr_params_meanshifted_msb{:06.02f}_subsamplerate{:07d}_kernel{}.png\".format(optimal_bandwidth, subsample_rate, str(lm_kernel))))"
   ]
  },
  {
   "cell_type": "code",
   "execution_count": null,
   "metadata": {},
   "outputs": [],
   "source": [
    "len(artists)"
   ]
  },
  {
   "cell_type": "code",
   "execution_count": null,
   "metadata": {},
   "outputs": [],
   "source": []
  }
 ],
 "metadata": {
  "kernelspec": {
   "display_name": "Python 3",
   "language": "python",
   "name": "python3"
  },
  "language_info": {
   "codemirror_mode": {
    "name": "ipython",
    "version": 3
   },
   "file_extension": ".py",
   "mimetype": "text/x-python",
   "name": "python",
   "nbconvert_exporter": "python",
   "pygments_lexer": "ipython3",
   "version": "3.5.2"
  }
 },
 "nbformat": 4,
 "nbformat_minor": 2
}
