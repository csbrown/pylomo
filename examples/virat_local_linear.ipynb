{
 "cells": [
  {
   "cell_type": "code",
   "execution_count": 1,
   "metadata": {},
   "outputs": [],
   "source": [
    "import ml_battery.log\n",
    "import local_models.local_models as local_models\n",
    "import numpy as np\n",
    "import matplotlib.pyplot as plt\n",
    "import sklearn.linear_model\n",
    "import sklearn.cluster\n",
    "from importlib import reload\n",
    "from ml_battery.utils import cmap\n",
    "import matplotlib as mpl\n",
    "import os\n",
    "import cv2\n",
    "import logging\n",
    "reload(local_models)\n",
    "mpl.rcParams['figure.figsize'] = [8.0, 8.0]\n",
    "BIG = 999999999999999999999999"
   ]
  },
  {
   "cell_type": "code",
   "execution_count": 2,
   "metadata": {},
   "outputs": [
    {
     "name": "stdout",
     "output_type": "stream",
     "text": [
      "/home/scott/windowed_gaussian_process_study/data/virat/VIRAT_S_000001/frame11480.png\n"
     ]
    }
   ],
   "source": [
    "imagedir = \"/home/scott/windowed_gaussian_process_study/data/virat/VIRAT_S_000001\"\n",
    "images = sorted([os.path.join(imagedir,x) for x in os.listdir(imagedir)])\n",
    "print(images[11479])"
   ]
  },
  {
   "cell_type": "code",
   "execution_count": 3,
   "metadata": {},
   "outputs": [],
   "source": [
    "def read_image(name, scale):\n",
    "    im = cv2.imread(name,0)\n",
    "    return cv2.resize(im, tuple((np.array(im.shape[2::-1])/scale).astype(np.int64)), interpolation = cv2.INTER_CUBIC)"
   ]
  },
  {
   "cell_type": "code",
   "execution_count": 35,
   "metadata": {},
   "outputs": [
    {
     "data": {
      "text/plain": [
       "'/home/scott/windowed_gaussian_process_study/data/virat/VIRAT_S_000001/frame10680.png /home/scott/windowed_gaussian_process_study/data/virat/VIRAT_S_000001/frame10685.png /home/scott/windowed_gaussian_process_study/data/virat/VIRAT_S_000001/frame10690.png /home/scott/windowed_gaussian_process_study/data/virat/VIRAT_S_000001/frame10695.png /home/scott/windowed_gaussian_process_study/data/virat/VIRAT_S_000001/frame10700.png /home/scott/windowed_gaussian_process_study/data/virat/VIRAT_S_000001/frame10705.png /home/scott/windowed_gaussian_process_study/data/virat/VIRAT_S_000001/frame10710.png /home/scott/windowed_gaussian_process_study/data/virat/VIRAT_S_000001/frame10715.png /home/scott/windowed_gaussian_process_study/data/virat/VIRAT_S_000001/frame10720.png /home/scott/windowed_gaussian_process_study/data/virat/VIRAT_S_000001/frame10725.png /home/scott/windowed_gaussian_process_study/data/virat/VIRAT_S_000001/frame10730.png /home/scott/windowed_gaussian_process_study/data/virat/VIRAT_S_000001/frame10735.png /home/scott/windowed_gaussian_process_study/data/virat/VIRAT_S_000001/frame10740.png /home/scott/windowed_gaussian_process_study/data/virat/VIRAT_S_000001/frame10745.png /home/scott/windowed_gaussian_process_study/data/virat/VIRAT_S_000001/frame10750.png /home/scott/windowed_gaussian_process_study/data/virat/VIRAT_S_000001/frame10755.png /home/scott/windowed_gaussian_process_study/data/virat/VIRAT_S_000001/frame10760.png /home/scott/windowed_gaussian_process_study/data/virat/VIRAT_S_000001/frame10765.png /home/scott/windowed_gaussian_process_study/data/virat/VIRAT_S_000001/frame10770.png /home/scott/windowed_gaussian_process_study/data/virat/VIRAT_S_000001/frame10775.png /home/scott/windowed_gaussian_process_study/data/virat/VIRAT_S_000001/frame10780.png /home/scott/windowed_gaussian_process_study/data/virat/VIRAT_S_000001/frame10785.png /home/scott/windowed_gaussian_process_study/data/virat/VIRAT_S_000001/frame10790.png /home/scott/windowed_gaussian_process_study/data/virat/VIRAT_S_000001/frame10795.png /home/scott/windowed_gaussian_process_study/data/virat/VIRAT_S_000001/frame10800.png /home/scott/windowed_gaussian_process_study/data/virat/VIRAT_S_000001/frame10805.png /home/scott/windowed_gaussian_process_study/data/virat/VIRAT_S_000001/frame10810.png /home/scott/windowed_gaussian_process_study/data/virat/VIRAT_S_000001/frame10815.png /home/scott/windowed_gaussian_process_study/data/virat/VIRAT_S_000001/frame10820.png /home/scott/windowed_gaussian_process_study/data/virat/VIRAT_S_000001/frame10825.png /home/scott/windowed_gaussian_process_study/data/virat/VIRAT_S_000001/frame10830.png /home/scott/windowed_gaussian_process_study/data/virat/VIRAT_S_000001/frame10835.png /home/scott/windowed_gaussian_process_study/data/virat/VIRAT_S_000001/frame10840.png /home/scott/windowed_gaussian_process_study/data/virat/VIRAT_S_000001/frame10845.png /home/scott/windowed_gaussian_process_study/data/virat/VIRAT_S_000001/frame10850.png /home/scott/windowed_gaussian_process_study/data/virat/VIRAT_S_000001/frame10855.png /home/scott/windowed_gaussian_process_study/data/virat/VIRAT_S_000001/frame10860.png /home/scott/windowed_gaussian_process_study/data/virat/VIRAT_S_000001/frame10865.png /home/scott/windowed_gaussian_process_study/data/virat/VIRAT_S_000001/frame10870.png /home/scott/windowed_gaussian_process_study/data/virat/VIRAT_S_000001/frame10875.png /home/scott/windowed_gaussian_process_study/data/virat/VIRAT_S_000001/frame10880.png /home/scott/windowed_gaussian_process_study/data/virat/VIRAT_S_000001/frame10885.png /home/scott/windowed_gaussian_process_study/data/virat/VIRAT_S_000001/frame10890.png /home/scott/windowed_gaussian_process_study/data/virat/VIRAT_S_000001/frame10895.png /home/scott/windowed_gaussian_process_study/data/virat/VIRAT_S_000001/frame10900.png /home/scott/windowed_gaussian_process_study/data/virat/VIRAT_S_000001/frame10905.png /home/scott/windowed_gaussian_process_study/data/virat/VIRAT_S_000001/frame10910.png /home/scott/windowed_gaussian_process_study/data/virat/VIRAT_S_000001/frame10915.png /home/scott/windowed_gaussian_process_study/data/virat/VIRAT_S_000001/frame10920.png /home/scott/windowed_gaussian_process_study/data/virat/VIRAT_S_000001/frame10925.png /home/scott/windowed_gaussian_process_study/data/virat/VIRAT_S_000001/frame10930.png /home/scott/windowed_gaussian_process_study/data/virat/VIRAT_S_000001/frame10935.png /home/scott/windowed_gaussian_process_study/data/virat/VIRAT_S_000001/frame10940.png /home/scott/windowed_gaussian_process_study/data/virat/VIRAT_S_000001/frame10945.png /home/scott/windowed_gaussian_process_study/data/virat/VIRAT_S_000001/frame10950.png /home/scott/windowed_gaussian_process_study/data/virat/VIRAT_S_000001/frame10955.png /home/scott/windowed_gaussian_process_study/data/virat/VIRAT_S_000001/frame10960.png /home/scott/windowed_gaussian_process_study/data/virat/VIRAT_S_000001/frame10965.png /home/scott/windowed_gaussian_process_study/data/virat/VIRAT_S_000001/frame10970.png /home/scott/windowed_gaussian_process_study/data/virat/VIRAT_S_000001/frame10975.png /home/scott/windowed_gaussian_process_study/data/virat/VIRAT_S_000001/frame10980.png /home/scott/windowed_gaussian_process_study/data/virat/VIRAT_S_000001/frame10985.png /home/scott/windowed_gaussian_process_study/data/virat/VIRAT_S_000001/frame10990.png /home/scott/windowed_gaussian_process_study/data/virat/VIRAT_S_000001/frame10995.png /home/scott/windowed_gaussian_process_study/data/virat/VIRAT_S_000001/frame11000.png /home/scott/windowed_gaussian_process_study/data/virat/VIRAT_S_000001/frame11005.png /home/scott/windowed_gaussian_process_study/data/virat/VIRAT_S_000001/frame11010.png /home/scott/windowed_gaussian_process_study/data/virat/VIRAT_S_000001/frame11015.png /home/scott/windowed_gaussian_process_study/data/virat/VIRAT_S_000001/frame11020.png /home/scott/windowed_gaussian_process_study/data/virat/VIRAT_S_000001/frame11025.png /home/scott/windowed_gaussian_process_study/data/virat/VIRAT_S_000001/frame11030.png /home/scott/windowed_gaussian_process_study/data/virat/VIRAT_S_000001/frame11035.png /home/scott/windowed_gaussian_process_study/data/virat/VIRAT_S_000001/frame11040.png /home/scott/windowed_gaussian_process_study/data/virat/VIRAT_S_000001/frame11045.png /home/scott/windowed_gaussian_process_study/data/virat/VIRAT_S_000001/frame11050.png /home/scott/windowed_gaussian_process_study/data/virat/VIRAT_S_000001/frame11055.png /home/scott/windowed_gaussian_process_study/data/virat/VIRAT_S_000001/frame11060.png /home/scott/windowed_gaussian_process_study/data/virat/VIRAT_S_000001/frame11065.png /home/scott/windowed_gaussian_process_study/data/virat/VIRAT_S_000001/frame11070.png /home/scott/windowed_gaussian_process_study/data/virat/VIRAT_S_000001/frame11075.png /home/scott/windowed_gaussian_process_study/data/virat/VIRAT_S_000001/frame11080.png /home/scott/windowed_gaussian_process_study/data/virat/VIRAT_S_000001/frame11085.png /home/scott/windowed_gaussian_process_study/data/virat/VIRAT_S_000001/frame11090.png /home/scott/windowed_gaussian_process_study/data/virat/VIRAT_S_000001/frame11095.png /home/scott/windowed_gaussian_process_study/data/virat/VIRAT_S_000001/frame11100.png /home/scott/windowed_gaussian_process_study/data/virat/VIRAT_S_000001/frame11105.png /home/scott/windowed_gaussian_process_study/data/virat/VIRAT_S_000001/frame11110.png /home/scott/windowed_gaussian_process_study/data/virat/VIRAT_S_000001/frame11115.png /home/scott/windowed_gaussian_process_study/data/virat/VIRAT_S_000001/frame11120.png /home/scott/windowed_gaussian_process_study/data/virat/VIRAT_S_000001/frame11125.png /home/scott/windowed_gaussian_process_study/data/virat/VIRAT_S_000001/frame11130.png /home/scott/windowed_gaussian_process_study/data/virat/VIRAT_S_000001/frame11135.png /home/scott/windowed_gaussian_process_study/data/virat/VIRAT_S_000001/frame11140.png /home/scott/windowed_gaussian_process_study/data/virat/VIRAT_S_000001/frame11145.png /home/scott/windowed_gaussian_process_study/data/virat/VIRAT_S_000001/frame11150.png /home/scott/windowed_gaussian_process_study/data/virat/VIRAT_S_000001/frame11155.png /home/scott/windowed_gaussian_process_study/data/virat/VIRAT_S_000001/frame11160.png /home/scott/windowed_gaussian_process_study/data/virat/VIRAT_S_000001/frame11165.png /home/scott/windowed_gaussian_process_study/data/virat/VIRAT_S_000001/frame11170.png /home/scott/windowed_gaussian_process_study/data/virat/VIRAT_S_000001/frame11175.png /home/scott/windowed_gaussian_process_study/data/virat/VIRAT_S_000001/frame11180.png /home/scott/windowed_gaussian_process_study/data/virat/VIRAT_S_000001/frame11185.png /home/scott/windowed_gaussian_process_study/data/virat/VIRAT_S_000001/frame11190.png /home/scott/windowed_gaussian_process_study/data/virat/VIRAT_S_000001/frame11195.png /home/scott/windowed_gaussian_process_study/data/virat/VIRAT_S_000001/frame11200.png /home/scott/windowed_gaussian_process_study/data/virat/VIRAT_S_000001/frame11205.png /home/scott/windowed_gaussian_process_study/data/virat/VIRAT_S_000001/frame11210.png /home/scott/windowed_gaussian_process_study/data/virat/VIRAT_S_000001/frame11215.png /home/scott/windowed_gaussian_process_study/data/virat/VIRAT_S_000001/frame11220.png /home/scott/windowed_gaussian_process_study/data/virat/VIRAT_S_000001/frame11225.png /home/scott/windowed_gaussian_process_study/data/virat/VIRAT_S_000001/frame11230.png /home/scott/windowed_gaussian_process_study/data/virat/VIRAT_S_000001/frame11235.png /home/scott/windowed_gaussian_process_study/data/virat/VIRAT_S_000001/frame11240.png /home/scott/windowed_gaussian_process_study/data/virat/VIRAT_S_000001/frame11245.png /home/scott/windowed_gaussian_process_study/data/virat/VIRAT_S_000001/frame11250.png /home/scott/windowed_gaussian_process_study/data/virat/VIRAT_S_000001/frame11255.png /home/scott/windowed_gaussian_process_study/data/virat/VIRAT_S_000001/frame11260.png /home/scott/windowed_gaussian_process_study/data/virat/VIRAT_S_000001/frame11265.png /home/scott/windowed_gaussian_process_study/data/virat/VIRAT_S_000001/frame11270.png /home/scott/windowed_gaussian_process_study/data/virat/VIRAT_S_000001/frame11275.png /home/scott/windowed_gaussian_process_study/data/virat/VIRAT_S_000001/frame11280.png /home/scott/windowed_gaussian_process_study/data/virat/VIRAT_S_000001/frame11285.png /home/scott/windowed_gaussian_process_study/data/virat/VIRAT_S_000001/frame11290.png /home/scott/windowed_gaussian_process_study/data/virat/VIRAT_S_000001/frame11295.png /home/scott/windowed_gaussian_process_study/data/virat/VIRAT_S_000001/frame11300.png /home/scott/windowed_gaussian_process_study/data/virat/VIRAT_S_000001/frame11305.png /home/scott/windowed_gaussian_process_study/data/virat/VIRAT_S_000001/frame11310.png /home/scott/windowed_gaussian_process_study/data/virat/VIRAT_S_000001/frame11315.png /home/scott/windowed_gaussian_process_study/data/virat/VIRAT_S_000001/frame11320.png /home/scott/windowed_gaussian_process_study/data/virat/VIRAT_S_000001/frame11325.png /home/scott/windowed_gaussian_process_study/data/virat/VIRAT_S_000001/frame11330.png /home/scott/windowed_gaussian_process_study/data/virat/VIRAT_S_000001/frame11335.png /home/scott/windowed_gaussian_process_study/data/virat/VIRAT_S_000001/frame11340.png /home/scott/windowed_gaussian_process_study/data/virat/VIRAT_S_000001/frame11345.png /home/scott/windowed_gaussian_process_study/data/virat/VIRAT_S_000001/frame11350.png /home/scott/windowed_gaussian_process_study/data/virat/VIRAT_S_000001/frame11355.png /home/scott/windowed_gaussian_process_study/data/virat/VIRAT_S_000001/frame11360.png /home/scott/windowed_gaussian_process_study/data/virat/VIRAT_S_000001/frame11365.png /home/scott/windowed_gaussian_process_study/data/virat/VIRAT_S_000001/frame11370.png /home/scott/windowed_gaussian_process_study/data/virat/VIRAT_S_000001/frame11375.png /home/scott/windowed_gaussian_process_study/data/virat/VIRAT_S_000001/frame11380.png /home/scott/windowed_gaussian_process_study/data/virat/VIRAT_S_000001/frame11385.png /home/scott/windowed_gaussian_process_study/data/virat/VIRAT_S_000001/frame11390.png /home/scott/windowed_gaussian_process_study/data/virat/VIRAT_S_000001/frame11395.png /home/scott/windowed_gaussian_process_study/data/virat/VIRAT_S_000001/frame11400.png /home/scott/windowed_gaussian_process_study/data/virat/VIRAT_S_000001/frame11405.png /home/scott/windowed_gaussian_process_study/data/virat/VIRAT_S_000001/frame11410.png /home/scott/windowed_gaussian_process_study/data/virat/VIRAT_S_000001/frame11415.png /home/scott/windowed_gaussian_process_study/data/virat/VIRAT_S_000001/frame11420.png /home/scott/windowed_gaussian_process_study/data/virat/VIRAT_S_000001/frame11425.png /home/scott/windowed_gaussian_process_study/data/virat/VIRAT_S_000001/frame11430.png /home/scott/windowed_gaussian_process_study/data/virat/VIRAT_S_000001/frame11435.png /home/scott/windowed_gaussian_process_study/data/virat/VIRAT_S_000001/frame11440.png /home/scott/windowed_gaussian_process_study/data/virat/VIRAT_S_000001/frame11445.png /home/scott/windowed_gaussian_process_study/data/virat/VIRAT_S_000001/frame11450.png /home/scott/windowed_gaussian_process_study/data/virat/VIRAT_S_000001/frame11455.png /home/scott/windowed_gaussian_process_study/data/virat/VIRAT_S_000001/frame11460.png /home/scott/windowed_gaussian_process_study/data/virat/VIRAT_S_000001/frame11465.png /home/scott/windowed_gaussian_process_study/data/virat/VIRAT_S_000001/frame11470.png /home/scott/windowed_gaussian_process_study/data/virat/VIRAT_S_000001/frame11475.png /home/scott/windowed_gaussian_process_study/data/virat/VIRAT_S_000001/frame11480.png /home/scott/windowed_gaussian_process_study/data/virat/VIRAT_S_000001/frame11485.png /home/scott/windowed_gaussian_process_study/data/virat/VIRAT_S_000001/frame11490.png /home/scott/windowed_gaussian_process_study/data/virat/VIRAT_S_000001/frame11495.png /home/scott/windowed_gaussian_process_study/data/virat/VIRAT_S_000001/frame11500.png /home/scott/windowed_gaussian_process_study/data/virat/VIRAT_S_000001/frame11505.png /home/scott/windowed_gaussian_process_study/data/virat/VIRAT_S_000001/frame11510.png /home/scott/windowed_gaussian_process_study/data/virat/VIRAT_S_000001/frame11515.png /home/scott/windowed_gaussian_process_study/data/virat/VIRAT_S_000001/frame11520.png /home/scott/windowed_gaussian_process_study/data/virat/VIRAT_S_000001/frame11525.png /home/scott/windowed_gaussian_process_study/data/virat/VIRAT_S_000001/frame11530.png /home/scott/windowed_gaussian_process_study/data/virat/VIRAT_S_000001/frame11535.png /home/scott/windowed_gaussian_process_study/data/virat/VIRAT_S_000001/frame11540.png /home/scott/windowed_gaussian_process_study/data/virat/VIRAT_S_000001/frame11545.png /home/scott/windowed_gaussian_process_study/data/virat/VIRAT_S_000001/frame11550.png /home/scott/windowed_gaussian_process_study/data/virat/VIRAT_S_000001/frame11555.png /home/scott/windowed_gaussian_process_study/data/virat/VIRAT_S_000001/frame11560.png /home/scott/windowed_gaussian_process_study/data/virat/VIRAT_S_000001/frame11565.png /home/scott/windowed_gaussian_process_study/data/virat/VIRAT_S_000001/frame11570.png /home/scott/windowed_gaussian_process_study/data/virat/VIRAT_S_000001/frame11575.png /home/scott/windowed_gaussian_process_study/data/virat/VIRAT_S_000001/frame11580.png /home/scott/windowed_gaussian_process_study/data/virat/VIRAT_S_000001/frame11585.png /home/scott/windowed_gaussian_process_study/data/virat/VIRAT_S_000001/frame11590.png /home/scott/windowed_gaussian_process_study/data/virat/VIRAT_S_000001/frame11595.png /home/scott/windowed_gaussian_process_study/data/virat/VIRAT_S_000001/frame11600.png /home/scott/windowed_gaussian_process_study/data/virat/VIRAT_S_000001/frame11605.png /home/scott/windowed_gaussian_process_study/data/virat/VIRAT_S_000001/frame11610.png /home/scott/windowed_gaussian_process_study/data/virat/VIRAT_S_000001/frame11615.png /home/scott/windowed_gaussian_process_study/data/virat/VIRAT_S_000001/frame11620.png /home/scott/windowed_gaussian_process_study/data/virat/VIRAT_S_000001/frame11625.png /home/scott/windowed_gaussian_process_study/data/virat/VIRAT_S_000001/frame11630.png /home/scott/windowed_gaussian_process_study/data/virat/VIRAT_S_000001/frame11635.png /home/scott/windowed_gaussian_process_study/data/virat/VIRAT_S_000001/frame11640.png /home/scott/windowed_gaussian_process_study/data/virat/VIRAT_S_000001/frame11645.png /home/scott/windowed_gaussian_process_study/data/virat/VIRAT_S_000001/frame11650.png /home/scott/windowed_gaussian_process_study/data/virat/VIRAT_S_000001/frame11655.png /home/scott/windowed_gaussian_process_study/data/virat/VIRAT_S_000001/frame11660.png /home/scott/windowed_gaussian_process_study/data/virat/VIRAT_S_000001/frame11665.png /home/scott/windowed_gaussian_process_study/data/virat/VIRAT_S_000001/frame11670.png /home/scott/windowed_gaussian_process_study/data/virat/VIRAT_S_000001/frame11675.png /home/scott/windowed_gaussian_process_study/data/virat/VIRAT_S_000001/frame11680.png /home/scott/windowed_gaussian_process_study/data/virat/VIRAT_S_000001/frame11685.png /home/scott/windowed_gaussian_process_study/data/virat/VIRAT_S_000001/frame11690.png /home/scott/windowed_gaussian_process_study/data/virat/VIRAT_S_000001/frame11695.png /home/scott/windowed_gaussian_process_study/data/virat/VIRAT_S_000001/frame11700.png /home/scott/windowed_gaussian_process_study/data/virat/VIRAT_S_000001/frame11705.png /home/scott/windowed_gaussian_process_study/data/virat/VIRAT_S_000001/frame11710.png /home/scott/windowed_gaussian_process_study/data/virat/VIRAT_S_000001/frame11715.png /home/scott/windowed_gaussian_process_study/data/virat/VIRAT_S_000001/frame11720.png /home/scott/windowed_gaussian_process_study/data/virat/VIRAT_S_000001/frame11725.png /home/scott/windowed_gaussian_process_study/data/virat/VIRAT_S_000001/frame11730.png /home/scott/windowed_gaussian_process_study/data/virat/VIRAT_S_000001/frame11735.png /home/scott/windowed_gaussian_process_study/data/virat/VIRAT_S_000001/frame11740.png /home/scott/windowed_gaussian_process_study/data/virat/VIRAT_S_000001/frame11745.png /home/scott/windowed_gaussian_process_study/data/virat/VIRAT_S_000001/frame11750.png /home/scott/windowed_gaussian_process_study/data/virat/VIRAT_S_000001/frame11755.png /home/scott/windowed_gaussian_process_study/data/virat/VIRAT_S_000001/frame11760.png /home/scott/windowed_gaussian_process_study/data/virat/VIRAT_S_000001/frame11765.png /home/scott/windowed_gaussian_process_study/data/virat/VIRAT_S_000001/frame11770.png /home/scott/windowed_gaussian_process_study/data/virat/VIRAT_S_000001/frame11775.png /home/scott/windowed_gaussian_process_study/data/virat/VIRAT_S_000001/frame11780.png /home/scott/windowed_gaussian_process_study/data/virat/VIRAT_S_000001/frame11785.png /home/scott/windowed_gaussian_process_study/data/virat/VIRAT_S_000001/frame11790.png /home/scott/windowed_gaussian_process_study/data/virat/VIRAT_S_000001/frame11795.png /home/scott/windowed_gaussian_process_study/data/virat/VIRAT_S_000001/frame11800.png /home/scott/windowed_gaussian_process_study/data/virat/VIRAT_S_000001/frame11805.png /home/scott/windowed_gaussian_process_study/data/virat/VIRAT_S_000001/frame11810.png /home/scott/windowed_gaussian_process_study/data/virat/VIRAT_S_000001/frame11815.png /home/scott/windowed_gaussian_process_study/data/virat/VIRAT_S_000001/frame11820.png /home/scott/windowed_gaussian_process_study/data/virat/VIRAT_S_000001/frame11825.png /home/scott/windowed_gaussian_process_study/data/virat/VIRAT_S_000001/frame11830.png /home/scott/windowed_gaussian_process_study/data/virat/VIRAT_S_000001/frame11835.png /home/scott/windowed_gaussian_process_study/data/virat/VIRAT_S_000001/frame11840.png /home/scott/windowed_gaussian_process_study/data/virat/VIRAT_S_000001/frame11845.png /home/scott/windowed_gaussian_process_study/data/virat/VIRAT_S_000001/frame11850.png /home/scott/windowed_gaussian_process_study/data/virat/VIRAT_S_000001/frame11855.png /home/scott/windowed_gaussian_process_study/data/virat/VIRAT_S_000001/frame11860.png /home/scott/windowed_gaussian_process_study/data/virat/VIRAT_S_000001/frame11865.png /home/scott/windowed_gaussian_process_study/data/virat/VIRAT_S_000001/frame11870.png /home/scott/windowed_gaussian_process_study/data/virat/VIRAT_S_000001/frame11875.png /home/scott/windowed_gaussian_process_study/data/virat/VIRAT_S_000001/frame11880.png /home/scott/windowed_gaussian_process_study/data/virat/VIRAT_S_000001/frame11885.png /home/scott/windowed_gaussian_process_study/data/virat/VIRAT_S_000001/frame11890.png /home/scott/windowed_gaussian_process_study/data/virat/VIRAT_S_000001/frame11895.png /home/scott/windowed_gaussian_process_study/data/virat/VIRAT_S_000001/frame11900.png /home/scott/windowed_gaussian_process_study/data/virat/VIRAT_S_000001/frame11905.png /home/scott/windowed_gaussian_process_study/data/virat/VIRAT_S_000001/frame11910.png /home/scott/windowed_gaussian_process_study/data/virat/VIRAT_S_000001/frame11915.png /home/scott/windowed_gaussian_process_study/data/virat/VIRAT_S_000001/frame11920.png /home/scott/windowed_gaussian_process_study/data/virat/VIRAT_S_000001/frame11925.png /home/scott/windowed_gaussian_process_study/data/virat/VIRAT_S_000001/frame11930.png /home/scott/windowed_gaussian_process_study/data/virat/VIRAT_S_000001/frame11935.png /home/scott/windowed_gaussian_process_study/data/virat/VIRAT_S_000001/frame11940.png /home/scott/windowed_gaussian_process_study/data/virat/VIRAT_S_000001/frame11945.png /home/scott/windowed_gaussian_process_study/data/virat/VIRAT_S_000001/frame11950.png /home/scott/windowed_gaussian_process_study/data/virat/VIRAT_S_000001/frame11955.png /home/scott/windowed_gaussian_process_study/data/virat/VIRAT_S_000001/frame11960.png /home/scott/windowed_gaussian_process_study/data/virat/VIRAT_S_000001/frame11965.png /home/scott/windowed_gaussian_process_study/data/virat/VIRAT_S_000001/frame11970.png /home/scott/windowed_gaussian_process_study/data/virat/VIRAT_S_000001/frame11975.png /home/scott/windowed_gaussian_process_study/data/virat/VIRAT_S_000001/frame11980.png /home/scott/windowed_gaussian_process_study/data/virat/VIRAT_S_000001/frame11985.png /home/scott/windowed_gaussian_process_study/data/virat/VIRAT_S_000001/frame11990.png /home/scott/windowed_gaussian_process_study/data/virat/VIRAT_S_000001/frame11995.png /home/scott/windowed_gaussian_process_study/data/virat/VIRAT_S_000001/frame12000.png /home/scott/windowed_gaussian_process_study/data/virat/VIRAT_S_000001/frame12005.png /home/scott/windowed_gaussian_process_study/data/virat/VIRAT_S_000001/frame12010.png /home/scott/windowed_gaussian_process_study/data/virat/VIRAT_S_000001/frame12015.png /home/scott/windowed_gaussian_process_study/data/virat/VIRAT_S_000001/frame12020.png /home/scott/windowed_gaussian_process_study/data/virat/VIRAT_S_000001/frame12025.png /home/scott/windowed_gaussian_process_study/data/virat/VIRAT_S_000001/frame12030.png /home/scott/windowed_gaussian_process_study/data/virat/VIRAT_S_000001/frame12035.png /home/scott/windowed_gaussian_process_study/data/virat/VIRAT_S_000001/frame12040.png /home/scott/windowed_gaussian_process_study/data/virat/VIRAT_S_000001/frame12045.png /home/scott/windowed_gaussian_process_study/data/virat/VIRAT_S_000001/frame12050.png /home/scott/windowed_gaussian_process_study/data/virat/VIRAT_S_000001/frame12055.png /home/scott/windowed_gaussian_process_study/data/virat/VIRAT_S_000001/frame12060.png /home/scott/windowed_gaussian_process_study/data/virat/VIRAT_S_000001/frame12065.png /home/scott/windowed_gaussian_process_study/data/virat/VIRAT_S_000001/frame12070.png /home/scott/windowed_gaussian_process_study/data/virat/VIRAT_S_000001/frame12075.png /home/scott/windowed_gaussian_process_study/data/virat/VIRAT_S_000001/frame12080.png /home/scott/windowed_gaussian_process_study/data/virat/VIRAT_S_000001/frame12085.png /home/scott/windowed_gaussian_process_study/data/virat/VIRAT_S_000001/frame12090.png /home/scott/windowed_gaussian_process_study/data/virat/VIRAT_S_000001/frame12095.png /home/scott/windowed_gaussian_process_study/data/virat/VIRAT_S_000001/frame12100.png /home/scott/windowed_gaussian_process_study/data/virat/VIRAT_S_000001/frame12105.png /home/scott/windowed_gaussian_process_study/data/virat/VIRAT_S_000001/frame12110.png /home/scott/windowed_gaussian_process_study/data/virat/VIRAT_S_000001/frame12115.png /home/scott/windowed_gaussian_process_study/data/virat/VIRAT_S_000001/frame12120.png /home/scott/windowed_gaussian_process_study/data/virat/VIRAT_S_000001/frame12125.png /home/scott/windowed_gaussian_process_study/data/virat/VIRAT_S_000001/frame12130.png /home/scott/windowed_gaussian_process_study/data/virat/VIRAT_S_000001/frame12135.png /home/scott/windowed_gaussian_process_study/data/virat/VIRAT_S_000001/frame12140.png /home/scott/windowed_gaussian_process_study/data/virat/VIRAT_S_000001/frame12145.png /home/scott/windowed_gaussian_process_study/data/virat/VIRAT_S_000001/frame12150.png /home/scott/windowed_gaussian_process_study/data/virat/VIRAT_S_000001/frame12155.png /home/scott/windowed_gaussian_process_study/data/virat/VIRAT_S_000001/frame12160.png /home/scott/windowed_gaussian_process_study/data/virat/VIRAT_S_000001/frame12165.png /home/scott/windowed_gaussian_process_study/data/virat/VIRAT_S_000001/frame12170.png /home/scott/windowed_gaussian_process_study/data/virat/VIRAT_S_000001/frame12175.png /home/scott/windowed_gaussian_process_study/data/virat/VIRAT_S_000001/frame12180.png /home/scott/windowed_gaussian_process_study/data/virat/VIRAT_S_000001/frame12185.png /home/scott/windowed_gaussian_process_study/data/virat/VIRAT_S_000001/frame12190.png /home/scott/windowed_gaussian_process_study/data/virat/VIRAT_S_000001/frame12195.png /home/scott/windowed_gaussian_process_study/data/virat/VIRAT_S_000001/frame12200.png /home/scott/windowed_gaussian_process_study/data/virat/VIRAT_S_000001/frame12205.png /home/scott/windowed_gaussian_process_study/data/virat/VIRAT_S_000001/frame12210.png /home/scott/windowed_gaussian_process_study/data/virat/VIRAT_S_000001/frame12215.png /home/scott/windowed_gaussian_process_study/data/virat/VIRAT_S_000001/frame12220.png /home/scott/windowed_gaussian_process_study/data/virat/VIRAT_S_000001/frame12225.png /home/scott/windowed_gaussian_process_study/data/virat/VIRAT_S_000001/frame12230.png /home/scott/windowed_gaussian_process_study/data/virat/VIRAT_S_000001/frame12235.png /home/scott/windowed_gaussian_process_study/data/virat/VIRAT_S_000001/frame12240.png /home/scott/windowed_gaussian_process_study/data/virat/VIRAT_S_000001/frame12245.png /home/scott/windowed_gaussian_process_study/data/virat/VIRAT_S_000001/frame12250.png /home/scott/windowed_gaussian_process_study/data/virat/VIRAT_S_000001/frame12255.png /home/scott/windowed_gaussian_process_study/data/virat/VIRAT_S_000001/frame12260.png /home/scott/windowed_gaussian_process_study/data/virat/VIRAT_S_000001/frame12265.png /home/scott/windowed_gaussian_process_study/data/virat/VIRAT_S_000001/frame12270.png /home/scott/windowed_gaussian_process_study/data/virat/VIRAT_S_000001/frame12275.png'"
      ]
     },
     "execution_count": 35,
     "metadata": {},
     "output_type": "execute_result"
    }
   ],
   "source": [
    "' '.join(images[frame_center-1-frame_width:frame_center-1+frame_width:subsample])"
   ]
  },
  {
   "cell_type": "code",
   "execution_count": 4,
   "metadata": {},
   "outputs": [],
   "source": [
    "frame_center = 11480\n",
    "frame_width = 800\n",
    "scale = 4\n",
    "subsample = 5\n",
    "ims = list(map(lambda x: read_image(x,scale), images[frame_center-1-frame_width:frame_center-1+frame_width:subsample]))"
   ]
  },
  {
   "cell_type": "code",
   "execution_count": 5,
   "metadata": {},
   "outputs": [],
   "source": [
    "ims = np.array(ims)"
   ]
  },
  {
   "cell_type": "code",
   "execution_count": 20,
   "metadata": {},
   "outputs": [
    {
     "data": {
      "text/plain": [
       "(320, 270, 480)"
      ]
     },
     "execution_count": 20,
     "metadata": {},
     "output_type": "execute_result"
    }
   ],
   "source": [
    "ims.shape"
   ]
  },
  {
   "cell_type": "code",
   "execution_count": null,
   "metadata": {},
   "outputs": [],
   "source": []
  },
  {
   "cell_type": "code",
   "execution_count": 7,
   "metadata": {},
   "outputs": [],
   "source": [
    "flatims = ims.reshape((-1,1))"
   ]
  },
  {
   "cell_type": "code",
   "execution_count": 8,
   "metadata": {},
   "outputs": [],
   "source": [
    "index = np.moveaxis(np.indices(ims.shape),0,len(ims.shape))\n",
    "flatindex = index.reshape((-1,len(ims.shape)))"
   ]
  },
  {
   "cell_type": "code",
   "execution_count": 9,
   "metadata": {},
   "outputs": [
    {
     "name": "stdout",
     "output_type": "stream",
     "text": [
      "(41472000, 1) (41472000, 3)\n"
     ]
    }
   ],
   "source": [
    "print(flatims.shape, flatindex.shape)"
   ]
  },
  {
   "cell_type": "code",
   "execution_count": 10,
   "metadata": {},
   "outputs": [],
   "source": [
    "square_dist = sklearn.neighbors.dist_metrics.PyFuncDistance(lambda x,y: np.linalg.norm(x-y, ord=np.inf))"
   ]
  },
  {
   "cell_type": "code",
   "execution_count": 11,
   "metadata": {},
   "outputs": [],
   "source": [
    "models = local_models.LocalModels(\n",
    "    sklearn.linear_model.LinearRegression(),\n",
    ")"
   ]
  },
  {
   "cell_type": "code",
   "execution_count": 12,
   "metadata": {},
   "outputs": [
    {
     "data": {
      "text/plain": [
       "<local_models.local_models.LocalModels at 0x7f0cf76e1ba8>"
      ]
     },
     "execution_count": 12,
     "metadata": {},
     "output_type": "execute_result"
    }
   ],
   "source": [
    "models.fit(flatindex, flatims, ball_tree_kwargs = {\n",
    "        \"metric\": \"chebyshev\"\n",
    "    })"
   ]
  },
  {
   "cell_type": "code",
   "execution_count": 13,
   "metadata": {},
   "outputs": [],
   "source": [
    "SUB = (slice(0,10),slice(BIG),slice(BIG))\n",
    "subims, subindex = ims[SUB], index[SUB]\n",
    "subims_flat = subims.reshape((-1,1))\n",
    "subindex_flat = subindex.reshape((-1, len(subims.shape)))"
   ]
  },
  {
   "cell_type": "code",
   "execution_count": null,
   "metadata": {},
   "outputs": [],
   "source": []
  },
  {
   "cell_type": "code",
   "execution_count": null,
   "metadata": {},
   "outputs": [],
   "source": [
    "lm_params = models.transform(flatindex,k=4000,batch_size=1000,parallel=False)"
   ]
  },
  {
   "cell_type": "code",
   "execution_count": null,
   "metadata": {},
   "outputs": [],
   "source": [
    "plt.scatter(lm_params[:,0], lm_params[:,1])\n",
    "plt.show()"
   ]
  },
  {
   "cell_type": "code",
   "execution_count": null,
   "metadata": {},
   "outputs": [],
   "source": []
  },
  {
   "cell_type": "code",
   "execution_count": null,
   "metadata": {},
   "outputs": [],
   "source": [
    "import sklearn.preprocessing\n",
    "scaler = sklearn.preprocessing.MinMaxScaler(feature_range=(0,1))\n",
    "scaled_lm_params = scaler.fit_transform(lm_params)"
   ]
  },
  {
   "cell_type": "code",
   "execution_count": 24,
   "metadata": {},
   "outputs": [],
   "source": [
    "lm_imgs = scaled_lm_params[:,:3].reshape((320,270,480,3))"
   ]
  },
  {
   "cell_type": "code",
   "execution_count": 33,
   "metadata": {},
   "outputs": [
    {
     "data": {
      "image/png": "[encoded data removed]",
      "text/plain": [
       "<matplotlib.figure.Figure at 0x7f0cf72502b0>"
      ]
     },
     "metadata": {},
     "output_type": "display_data"
    }
   ],
   "source": [
    "plt.imshow(lm_imgs[162,:,:,0])\n",
    "plt.show()"
   ]
  },
  {
   "cell_type": "code",
   "execution_count": 26,
   "metadata": {},
   "outputs": [],
   "source": [
    "which = \"0005\""
   ]
  },
  {
   "cell_type": "code",
   "execution_count": 27,
   "metadata": {},
   "outputs": [],
   "source": [
    "for i in range(320):\n",
    "    cv2.imwrite(\"virat_{}_{}.png\".format(which,i), ims[i])\n",
    "    cv2.imwrite(\"virat_local_linear_{}_{}.png\".format(which,i), lm_imgs[i]*256)\n",
    "    cv2.imwrite(\"virat_local_linear_(time)_{}_{}.png\".format(which,i), lm_imgs[i,:,:,0]*256)\n",
    "    cv2.imwrite(\"virat_local_linear_(x)_{}_{}.png\".format(which,i), lm_imgs[i,:,:,2]*256)\n",
    "    cv2.imwrite(\"virat_local_linear_(y)_{}_{}.png\".format(which,i), lm_imgs[i,:,:,1]*256)"
   ]
  },
  {
   "cell_type": "code",
   "execution_count": null,
   "metadata": {},
   "outputs": [],
   "source": [
    "lm_imgs[0].min()"
   ]
  },
  {
   "cell_type": "code",
   "execution_count": 19,
   "metadata": {},
   "outputs": [
    {
     "data": {
      "image/png": "[encoded data removed]",
      "text/plain": [
       "<matplotlib.figure.Figure at 0x7f0b779de3c8>"
      ]
     },
     "metadata": {},
     "output_type": "display_data"
    }
   ],
   "source": [
    "plt.scatter(scaled_lm_params[:,0], scaled_lm_params[:,3])\n",
    "plt.show()"
   ]
  },
  {
   "cell_type": "code",
   "execution_count": null,
   "metadata": {},
   "outputs": [],
   "source": [
    "scaled_lm_params[:,:3].reshape()"
   ]
  },
  {
   "cell_type": "code",
   "execution_count": null,
   "metadata": {},
   "outputs": [],
   "source": [
    "g = np.mgrid[0:2:0.02, 0:10:0.1]\n",
    "xx = np.vstack(map(np.ravel, g)).T"
   ]
  },
  {
   "cell_type": "code",
   "execution_count": null,
   "metadata": {},
   "outputs": [],
   "source": [
    "pred = clf.predict(models.transform(xx,k=k))"
   ]
  },
  {
   "cell_type": "code",
   "execution_count": null,
   "metadata": {},
   "outputs": [],
   "source": [
    "plt.scatter(xx[:,0], xx[:,1], c=cmap(pred), s=4)\n",
    "#plt.scatter(x,y, c=cmap(clf.predict(lm_params)), linewidths=1, edgecolors='k')\n",
    "\n",
    "plt.show()"
   ]
  },
  {
   "cell_type": "code",
   "execution_count": null,
   "metadata": {},
   "outputs": [],
   "source": [
    "clf2 = sklearn.cluster.KMeans(2)"
   ]
  },
  {
   "cell_type": "code",
   "execution_count": null,
   "metadata": {},
   "outputs": [],
   "source": [
    "clf2.fit(np.stack((x,y)).T)"
   ]
  },
  {
   "cell_type": "code",
   "execution_count": null,
   "metadata": {},
   "outputs": [],
   "source": [
    "pred2 = clf2.predict(xx)"
   ]
  },
  {
   "cell_type": "code",
   "execution_count": 18,
   "metadata": {},
   "outputs": [
    {
     "ename": "NameError",
     "evalue": "name 'xx' is not defined",
     "output_type": "error",
     "traceback": [
      "\u001b[0;31m---------------------------------------------------------------------------\u001b[0m",
      "\u001b[0;31mNameError\u001b[0m                                 Traceback (most recent call last)",
      "\u001b[0;32m<ipython-input-18-3075ffc73ff7>\u001b[0m in \u001b[0;36m<module>\u001b[0;34m()\u001b[0m\n\u001b[0;32m----> 1\u001b[0;31m \u001b[0mplt\u001b[0m\u001b[0;34m.\u001b[0m\u001b[0mscatter\u001b[0m\u001b[0;34m(\u001b[0m\u001b[0mxx\u001b[0m\u001b[0;34m[\u001b[0m\u001b[0;34m:\u001b[0m\u001b[0;34m,\u001b[0m\u001b[0;36m0\u001b[0m\u001b[0;34m]\u001b[0m\u001b[0;34m,\u001b[0m \u001b[0mxx\u001b[0m\u001b[0;34m[\u001b[0m\u001b[0;34m:\u001b[0m\u001b[0;34m,\u001b[0m\u001b[0;36m1\u001b[0m\u001b[0;34m]\u001b[0m\u001b[0;34m,\u001b[0m \u001b[0mc\u001b[0m\u001b[0;34m=\u001b[0m\u001b[0mcmap\u001b[0m\u001b[0;34m(\u001b[0m\u001b[0mpred2\u001b[0m\u001b[0;34m)\u001b[0m\u001b[0;34m,\u001b[0m \u001b[0ms\u001b[0m\u001b[0;34m=\u001b[0m\u001b[0;36m6\u001b[0m\u001b[0;34m)\u001b[0m\u001b[0;34m\u001b[0m\u001b[0m\n\u001b[0m\u001b[1;32m      2\u001b[0m \u001b[0mplt\u001b[0m\u001b[0;34m.\u001b[0m\u001b[0mscatter\u001b[0m\u001b[0;34m(\u001b[0m\u001b[0mx\u001b[0m\u001b[0;34m,\u001b[0m\u001b[0my\u001b[0m\u001b[0;34m,\u001b[0m \u001b[0mc\u001b[0m\u001b[0;34m=\u001b[0m\u001b[0mcmap\u001b[0m\u001b[0;34m(\u001b[0m\u001b[0mclf2\u001b[0m\u001b[0;34m.\u001b[0m\u001b[0mpredict\u001b[0m\u001b[0;34m(\u001b[0m\u001b[0mnp\u001b[0m\u001b[0;34m.\u001b[0m\u001b[0mstack\u001b[0m\u001b[0;34m(\u001b[0m\u001b[0;34m(\u001b[0m\u001b[0mx\u001b[0m\u001b[0;34m,\u001b[0m\u001b[0my\u001b[0m\u001b[0;34m)\u001b[0m\u001b[0;34m)\u001b[0m\u001b[0;34m.\u001b[0m\u001b[0mT\u001b[0m\u001b[0;34m)\u001b[0m\u001b[0;34m)\u001b[0m\u001b[0;34m,\u001b[0m \u001b[0mlinewidths\u001b[0m\u001b[0;34m=\u001b[0m\u001b[0;36m1\u001b[0m\u001b[0;34m,\u001b[0m \u001b[0medgecolors\u001b[0m\u001b[0;34m=\u001b[0m\u001b[0mcmap\u001b[0m\u001b[0;34m(\u001b[0m\u001b[0mcolors\u001b[0m\u001b[0;34m)\u001b[0m\u001b[0;34m)\u001b[0m\u001b[0;34m\u001b[0m\u001b[0m\n\u001b[1;32m      3\u001b[0m \u001b[0;34m\u001b[0m\u001b[0m\n\u001b[1;32m      4\u001b[0m \u001b[0mplt\u001b[0m\u001b[0;34m.\u001b[0m\u001b[0mshow\u001b[0m\u001b[0;34m(\u001b[0m\u001b[0;34m)\u001b[0m\u001b[0;34m\u001b[0m\u001b[0m\n",
      "\u001b[0;31mNameError\u001b[0m: name 'xx' is not defined"
     ]
    }
   ],
   "source": [
    "plt.scatter(xx[:,0], xx[:,1], c=cmap(pred2), s=6)\n",
    "plt.scatter(x,y, c=cmap(clf2.predict(np.stack((x,y)).T)), linewidths=1, edgecolors=cmap(colors))\n",
    "\n",
    "plt.show()"
   ]
  },
  {
   "cell_type": "code",
   "execution_count": null,
   "metadata": {},
   "outputs": [],
   "source": []
  },
  {
   "cell_type": "code",
   "execution_count": null,
   "metadata": {},
   "outputs": [],
   "source": []
  },
  {
   "cell_type": "code",
   "execution_count": null,
   "metadata": {},
   "outputs": [],
   "source": [
    "import numpy as np\n",
    "import matplotlib.pyplot as plt\n",
    "from matplotlib.animation import FuncAnimation\n",
    "import matplotlib.animation as animation\n",
    "from IPython.display import HTML\n",
    "%matplotlib inline"
   ]
  },
  {
   "cell_type": "code",
   "execution_count": null,
   "metadata": {},
   "outputs": [],
   "source": [
    "print(animation.writers.list())"
   ]
  },
  {
   "cell_type": "code",
   "execution_count": null,
   "metadata": {},
   "outputs": [],
   "source": [
    "xdata, ydata = x, y\n",
    "offsets = np.stack((xdata, ydata)).T\n",
    "multioffsets = []\n",
    "for i in range(100):\n",
    "    offsets[:,1] += np.random.normal(0,0.05,offsets.shape[0])\n",
    "    multioffsets.append(np.copy(offsets))\n",
    "\n",
    "fig = plt.figure()\n",
    "decision_surface = plt.scatter(xx[:,0], xx[:,1], c=cmap(pred), s=6, animated=True)\n",
    "scat = plt.scatter(x,y, c=cmap(clf.predict(lm_params)), linewidths=1, edgecolors='k', animated=True)\n",
    "\n",
    "def init():\n",
    "    return scat, decision_surface\n",
    "\n",
    "def update(frame):\n",
    "    offsets = multioffsets[frame]\n",
    "    models.fit(offsets[:,:1], offsets[:,1:], offsets)\n",
    "    pred = clf.predict(models.transform(xx,k=k))\n",
    "    decision_surface.set_color(cmap(pred))\n",
    "    scat.set_offsets(np.copy(multioffsets[frame]))\n",
    "    return scat, decision_surface\n",
    "\n",
    "\n",
    "ani = FuncAnimation(fig, update, frames=range(100),\n",
    "                    init_func=init, blit=True)\n",
    "\n",
    "# Set up formatting for the movie files\n",
    "Writer = animation.writers['ffmpeg']\n",
    "writer = Writer(fps=15, metadata=dict(artist='CScott!'), bitrate=1800)\n",
    "ani.save('ani_k10_double.mp4', writer=writer)\n",
    "\n",
    "HTML(ani.to_html5_video())\n",
    "#offsets[:,1] += np.random.normal(0,0.05,offsets.shape[0])\n",
    "#scat.set_offsets(offsets)\n",
    "#scat"
   ]
  },
  {
   "cell_type": "code",
   "execution_count": null,
   "metadata": {},
   "outputs": [],
   "source": []
  },
  {
   "cell_type": "code",
   "execution_count": null,
   "metadata": {},
   "outputs": [],
   "source": []
  },
  {
   "cell_type": "code",
   "execution_count": null,
   "metadata": {},
   "outputs": [],
   "source": []
  },
  {
   "cell_type": "code",
   "execution_count": null,
   "metadata": {},
   "outputs": [],
   "source": []
  }
 ],
 "metadata": {
  "kernelspec": {
   "display_name": "Python 3",
   "language": "python",
   "name": "python3"
  },
  "language_info": {
   "codemirror_mode": {
    "name": "ipython",
    "version": 3
   },
   "file_extension": ".py",
   "mimetype": "text/x-python",
   "name": "python",
   "nbconvert_exporter": "python",
   "pygments_lexer": "ipython3",
   "version": "3.5.2"
  }
 },
 "nbformat": 4,
 "nbformat_minor": 2
}
