{
 "cells": [
  {
   "cell_type": "code",
   "execution_count": 1,
   "metadata": {},
   "outputs": [
    {
     "name": "stderr",
     "output_type": "stream",
     "text": [
      "/usr/local/lib/python3.5/dist-packages/tensorboard/compat/tensorflow_stub/dtypes.py:541: FutureWarning: Passing (type, 1) or '1type' as a synonym of type is deprecated; in a future version of numpy, it will be understood as (type, (1,)) / '(1,)type'.\n",
      "  _np_qint8 = np.dtype([(\"qint8\", np.int8, 1)])\n",
      "/usr/local/lib/python3.5/dist-packages/tensorboard/compat/tensorflow_stub/dtypes.py:542: FutureWarning: Passing (type, 1) or '1type' as a synonym of type is deprecated; in a future version of numpy, it will be understood as (type, (1,)) / '(1,)type'.\n",
      "  _np_quint8 = np.dtype([(\"quint8\", np.uint8, 1)])\n",
      "/usr/local/lib/python3.5/dist-packages/tensorboard/compat/tensorflow_stub/dtypes.py:543: FutureWarning: Passing (type, 1) or '1type' as a synonym of type is deprecated; in a future version of numpy, it will be understood as (type, (1,)) / '(1,)type'.\n",
      "  _np_qint16 = np.dtype([(\"qint16\", np.int16, 1)])\n",
      "/usr/local/lib/python3.5/dist-packages/tensorboard/compat/tensorflow_stub/dtypes.py:544: FutureWarning: Passing (type, 1) or '1type' as a synonym of type is deprecated; in a future version of numpy, it will be understood as (type, (1,)) / '(1,)type'.\n",
      "  _np_quint16 = np.dtype([(\"quint16\", np.uint16, 1)])\n",
      "/usr/local/lib/python3.5/dist-packages/tensorboard/compat/tensorflow_stub/dtypes.py:545: FutureWarning: Passing (type, 1) or '1type' as a synonym of type is deprecated; in a future version of numpy, it will be understood as (type, (1,)) / '(1,)type'.\n",
      "  _np_qint32 = np.dtype([(\"qint32\", np.int32, 1)])\n",
      "/usr/local/lib/python3.5/dist-packages/tensorboard/compat/tensorflow_stub/dtypes.py:550: FutureWarning: Passing (type, 1) or '1type' as a synonym of type is deprecated; in a future version of numpy, it will be understood as (type, (1,)) / '(1,)type'.\n",
      "  np_resource = np.dtype([(\"resource\", np.ubyte, 1)])\n"
     ]
    }
   ],
   "source": [
    "import local_models.local_models\n",
    "import local_models.algorithms\n",
    "import local_models.utils\n",
    "import local_models.linear_projections\n",
    "import local_models.loggin\n",
    "import local_models.TLS_models\n",
    "import numpy as np\n",
    "import matplotlib.pyplot as plt\n",
    "import sklearn.linear_model\n",
    "import sklearn.cluster\n",
    "from importlib import reload\n",
    "from ml_battery.utils import cmap\n",
    "import matplotlib as mpl\n",
    "import sklearn.datasets\n",
    "import sklearn.decomposition\n",
    "import logging\n",
    "import ml_battery.log\n",
    "import time\n",
    "import os\n",
    "import mayavi\n",
    "import mayavi.mlab\n",
    "import string\n",
    "import subprocess\n",
    "import functools\n",
    "import cv2\n",
    "import itertools\n",
    "\n",
    "#on headless systems, tmux: \"Xvfb :1 -screen 0 1280x1024x24 -auth localhost\", then \"export DISPLAY=:1\" in the jupyter tmux\n",
    "mayavi.mlab.options.offscreen = True\n",
    "\n",
    "\n",
    "\n",
    "logger = logging.getLogger(__name__)\n",
    "\n",
    "#reload(local_models.local_models)\n",
    "#reload(lm)\n",
    "#reload(local_models.loggin)\n",
    "#reload(local_models.TLS_models)\n",
    "np.warnings.filterwarnings('ignore')\n"
   ]
  },
  {
   "cell_type": "code",
   "execution_count": 3,
   "metadata": {},
   "outputs": [],
   "source": [
    "FRESH=True"
   ]
  },
  {
   "cell_type": "code",
   "execution_count": 4,
   "metadata": {},
   "outputs": [],
   "source": [
    "kernel_names = {\n",
    "    local_models.local_models.GaussianKernel: 'gaussian',\n",
    "    local_models.local_models.TriCubeKernel: 'tricube'\n",
    "}"
   ]
  },
  {
   "cell_type": "code",
   "execution_count": 5,
   "metadata": {},
   "outputs": [],
   "source": [
    "mpl.rcParams['figure.figsize'] = [8.0, 8.0]"
   ]
  },
  {
   "cell_type": "code",
   "execution_count": 6,
   "metadata": {},
   "outputs": [],
   "source": [
    "data_file = \"/home/brown/Downloads/subject001/3d/andreadm2.stl\""
   ]
  },
  {
   "cell_type": "code",
   "execution_count": 7,
   "metadata": {},
   "outputs": [],
   "source": [
    "import stl\n",
    "\n",
    "tri_mesh = stl.mesh.Mesh.from_file(data_file).points.reshape(-1,3)"
   ]
  },
  {
   "cell_type": "code",
   "execution_count": 8,
   "metadata": {},
   "outputs": [
    {
     "data": {
      "text/plain": [
       "(346758, 3)"
      ]
     },
     "execution_count": 8,
     "metadata": {},
     "output_type": "execute_result"
    }
   ],
   "source": [
    "tri_mesh.shape"
   ]
  },
  {
   "cell_type": "code",
   "execution_count": 9,
   "metadata": {},
   "outputs": [],
   "source": [
    "data, cts = np.unique(tri_mesh, axis=0, return_counts=True)"
   ]
  },
  {
   "cell_type": "code",
   "execution_count": 10,
   "metadata": {},
   "outputs": [
    {
     "data": {
      "text/plain": [
       "(58659, 3)"
      ]
     },
     "execution_count": 10,
     "metadata": {},
     "output_type": "execute_result"
    }
   ],
   "source": [
    "data.shape"
   ]
  },
  {
   "cell_type": "code",
   "execution_count": 11,
   "metadata": {},
   "outputs": [
    {
     "data": {
      "text/plain": [
       "180.348091843"
      ]
     },
     "execution_count": 11,
     "metadata": {},
     "output_type": "execute_result"
    }
   ],
   "source": [
    "(data.shape[0]*100)**(1/3)"
   ]
  },
  {
   "cell_type": "code",
   "execution_count": 12,
   "metadata": {},
   "outputs": [
    {
     "data": {
      "text/plain": [
       "array([ -71.71989 , -340.46124 ,   31.036196], dtype=float32)"
      ]
     },
     "execution_count": 12,
     "metadata": {},
     "output_type": "execute_result"
    }
   ],
   "source": [
    "np.mean(data, axis=0)"
   ]
  },
  {
   "cell_type": "code",
   "execution_count": null,
   "metadata": {},
   "outputs": [],
   "source": []
  },
  {
   "cell_type": "code",
   "execution_count": 13,
   "metadata": {},
   "outputs": [],
   "source": [
    "KERNEL=local_models.local_models.TriCubeKernel\n",
    "RUN = 1\n",
    "\n",
    "project_dir = \"../data/np_quadrics_{}_{:03d}\".format(kernel_names[KERNEL], RUN)\n",
    "\n",
    "os.makedirs(project_dir, exist_ok=1)"
   ]
  },
  {
   "cell_type": "code",
   "execution_count": null,
   "metadata": {},
   "outputs": [],
   "source": []
  },
  {
   "cell_type": "code",
   "execution_count": 14,
   "metadata": {},
   "outputs": [],
   "source": [
    "A = np.array([[0,0,0,1]]).T\n",
    "ORIGIN = np.array([[0,0,0]])\n",
    "ONE = np.array([[1]])\n",
    "\n",
    "import quadrics_utils\n",
    "\n",
    "def diagonalize_quadric_and_translate(Q,X):\n",
    "    Q_s = Q[:-1,:-1]\n",
    "    _, U = np.linalg.eig(Q_s)\n",
    "    UTQs = U.T@Q_s\n",
    "    UL = np.diag(UTQs@U)\n",
    "    #UR = UTQs@X.T + U.T@Q[:-1,-1:]\n",
    "    UR = X@UTQs.T + Q[-1:,:-1]@U\n",
    "    BR = np.einsum('kj,kj->k', X@Q_s, X).reshape(-1,1) + 2*X@Q[:-1,-1:] + Q[-1,-1]\n",
    "    return (U, UL, UR, BR)\n",
    "\n",
    "def array_roots(coeffses):\n",
    "    ret = np.zeros((coeffses.shape[0], coeffses.shape[1]-1), dtype=complex)\n",
    "    for i, coeffs in enumerate(coeffses):\n",
    "        nproots = np.roots(coeffs.flatten())\n",
    "        ret[i] = nproots\n",
    "    return ret\n",
    "\n",
    "projection_funcs = {\n",
    "    \"k_mat\": quadrics_utils.k_mat,\n",
    "    \"other_dims_as_x\": lambda a,b,c,d,e,f,g,x: [quadrics_utils.y_as_x(a,b,c,d,e,f,g,x), quadrics_utils.z_as_x(a,b,c,d,e,f,g,x)],\n",
    "}\n",
    "def orthogonal_quadric_project_x(X,Q,projection_funcs):\n",
    "    U, ul, ur, br = diagonalize_quadric_and_translate(Q,X)\n",
    "    #put all of the dimensions right for math stuff\n",
    "    ul = np.tile(ul.reshape(1,-1), (X.shape[0], 1))\n",
    "    args = (\n",
    "        list(ul.T[...,np.newaxis]) +\n",
    "        [br] +\n",
    "        list(ur.T[...,np.newaxis])\n",
    "    )\n",
    "    \n",
    "    coeffses = projection_funcs[\"k_mat\"](*args)\n",
    "    coeffses = np.stack(coeffses, axis=1)\n",
    "\n",
    "    x = np.ma.array(array_roots(coeffses))\n",
    "    return U,args,x\n",
    "    \n",
    "def orthogonal_quadric_projection(X,Q,projection_funcs):\n",
    "    U, args, x = orthogonal_quadric_project_x(X,Q,projection_funcs)\n",
    "\n",
    "    candidates = x.imag == 0\n",
    "    x.mask = ~candidates\n",
    "    other_dims = projection_funcs[\"other_dims_as_x\"](*(args + [x]))\n",
    "\n",
    "    pts = np.ma.stack([x] + other_dims, axis=1)\n",
    "    dists = np.sum(pts**2, axis=1)\n",
    "    mindists = np.argmin(dists, axis=1)\n",
    "    X_indices = np.arange(X.shape[0])\n",
    "    best_pts = np.array(pts[X_indices,:,mindists], dtype=float)\n",
    "    best_dists = np.array(dists[X_indices,mindists],dtype=float)\n",
    "    return unrotate_and_translate(U, X, best_pts), best_dists\n",
    "\n",
    "def unrotate_and_translate(U, orig_X, new_X):\n",
    "    return new_X@U.T + orig_X\n",
    "    #return np.einsum('ji,ki->kj',U,orig_X) + new_X\n"
   ]
  },
  {
   "cell_type": "code",
   "execution_count": null,
   "metadata": {},
   "outputs": [],
   "source": []
  },
  {
   "cell_type": "code",
   "execution_count": null,
   "metadata": {},
   "outputs": [],
   "source": []
  },
  {
   "cell_type": "code",
   "execution_count": 15,
   "metadata": {},
   "outputs": [
    {
     "name": "stdout",
     "output_type": "stream",
     "text": [
      "(3,) (4, 3) (4, 1)\n"
     ]
    }
   ],
   "source": [
    "def test_diagonalize_quadratic_and_translate():\n",
    "    q = np.array([ # an ellipse\n",
    "        [0.5,0,0,0],\n",
    "        [0,0.4,0,0],\n",
    "        [0,0,0.3,0],\n",
    "        [0,0,0,-1],\n",
    "    ])\n",
    "    x = np.random.uniform(size=12).reshape(4,3)\n",
    "    #x = np.ones(3).reshape(1,-1)*0.01\n",
    "    #x[0,2] = 1\n",
    "    \n",
    "    _, ul, ur, br = diagonalize_quadric_and_translate(q,x)\n",
    "    print(ul.shape,ur.shape,br.shape)\n",
    "    \n",
    "    q1 = np.block([[np.diag(ul), ur[:1].T],[ur[:1], br[:1]]])\n",
    "    \n",
    "    _,U = np.linalg.eig(q[:3,:3])\n",
    "    E = np.block([[U, x[:1].T],[ORIGIN, 1]])\n",
    "    q2 = E.T@q@E\n",
    "    \n",
    "    assert np.allclose(q1,q2)\n",
    "    return x,ul,ur,br\n",
    "x,ul,ur,br = test_diagonalize_quadratic_and_translate()"
   ]
  },
  {
   "cell_type": "code",
   "execution_count": 16,
   "metadata": {},
   "outputs": [
    {
     "data": {
      "text/plain": [
       "array([[0.0619404 , 0.70002244, 0.37283088],\n",
       "       [0.72876962, 0.26031804, 0.79020342],\n",
       "       [0.10712523, 0.10682334, 0.01939804],\n",
       "       [0.70480969, 0.26807666, 0.73614336]])"
      ]
     },
     "execution_count": 16,
     "metadata": {},
     "output_type": "execute_result"
    }
   ],
   "source": [
    "x"
   ]
  },
  {
   "cell_type": "code",
   "execution_count": 17,
   "metadata": {},
   "outputs": [
    {
     "data": {
      "text/plain": [
       "((4, 3), (4, 1), (3,))"
      ]
     },
     "execution_count": 17,
     "metadata": {},
     "output_type": "execute_result"
    }
   ],
   "source": [
    "ur.shape, br.shape, ul.shape"
   ]
  },
  {
   "cell_type": "code",
   "execution_count": 18,
   "metadata": {},
   "outputs": [
    {
     "name": "stdout",
     "output_type": "stream",
     "text": [
      "[[-0.67767991 -0.53064411 -0.50908424]\n",
      " [-0.66897615  0.73232087  0.12718904]\n",
      " [-0.3053209  -0.42675867  0.8512674 ]]\n",
      "[1. 1. 1.]\n",
      "[[ 0.3415073   0.05732713  0.15122647  0.3053209 ]\n",
      " [ 0.05732713  0.27486505  0.15835707  0.42675867]\n",
      " [ 0.15122647  0.15835707  0.13362765 -0.8512674 ]\n",
      " [ 0.3053209   0.42675867 -0.8512674   0.1       ]]\n"
     ]
    },
    {
     "data": {
      "text/plain": [
       "array([[ 0.3415073 ,  0.05732713,  0.15122647,  0.3053209 ],\n",
       "       [ 0.05732713,  0.27486505,  0.15835707,  0.42675867],\n",
       "       [ 0.15122647,  0.15835707,  0.13362765, -0.8512674 ],\n",
       "       [ 0.3053209 ,  0.42675867, -0.8512674 ,  0.1       ]])"
      ]
     },
     "execution_count": 18,
     "metadata": {},
     "output_type": "execute_result"
    }
   ],
   "source": [
    "#q = np.random.uniform(size=(4,4))\n",
    "#q += q.T\n",
    "q = np.array([ # an ellipse\n",
    "    [0.5,0,0,0],\n",
    "    [0,0.25,0,0],\n",
    "    [0,0,0.125,0],\n",
    "    [0,0,0,-1],\n",
    "])\n",
    "q = np.array([ # an elliptic paraboloid\n",
    "    [0.5,0,0,0],\n",
    "    [0,0.25,0,0],\n",
    "    [0,0,0,-1],\n",
    "    [0,0,-1,0.1],\n",
    "])\n",
    "init_q = q\n",
    "u = np.random.uniform(size=(3,3))\n",
    "u += u.T\n",
    "_, u = np.linalg.eig(u)\n",
    "print(u)\n",
    "print(np.linalg.norm(u, axis=0))\n",
    "E = np.block([[u, np.zeros((3,1))],[np.zeros(3), 1]])\n",
    "q = E.T@q@E\n",
    "print(q)\n",
    "x = np.random.uniform(size=3).reshape(1,-1)\n",
    "x = np.ones(3).reshape(1,-1)*0.01\n",
    "x[0,2] = 1\n",
    "\n",
    "q"
   ]
  },
  {
   "cell_type": "code",
   "execution_count": null,
   "metadata": {},
   "outputs": [],
   "source": []
  },
  {
   "cell_type": "code",
   "execution_count": 19,
   "metadata": {},
   "outputs": [
    {
     "data": {
      "text/plain": [
       "array([[ 0.3053209 ],\n",
       "       [ 0.42675867],\n",
       "       [-0.8512674 ]])"
      ]
     },
     "execution_count": 19,
     "metadata": {},
     "output_type": "execute_result"
    }
   ],
   "source": [
    "q[:3,3:]"
   ]
  },
  {
   "cell_type": "code",
   "execution_count": 20,
   "metadata": {},
   "outputs": [],
   "source": [
    "_, ul, ur, br = diagonalize_quadric_and_translate(q,x)"
   ]
  },
  {
   "cell_type": "code",
   "execution_count": 21,
   "metadata": {},
   "outputs": [
    {
     "data": {
      "text/plain": [
       "array([[-1.44800079]])"
      ]
     },
     "execution_count": 21,
     "metadata": {},
     "output_type": "execute_result"
    }
   ],
   "source": [
    "br"
   ]
  },
  {
   "cell_type": "code",
   "execution_count": 22,
   "metadata": {},
   "outputs": [
    {
     "data": {
      "text/plain": [
       "array([[0.01, 0.01, 1.  ]])"
      ]
     },
     "execution_count": 22,
     "metadata": {},
     "output_type": "execute_result"
    }
   ],
   "source": [
    "x"
   ]
  },
  {
   "cell_type": "code",
   "execution_count": 23,
   "metadata": {},
   "outputs": [
    {
     "data": {
      "text/plain": [
       "array([[ 5.00000000e-01,  0.00000000e+00,  0.00000000e+00,\n",
       "        -2.60583741e-01],\n",
       "       [ 0.00000000e+00,  2.50000000e-01,  0.00000000e+00,\n",
       "         3.19556216e-02],\n",
       "       [ 0.00000000e+00,  0.00000000e+00,  3.30812673e-18,\n",
       "        -1.00000000e+00],\n",
       "       [-2.60583741e-01,  3.19556216e-02, -1.00000000e+00,\n",
       "        -1.44800079e+00]])"
      ]
     },
     "execution_count": 23,
     "metadata": {},
     "output_type": "execute_result"
    }
   ],
   "source": [
    "Q1 = np.block([[np.diag(ul), ur.T],[ur, br]])\n",
    "Q1"
   ]
  },
  {
   "cell_type": "code",
   "execution_count": 24,
   "metadata": {},
   "outputs": [],
   "source": [
    "_,U = np.linalg.eig(q[:3,:3])"
   ]
  },
  {
   "cell_type": "code",
   "execution_count": 25,
   "metadata": {},
   "outputs": [
    {
     "data": {
      "text/plain": [
       "array([[-0.67767991, -0.66897615, -0.3053209 ,  0.01      ],\n",
       "       [-0.53064411,  0.73232087, -0.42675867,  0.01      ],\n",
       "       [-0.50908424,  0.12718904,  0.8512674 ,  1.        ],\n",
       "       [ 0.        ,  0.        ,  0.        ,  1.        ]])"
      ]
     },
     "execution_count": 25,
     "metadata": {},
     "output_type": "execute_result"
    }
   ],
   "source": [
    "E = np.block([[U, x.T],[ORIGIN, 1]])\n",
    "E"
   ]
  },
  {
   "cell_type": "code",
   "execution_count": 26,
   "metadata": {},
   "outputs": [
    {
     "data": {
      "text/plain": [
       "array([[ 0.3415073 ,  0.05732713,  0.15122647,  0.3053209 ],\n",
       "       [ 0.05732713,  0.27486505,  0.15835707,  0.42675867],\n",
       "       [ 0.15122647,  0.15835707,  0.13362765, -0.8512674 ],\n",
       "       [ 0.3053209 ,  0.42675867, -0.8512674 ,  0.1       ]])"
      ]
     },
     "execution_count": 26,
     "metadata": {},
     "output_type": "execute_result"
    }
   ],
   "source": [
    "q"
   ]
  },
  {
   "cell_type": "code",
   "execution_count": 27,
   "metadata": {},
   "outputs": [
    {
     "data": {
      "text/plain": [
       "array([[ 0.5  ,  0.   , -0.   , -0.261],\n",
       "       [ 0.   ,  0.25 ,  0.   ,  0.032],\n",
       "       [-0.   ,  0.   , -0.   , -1.   ],\n",
       "       [-0.261,  0.032, -1.   , -1.448]])"
      ]
     },
     "execution_count": 27,
     "metadata": {},
     "output_type": "execute_result"
    }
   ],
   "source": [
    "np.round(E.T@q@E,3)"
   ]
  },
  {
   "cell_type": "code",
   "execution_count": 28,
   "metadata": {},
   "outputs": [
    {
     "data": {
      "text/plain": [
       "array([[-0.67767991, -0.66897615, -0.3053209 ,  0.01      ],\n",
       "       [-0.53064411,  0.73232087, -0.42675867,  0.01      ],\n",
       "       [-0.50908424,  0.12718904,  0.8512674 ,  1.        ],\n",
       "       [ 0.        ,  0.        ,  0.        ,  1.        ]])"
      ]
     },
     "execution_count": 28,
     "metadata": {},
     "output_type": "execute_result"
    }
   ],
   "source": [
    "E"
   ]
  },
  {
   "cell_type": "code",
   "execution_count": 29,
   "metadata": {},
   "outputs": [
    {
     "name": "stdout",
     "output_type": "stream",
     "text": [
      "[[0.35759051 0.43371826 0.58121769]] [0.47573495]\n"
     ]
    }
   ],
   "source": [
    "pts, dists = orthogonal_quadric_projection(x,q, projection_funcs)\n",
    "pts2, dists2 = orthogonal_quadric_projection(x,q, projection_funcs)\n",
    "print(pts2, dists2)"
   ]
  },
  {
   "cell_type": "code",
   "execution_count": 30,
   "metadata": {},
   "outputs": [
    {
     "data": {
      "text/plain": [
       "(array([[0.35759051, 0.43371826, 0.58121769]]), array([0.47573495]))"
      ]
     },
     "execution_count": 30,
     "metadata": {},
     "output_type": "execute_result"
    }
   ],
   "source": [
    "pts, dists"
   ]
  },
  {
   "cell_type": "code",
   "execution_count": 31,
   "metadata": {},
   "outputs": [
    {
     "data": {
      "text/plain": [
       "(array([[0.35759051, 0.43371826, 0.58121769]]), array([0.47573495]))"
      ]
     },
     "execution_count": 31,
     "metadata": {},
     "output_type": "execute_result"
    }
   ],
   "source": [
    "pts2, dists2"
   ]
  },
  {
   "cell_type": "code",
   "execution_count": 32,
   "metadata": {},
   "outputs": [
    {
     "data": {
      "text/plain": [
       "array([0.47573495])"
      ]
     },
     "execution_count": 32,
     "metadata": {},
     "output_type": "execute_result"
    }
   ],
   "source": [
    "dists"
   ]
  },
  {
   "cell_type": "code",
   "execution_count": 33,
   "metadata": {},
   "outputs": [
    {
     "data": {
      "text/plain": [
       "(1, 3)"
      ]
     },
     "execution_count": 33,
     "metadata": {},
     "output_type": "execute_result"
    }
   ],
   "source": [
    "pts.shape"
   ]
  },
  {
   "cell_type": "code",
   "execution_count": 34,
   "metadata": {},
   "outputs": [
    {
     "data": {
      "text/plain": [
       "array([[0.35759051, 0.43371826, 0.58121769, 1.        ]])"
      ]
     },
     "execution_count": 34,
     "metadata": {},
     "output_type": "execute_result"
    }
   ],
   "source": [
    "pt1 = np.ones((1,4))\n",
    "pt1[:,:3] = pts\n",
    "pt1"
   ]
  },
  {
   "cell_type": "code",
   "execution_count": 35,
   "metadata": {},
   "outputs": [
    {
     "data": {
      "text/plain": [
       "array([[-6.10622664e-16]])"
      ]
     },
     "execution_count": 35,
     "metadata": {},
     "output_type": "execute_result"
    }
   ],
   "source": [
    "pt1@q@pt1.T"
   ]
  },
  {
   "cell_type": "code",
   "execution_count": null,
   "metadata": {},
   "outputs": [],
   "source": []
  },
  {
   "cell_type": "code",
   "execution_count": null,
   "metadata": {},
   "outputs": [],
   "source": []
  },
  {
   "cell_type": "code",
   "execution_count": null,
   "metadata": {},
   "outputs": [],
   "source": []
  },
  {
   "cell_type": "code",
   "execution_count": null,
   "metadata": {},
   "outputs": [],
   "source": []
  },
  {
   "cell_type": "code",
   "execution_count": null,
   "metadata": {},
   "outputs": [],
   "source": []
  },
  {
   "cell_type": "code",
   "execution_count": null,
   "metadata": {},
   "outputs": [],
   "source": []
  },
  {
   "cell_type": "code",
   "execution_count": 36,
   "metadata": {},
   "outputs": [
    {
     "data": {
      "text/plain": [
       "((1, 3), (4, 4))"
      ]
     },
     "execution_count": 36,
     "metadata": {},
     "output_type": "execute_result"
    }
   ],
   "source": [
    "x.shape, q.shape"
   ]
  },
  {
   "cell_type": "code",
   "execution_count": 37,
   "metadata": {},
   "outputs": [],
   "source": [
    "x = (np.random.uniform(size=(3000,3))-0.5)*10"
   ]
  },
  {
   "cell_type": "code",
   "execution_count": 38,
   "metadata": {},
   "outputs": [],
   "source": [
    "pts, dists = orthogonal_quadric_projection(x,q, projection_funcs)"
   ]
  },
  {
   "cell_type": "code",
   "execution_count": 39,
   "metadata": {},
   "outputs": [],
   "source": [
    "#pts, dists = orthogonal_quadric_projection2(x,q, projection_funcs)"
   ]
  },
  {
   "cell_type": "code",
   "execution_count": 40,
   "metadata": {},
   "outputs": [],
   "source": [
    "check_pts, check_dists = orthogonal_quadric_projection(np.array(pts),q, projection_funcs)"
   ]
  },
  {
   "cell_type": "code",
   "execution_count": 41,
   "metadata": {},
   "outputs": [
    {
     "data": {
      "text/plain": [
       "array([3.34677074e-27, 3.48152994e-28, 3.80576124e-29, ...,\n",
       "       8.81175093e-26, 2.18590455e-26, 1.62574557e-32])"
      ]
     },
     "execution_count": 41,
     "metadata": {},
     "output_type": "execute_result"
    }
   ],
   "source": [
    "check_dists"
   ]
  },
  {
   "cell_type": "code",
   "execution_count": 42,
   "metadata": {},
   "outputs": [
    {
     "name": "stdout",
     "output_type": "stream",
     "text": [
      "30.477722498455293\n"
     ]
    }
   ],
   "source": [
    "print(np.max(check_dists))"
   ]
  },
  {
   "cell_type": "code",
   "execution_count": 43,
   "metadata": {},
   "outputs": [
    {
     "name": "stdout",
     "output_type": "stream",
     "text": [
      "(3000, 3) (3000,)\n"
     ]
    }
   ],
   "source": [
    "print(pts.shape, dists.shape)"
   ]
  },
  {
   "cell_type": "code",
   "execution_count": 44,
   "metadata": {},
   "outputs": [],
   "source": []
  },
  {
   "cell_type": "code",
   "execution_count": 45,
   "metadata": {},
   "outputs": [],
   "source": [
    "pth = os.path.join(project_dir, \"quadric_test.png\")\n",
    "\n",
    "data_avg = np.average(pts, axis=0)\n",
    "data_std = np.std(pts, axis=0)\n",
    "figure = mayavi.mlab.figure(figure=None, bgcolor=(1,1,1), fgcolor=(0,0,0), engine=None, size=(1000, 1000))\n",
    "#data_nodes = plt_data(figure, x[np.random.choice(np.arange(x.shape[0]), size=40, replace=False)], data_std)\n",
    "vecs = pts-x\n",
    "#mayavi.mlab.quiver3d(x[:,0], x[:,1], x[:,2], vecs[:,0], vecs[:,1], vecs[:,2])\n",
    "quadric_nodes = plt_grid(figure, pts, data_avg, data_std)\n",
    "#ellipse_axes = plt_data(figure, np.diag(np.sqrt(1/np.diag(init_q[:3,:3])))@u, data_std*10)\n",
    "\n",
    "normalize_view(figure, data_avg, data_std)\n",
    "mayavi.mlab.savefig(pth, magnification=2)\n",
    "mayavi.mlab.close(figure)"
   ]
  },
  {
   "cell_type": "code",
   "execution_count": 46,
   "metadata": {},
   "outputs": [],
   "source": [
    "def imshow(pth, cv2color=cv2.IMREAD_COLOR, **kwargs):\n",
    "    img = cv2.imread(pth, cv2color)\n",
    "    img = trim_whiteborder(img)\n",
    "    plt.imshow(img, **kwargs)\n",
    "    plt.axis(\"off\")\n",
    "\n",
    "def trim_whiteborder(img, ratio=1.1):\n",
    "    img = cv2.bitwise_not(img)\n",
    "    im_sq = img**2\n",
    "    sum_sq_cols = np.sum(im_sq, axis=0)\n",
    "    sum_sq_rows = np.sum(im_sq, axis=1)\n",
    "    if len(img.shape) > 2:\n",
    "        sum_sq_cols = np.sum(sum_sq_cols, axis=1)\n",
    "        sum_sq_rows = np.sum(sum_sq_rows, axis=1)\n",
    "    first_nonzero_col = (sum_sq_cols!=0).argmax()\n",
    "    last_nonzero_col = sum_sq_cols.shape[0] - (sum_sq_cols[::-1]!=0).argmax()\n",
    "    first_nonzero_row = (sum_sq_rows!=0).argmax()\n",
    "    last_nonzero_row = sum_sq_rows.shape[0] - (sum_sq_rows[::-1]!=0).argmax()\n",
    "    totally_trimmed = img[first_nonzero_row:last_nonzero_row, first_nonzero_col:last_nonzero_col]\n",
    "    if len(img.shape) == 2:\n",
    "        just_a_little_whitespace = np.zeros((\n",
    "            int(totally_trimmed.shape[0]*ratio), \n",
    "            int(totally_trimmed.shape[1]*ratio)\n",
    "        ), dtype=np.uint8)\n",
    "    else:\n",
    "        just_a_little_whitespace = np.zeros((\n",
    "            int(totally_trimmed.shape[0]*ratio), \n",
    "            int(totally_trimmed.shape[1]*ratio),\n",
    "            img.shape[2]\n",
    "        ), dtype=np.uint8)\n",
    "    jalw_middle_section_start = ((np.array(just_a_little_whitespace.shape) - np.array(totally_trimmed.shape))/2).astype(int)\n",
    "    just_a_little_whitespace[\n",
    "        jalw_middle_section_start[0]:jalw_middle_section_start[0] + totally_trimmed.shape[0],\n",
    "        jalw_middle_section_start[1]:jalw_middle_section_start[1] + totally_trimmed.shape[1]\n",
    "    ] = totally_trimmed\n",
    "    #return just_a_little_whitespace\n",
    "    return cv2.bitwise_not(just_a_little_whitespace)\n",
    "        "
   ]
  },
  {
   "cell_type": "code",
   "execution_count": null,
   "metadata": {},
   "outputs": [],
   "source": []
  },
  {
   "cell_type": "code",
   "execution_count": null,
   "metadata": {},
   "outputs": [],
   "source": []
  },
  {
   "cell_type": "code",
   "execution_count": 47,
   "metadata": {},
   "outputs": [
    {
     "name": "stdout",
     "output_type": "stream",
     "text": [
      "(2000, 2000, 3)\n",
      "(2000,) (2000,)\n",
      "126 1674 407 1884\n"
     ]
    },
    {
     "data": {
      "image/png": "[encoded data removed]",
      "text/plain": [
       "<matplotlib.figure.Figure at 0x7f82d895dc50>"
      ]
     },
     "metadata": {
      "needs_background": "light"
     },
     "output_type": "display_data"
    }
   ],
   "source": [
    "blah = imshow(pth)"
   ]
  },
  {
   "cell_type": "code",
   "execution_count": null,
   "metadata": {},
   "outputs": [],
   "source": []
  },
  {
   "cell_type": "code",
   "execution_count": 50,
   "metadata": {},
   "outputs": [],
   "source": [
    "def weighted_avg_and_std(values, weights=None, axis=None):\n",
    "    \"\"\"\n",
    "    Return the weighted average and standard deviation.\n",
    "\n",
    "    values, weights -- Numpy ndarrays with the same shape.\n",
    "    \"\"\"\n",
    "    if weights is None:\n",
    "        return np.average(values, axis=axis), np.std(values, axis=axis)\n",
    "    average = np.average(values, weights=weights, axis=axis)\n",
    "    # Fast and numerically precise:\n",
    "    variance = np.average((values-average)**2, weights=weights, axis=axis)\n",
    "    return (average, np.sqrt(variance))"
   ]
  },
  {
   "cell_type": "code",
   "execution_count": 137,
   "metadata": {},
   "outputs": [],
   "source": [
    "import scipy.optimize\n",
    "import sklearn.utils\n",
    "import sklearn.base\n",
    "\n",
    "class QuadricModel(sklearn.base.RegressorMixin):\n",
    "    def __init__(self):\n",
    "        pass\n",
    "    def get_params(self, *args, **kwargs):\n",
    "        return dict()\n",
    "    def set_params(self, params, *args, **kwargs):\n",
    "        pass\n",
    "\n",
    "    \n",
    "    def _optimizer_logger(self, xk, *args):\n",
    "        logging.info(\"quadric modeling: it{}, xk{}\".format(self.i, xk))\n",
    "        self.i += 1      \n",
    "            \n",
    "    def fit(self, X, y=None, sample_weight=None, beta0=None):\n",
    "        logging.info(\"fitting quadric model\")\n",
    "        X = sklearn.utils.check_array(X)\n",
    "        if beta0 is None:\n",
    "            #this allows us to orient the data to set an initial set of parameters\n",
    "            global_linear_model = local_models.TLS_models.LinearODR_mD(2)\n",
    "            global_linear_model.fit(X, sample_weight=sample_weight)\n",
    "            global_linear_vecs = global_linear_model.cov_eigenvectors[global_linear_model.cov_eigenvalues_sorter]\n",
    "            global_linear_mean = global_linear_model.intercept_\n",
    "\n",
    "            transformed_X = (X-global_linear_mean)@global_linear_vecs.T\n",
    "\n",
    "            transformed_q = np.zeros((4,4))\n",
    "            \n",
    "            # an elliptic paraboloid pointing in the smallest eigenvector direction\n",
    "            '''\n",
    "            transformed_q[0,0] = 1/weighted_avg_and_std(transformed_X[0], weights=None)[1]**2 #flat-ish in x\n",
    "            transformed_q[1,1] = 1/weighted_avg_and_std(transformed_X[1], weights=None)[1]**2 #flat-ish in y\n",
    "            transformed_q[2,3] = transformed_q[3,2] = -1 # elliptic paraboloid pointing in z direction\n",
    "            '''\n",
    "            \n",
    "            # an ellipse with axes in the various directions\n",
    "            transformed_q[np.diag_indices(3)] = 1/global_linear_model.cov_eigenvalues[global_linear_model.cov_eigenvalues_sorter]**2\n",
    "            transformed_q[3,3] = -1\n",
    "            #print(np.diag(transformed_q), weighted_avg_and_std(transformed_X, weights = sample_weight, axis=0)[1])\n",
    "            \n",
    "            #print(transformed_q)\n",
    "            #print(global_linear_mean)\n",
    "            E = np.block([[global_linear_vecs, global_linear_mean.reshape(-1,1)],[np.zeros(3),1]])\n",
    "            Einv = np.linalg.inv(E)\n",
    "            q = Einv.T@transformed_q@Einv\n",
    "            print(q)\n",
    "            beta0 = q[np.triu_indices(4)]\n",
    "        \n",
    "        beta0 /= beta0[-1]\n",
    "        \n",
    "        self.i = 0\n",
    "        self.solution = scipy.optimize.minimize(self._loss, beta0[:-1], args=(X, sample_weight), callback=self._optimizer_logger)#, method = 'Nelder-Mead')\n",
    "        self.coef_ = self.solution.x\n",
    "        self.intercept_ = np.array([])\n",
    "        return self\n",
    "            \n",
    "    def _loss(self, beta, X, sample_weight=None):\n",
    "        q = np.zeros((4,4))\n",
    "        beta = np.concatenate((beta, [1]))\n",
    "        q[np.triu_indices(4)] = beta\n",
    "        q[3,3] = 1\n",
    "        q += q.T\n",
    "        q[np.diag_indices(4)] /= 2\n",
    "        pts, dists = orthogonal_quadric_projection(X,q,projection_funcs)\n",
    "\n",
    "        #pts, jac, dists = orthogonal_quadric_projection_with_jacobian(X,q,projection_funcs)\n",
    "        \n",
    "        if sample_weight is not None:\n",
    "            dists *= sample_weight\n",
    "        lost = np.sum(dists)\n",
    "        #total_jac = np.einsum('ki,kij->ij', (X - pts), jac)\n",
    "        #if lost > 20:\n",
    "        #    print(q)\n",
    "        #print(lost)\n",
    "        return lost#, total_jac"
   ]
  },
  {
   "cell_type": "code",
   "execution_count": null,
   "metadata": {},
   "outputs": [],
   "source": []
  },
  {
   "cell_type": "code",
   "execution_count": null,
   "metadata": {},
   "outputs": [
    {
     "name": "stdout",
     "output_type": "stream",
     "text": [
      "[[ 0.27681249  0.04017082  0.17097849 -0.4425093 ]\n",
      " [ 0.04017082  0.06775505  0.04492783 -0.03859162]\n",
      " [ 0.17097849  0.04492783  0.17887278 -0.3294389 ]\n",
      " [-0.4425093  -0.03859162 -0.3294389  -0.21978061]]\n"
     ]
    }
   ],
   "source": [
    "qm = QuadricModel()\n",
    "qm.fit(pts)#, beta0=q[np.triu_indices(4)]+0.001)"
   ]
  },
  {
   "cell_type": "code",
   "execution_count": 3982,
   "metadata": {},
   "outputs": [
    {
     "data": {
      "text/plain": [
       "      fun: 1.6549110924078896\n",
       " hess_inv: array([[ 4.62085809e+10,  4.95199660e+10, -2.89563950e+10,\n",
       "        -1.60618353e+11,  1.01727748e+11,  2.12873965e+10,\n",
       "         1.08951819e+11,  3.88933132e+10, -1.45872819e+11],\n",
       "       [ 4.95199654e+10,  5.30686500e+10, -3.10314590e+10,\n",
       "        -1.72128534e+11,  1.09017729e+11,  2.28128871e+10,\n",
       "         1.16759490e+11,  4.16804734e+10, -1.56326310e+11],\n",
       "       [-2.89563947e+10, -3.10314590e+10,  1.81453918e+10,\n",
       "         1.00650752e+11, -6.37472252e+10, -1.33396491e+10,\n",
       "        -6.82741564e+10, -2.43723158e+10,  9.14105312e+10],\n",
       "       [-1.60618352e+11, -1.72128535e+11,  1.00650753e+11,\n",
       "         5.58300095e+11, -3.53599761e+11, -7.39937577e+10,\n",
       "        -3.78710215e+11, -1.35190905e+11,  5.07045473e+11],\n",
       "       [ 1.01727745e+11,  1.09017728e+11, -6.37472246e+10,\n",
       "        -3.53599757e+11,  2.23952656e+11,  4.68639983e+10,\n",
       "         2.39856380e+11,  8.56232542e+10, -3.21137605e+11],\n",
       "       [ 2.12873960e+10,  2.28128869e+10, -1.33396490e+10,\n",
       "        -7.39937567e+10,  4.68639982e+10,  9.80669026e+09,\n",
       "         5.01919877e+10,  1.79173942e+10, -6.72007755e+10],\n",
       "       [ 1.08951816e+11,  1.16759488e+11, -6.82741554e+10,\n",
       "        -3.78710208e+11,  2.39856379e+11,  5.01919875e+10,\n",
       "         2.56889486e+11,  9.17036843e+10, -3.43942797e+11],\n",
       "       [ 3.88933130e+10,  4.16804736e+10, -2.43723160e+10,\n",
       "        -1.35190905e+11,  8.56232555e+10,  1.79173945e+10,\n",
       "         9.17036861e+10,  3.27361233e+10, -1.22779733e+11],\n",
       "       [-1.45872816e+11, -1.56326309e+11,  9.14105303e+10,\n",
       "         5.07045466e+11, -3.21137605e+11, -6.72007755e+10,\n",
       "        -3.43942799e+11, -1.22779731e+11,  4.60496264e+11]])\n",
       "      jac: array([-0.00018266,  0.0007423 ,  0.00088313, -0.00044671,  0.00014985,\n",
       "       -0.00081003, -0.00018746,  0.00035554,  0.00045177])\n",
       "  message: 'Desired error not necessarily achieved due to precision loss.'\n",
       "     nfev: 1695\n",
       "      nit: 71\n",
       "     njev: 153\n",
       "   status: 2\n",
       "  success: False\n",
       "        x: array([-14346.90291295, -15375.35452347,   8990.6931421 ,  49869.12471544,\n",
       "       -31585.03583959,  -6609.54440227, -33827.87634286, -12075.69418345,\n",
       "        45290.97807574])"
      ]
     },
     "execution_count": 3982,
     "metadata": {},
     "output_type": "execute_result"
    }
   ],
   "source": [
    "qm.solution"
   ]
  },
  {
   "cell_type": "code",
   "execution_count": 3983,
   "metadata": {},
   "outputs": [
    {
     "data": {
      "text/plain": [
       "array([[-1.4346903e+04, -1.5375355e+04,  8.9906930e+03,  4.9869125e+04],\n",
       "       [-1.5375355e+04, -3.1585036e+04, -6.6095440e+03, -3.3827876e+04],\n",
       "       [ 8.9906930e+03, -6.6095440e+03, -1.2075694e+04,  4.5290978e+04],\n",
       "       [ 4.9869125e+04, -3.3827876e+04,  4.5290978e+04,  1.0000000e+00]])"
      ]
     },
     "execution_count": 3983,
     "metadata": {},
     "output_type": "execute_result"
    }
   ],
   "source": [
    "qq = np.zeros((4,4))\n",
    "qq[np.triu_indices(4)] = np.concatenate((qm.coef_, [1]))\n",
    "qq += qq.T\n",
    "qq[np.diag_indices(4)] /= 2\n",
    "np.round(qq,3)"
   ]
  },
  {
   "cell_type": "code",
   "execution_count": 3984,
   "metadata": {},
   "outputs": [
    {
     "data": {
      "text/plain": [
       "array([[ 0.19991037,  0.1817657 , -0.09489533, -0.67572345],\n",
       "       [ 0.1817657 ,  0.38892396,  0.07487268,  0.43093912],\n",
       "       [-0.09489533,  0.07487268,  0.16116567, -0.59807132],\n",
       "       [-0.67572345,  0.43093912, -0.59807132,  0.1       ]])"
      ]
     },
     "execution_count": 3984,
     "metadata": {},
     "output_type": "execute_result"
    }
   ],
   "source": [
    "q"
   ]
  },
  {
   "cell_type": "raw",
   "metadata": {},
   "source": [
    "qq = np.array(\n",
    "[[ 0.98928691, -0.42390962, -0.20757044, -0.35397327],\n",
    " [-0.42390962,  0.24742997,  0.33970501, -0.9004247 ],\n",
    " [-0.20757044,  0.33970501,  0.99941526,  0.25388832],\n",
    " [-0.35397327, -0.9004247 ,  0.25388832, -0.02455888]]\n",
    ")"
   ]
  },
  {
   "cell_type": "raw",
   "metadata": {},
   "source": [
    "qq = np.array(\n",
    "[[ 0.56025787,  0.64822194,  0.0094628 ,  0.00872895],\n",
    " [ 0.64822194,  1.92161331, -0.4789617 ,  0.02687668],\n",
    " [ 0.0094628 , -0.4789617 ,  0.47708798, -0.00464847],\n",
    " [ 0.00872895,  0.02687668, -0.00464847, -0.99960565]]\n",
    "\n",
    " )"
   ]
  },
  {
   "cell_type": "code",
   "execution_count": 3985,
   "metadata": {},
   "outputs": [
    {
     "data": {
      "text/plain": [
       "array([[ 0.19991037,  0.1817657 , -0.09489533, -0.67572345],\n",
       "       [ 0.1817657 ,  0.38892396,  0.07487268,  0.43093912],\n",
       "       [-0.09489533,  0.07487268,  0.16116567, -0.59807132],\n",
       "       [-0.67572345,  0.43093912, -0.59807132,  0.1       ]])"
      ]
     },
     "execution_count": 3985,
     "metadata": {},
     "output_type": "execute_result"
    }
   ],
   "source": [
    "q"
   ]
  },
  {
   "cell_type": "code",
   "execution_count": 3986,
   "metadata": {},
   "outputs": [
    {
     "data": {
      "text/plain": [
       "(4, 4)"
      ]
     },
     "execution_count": 3986,
     "metadata": {},
     "output_type": "execute_result"
    }
   ],
   "source": [
    "qq.shape"
   ]
  },
  {
   "cell_type": "code",
   "execution_count": 3987,
   "metadata": {},
   "outputs": [
    {
     "data": {
      "text/plain": [
       "(4, 4)"
      ]
     },
     "execution_count": 3987,
     "metadata": {},
     "output_type": "execute_result"
    }
   ],
   "source": [
    "q.shape"
   ]
  },
  {
   "cell_type": "code",
   "execution_count": 3988,
   "metadata": {},
   "outputs": [
    {
     "data": {
      "text/plain": [
       "array([[ 0.36155235,  1.23129588,  1.85642789],\n",
       "       [-0.13218691,  0.97221512,  4.26794374],\n",
       "       [ 0.7647154 , -6.10832972,  4.31310786],\n",
       "       ...,\n",
       "       [ 2.83708582, -4.24921199, -1.22549308],\n",
       "       [ 2.57444886,  0.44583598, -0.68037878],\n",
       "       [ 3.07029248,  0.91037167, -0.02536896]])"
      ]
     },
     "execution_count": 3988,
     "metadata": {},
     "output_type": "execute_result"
    }
   ],
   "source": [
    "np.array(pts)"
   ]
  },
  {
   "cell_type": "code",
   "execution_count": 3991,
   "metadata": {},
   "outputs": [],
   "source": [
    "qfit_pth = os.path.join(project_dir, \"qfit_test.png\")\n",
    "qfit_pts, qfit_dists = orthogonal_quadric_projection(x,qq,projection_funcs)\n",
    "\n",
    "data_avg = np.average(qfit_pts, axis=0)\n",
    "data_std = np.std(qfit_pts, axis=0)\n",
    "figure = mayavi.mlab.figure(figure=None, bgcolor=(1,1,1), fgcolor=(0,0,0), engine=None, size=(1000, 1000))\n",
    "#data_nodes = plt_data(figure, x[np.random.choice(np.arange(x.shape[0]), size=40, replace=False)], data_std)\n",
    "vecs = qfit_pts-pts\n",
    "#mayavi.mlab.quiver3d(x[:,0], x[:,1], x[:,2], vecs[:,0], vecs[:,1], vecs[:,2])\n",
    "quadric_nodes = plt_grid(figure, qfit_pts, data_avg, data_std)\n",
    "#other_nodes = plt_grid(figure, pts, data_avg, data_std)\n",
    "\n",
    "normalize_view(figure, data_avg, data_std)\n",
    "mayavi.mlab.savefig(qfit_pth, magnification=2)\n",
    "mayavi.mlab.close(figure)\n"
   ]
  },
  {
   "cell_type": "code",
   "execution_count": 3992,
   "metadata": {},
   "outputs": [
    {
     "name": "stdout",
     "output_type": "stream",
     "text": [
      "(2000, 2000, 3)\n",
      "(2000,) (2000,)\n",
      "639 1678 541 2000\n"
     ]
    },
    {
     "data": {
      "image/png": "[encoded data removed]",
      "text/plain": [
       "<matplotlib.figure.Figure at 0x7f38e98144a8>"
      ]
     },
     "metadata": {
      "needs_background": "light"
     },
     "output_type": "display_data"
    }
   ],
   "source": [
    "imshow(qfit_pth)"
   ]
  },
  {
   "cell_type": "code",
   "execution_count": null,
   "metadata": {},
   "outputs": [],
   "source": []
  },
  {
   "cell_type": "code",
   "execution_count": null,
   "metadata": {},
   "outputs": [],
   "source": [
    "local_quadrics = local_models.local_models.LocalModels(QuadricModel())\n",
    "local_quadrics.fit(pts)"
   ]
  },
  {
   "cell_type": "code",
   "execution_count": null,
   "metadata": {},
   "outputs": [],
   "source": [
    "avg_pt_dist = np.average(local_quadrics.index.query(pts, k=2)[0][:,1])"
   ]
  },
  {
   "cell_type": "code",
   "execution_count": null,
   "metadata": {},
   "outputs": [],
   "source": [
    "bandwidth = avg_pt_dist*8\n",
    "lm_kernel = local_models.local_models.TriCubeKernel(bandwidth=bandwidth)"
   ]
  },
  {
   "cell_type": "code",
   "execution_count": null,
   "metadata": {},
   "outputs": [],
   "source": [
    "fitted_local_quadrics, local_quadric_params = local_quadrics.transform(pts,\n",
    "    r=lm_kernel.support_radius()-1, weighted=True, kernel=lm_kernel,\n",
    "    neighbor_beta0s=False, batch_size=int(data.shape[0]/32), return_models=True)"
   ]
  },
  {
   "cell_type": "code",
   "execution_count": 3981,
   "metadata": {},
   "outputs": [
    {
     "ename": "NameError",
     "evalue": "name 'fitted_local_quadrics' is not defined",
     "output_type": "error",
     "traceback": [
      "\u001b[0;31m---------------------------------------------------------------------------\u001b[0m",
      "\u001b[0;31mNameError\u001b[0m                                 Traceback (most recent call last)",
      "\u001b[0;32m<ipython-input-3981-acd9b191f59e>\u001b[0m in \u001b[0;36m<module>\u001b[0;34m\u001b[0m\n\u001b[0;32m----> 1\u001b[0;31m \u001b[0mfitted_local_quadrics\u001b[0m\u001b[0;34m\u001b[0m\u001b[0m\n\u001b[0m",
      "\u001b[0;31mNameError\u001b[0m: name 'fitted_local_quadrics' is not defined"
     ]
    }
   ],
   "source": []
  },
  {
   "cell_type": "code",
   "execution_count": null,
   "metadata": {},
   "outputs": [],
   "source": []
  },
  {
   "cell_type": "code",
   "execution_count": null,
   "metadata": {},
   "outputs": [],
   "source": []
  },
  {
   "cell_type": "code",
   "execution_count": null,
   "metadata": {},
   "outputs": [],
   "source": []
  },
  {
   "cell_type": "code",
   "execution_count": 60,
   "metadata": {},
   "outputs": [
    {
     "data": {
      "text/plain": [
       "<local_models.local_models.LocalModels at 0x7f39c68a8438>"
      ]
     },
     "execution_count": 60,
     "metadata": {},
     "output_type": "execute_result"
    }
   ],
   "source": [
    "linear_models = local_models.local_models.LocalModels(local_models.TLS_models.LinearODR_mD(2))\n",
    "linear_models.fit(data)"
   ]
  },
  {
   "cell_type": "code",
   "execution_count": 61,
   "metadata": {},
   "outputs": [],
   "source": [
    "avg_pt_dist = np.average(linear_models.index.query(data, k=2)[0][:,1])"
   ]
  },
  {
   "cell_type": "code",
   "execution_count": 62,
   "metadata": {},
   "outputs": [
    {
     "data": {
      "text/plain": [
       "1.2836044940342985"
      ]
     },
     "execution_count": 62,
     "metadata": {},
     "output_type": "execute_result"
    }
   ],
   "source": [
    "avg_pt_dist"
   ]
  },
  {
   "cell_type": "code",
   "execution_count": 63,
   "metadata": {},
   "outputs": [],
   "source": [
    "random_data_subset = data[np.random.randint(data.shape[0], size=50)]"
   ]
  },
  {
   "cell_type": "code",
   "execution_count": 64,
   "metadata": {},
   "outputs": [],
   "source": [
    "queried = linear_models.index.query_radius(random_data_subset, r=avg_pt_dist*10)"
   ]
  },
  {
   "cell_type": "code",
   "execution_count": 65,
   "metadata": {},
   "outputs": [
    {
     "data": {
      "text/plain": [
       "[(289,),\n",
       " (315,),\n",
       " (283,),\n",
       " (386,),\n",
       " (209,),\n",
       " (106,),\n",
       " (375,),\n",
       " (321,),\n",
       " (405,),\n",
       " (372,),\n",
       " (341,),\n",
       " (352,),\n",
       " (376,),\n",
       " (308,),\n",
       " (249,),\n",
       " (347,),\n",
       " (245,),\n",
       " (380,),\n",
       " (378,),\n",
       " (414,),\n",
       " (419,),\n",
       " (106,),\n",
       " (345,),\n",
       " (320,),\n",
       " (444,),\n",
       " (282,),\n",
       " (208,),\n",
       " (371,),\n",
       " (368,),\n",
       " (423,),\n",
       " (307,),\n",
       " (435,),\n",
       " (374,),\n",
       " (324,),\n",
       " (271,),\n",
       " (147,),\n",
       " (150,),\n",
       " (147,),\n",
       " (397,),\n",
       " (318,),\n",
       " (407,),\n",
       " (200,),\n",
       " (239,),\n",
       " (403,),\n",
       " (401,),\n",
       " (316,),\n",
       " (353,),\n",
       " (321,),\n",
       " (261,),\n",
       " (289,)]"
      ]
     },
     "execution_count": 65,
     "metadata": {},
     "output_type": "execute_result"
    }
   ],
   "source": [
    "list(map(lambda x: x.shape, queried))"
   ]
  },
  {
   "cell_type": "code",
   "execution_count": 66,
   "metadata": {},
   "outputs": [],
   "source": [
    "kernel = local_models.local_models.TriCubeKernel(bandwidth=avg_pt_dist*10)"
   ]
  },
  {
   "cell_type": "code",
   "execution_count": 67,
   "metadata": {},
   "outputs": [],
   "source": [
    "linear_params_vecs, linear_params_mean = local_models.linear_projections.transformate_data(data, kernel, linear_models, r=kernel.support_radius())"
   ]
  },
  {
   "cell_type": "code",
   "execution_count": 68,
   "metadata": {},
   "outputs": [
    {
     "data": {
      "text/plain": [
       "(58659, 2, 3)"
      ]
     },
     "execution_count": 68,
     "metadata": {},
     "output_type": "execute_result"
    }
   ],
   "source": [
    "linear_params_vecs.shape"
   ]
  },
  {
   "cell_type": "code",
   "execution_count": 103,
   "metadata": {},
   "outputs": [],
   "source": [
    "def imshow(pth, cv2color=cv2.IMREAD_COLOR, **kwargs):\n",
    "    img = cv2.imread(pth, cv2color)\n",
    "    plt.imshow(img, **kwargs)"
   ]
  },
  {
   "cell_type": "code",
   "execution_count": 83,
   "metadata": {},
   "outputs": [],
   "source": [
    "N = int(data.shape[0]/10)\n",
    "sample_indices = np.random.choice(np.arange(data.shape[0]), size=N)\n",
    "\n",
    "pth = os.path.join(project_dir, \"single_convergence.png\")\n",
    "data_avg = np.average(data, axis=0)\n",
    "data_std = np.std(data, axis=0)\n",
    "figure = mayavi.mlab.figure(figure=None, bgcolor=(1,1,1), fgcolor=(0,0,0), engine=None, size=(1000, 500))\n",
    "data_nodes = plt_data(figure, linear_params_mean[sample_indices], data_std)\n",
    "normals = np.cross(*np.rollaxis(linear_params_vecs[sample_indices],1))\n",
    "#normal_vecs = plt_normals(figure, normals, linear_params_mean[sample_indices], data_std)\n",
    "#neg_normal_vecs = plt_normals(figure, -normals, linear_params_mean[sample_indices], data_std)\n",
    "normalize_view(figure, data_avg, data_std, azimuth=40, elevation=80)\n",
    "mayavi.mlab.savefig(pth, magnification=2)\n",
    "mayavi.mlab.close(figure)"
   ]
  },
  {
   "cell_type": "code",
   "execution_count": 105,
   "metadata": {},
   "outputs": [
    {
     "data": {
      "text/plain": [
       "(-0.5, 1999.5, 999.5, -0.5)"
      ]
     },
     "execution_count": 105,
     "metadata": {},
     "output_type": "execute_result"
    },
    {
     "data": {
      "image/png": "[encoded data removed]",
      "text/plain": [
       "<matplotlib.figure.Figure at 0x7f39909159e8>"
      ]
     },
     "metadata": {
      "needs_background": "light"
     },
     "output_type": "display_data"
    }
   ],
   "source": [
    "imshow(pth)\n",
    "plt.axis(\"off\")"
   ]
  },
  {
   "cell_type": "code",
   "execution_count": 84,
   "metadata": {},
   "outputs": [
    {
     "data": {
      "text/plain": [
       "<local_models.TLS_models.LinearODR_mD at 0x7f399aae8240>"
      ]
     },
     "execution_count": 84,
     "metadata": {},
     "output_type": "execute_result"
    }
   ],
   "source": [
    "global_linear_model = local_models.TLS_models.LinearODR_mD(2)\n",
    "global_linear_model.fit(data)"
   ]
  },
  {
   "cell_type": "code",
   "execution_count": 87,
   "metadata": {},
   "outputs": [],
   "source": [
    "global_linear_model.coef_\n",
    "global_params_vecs = global_linear_model.coef_.reshape(2,-1)\n",
    "global_params_mean = global_linear_model.intercept_\n",
    "global_normal = np.cross(*global_params_vecs)"
   ]
  },
  {
   "cell_type": "code",
   "execution_count": 94,
   "metadata": {},
   "outputs": [],
   "source": [
    "basis_changer = np.concatenate((global_params_vecs, global_normal.reshape(1,-1)),axis=0).T\n",
    "basis_changer = np.linalg.inv(basis_changer)"
   ]
  },
  {
   "cell_type": "code",
   "execution_count": 95,
   "metadata": {},
   "outputs": [],
   "source": [
    "bases_changed = np.einsum('ij,kj->ki', basis_changer, data-global_params_mean)"
   ]
  },
  {
   "cell_type": "code",
   "execution_count": 98,
   "metadata": {},
   "outputs": [],
   "source": [
    "x,y,z = bases_changed.T"
   ]
  },
  {
   "cell_type": "code",
   "execution_count": 106,
   "metadata": {},
   "outputs": [
    {
     "data": {
      "text/plain": [
       "(-187.9690848273605,\n",
       " 160.5978956286218,\n",
       " -131.18478754473625,\n",
       " 174.82998666860883)"
      ]
     },
     "execution_count": 106,
     "metadata": {},
     "output_type": "execute_result"
    },
    {
     "data": {
      "image/png": "[encoded data removed]",
      "text/plain": [
       "<matplotlib.figure.Figure at 0x7f39907c0f98>"
      ]
     },
     "metadata": {
      "needs_background": "light"
     },
     "output_type": "display_data"
    }
   ],
   "source": [
    "plt.scatter(x,y,c=z)\n",
    "plt.axis(\"off\")"
   ]
  }
 ],
 "metadata": {
  "kernelspec": {
   "display_name": "Python 3",
   "language": "python",
   "name": "python3"
  },
  "language_info": {
   "codemirror_mode": {
    "name": "ipython",
    "version": 3
   },
   "file_extension": ".py",
   "mimetype": "text/x-python",
   "name": "python",
   "nbconvert_exporter": "python",
   "pygments_lexer": "ipython3",
   "version": "3.6.9"
  }
 },
 "nbformat": 4,
 "nbformat_minor": 2
}
