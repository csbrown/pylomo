{
 "cells": [
  {
   "cell_type": "code",
   "execution_count": 28,
   "metadata": {},
   "outputs": [],
   "source": [
    "import local_models.local_models\n",
    "import local_models.algorithms\n",
    "import local_models.utils\n",
    "import local_models.linear_projections\n",
    "import local_models.loggin\n",
    "import local_models.TLS_models\n",
    "import numpy as np\n",
    "import matplotlib.pyplot as plt\n",
    "import sklearn.linear_model\n",
    "import sklearn.cluster\n",
    "from importlib import reload\n",
    "from ml_battery.utils import cmap\n",
    "import matplotlib as mpl\n",
    "import sklearn.datasets\n",
    "import sklearn.decomposition\n",
    "import logging\n",
    "import ml_battery.log\n",
    "import time\n",
    "import os\n",
    "import mayavi\n",
    "import mayavi.mlab\n",
    "import string\n",
    "import subprocess\n",
    "import functools\n",
    "#on headless systems, tmux: \"Xvfb :1 -screen 0 1280x1024x24 -auth localhost\", then \"export DISPLAY=:1\" in the jupyter tmux\n",
    "mayavi.mlab.options.offscreen = True\n",
    "\n",
    "\n",
    "\n",
    "logger = logging.getLogger(__name__)\n",
    "\n",
    "#reload(local_models.local_models)\n",
    "#reload(lm)\n",
    "#reload(local_models.loggin)\n",
    "#reload(local_models.TLS_models)\n",
    "np.warnings.filterwarnings('ignore')\n"
   ]
  },
  {
   "cell_type": "code",
   "execution_count": 2,
   "metadata": {},
   "outputs": [],
   "source": [
    "def import_shit():\n",
    "    import local_models.local_models\n",
    "    import local_models.algorithms\n",
    "    import local_models.utils\n",
    "    import local_models.linear_projections\n",
    "    import local_models.loggin\n",
    "    import local_models.TLS_models\n",
    "    import numpy as np\n",
    "    import logging\n",
    "    import string\n",
    "    import ml_battery.log\n",
    "\n",
    "\n",
    "    logger = logging.getLogger(__name__)\n",
    "\n",
    "    #reload(local_models.local_models)\n",
    "    #reload(lm)\n",
    "    #reload(local_models.loggin)\n",
    "    #reload(local_models.TLS_models)\n",
    "    np.warnings.filterwarnings('ignore')\n",
    "    return logger"
   ]
  },
  {
   "cell_type": "code",
   "execution_count": 3,
   "metadata": {},
   "outputs": [],
   "source": [
    "FRESH=True"
   ]
  },
  {
   "cell_type": "code",
   "execution_count": 4,
   "metadata": {},
   "outputs": [],
   "source": [
    "kernel_names = {\n",
    "    local_models.local_models.GaussianKernel: 'gaussian',\n",
    "    local_models.local_models.TriCubeKernel: 'tricube'\n",
    "}"
   ]
  },
  {
   "cell_type": "code",
   "execution_count": 5,
   "metadata": {},
   "outputs": [],
   "source": [
    "mpl.rcParams['figure.figsize'] = [8.0, 8.0]"
   ]
  },
  {
   "cell_type": "code",
   "execution_count": 6,
   "metadata": {},
   "outputs": [],
   "source": [
    "data = np.loadtxt(\"../data/cmu_campus/oakland_part3_an_training.xyz_label_conf\")[:,:3]"
   ]
  },
  {
   "cell_type": "code",
   "execution_count": 7,
   "metadata": {},
   "outputs": [
    {
     "data": {
      "text/plain": [
       "154.57322768137988"
      ]
     },
     "execution_count": 7,
     "metadata": {},
     "output_type": "execute_result"
    }
   ],
   "source": [
    "(data.shape[0]*100)**(1/3)"
   ]
  },
  {
   "cell_type": "code",
   "execution_count": 12,
   "metadata": {},
   "outputs": [],
   "source": [
    "KERNEL=local_models.local_models.GaussianKernel\n",
    "RUN = 5\n",
    "BANDWIDTHS = np.linspace(0.2,14.6,29)\n",
    "\n",
    "project_dir = \"../data/3dscene_filler_{}_{:03d}\".format(kernel_names[KERNEL], RUN)\n",
    "\n",
    "os.makedirs(project_dir, exist_ok=1)"
   ]
  },
  {
   "cell_type": "code",
   "execution_count": 13,
   "metadata": {},
   "outputs": [
    {
     "name": "stdout",
     "output_type": "stream",
     "text": [
      "[-0.51428571 -0.51428571 -0.51428571 -0.51428571 -0.51428571 -0.51428571\n",
      " -0.51428571 -0.51428571 -0.51428571 -0.51428571 -0.51428571 -0.51428571\n",
      " -0.51428571 -0.51428571 -0.51428571 -0.51428571 -0.51428571 -0.51428571\n",
      " -0.51428571 -0.51428571 -0.51428571 -0.51428571 -0.51428571 -0.51428571\n",
      " -0.51428571 -0.51428571 -0.51428571 -0.51428571]\n"
     ]
    }
   ],
   "source": [
    "print(BANDWIDTHS[:-1] - BANDWIDTHS[1:])\n"
   ]
  },
  {
   "cell_type": "code",
   "execution_count": 14,
   "metadata": {},
   "outputs": [],
   "source": [
    "mayavi.mlab.figure(figure=None, bgcolor=(1,1,1), fgcolor=(0,0,0), engine=None, size=(800, 800))\n",
    "#mayavi.mlab.surf(grid[0], grid[1], kde_wireframe/z_scale, colormap='Greys', opacity=1)\n",
    "#nodes = mayavi.mlab.points3d(converged[:,0], converged[:,1], converged[:,2], scale_mode='scalar', color=(1,0,0))\n",
    "#nodes.mlab_source.dataset.point_data.scalars = np.ones(converged.shape[0])*0.1\n",
    "bunodes = mayavi.mlab.points3d(data[:,0], data[:,1], data[:,2], scale_mode='scalar', color=(0,1,0))\n",
    "bunodes.mlab_source.dataset.point_data.scalars = np.ones(data.shape[0])*0.05\n",
    "\n",
    "\n",
    "#mayavi.mlab.axes()\n",
    "\n",
    "#mayavi.mlab.view(views[0][1],views[0][0])\n",
    "data_avg = np.average(data, axis=1)\n",
    "mayavi.mlab.view(azimuth=180, elevation=80, distance=1*np.average(data_avg), focalpoint=(data_avg[0], data_avg[1], data_avg[2]))\n",
    "mayavi.mlab.move(forward=None, right=0.1*data_avg[1], up=-0.02*data_avg[0])\n",
    "title = \"data\"\n",
    "mayavi.mlab.savefig(os.path.join(project_dir, \"{}.png\".format(title)))\n",
    "mayavi.mlab.clf()"
   ]
  },
  {
   "cell_type": "code",
   "execution_count": null,
   "metadata": {},
   "outputs": [],
   "source": []
  },
  {
   "cell_type": "code",
   "execution_count": null,
   "metadata": {},
   "outputs": [],
   "source": []
  },
  {
   "cell_type": "code",
   "execution_count": 15,
   "metadata": {},
   "outputs": [],
   "source": [
    "#visual = pcl.pcl_visualization.CloudViewing()\n",
    "#visual.ShowMonochromeCloud(room)"
   ]
  },
  {
   "cell_type": "code",
   "execution_count": 16,
   "metadata": {},
   "outputs": [
    {
     "data": {
      "text/plain": [
       "<local_models.local_models.LocalModels at 0x7f57586b3c50>"
      ]
     },
     "execution_count": 16,
     "metadata": {},
     "output_type": "execute_result"
    }
   ],
   "source": [
    "linear_models = local_models.local_models.LocalModels(local_models.TLS_models.LinearODR_mD(2))\n",
    "linear_models.fit(data)"
   ]
  },
  {
   "cell_type": "code",
   "execution_count": 17,
   "metadata": {},
   "outputs": [],
   "source": [
    "avg_pt_dist = np.average(linear_models.index.query(data, k=2)[0][:,1])"
   ]
  },
  {
   "cell_type": "code",
   "execution_count": 18,
   "metadata": {},
   "outputs": [
    {
     "data": {
      "text/plain": [
       "0.13714420516231735"
      ]
     },
     "execution_count": 18,
     "metadata": {},
     "output_type": "execute_result"
    }
   ],
   "source": [
    "avg_pt_dist"
   ]
  },
  {
   "cell_type": "code",
   "execution_count": 19,
   "metadata": {
    "scrolled": true
   },
   "outputs": [],
   "source": [
    "range_pct = 0.2\n",
    "grid_steps = 50\n",
    "data_mins, data_maxes, data_ranges = local_models.linear_projections.min_max_range(data)\n",
    "graph_bounds = local_models.linear_projections.sane_graph_bounds(data_mins, data_maxes, data_ranges, range_pct)\n",
    "\n",
    "grid = local_models.utils.get_global_grid(data, outside_range_pct=range_pct, n_steps=grid_steps)\n",
    "gridder = local_models.utils.Grid2Vec()\n",
    "grid = gridder.fit_transform(grid)"
   ]
  },
  {
   "cell_type": "code",
   "execution_count": 20,
   "metadata": {},
   "outputs": [],
   "source": [
    "pth = os.path.join(project_dir, \"filler\")\n",
    "os.makedirs(pth, exist_ok=1)"
   ]
  },
  {
   "cell_type": "code",
   "execution_count": 21,
   "metadata": {},
   "outputs": [],
   "source": [
    "def converge_n_save(bandwidth, i, data, pth):\n",
    "    logger = import_shit()\n",
    "    logger.info(\"stuff!\")\n",
    "    for converged in local_models.algorithms.local_tls_shift_till_convergence(linear_models, data, tol=1e-8,\n",
    "                                         kernel=KERNEL(bandwidth),\n",
    "                                         report=False):\n",
    "        pass\n",
    "    logger.info(\"batch {:05d} complete\".format(i))\n",
    "    save_dat(i, pth, converged)\n",
    "\n",
    "def save_dat(i, pth, dat):\n",
    "    np.savetxt(os.path.join(pth, \"converged{:08d}.dat\".format(i)), dat)\n",
    "\n",
    "def converge_n_return(bandwidth, i, data):\n",
    "    logger = import_shit()\n",
    "    logger.info(\"stuff!\")\n",
    "    for converged in local_models.algorithms.local_tls_shift_till_convergence(linear_models, data, tol=1e-8,\n",
    "                                         kernel=KERNEL(bandwidth),\n",
    "                                         report=False):\n",
    "        pass\n",
    "    logger.info(\"batch {:05d} complete\".format(i))\n",
    "    return converged\n",
    "\n",
    "def batcher(data, size):\n",
    "    for i in range(0, data.shape[0], size):\n",
    "        batch = data[i:i+size]\n",
    "        yield batch"
   ]
  },
  {
   "cell_type": "code",
   "execution_count": null,
   "metadata": {
    "scrolled": true
   },
   "outputs": [],
   "source": [
    "BATCH_SIZE = 1000\n",
    "\n",
    "convergedededs = []\n",
    "for BANDWIDTH in BANDWIDTHS:\n",
    "    bandwidth_path = os.path.join(pth, \"b{:08.02f}\".format(BANDWIDTH))\n",
    "    os.makedirs(bandwidth_path, exist_ok=1)\n",
    "    if FRESH:\n",
    "        from joblib import Parallel, delayed\n",
    "        Parallel(n_jobs=32)(delayed(converge_n_save)(BANDWIDTH, i, batch, bandwidth_path) for i, batch in enumerate(batcher(grid, BATCH_SIZE)))\n",
    "    elif FRESH_DASK:\n",
    "        import dask.distributed\n",
    "        client = dask.distributed.Client(\"localhost:8786\")\n",
    "        futures = client.map(lambda *args: converge_n_return(BANDWIDTH, *args), enumerate(batcher(grid, BATCH_SIZE))) \n",
    "        for future in dask.distributed.as_completed(futures):\n",
    "            save_dat()\n"
   ]
  },
  {
   "cell_type": "code",
   "execution_count": null,
   "metadata": {},
   "outputs": [],
   "source": [
    "def mean_center(data, weights=None):\n",
    "    return data - np.average(data, axis=0,weights=weights)"
   ]
  },
  {
   "cell_type": "code",
   "execution_count": 25,
   "metadata": {},
   "outputs": [],
   "source": [
    "def load_converged_data(pth, bandwidth):\n",
    "    bandwidth_path = os.path.join(pth, \"b{:08.02f}\".format(bandwidth))\n",
    "    convergededs = []\n",
    "    for dat in sorted(os.listdir(bandwidth_path)):\n",
    "        convergededs.append(np.loadtxt(os.path.join(bandwidth_path, dat)))\n",
    "    return np.concatenate(convergededs, axis=0)\n",
    "\n",
    "def plt_grid(fig, grid, data_avg, data_std):\n",
    "    nodes = mayavi.mlab.points3d(grid[:,0], grid[:,1], grid[:,2], \n",
    "                                 scale_mode='scalar', colormap='gist_earth', figure=fig)\n",
    "    nodes.glyph.scale_mode = 'scale_by_vector'\n",
    "    nodes.mlab_source.dataset.point_data.vectors = np.ones((grid.shape[0],3))*(np.average(data_std)/400)\n",
    "    nodes.mlab_source.dataset.point_data.scalars = (grid[:,1] - (data_avg[1]-3*data_std[1]))/(6*data_std[1])\n",
    "    return nodes\n",
    "\n",
    "def plt_data(fig, data):\n",
    "    nodes = mayavi.mlab.points3d(data[:,0], data[:,1], data[:,2], scale_mode='scalar', color=(0,1,0), figure=fig)\n",
    "    nodes.mlab_source.dataset.point_data.scalars = np.ones(data.shape[0])*0.05\n",
    "    return nodes\n",
    "\n",
    "def normalize_view(fig, data_avg, data_std):\n",
    "    mayavi.mlab.view(azimuth=180, elevation=80, distance=1*np.average(data_avg), focalpoint=(data_avg[0], data_avg[1], data_avg[2]), figure=fig)\n",
    "    mayavi.mlab.move(forward=None, right=0.1*data_avg[1], up=-0.02*data_avg[0], figure=fig)\n",
    "    \n",
    "def plt_and_save(data, grid, bandwidth, pth):\n",
    "    data_avg = np.average(data, axis=0)\n",
    "    data_std = np.std(data, axis=0)\n",
    "    figure = mayavi.mlab.figure(figure=None, bgcolor=(1,1,1), fgcolor=(0,0,0), engine=None, size=(1000, 500))\n",
    "    converged_nodes = plt_grid(figure, grid, data_avg, data_std)\n",
    "    data_nodes = plt_data(figure, data)\n",
    "    normalize_view(figure, data_avg, data_std)\n",
    "    mayavi.mlab.savefig(pth)\n",
    "    mayavi.mlab.close(figure)\n",
    "    \n",
    "def serialize_plt(pth):\n",
    "    import zlib\n",
    "    with open(pth, 'rb') as f:\n",
    "        dat = f.read()\n",
    "    return zlib.compress(dat)\n",
    "   \n",
    "def deserialize_plt(dat, pth):\n",
    "    import zlib\n",
    "    with open(pth, 'wb') as f:\n",
    "        f.write(zlib.decompress(dat))\n",
    "    return pth\n",
    "\n",
    "def distributed_plt_and_save(data, grid, bandwidth):\n",
    "    import numpy as np\n",
    "    import mayavi\n",
    "    import mayavi.mlab\n",
    "    import string\n",
    "    import os\n",
    "    #on headless systems, tmux: \"Xvfb :1 -screen 0 1280x1024x24 -auth localhost\", then \"export DISPLAY=:1\" in the jupyter tmux\n",
    "    mayavi.mlab.options.offscreen = True\n",
    "    \n",
    "    unique_id = \"\".join(np.random.choice(list(string.ascii_lowercase), replace=True, size=20))\n",
    "    pth = \"/ramfs/{}.png\".format(unique_id)\n",
    "    try:\n",
    "        plt_and_save(data, grid, bandwidth, pth)\n",
    "        result = serialize_plt(pth)\n",
    "    except:\n",
    "        os.remove(pth)"
   ]
  },
  {
   "cell_type": "code",
   "execution_count": 30,
   "metadata": {},
   "outputs": [
    {
     "ename": "TypeError",
     "evalue": "move() got an unexpected keyword argument 'figure'",
     "output_type": "error",
     "traceback": [
      "\u001b[0;31m---------------------------------------------------------------------------\u001b[0m",
      "\u001b[0;31mTypeError\u001b[0m                                 Traceback (most recent call last)",
      "\u001b[0;32m<ipython-input-30-a3239354f9c4>\u001b[0m in \u001b[0;36m<module>\u001b[0;34m()\u001b[0m\n\u001b[1;32m      3\u001b[0m     \u001b[0mimg_pth\u001b[0m \u001b[0;34m=\u001b[0m \u001b[0mos\u001b[0m\u001b[0;34m.\u001b[0m\u001b[0mpath\u001b[0m\u001b[0;34m.\u001b[0m\u001b[0mjoin\u001b[0m\u001b[0;34m(\u001b[0m\u001b[0mpth\u001b[0m\u001b[0;34m,\u001b[0m \u001b[0;34m\"{}.png\"\u001b[0m\u001b[0;34m.\u001b[0m\u001b[0mformat\u001b[0m\u001b[0;34m(\u001b[0m\u001b[0mtitle\u001b[0m\u001b[0;34m)\u001b[0m\u001b[0;34m)\u001b[0m\u001b[0;34m\u001b[0m\u001b[0m\n\u001b[1;32m      4\u001b[0m     \u001b[0mgrid\u001b[0m \u001b[0;34m=\u001b[0m \u001b[0mload_converged_data\u001b[0m\u001b[0;34m(\u001b[0m\u001b[0mpth\u001b[0m\u001b[0;34m,\u001b[0m \u001b[0mBANDWIDTHS\u001b[0m\u001b[0;34m[\u001b[0m\u001b[0mi\u001b[0m\u001b[0;34m]\u001b[0m\u001b[0;34m)\u001b[0m\u001b[0;34m\u001b[0m\u001b[0m\n\u001b[0;32m----> 5\u001b[0;31m     \u001b[0mplt_and_save\u001b[0m\u001b[0;34m(\u001b[0m\u001b[0mdata\u001b[0m\u001b[0;34m,\u001b[0m \u001b[0mgrid\u001b[0m\u001b[0;34m,\u001b[0m \u001b[0mbandwidth\u001b[0m\u001b[0;34m,\u001b[0m \u001b[0mimg_pth\u001b[0m\u001b[0;34m)\u001b[0m\u001b[0;34m\u001b[0m\u001b[0m\n\u001b[0m",
      "\u001b[0;32m<ipython-input-25-0ddcaabf9971>\u001b[0m in \u001b[0;36mplt_and_save\u001b[0;34m(data, grid, bandwidth, pth)\u001b[0m\n\u001b[1;32m     29\u001b[0m     \u001b[0mconverged_nodes\u001b[0m \u001b[0;34m=\u001b[0m \u001b[0mplt_grid\u001b[0m\u001b[0;34m(\u001b[0m\u001b[0mfigure\u001b[0m\u001b[0;34m,\u001b[0m \u001b[0mgrid\u001b[0m\u001b[0;34m,\u001b[0m \u001b[0mdata_avg\u001b[0m\u001b[0;34m,\u001b[0m \u001b[0mdata_std\u001b[0m\u001b[0;34m)\u001b[0m\u001b[0;34m\u001b[0m\u001b[0m\n\u001b[1;32m     30\u001b[0m     \u001b[0mdata_nodes\u001b[0m \u001b[0;34m=\u001b[0m \u001b[0mplt_data\u001b[0m\u001b[0;34m(\u001b[0m\u001b[0mfigure\u001b[0m\u001b[0;34m,\u001b[0m \u001b[0mdata\u001b[0m\u001b[0;34m)\u001b[0m\u001b[0;34m\u001b[0m\u001b[0m\n\u001b[0;32m---> 31\u001b[0;31m     \u001b[0mnormalize_view\u001b[0m\u001b[0;34m(\u001b[0m\u001b[0mfigure\u001b[0m\u001b[0;34m,\u001b[0m \u001b[0mdata_avg\u001b[0m\u001b[0;34m,\u001b[0m \u001b[0mdata_std\u001b[0m\u001b[0;34m)\u001b[0m\u001b[0;34m\u001b[0m\u001b[0m\n\u001b[0m\u001b[1;32m     32\u001b[0m     \u001b[0mtitle\u001b[0m \u001b[0;34m=\u001b[0m \u001b[0;34m\"converged_data_b{:08.02f}\"\u001b[0m\u001b[0;34m.\u001b[0m\u001b[0mformat\u001b[0m\u001b[0;34m(\u001b[0m\u001b[0mbandwidth\u001b[0m\u001b[0;34m)\u001b[0m\u001b[0;34m\u001b[0m\u001b[0m\n\u001b[1;32m     33\u001b[0m     \u001b[0mmayavi\u001b[0m\u001b[0;34m.\u001b[0m\u001b[0mmlab\u001b[0m\u001b[0;34m.\u001b[0m\u001b[0msavefig\u001b[0m\u001b[0;34m(\u001b[0m\u001b[0mos\u001b[0m\u001b[0;34m.\u001b[0m\u001b[0mpath\u001b[0m\u001b[0;34m.\u001b[0m\u001b[0mjoin\u001b[0m\u001b[0;34m(\u001b[0m\u001b[0mpth\u001b[0m\u001b[0;34m,\u001b[0m \u001b[0;34m\"{}.png\"\u001b[0m\u001b[0;34m.\u001b[0m\u001b[0mformat\u001b[0m\u001b[0;34m(\u001b[0m\u001b[0mtitle\u001b[0m\u001b[0;34m)\u001b[0m\u001b[0;34m)\u001b[0m\u001b[0;34m)\u001b[0m\u001b[0;34m\u001b[0m\u001b[0m\n",
      "\u001b[0;32m<ipython-input-25-0ddcaabf9971>\u001b[0m in \u001b[0;36mnormalize_view\u001b[0;34m(fig, data_avg, data_std)\u001b[0m\n\u001b[1;32m     21\u001b[0m \u001b[0;32mdef\u001b[0m \u001b[0mnormalize_view\u001b[0m\u001b[0;34m(\u001b[0m\u001b[0mfig\u001b[0m\u001b[0;34m,\u001b[0m \u001b[0mdata_avg\u001b[0m\u001b[0;34m,\u001b[0m \u001b[0mdata_std\u001b[0m\u001b[0;34m)\u001b[0m\u001b[0;34m:\u001b[0m\u001b[0;34m\u001b[0m\u001b[0m\n\u001b[1;32m     22\u001b[0m     \u001b[0mmayavi\u001b[0m\u001b[0;34m.\u001b[0m\u001b[0mmlab\u001b[0m\u001b[0;34m.\u001b[0m\u001b[0mview\u001b[0m\u001b[0;34m(\u001b[0m\u001b[0mazimuth\u001b[0m\u001b[0;34m=\u001b[0m\u001b[0;36m180\u001b[0m\u001b[0;34m,\u001b[0m \u001b[0melevation\u001b[0m\u001b[0;34m=\u001b[0m\u001b[0;36m80\u001b[0m\u001b[0;34m,\u001b[0m \u001b[0mdistance\u001b[0m\u001b[0;34m=\u001b[0m\u001b[0;36m1\u001b[0m\u001b[0;34m*\u001b[0m\u001b[0mnp\u001b[0m\u001b[0;34m.\u001b[0m\u001b[0maverage\u001b[0m\u001b[0;34m(\u001b[0m\u001b[0mdata_avg\u001b[0m\u001b[0;34m)\u001b[0m\u001b[0;34m,\u001b[0m \u001b[0mfocalpoint\u001b[0m\u001b[0;34m=\u001b[0m\u001b[0;34m(\u001b[0m\u001b[0mdata_avg\u001b[0m\u001b[0;34m[\u001b[0m\u001b[0;36m0\u001b[0m\u001b[0;34m]\u001b[0m\u001b[0;34m,\u001b[0m \u001b[0mdata_avg\u001b[0m\u001b[0;34m[\u001b[0m\u001b[0;36m1\u001b[0m\u001b[0;34m]\u001b[0m\u001b[0;34m,\u001b[0m \u001b[0mdata_avg\u001b[0m\u001b[0;34m[\u001b[0m\u001b[0;36m2\u001b[0m\u001b[0;34m]\u001b[0m\u001b[0;34m)\u001b[0m\u001b[0;34m,\u001b[0m \u001b[0mfigure\u001b[0m\u001b[0;34m=\u001b[0m\u001b[0mfig\u001b[0m\u001b[0;34m)\u001b[0m\u001b[0;34m\u001b[0m\u001b[0m\n\u001b[0;32m---> 23\u001b[0;31m     \u001b[0mmayavi\u001b[0m\u001b[0;34m.\u001b[0m\u001b[0mmlab\u001b[0m\u001b[0;34m.\u001b[0m\u001b[0mmove\u001b[0m\u001b[0;34m(\u001b[0m\u001b[0mforward\u001b[0m\u001b[0;34m=\u001b[0m\u001b[0;32mNone\u001b[0m\u001b[0;34m,\u001b[0m \u001b[0mright\u001b[0m\u001b[0;34m=\u001b[0m\u001b[0;36m0.1\u001b[0m\u001b[0;34m*\u001b[0m\u001b[0mdata_avg\u001b[0m\u001b[0;34m[\u001b[0m\u001b[0;36m1\u001b[0m\u001b[0;34m]\u001b[0m\u001b[0;34m,\u001b[0m \u001b[0mup\u001b[0m\u001b[0;34m=\u001b[0m\u001b[0;34m-\u001b[0m\u001b[0;36m0.02\u001b[0m\u001b[0;34m*\u001b[0m\u001b[0mdata_avg\u001b[0m\u001b[0;34m[\u001b[0m\u001b[0;36m0\u001b[0m\u001b[0;34m]\u001b[0m\u001b[0;34m,\u001b[0m \u001b[0mfigure\u001b[0m\u001b[0;34m=\u001b[0m\u001b[0mfig\u001b[0m\u001b[0;34m)\u001b[0m\u001b[0;34m\u001b[0m\u001b[0m\n\u001b[0m\u001b[1;32m     24\u001b[0m \u001b[0;34m\u001b[0m\u001b[0m\n\u001b[1;32m     25\u001b[0m \u001b[0;32mdef\u001b[0m \u001b[0mplt_and_save\u001b[0m\u001b[0;34m(\u001b[0m\u001b[0mdata\u001b[0m\u001b[0;34m,\u001b[0m \u001b[0mgrid\u001b[0m\u001b[0;34m,\u001b[0m \u001b[0mbandwidth\u001b[0m\u001b[0;34m,\u001b[0m \u001b[0mpth\u001b[0m\u001b[0;34m)\u001b[0m\u001b[0;34m:\u001b[0m\u001b[0;34m\u001b[0m\u001b[0m\n",
      "\u001b[0;31mTypeError\u001b[0m: move() got an unexpected keyword argument 'figure'"
     ]
    }
   ],
   "source": [
    "for i in range(len(BANDWIDTHS)):\n",
    "    title = \"converged_data_b{:08.02f}\".format(BANDWIDTHS[i])\n",
    "    img_pth = os.path.join(pth, \"{}.png\".format(title))\n",
    "    grid = load_converged_data(pth, BANDWIDTHS[i])\n",
    "    plt_and_save(data, grid, bandwidth, img_pth)"
   ]
  },
  {
   "cell_type": "code",
   "execution_count": 44,
   "metadata": {},
   "outputs": [],
   "source": [
    "mayavi.mlab.close(all=True)"
   ]
  },
  {
   "cell_type": "code",
   "execution_count": null,
   "metadata": {},
   "outputs": [],
   "source": [
    "bandwidths = [BANDWIDTH]\n",
    "converged = np.concatenate(convergededs)\n",
    "for i, bandwidth in enumerate(bandwidths):\n",
    "    data_avg = np.average(converged, axis=0)\n",
    "    data_std = np.std(converged, axis=0)\n",
    "    figure = mayavi.mlab.figure(figure=None, bgcolor=(1,1,1), fgcolor=(0,0,0), engine=None, size=(1000, 500))\n",
    "    #mayavi.mlab.surf(grid[0], grid[1], kde_wireframe/z_scale, colormap='Greys', opacity=1)\n",
    "    nodes = mayavi.mlab.triangular_mesh(converged[:,0], converged[:,1], converged[:,2], \n",
    "                                 scale_mode='scalar', colormap='gist_earth')\n",
    "    nodes.glyph.scale_mode = 'scale_by_vector'\n",
    "    nodes.mlab_source.dataset.point_data.vectors = np.ones((converged.shape[0],3))*(np.average(data_std)/400)\n",
    "    nodes.mlab_source.dataset.point_data.scalars = (converged[:,1] - (data_avg[1]-3*data_std[1]))/(6*data_std[1])\n",
    "    #bunodes = mayavi.mlab.points3d(data[:,0], data[:,1], data[:,2], scale_mode='scalar', color=(0,1,0))\n",
    "    #bunodes.mlab_source.dataset.point_data.scalars = np.ones(data.shape[0])*0.1\n",
    "\n",
    "\n",
    "    #mayavi.mlab.axes()\n",
    "\n",
    "    #mayavi.mlab.view(views[0][1],views[0][0])\n",
    "    mayavi.mlab.view(azimuth=180, elevation=80, distance=1*np.average(data_avg), focalpoint=(data_avg[0], data_avg[1], data_avg[2]))\n",
    "    mayavi.mlab.move(forward=None, right=0.1*data_avg[1], up=-0.02*data_avg[0])\n",
    "    title = \"converged_data_b{:08.02f}\".format(bandwidth)\n",
    "    mayavi.mlab.savefig(os.path.join(pth, \"{}.png\".format(title)))\n",
    "    mayavi.mlab.close(figure)"
   ]
  },
  {
   "cell_type": "code",
   "execution_count": null,
   "metadata": {},
   "outputs": [],
   "source": [
    "mayavi.mlab.close(all=True)"
   ]
  },
  {
   "cell_type": "code",
   "execution_count": null,
   "metadata": {},
   "outputs": [],
   "source": []
  },
  {
   "cell_type": "code",
   "execution_count": null,
   "metadata": {},
   "outputs": [],
   "source": []
  },
  {
   "cell_type": "code",
   "execution_count": null,
   "metadata": {},
   "outputs": [],
   "source": []
  },
  {
   "cell_type": "code",
   "execution_count": null,
   "metadata": {},
   "outputs": [],
   "source": []
  },
  {
   "cell_type": "code",
   "execution_count": null,
   "metadata": {},
   "outputs": [],
   "source": []
  },
  {
   "cell_type": "code",
   "execution_count": null,
   "metadata": {},
   "outputs": [],
   "source": [
    "range_pct = 0.2\n",
    "grid_steps = 20\n",
    "data_mins, data_maxes, data_ranges = local_models.linear_projections.min_max_range(data)\n",
    "graph_bounds = local_models.linear_projections.sane_graph_bounds(data_mins, data_maxes, data_ranges, range_pct)\n",
    "\n",
    "grid_limits = tuple(map(lambda i: slice(graph_bounds[0,i], graph_bounds[1,i], grid_steps*1j), range(graph_bounds.shape[1])))\n",
    "grid = np.mgrid[grid_limits]\n",
    "gridder = local_models.utils.Grid2Vec()\n",
    "grid = gridder.fit_transform(grid)"
   ]
  },
  {
   "cell_type": "code",
   "execution_count": null,
   "metadata": {},
   "outputs": [],
   "source": [
    "for converged2 in local_models.algorithms.local_tls_shift_till_convergence(linear_models, grid, tol=1e-10,\n",
    "                                     kernel=KERNEL(bandwidth),\n",
    "                                     report=False):\n",
    "    pass"
   ]
  },
  {
   "cell_type": "code",
   "execution_count": null,
   "metadata": {},
   "outputs": [],
   "source": [
    "converged2"
   ]
  },
  {
   "cell_type": "code",
   "execution_count": null,
   "metadata": {},
   "outputs": [],
   "source": [
    "cloud = pcl.PointCloud()\n",
    "cloud.from_array(converged2.astype('float32'))\n",
    "#visual = pcl.pcl_visualization.CloudViewing()\n",
    "#visual.ShowMonochromeCloud(cloud)"
   ]
  },
  {
   "cell_type": "code",
   "execution_count": null,
   "metadata": {},
   "outputs": [],
   "source": [
    "mayavi.mlab.figure(figure=None, bgcolor=(1,1,1), fgcolor=(0,0,0), engine=None, size=(800, 800))\n",
    "#mayavi.mlab.surf(grid[0], grid[1], kde_wireframe/z_scale, colormap='Greys', opacity=1)\n",
    "nodes = mayavi.mlab.points3d(converged2[:,0], converged2[:,1], converged2[:,2], scale_mode='scalar', color=(1,0,0))\n",
    "nodes.mlab_source.dataset.point_data.scalars = np.ones(converged2.shape[0])*0.1\n",
    "bunodes = mayavi.mlab.points3d(data[:,0], data[:,1], data[:,2], scale_mode='scalar', color=(0,1,0))\n",
    "bunodes.mlab_source.dataset.point_data.scalars = np.ones(data.shape[0])*0.1\n",
    "\n",
    "\n",
    "#mayavi.mlab.axes()\n",
    "\n",
    "#mayavi.mlab.view(views[0][1],views[0][0])\n",
    "data_avg = np.average(converged2, axis=1)\n",
    "mayavi.mlab.view(azimuth=0, elevation=30, distance=1, focalpoint=(data_avg[0], data_avg[1], data_avg[2]))\n",
    "title = \"converged_g000{:05d}\".format(grid_steps)\n",
    "mayavi.mlab.savefig(os.path.join(project_dir, \"{}.png\".format(title)))\n",
    "mayavi.mlab.clf()"
   ]
  },
  {
   "cell_type": "code",
   "execution_count": null,
   "metadata": {},
   "outputs": [],
   "source": []
  },
  {
   "cell_type": "code",
   "execution_count": null,
   "metadata": {},
   "outputs": [],
   "source": []
  }
 ],
 "metadata": {
  "kernelspec": {
   "display_name": "Python 3",
   "language": "python",
   "name": "python3"
  },
  "language_info": {
   "codemirror_mode": {
    "name": "ipython",
    "version": 3
   },
   "file_extension": ".py",
   "mimetype": "text/x-python",
   "name": "python",
   "nbconvert_exporter": "python",
   "pygments_lexer": "ipython3",
   "version": "3.5.2"
  }
 },
 "nbformat": 4,
 "nbformat_minor": 2
}
