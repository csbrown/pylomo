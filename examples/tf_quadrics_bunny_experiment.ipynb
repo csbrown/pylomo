{
 "cells": [
  {
   "cell_type": "code",
   "execution_count": 1,
   "metadata": {},
   "outputs": [
    {
     "name": "stderr",
     "output_type": "stream",
     "text": [
      "/usr/local/lib/python3.5/dist-packages/tensorboard/compat/tensorflow_stub/dtypes.py:541: FutureWarning: Passing (type, 1) or '1type' as a synonym of type is deprecated; in a future version of numpy, it will be understood as (type, (1,)) / '(1,)type'.\n",
      "  _np_qint8 = np.dtype([(\"qint8\", np.int8, 1)])\n",
      "/usr/local/lib/python3.5/dist-packages/tensorboard/compat/tensorflow_stub/dtypes.py:542: FutureWarning: Passing (type, 1) or '1type' as a synonym of type is deprecated; in a future version of numpy, it will be understood as (type, (1,)) / '(1,)type'.\n",
      "  _np_quint8 = np.dtype([(\"quint8\", np.uint8, 1)])\n",
      "/usr/local/lib/python3.5/dist-packages/tensorboard/compat/tensorflow_stub/dtypes.py:543: FutureWarning: Passing (type, 1) or '1type' as a synonym of type is deprecated; in a future version of numpy, it will be understood as (type, (1,)) / '(1,)type'.\n",
      "  _np_qint16 = np.dtype([(\"qint16\", np.int16, 1)])\n",
      "/usr/local/lib/python3.5/dist-packages/tensorboard/compat/tensorflow_stub/dtypes.py:544: FutureWarning: Passing (type, 1) or '1type' as a synonym of type is deprecated; in a future version of numpy, it will be understood as (type, (1,)) / '(1,)type'.\n",
      "  _np_quint16 = np.dtype([(\"quint16\", np.uint16, 1)])\n",
      "/usr/local/lib/python3.5/dist-packages/tensorboard/compat/tensorflow_stub/dtypes.py:545: FutureWarning: Passing (type, 1) or '1type' as a synonym of type is deprecated; in a future version of numpy, it will be understood as (type, (1,)) / '(1,)type'.\n",
      "  _np_qint32 = np.dtype([(\"qint32\", np.int32, 1)])\n",
      "/usr/local/lib/python3.5/dist-packages/tensorboard/compat/tensorflow_stub/dtypes.py:550: FutureWarning: Passing (type, 1) or '1type' as a synonym of type is deprecated; in a future version of numpy, it will be understood as (type, (1,)) / '(1,)type'.\n",
      "  np_resource = np.dtype([(\"resource\", np.ubyte, 1)])\n"
     ]
    }
   ],
   "source": [
    "import local_models.local_models\n",
    "import local_models.algorithms\n",
    "import local_models.utils\n",
    "import local_models.linear_projections\n",
    "import local_models.loggin\n",
    "import local_models.TLS_models\n",
    "from local_models.plotting_utils import mayavi_plt_pts\n",
    "from local_models.tf_quadric_models import *\n",
    "import numpy as np\n",
    "import matplotlib.pyplot as plt\n",
    "import sklearn.linear_model\n",
    "import sklearn.cluster\n",
    "from importlib import reload\n",
    "from ml_battery.utils import cmap\n",
    "import matplotlib as mpl\n",
    "import sklearn.datasets\n",
    "import sklearn.decomposition\n",
    "import logging\n",
    "import ml_battery.log\n",
    "import time\n",
    "import os\n",
    "import mayavi\n",
    "import mayavi.mlab\n",
    "import string\n",
    "import subprocess\n",
    "import functools\n",
    "import cv2\n",
    "import itertools\n",
    "from local_models.quadric_models import *\n",
    "from local_models.plotting_utils import *\n",
    "import joblib\n",
    "\n",
    "\n",
    "#on headless systems, tmux: \"Xvfb :1 -screen 0 1280x1024x24 -auth localhost\", then \"export DISPLAY=:1\" in the jupyter tmux\n",
    "mayavi.mlab.options.offscreen = True\n",
    "\n",
    "\n",
    "\n",
    "logger = logging.getLogger(__name__)\n",
    "\n",
    "#reload(local_models.local_models)\n",
    "#reload(lm)\n",
    "#reload(local_models.loggin)\n",
    "#reload(local_models.TLS_models)\n",
    "np.warnings.filterwarnings('ignore')\n"
   ]
  },
  {
   "cell_type": "code",
   "execution_count": null,
   "metadata": {},
   "outputs": [],
   "source": []
  },
  {
   "cell_type": "code",
   "execution_count": 2,
   "metadata": {},
   "outputs": [],
   "source": [
    "FRESH=True"
   ]
  },
  {
   "cell_type": "code",
   "execution_count": 3,
   "metadata": {},
   "outputs": [],
   "source": [
    "kernel_names = {\n",
    "    local_models.local_models.GaussianKernel: 'gaussian',\n",
    "    local_models.local_models.TriCubeKernel: 'tricube'\n",
    "}"
   ]
  },
  {
   "cell_type": "code",
   "execution_count": 4,
   "metadata": {},
   "outputs": [],
   "source": [
    "mpl.rcParams['figure.figsize'] = [8.0, 8.0]"
   ]
  },
  {
   "cell_type": "code",
   "execution_count": 5,
   "metadata": {},
   "outputs": [],
   "source": [
    "data = np.loadtxt(\"../data/bunny/bunny/data/bun.csv\")"
   ]
  },
  {
   "cell_type": "code",
   "execution_count": 6,
   "metadata": {},
   "outputs": [
    {
     "data": {
      "text/plain": [
       "(362272, 3)"
      ]
     },
     "execution_count": 6,
     "metadata": {},
     "output_type": "execute_result"
    }
   ],
   "source": [
    "data.shape"
   ]
  },
  {
   "cell_type": "code",
   "execution_count": 7,
   "metadata": {},
   "outputs": [
    {
     "data": {
      "text/plain": [
       "array([0.04234508, 0.03921931, 0.02899566])"
      ]
     },
     "execution_count": 7,
     "metadata": {},
     "output_type": "execute_result"
    }
   ],
   "source": [
    "np.std(data,axis=0)"
   ]
  },
  {
   "cell_type": "code",
   "execution_count": 8,
   "metadata": {},
   "outputs": [],
   "source": [
    "#scale the data.... having underflow errors\n",
    "data = data*1/np.min(np.std(data, axis=0))"
   ]
  },
  {
   "cell_type": "code",
   "execution_count": 9,
   "metadata": {},
   "outputs": [
    {
     "data": {
      "text/plain": [
       "array([1.46039349, 1.35259215, 1.        ])"
      ]
     },
     "execution_count": 9,
     "metadata": {},
     "output_type": "execute_result"
    }
   ],
   "source": [
    "np.std(data,axis=0)"
   ]
  },
  {
   "cell_type": "code",
   "execution_count": 10,
   "metadata": {},
   "outputs": [],
   "source": [
    "KERNEL=local_models.local_models.TriCubeKernel\n",
    "RUN = 13\n",
    "subsample_rate = 0.005\n",
    "K=120\n",
    "\n",
    "project_dir = \"../data/bunny_iterated_local_quadric_regression_{}_{:03d}\".format(kernel_names[KERNEL], RUN)\n",
    "\n",
    "os.makedirs(project_dir, exist_ok=1)"
   ]
  },
  {
   "cell_type": "code",
   "execution_count": 11,
   "metadata": {},
   "outputs": [
    {
     "data": {
      "text/plain": [
       "(1811, 3)"
      ]
     },
     "execution_count": 11,
     "metadata": {},
     "output_type": "execute_result"
    }
   ],
   "source": [
    "np.random.seed(0)\n",
    "subsampled_bunny_indices = np.random.choice(np.arange(data.shape[0]), size=int(subsample_rate*data.shape[0]), replace=False)\n",
    "subsampled_bunny = data[subsampled_bunny_indices]\n",
    "subsampled_bunny.shape"
   ]
  },
  {
   "cell_type": "code",
   "execution_count": 12,
   "metadata": {},
   "outputs": [
    {
     "data": {
      "image/png": "[encoded data removed]",
      "text/plain": [
       "<matplotlib.figure.Figure at 0x7f122a6d8240>"
      ]
     },
     "metadata": {
      "needs_background": "light"
     },
     "output_type": "display_data"
    }
   ],
   "source": [
    "mayavi_plt_pts(subsampled_bunny)"
   ]
  },
  {
   "cell_type": "code",
   "execution_count": 13,
   "metadata": {},
   "outputs": [
    {
     "data": {
      "text/plain": [
       "(181, 3)"
      ]
     },
     "execution_count": 13,
     "metadata": {},
     "output_type": "execute_result"
    }
   ],
   "source": [
    "very_subsampled_bunny_indices = np.random.choice(np.arange(data.shape[0]), size=int(subsample_rate/10*data.shape[0]), replace=False)\n",
    "very_subsampled_bunny = data[very_subsampled_bunny_indices]\n",
    "very_subsampled_bunny.shape"
   ]
  },
  {
   "cell_type": "code",
   "execution_count": 14,
   "metadata": {},
   "outputs": [
    {
     "data": {
      "image/png": "[encoded data removed]",
      "text/plain": [
       "<matplotlib.figure.Figure at 0x7f122af3f0f0>"
      ]
     },
     "metadata": {
      "needs_background": "light"
     },
     "output_type": "display_data"
    }
   ],
   "source": [
    "mayavi_plt_pts(very_subsampled_bunny)"
   ]
  },
  {
   "cell_type": "code",
   "execution_count": null,
   "metadata": {},
   "outputs": [],
   "source": []
  },
  {
   "cell_type": "code",
   "execution_count": null,
   "metadata": {},
   "outputs": [],
   "source": []
  },
  {
   "cell_type": "code",
   "execution_count": null,
   "metadata": {},
   "outputs": [],
   "source": []
  },
  {
   "cell_type": "code",
   "execution_count": 15,
   "metadata": {},
   "outputs": [],
   "source": [
    "def project_and_tf_plt(x, q, pth, additional_pts=[], colormaps=None):\n",
    "    import tensorflow as tf\n",
    "    import tf_roots\n",
    "    import quadrics_utils\n",
    "\n",
    "    projection_funcs = {\n",
    "        \"k_mat\": quadrics_utils.k_mat,\n",
    "        \"other_dims_as_x\": lambda a,b,c,d,e,f,g,x: [quadrics_utils.y_as_x(a,b,c,d,e,f,g,x), quadrics_utils.z_as_x(a,b,c,d,e,f,g,x)],\n",
    "    }\n",
    "    with tf.Graph().as_default(), tf.Session() as sess:\n",
    "        test_qs = tf.placeholder(tf.float32, q.shape)\n",
    "        test_pts = tf.placeholder(tf.float32, x.shape)\n",
    "        test_qsc = tf.cast(test_qs, tf.complex128 if test_qs.dtype == tf.float64 else tf.complex64)\n",
    "        test_ptsc = tf.cast(test_pts, tf.complex128 if test_pts.dtype == tf.float64 else tf.complex64)\n",
    "        tf_projected_pts, _ = tf_ortho_project(test_qsc, test_pts)\n",
    "        projected_pts = sess.run(tf_projected_pts, feed_dict={test_qs:q, test_pts:x})\n",
    "    mayavi_plt_pts([projected_pts]+additional_pts, pth, False, \n",
    "        np.average(x,axis=0), np.std(x,axis=0), False, colormaps=colormaps)"
   ]
  },
  {
   "cell_type": "code",
   "execution_count": 16,
   "metadata": {},
   "outputs": [],
   "source": [
    "def project_and_plt(x, q, pth, additional_pts=[], colormaps=None):\n",
    "    projected_pts, _ = orthogonal_quadric_projection(x,q,projection_funcs)\n",
    "    mayavi_plt_pts([projected_pts]+additional_pts, pth, False, \n",
    "        np.average(x,axis=0), np.std(x,axis=0), \n",
    "        #None, None,\n",
    "        False, colormaps=colormaps)"
   ]
  },
  {
   "cell_type": "code",
   "execution_count": 17,
   "metadata": {},
   "outputs": [],
   "source": [
    "def fq2q(fq,input_shape=3):\n",
    "    return fq + fq.T - np.diag(fq[np.diag_indices(input_shape+1)])"
   ]
  },
  {
   "cell_type": "code",
   "execution_count": 18,
   "metadata": {},
   "outputs": [],
   "source": [
    "def flatq2q(fq, input_shape=3):\n",
    "    q = np.zeros((input_shape+1,input_shape+1))\n",
    "    q[np.triu_indices(input_shape+1)] = fq\n",
    "    q = q + q.T - np.diag(q[np.diag_indices(input_shape+1)])\n",
    "    return q"
   ]
  },
  {
   "cell_type": "raw",
   "metadata": {},
   "source": [
    "the_qs = list(map(fq2q, tfmodel.fitted_qs))"
   ]
  },
  {
   "cell_type": "raw",
   "metadata": {
    "scrolled": true
   },
   "source": [
    "plotted = joblib.Parallel(n_jobs=4, verbose=10)(joblib.delayed(project_and_plt)(v,w,y,z,c) for v,w,y,z,c in \n",
    "    zip(\n",
    "        [tp1p]*len(the_qs), \n",
    "        the_qs,\n",
    "        [os.path.join(project_dir, \"local_quadric_training_tp1p_{:05d}.png\".format(i)) for i in range(len(tfmodel.fitted_qs))],\n",
    "        [[tp1p]]*len(the_qs),\n",
    "        [['gist_earth','black-white']]*len(the_qs),\n",
    "    )\n",
    ")"
   ]
  },
  {
   "cell_type": "raw",
   "metadata": {},
   "source": [
    "plotted = joblib.Parallel(n_jobs=4, verbose=10)(joblib.delayed(project_and_plt)(v,w,y,z,c) for v,w,y,z,c in \n",
    "    zip(\n",
    "        [x]*len(the_qs), \n",
    "        the_qs,\n",
    "        [os.path.join(project_dir, \"local_quadric_training_{:05d}.png\".format(i)) for i in range(len(the_qs))],\n",
    "        [[tp1p]]*len(the_qs),\n",
    "        [['gist_earth','black-white']]*len(the_qs),\n",
    "    )\n",
    ")"
   ]
  },
  {
   "cell_type": "code",
   "execution_count": 19,
   "metadata": {},
   "outputs": [],
   "source": [
    "regular_parabolic_projection_funcs_3, special_parabolic_projection_funcs_3 = arrange_parabolic_projection_funcs(3)"
   ]
  },
  {
   "cell_type": "code",
   "execution_count": 20,
   "metadata": {},
   "outputs": [
    {
     "name": "stdout",
     "output_type": "stream",
     "text": [
      "nothing to del\n",
      "nothing to del\n",
      "nothing to del\n",
      "nothing to del\n",
      "nothing to del\n"
     ]
    }
   ],
   "source": [
    "with fuckit(\"nothing to del\"):\n",
    "    TFQuadricSesh.close()\n",
    "with fuckit(\"nothing to del\"):\n",
    "    del TFQuadricSesh \n",
    "with fuckit(\"nothing to del\"):\n",
    "    del TFQuadricGraph \n",
    "with fuckit(\"nothing to del\"):\n",
    "    del local_models.tf_quadric_models.TFQuadricSesh\n",
    "with fuckit(\"nothing to del\"):\n",
    "    del local_models.tf_quadric_models.TFQuadricGraph"
   ]
  },
  {
   "cell_type": "code",
   "execution_count": 21,
   "metadata": {},
   "outputs": [
    {
     "name": "stdout",
     "output_type": "stream",
     "text": [
      "building!\n",
      "Tensor(\"quadric_regression/quadric_projection/transpose_1:0\", shape=(3, 3), dtype=complex128)\n",
      "Tensor(\"quadric_regression/quadric_projection/matmul_1:0\", shape=(?, 3), dtype=complex128)\n",
      "Tensor(\"quadric_regression/quadric_projection/matmul_2:0\", shape=(1, 3), dtype=complex128)\n",
      "L,U,UL,UR,BR Tensor(\"quadric_regression/quadric_projection/GatherV2_1:0\", shape=(3,), dtype=complex128) Tensor(\"quadric_regression/quadric_projection/GatherV2_2:0\", shape=(3, 3), dtype=complex128) Tensor(\"quadric_regression/quadric_projection/GatherV2_1:0\", shape=(3,), dtype=complex128) Tensor(\"quadric_regression/quadric_projection/add_2:0\", shape=(?, 3), dtype=complex128) Tensor(\"quadric_regression/quadric_projection/add_4:0\", shape=(?, 1), dtype=complex128)\n",
      "args0 Tensor(\"quadric_regression/quadric_projection/cond/strided_slice_2:0\", shape=(?, 1), dtype=complex128)\n",
      "(?, 1)\n",
      "args1 Tensor(\"quadric_regression/quadric_projection/cond/strided_slice_3:0\", shape=(?, 1), dtype=complex128)\n",
      "(?, 1)\n",
      "args2 Tensor(\"quadric_regression/quadric_projection/cond/strided_slice_4:0\", shape=(?, 1), dtype=complex128)\n",
      "(?, 1)\n",
      "args3 Tensor(\"quadric_regression/quadric_projection/cond/strided_slice_5:0\", shape=(?, 1), dtype=complex128)\n",
      "(?, 1)\n",
      "args4 Tensor(\"quadric_regression/quadric_projection/cond/strided_slice_6:0\", shape=(?, 1), dtype=complex128)\n",
      "(?, 1)\n",
      "args5 Tensor(\"quadric_regression/quadric_projection/cond/strided_slice_7:0\", shape=(?, 1), dtype=complex128)\n",
      "(?, 1)\n",
      "coeffses0 Tensor(\"quadric_regression/quadric_projection/cond/mul_3:0\", shape=(?, 1), dtype=complex128)\n",
      "(?, 1)\n",
      "coeffses1 Tensor(\"quadric_regression/quadric_projection/cond/mul_10:0\", shape=(?, 1), dtype=complex128)\n",
      "(?, 1)\n",
      "coeffses2 Tensor(\"quadric_regression/quadric_projection/cond/mul_19:0\", shape=(?, 1), dtype=complex128)\n",
      "(?, 1)\n",
      "coeffses3 Tensor(\"quadric_regression/quadric_projection/cond/add_9:0\", shape=(?, 1), dtype=complex128)\n",
      "(?, 1)\n",
      "coeffses4 Tensor(\"quadric_regression/quadric_projection/cond/mul_32:0\", shape=(?, 1), dtype=complex128)\n",
      "(?, 1)\n",
      "coeffses5 Tensor(\"quadric_regression/quadric_projection/cond/mul_33:0\", shape=(?, 1), dtype=complex128)\n",
      "(?, 1)\n",
      "kmat Tensor(\"quadric_regression/quadric_projection/cond/stack:0\", shape=(?, 1, 6), dtype=complex128)\n",
      "coeff_vectors Tensor(\"quadric_regression/quadric_projection/cond/strided_slice_8:0\", shape=(?, 6), dtype=complex128)\n",
      "zero_indices Tensor(\"quadric_regression/quadric_projection/cond/ArgMax:0\", shape=(?,), dtype=int64)\n",
      "mask Tensor(\"quadric_regression/quadric_projection/cond/Less:0\", shape=(?, ?), dtype=bool)\n",
      "fill_value Tensor(\"quadric_regression/quadric_projection/cond/Cast_2:0\", shape=(), dtype=complex128)\n",
      "justbeforezeroing Tensor(\"quadric_regression/quadric_projection/cond/strided_slice_8:0\", shape=(?, 6), dtype=complex128)\n",
      "t Tensor(\"quadric_regression/quadric_projection/cond/mul_34:0\", shape=(?, ?), dtype=complex128)\n",
      "f Tensor(\"quadric_regression/quadric_projection/cond/mul_35:0\", shape=(?, 6), dtype=complex128)\n",
      "select_result Tensor(\"quadric_regression/quadric_projection/cond/add_12:0\", shape=(?, 6), dtype=complex128)\n",
      "zeroed Tensor(\"quadric_regression/quadric_projection/cond/add_12:0\", shape=(?, 6), dtype=complex128)\n",
      "cshape (?, 6)\n",
      "rotated_coeffs Tensor(\"quadric_regression/quadric_projection/cond/Gather/Reshape_3:0\", shape=(?, 6), dtype=complex128)\n",
      "backward_coeffs_to_nless1 Tensor(\"quadric_regression/quadric_projection/cond/strided_slice_13:0\", shape=(?, 5), dtype=complex128)\n",
      "unit_lead_coeffs_to_nless1 Tensor(\"quadric_regression/quadric_projection/cond/truediv:0\", shape=(?, 5), dtype=complex128)\n",
      "roots Tensor(\"quadric_regression/quadric_projection/cond/CompanionEigv:0\", shape=(?, ?), dtype=complex128)\n",
      "sorted_roots Tensor(\"quadric_regression/quadric_projection/cond/Gather_1/Reshape_3:0\", shape=(?, ?), dtype=complex128)\n",
      "mask Tensor(\"quadric_regression/quadric_projection/cond/Less_1:0\", shape=(?, ?), dtype=bool)\n",
      "fill_value Tensor(\"quadric_regression/quadric_projection/cond/Cast_6:0\", shape=(), dtype=complex128)\n",
      "justbeforezeroing Tensor(\"quadric_regression/quadric_projection/cond/Gather_1/Reshape_3:0\", shape=(?, ?), dtype=complex128)\n",
      "t Tensor(\"quadric_regression/quadric_projection/cond/mul_36:0\", shape=(?, ?), dtype=complex128)\n",
      "f Tensor(\"quadric_regression/quadric_projection/cond/mul_37:0\", shape=(?, ?), dtype=complex128)\n",
      "select_result Tensor(\"quadric_regression/quadric_projection/cond/add_14:0\", shape=(?, ?), dtype=complex128)\n",
      "(?, ?)\n",
      "munging_dims (2, ?, ?) (1, ?, ?)\n",
      "munged (3, ?, ?)\n",
      "pts Tensor(\"quadric_regression/quadric_projection/cond/Select:0\", shape=(?, ?, 3), dtype=complex128)\n",
      "the mask Tensor(\"quadric_regression/quadric_projection/cond/Greater_1:0\", shape=(?, ?), dtype=bool)\n",
      "dists Tensor(\"quadric_regression/quadric_projection/cond/Sum_1:0\", shape=(?, ?), dtype=float64)\n",
      "regular_pts Tensor(\"quadric_regression/quadric_projection/cond/Merge:0\", shape=(?, 3), dtype=complex128)\n",
      "args0 Tensor(\"quadric_regression/quadric_projection/cond_1/strided_slice_2:0\", shape=(?, 1), dtype=complex128)\n",
      "(?, 1)\n",
      "args1 Tensor(\"quadric_regression/quadric_projection/cond_1/strided_slice_3:0\", shape=(?, 1), dtype=complex128)\n",
      "(?, 1)\n",
      "args2 Tensor(\"quadric_regression/quadric_projection/cond_1/strided_slice_4:0\", shape=(?, 1), dtype=complex128)\n",
      "(?, 1)\n",
      "args3 Tensor(\"quadric_regression/quadric_projection/cond_1/strided_slice_5:0\", shape=(?, 1), dtype=complex128)\n",
      "(?, 1)\n",
      "args4 Tensor(\"quadric_regression/quadric_projection/cond_1/strided_slice_6:0\", shape=(?, 1), dtype=complex128)\n",
      "(?, 1)\n",
      "args5 Tensor(\"quadric_regression/quadric_projection/cond_1/strided_slice_7:0\", shape=(?, 1), dtype=complex128)\n",
      "(?, 1)\n",
      "coeffses0 Tensor(\"quadric_regression/quadric_projection/cond_1/mul_1:0\", shape=(?, 1), dtype=complex128)\n",
      "(?, 1)\n",
      "coeffses1 Tensor(\"quadric_regression/quadric_projection/cond_1/mul_7:0\", shape=(?, 1), dtype=complex128)\n",
      "(?, 1)\n",
      "coeffses2 Tensor(\"quadric_regression/quadric_projection/cond_1/add_2:0\", shape=(?, 1), dtype=complex128)\n",
      "(?, 1)\n",
      "coeffses3 Tensor(\"quadric_regression/quadric_projection/cond_1/add_6:0\", shape=(?, 1), dtype=complex128)\n",
      "(?, 1)\n",
      "coeffses4 Tensor(\"quadric_regression/quadric_projection/cond_1/add_10:0\", shape=(?, 1), dtype=complex128)\n",
      "(?, 1)\n",
      "coeffses5 Tensor(\"quadric_regression/quadric_projection/cond_1/mul_59:0\", shape=(?, 1), dtype=complex128)\n",
      "(?, 1)\n",
      "coeffses6 Tensor(\"quadric_regression/quadric_projection/cond_1/mul_60:0\", shape=(?, 1), dtype=complex128)\n",
      "(?, 1)\n",
      "kmat Tensor(\"quadric_regression/quadric_projection/cond_1/stack:0\", shape=(?, 1, 7), dtype=complex128)\n",
      "coeff_vectors Tensor(\"quadric_regression/quadric_projection/cond_1/strided_slice_8:0\", shape=(?, 7), dtype=complex128)\n",
      "zero_indices Tensor(\"quadric_regression/quadric_projection/cond_1/ArgMax:0\", shape=(?,), dtype=int64)\n",
      "mask Tensor(\"quadric_regression/quadric_projection/cond_1/Less:0\", shape=(?, ?), dtype=bool)\n",
      "fill_value Tensor(\"quadric_regression/quadric_projection/cond_1/Cast_2:0\", shape=(), dtype=complex128)\n",
      "justbeforezeroing Tensor(\"quadric_regression/quadric_projection/cond_1/strided_slice_8:0\", shape=(?, 7), dtype=complex128)\n",
      "t Tensor(\"quadric_regression/quadric_projection/cond_1/mul_61:0\", shape=(?, ?), dtype=complex128)\n",
      "f Tensor(\"quadric_regression/quadric_projection/cond_1/mul_62:0\", shape=(?, 7), dtype=complex128)\n",
      "select_result Tensor(\"quadric_regression/quadric_projection/cond_1/add_14:0\", shape=(?, 7), dtype=complex128)\n",
      "zeroed Tensor(\"quadric_regression/quadric_projection/cond_1/add_14:0\", shape=(?, 7), dtype=complex128)\n",
      "cshape (?, 7)\n",
      "rotated_coeffs Tensor(\"quadric_regression/quadric_projection/cond_1/Gather/Reshape_3:0\", shape=(?, 7), dtype=complex128)\n",
      "backward_coeffs_to_nless1 Tensor(\"quadric_regression/quadric_projection/cond_1/strided_slice_13:0\", shape=(?, 6), dtype=complex128)\n",
      "unit_lead_coeffs_to_nless1 Tensor(\"quadric_regression/quadric_projection/cond_1/truediv:0\", shape=(?, 6), dtype=complex128)\n",
      "roots Tensor(\"quadric_regression/quadric_projection/cond_1/CompanionEigv:0\", shape=(?, ?), dtype=complex128)\n",
      "sorted_roots Tensor(\"quadric_regression/quadric_projection/cond_1/Gather_1/Reshape_3:0\", shape=(?, ?), dtype=complex128)\n",
      "mask Tensor(\"quadric_regression/quadric_projection/cond_1/Less_1:0\", shape=(?, ?), dtype=bool)\n",
      "fill_value Tensor(\"quadric_regression/quadric_projection/cond_1/Cast_6:0\", shape=(), dtype=complex128)\n",
      "justbeforezeroing Tensor(\"quadric_regression/quadric_projection/cond_1/Gather_1/Reshape_3:0\", shape=(?, ?), dtype=complex128)\n",
      "t Tensor(\"quadric_regression/quadric_projection/cond_1/mul_63:0\", shape=(?, ?), dtype=complex128)\n",
      "f Tensor(\"quadric_regression/quadric_projection/cond_1/mul_64:0\", shape=(?, ?), dtype=complex128)\n",
      "select_result Tensor(\"quadric_regression/quadric_projection/cond_1/add_16:0\", shape=(?, ?), dtype=complex128)\n",
      "(?, ?)\n",
      "munging_dims (2, ?, ?) (1, ?, ?)\n",
      "munged (3, ?, ?)\n",
      "pts Tensor(\"quadric_regression/quadric_projection/cond_1/Select:0\", shape=(?, ?, 3), dtype=complex128)\n",
      "the mask Tensor(\"quadric_regression/quadric_projection/cond_1/Greater_1:0\", shape=(?, ?), dtype=bool)\n",
      "dists Tensor(\"quadric_regression/quadric_projection/cond_1/Sum_1:0\", shape=(?, ?), dtype=float64)\n"
     ]
    },
    {
     "name": "stdout",
     "output_type": "stream",
     "text": [
      "special_pts Tensor(\"quadric_regression/quadric_projection/cond_1/Merge:0\", shape=(?, 3), dtype=complex128)\n",
      "Tensor(\"quadric_regression/training/optimizer/update_quadric_regression/quadric_projection/flattened_quadric/parabolic_constraint/GatherV2_1:0\", shape=(3,), dtype=float64)\n",
      "Tensor(\"quadric_regression/training/optimizer/update_quadric_regression/quadric_projection/flattened_quadric/parabolic_constraint/concat_3:0\", shape=(3,), dtype=float64)\n",
      "(4, 4)\n"
     ]
    },
    {
     "data": {
      "text/plain": [
       "<local_models.local_models.LocalModels at 0x7f120ac31588>"
      ]
     },
     "execution_count": 21,
     "metadata": {},
     "output_type": "execute_result"
    }
   ],
   "source": [
    "parabolic_model = TFParabolic(n_epochs=5000, log_epochs=True, weighted=True, parabolic_constraint=True, \n",
    "    learning_rate=.02, input_shape=3, normalize_weights=True, loss_trim=0.95,\n",
    "    projection_funcs = (regular_parabolic_projection_funcs_3, special_parabolic_projection_funcs_3))\n",
    "parabolic_model = TFParabolic(n_epochs=5000, log_epochs=True, weighted=True, parabolic_constraint=True, \n",
    "    learning_rate=.02, input_shape=3, normalize_weights=True, loss_trim=0.95,\n",
    "    projection_funcs = (regular_parabolic_projection_funcs_3, special_parabolic_projection_funcs_3),\n",
    "    model = parabolic_model.model)\n",
    "local_quadrics = local_models.local_models.LocalModels(parabolic_model)\n",
    "local_quadrics.fit(data)"
   ]
  },
  {
   "cell_type": "code",
   "execution_count": 22,
   "metadata": {},
   "outputs": [
    {
     "data": {
      "text/plain": [
       "[(<tf.Tensor 'quadric_regression/training/gradients/quadric_regression/quadric_projection/map/while/strided_slice/Enter_grad/b_acc_3:0' shape=(10,) dtype=float64>,\n",
       "  <tf.Variable 'quadric_regression/quadric_projection/flattened_quadric:0' shape=(10,) dtype=float64_ref>)]"
      ]
     },
     "execution_count": 22,
     "metadata": {},
     "output_type": "execute_result"
    }
   ],
   "source": [
    "parabolic_model.model.grads"
   ]
  },
  {
   "cell_type": "raw",
   "metadata": {},
   "source": [
    "avg_pt_dist = np.average(local_quadrics.index.query(noisy_moons, k=2)[0][:,1])\n",
    "bandwidth = avg_pt_dist*8\n",
    "avg_pt_dist"
   ]
  },
  {
   "cell_type": "code",
   "execution_count": 23,
   "metadata": {},
   "outputs": [],
   "source": [
    "lm_kernel = local_models.local_models.TriCubeKernel(bandwidth=\"knn\", k=K)"
   ]
  },
  {
   "cell_type": "code",
   "execution_count": 24,
   "metadata": {},
   "outputs": [],
   "source": [
    "def local_odq_shift(quadric_models, data, iterations=100, kernel=None, batch_size=100):\n",
    "    timelog = local_models.loggin.TimeLogger(logger=logger, how_often=1, total=iterations, tag=\"local_odq_shift\")\n",
    "\n",
    "    yield data\n",
    "    for i in range(iterations):\n",
    "        print(i)\n",
    "        with timelog:\n",
    "            if hasattr(kernel.bandwidth, \"__call__\"):\n",
    "                data = quadric_models.predict(data,\n",
    "                    k=kernel.k, weighted=True, kernel=kernel,\n",
    "                    neighbor_beta0s=False, batch_size=batch_size, parallel=True)\n",
    "            else:\n",
    "                data = quadric_models.predict(data,\n",
    "                    r=kernel.support_radius(), weighted=True, kernel=kernel,\n",
    "                    neighbor_beta0s=False, batch_size=batch_size, parallel=True)\n",
    "            yield data\n"
   ]
  },
  {
   "cell_type": "code",
   "execution_count": 25,
   "metadata": {},
   "outputs": [],
   "source": [
    "def reduce_epochs_model_updater(m,rate=0.9):\n",
    "    m.epochs = int(m.epochs*rate)\n",
    "    return m\n",
    "def epoch_schedule_model_updater(m,schedule=None):\n",
    "    #takes in an infinite generator that updates the epochs\n",
    "    if schedule is None:\n",
    "        raise Exception(\"you need an epoch schedule.  No sense in beginning training cause it's all gonna explode in a little while\")\n",
    "    next_epoch_level = next(schedule)\n",
    "    m.epochs = next_epoch_level\n",
    "    return m\n",
    "    \n",
    "def local_odq_shift_unfitted(unfitted_quadric_models, fit_data, predict_data, \n",
    "    iterations=100, kernel=None, batch_size=None, previous_beta0=False, model_updater=None, return_params=False):\n",
    "    \n",
    "    timelog = local_models.loggin.TimeLogger(logger=logger, how_often=1, total=iterations, tag=\"local_odq_shift\")\n",
    "\n",
    "    if batch_size is None:\n",
    "        batch_size = predict_data.shape[0]\n",
    "        \n",
    "    if hasattr(kernel.bandwidth, \"__call__\"):\n",
    "        radius_kwargs = {\"k\":kernel.k}\n",
    "    else:\n",
    "        radius_kwargs = {\"r\":kernel.support_radius()}\n",
    "\n",
    "    beta0 = None\n",
    "\n",
    "    fitted_quadric_models = unfitted_quadric_models.fit(fit_data)\n",
    "    iterated_predictions = [predict_data]\n",
    "    iterated_beta0 = []\n",
    "\n",
    "    for i in range(iterations):\n",
    "        with timelog:\n",
    "            try:\n",
    "                if previous_beta0 or return_params:\n",
    "                    model_postprocessor = lambda m,q,x,y,w: np.concatenate((m.predict(q), local_models.local_models.get_learned_param_vector(m)), axis=1)\n",
    "                    predict_data_cat_params = fitted_quadric_models.transform(predict_data,\n",
    "                        weighted=True, kernel=kernel, neighbor_beta0s=False, \n",
    "                        batch_size=batch_size, model_postprocessor=model_postprocessor, beta0=beta0,\n",
    "                        **radius_kwargs)\n",
    "                    predict_data = predict_data_cat_params[:,:predict_data.shape[1]]\n",
    "                    if previous_beta0:\n",
    "                        beta0 = predict_data_cat_params[:,predict_data.shape[1]:]\n",
    "                    if return_params:\n",
    "                        iterated_beta0.append(predict_data_cat_params[:,predict_data.shape[1]:])\n",
    "                else:\n",
    "                    predict_data = fitted_quadric_models.predict(predict_data,\n",
    "                        weighted=True, kernel=kernel, neighbor_beta0s=False, \n",
    "                        batch_size=batch_size, **radius_kwargs)\n",
    "            except:\n",
    "                logger.info(\"local model FAILED! {}\".format(str(fitted_quadric_models.model.sess.run(fitted_quadric_models.model.model.q))))\n",
    "\n",
    "            iterated_predictions.append(predict_data)\n",
    "            if model_updater is not None:\n",
    "                unfitted_quadric_models.model = model_updater(unfitted_quadric_models.model)\n",
    "    # returns data in [n_pts, n_features, n_iterations] shape\n",
    "    if return_params:\n",
    "        return np.stack(iterated_predictions, axis=-1), np.stack(iterated_beta0, axis=-1)\n",
    "    return np.stack(iterated_predictions, axis=-1)"
   ]
  },
  {
   "cell_type": "code",
   "execution_count": 26,
   "metadata": {},
   "outputs": [],
   "source": [
    "def local_odq_shift_parallel(unfitted_quadric_models, fit_data, predict_data, \n",
    "    iterations=100, kernel=None, batch_size=100, n_jobs=32, previous_beta0=False, model_updater=None, return_params=False):\n",
    "    \n",
    "    base_batch = np.array([0,batch_size])\n",
    "    n_batches = predict_data.shape[0]/batch_size\n",
    "\n",
    "    slicers = [slice(*(base_batch + batch_size*n)) for n in range(int(np.ceil(n_batches)))]\n",
    "\n",
    "    iterated_predictionses = joblib.Parallel(n_jobs=n_jobs, verbose=100)(joblib.delayed(local_odq_shift_unfitted)(\n",
    "                unfitted_quadric_models,\n",
    "                fit_data,\n",
    "                predict_data[slicer],\n",
    "                iterations=iterations,\n",
    "                kernel=kernel,\n",
    "                previous_beta0=previous_beta0,\n",
    "                model_updater=model_updater,\n",
    "                return_params=return_params\n",
    "            )\n",
    "            for slicer in slicers\n",
    "        )\n",
    "    logger.info(\"finished\")\n",
    "    return iterated_predictionses\n",
    "    #all_predictions = np.concatenate(iterated_predictionses, axis=0)\n",
    "    #return 0\n",
    "    #return all_predictions\n"
   ]
  },
  {
   "cell_type": "code",
   "execution_count": null,
   "metadata": {},
   "outputs": [],
   "source": []
  },
  {
   "cell_type": "raw",
   "metadata": {},
   "source": [
    "N_STEPS = 2**2\n",
    "bunny_x = local_models.utils.get_global_grid(subsampled_bunny, outside_range_pct=0.1, n_steps=N_STEPS)\n",
    "bunny_x = local_models.utils.Grid2Vec().fit_transform(bunny_x)"
   ]
  },
  {
   "cell_type": "raw",
   "metadata": {},
   "source": [
    "bunny_x.shape"
   ]
  },
  {
   "cell_type": "raw",
   "metadata": {},
   "source": [
    "odq_shift_iterations = local_odq_shift(local_quadrics, moon_x, iterations=100, kernel=lm_kernel,batch_size=20)"
   ]
  },
  {
   "cell_type": "raw",
   "metadata": {},
   "source": [
    "odq_shifted = []\n",
    "for item in odq_shift_iterations:\n",
    "    odq_shifted.append(item)"
   ]
  },
  {
   "cell_type": "raw",
   "metadata": {},
   "source": [
    "bunny_x[0]"
   ]
  },
  {
   "cell_type": "raw",
   "metadata": {},
   "source": [
    "dz,iz = local_quadrics.index.query(bunny_x[0:1],k=lm_kernel.k)"
   ]
  },
  {
   "cell_type": "raw",
   "metadata": {},
   "source": [
    "iz"
   ]
  },
  {
   "cell_type": "raw",
   "metadata": {},
   "source": [
    "subsampled_bunny[iz].shape"
   ]
  },
  {
   "cell_type": "raw",
   "metadata": {},
   "source": [
    "dz"
   ]
  },
  {
   "cell_type": "raw",
   "metadata": {},
   "source": [
    "wgts = lm_kernel(np.sqrt(np.sum((subsampled_bunny[iz[0]] - bunny_x[0])**2, axis=-1)))\n",
    "wgts"
   ]
  },
  {
   "cell_type": "raw",
   "metadata": {},
   "source": [
    "parabolic_model.fit(subsampled_bunny[iz[0]], sample_weight=wgts)"
   ]
  },
  {
   "cell_type": "raw",
   "metadata": {},
   "source": [
    "parabolic_model.sess.run(parabolic_model.model.q)"
   ]
  },
  {
   "cell_type": "raw",
   "metadata": {},
   "source": [
    "mayavi_plt_pts(subsampled_bunny[iz[0]])"
   ]
  },
  {
   "cell_type": "raw",
   "metadata": {},
   "source": [
    "very_subsampled_bunny.shape"
   ]
  },
  {
   "cell_type": "code",
   "execution_count": 27,
   "metadata": {},
   "outputs": [
    {
     "name": "stdout",
     "output_type": "stream",
     "text": [
      "[Parallel(n_jobs=24)]: Using backend LokyBackend with 24 concurrent workers.\n",
      "Memmapping (shape=(362272, 3), dtype=float64) to new file /dev/shm/joblib_memmapping_folder_3732_9744900565/3732-139715465952392-4bbeb2faaa0148a79bf3b9c52292fe83.pkl\n",
      "Memmapping (shape=(362272,), dtype=int64) to new file /dev/shm/joblib_memmapping_folder_3732_9744900565/3732-139715465952392-a79f4a3ed02548f9afa6f97e34537b60.pkl\n",
      "Pickling array (shape=(16383,), dtype=[('idx_start', '<i8'), ('idx_end', '<i8'), ('is_leaf', '<i8'), ('radius', '<f8')]).\n",
      "Pickling array (shape=(1, 16383, 3), dtype=float64).\n",
      "Pickling array (shape=(1,), dtype=float64).\n",
      "Pickling array (shape=(1, 1), dtype=float64).\n",
      "Pickling array (shape=(10,), dtype=float64).\n",
      "Pickling array (shape=(8, 3), dtype=float64).\n",
      "Memmapping (shape=(362272, 3), dtype=float64) to old file /dev/shm/joblib_memmapping_folder_3732_9744900565/3732-139715465952392-4bbeb2faaa0148a79bf3b9c52292fe83.pkl\n",
      "Memmapping (shape=(362272,), dtype=int64) to old file /dev/shm/joblib_memmapping_folder_3732_9744900565/3732-139715465952392-a79f4a3ed02548f9afa6f97e34537b60.pkl\n",
      "Pickling array (shape=(16383,), dtype=[('idx_start', '<i8'), ('idx_end', '<i8'), ('is_leaf', '<i8'), ('radius', '<f8')]).\n",
      "Pickling array (shape=(1, 16383, 3), dtype=float64).\n",
      "Pickling array (shape=(1,), dtype=float64).\n",
      "Pickling array (shape=(1, 1), dtype=float64).\n",
      "Pickling array (shape=(10,), dtype=float64).\n",
      "Pickling array (shape=(8, 3), dtype=float64).\n",
      "Memmapping (shape=(362272, 3), dtype=float64) to old file /dev/shm/joblib_memmapping_folder_3732_9744900565/3732-139715465952392-4bbeb2faaa0148a79bf3b9c52292fe83.pkl\n",
      "Memmapping (shape=(362272,), dtype=int64) to old file /dev/shm/joblib_memmapping_folder_3732_9744900565/3732-139715465952392-a79f4a3ed02548f9afa6f97e34537b60.pkl\n",
      "Pickling array (shape=(16383,), dtype=[('idx_start', '<i8'), ('idx_end', '<i8'), ('is_leaf', '<i8'), ('radius', '<f8')]).\n",
      "Pickling array (shape=(1, 16383, 3), dtype=float64).\n",
      "Pickling array (shape=(1,), dtype=float64).\n",
      "Pickling array (shape=(1, 1), dtype=float64).\n",
      "Pickling array (shape=(10,), dtype=float64).\n",
      "Pickling array (shape=(8, 3), dtype=float64).\n",
      "Memmapping (shape=(362272, 3), dtype=float64) to old file /dev/shm/joblib_memmapping_folder_3732_9744900565/3732-139715465952392-4bbeb2faaa0148a79bf3b9c52292fe83.pkl\n",
      "Memmapping (shape=(362272,), dtype=int64) to old file /dev/shm/joblib_memmapping_folder_3732_9744900565/3732-139715465952392-a79f4a3ed02548f9afa6f97e34537b60.pkl\n",
      "Pickling array (shape=(16383,), dtype=[('idx_start', '<i8'), ('idx_end', '<i8'), ('is_leaf', '<i8'), ('radius', '<f8')]).\n",
      "Pickling array (shape=(1, 16383, 3), dtype=float64).\n",
      "Pickling array (shape=(1,), dtype=float64).\n",
      "Pickling array (shape=(1, 1), dtype=float64).\n",
      "Pickling array (shape=(10,), dtype=float64).\n",
      "Pickling array (shape=(8, 3), dtype=float64).\n",
      "Memmapping (shape=(362272, 3), dtype=float64) to old file /dev/shm/joblib_memmapping_folder_3732_9744900565/3732-139715465952392-4bbeb2faaa0148a79bf3b9c52292fe83.pkl\n",
      "Memmapping (shape=(362272,), dtype=int64) to old file /dev/shm/joblib_memmapping_folder_3732_9744900565/3732-139715465952392-a79f4a3ed02548f9afa6f97e34537b60.pkl\n",
      "Pickling array (shape=(16383,), dtype=[('idx_start', '<i8'), ('idx_end', '<i8'), ('is_leaf', '<i8'), ('radius', '<f8')]).\n",
      "Pickling array (shape=(1, 16383, 3), dtype=float64).\n",
      "Pickling array (shape=(1,), dtype=float64).\n",
      "Pickling array (shape=(1, 1), dtype=float64).\n",
      "Pickling array (shape=(10,), dtype=float64).\n",
      "Pickling array (shape=(8, 3), dtype=float64).\n",
      "Memmapping (shape=(362272, 3), dtype=float64) to old file /dev/shm/joblib_memmapping_folder_3732_9744900565/3732-139715465952392-4bbeb2faaa0148a79bf3b9c52292fe83.pkl\n",
      "Memmapping (shape=(362272,), dtype=int64) to old file /dev/shm/joblib_memmapping_folder_3732_9744900565/3732-139715465952392-a79f4a3ed02548f9afa6f97e34537b60.pkl\n",
      "Pickling array (shape=(16383,), dtype=[('idx_start', '<i8'), ('idx_end', '<i8'), ('is_leaf', '<i8'), ('radius', '<f8')]).\n",
      "Pickling array (shape=(1, 16383, 3), dtype=float64).\n",
      "Pickling array (shape=(1,), dtype=float64).\n",
      "Pickling array (shape=(1, 1), dtype=float64).\n",
      "Pickling array (shape=(10,), dtype=float64).\n",
      "Pickling array (shape=(8, 3), dtype=float64).\n",
      "Memmapping (shape=(362272, 3), dtype=float64) to old file /dev/shm/joblib_memmapping_folder_3732_9744900565/3732-139715465952392-4bbeb2faaa0148a79bf3b9c52292fe83.pkl\n",
      "Memmapping (shape=(362272,), dtype=int64) to old file /dev/shm/joblib_memmapping_folder_3732_9744900565/3732-139715465952392-a79f4a3ed02548f9afa6f97e34537b60.pkl\n",
      "Pickling array (shape=(16383,), dtype=[('idx_start', '<i8'), ('idx_end', '<i8'), ('is_leaf', '<i8'), ('radius', '<f8')]).\n",
      "Pickling array (shape=(1, 16383, 3), dtype=float64).\n",
      "Pickling array (shape=(1,), dtype=float64).\n",
      "Pickling array (shape=(1, 1), dtype=float64).\n",
      "Pickling array (shape=(10,), dtype=float64).\n",
      "Pickling array (shape=(8, 3), dtype=float64).\n",
      "Memmapping (shape=(362272, 3), dtype=float64) to old file /dev/shm/joblib_memmapping_folder_3732_9744900565/3732-139715465952392-4bbeb2faaa0148a79bf3b9c52292fe83.pkl\n",
      "Memmapping (shape=(362272,), dtype=int64) to old file /dev/shm/joblib_memmapping_folder_3732_9744900565/3732-139715465952392-a79f4a3ed02548f9afa6f97e34537b60.pkl\n",
      "Pickling array (shape=(16383,), dtype=[('idx_start', '<i8'), ('idx_end', '<i8'), ('is_leaf', '<i8'), ('radius', '<f8')]).\n",
      "Pickling array (shape=(1, 16383, 3), dtype=float64).\n",
      "Pickling array (shape=(1,), dtype=float64).\n",
      "Pickling array (shape=(1, 1), dtype=float64).\n",
      "Pickling array (shape=(10,), dtype=float64).\n",
      "Pickling array (shape=(8, 3), dtype=float64).\n",
      "Memmapping (shape=(362272, 3), dtype=float64) to old file /dev/shm/joblib_memmapping_folder_3732_9744900565/3732-139715465952392-4bbeb2faaa0148a79bf3b9c52292fe83.pkl\n",
      "Memmapping (shape=(362272,), dtype=int64) to old file /dev/shm/joblib_memmapping_folder_3732_9744900565/3732-139715465952392-a79f4a3ed02548f9afa6f97e34537b60.pkl\n",
      "Pickling array (shape=(16383,), dtype=[('idx_start', '<i8'), ('idx_end', '<i8'), ('is_leaf', '<i8'), ('radius', '<f8')]).\n",
      "Pickling array (shape=(1, 16383, 3), dtype=float64).\n",
      "Pickling array (shape=(1,), dtype=float64).\n",
      "Pickling array (shape=(1, 1), dtype=float64).\n",
      "Pickling array (shape=(10,), dtype=float64).\n",
      "Pickling array (shape=(8, 3), dtype=float64).\n",
      "Memmapping (shape=(362272, 3), dtype=float64) to old file /dev/shm/joblib_memmapping_folder_3732_9744900565/3732-139715465952392-4bbeb2faaa0148a79bf3b9c52292fe83.pkl\n",
      "Memmapping (shape=(362272,), dtype=int64) to old file /dev/shm/joblib_memmapping_folder_3732_9744900565/3732-139715465952392-a79f4a3ed02548f9afa6f97e34537b60.pkl\n",
      "Pickling array (shape=(16383,), dtype=[('idx_start', '<i8'), ('idx_end', '<i8'), ('is_leaf', '<i8'), ('radius', '<f8')]).\n",
      "Pickling array (shape=(1, 16383, 3), dtype=float64).\n",
      "Pickling array (shape=(1,), dtype=float64).\n",
      "Pickling array (shape=(1, 1), dtype=float64).\n",
      "Pickling array (shape=(10,), dtype=float64).\n",
      "Pickling array (shape=(8, 3), dtype=float64).\n",
      "Memmapping (shape=(362272, 3), dtype=float64) to old file /dev/shm/joblib_memmapping_folder_3732_9744900565/3732-139715465952392-4bbeb2faaa0148a79bf3b9c52292fe83.pkl\n",
      "Memmapping (shape=(362272,), dtype=int64) to old file /dev/shm/joblib_memmapping_folder_3732_9744900565/3732-139715465952392-a79f4a3ed02548f9afa6f97e34537b60.pkl\n",
      "Pickling array (shape=(16383,), dtype=[('idx_start', '<i8'), ('idx_end', '<i8'), ('is_leaf', '<i8'), ('radius', '<f8')]).\n",
      "Pickling array (shape=(1, 16383, 3), dtype=float64).\n",
      "Pickling array (shape=(1,), dtype=float64).\n",
      "Pickling array (shape=(1, 1), dtype=float64).\n",
      "Pickling array (shape=(10,), dtype=float64).\n",
      "Pickling array (shape=(8, 3), dtype=float64).\n",
      "Memmapping (shape=(362272, 3), dtype=float64) to old file /dev/shm/joblib_memmapping_folder_3732_9744900565/3732-139715465952392-4bbeb2faaa0148a79bf3b9c52292fe83.pkl\n",
      "Memmapping (shape=(362272,), dtype=int64) to old file /dev/shm/joblib_memmapping_folder_3732_9744900565/3732-139715465952392-a79f4a3ed02548f9afa6f97e34537b60.pkl\n",
      "Pickling array (shape=(16383,), dtype=[('idx_start', '<i8'), ('idx_end', '<i8'), ('is_leaf', '<i8'), ('radius', '<f8')]).\n",
      "Pickling array (shape=(1, 16383, 3), dtype=float64).\n",
      "Pickling array (shape=(1,), dtype=float64).\n",
      "Pickling array (shape=(1, 1), dtype=float64).\n"
     ]
    },
    {
     "name": "stdout",
     "output_type": "stream",
     "text": [
      "Pickling array (shape=(10,), dtype=float64).\n",
      "Pickling array (shape=(8, 3), dtype=float64).\n",
      "Memmapping (shape=(362272, 3), dtype=float64) to old file /dev/shm/joblib_memmapping_folder_3732_9744900565/3732-139715465952392-4bbeb2faaa0148a79bf3b9c52292fe83.pkl\n",
      "Memmapping (shape=(362272,), dtype=int64) to old file /dev/shm/joblib_memmapping_folder_3732_9744900565/3732-139715465952392-a79f4a3ed02548f9afa6f97e34537b60.pkl\n",
      "Pickling array (shape=(16383,), dtype=[('idx_start', '<i8'), ('idx_end', '<i8'), ('is_leaf', '<i8'), ('radius', '<f8')]).\n",
      "Pickling array (shape=(1, 16383, 3), dtype=float64).\n",
      "Pickling array (shape=(1,), dtype=float64).\n",
      "Pickling array (shape=(1, 1), dtype=float64).\n",
      "Pickling array (shape=(10,), dtype=float64).\n",
      "Pickling array (shape=(8, 3), dtype=float64).\n",
      "Memmapping (shape=(362272, 3), dtype=float64) to old file /dev/shm/joblib_memmapping_folder_3732_9744900565/3732-139715465952392-4bbeb2faaa0148a79bf3b9c52292fe83.pkl\n",
      "Memmapping (shape=(362272,), dtype=int64) to old file /dev/shm/joblib_memmapping_folder_3732_9744900565/3732-139715465952392-a79f4a3ed02548f9afa6f97e34537b60.pkl\n",
      "Pickling array (shape=(16383,), dtype=[('idx_start', '<i8'), ('idx_end', '<i8'), ('is_leaf', '<i8'), ('radius', '<f8')]).\n",
      "Pickling array (shape=(1, 16383, 3), dtype=float64).\n",
      "Pickling array (shape=(1,), dtype=float64).\n",
      "Pickling array (shape=(1, 1), dtype=float64).\n",
      "Pickling array (shape=(10,), dtype=float64).\n",
      "Pickling array (shape=(8, 3), dtype=float64).\n",
      "Memmapping (shape=(362272, 3), dtype=float64) to old file /dev/shm/joblib_memmapping_folder_3732_9744900565/3732-139715465952392-4bbeb2faaa0148a79bf3b9c52292fe83.pkl\n",
      "Memmapping (shape=(362272,), dtype=int64) to old file /dev/shm/joblib_memmapping_folder_3732_9744900565/3732-139715465952392-a79f4a3ed02548f9afa6f97e34537b60.pkl\n",
      "Pickling array (shape=(16383,), dtype=[('idx_start', '<i8'), ('idx_end', '<i8'), ('is_leaf', '<i8'), ('radius', '<f8')]).\n",
      "Pickling array (shape=(1, 16383, 3), dtype=float64).\n",
      "Pickling array (shape=(1,), dtype=float64).\n",
      "Pickling array (shape=(1, 1), dtype=float64).\n",
      "Pickling array (shape=(10,), dtype=float64).\n",
      "Pickling array (shape=(8, 3), dtype=float64).\n",
      "Memmapping (shape=(362272, 3), dtype=float64) to old file /dev/shm/joblib_memmapping_folder_3732_9744900565/3732-139715465952392-4bbeb2faaa0148a79bf3b9c52292fe83.pkl\n",
      "Memmapping (shape=(362272,), dtype=int64) to old file /dev/shm/joblib_memmapping_folder_3732_9744900565/3732-139715465952392-a79f4a3ed02548f9afa6f97e34537b60.pkl\n",
      "Pickling array (shape=(16383,), dtype=[('idx_start', '<i8'), ('idx_end', '<i8'), ('is_leaf', '<i8'), ('radius', '<f8')]).\n",
      "Pickling array (shape=(1, 16383, 3), dtype=float64).\n",
      "Pickling array (shape=(1,), dtype=float64).\n",
      "Pickling array (shape=(1, 1), dtype=float64).\n",
      "Pickling array (shape=(10,), dtype=float64).\n",
      "Pickling array (shape=(8, 3), dtype=float64).\n",
      "Memmapping (shape=(362272, 3), dtype=float64) to old file /dev/shm/joblib_memmapping_folder_3732_9744900565/3732-139715465952392-4bbeb2faaa0148a79bf3b9c52292fe83.pkl\n",
      "Memmapping (shape=(362272,), dtype=int64) to old file /dev/shm/joblib_memmapping_folder_3732_9744900565/3732-139715465952392-a79f4a3ed02548f9afa6f97e34537b60.pkl\n",
      "Pickling array (shape=(16383,), dtype=[('idx_start', '<i8'), ('idx_end', '<i8'), ('is_leaf', '<i8'), ('radius', '<f8')]).\n",
      "Pickling array (shape=(1, 16383, 3), dtype=float64).\n",
      "Pickling array (shape=(1,), dtype=float64).\n",
      "Pickling array (shape=(1, 1), dtype=float64).\n",
      "Pickling array (shape=(10,), dtype=float64).\n",
      "Pickling array (shape=(8, 3), dtype=float64).\n",
      "Memmapping (shape=(362272, 3), dtype=float64) to old file /dev/shm/joblib_memmapping_folder_3732_9744900565/3732-139715465952392-4bbeb2faaa0148a79bf3b9c52292fe83.pkl\n",
      "Memmapping (shape=(362272,), dtype=int64) to old file /dev/shm/joblib_memmapping_folder_3732_9744900565/3732-139715465952392-a79f4a3ed02548f9afa6f97e34537b60.pkl\n",
      "Pickling array (shape=(16383,), dtype=[('idx_start', '<i8'), ('idx_end', '<i8'), ('is_leaf', '<i8'), ('radius', '<f8')]).\n",
      "Pickling array (shape=(1, 16383, 3), dtype=float64).\n",
      "Pickling array (shape=(1,), dtype=float64).\n",
      "Pickling array (shape=(1, 1), dtype=float64).\n",
      "Pickling array (shape=(10,), dtype=float64).\n",
      "Pickling array (shape=(8, 3), dtype=float64).\n",
      "Memmapping (shape=(362272, 3), dtype=float64) to old file /dev/shm/joblib_memmapping_folder_3732_9744900565/3732-139715465952392-4bbeb2faaa0148a79bf3b9c52292fe83.pkl\n",
      "Memmapping (shape=(362272,), dtype=int64) to old file /dev/shm/joblib_memmapping_folder_3732_9744900565/3732-139715465952392-a79f4a3ed02548f9afa6f97e34537b60.pkl\n",
      "Pickling array (shape=(16383,), dtype=[('idx_start', '<i8'), ('idx_end', '<i8'), ('is_leaf', '<i8'), ('radius', '<f8')]).\n",
      "Pickling array (shape=(1, 16383, 3), dtype=float64).\n",
      "Pickling array (shape=(1,), dtype=float64).\n",
      "Pickling array (shape=(1, 1), dtype=float64).\n",
      "Pickling array (shape=(10,), dtype=float64).\n",
      "Pickling array (shape=(8, 3), dtype=float64).\n",
      "Memmapping (shape=(362272, 3), dtype=float64) to old file /dev/shm/joblib_memmapping_folder_3732_9744900565/3732-139715465952392-4bbeb2faaa0148a79bf3b9c52292fe83.pkl\n",
      "Memmapping (shape=(362272,), dtype=int64) to old file /dev/shm/joblib_memmapping_folder_3732_9744900565/3732-139715465952392-a79f4a3ed02548f9afa6f97e34537b60.pkl\n",
      "Pickling array (shape=(16383,), dtype=[('idx_start', '<i8'), ('idx_end', '<i8'), ('is_leaf', '<i8'), ('radius', '<f8')]).\n",
      "Pickling array (shape=(1, 16383, 3), dtype=float64).\n",
      "Pickling array (shape=(1,), dtype=float64).\n",
      "Pickling array (shape=(1, 1), dtype=float64).\n",
      "Pickling array (shape=(10,), dtype=float64).\n",
      "Pickling array (shape=(8, 3), dtype=float64).\n",
      "Memmapping (shape=(362272, 3), dtype=float64) to old file /dev/shm/joblib_memmapping_folder_3732_9744900565/3732-139715465952392-4bbeb2faaa0148a79bf3b9c52292fe83.pkl\n",
      "Memmapping (shape=(362272,), dtype=int64) to old file /dev/shm/joblib_memmapping_folder_3732_9744900565/3732-139715465952392-a79f4a3ed02548f9afa6f97e34537b60.pkl\n",
      "Pickling array (shape=(16383,), dtype=[('idx_start', '<i8'), ('idx_end', '<i8'), ('is_leaf', '<i8'), ('radius', '<f8')]).\n",
      "Pickling array (shape=(1, 16383, 3), dtype=float64).\n",
      "Pickling array (shape=(1,), dtype=float64).\n",
      "Pickling array (shape=(1, 1), dtype=float64).\n",
      "Pickling array (shape=(10,), dtype=float64).\n",
      "Pickling array (shape=(8, 3), dtype=float64).\n",
      "Memmapping (shape=(362272, 3), dtype=float64) to old file /dev/shm/joblib_memmapping_folder_3732_9744900565/3732-139715465952392-4bbeb2faaa0148a79bf3b9c52292fe83.pkl\n",
      "Memmapping (shape=(362272,), dtype=int64) to old file /dev/shm/joblib_memmapping_folder_3732_9744900565/3732-139715465952392-a79f4a3ed02548f9afa6f97e34537b60.pkl\n",
      "Pickling array (shape=(16383,), dtype=[('idx_start', '<i8'), ('idx_end', '<i8'), ('is_leaf', '<i8'), ('radius', '<f8')]).\n",
      "Pickling array (shape=(1, 16383, 3), dtype=float64).\n",
      "Pickling array (shape=(1,), dtype=float64).\n",
      "Pickling array (shape=(1, 1), dtype=float64).\n",
      "Pickling array (shape=(10,), dtype=float64).\n",
      "Pickling array (shape=(8, 3), dtype=float64).\n",
      "Memmapping (shape=(362272, 3), dtype=float64) to old file /dev/shm/joblib_memmapping_folder_3732_9744900565/3732-139715465952392-4bbeb2faaa0148a79bf3b9c52292fe83.pkl\n",
      "Memmapping (shape=(362272,), dtype=int64) to old file /dev/shm/joblib_memmapping_folder_3732_9744900565/3732-139715465952392-a79f4a3ed02548f9afa6f97e34537b60.pkl\n",
      "Pickling array (shape=(16383,), dtype=[('idx_start', '<i8'), ('idx_end', '<i8'), ('is_leaf', '<i8'), ('radius', '<f8')]).\n",
      "Pickling array (shape=(1, 16383, 3), dtype=float64).\n",
      "Pickling array (shape=(1,), dtype=float64).\n",
      "Pickling array (shape=(1, 1), dtype=float64).\n",
      "Pickling array (shape=(10,), dtype=float64).\n",
      "Pickling array (shape=(5, 3), dtype=float64).\n",
      "[Parallel(n_jobs=24)]: Done   1 tasks      | elapsed:   47.6s\n",
      "[Parallel(n_jobs=24)]: Done   2 out of  23 | elapsed:   47.6s remaining:  8.3min\n",
      "[Parallel(n_jobs=24)]: Done   3 out of  23 | elapsed:   47.6s remaining:  5.3min\n",
      "[Parallel(n_jobs=24)]: Done   4 out of  23 | elapsed:   47.6s remaining:  3.8min\n",
      "[Parallel(n_jobs=24)]: Done   5 out of  23 | elapsed:   47.6s remaining:  2.9min\n",
      "[Parallel(n_jobs=24)]: Done   6 out of  23 | elapsed:   47.6s remaining:  2.2min\n",
      "[Parallel(n_jobs=24)]: Done   7 out of  23 | elapsed:   47.6s remaining:  1.8min\n",
      "[Parallel(n_jobs=24)]: Done   8 out of  23 | elapsed:   47.6s remaining:  1.5min\n",
      "[Parallel(n_jobs=24)]: Done   9 out of  23 | elapsed:   47.6s remaining:  1.2min\n",
      "[Parallel(n_jobs=24)]: Done  10 out of  23 | elapsed:   47.6s remaining:  1.0min\n",
      "[Parallel(n_jobs=24)]: Done  11 out of  23 | elapsed:   47.6s remaining:   51.9s\n",
      "[Parallel(n_jobs=24)]: Done  12 out of  23 | elapsed:   47.6s remaining:   43.6s\n",
      "[Parallel(n_jobs=24)]: Done  13 out of  23 | elapsed:   47.6s remaining:   36.6s\n",
      "[Parallel(n_jobs=24)]: Done  14 out of  23 | elapsed:   47.6s remaining:   30.6s\n",
      "[Parallel(n_jobs=24)]: Done  15 out of  23 | elapsed:   47.6s remaining:   25.4s\n",
      "[Parallel(n_jobs=24)]: Done  16 out of  23 | elapsed:   47.6s remaining:   20.8s\n",
      "[Parallel(n_jobs=24)]: Done  17 out of  23 | elapsed:   47.6s remaining:   16.8s\n",
      "[Parallel(n_jobs=24)]: Done  18 out of  23 | elapsed:   47.6s remaining:   13.2s\n",
      "[Parallel(n_jobs=24)]: Done  19 out of  23 | elapsed:   47.6s remaining:   10.0s\n",
      "[Parallel(n_jobs=24)]: Done  20 out of  23 | elapsed:   47.6s remaining:    7.1s\n",
      "[Parallel(n_jobs=24)]: Done  21 out of  23 | elapsed:   47.6s remaining:    4.5s\n",
      "[Parallel(n_jobs=24)]: Done  23 out of  23 | elapsed:   47.6s remaining:    0.0s\n"
     ]
    },
    {
     "ename": "KeyboardInterrupt",
     "evalue": "",
     "output_type": "error",
     "traceback": [
      "\u001b[0;31m---------------------------------------------------------------------------\u001b[0m",
      "\u001b[0;31mKeyboardInterrupt\u001b[0m                         Traceback (most recent call last)",
      "\u001b[0;32m<ipython-input-27-df3cb1e0d9c5>\u001b[0m in \u001b[0;36m<module>\u001b[0;34m\u001b[0m\n\u001b[1;32m      5\u001b[0m     odq_shift_iterations = local_odq_shift_parallel(local_quadrics, data, very_subsampled_bunny, \n\u001b[1;32m      6\u001b[0m         \u001b[0miterations\u001b[0m\u001b[0;34m=\u001b[0m\u001b[0;36m40\u001b[0m\u001b[0;34m,\u001b[0m \u001b[0mkernel\u001b[0m\u001b[0;34m=\u001b[0m\u001b[0mlm_kernel\u001b[0m\u001b[0;34m,\u001b[0m \u001b[0mbatch_size\u001b[0m\u001b[0;34m=\u001b[0m\u001b[0mint\u001b[0m\u001b[0;34m(\u001b[0m\u001b[0mnp\u001b[0m\u001b[0;34m.\u001b[0m\u001b[0mceil\u001b[0m\u001b[0;34m(\u001b[0m\u001b[0mvery_subsampled_bunny\u001b[0m\u001b[0;34m.\u001b[0m\u001b[0mshape\u001b[0m\u001b[0;34m[\u001b[0m\u001b[0;36m0\u001b[0m\u001b[0;34m]\u001b[0m\u001b[0;34m/\u001b[0m\u001b[0mN_JOBS\u001b[0m\u001b[0;34m)\u001b[0m\u001b[0;34m)\u001b[0m\u001b[0;34m,\u001b[0m\u001b[0;34m\u001b[0m\u001b[0m\n\u001b[0;32m----> 7\u001b[0;31m         n_jobs=N_JOBS, return_params=True)\n\u001b[0m",
      "\u001b[0;32m<ipython-input-26-49f8414d08b9>\u001b[0m in \u001b[0;36mlocal_odq_shift_parallel\u001b[0;34m(unfitted_quadric_models, fit_data, predict_data, iterations, kernel, batch_size, n_jobs, previous_beta0, model_updater, return_params)\u001b[0m\n\u001b[1;32m     17\u001b[0m                 \u001b[0mreturn_params\u001b[0m\u001b[0;34m=\u001b[0m\u001b[0mreturn_params\u001b[0m\u001b[0;34m\u001b[0m\u001b[0m\n\u001b[1;32m     18\u001b[0m             )\n\u001b[0;32m---> 19\u001b[0;31m             \u001b[0;32mfor\u001b[0m \u001b[0mslicer\u001b[0m \u001b[0;32min\u001b[0m \u001b[0mslicers\u001b[0m\u001b[0;34m\u001b[0m\u001b[0m\n\u001b[0m\u001b[1;32m     20\u001b[0m         )\n\u001b[1;32m     21\u001b[0m     \u001b[0mlogger\u001b[0m\u001b[0;34m.\u001b[0m\u001b[0minfo\u001b[0m\u001b[0;34m(\u001b[0m\u001b[0;34m\"finished\"\u001b[0m\u001b[0;34m)\u001b[0m\u001b[0;34m\u001b[0m\u001b[0m\n",
      "\u001b[0;32m/usr/local/lib/python3.5/dist-packages/joblib/parallel.py\u001b[0m in \u001b[0;36m__call__\u001b[0;34m(self, iterable)\u001b[0m\n\u001b[1;32m   1014\u001b[0m \u001b[0;34m\u001b[0m\u001b[0m\n\u001b[1;32m   1015\u001b[0m             \u001b[0;32mwith\u001b[0m \u001b[0mself\u001b[0m\u001b[0;34m.\u001b[0m\u001b[0m_backend\u001b[0m\u001b[0;34m.\u001b[0m\u001b[0mretrieval_context\u001b[0m\u001b[0;34m(\u001b[0m\u001b[0;34m)\u001b[0m\u001b[0;34m:\u001b[0m\u001b[0;34m\u001b[0m\u001b[0m\n\u001b[0;32m-> 1016\u001b[0;31m                 \u001b[0mself\u001b[0m\u001b[0;34m.\u001b[0m\u001b[0mretrieve\u001b[0m\u001b[0;34m(\u001b[0m\u001b[0;34m)\u001b[0m\u001b[0;34m\u001b[0m\u001b[0m\n\u001b[0m\u001b[1;32m   1017\u001b[0m             \u001b[0;31m# Make sure that we get a last message telling us we are done\u001b[0m\u001b[0;34m\u001b[0m\u001b[0;34m\u001b[0m\u001b[0m\n\u001b[1;32m   1018\u001b[0m             \u001b[0melapsed_time\u001b[0m \u001b[0;34m=\u001b[0m \u001b[0mtime\u001b[0m\u001b[0;34m.\u001b[0m\u001b[0mtime\u001b[0m\u001b[0;34m(\u001b[0m\u001b[0;34m)\u001b[0m \u001b[0;34m-\u001b[0m \u001b[0mself\u001b[0m\u001b[0;34m.\u001b[0m\u001b[0m_start_time\u001b[0m\u001b[0;34m\u001b[0m\u001b[0m\n",
      "\u001b[0;32m/usr/local/lib/python3.5/dist-packages/joblib/parallel.py\u001b[0m in \u001b[0;36mretrieve\u001b[0;34m(self)\u001b[0m\n\u001b[1;32m    906\u001b[0m             \u001b[0;32mtry\u001b[0m\u001b[0;34m:\u001b[0m\u001b[0;34m\u001b[0m\u001b[0m\n\u001b[1;32m    907\u001b[0m                 \u001b[0;32mif\u001b[0m \u001b[0mgetattr\u001b[0m\u001b[0;34m(\u001b[0m\u001b[0mself\u001b[0m\u001b[0;34m.\u001b[0m\u001b[0m_backend\u001b[0m\u001b[0;34m,\u001b[0m \u001b[0;34m'supports_timeout'\u001b[0m\u001b[0;34m,\u001b[0m \u001b[0;32mFalse\u001b[0m\u001b[0;34m)\u001b[0m\u001b[0;34m:\u001b[0m\u001b[0;34m\u001b[0m\u001b[0m\n\u001b[0;32m--> 908\u001b[0;31m                     \u001b[0mself\u001b[0m\u001b[0;34m.\u001b[0m\u001b[0m_output\u001b[0m\u001b[0;34m.\u001b[0m\u001b[0mextend\u001b[0m\u001b[0;34m(\u001b[0m\u001b[0mjob\u001b[0m\u001b[0;34m.\u001b[0m\u001b[0mget\u001b[0m\u001b[0;34m(\u001b[0m\u001b[0mtimeout\u001b[0m\u001b[0;34m=\u001b[0m\u001b[0mself\u001b[0m\u001b[0;34m.\u001b[0m\u001b[0mtimeout\u001b[0m\u001b[0;34m)\u001b[0m\u001b[0;34m)\u001b[0m\u001b[0;34m\u001b[0m\u001b[0m\n\u001b[0m\u001b[1;32m    909\u001b[0m                 \u001b[0;32melse\u001b[0m\u001b[0;34m:\u001b[0m\u001b[0;34m\u001b[0m\u001b[0m\n\u001b[1;32m    910\u001b[0m                     \u001b[0mself\u001b[0m\u001b[0;34m.\u001b[0m\u001b[0m_output\u001b[0m\u001b[0;34m.\u001b[0m\u001b[0mextend\u001b[0m\u001b[0;34m(\u001b[0m\u001b[0mjob\u001b[0m\u001b[0;34m.\u001b[0m\u001b[0mget\u001b[0m\u001b[0;34m(\u001b[0m\u001b[0;34m)\u001b[0m\u001b[0;34m)\u001b[0m\u001b[0;34m\u001b[0m\u001b[0m\n",
      "\u001b[0;32m/usr/local/lib/python3.5/dist-packages/joblib/_parallel_backends.py\u001b[0m in \u001b[0;36mwrap_future_result\u001b[0;34m(future, timeout)\u001b[0m\n\u001b[1;32m    552\u001b[0m         AsyncResults.get from multiprocessing.\"\"\"\n\u001b[1;32m    553\u001b[0m         \u001b[0;32mtry\u001b[0m\u001b[0;34m:\u001b[0m\u001b[0;34m\u001b[0m\u001b[0m\n\u001b[0;32m--> 554\u001b[0;31m             \u001b[0;32mreturn\u001b[0m \u001b[0mfuture\u001b[0m\u001b[0;34m.\u001b[0m\u001b[0mresult\u001b[0m\u001b[0;34m(\u001b[0m\u001b[0mtimeout\u001b[0m\u001b[0;34m=\u001b[0m\u001b[0mtimeout\u001b[0m\u001b[0;34m)\u001b[0m\u001b[0;34m\u001b[0m\u001b[0m\n\u001b[0m\u001b[1;32m    555\u001b[0m         \u001b[0;32mexcept\u001b[0m \u001b[0mLokyTimeoutError\u001b[0m\u001b[0;34m:\u001b[0m\u001b[0;34m\u001b[0m\u001b[0m\n\u001b[1;32m    556\u001b[0m             \u001b[0;32mraise\u001b[0m \u001b[0mTimeoutError\u001b[0m\u001b[0;34m(\u001b[0m\u001b[0;34m)\u001b[0m\u001b[0;34m\u001b[0m\u001b[0m\n",
      "\u001b[0;32m/usr/lib/python3.5/concurrent/futures/_base.py\u001b[0m in \u001b[0;36mresult\u001b[0;34m(self, timeout)\u001b[0m\n\u001b[1;32m    398\u001b[0m                 \u001b[0;32mreturn\u001b[0m \u001b[0mself\u001b[0m\u001b[0;34m.\u001b[0m\u001b[0m__get_result\u001b[0m\u001b[0;34m(\u001b[0m\u001b[0;34m)\u001b[0m\u001b[0;34m\u001b[0m\u001b[0m\n\u001b[1;32m    399\u001b[0m \u001b[0;34m\u001b[0m\u001b[0m\n\u001b[0;32m--> 400\u001b[0;31m             \u001b[0mself\u001b[0m\u001b[0;34m.\u001b[0m\u001b[0m_condition\u001b[0m\u001b[0;34m.\u001b[0m\u001b[0mwait\u001b[0m\u001b[0;34m(\u001b[0m\u001b[0mtimeout\u001b[0m\u001b[0;34m)\u001b[0m\u001b[0;34m\u001b[0m\u001b[0m\n\u001b[0m\u001b[1;32m    401\u001b[0m \u001b[0;34m\u001b[0m\u001b[0m\n\u001b[1;32m    402\u001b[0m             \u001b[0;32mif\u001b[0m \u001b[0mself\u001b[0m\u001b[0;34m.\u001b[0m\u001b[0m_state\u001b[0m \u001b[0;32min\u001b[0m \u001b[0;34m[\u001b[0m\u001b[0mCANCELLED\u001b[0m\u001b[0;34m,\u001b[0m \u001b[0mCANCELLED_AND_NOTIFIED\u001b[0m\u001b[0;34m]\u001b[0m\u001b[0;34m:\u001b[0m\u001b[0;34m\u001b[0m\u001b[0m\n",
      "\u001b[0;32m/usr/lib/python3.5/threading.py\u001b[0m in \u001b[0;36mwait\u001b[0;34m(self, timeout)\u001b[0m\n\u001b[1;32m    291\u001b[0m         \u001b[0;32mtry\u001b[0m\u001b[0;34m:\u001b[0m    \u001b[0;31m# restore state no matter what (e.g., KeyboardInterrupt)\u001b[0m\u001b[0;34m\u001b[0m\u001b[0m\n\u001b[1;32m    292\u001b[0m             \u001b[0;32mif\u001b[0m \u001b[0mtimeout\u001b[0m \u001b[0;32mis\u001b[0m \u001b[0;32mNone\u001b[0m\u001b[0;34m:\u001b[0m\u001b[0;34m\u001b[0m\u001b[0m\n\u001b[0;32m--> 293\u001b[0;31m                 \u001b[0mwaiter\u001b[0m\u001b[0;34m.\u001b[0m\u001b[0macquire\u001b[0m\u001b[0;34m(\u001b[0m\u001b[0;34m)\u001b[0m\u001b[0;34m\u001b[0m\u001b[0m\n\u001b[0m\u001b[1;32m    294\u001b[0m                 \u001b[0mgotit\u001b[0m \u001b[0;34m=\u001b[0m \u001b[0;32mTrue\u001b[0m\u001b[0;34m\u001b[0m\u001b[0m\n\u001b[1;32m    295\u001b[0m             \u001b[0;32melse\u001b[0m\u001b[0;34m:\u001b[0m\u001b[0;34m\u001b[0m\u001b[0m\n",
      "\u001b[0;31mKeyboardInterrupt\u001b[0m: "
     ]
    }
   ],
   "source": [
    "N_JOBS = 24\n",
    "#from dask.distributed import Client\n",
    "#client = Client('tcp://localhost:8786')\n",
    "with joblib.parallel_backend('loky'):\n",
    "    odq_shift_iterations = local_odq_shift_parallel(local_quadrics, data, very_subsampled_bunny, \n",
    "        iterations=40, kernel=lm_kernel, batch_size=int(np.ceil(very_subsampled_bunny.shape[0]/N_JOBS)), \n",
    "        n_jobs=N_JOBS, return_params=True)"
   ]
  },
  {
   "cell_type": "code",
   "execution_count": null,
   "metadata": {},
   "outputs": [],
   "source": [
    "len(odq_shift_iterations[0])"
   ]
  },
  {
   "cell_type": "code",
   "execution_count": null,
   "metadata": {},
   "outputs": [],
   "source": [
    "odq_shift_predictions = np.concatenate([sol[0] for sol in odq_shift_iterations], axis=0)\n",
    "odq_shift_params = np.concatenate([sol[1] for sol in odq_shift_iterations], axis=0)"
   ]
  },
  {
   "cell_type": "code",
   "execution_count": null,
   "metadata": {},
   "outputs": [],
   "source": [
    "odq_shift_predictions.shape"
   ]
  },
  {
   "cell_type": "code",
   "execution_count": null,
   "metadata": {},
   "outputs": [],
   "source": [
    "odq_shift_params.shape"
   ]
  },
  {
   "cell_type": "code",
   "execution_count": null,
   "metadata": {},
   "outputs": [],
   "source": [
    "shift_distances = np.sum(np.diff(odq_shift_predictions, axis=2)**2, axis=1)\n",
    "shift_distances.shape"
   ]
  },
  {
   "cell_type": "code",
   "execution_count": null,
   "metadata": {},
   "outputs": [],
   "source": [
    "max_shift_index = np.unravel_index(np.argmax(shift_distances), shift_distances.shape)\n",
    "max_shift_index"
   ]
  },
  {
   "cell_type": "code",
   "execution_count": null,
   "metadata": {},
   "outputs": [],
   "source": [
    "shift_distances[max_shift_index]"
   ]
  },
  {
   "cell_type": "code",
   "execution_count": null,
   "metadata": {},
   "outputs": [],
   "source": [
    "odq_shift_predictions[max_shift_index[0],:,max_shift_index[1]]"
   ]
  },
  {
   "cell_type": "code",
   "execution_count": null,
   "metadata": {},
   "outputs": [],
   "source": [
    "odq_shift_predictions[max_shift_index[0],:,max_shift_index[1]+1]"
   ]
  },
  {
   "cell_type": "code",
   "execution_count": null,
   "metadata": {},
   "outputs": [],
   "source": [
    "odq_shift_params[max_shift_index[0],:,max_shift_index[1]]"
   ]
  },
  {
   "cell_type": "code",
   "execution_count": null,
   "metadata": {},
   "outputs": [],
   "source": [
    "odq_shift_params[max_shift_index[0],:,max_shift_index[1]-8]"
   ]
  },
  {
   "cell_type": "code",
   "execution_count": null,
   "metadata": {},
   "outputs": [],
   "source": [
    "fig, axes = plt.subplots(odq_shift_params.shape[1])\n",
    "for i in range(odq_shift_params.shape[1]):\n",
    "    axes[i].plot(odq_shift_params[max_shift_index[0],i,:])"
   ]
  },
  {
   "cell_type": "code",
   "execution_count": null,
   "metadata": {},
   "outputs": [],
   "source": []
  },
  {
   "cell_type": "code",
   "execution_count": null,
   "metadata": {},
   "outputs": [],
   "source": []
  },
  {
   "cell_type": "code",
   "execution_count": null,
   "metadata": {},
   "outputs": [],
   "source": []
  },
  {
   "cell_type": "code",
   "execution_count": null,
   "metadata": {},
   "outputs": [],
   "source": []
  },
  {
   "cell_type": "code",
   "execution_count": null,
   "metadata": {},
   "outputs": [],
   "source": [
    "import local_models.linear_projections\n",
    "import local_models.utils\n",
    "\n",
    "def animate(data, c, iterations, pth, range_pct=0.1):\n",
    "    data_mins, data_maxes, data_ranges = local_models.linear_projections.min_max_range(data)\n",
    "    graph_bounds = local_models.linear_projections.sane_graph_bounds(data_mins, data_maxes, data_ranges, range_pct)\n",
    "\n",
    "    for i,projections in enumerate(iterations):\n",
    "        figure = plt.figure()\n",
    "        plt.scatter(data[:,0], data[:,1],c=cmap(c))\n",
    "        plt.scatter(projections[:,0], projections[:,1],c='r',s=0.1)\n",
    "        plt.title(\"iteration_{:05d}\".format(i))\n",
    "        plt.xlim(graph_bounds[:,0])\n",
    "        plt.ylim(graph_bounds[:,1])\n",
    "        plt.savefig(os.path.join(pth, \"iteration_{:05d}.png\".format(i)))\n",
    "\n",
    "def mayavi_animate(data, iterations, pth, focus=None, dist=None):\n",
    "    for i, projections in enumerate(iterations):\n",
    "        filename = os.path.join(pth, \"iteration_{:05d}.png\".format(i))\n",
    "        if data is not None:\n",
    "            mayavi_plt_pts([data, projections], filename, dist=dist, focus=focus)\n",
    "        else:\n",
    "            mayavi_plt_pts([projections], filename, dist=dist, focus=focus)\n"
   ]
  },
  {
   "cell_type": "code",
   "execution_count": null,
   "metadata": {},
   "outputs": [],
   "source": [
    "animate_dir = os.path.join(project_dir, \"animate_iterations_parallel\")\n",
    "os.makedirs(animate_dir, exist_ok=1)"
   ]
  },
  {
   "cell_type": "code",
   "execution_count": null,
   "metadata": {},
   "outputs": [],
   "source": []
  },
  {
   "cell_type": "code",
   "execution_count": null,
   "metadata": {},
   "outputs": [],
   "source": [
    "%%capture\n",
    "mayavi_animate(None, odq_shift_predictions.transpose(2,0,1), animate_dir, \n",
    "    focus=np.mean(subsampled_bunny, axis=0), dist=np.std(subsampled_bunny, axis=0))"
   ]
  },
  {
   "cell_type": "code",
   "execution_count": null,
   "metadata": {},
   "outputs": [],
   "source": [
    "odq_shift_predictions[...,-1] - very_subsampled_bunny"
   ]
  },
  {
   "cell_type": "code",
   "execution_count": null,
   "metadata": {},
   "outputs": [],
   "source": [
    "worst = np.argmax(np.sum((odq_shift_predictions[...,-1] - very_subsampled_bunny)**2,axis=-1))\n",
    "worst"
   ]
  },
  {
   "cell_type": "code",
   "execution_count": null,
   "metadata": {},
   "outputs": [],
   "source": [
    "(odq_shift_predictions[...,-1] - very_subsampled_bunny)[worst]"
   ]
  },
  {
   "cell_type": "code",
   "execution_count": null,
   "metadata": {},
   "outputs": [],
   "source": []
  },
  {
   "cell_type": "code",
   "execution_count": null,
   "metadata": {},
   "outputs": [],
   "source": []
  },
  {
   "cell_type": "code",
   "execution_count": null,
   "metadata": {},
   "outputs": [],
   "source": []
  },
  {
   "cell_type": "code",
   "execution_count": null,
   "metadata": {},
   "outputs": [],
   "source": []
  },
  {
   "cell_type": "code",
   "execution_count": null,
   "metadata": {},
   "outputs": [],
   "source": []
  },
  {
   "cell_type": "code",
   "execution_count": null,
   "metadata": {},
   "outputs": [],
   "source": []
  },
  {
   "cell_type": "code",
   "execution_count": null,
   "metadata": {},
   "outputs": [],
   "source": [
    "def np_arrange_parabolic_projection_funcs(n):\n",
    "    import importlib\n",
    "    import subprocess\n",
    "    try:\n",
    "        importlib.import_module(\"parabolic_utils_{}\".format(n))\n",
    "    except ImportError:\n",
    "        subprocess.call([\"python3\",\"-m\",\"local_models.quadric_models\",\"--parabolic\",\"{}\".format(n)])\n",
    "    projection_funcs = importlib.import_module(\"parabolic_utils_{}\".format(n))\n",
    "    parabolic_projection_funcs = {\n",
    "        \"k_mat\": getattr(projection_funcs, \"k_mat0_{}\".format(n)),\n",
    "        \"other_dims_as_x\": getattr(projection_funcs, \"other_dims_as_x0_{}\".format(n))\n",
    "    }\n",
    "    return parabolic_projection_funcs"
   ]
  },
  {
   "cell_type": "code",
   "execution_count": null,
   "metadata": {},
   "outputs": [],
   "source": [
    "def np_arrange_quadric_projection_funcs(n):\n",
    "    import importlib\n",
    "    import subprocess\n",
    "    projection_funcs = importlib.import_module(\"local_models.quadrics_utils_{}\".format(n))\n",
    "    quadric_projection_funcs = {\n",
    "        \"k_mat\": getattr(projection_funcs, \"k_mat_{}\".format(n)),\n",
    "        \"other_dims_as_x\": getattr(projection_funcs, \"other_dims_as_x_{}\".format(n))\n",
    "    }\n",
    "    return quadric_projection_funcs"
   ]
  }
 ],
 "metadata": {
  "kernelspec": {
   "display_name": "Python 3",
   "language": "python",
   "name": "python3"
  },
  "language_info": {
   "codemirror_mode": {
    "name": "ipython",
    "version": 3
   },
   "file_extension": ".py",
   "mimetype": "text/x-python",
   "name": "python",
   "nbconvert_exporter": "python",
   "pygments_lexer": "ipython3",
   "version": "3.5.2"
  }
 },
 "nbformat": 4,
 "nbformat_minor": 2
}
