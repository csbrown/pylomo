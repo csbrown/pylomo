{
 "cells": [
  {
   "cell_type": "code",
   "execution_count": 1,
   "metadata": {},
   "outputs": [],
   "source": [
    "import local_models.local_models\n",
    "import local_models.algorithms\n",
    "import local_models.utils\n",
    "import local_models.linear_projections\n",
    "import local_models.loggin\n",
    "import local_models.TLS_models\n",
    "import numpy as np\n",
    "import matplotlib.pyplot as plt\n",
    "import sklearn.linear_model\n",
    "import sklearn.cluster\n",
    "from importlib import reload\n",
    "from ml_battery.utils import cmap\n",
    "import matplotlib as mpl\n",
    "import sklearn.datasets\n",
    "import sklearn.decomposition\n",
    "import logging\n",
    "import ml_battery.log\n",
    "import time\n",
    "import os\n",
    "import mayavi\n",
    "import mayavi.mlab\n",
    "import string\n",
    "import subprocess\n",
    "import functools\n",
    "#on headless systems, tmux: \"Xvfb :1 -screen 0 1280x1024x24 -auth localhost\", then \"export DISPLAY=:1\" in the jupyter tmux\n",
    "mayavi.mlab.options.offscreen = True\n",
    "\n",
    "\n",
    "\n",
    "logger = logging.getLogger(__name__)\n",
    "\n",
    "#reload(local_models.local_models)\n",
    "#reload(lm)\n",
    "#reload(local_models.loggin)\n",
    "#reload(local_models.TLS_models)\n",
    "np.warnings.filterwarnings('ignore')\n"
   ]
  },
  {
   "cell_type": "code",
   "execution_count": 2,
   "metadata": {},
   "outputs": [],
   "source": [
    "def import_shit():\n",
    "    import local_models.local_models\n",
    "    import local_models.algorithms\n",
    "    import local_models.utils\n",
    "    import local_models.linear_projections\n",
    "    import local_models.loggin\n",
    "    import local_models.TLS_models\n",
    "    import numpy as np\n",
    "    import logging\n",
    "    import string\n",
    "    import ml_battery.log\n",
    "\n",
    "\n",
    "    logger = logging.getLogger(__name__)\n",
    "\n",
    "    #reload(local_models.local_models)\n",
    "    #reload(lm)\n",
    "    #reload(local_models.loggin)\n",
    "    #reload(local_models.TLS_models)\n",
    "    np.warnings.filterwarnings('ignore')\n",
    "    return logger"
   ]
  },
  {
   "cell_type": "code",
   "execution_count": 3,
   "metadata": {},
   "outputs": [],
   "source": [
    "FRESH=True"
   ]
  },
  {
   "cell_type": "code",
   "execution_count": 4,
   "metadata": {},
   "outputs": [],
   "source": [
    "kernel_names = {\n",
    "    local_models.local_models.GaussianKernel: 'gaussian',\n",
    "    local_models.local_models.TriCubeKernel: 'tricube'\n",
    "}"
   ]
  },
  {
   "cell_type": "code",
   "execution_count": 5,
   "metadata": {},
   "outputs": [],
   "source": [
    "mpl.rcParams['figure.figsize'] = [8.0, 8.0]"
   ]
  },
  {
   "cell_type": "code",
   "execution_count": 6,
   "metadata": {},
   "outputs": [],
   "source": [
    "data = np.loadtxt(\"../data/bunny/bunny/data/bun.csv\")"
   ]
  },
  {
   "cell_type": "code",
   "execution_count": 7,
   "metadata": {},
   "outputs": [
    {
     "data": {
      "text/plain": [
       "(362272, 3)"
      ]
     },
     "execution_count": 7,
     "metadata": {},
     "output_type": "execute_result"
    }
   ],
   "source": [
    "data.shape"
   ]
  },
  {
   "cell_type": "code",
   "execution_count": 8,
   "metadata": {},
   "outputs": [
    {
     "data": {
      "text/plain": [
       "330.8858963590516"
      ]
     },
     "execution_count": 8,
     "metadata": {},
     "output_type": "execute_result"
    }
   ],
   "source": [
    "(data.shape[0]*100)**(1/3)"
   ]
  },
  {
   "cell_type": "code",
   "execution_count": 9,
   "metadata": {},
   "outputs": [
    {
     "data": {
      "text/plain": [
       "array([-0.02360042,  0.09758145,  0.01090169])"
      ]
     },
     "execution_count": 9,
     "metadata": {},
     "output_type": "execute_result"
    }
   ],
   "source": [
    "np.mean(data, axis=0)"
   ]
  },
  {
   "cell_type": "code",
   "execution_count": 10,
   "metadata": {},
   "outputs": [],
   "source": [
    "KERNEL=local_models.local_models.TriCubeKernel\n",
    "RUN = 5\n",
    "\n",
    "project_dir = \"../data/bunny_scms_{}_{:03d}\".format(kernel_names[KERNEL], RUN)\n",
    "\n",
    "os.makedirs(project_dir, exist_ok=1)"
   ]
  },
  {
   "cell_type": "raw",
   "metadata": {},
   "source": [
    "mayavi.mlab.figure(figure=None, bgcolor=(1,1,1), fgcolor=(0,0,0), engine=None, size=(800, 800))\n",
    "#mayavi.mlab.surf(grid[0], grid[1], kde_wireframe/z_scale, colormap='Greys', opacity=1)\n",
    "#nodes = mayavi.mlab.points3d(converged[:,0], converged[:,1], converged[:,2], scale_mode='scalar', color=(1,0,0))\n",
    "#nodes.mlab_source.dataset.point_data.scalars = np.ones(converged.shape[0])*0.1\n",
    "bunodes = mayavi.mlab.points3d(data[:,0], data[:,1], data[:,2], scale_mode='scalar', color=(0,1,0))\n",
    "bunodes.mlab_source.dataset.point_data.scalars = np.ones(data.shape[0])*0.05\n",
    "\n",
    "\n",
    "#mayavi.mlab.axes()\n",
    "\n",
    "#mayavi.mlab.view(views[0][1],views[0][0])\n",
    "data_avg = np.average(data, axis=0)\n",
    "for az in [0,90,180,270]:\n",
    "    for el in [0,90,180,270]:\n",
    "        mayavi.mlab.view(azimuth=az, elevation=el, distance=15*np.average(data_avg), focalpoint=(data_avg[0], data_avg[1], data_avg[2]))\n",
    "        #mayavi.mlab.move(forward=None, right=0.1*data_avg[1], up=-0.02*data_avg[0])\n",
    "        title = \"data_{:03d}_{:03d}\".format(az,el)\n",
    "        mayavi.mlab.savefig(os.path.join(project_dir, \"{}.png\".format(title)))\n",
    "        #mayavi.mlab.clf()"
   ]
  },
  {
   "cell_type": "code",
   "execution_count": 11,
   "metadata": {},
   "outputs": [
    {
     "data": {
      "text/plain": [
       "<local_models.local_models.LocalModels at 0x7ffad14c9f28>"
      ]
     },
     "execution_count": 11,
     "metadata": {},
     "output_type": "execute_result"
    }
   ],
   "source": [
    "linear_models = local_models.local_models.LocalModels(local_models.TLS_models.LinearODR_mD(2))\n",
    "linear_models.fit(data)"
   ]
  },
  {
   "cell_type": "code",
   "execution_count": 12,
   "metadata": {},
   "outputs": [],
   "source": [
    "avg_pt_dist = np.average(linear_models.index.query(data, k=2)[0][:,1])"
   ]
  },
  {
   "cell_type": "code",
   "execution_count": 13,
   "metadata": {},
   "outputs": [
    {
     "data": {
      "text/plain": [
       "0.00026888393320762005"
      ]
     },
     "execution_count": 13,
     "metadata": {},
     "output_type": "execute_result"
    }
   ],
   "source": [
    "avg_pt_dist"
   ]
  },
  {
   "cell_type": "code",
   "execution_count": 16,
   "metadata": {},
   "outputs": [],
   "source": [
    "random_data_subset = data[np.random.randint(data.shape[0], size=50)]"
   ]
  },
  {
   "cell_type": "code",
   "execution_count": 20,
   "metadata": {},
   "outputs": [],
   "source": [
    "queried = linear_models.index.query_radius(random_data_subset, r=avg_pt_dist*10)"
   ]
  },
  {
   "cell_type": "code",
   "execution_count": 21,
   "metadata": {},
   "outputs": [
    {
     "data": {
      "text/plain": [
       "[(165,),\n",
       " (207,),\n",
       " (144,),\n",
       " (112,),\n",
       " (142,),\n",
       " (188,),\n",
       " (203,),\n",
       " (156,),\n",
       " (221,),\n",
       " (187,),\n",
       " (138,),\n",
       " (177,),\n",
       " (167,),\n",
       " (178,),\n",
       " (193,),\n",
       " (106,),\n",
       " (124,),\n",
       " (170,),\n",
       " (205,),\n",
       " (184,),\n",
       " (218,),\n",
       " (149,),\n",
       " (150,),\n",
       " (157,),\n",
       " (138,),\n",
       " (212,),\n",
       " (145,),\n",
       " (214,),\n",
       " (142,),\n",
       " (202,),\n",
       " (216,),\n",
       " (147,),\n",
       " (181,),\n",
       " (157,),\n",
       " (219,),\n",
       " (175,),\n",
       " (204,),\n",
       " (183,),\n",
       " (154,),\n",
       " (110,),\n",
       " (93,),\n",
       " (93,),\n",
       " (138,),\n",
       " (155,),\n",
       " (125,),\n",
       " (180,),\n",
       " (159,),\n",
       " (218,),\n",
       " (88,),\n",
       " (195,)]"
      ]
     },
     "execution_count": 21,
     "metadata": {},
     "output_type": "execute_result"
    }
   ],
   "source": [
    "list(map(lambda x: x.shape, queried))"
   ]
  },
  {
   "cell_type": "code",
   "execution_count": 22,
   "metadata": {},
   "outputs": [],
   "source": [
    "kernel = local_models.local_models.TriCubeKernel(bandwidth=avg_pt_dist*10)"
   ]
  },
  {
   "cell_type": "code",
   "execution_count": 23,
   "metadata": {},
   "outputs": [],
   "source": [
    "linear_params_vecs, linear_params_mean = local_models.linear_projections.transformate_data(data, kernel, linear_models, r=kernel.support_radius())"
   ]
  },
  {
   "cell_type": "code",
   "execution_count": 28,
   "metadata": {},
   "outputs": [
    {
     "data": {
      "text/plain": [
       "(362272, 2, 3)"
      ]
     },
     "execution_count": 28,
     "metadata": {},
     "output_type": "execute_result"
    }
   ],
   "source": [
    "linear_params_vecs.shape"
   ]
  },
  {
   "cell_type": "code",
   "execution_count": 34,
   "metadata": {},
   "outputs": [],
   "source": [
    "N = int(data.shape[0]/50)\n",
    "sample_indices = np.random.choice(np.arange(data.shape[0]), size=N)\n",
    "\n",
    "pth = os.path.join(project_dir, \"single_convergence.png\")\n",
    "data_avg = np.average(data, axis=0)\n",
    "data_std = np.std(data, axis=0)\n",
    "figure = mayavi.mlab.figure(figure=None, bgcolor=(1,1,1), fgcolor=(0,0,0), engine=None, size=(1000, 500))\n",
    "data_nodes = plt_data(figure, linear_params_mean[sample_indices], data_std)\n",
    "normals = np.cross(*np.rollaxis(linear_params_vecs[sample_indices],1))\n",
    "normal_vecs = plt_normals(figure, normals, linear_params_mean[sample_indices], data_std)\n",
    "neg_normal_vecs = plt_normals(figure, -normals, linear_params_mean[sample_indices], data_std)\n",
    "normalize_view(figure, data_avg, data_std)\n",
    "mayavi.mlab.savefig(pth, magnification=2)\n",
    "mayavi.mlab.close(figure)"
   ]
  },
  {
   "cell_type": "code",
   "execution_count": null,
   "metadata": {},
   "outputs": [],
   "source": []
  },
  {
   "cell_type": "code",
   "execution_count": null,
   "metadata": {},
   "outputs": [],
   "source": []
  },
  {
   "cell_type": "code",
   "execution_count": null,
   "metadata": {},
   "outputs": [],
   "source": []
  },
  {
   "cell_type": "code",
   "execution_count": null,
   "metadata": {},
   "outputs": [],
   "source": []
  },
  {
   "cell_type": "code",
   "execution_count": null,
   "metadata": {},
   "outputs": [],
   "source": []
  },
  {
   "cell_type": "code",
   "execution_count": null,
   "metadata": {},
   "outputs": [],
   "source": []
  },
  {
   "cell_type": "code",
   "execution_count": null,
   "metadata": {},
   "outputs": [],
   "source": []
  },
  {
   "cell_type": "code",
   "execution_count": 14,
   "metadata": {},
   "outputs": [],
   "source": [
    "#kernel_kwargses = [{\"bandwidth\": x} for x in np.linspace(avg_pt_dist, 100*avg_pt_dist, 20)]\n",
    "kernel_kwargses = [{\"bandwidth\": \"knn\", \"k\": x} for x in range(4,40,2)]"
   ]
  },
  {
   "cell_type": "code",
   "execution_count": 15,
   "metadata": {},
   "outputs": [],
   "source": [
    "pth = os.path.join(project_dir, \"filler\")\n",
    "os.makedirs(pth, exist_ok=1)"
   ]
  },
  {
   "cell_type": "code",
   "execution_count": 16,
   "metadata": {},
   "outputs": [],
   "source": [
    "def mean_center(data, weights=None):\n",
    "    return data - np.average(data, axis=0,weights=weights)"
   ]
  },
  {
   "cell_type": "code",
   "execution_count": 26,
   "metadata": {},
   "outputs": [],
   "source": [
    "def load_converged_data(pth):\n",
    "    convergededs = []\n",
    "    for dat in sorted(os.listdir(pth)):\n",
    "        convergededs.append(np.loadtxt(os.path.join(pth, dat)))\n",
    "    return np.concatenate(convergededs, axis=0)\n",
    "\n",
    "def plt_grid(fig, grid, data_avg, data_std):\n",
    "    nodes = mayavi.mlab.points3d(grid[:,0], grid[:,1], grid[:,2], \n",
    "                                 scale_mode='scalar', scale_factor=1,\n",
    "                                 colormap='gist_earth', figure=fig)\n",
    "    nodes.glyph.scale_mode = 'scale_by_vector'\n",
    "    nodes.mlab_source.dataset.point_data.vectors = np.ones((grid.shape[0],3))*(np.average(data_std)/60)\n",
    "    nodes.mlab_source.dataset.point_data.scalars = (grid[:,1] - (data_avg[1]-3*data_std[1]))/(6*data_std[1])\n",
    "    return nodes\n",
    "\n",
    "def plt_data(fig, data, data_std):\n",
    "    nodes = mayavi.mlab.points3d(data[:,0], data[:,1], data[:,2], \n",
    "                                 scale_mode='scalar', scale_factor=1,\n",
    "                                 colormap='Greens', figure=fig)\n",
    "    nodes.glyph.scale_mode = 'scale_by_vector'\n",
    "    nodes.mlab_source.dataset.point_data.vectors = np.ones((data.shape[0],3))*(np.average(data_std)/60)\n",
    "    nodes.mlab_source.dataset.point_data.scalars = np.ones((data.shape[0]))\n",
    "    return nodes\n",
    "\n",
    "def get_normals(kernel, linear_models, data):\n",
    "    if hasattr(kernel.bandwidth, \"__call__\"):\n",
    "        linear_params_vecs, linear_params_mean = local_models.linear_projections.transformate_data(data, kernel, linear_models, k=kernel.k)\n",
    "    else:\n",
    "        linear_params_vecs, linear_params_mean = local_models.linear_projections.transformate_data(data, kernel, linear_models, r=kernel.support_radius())\n",
    "    return linear_params_vecs\n",
    "\n",
    "def align_normals(data, normals, k=10, iterations=100):\n",
    "    balltree = sklearn.neighbors.BallTree(data)\n",
    "    pairwise_nearest_indices = balltree.query(data,k=k,sort_results=True,return_distance=False)\n",
    "    for iteration in range(iterations):\n",
    "        alignments = []\n",
    "        for index in range(1,pairwise_nearest_indices.shape[1]):\n",
    "            alignment = np.einsum(\"ij,ij->i\",normals,normals[pairwise_nearest_indices[:,index]])\n",
    "            alignments.append(alignment)\n",
    "        alignment = np.average(alignments, axis=0)\n",
    "        wrong_alignment = np.sign(alignment)\n",
    "        normals = normals*wrong_alignment.reshape(-1,1)\n",
    "    return normals\n",
    "\n",
    "def align_edge_normals(data, normals, edge_range=0.1):\n",
    "    data_mins, data_maxes, data_ranges = local_models.linear_projections.min_max_range(data)\n",
    "    graph_bounds = local_models.linear_projections.sane_graph_bounds(data_mins, data_maxes, data_ranges, -edge_range)\n",
    "    mins = data < graph_bounds[:1]\n",
    "    maxes = data > graph_bounds[1:]\n",
    "    mins_alignment = np.sign(np.einsum(\"ij,ij->i\",mins,-1*normals))\n",
    "    maxes_alignment = np.sign(np.einsum(\"ij,ij->i\",maxes,normals))\n",
    "    mins_alignment += np.logical_not(mins_alignment) # turn 0s into 1s (so they don't change)\n",
    "    maxes_alignment += np.logical_not(maxes_alignment)    \n",
    "    return normals*mins_alignment.reshape(-1,1)*maxes_alignment.reshape(-1,1)\n",
    "\n",
    "def plt_normals(fig, normals, data, data_std):\n",
    "    nodes = mayavi.mlab.quiver3d(data[:,0], data[:,1], data[:,2],\n",
    "                                 normals[:,0], normals[:,1], normals[:,2],\n",
    "                                 scale_mode='scalar', scale_factor=np.average(data_std)/5,\n",
    "                                 colormap='Purples', figure=fig, line_width=1.0)\n",
    "    return nodes\n",
    "\n",
    "def normalize_view(fig, data_avg, data_std):\n",
    "    mayavi.mlab.view(azimuth=0, elevation=0, distance=15*np.average(data_avg), focalpoint=(data_avg[0], data_avg[1], data_avg[2]))\n",
    "    \n",
    "def plt_and_save(data, grid, normals, pth):\n",
    "    data_avg = np.average(data, axis=0)\n",
    "    data_std = np.std(data, axis=0)\n",
    "    figure = mayavi.mlab.figure(figure=None, bgcolor=(1,1,1), fgcolor=(0,0,0), engine=None, size=(1000, 500))\n",
    "    data_nodes = plt_data(figure, data, data_std)\n",
    "    converged_nodes = plt_grid(figure, grid, data_avg, data_std)\n",
    "    normal_vecs = plt_normals(figure, normals, grid, data_std)\n",
    "    neg_normal_vecs = plt_normals(figure, -normals, grid, data_std)\n",
    "    normalize_view(figure, data_avg, data_std)\n",
    "    mayavi.mlab.savefig(pth, magnification=2)\n",
    "    mayavi.mlab.close(figure)\n",
    "\n",
    "def serialize_plt(pth):\n",
    "    import zlib\n",
    "    with open(pth, 'rb') as f:\n",
    "        dat = f.read()\n",
    "    return zlib.compress(dat)\n",
    "   \n",
    "def deserialize_plt(dat, pth):\n",
    "    import zlib\n",
    "    with open(pth, 'wb') as f:\n",
    "        f.write(zlib.decompress(dat))\n",
    "    return pth\n",
    "\n",
    "def distributed_plt_and_save(data, grid, bandwidth):\n",
    "    import numpy as np\n",
    "    import mayavi\n",
    "    import mayavi.mlab\n",
    "    import string\n",
    "    import os\n",
    "    #on headless systems, tmux: \"Xvfb :1 -screen 0 1280x1024x24 -auth localhost\", then \"export DISPLAY=:1\" in the jupyter tmux\n",
    "    mayavi.mlab.options.offscreen = True\n",
    "    \n",
    "    unique_id = \"\".join(np.random.choice(list(string.ascii_lowercase), replace=True, size=20))\n",
    "    pth = \"/ramfs/{}.png\".format(unique_id)\n",
    "    try:\n",
    "        plt_and_save(data, grid, bandwidth, pth)\n",
    "        result = serialize_plt(pth)\n",
    "    except:\n",
    "        os.remove(pth)"
   ]
  },
  {
   "cell_type": "code",
   "execution_count": null,
   "metadata": {},
   "outputs": [],
   "source": []
  },
  {
   "cell_type": "code",
   "execution_count": 18,
   "metadata": {},
   "outputs": [
    {
     "name": "stdout",
     "output_type": "stream",
     "text": [
      "0\n",
      "1\n",
      "2\n",
      "3\n",
      "4\n",
      "5\n",
      "6\n",
      "7\n",
      "8\n",
      "9\n",
      "10\n",
      "11\n",
      "12\n",
      "13\n",
      "14\n",
      "15\n",
      "16\n",
      "17\n"
     ]
    }
   ],
   "source": [
    "for i,kernel_kwargs in enumerate(kernel_kwargses):\n",
    "    kernel = KERNEL(**kernel_kwargs)\n",
    "    data_pth = os.path.join(pth, str(kernel))\n",
    "    title = str(kernel)\n",
    "    img_pth = os.path.join(pth, \"{}.png\".format(title))\n",
    "    grid = load_converged_data(data_pth)\n",
    "    normals = np.cross(*np.rollaxis(get_normals(kernel, linear_models, grid),1))\n",
    "    print(i)\n",
    "    plt_and_save(data, grid, normals, img_pth)"
   ]
  },
  {
   "cell_type": "code",
   "execution_count": 19,
   "metadata": {},
   "outputs": [],
   "source": [
    "top_pt = data[18765]\n",
    "def normalize_view(fig, data_avg, data_std):\n",
    "    mayavi.mlab.view(azimuth=0, elevation=0, distance=5*np.average(data_avg), focalpoint=(top_pt[0], top_pt[1], top_pt[2]))"
   ]
  },
  {
   "cell_type": "code",
   "execution_count": 20,
   "metadata": {},
   "outputs": [
    {
     "name": "stdout",
     "output_type": "stream",
     "text": [
      "grid 168112\n",
      "normals 168112\n",
      "grid 168112\n",
      "normals 168112\n"
     ]
    }
   ],
   "source": [
    "import sys\n",
    "for var, obj in sorted(locals().items(), key=lambda x:-sys.getsizeof(x[1])):\n",
    "    if sys.getsizeof(obj) > 5000:\n",
    "        print(var, sys.getsizeof(obj))\n",
    "for var, obj in sorted(globals().items(), key=lambda x:-sys.getsizeof(x[1])):\n",
    "    if sys.getsizeof(obj) > 5000:\n",
    "        print(var, sys.getsizeof(obj))\n",
    "import gc\n",
    "gc.collect()\n",
    "mayavi.mlab.close(all=True)"
   ]
  },
  {
   "cell_type": "code",
   "execution_count": 21,
   "metadata": {},
   "outputs": [],
   "source": [
    "for i,kernel_kwargs in enumerate(kernel_kwargses):\n",
    "    kernel = KERNEL(**kernel_kwargs)\n",
    "    data_pth = os.path.join(pth, str(kernel))\n",
    "    title = str(kernel)\n",
    "    img_pth = os.path.join(pth, \"{}_small.png\".format(title))\n",
    "    grid = load_converged_data(data_pth)\n",
    "    normals = np.cross(*np.rollaxis(get_normals(kernel, linear_models, grid),1))\n",
    "    normals = align_edge_normals(grid, normals)\n",
    "    normals = align_normals(grid, normals,iterations=100,k=50)\n",
    "    normals = align_edge_normals(grid, normals)\n",
    "    normals = align_normals(grid, normals,iterations=100,k=30)\n",
    "    normals = align_edge_normals(grid, normals)\n",
    "    normals = align_normals(grid, normals,iterations=100,k=10)\n",
    "    plt_and_save(data, grid, normals, img_pth)"
   ]
  },
  {
   "cell_type": "code",
   "execution_count": null,
   "metadata": {},
   "outputs": [],
   "source": [
    "import sys\n",
    "for var, obj in sorted(locals().items(), key=lambda x:-sys.getsizeof(x[1])):\n",
    "    if sys.getsizeof(obj) > 5000:\n",
    "        print(var, sys.getsizeof(obj))\n",
    "for var, obj in sorted(globals().items(), key=lambda x:-sys.getsizeof(x[1])):\n",
    "    if sys.getsizeof(obj) > 5000:\n",
    "        print(var, sys.getsizeof(obj))\n",
    "import gc\n",
    "gc.collect()\n",
    "mayavi.mlab.close(all=True)\n"
   ]
  },
  {
   "cell_type": "code",
   "execution_count": 43,
   "metadata": {},
   "outputs": [
    {
     "data": {
      "text/plain": [
       "array([0.06137 , 0.18794 , 0.059117])"
      ]
     },
     "execution_count": 43,
     "metadata": {},
     "output_type": "execute_result"
    }
   ],
   "source": [
    "np.max(data, axis=0)"
   ]
  },
  {
   "cell_type": "code",
   "execution_count": 44,
   "metadata": {},
   "outputs": [
    {
     "data": {
      "text/plain": [
       "array([-0.02331136,  0.18223789,  0.05456296])"
      ]
     },
     "execution_count": 44,
     "metadata": {},
     "output_type": "execute_result"
    }
   ],
   "source": [
    "np.max(grid, axis=0)"
   ]
  },
  {
   "cell_type": "code",
   "execution_count": 45,
   "metadata": {},
   "outputs": [
    {
     "data": {
      "text/plain": [
       "(362272, 3)"
      ]
     },
     "execution_count": 45,
     "metadata": {},
     "output_type": "execute_result"
    }
   ],
   "source": [
    "data.shape"
   ]
  },
  {
   "cell_type": "code",
   "execution_count": 46,
   "metadata": {},
   "outputs": [
    {
     "data": {
      "text/plain": [
       "(25000, 3)"
      ]
     },
     "execution_count": 46,
     "metadata": {},
     "output_type": "execute_result"
    }
   ],
   "source": [
    "grid.shape"
   ]
  },
  {
   "cell_type": "code",
   "execution_count": 24,
   "metadata": {},
   "outputs": [
    {
     "data": {
      "text/plain": [
       "array([-0.15041934,  0.01747047, -0.09899874])"
      ]
     },
     "execution_count": 24,
     "metadata": {},
     "output_type": "execute_result"
    }
   ],
   "source": [
    "grid[0]"
   ]
  },
  {
   "cell_type": "code",
   "execution_count": 29,
   "metadata": {},
   "outputs": [],
   "source": []
  },
  {
   "cell_type": "code",
   "execution_count": null,
   "metadata": {},
   "outputs": [],
   "source": [
    "bandwidths = [BANDWIDTH]\n",
    "converged = np.concatenate(convergededs)\n",
    "for i, bandwidth in enumerate(bandwidths):\n",
    "    data_avg = np.average(converged, axis=0)\n",
    "    data_std = np.std(converged, axis=0)\n",
    "    figure = mayavi.mlab.figure(figure=None, bgcolor=(1,1,1), fgcolor=(0,0,0), engine=None, size=(1000, 500))\n",
    "    #mayavi.mlab.surf(grid[0], grid[1], kde_wireframe/z_scale, colormap='Greys', opacity=1)\n",
    "    nodes = mayavi.mlab.triangular_mesh(converged[:,0], converged[:,1], converged[:,2], \n",
    "                                 scale_mode='scalar', colormap='gist_earth')\n",
    "    nodes.glyph.scale_mode = 'scale_by_vector'\n",
    "    nodes.mlab_source.dataset.point_data.vectors = np.ones((converged.shape[0],3))*(np.average(data_std)/400)\n",
    "    nodes.mlab_source.dataset.point_data.scalars = (converged[:,1] - (data_avg[1]-3*data_std[1]))/(6*data_std[1])\n",
    "    #bunodes = mayavi.mlab.points3d(data[:,0], data[:,1], data[:,2], scale_mode='scalar', color=(0,1,0))\n",
    "    #bunodes.mlab_source.dataset.point_data.scalars = np.ones(data.shape[0])*0.1\n",
    "\n",
    "\n",
    "    #mayavi.mlab.axes()\n",
    "\n",
    "    #mayavi.mlab.view(views[0][1],views[0][0])\n",
    "    mayavi.mlab.view(azimuth=180, elevation=80, distance=1*np.average(data_avg), focalpoint=(data_avg[0], data_avg[1], data_avg[2]))\n",
    "    mayavi.mlab.move(forward=None, right=0.1*data_avg[1], up=-0.02*data_avg[0])\n",
    "    title = \"converged_data_b{:08.05f}\".format(bandwidth)\n",
    "    mayavi.mlab.savefig(os.path.join(pth, \"{}.png\".format(title)))\n",
    "    mayavi.mlab.close(figure)"
   ]
  },
  {
   "cell_type": "code",
   "execution_count": null,
   "metadata": {},
   "outputs": [],
   "source": [
    "mayavi.mlab.close(all=True)"
   ]
  },
  {
   "cell_type": "code",
   "execution_count": null,
   "metadata": {},
   "outputs": [],
   "source": []
  },
  {
   "cell_type": "code",
   "execution_count": null,
   "metadata": {},
   "outputs": [],
   "source": []
  },
  {
   "cell_type": "code",
   "execution_count": null,
   "metadata": {},
   "outputs": [],
   "source": []
  },
  {
   "cell_type": "code",
   "execution_count": null,
   "metadata": {},
   "outputs": [],
   "source": []
  },
  {
   "cell_type": "code",
   "execution_count": null,
   "metadata": {},
   "outputs": [],
   "source": []
  },
  {
   "cell_type": "code",
   "execution_count": null,
   "metadata": {},
   "outputs": [],
   "source": [
    "range_pct = 0.2\n",
    "grid_steps = 20\n",
    "data_mins, data_maxes, data_ranges = local_models.linear_projections.min_max_range(data)\n",
    "graph_bounds = local_models.linear_projections.sane_graph_bounds(data_mins, data_maxes, data_ranges, range_pct)\n",
    "\n",
    "grid_limits = tuple(map(lambda i: slice(graph_bounds[0,i], graph_bounds[1,i], grid_steps*1j), range(graph_bounds.shape[1])))\n",
    "grid = np.mgrid[grid_limits]\n",
    "gridder = local_models.utils.Grid2Vec()\n",
    "grid = gridder.fit_transform(grid)"
   ]
  },
  {
   "cell_type": "code",
   "execution_count": null,
   "metadata": {},
   "outputs": [],
   "source": [
    "for converged2 in local_models.algorithms.local_tls_shift_till_convergence(linear_models, grid, tol=1e-10,\n",
    "                                     kernel=KERNEL(bandwidth),\n",
    "                                     report=False):\n",
    "    pass"
   ]
  },
  {
   "cell_type": "code",
   "execution_count": null,
   "metadata": {},
   "outputs": [],
   "source": [
    "converged2"
   ]
  },
  {
   "cell_type": "code",
   "execution_count": null,
   "metadata": {},
   "outputs": [],
   "source": [
    "cloud = pcl.PointCloud()\n",
    "cloud.from_array(converged2.astype('float32'))\n",
    "#visual = pcl.pcl_visualization.CloudViewing()\n",
    "#visual.ShowMonochromeCloud(cloud)"
   ]
  },
  {
   "cell_type": "code",
   "execution_count": null,
   "metadata": {},
   "outputs": [],
   "source": [
    "mayavi.mlab.figure(figure=None, bgcolor=(1,1,1), fgcolor=(0,0,0), engine=None, size=(800, 800))\n",
    "#mayavi.mlab.surf(grid[0], grid[1], kde_wireframe/z_scale, colormap='Greys', opacity=1)\n",
    "nodes = mayavi.mlab.points3d(converged2[:,0], converged2[:,1], converged2[:,2], scale_mode='scalar', color=(1,0,0))\n",
    "nodes.mlab_source.dataset.point_data.scalars = np.ones(converged2.shape[0])*0.1\n",
    "bunodes = mayavi.mlab.points3d(data[:,0], data[:,1], data[:,2], scale_mode='scalar', color=(0,1,0))\n",
    "bunodes.mlab_source.dataset.point_data.scalars = np.ones(data.shape[0])*0.1\n",
    "\n",
    "\n",
    "#mayavi.mlab.axes()\n",
    "\n",
    "#mayavi.mlab.view(views[0][1],views[0][0])\n",
    "data_avg = np.average(converged2, axis=1)\n",
    "mayavi.mlab.view(azimuth=0, elevation=30, distance=1, focalpoint=(data_avg[0], data_avg[1], data_avg[2]))\n",
    "title = \"converged_g000{:05d}\".format(grid_steps)\n",
    "mayavi.mlab.savefig(os.path.join(project_dir, \"{}.png\".format(title)))\n",
    "mayavi.mlab.clf()"
   ]
  },
  {
   "cell_type": "code",
   "execution_count": null,
   "metadata": {},
   "outputs": [],
   "source": []
  },
  {
   "cell_type": "code",
   "execution_count": null,
   "metadata": {},
   "outputs": [],
   "source": []
  }
 ],
 "metadata": {
  "kernelspec": {
   "display_name": "Python 3",
   "language": "python",
   "name": "python3"
  },
  "language_info": {
   "codemirror_mode": {
    "name": "ipython",
    "version": 3
   },
   "file_extension": ".py",
   "mimetype": "text/x-python",
   "name": "python",
   "nbconvert_exporter": "python",
   "pygments_lexer": "ipython3",
   "version": "3.5.2"
  }
 },
 "nbformat": 4,
 "nbformat_minor": 2
}
