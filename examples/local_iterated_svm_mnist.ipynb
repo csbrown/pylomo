{
 "cells": [
  {
   "cell_type": "code",
   "execution_count": 1,
   "metadata": {},
   "outputs": [
    {
     "name": "stderr",
     "output_type": "stream",
     "text": [
      "/usr/local/lib/python3.5/dist-packages/tensorboard/compat/tensorflow_stub/dtypes.py:541: FutureWarning: Passing (type, 1) or '1type' as a synonym of type is deprecated; in a future version of numpy, it will be understood as (type, (1,)) / '(1,)type'.\n",
      "  _np_qint8 = np.dtype([(\"qint8\", np.int8, 1)])\n",
      "/usr/local/lib/python3.5/dist-packages/tensorboard/compat/tensorflow_stub/dtypes.py:542: FutureWarning: Passing (type, 1) or '1type' as a synonym of type is deprecated; in a future version of numpy, it will be understood as (type, (1,)) / '(1,)type'.\n",
      "  _np_quint8 = np.dtype([(\"quint8\", np.uint8, 1)])\n",
      "/usr/local/lib/python3.5/dist-packages/tensorboard/compat/tensorflow_stub/dtypes.py:543: FutureWarning: Passing (type, 1) or '1type' as a synonym of type is deprecated; in a future version of numpy, it will be understood as (type, (1,)) / '(1,)type'.\n",
      "  _np_qint16 = np.dtype([(\"qint16\", np.int16, 1)])\n",
      "/usr/local/lib/python3.5/dist-packages/tensorboard/compat/tensorflow_stub/dtypes.py:544: FutureWarning: Passing (type, 1) or '1type' as a synonym of type is deprecated; in a future version of numpy, it will be understood as (type, (1,)) / '(1,)type'.\n",
      "  _np_quint16 = np.dtype([(\"quint16\", np.uint16, 1)])\n",
      "/usr/local/lib/python3.5/dist-packages/tensorboard/compat/tensorflow_stub/dtypes.py:545: FutureWarning: Passing (type, 1) or '1type' as a synonym of type is deprecated; in a future version of numpy, it will be understood as (type, (1,)) / '(1,)type'.\n",
      "  _np_qint32 = np.dtype([(\"qint32\", np.int32, 1)])\n",
      "/usr/local/lib/python3.5/dist-packages/tensorboard/compat/tensorflow_stub/dtypes.py:550: FutureWarning: Passing (type, 1) or '1type' as a synonym of type is deprecated; in a future version of numpy, it will be understood as (type, (1,)) / '(1,)type'.\n",
      "  np_resource = np.dtype([(\"resource\", np.ubyte, 1)])\n"
     ]
    }
   ],
   "source": [
    "import local_models.local_models\n",
    "import numpy as np\n",
    "import matplotlib.pyplot as plt\n",
    "import sklearn.linear_model\n",
    "import sklearn.model_selection\n",
    "import sklearn.cluster\n",
    "import sklearn.svm\n",
    "from importlib import reload\n",
    "from ml_battery.utils import cmap\n",
    "import matplotlib as mpl\n",
    "import sklearn.datasets\n",
    "import sklearn.decomposition\n",
    "import logging\n",
    "import ml_battery.log\n",
    "import time\n",
    "import os\n",
    "import functools\n",
    "import collections\n",
    "import joblib\n",
    "import local_models.loggin\n",
    "import local_models.TLS_models\n",
    "import local_models.utils\n",
    "from local_models.TLS_models import LinearRegression, QuadraticRegression, SphericalRegression, LinearODR\n",
    "from sklearn import datasets, svm, metrics\n",
    "\n",
    "logger = logging.getLogger(__name__)\n",
    "\n",
    "np.random.seed(1)\n",
    "#reload(local_models.loggin)\n",
    "#reload(local_models.TLS_models)\n",
    "np.warnings.filterwarnings('ignore')\n"
   ]
  },
  {
   "cell_type": "code",
   "execution_count": 136,
   "metadata": {},
   "outputs": [],
   "source": [
    "mpl.rcParams['figure.figsize'] = [8.0, 8.0]\n",
    "font = {'size'   : 18}\n",
    "\n",
    "mpl.rc('font', **font)"
   ]
  },
  {
   "cell_type": "code",
   "execution_count": 3,
   "metadata": {},
   "outputs": [],
   "source": [
    "digits = datasets.load_digits()"
   ]
  },
  {
   "cell_type": "code",
   "execution_count": 154,
   "metadata": {},
   "outputs": [],
   "source": [
    "mnist = sklearn.datasets.fetch_openml('mnist_784')"
   ]
  },
  {
   "cell_type": "code",
   "execution_count": 158,
   "metadata": {},
   "outputs": [
    {
     "data": {
      "text/plain": [
       "((70000, 784), (70000,))"
      ]
     },
     "execution_count": 158,
     "metadata": {},
     "output_type": "execute_result"
    }
   ],
   "source": [
    "mnist.data.shape, mnist.target.shape"
   ]
  },
  {
   "cell_type": "code",
   "execution_count": 4,
   "metadata": {},
   "outputs": [],
   "source": [
    "RUN = 2\n",
    "project_dir = \"../data/local_svm_mnist_{:02d}\".format(RUN)\n",
    "os.makedirs(project_dir, exist_ok=1)"
   ]
  },
  {
   "cell_type": "code",
   "execution_count": 5,
   "metadata": {},
   "outputs": [],
   "source": [
    "images_and_labels = list(zip(digits.images, digits.target))"
   ]
  },
  {
   "cell_type": "code",
   "execution_count": 6,
   "metadata": {},
   "outputs": [
    {
     "data": {
      "image/png": "[encoded data removed]",
      "text/plain": [
       "<matplotlib.figure.Figure at 0x7f3be3d4b470>"
      ]
     },
     "metadata": {
      "needs_background": "light"
     },
     "output_type": "display_data"
    }
   ],
   "source": [
    "for index, (image, label) in enumerate(images_and_labels[:4]):\n",
    "    plt.subplot(2, 4, index + 1)\n",
    "    plt.axis('off')\n",
    "    plt.imshow(image, cmap=plt.cm.gray_r, interpolation='nearest')\n",
    "    plt.title('Training: %i' % label)"
   ]
  },
  {
   "cell_type": "code",
   "execution_count": 7,
   "metadata": {},
   "outputs": [],
   "source": [
    "n_samples = len(digits.images)\n",
    "data = digits.images.reshape((n_samples, -1))"
   ]
  },
  {
   "cell_type": "code",
   "execution_count": 8,
   "metadata": {},
   "outputs": [],
   "source": [
    "SEED=1\n",
    "train_data, test_data, train_labels, test_labels = sklearn.model_selection.train_test_split(\n",
    "    data, digits.target, test_size=0.3, random_state=SEED)"
   ]
  },
  {
   "cell_type": "code",
   "execution_count": 35,
   "metadata": {},
   "outputs": [
    {
     "data": {
      "text/plain": [
       "<local_models.local_models.LocalModels at 0x7f3be3c31940>"
      ]
     },
     "execution_count": 35,
     "metadata": {},
     "output_type": "execute_result"
    }
   ],
   "source": [
    "model = sklearn.svm.LinearSVC(C=1., dual=False)\n",
    "linear_models = local_models.local_models.LocalModels(model)\n",
    "linear_models.fit(train_data, train_labels)"
   ]
  },
  {
   "cell_type": "code",
   "execution_count": 10,
   "metadata": {},
   "outputs": [],
   "source": [
    "dz, iz = linear_models.index.query(train_data, k=2)"
   ]
  },
  {
   "cell_type": "code",
   "execution_count": 11,
   "metadata": {},
   "outputs": [],
   "source": [
    "avg_1nn_dist = np.average(dz[:,1])"
   ]
  },
  {
   "cell_type": "code",
   "execution_count": 12,
   "metadata": {},
   "outputs": [],
   "source": [
    "kernel = local_models.local_models.GaussianKernel(bandwidth=avg_1nn_dist*20)"
   ]
  },
  {
   "cell_type": "code",
   "execution_count": 13,
   "metadata": {},
   "outputs": [
    {
     "data": {
      "text/plain": [
       "(1257, 64)"
      ]
     },
     "execution_count": 13,
     "metadata": {},
     "output_type": "execute_result"
    }
   ],
   "source": [
    "train_data.shape"
   ]
  },
  {
   "cell_type": "code",
   "execution_count": 14,
   "metadata": {},
   "outputs": [
    {
     "data": {
      "text/plain": [
       "(1257,)"
      ]
     },
     "execution_count": 14,
     "metadata": {},
     "output_type": "execute_result"
    }
   ],
   "source": [
    "train_labels.shape"
   ]
  },
  {
   "cell_type": "code",
   "execution_count": 15,
   "metadata": {},
   "outputs": [],
   "source": [
    "def linear_reject_pointwise_bases(x, bases, mean=0):\n",
    "    x = x - mean #mean center everything\n",
    "    projection = local_models.utils.linear_project_pointwise_bases(x, bases)\n",
    "    rejection = x - projection\n",
    "    rejection = rejection + mean #re-add the mean in\n",
    "    return rejection\n",
    "\n",
    "def scms(X, lm, kernel, iters=30, constraint_space=None, return_params=False, failure_delta=None):\n",
    "    #all_failures = []\n",
    "    \n",
    "    timelog = local_models.loggin.TimeLogger(logger=logger, how_often=1, total=iters, tag=\"local_svm_shifter\")\n",
    "\n",
    "    if failure_delta is None:\n",
    "        failure_delta = np.average(lm.index.query(X, k=2)[0][:,1])*1e4\n",
    "    for i in range(iters):\n",
    "        with timelog:\n",
    "            X = np.copy(X)\n",
    "            Xrange = np.arange(X.shape[0])\n",
    "            params = lm.transform(X, r=kernel.support_radius(), weighted=True,\n",
    "                kernel=kernel)\n",
    "            logger.info(\"svm_params_transformed!\")\n",
    "            normalized_params = params/np.sqrt(np.sum(params[:,:X.shape[1]]**2,axis=-1,keepdims=True))\n",
    "            normals = normalized_params[:,:X.shape[1]]\n",
    "            intercepts = normalized_params[:,X.shape[1]]\n",
    "            biggest_normal_component = np.argmax(normals, axis=1)\n",
    "            biggest_normal_component_indices = np.stack((Xrange, biggest_normal_component))\n",
    "            biggest_normal_component_indices = tuple(map(tuple, biggest_normal_component_indices))\n",
    "\n",
    "            plane_pt_component = -intercepts/normalized_params[biggest_normal_component_indices]\n",
    "            plane_pts = np.zeros(normals.shape)\n",
    "            plane_pts[biggest_normal_component_indices] = plane_pt_component\n",
    "\n",
    "            normals = normals.reshape(X.shape[0], 1, X.shape[1])\n",
    "            new_X = linear_reject_pointwise_bases(X, normals, plane_pts)\n",
    "            failures = np.sqrt(np.sum((new_X-X)**2, axis=1)) > failure_delta\n",
    "            successes = np.logical_not(failures)\n",
    "            X[successes] = new_X[successes]\n",
    "            if constraint_space is not None:\n",
    "                X[successes] = local_models.utils.linear_project_pointwise_bases(X[successes], constraint_space[0][successes], constraint_space[1][successes])\n",
    "\n",
    "            if return_params:\n",
    "                yield X, successes, normals\n",
    "            else:\n",
    "                yield X, successes\n",
    "\n",
    "def exhaust(gen):\n",
    "    def exhauster(*args, **kwargs):\n",
    "        for _ in gen(*args, **kwargs): pass\n",
    "        return _\n",
    "    return exhauster\n",
    "\n",
    "import tempfile\n",
    "import time\n",
    "def scms_parallel_sharedmem(X, lm, kernel, iters=30, constraint_space=None, return_params=False, failure_delta=None, batch_size=100):\n",
    "    batches = (np.array([0, batch_size]) + batch_size*i for i in range(int(np.ceil(X.shape[0]/batch_size))))\n",
    "    with tempfile.NamedTemporaryFile(dir=\"/dev/shm\") as shared_X_ramspace, tempfile.NamedTemporaryFile(dir=\"/dev/shm\") as shared_constraint0_ramspace, tempfile.NamedTemporaryFile(dir=\"/dev/shm\") as shared_constraint1_ramspace:\n",
    "        shared_X = np.memmap(shared_X_ramspace, dtype=X.dtype,\n",
    "                   shape=X.shape, mode='w+')\n",
    "        shared_X[:] = X[:]\n",
    "        if constraint_space is not None:\n",
    "            shared_constraint_space0 = np.memmap(shared_constraint0_ramspace, dtype=constraint_space[0].dtype,\n",
    "                   shape=constraint_space[0].shape, mode='w+')\n",
    "            shared_constraint_space1 = np.memmap(shared_constraint1_ramspace, dtype=constraint_space[1].dtype,\n",
    "                   shape=constraint_space[1].shape, mode='w+')\n",
    "            shared_constraint_space0[:] = constraint_space[0][:]\n",
    "            shared_constraint_space1[:] = constraint_space[1][:]\n",
    "            constraint_space = (shared_constraint_space0, shared_constraint_space1)\n",
    "        parallel_sols = joblib.Parallel(n_jobs=12)(joblib.delayed(exhaust(scms))(\n",
    "            shared_X[slice(*batch)], lm, kernel, iters, \n",
    "            None if constraint_space is None else tuple(map(lambda c: c[slice(*batch)], constraint_space)), \n",
    "            return_params, failure_delta)\n",
    "            for batch in batches)\n",
    "    res = tuple(map(functools.partial(np.concatenate, axis=0), zip(*parallel_sols)))\n",
    "    yield res\n",
    "    \n",
    "def scms_parallel(X, lm, kernel, iters=30, constraint_space=None, return_params=False, failure_delta=None, batch_size=100):\n",
    "    batches = (np.array([0, batch_size]) + batch_size*i for i in range(int(np.ceil(X.shape[0]/batch_size))))\n",
    "    parallel_sols = joblib.Parallel(n_jobs=12)(joblib.delayed(exhaust(scms))(\n",
    "        X[slice(*batch)], lm, kernel, iters, \n",
    "        None if constraint_space is None else tuple(map(lambda c: c[slice(*batch)], constraint_space)), \n",
    "        return_params, failure_delta)\n",
    "        for batch in batches)\n",
    "    res = tuple(map(functools.partial(np.concatenate, axis=0), zip(*parallel_sols)))\n",
    "    yield res\n",
    "\n",
    "import traceback\n",
    "import collections\n",
    "def orthogonal_project_scms(X, lm, kernel, scms_iters=30, newtons_iters=30, alpha=1e-2, return_everything=False, parallel=False, sharedmem=True):\n",
    "    #1. do scms to get *a* point on the surface, y\n",
    "    #2. get the tangent plane at y\n",
    "    scms_method = scms_parallel_sharedmem if (parallel and sharedmem) else (scms_parallel if parallel else scms)\n",
    "\n",
    "    newton_timelog = local_models.loggin.TimeLogger(logger=logger, how_often=1, total=newtons_iters, tag=\"local_svm_newton\")\n",
    "    shifter_timelog = local_models.loggin.TimeLogger(logger=logger, how_often=1, total=scms_iters, tag=\"local_svm_shift\")\n",
    "\n",
    "    logger.info(\"svm shifting!\")\n",
    "    if return_everything:\n",
    "        everything = collections.defaultdict(list)\n",
    "    shifter = scms_method(X,lm,kernel,iters=scms_iters,return_params=True)\n",
    "    for y, successes, normals in shifter:\n",
    "        with shifter_timelog:\n",
    "            if return_everything:\n",
    "                everything[0].append((y, successes, normals))\n",
    "    shifter_timelog.i=0\n",
    "    logger.info(\"svm shifted!\")\n",
    "    X = X[successes]\n",
    "    y = y[successes]\n",
    "    normals = normals[successes]\n",
    "    #3. do scms while projecting along some convex combo of the line passing thru x and y, and \n",
    "    #   the line passing through x and along the normal vector to the tangent plane in 2 to get y'\n",
    "    #4. y <- y'\n",
    "    #5. GOTO 2\n",
    "    for i in range(newtons_iters):\n",
    "        with newton_timelog:\n",
    "            try:\n",
    "                Xy = y-X\n",
    "                normalized_Xy = (Xy)/np.sqrt(np.sum(Xy**2,axis=1,keepdims=True))\n",
    "                normalized_Xy = np.expand_dims(normalized_Xy, 1)\n",
    "                #print(\"shapes\", normalized_Xy.shape, normals.shape)\n",
    "                surface_normal_aligned_Xy = normalized_Xy * np.sign(np.sum(normalized_Xy*normals, axis=-1, keepdims=True))\n",
    "                constraint_vec = surface_normal_aligned_Xy*(1-alpha) + normals*alpha\n",
    "                constraint_vec = constraint_vec/np.sqrt(np.sum(constraint_vec**2, axis=-1, keepdims=True))\n",
    "                print(\"constraint shape\", constraint_vec.shape)\n",
    "                shifter = scms_method(X,lm,kernel,iters=scms_iters,return_params=True,constraint_space=(constraint_vec, X))\n",
    "                for y, successes, normals in shifter:\n",
    "                    with shifter_timelog:\n",
    "                        if return_everything:\n",
    "                            everything[i+1].append((y, successes, normals))\n",
    "                shifter_timelog.i=0\n",
    "                X = X[successes]\n",
    "                y = y[successes]\n",
    "                normals = normals[successes]\n",
    "            except:\n",
    "                logger.info(traceback.print_exc())\n",
    "                break\n",
    "    if return_everything:\n",
    "        return everything\n",
    "    return X, y, normals  "
   ]
  },
  {
   "cell_type": "raw",
   "metadata": {},
   "source": [
    "class SVM_SCMS_Classifier(sklearn.base.ClassifierMixin):\n",
    "    def __init__(self, penalty='l2', loss='squared_hinge', dual=True, \n",
    "        tol=0.0001, C=1.0, multi_class='ovr', fit_intercept=True, \n",
    "        intercept_scaling=1, class_weight=None, verbose=0, random_state=None, max_iter=1000,\n",
    "        kernel=None):\n",
    "        \n",
    "        self.penalty=penalty\n",
    "        self.loss=loss\n",
    "        self.dual=dual\n",
    "        self.tol=tol\n",
    "        self.C=C\n",
    "        self.multi_class=multi_class\n",
    "        self.fit_intercept=fit_intercept\n",
    "        self.intercept_scaling=intercept_scaling\n",
    "        self.class_weight=class_weight\n",
    "        self.verbose=verbose\n",
    "        self.random_state=random_state\n",
    "        self.max_iter=max_iter\n",
    "        \n",
    "    def fit(self, X, y):\n",
    "        self.model = sklearn.svm.SVC(penalty=self.penalty, loss=self.loss, dual=self.dual,\n",
    "            tol=self.tol, C=self.C, multi_class=self.multi_class, fit_intercept=self.fit_intercept, \n",
    "            intercept_scaling=self.intercept_scaling, class_weight=self.class_weight, verbose=self.verbose, \n",
    "            random_state=self.random_state, max_iter=self.max_iter)\n",
    "        self.lmodels = local_models.local_models.LocalModels(self.model)\n",
    "        self.lmodels.fit(X, y)\n",
    "        return self\n",
    "        \n",
    "    def predict(self, X):\n",
    "        pass\n",
    "        "
   ]
  },
  {
   "cell_type": "code",
   "execution_count": 16,
   "metadata": {},
   "outputs": [],
   "source": [
    "mnist_onehotifier = sklearn.preprocessing.OneHotEncoder([list(range(10))])"
   ]
  },
  {
   "cell_type": "code",
   "execution_count": 17,
   "metadata": {},
   "outputs": [
    {
     "data": {
      "text/plain": [
       "OneHotEncoder(categories=[[0, 1, 2, 3, 4, 5, 6, 7, 8, 9]], drop=None,\n",
       "              dtype=<class 'numpy.float64'>, handle_unknown='error',\n",
       "              sparse=True)"
      ]
     },
     "execution_count": 17,
     "metadata": {},
     "output_type": "execute_result"
    }
   ],
   "source": [
    "mnist_onehotifier.fit(np.array([list(range(10))]).T)"
   ]
  },
  {
   "cell_type": "code",
   "execution_count": 18,
   "metadata": {},
   "outputs": [
    {
     "data": {
      "text/plain": [
       "<1257x10 sparse matrix of type '<class 'numpy.float64'>'\n",
       "\twith 1257 stored elements in Compressed Sparse Row format>"
      ]
     },
     "execution_count": 18,
     "metadata": {},
     "output_type": "execute_result"
    }
   ],
   "source": [
    "onehot_labels = mnist_onehotifier.transform(np.expand_dims(train_labels, 1))\n",
    "onehot_labels"
   ]
  },
  {
   "cell_type": "code",
   "execution_count": 19,
   "metadata": {},
   "outputs": [
    {
     "data": {
      "text/plain": [
       "array([9, 6, 0, ..., 9, 1, 5])"
      ]
     },
     "execution_count": 19,
     "metadata": {},
     "output_type": "execute_result"
    }
   ],
   "source": [
    "train_labels"
   ]
  },
  {
   "cell_type": "code",
   "execution_count": 20,
   "metadata": {},
   "outputs": [],
   "source": [
    "onehot_labels = onehot_labels.toarray()"
   ]
  },
  {
   "cell_type": "code",
   "execution_count": 21,
   "metadata": {},
   "outputs": [
    {
     "data": {
      "text/plain": [
       "array([[0., 0., 0., ..., 0., 0., 1.],\n",
       "       [0., 0., 0., ..., 0., 0., 0.],\n",
       "       [1., 0., 0., ..., 0., 0., 0.],\n",
       "       ...,\n",
       "       [0., 0., 0., ..., 0., 0., 1.],\n",
       "       [0., 1., 0., ..., 0., 0., 0.],\n",
       "       [0., 0., 0., ..., 0., 0., 0.]])"
      ]
     },
     "execution_count": 21,
     "metadata": {},
     "output_type": "execute_result"
    }
   ],
   "source": [
    "onehot_labels"
   ]
  },
  {
   "cell_type": "code",
   "execution_count": 36,
   "metadata": {},
   "outputs": [],
   "source": [
    "import pickle\n",
    "RUN=6\n",
    "models_dir = os.path.join(project_dir, \"ovr_models_r{:03d}_b{:08.04f}_C{:08.04f}\".format(RUN,kernel.bandwidth,model.C))\n",
    "os.makedirs(models_dir, exist_ok=1)"
   ]
  },
  {
   "cell_type": "code",
   "execution_count": 37,
   "metadata": {},
   "outputs": [],
   "source": [
    "ovr_local_models = []\n",
    "for i in range(onehot_labels.shape[1]):\n",
    "    ovr_local_models.append(local_models.local_models.LocalModels(model))\n",
    "    ovr_local_models[-1].fit(train_data, onehot_labels[:,i])    "
   ]
  },
  {
   "cell_type": "code",
   "execution_count": 38,
   "metadata": {},
   "outputs": [
    {
     "data": {
      "text/plain": [
       "{'index': <sklearn.neighbors._ball_tree.BallTree at 0x7253dc8>,\n",
       " 'k': None,\n",
       " 'model': LinearSVC(C=1.0, class_weight=None, dual=False, fit_intercept=True,\n",
       "           intercept_scaling=1, loss='squared_hinge', max_iter=1000,\n",
       "           multi_class='ovr', penalty='l2', random_state=None, tol=0.0001,\n",
       "           verbose=0),\n",
       " 'model_features': array([[ 0.,  0.,  2., ...,  3.,  0.,  0.],\n",
       "        [ 0.,  0.,  3., ..., 14.,  4.,  0.],\n",
       "        [ 0.,  0.,  6., ...,  8.,  0.,  0.],\n",
       "        ...,\n",
       "        [ 0.,  0.,  7., ..., 13.,  2.,  0.],\n",
       "        [ 0.,  0.,  0., ..., 16.,  1.,  0.],\n",
       "        [ 0.,  0.,  8., ...,  0.,  0.,  0.]]),\n",
       " 'model_targets': array([0., 0., 0., ..., 0., 0., 0.]),\n",
       " 'r': None,\n",
       " 'sample_weight': None}"
      ]
     },
     "execution_count": 38,
     "metadata": {},
     "output_type": "execute_result"
    }
   ],
   "source": [
    "ovr_local_models[7].__dict__"
   ]
  },
  {
   "cell_type": "code",
   "execution_count": 39,
   "metadata": {},
   "outputs": [
    {
     "name": "stdout",
     "output_type": "stream",
     "text": [
      "0 119.0\n",
      "1 133.0\n",
      "2 128.0\n",
      "3 119.0\n",
      "4 120.0\n",
      "5 135.0\n",
      "6 130.0\n",
      "7 122.0\n",
      "8 128.0\n",
      "9 123.0\n"
     ]
    }
   ],
   "source": [
    "for i in range(len(ovr_local_models)):\n",
    "    print(i, np.sum(ovr_local_models[i].model_targets))"
   ]
  },
  {
   "cell_type": "code",
   "execution_count": 40,
   "metadata": {},
   "outputs": [
    {
     "data": {
      "text/plain": [
       "{'index': <sklearn.neighbors._ball_tree.BallTree at 0x72684f8>,\n",
       " 'k': None,\n",
       " 'model': LinearSVC(C=1.0, class_weight=None, dual=False, fit_intercept=True,\n",
       "           intercept_scaling=1, loss='squared_hinge', max_iter=1000,\n",
       "           multi_class='ovr', penalty='l2', random_state=None, tol=0.0001,\n",
       "           verbose=0),\n",
       " 'model_features': array([[ 0.,  0.,  2., ...,  3.,  0.,  0.],\n",
       "        [ 0.,  0.,  3., ..., 14.,  4.,  0.],\n",
       "        [ 0.,  0.,  6., ...,  8.,  0.,  0.],\n",
       "        ...,\n",
       "        [ 0.,  0.,  7., ..., 13.,  2.,  0.],\n",
       "        [ 0.,  0.,  0., ..., 16.,  1.,  0.],\n",
       "        [ 0.,  0.,  8., ...,  0.,  0.,  0.]]),\n",
       " 'model_targets': array([0., 0., 0., ..., 0., 0., 0.]),\n",
       " 'r': None,\n",
       " 'sample_weight': None}"
      ]
     },
     "execution_count": 40,
     "metadata": {},
     "output_type": "execute_result"
    }
   ],
   "source": [
    "ovr_local_models[8].__dict__"
   ]
  },
  {
   "cell_type": "code",
   "execution_count": null,
   "metadata": {},
   "outputs": [
    {
     "name": "stdout",
     "output_type": "stream",
     "text": [
      "constraint shape (1257, 1, 64)\n",
      "constraint shape (1257, 1, 64)\n",
      "constraint shape (1257, 1, 64)\n",
      "constraint shape (1257, 1, 64)\n",
      "constraint shape (1257, 1, 64)\n",
      "constraint shape (1257, 1, 64)\n",
      "constraint shape (1257, 1, 64)\n",
      "constraint shape (1257, 1, 64)\n",
      "constraint shape (1257, 1, 64)\n",
      "constraint shape (1257, 1, 64)\n",
      "constraint shape (1257, 1, 64)\n",
      "constraint shape (1257, 1, 64)\n",
      "constraint shape (1257, 1, 64)\n",
      "constraint shape (1257, 1, 64)\n",
      "constraint shape (1257, 1, 64)\n",
      "constraint shape (1257, 1, 64)\n",
      "constraint shape (1257, 1, 64)\n",
      "constraint shape (1257, 1, 64)\n",
      "constraint shape (1257, 1, 64)\n",
      "constraint shape (1257, 1, 64)\n",
      "constraint shape (1257, 1, 64)\n",
      "constraint shape (1257, 1, 64)\n",
      "constraint shape (1257, 1, 64)\n",
      "constraint shape (1257, 1, 64)\n",
      "constraint shape (1257, 1, 64)\n",
      "constraint shape (1257, 1, 64)\n",
      "constraint shape (1257, 1, 64)\n",
      "constraint shape (1257, 1, 64)\n",
      "constraint shape (1257, 1, 64)\n",
      "constraint shape (1257, 1, 64)\n",
      "(1257, 64) (1257, 64) (1257, 1, 64)\n",
      "constraint shape (1257, 1, 64)\n",
      "constraint shape (1257, 1, 64)\n",
      "constraint shape (1257, 1, 64)\n",
      "constraint shape (1257, 1, 64)\n",
      "constraint shape (1257, 1, 64)\n",
      "constraint shape (1257, 1, 64)\n",
      "constraint shape (1257, 1, 64)\n",
      "constraint shape (1257, 1, 64)\n",
      "constraint shape (1257, 1, 64)\n",
      "constraint shape (1257, 1, 64)\n",
      "constraint shape (1257, 1, 64)\n",
      "constraint shape (1257, 1, 64)\n",
      "constraint shape (1257, 1, 64)\n",
      "constraint shape (1257, 1, 64)\n",
      "constraint shape (1257, 1, 64)\n",
      "constraint shape (1257, 1, 64)\n",
      "constraint shape (1257, 1, 64)\n",
      "constraint shape (1257, 1, 64)\n",
      "constraint shape (1257, 1, 64)\n",
      "constraint shape (1257, 1, 64)\n",
      "constraint shape (1257, 1, 64)\n",
      "constraint shape (1257, 1, 64)\n",
      "constraint shape (1257, 1, 64)\n",
      "constraint shape (1257, 1, 64)\n",
      "constraint shape (1257, 1, 64)\n",
      "constraint shape (1257, 1, 64)\n",
      "constraint shape (1257, 1, 64)\n",
      "constraint shape (1257, 1, 64)\n",
      "constraint shape (1257, 1, 64)\n",
      "constraint shape (1257, 1, 64)\n",
      "(1257, 64) (1257, 64) (1257, 1, 64)\n",
      "constraint shape (1257, 1, 64)\n",
      "constraint shape (1257, 1, 64)\n",
      "constraint shape (1257, 1, 64)\n",
      "constraint shape (1257, 1, 64)\n",
      "constraint shape (1257, 1, 64)\n",
      "constraint shape (1257, 1, 64)\n",
      "constraint shape (1257, 1, 64)\n",
      "constraint shape (1257, 1, 64)\n",
      "constraint shape (1257, 1, 64)\n",
      "constraint shape (1257, 1, 64)\n",
      "constraint shape (1257, 1, 64)\n",
      "constraint shape (1257, 1, 64)\n",
      "constraint shape (1257, 1, 64)\n",
      "constraint shape (1257, 1, 64)\n",
      "constraint shape (1257, 1, 64)\n",
      "constraint shape (1257, 1, 64)\n",
      "constraint shape (1257, 1, 64)\n",
      "constraint shape (1257, 1, 64)\n",
      "constraint shape (1257, 1, 64)\n",
      "constraint shape (1257, 1, 64)\n",
      "constraint shape (1257, 1, 64)\n",
      "constraint shape (1257, 1, 64)\n",
      "constraint shape (1257, 1, 64)\n",
      "constraint shape (1257, 1, 64)\n",
      "constraint shape (1257, 1, 64)\n",
      "constraint shape (1257, 1, 64)\n",
      "constraint shape (1257, 1, 64)\n",
      "constraint shape (1257, 1, 64)\n",
      "constraint shape (1257, 1, 64)\n",
      "constraint shape (1257, 1, 64)\n",
      "(1257, 64) (1257, 64) (1257, 1, 64)\n",
      "constraint shape (1257, 1, 64)\n",
      "constraint shape (1257, 1, 64)\n",
      "constraint shape (1257, 1, 64)\n",
      "constraint shape (1257, 1, 64)\n",
      "constraint shape (1257, 1, 64)\n",
      "constraint shape (1257, 1, 64)\n",
      "constraint shape (1257, 1, 64)\n",
      "constraint shape (1257, 1, 64)\n",
      "constraint shape (1257, 1, 64)\n",
      "constraint shape (1257, 1, 64)\n",
      "constraint shape (1257, 1, 64)\n",
      "constraint shape (1257, 1, 64)\n",
      "constraint shape (1257, 1, 64)\n",
      "constraint shape (1257, 1, 64)\n",
      "constraint shape (1257, 1, 64)\n",
      "constraint shape (1257, 1, 64)\n",
      "constraint shape (1257, 1, 64)\n",
      "constraint shape (1257, 1, 64)\n",
      "constraint shape (1257, 1, 64)\n",
      "constraint shape (1257, 1, 64)\n",
      "constraint shape (1257, 1, 64)\n",
      "constraint shape (1257, 1, 64)\n",
      "constraint shape (1257, 1, 64)\n",
      "constraint shape (1257, 1, 64)\n",
      "constraint shape (1257, 1, 64)\n",
      "constraint shape (1257, 1, 64)\n",
      "constraint shape (1257, 1, 64)\n",
      "constraint shape (1257, 1, 64)\n",
      "constraint shape (1257, 1, 64)\n",
      "constraint shape (1257, 1, 64)\n",
      "(1257, 64) (1257, 64) (1257, 1, 64)\n",
      "constraint shape (1257, 1, 64)\n",
      "constraint shape (1257, 1, 64)\n",
      "constraint shape (1257, 1, 64)\n",
      "constraint shape (1257, 1, 64)\n",
      "constraint shape (1257, 1, 64)\n",
      "constraint shape (1257, 1, 64)\n",
      "constraint shape (1257, 1, 64)\n",
      "constraint shape (1257, 1, 64)\n",
      "constraint shape (1257, 1, 64)\n",
      "constraint shape (1257, 1, 64)\n",
      "constraint shape (1257, 1, 64)\n",
      "constraint shape (1257, 1, 64)\n",
      "constraint shape (1257, 1, 64)\n",
      "constraint shape (1257, 1, 64)\n",
      "constraint shape (1257, 1, 64)\n",
      "constraint shape (1257, 1, 64)\n",
      "constraint shape (1257, 1, 64)\n",
      "constraint shape (1257, 1, 64)\n",
      "constraint shape (1257, 1, 64)\n",
      "constraint shape (1257, 1, 64)\n",
      "constraint shape (1257, 1, 64)\n",
      "constraint shape (1257, 1, 64)\n",
      "constraint shape (1257, 1, 64)\n",
      "constraint shape (1257, 1, 64)\n",
      "constraint shape (1257, 1, 64)\n",
      "constraint shape (1257, 1, 64)\n",
      "constraint shape (1257, 1, 64)\n",
      "constraint shape (1257, 1, 64)\n",
      "constraint shape (1257, 1, 64)\n",
      "constraint shape (1257, 1, 64)\n",
      "(1257, 64) (1257, 64) (1257, 1, 64)\n",
      "constraint shape (1257, 1, 64)\n",
      "constraint shape (1257, 1, 64)\n",
      "constraint shape (1257, 1, 64)\n",
      "constraint shape (1257, 1, 64)\n",
      "constraint shape (1257, 1, 64)\n",
      "constraint shape (1257, 1, 64)\n",
      "constraint shape (1257, 1, 64)\n",
      "constraint shape (1257, 1, 64)\n",
      "constraint shape (1257, 1, 64)\n",
      "constraint shape (1257, 1, 64)\n",
      "constraint shape (1257, 1, 64)\n",
      "constraint shape (1257, 1, 64)\n",
      "constraint shape (1257, 1, 64)\n",
      "constraint shape (1257, 1, 64)\n",
      "constraint shape (1257, 1, 64)\n",
      "constraint shape (1257, 1, 64)\n",
      "constraint shape (1257, 1, 64)\n",
      "constraint shape (1257, 1, 64)\n",
      "constraint shape (1257, 1, 64)\n",
      "constraint shape (1257, 1, 64)\n",
      "constraint shape (1257, 1, 64)\n",
      "constraint shape (1257, 1, 64)\n",
      "constraint shape (1257, 1, 64)\n",
      "constraint shape (1257, 1, 64)\n",
      "constraint shape (1257, 1, 64)\n",
      "constraint shape (1257, 1, 64)\n",
      "constraint shape (1257, 1, 64)\n",
      "constraint shape (1257, 1, 64)\n",
      "constraint shape (1257, 1, 64)\n",
      "constraint shape (1257, 1, 64)\n",
      "(1257, 64) (1257, 64) (1257, 1, 64)\n",
      "constraint shape (1257, 1, 64)\n",
      "constraint shape (1257, 1, 64)\n",
      "constraint shape (1257, 1, 64)\n",
      "constraint shape (1257, 1, 64)\n",
      "constraint shape (1257, 1, 64)\n",
      "constraint shape (1257, 1, 64)\n",
      "constraint shape (1257, 1, 64)\n",
      "constraint shape (1257, 1, 64)\n",
      "constraint shape (1257, 1, 64)\n",
      "constraint shape (1257, 1, 64)\n",
      "constraint shape (1257, 1, 64)\n",
      "constraint shape (1257, 1, 64)\n",
      "constraint shape (1257, 1, 64)\n",
      "constraint shape (1257, 1, 64)\n",
      "constraint shape (1257, 1, 64)\n",
      "constraint shape (1257, 1, 64)\n",
      "constraint shape (1257, 1, 64)\n",
      "constraint shape (1257, 1, 64)\n",
      "constraint shape (1257, 1, 64)\n",
      "constraint shape (1257, 1, 64)\n",
      "constraint shape (1257, 1, 64)\n",
      "constraint shape (1257, 1, 64)\n",
      "constraint shape (1257, 1, 64)\n",
      "constraint shape (1257, 1, 64)\n",
      "constraint shape (1257, 1, 64)\n",
      "constraint shape (1257, 1, 64)\n",
      "constraint shape (1257, 1, 64)\n",
      "constraint shape (1257, 1, 64)\n",
      "constraint shape (1257, 1, 64)\n",
      "constraint shape (1257, 1, 64)\n",
      "(1257, 64) (1257, 64) (1257, 1, 64)\n",
      "constraint shape (1257, 1, 64)\n",
      "constraint shape (1257, 1, 64)\n",
      "constraint shape (1257, 1, 64)\n",
      "constraint shape (1257, 1, 64)\n",
      "constraint shape (1257, 1, 64)\n",
      "constraint shape (1257, 1, 64)\n",
      "constraint shape (1257, 1, 64)\n",
      "constraint shape (1257, 1, 64)\n",
      "constraint shape (1257, 1, 64)\n",
      "constraint shape (1257, 1, 64)\n",
      "constraint shape (1257, 1, 64)\n",
      "constraint shape (1257, 1, 64)\n",
      "constraint shape (1257, 1, 64)\n",
      "constraint shape (1257, 1, 64)\n",
      "constraint shape (1257, 1, 64)\n",
      "constraint shape (1257, 1, 64)\n",
      "constraint shape (1257, 1, 64)\n",
      "constraint shape (1257, 1, 64)\n",
      "constraint shape (1257, 1, 64)\n",
      "constraint shape (1257, 1, 64)\n",
      "constraint shape (1257, 1, 64)\n",
      "constraint shape (1257, 1, 64)\n",
      "constraint shape (1257, 1, 64)\n",
      "constraint shape (1257, 1, 64)\n",
      "constraint shape (1257, 1, 64)\n",
      "constraint shape (1257, 1, 64)\n",
      "constraint shape (1257, 1, 64)\n",
      "constraint shape (1257, 1, 64)\n",
      "constraint shape (1257, 1, 64)\n",
      "constraint shape (1257, 1, 64)\n",
      "(1257, 64) (1257, 64) (1257, 1, 64)\n",
      "constraint shape (1257, 1, 64)\n",
      "constraint shape (1257, 1, 64)\n",
      "constraint shape (1257, 1, 64)\n",
      "constraint shape (1257, 1, 64)\n",
      "constraint shape (1257, 1, 64)\n",
      "constraint shape (1257, 1, 64)\n",
      "constraint shape (1257, 1, 64)\n",
      "constraint shape (1257, 1, 64)\n",
      "constraint shape (1257, 1, 64)\n",
      "constraint shape (1257, 1, 64)\n",
      "constraint shape (1257, 1, 64)\n",
      "constraint shape (1257, 1, 64)\n",
      "constraint shape (1257, 1, 64)\n",
      "constraint shape (1257, 1, 64)\n",
      "constraint shape (1257, 1, 64)\n"
     ]
    },
    {
     "name": "stdout",
     "output_type": "stream",
     "text": [
      "constraint shape (1257, 1, 64)\n",
      "constraint shape (1257, 1, 64)\n"
     ]
    }
   ],
   "source": [
    "train_predictions = []\n",
    "for i in range(onehot_labels.shape[1]):\n",
    "    train_predictions.append(\n",
    "        orthogonal_project_scms(train_data, ovr_local_models[i], kernel, return_everything=False, alpha=0.3, parallel=True, sharedmem=False)\n",
    "    )\n",
    "    X,y,normals = train_predictions[-1]\n",
    "    print(X.shape, y.shape, normals.shape)\n",
    "    logger.info(\"fitted mnist ovr model {}\".format(i))\n",
    "    np.savetxt(os.path.join(models_dir, \"ovr_model_predictions_X_{:03d}\".format(i)), X)\n",
    "    np.savetxt(os.path.join(models_dir, \"ovr_model_predictions_y_{:03d}\".format(i)), y)\n",
    "    np.savetxt(os.path.join(models_dir, \"ovr_model_predictions_normals_{:03d}\".format(i)), normals[:,0,:])"
   ]
  },
  {
   "cell_type": "code",
   "execution_count": 43,
   "metadata": {},
   "outputs": [
    {
     "name": "stdout",
     "output_type": "stream",
     "text": [
      "(1257, 64) (1257, 64) (1257, 64)\n",
      "(1257, 64) (1257, 64) (1257, 64)\n",
      "(1257, 64) (1257, 64) (1257, 64)\n",
      "(1257, 64) (1257, 64) (1257, 64)\n",
      "(1257, 64) (1257, 64) (1257, 64)\n",
      "(1257, 64) (1257, 64) (1257, 64)\n",
      "(1257, 64) (1257, 64) (1257, 64)\n",
      "(1257, 64) (1257, 64) (1257, 64)\n",
      "(1257, 64) (1257, 64) (1257, 64)\n",
      "(1257, 64) (1257, 64) (1257, 64)\n"
     ]
    }
   ],
   "source": [
    "train_predictions = []\n",
    "for i in range(onehot_labels.shape[1]):\n",
    "    X = np.loadtxt(os.path.join(models_dir, \"ovr_model_predictions_X_{:03d}\".format(i)))\n",
    "    y = np.loadtxt(os.path.join(models_dir, \"ovr_model_predictions_y_{:03d}\".format(i)))\n",
    "    normals = np.loadtxt(os.path.join(models_dir, \"ovr_model_predictions_normals_{:03d}\".format(i)))\n",
    "    train_predictions.append((X,y,normals))\n",
    "    print(X.shape, y.shape, normals.shape)"
   ]
  },
  {
   "cell_type": "code",
   "execution_count": 44,
   "metadata": {},
   "outputs": [
    {
     "data": {
      "text/plain": [
       "array([[ 0.        , -0.57714073,  1.53114836, ...,  2.63713428,\n",
       "        -2.03263322, -0.63591396],\n",
       "       [ 0.        , -0.3045038 ,  2.7524381 , ..., 13.8085974 ,\n",
       "         2.9273734 , -0.33600156],\n",
       "       [ 0.        ,  0.23715651,  6.19249451, ...,  8.14878571,\n",
       "         0.83498469,  0.26130162],\n",
       "       ...,\n",
       "       [ 0.        , -0.38533083,  6.68694644, ..., 12.75792069,\n",
       "         0.64232428, -0.42480886],\n",
       "       [ 0.        , -0.95562008, -0.80604964, ..., 15.4038431 ,\n",
       "        -2.39072848, -1.05851398],\n",
       "       [ 0.        , -0.71062207,  7.70114286, ..., -0.52933563,\n",
       "        -2.57581006, -0.84387405]])"
      ]
     },
     "execution_count": 44,
     "metadata": {},
     "output_type": "execute_result"
    }
   ],
   "source": [
    "train_predictions[0][1]"
   ]
  },
  {
   "cell_type": "code",
   "execution_count": 45,
   "metadata": {},
   "outputs": [],
   "source": [
    "train_pred_labels = []\n",
    "train_pred_scores = []"
   ]
  },
  {
   "cell_type": "code",
   "execution_count": 46,
   "metadata": {},
   "outputs": [
    {
     "data": {
      "text/plain": [
       "array([[ 0.,  0.,  2., ...,  3.,  0.,  0.],\n",
       "       [ 0.,  0.,  3., ..., 14.,  4.,  0.],\n",
       "       [ 0.,  0.,  6., ...,  8.,  0.,  0.],\n",
       "       ...,\n",
       "       [ 0.,  0.,  7., ..., 13.,  2.,  0.],\n",
       "       [ 0.,  0.,  0., ..., 16.,  1.,  0.],\n",
       "       [ 0.,  0.,  8., ...,  0.,  0.,  0.]])"
      ]
     },
     "execution_count": 46,
     "metadata": {},
     "output_type": "execute_result"
    }
   ],
   "source": [
    "ovr_local_models[8].model_features"
   ]
  },
  {
   "cell_type": "code",
   "execution_count": 47,
   "metadata": {},
   "outputs": [
    {
     "data": {
      "text/plain": [
       "array([0., 1.])"
      ]
     },
     "execution_count": 47,
     "metadata": {},
     "output_type": "execute_result"
    }
   ],
   "source": [
    "np.unique(ovr_local_models[8].model_targets)"
   ]
  },
  {
   "cell_type": "code",
   "execution_count": 50,
   "metadata": {},
   "outputs": [],
   "source": [
    "start = time.time()\n",
    "preds = []\n",
    "scores = []\n",
    "for i in range(onehot_labels.shape[1]):\n",
    "    logger.info(\"training_scores {} {}\".format(i, (time.time() - start)/3600))\n",
    "    preds.append(ovr_local_models[i].predict(train_data, kernel=kernel, r=kernel.support_radius()))\n",
    "    scores.append(np.sqrt(np.sum((preds[i][0] - preds[i][1])**2, axis=-1)))"
   ]
  },
  {
   "cell_type": "code",
   "execution_count": 51,
   "metadata": {},
   "outputs": [
    {
     "data": {
      "text/plain": [
       "([array([[0.],\n",
       "         [0.],\n",
       "         [1.],\n",
       "         ...,\n",
       "         [0.],\n",
       "         [0.],\n",
       "         [0.]]), array([[0.],\n",
       "         [0.],\n",
       "         [0.],\n",
       "         ...,\n",
       "         [0.],\n",
       "         [1.],\n",
       "         [0.]]), array([[0.],\n",
       "         [0.],\n",
       "         [0.],\n",
       "         ...,\n",
       "         [0.],\n",
       "         [0.],\n",
       "         [0.]]), array([[0.],\n",
       "         [0.],\n",
       "         [0.],\n",
       "         ...,\n",
       "         [0.],\n",
       "         [0.],\n",
       "         [0.]]), array([[0.],\n",
       "         [0.],\n",
       "         [0.],\n",
       "         ...,\n",
       "         [0.],\n",
       "         [0.],\n",
       "         [0.]]), array([[0.],\n",
       "         [0.],\n",
       "         [0.],\n",
       "         ...,\n",
       "         [0.],\n",
       "         [0.],\n",
       "         [1.]]), array([[0.],\n",
       "         [1.],\n",
       "         [0.],\n",
       "         ...,\n",
       "         [0.],\n",
       "         [0.],\n",
       "         [0.]]), array([[0.],\n",
       "         [0.],\n",
       "         [0.],\n",
       "         ...,\n",
       "         [0.],\n",
       "         [0.],\n",
       "         [0.]]), array([[0.],\n",
       "         [0.],\n",
       "         [0.],\n",
       "         ...,\n",
       "         [0.],\n",
       "         [0.],\n",
       "         [0.]]), array([[1.],\n",
       "         [0.],\n",
       "         [0.],\n",
       "         ...,\n",
       "         [1.],\n",
       "         [0.],\n",
       "         [0.]])], [0.0, 0.0, 0.0, 0.0, 0.0, 0.0, 1.0, 0.0, 0.0, 1.0])"
      ]
     },
     "execution_count": 51,
     "metadata": {},
     "output_type": "execute_result"
    }
   ],
   "source": [
    "preds, scores"
   ]
  },
  {
   "cell_type": "code",
   "execution_count": null,
   "metadata": {},
   "outputs": [],
   "source": []
  },
  {
   "cell_type": "code",
   "execution_count": 52,
   "metadata": {},
   "outputs": [
    {
     "name": "stdout",
     "output_type": "stream",
     "text": [
      "constraint shape (540, 1, 64)\n",
      "constraint shape (540, 1, 64)\n",
      "constraint shape (540, 1, 64)\n",
      "constraint shape (540, 1, 64)\n",
      "constraint shape (540, 1, 64)\n",
      "constraint shape (540, 1, 64)\n",
      "constraint shape (540, 1, 64)\n",
      "constraint shape (540, 1, 64)\n",
      "constraint shape (540, 1, 64)\n",
      "constraint shape (540, 1, 64)\n",
      "constraint shape (540, 1, 64)\n",
      "constraint shape (540, 1, 64)\n",
      "constraint shape (540, 1, 64)\n",
      "constraint shape (540, 1, 64)\n",
      "constraint shape (540, 1, 64)\n",
      "constraint shape (540, 1, 64)\n",
      "constraint shape (540, 1, 64)\n",
      "constraint shape (540, 1, 64)\n",
      "constraint shape (540, 1, 64)\n",
      "constraint shape (540, 1, 64)\n",
      "constraint shape (540, 1, 64)\n",
      "constraint shape (540, 1, 64)\n",
      "constraint shape (540, 1, 64)\n",
      "constraint shape (540, 1, 64)\n",
      "constraint shape (540, 1, 64)\n",
      "constraint shape (540, 1, 64)\n",
      "constraint shape (540, 1, 64)\n",
      "constraint shape (540, 1, 64)\n",
      "constraint shape (540, 1, 64)\n",
      "constraint shape (540, 1, 64)\n",
      "(540, 64) (540, 64) (540, 1, 64)\n",
      "constraint shape (540, 1, 64)\n",
      "constraint shape (540, 1, 64)\n",
      "constraint shape (540, 1, 64)\n",
      "constraint shape (540, 1, 64)\n",
      "constraint shape (540, 1, 64)\n",
      "constraint shape (540, 1, 64)\n",
      "constraint shape (540, 1, 64)\n",
      "constraint shape (540, 1, 64)\n",
      "constraint shape (540, 1, 64)\n",
      "constraint shape (540, 1, 64)\n",
      "constraint shape (540, 1, 64)\n",
      "constraint shape (540, 1, 64)\n",
      "constraint shape (540, 1, 64)\n",
      "constraint shape (540, 1, 64)\n",
      "constraint shape (540, 1, 64)\n",
      "constraint shape (540, 1, 64)\n",
      "constraint shape (540, 1, 64)\n",
      "constraint shape (540, 1, 64)\n",
      "constraint shape (540, 1, 64)\n",
      "constraint shape (540, 1, 64)\n",
      "constraint shape (540, 1, 64)\n",
      "constraint shape (540, 1, 64)\n",
      "constraint shape (540, 1, 64)\n",
      "constraint shape (540, 1, 64)\n",
      "constraint shape (540, 1, 64)\n",
      "constraint shape (540, 1, 64)\n",
      "constraint shape (540, 1, 64)\n",
      "constraint shape (540, 1, 64)\n",
      "constraint shape (540, 1, 64)\n",
      "constraint shape (540, 1, 64)\n",
      "(540, 64) (540, 64) (540, 1, 64)\n",
      "constraint shape (540, 1, 64)\n",
      "constraint shape (540, 1, 64)\n",
      "constraint shape (540, 1, 64)\n",
      "constraint shape (540, 1, 64)\n",
      "constraint shape (540, 1, 64)\n",
      "constraint shape (540, 1, 64)\n",
      "constraint shape (540, 1, 64)\n",
      "constraint shape (540, 1, 64)\n",
      "constraint shape (540, 1, 64)\n",
      "constraint shape (540, 1, 64)\n",
      "constraint shape (540, 1, 64)\n",
      "constraint shape (540, 1, 64)\n",
      "constraint shape (540, 1, 64)\n",
      "constraint shape (540, 1, 64)\n",
      "constraint shape (540, 1, 64)\n",
      "constraint shape (540, 1, 64)\n",
      "constraint shape (540, 1, 64)\n",
      "constraint shape (540, 1, 64)\n",
      "constraint shape (540, 1, 64)\n",
      "constraint shape (540, 1, 64)\n",
      "constraint shape (540, 1, 64)\n",
      "constraint shape (540, 1, 64)\n",
      "constraint shape (540, 1, 64)\n",
      "constraint shape (540, 1, 64)\n",
      "constraint shape (540, 1, 64)\n",
      "constraint shape (540, 1, 64)\n",
      "constraint shape (540, 1, 64)\n",
      "constraint shape (540, 1, 64)\n",
      "constraint shape (540, 1, 64)\n",
      "constraint shape (540, 1, 64)\n",
      "(540, 64) (540, 64) (540, 1, 64)\n",
      "constraint shape (540, 1, 64)\n",
      "constraint shape (540, 1, 64)\n",
      "constraint shape (540, 1, 64)\n",
      "constraint shape (540, 1, 64)\n",
      "constraint shape (540, 1, 64)\n",
      "constraint shape (540, 1, 64)\n",
      "constraint shape (540, 1, 64)\n",
      "constraint shape (540, 1, 64)\n",
      "constraint shape (540, 1, 64)\n",
      "constraint shape (540, 1, 64)\n",
      "constraint shape (540, 1, 64)\n",
      "constraint shape (540, 1, 64)\n",
      "constraint shape (540, 1, 64)\n",
      "constraint shape (540, 1, 64)\n",
      "constraint shape (540, 1, 64)\n",
      "constraint shape (540, 1, 64)\n",
      "constraint shape (540, 1, 64)\n",
      "constraint shape (540, 1, 64)\n",
      "constraint shape (540, 1, 64)\n",
      "constraint shape (540, 1, 64)\n",
      "constraint shape (540, 1, 64)\n",
      "constraint shape (540, 1, 64)\n",
      "constraint shape (540, 1, 64)\n",
      "constraint shape (540, 1, 64)\n",
      "constraint shape (540, 1, 64)\n",
      "constraint shape (540, 1, 64)\n",
      "constraint shape (540, 1, 64)\n",
      "constraint shape (540, 1, 64)\n",
      "constraint shape (540, 1, 64)\n",
      "constraint shape (540, 1, 64)\n",
      "(540, 64) (540, 64) (540, 1, 64)\n",
      "constraint shape (540, 1, 64)\n",
      "constraint shape (540, 1, 64)\n",
      "constraint shape (540, 1, 64)\n",
      "constraint shape (540, 1, 64)\n",
      "constraint shape (540, 1, 64)\n",
      "constraint shape (540, 1, 64)\n",
      "constraint shape (540, 1, 64)\n",
      "constraint shape (540, 1, 64)\n",
      "constraint shape (540, 1, 64)\n",
      "constraint shape (540, 1, 64)\n",
      "constraint shape (540, 1, 64)\n",
      "constraint shape (540, 1, 64)\n",
      "constraint shape (540, 1, 64)\n",
      "constraint shape (540, 1, 64)\n",
      "constraint shape (540, 1, 64)\n",
      "constraint shape (540, 1, 64)\n",
      "constraint shape (540, 1, 64)\n",
      "constraint shape (540, 1, 64)\n",
      "constraint shape (540, 1, 64)\n",
      "constraint shape (540, 1, 64)\n",
      "constraint shape (540, 1, 64)\n",
      "constraint shape (540, 1, 64)\n",
      "constraint shape (540, 1, 64)\n",
      "constraint shape (540, 1, 64)\n",
      "constraint shape (540, 1, 64)\n",
      "constraint shape (540, 1, 64)\n",
      "constraint shape (540, 1, 64)\n",
      "constraint shape (540, 1, 64)\n",
      "constraint shape (540, 1, 64)\n",
      "constraint shape (540, 1, 64)\n",
      "(540, 64) (540, 64) (540, 1, 64)\n",
      "constraint shape (540, 1, 64)\n",
      "constraint shape (540, 1, 64)\n",
      "constraint shape (540, 1, 64)\n",
      "constraint shape (540, 1, 64)\n",
      "constraint shape (540, 1, 64)\n",
      "constraint shape (540, 1, 64)\n",
      "constraint shape (540, 1, 64)\n",
      "constraint shape (540, 1, 64)\n",
      "constraint shape (540, 1, 64)\n",
      "constraint shape (540, 1, 64)\n",
      "constraint shape (540, 1, 64)\n",
      "constraint shape (540, 1, 64)\n",
      "constraint shape (540, 1, 64)\n",
      "constraint shape (540, 1, 64)\n",
      "constraint shape (540, 1, 64)\n",
      "constraint shape (540, 1, 64)\n",
      "constraint shape (540, 1, 64)\n",
      "constraint shape (540, 1, 64)\n",
      "constraint shape (540, 1, 64)\n",
      "constraint shape (540, 1, 64)\n",
      "constraint shape (540, 1, 64)\n",
      "constraint shape (540, 1, 64)\n",
      "constraint shape (540, 1, 64)\n",
      "constraint shape (540, 1, 64)\n",
      "constraint shape (540, 1, 64)\n",
      "constraint shape (540, 1, 64)\n",
      "constraint shape (540, 1, 64)\n",
      "constraint shape (540, 1, 64)\n",
      "constraint shape (540, 1, 64)\n",
      "constraint shape (540, 1, 64)\n",
      "(540, 64) (540, 64) (540, 1, 64)\n",
      "constraint shape (540, 1, 64)\n",
      "constraint shape (540, 1, 64)\n",
      "constraint shape (540, 1, 64)\n",
      "constraint shape (540, 1, 64)\n",
      "constraint shape (540, 1, 64)\n",
      "constraint shape (540, 1, 64)\n",
      "constraint shape (540, 1, 64)\n",
      "constraint shape (540, 1, 64)\n",
      "constraint shape (540, 1, 64)\n",
      "constraint shape (540, 1, 64)\n",
      "constraint shape (540, 1, 64)\n",
      "constraint shape (540, 1, 64)\n",
      "constraint shape (540, 1, 64)\n",
      "constraint shape (540, 1, 64)\n",
      "constraint shape (540, 1, 64)\n",
      "constraint shape (540, 1, 64)\n",
      "constraint shape (540, 1, 64)\n",
      "constraint shape (540, 1, 64)\n",
      "constraint shape (540, 1, 64)\n",
      "constraint shape (540, 1, 64)\n",
      "constraint shape (540, 1, 64)\n",
      "constraint shape (540, 1, 64)\n",
      "constraint shape (540, 1, 64)\n",
      "constraint shape (540, 1, 64)\n",
      "constraint shape (540, 1, 64)\n",
      "constraint shape (540, 1, 64)\n",
      "constraint shape (540, 1, 64)\n",
      "constraint shape (540, 1, 64)\n",
      "constraint shape (540, 1, 64)\n",
      "constraint shape (540, 1, 64)\n",
      "(540, 64) (540, 64) (540, 1, 64)\n",
      "constraint shape (540, 1, 64)\n",
      "constraint shape (540, 1, 64)\n",
      "constraint shape (540, 1, 64)\n",
      "constraint shape (540, 1, 64)\n",
      "constraint shape (540, 1, 64)\n",
      "constraint shape (540, 1, 64)\n",
      "constraint shape (540, 1, 64)\n",
      "constraint shape (540, 1, 64)\n",
      "constraint shape (540, 1, 64)\n",
      "constraint shape (540, 1, 64)\n",
      "constraint shape (540, 1, 64)\n",
      "constraint shape (540, 1, 64)\n",
      "constraint shape (540, 1, 64)\n",
      "constraint shape (540, 1, 64)\n",
      "constraint shape (540, 1, 64)\n",
      "constraint shape (540, 1, 64)\n",
      "constraint shape (540, 1, 64)\n",
      "constraint shape (540, 1, 64)\n",
      "constraint shape (540, 1, 64)\n",
      "constraint shape (540, 1, 64)\n",
      "constraint shape (540, 1, 64)\n",
      "constraint shape (540, 1, 64)\n",
      "constraint shape (540, 1, 64)\n",
      "constraint shape (540, 1, 64)\n",
      "constraint shape (540, 1, 64)\n",
      "constraint shape (540, 1, 64)\n",
      "constraint shape (540, 1, 64)\n",
      "constraint shape (540, 1, 64)\n",
      "constraint shape (540, 1, 64)\n",
      "constraint shape (540, 1, 64)\n",
      "(540, 64) (540, 64) (540, 1, 64)\n",
      "constraint shape (540, 1, 64)\n",
      "constraint shape (540, 1, 64)\n",
      "constraint shape (540, 1, 64)\n",
      "constraint shape (540, 1, 64)\n",
      "constraint shape (540, 1, 64)\n",
      "constraint shape (540, 1, 64)\n",
      "constraint shape (540, 1, 64)\n",
      "constraint shape (540, 1, 64)\n",
      "constraint shape (540, 1, 64)\n",
      "constraint shape (540, 1, 64)\n",
      "constraint shape (540, 1, 64)\n",
      "constraint shape (540, 1, 64)\n",
      "constraint shape (540, 1, 64)\n",
      "constraint shape (540, 1, 64)\n",
      "constraint shape (540, 1, 64)\n",
      "constraint shape (540, 1, 64)\n",
      "constraint shape (540, 1, 64)\n",
      "constraint shape (540, 1, 64)\n",
      "constraint shape (540, 1, 64)\n",
      "constraint shape (540, 1, 64)\n",
      "constraint shape (540, 1, 64)\n",
      "constraint shape (540, 1, 64)\n",
      "constraint shape (540, 1, 64)\n",
      "constraint shape (540, 1, 64)\n",
      "constraint shape (540, 1, 64)\n"
     ]
    },
    {
     "name": "stdout",
     "output_type": "stream",
     "text": [
      "constraint shape (540, 1, 64)\n",
      "constraint shape (540, 1, 64)\n",
      "constraint shape (540, 1, 64)\n",
      "constraint shape (540, 1, 64)\n",
      "constraint shape (540, 1, 64)\n",
      "(540, 64) (540, 64) (540, 1, 64)\n",
      "constraint shape (540, 1, 64)\n",
      "constraint shape (540, 1, 64)\n",
      "constraint shape (540, 1, 64)\n",
      "constraint shape (540, 1, 64)\n",
      "constraint shape (540, 1, 64)\n",
      "constraint shape (540, 1, 64)\n",
      "constraint shape (540, 1, 64)\n",
      "constraint shape (540, 1, 64)\n",
      "constraint shape (540, 1, 64)\n",
      "constraint shape (540, 1, 64)\n",
      "constraint shape (540, 1, 64)\n",
      "constraint shape (540, 1, 64)\n",
      "constraint shape (540, 1, 64)\n",
      "constraint shape (540, 1, 64)\n",
      "constraint shape (540, 1, 64)\n",
      "constraint shape (540, 1, 64)\n",
      "constraint shape (540, 1, 64)\n",
      "constraint shape (540, 1, 64)\n",
      "constraint shape (540, 1, 64)\n",
      "constraint shape (540, 1, 64)\n",
      "constraint shape (540, 1, 64)\n",
      "constraint shape (540, 1, 64)\n",
      "constraint shape (540, 1, 64)\n",
      "constraint shape (540, 1, 64)\n",
      "constraint shape (540, 1, 64)\n",
      "constraint shape (540, 1, 64)\n",
      "constraint shape (540, 1, 64)\n",
      "constraint shape (540, 1, 64)\n",
      "constraint shape (540, 1, 64)\n",
      "constraint shape (540, 1, 64)\n",
      "(540, 64) (540, 64) (540, 1, 64)\n"
     ]
    }
   ],
   "source": [
    "test_predictions = []\n",
    "for i in range(onehot_labels.shape[1]):\n",
    "    test_predictions.append(\n",
    "        orthogonal_project_scms(test_data, ovr_local_models[i], kernel, return_everything=False, alpha=0.3, parallel=True, sharedmem=False)\n",
    "    )\n",
    "    X,y,normals = test_predictions[-1]\n",
    "    print(X.shape, y.shape, normals.shape)\n",
    "    logger.info(\"fitted mnist test ovr model {}\".format(i))\n",
    "    np.savetxt(os.path.join(models_dir, \"ovr_model_test_predictions_X_{:03d}\".format(i)), X)\n",
    "    np.savetxt(os.path.join(models_dir, \"ovr_model_test_predictions_y_{:03d}\".format(i)), y)\n",
    "    np.savetxt(os.path.join(models_dir, \"ovr_model_test_predictions_normals_{:03d}\".format(i)), normals[:,0,:])"
   ]
  },
  {
   "cell_type": "code",
   "execution_count": 54,
   "metadata": {},
   "outputs": [
    {
     "data": {
      "text/plain": [
       "array([119., 133., 128., 119., 120., 135., 130., 122., 128., 123.])"
      ]
     },
     "execution_count": 54,
     "metadata": {},
     "output_type": "execute_result"
    }
   ],
   "source": [
    "np.sum(onehot_labels, axis=0)"
   ]
  },
  {
   "cell_type": "code",
   "execution_count": 55,
   "metadata": {},
   "outputs": [
    {
     "data": {
      "text/plain": [
       "array([[0., 0., 0., ..., 0., 0., 1.],\n",
       "       [0., 0., 0., ..., 0., 0., 0.],\n",
       "       [1., 0., 0., ..., 0., 0., 0.],\n",
       "       ...,\n",
       "       [0., 0., 0., ..., 0., 0., 1.],\n",
       "       [0., 1., 0., ..., 0., 0., 0.],\n",
       "       [0., 0., 0., ..., 0., 0., 0.]])"
      ]
     },
     "execution_count": 55,
     "metadata": {},
     "output_type": "execute_result"
    }
   ],
   "source": [
    "onehot_labels"
   ]
  },
  {
   "cell_type": "code",
   "execution_count": 57,
   "metadata": {},
   "outputs": [
    {
     "data": {
      "text/plain": [
       "(10, 10)"
      ]
     },
     "execution_count": 57,
     "metadata": {},
     "output_type": "execute_result"
    }
   ],
   "source": [
    "len(train_predictions), len(test_predictions)"
   ]
  },
  {
   "cell_type": "code",
   "execution_count": 59,
   "metadata": {},
   "outputs": [],
   "source": [
    "test_Xy = (test_predictions[0][0] - test_predictions[0][1])\n",
    "test_Xy_normalized = test_Xy/np.sqrt(np.sum(test_Xy**2, axis=1,keepdims=True))"
   ]
  },
  {
   "cell_type": "code",
   "execution_count": 69,
   "metadata": {},
   "outputs": [],
   "source": [
    "train_Xy = (train_predictions[0][0] - train_predictions[0][1])"
   ]
  },
  {
   "cell_type": "code",
   "execution_count": 67,
   "metadata": {},
   "outputs": [
    {
     "data": {
      "text/plain": [
       "array([1., 1., 1., 1., 1., 1., 1., 1., 1., 1., 1., 1., 1., 1., 1., 1., 1.,\n",
       "       1., 1., 1., 1., 1., 1., 1., 1., 1., 1., 1., 1., 1., 1., 1., 1., 1.,\n",
       "       1., 1., 1., 1., 1., 1., 1., 1., 1., 1., 1., 1., 1., 1., 1., 1., 1.,\n",
       "       1., 1., 1., 1., 1., 1., 1., 1., 1., 1., 1., 1., 1., 1., 1., 1., 1.,\n",
       "       1., 1., 1., 1., 1., 1., 1., 1., 1., 1., 1., 1., 1., 1., 1., 1., 1.,\n",
       "       1., 1., 1., 1., 1., 1., 1., 1., 1., 1., 1., 1., 1., 1., 1., 1., 1.,\n",
       "       1., 1., 1., 1., 1., 1., 1., 1., 1., 1., 1., 1., 1., 1., 1., 1., 1.,\n",
       "       1., 1., 1., 1., 1., 1., 1., 1., 1., 1., 1., 1., 1., 1., 1., 1., 1.,\n",
       "       1., 1., 1., 1., 1., 1., 1., 1., 1., 1., 1., 1., 1., 1., 1., 1., 1.,\n",
       "       1., 1., 1., 1., 1., 1., 1., 1., 1., 1., 1., 1., 1., 1., 1., 1., 1.,\n",
       "       1., 1., 1., 1., 1., 1., 1., 1., 1., 1., 1., 1., 1., 1., 1., 1., 1.,\n",
       "       1., 1., 1., 1., 1., 1., 1., 1., 1., 1., 1., 1., 1., 1., 1., 1., 1.,\n",
       "       1., 1., 1., 1., 1., 1., 1., 1., 1., 1., 1., 1., 1., 1., 1., 1., 1.,\n",
       "       1., 1., 1., 1., 1., 1., 1., 1., 1., 1., 1., 1., 1., 1., 1., 1., 1.,\n",
       "       1., 1., 1., 1., 1., 1., 1., 1., 1., 1., 1., 1., 1., 1., 1., 1., 1.,\n",
       "       1., 1., 1., 1., 1., 1., 1., 1., 1., 1., 1., 1., 1., 1., 1., 1., 1.,\n",
       "       1., 1., 1., 1., 1., 1., 1., 1., 1., 1., 1., 1., 1., 1., 1., 1., 1.,\n",
       "       1., 1., 1., 1., 1., 1., 1., 1., 1., 1., 1., 1., 1., 1., 1., 1., 1.,\n",
       "       1., 1., 1., 1., 1., 1., 1., 1., 1., 1., 1., 1., 1., 1., 1., 1., 1.,\n",
       "       1., 1., 1., 1., 1., 1., 1., 1., 1., 1., 1., 1., 1., 1., 1., 1., 1.,\n",
       "       1., 1., 1., 1., 1., 1., 1., 1., 1., 1., 1., 1., 1., 1., 1., 1., 1.,\n",
       "       1., 1., 1., 1., 1., 1., 1., 1., 1., 1., 1., 1., 1., 1., 1., 1., 1.,\n",
       "       1., 1., 1., 1., 1., 1., 1., 1., 1., 1., 1., 1., 1., 1., 1., 1., 1.,\n",
       "       1., 1., 1., 1., 1., 1., 1., 1., 1., 1., 1., 1., 1., 1., 1., 1., 1.,\n",
       "       1., 1., 1., 1., 1., 1., 1., 1., 1., 1., 1., 1., 1., 1., 1., 1., 1.,\n",
       "       1., 1., 1., 1., 1., 1., 1., 1., 1., 1., 1., 1., 1., 1., 1., 1., 1.,\n",
       "       1., 1., 1., 1., 1., 1., 1., 1., 1., 1., 1., 1., 1., 1., 1., 1., 1.,\n",
       "       1., 1., 1., 1., 1., 1., 1., 1., 1., 1., 1., 1., 1., 1., 1., 1., 1.,\n",
       "       1., 1., 1., 1., 1., 1., 1., 1., 1., 1., 1., 1., 1., 1., 1., 1., 1.,\n",
       "       1., 1., 1., 1., 1., 1., 1., 1., 1., 1., 1., 1., 1., 1., 1., 1., 1.,\n",
       "       1., 1., 1., 1., 1., 1., 1., 1., 1., 1., 1., 1., 1., 1., 1., 1., 1.,\n",
       "       1., 1., 1., 1., 1., 1., 1., 1., 1., 1., 1., 1., 1.])"
      ]
     },
     "execution_count": 67,
     "metadata": {},
     "output_type": "execute_result"
    }
   ],
   "source": [
    "np.abs(np.sum(test_predictions[0][2][:,0,:]*test_Xy_normalized, axis=1))"
   ]
  },
  {
   "cell_type": "code",
   "execution_count": null,
   "metadata": {},
   "outputs": [],
   "source": []
  },
  {
   "cell_type": "code",
   "execution_count": 103,
   "metadata": {},
   "outputs": [
    {
     "name": "stdout",
     "output_type": "stream",
     "text": [
      "0\n",
      "1\n",
      "2\n",
      "3\n",
      "4\n",
      "5\n",
      "6\n",
      "7\n",
      "8\n",
      "9\n"
     ]
    }
   ],
   "source": [
    "platt_regularizers = []\n",
    "for i, ovr_local_model in enumerate(ovr_local_models):\n",
    "    print(i)\n",
    "    platt_regularizers.append(sklearn.linear_model.LogisticRegression(C=1e-2))\n",
    "    train_Xy = train_predictions[i][0] - train_predictions[i][1]\n",
    "    train_Xy_len = np.sqrt(np.sum(train_Xy**2, axis=1))\n",
    "    train_pred = ovr_local_model.predict(train_data, kernel=kernel, r=kernel.support_radius())\n",
    "    regularizer_input = train_Xy_len*(train_pred[:,0] * 2 - 1)\n",
    "    platt_regularizers[-1].fit(regularizer_input.reshape(-1,1), onehot_labels[:,i])"
   ]
  },
  {
   "cell_type": "code",
   "execution_count": 137,
   "metadata": {},
   "outputs": [
    {
     "data": {
      "text/plain": [
       "Text(0,0.5,'$P$')"
      ]
     },
     "execution_count": 137,
     "metadata": {},
     "output_type": "execute_result"
    },
    {
     "data": {
      "image/png": "[encoded data removed]",
      "text/plain": [
       "<matplotlib.figure.Figure at 0x7f3cadd5e748>"
      ]
     },
     "metadata": {
      "needs_background": "light"
     },
     "output_type": "display_data"
    }
   ],
   "source": [
    "plt.scatter(regularizer_input, onehot_labels[:,i])\n",
    "grid = np.linspace(np.min(regularizer_input), np.max(regularizer_input), 100)\n",
    "plt.plot(grid, platt_regularizers[-1].predict_proba(grid.reshape(-1,1))[:,1], c='r')\n",
    "plt.xlabel(\"orthogonal distance to decision surface\", size=22)\n",
    "plt.ylabel(\"$P$\", size=22)\n",
    "plt.savefig("
   ]
  },
  {
   "cell_type": "code",
   "execution_count": 109,
   "metadata": {},
   "outputs": [
    {
     "data": {
      "text/plain": [
       "array([[0., 1., 0., ..., 0., 0., 0.],\n",
       "       [0., 0., 0., ..., 0., 0., 0.],\n",
       "       [1., 0., 0., ..., 0., 0., 0.],\n",
       "       ...,\n",
       "       [0., 0., 0., ..., 0., 0., 1.],\n",
       "       [0., 0., 0., ..., 0., 1., 0.],\n",
       "       [1., 0., 0., ..., 0., 0., 0.]])"
      ]
     },
     "execution_count": 109,
     "metadata": {},
     "output_type": "execute_result"
    }
   ],
   "source": [
    "onehot_labels_test = mnist_onehotifier.transform(np.expand_dims(test_labels, 1)).toarray()\n",
    "onehot_labels_test"
   ]
  },
  {
   "cell_type": "code",
   "execution_count": null,
   "metadata": {},
   "outputs": [],
   "source": []
  },
  {
   "cell_type": "code",
   "execution_count": 105,
   "metadata": {},
   "outputs": [],
   "source": [
    "test_Xy = test_predictions[i][0] - test_predictions[i][1]\n",
    "test_Xy_len = np.sqrt(np.sum(test_Xy**2, axis=1))\n",
    "test_pred = ovr_local_model.predict(test_data, kernel=kernel, r=kernel.support_radius())\n",
    "regularizer_input_test = test_Xy_len*(test_pred[:,0] * 2 - 1)"
   ]
  },
  {
   "cell_type": "code",
   "execution_count": 110,
   "metadata": {},
   "outputs": [
    {
     "data": {
      "text/plain": [
       "[<matplotlib.lines.Line2D at 0x7f3cade64da0>]"
      ]
     },
     "execution_count": 110,
     "metadata": {},
     "output_type": "execute_result"
    },
    {
     "data": {
      "image/png": "[encoded data removed]",
      "text/plain": [
       "<matplotlib.figure.Figure at 0x7f3cadeb5dd8>"
      ]
     },
     "metadata": {
      "needs_background": "light"
     },
     "output_type": "display_data"
    }
   ],
   "source": [
    "plt.scatter(regularizer_input_test, onehot_labels_test[:,i])\n",
    "grid = np.linspace(np.min(regularizer_input_test), np.max(regularizer_input_test), 100)\n",
    "plt.plot(grid, platt_regularizers[-1].predict_proba(grid.reshape(-1,1))[:,1], c='r')"
   ]
  },
  {
   "cell_type": "code",
   "execution_count": 114,
   "metadata": {},
   "outputs": [
    {
     "name": "stdout",
     "output_type": "stream",
     "text": [
      "0\n",
      "1\n",
      "2\n",
      "3\n",
      "4\n",
      "5\n",
      "6\n",
      "7\n",
      "8\n",
      "9\n"
     ]
    }
   ],
   "source": [
    "regularized_output = []\n",
    "for i, ovr_local_model in enumerate(ovr_local_models):\n",
    "    print(i)\n",
    "    test_Xy = test_predictions[i][0] - test_predictions[i][1]\n",
    "    test_Xy_len = np.sqrt(np.sum(test_Xy**2, axis=1))\n",
    "    test_pred = ovr_local_model.predict(test_data, kernel=kernel, r=kernel.support_radius())\n",
    "    regularizer_input_test = test_Xy_len*(test_pred[:,0] * 2 - 1)\n",
    "    regularized_output.append(platt_regularizers[i].predict_proba(regularizer_input_test.reshape(-1,1))[:,1])"
   ]
  },
  {
   "cell_type": "code",
   "execution_count": 115,
   "metadata": {},
   "outputs": [],
   "source": [
    "regularized_output = np.stack(regularized_output, axis=-1)"
   ]
  },
  {
   "cell_type": "code",
   "execution_count": 116,
   "metadata": {},
   "outputs": [
    {
     "data": {
      "text/plain": [
       "(540, 10)"
      ]
     },
     "execution_count": 116,
     "metadata": {},
     "output_type": "execute_result"
    }
   ],
   "source": [
    "regularized_output.shape"
   ]
  },
  {
   "cell_type": "code",
   "execution_count": 117,
   "metadata": {},
   "outputs": [
    {
     "data": {
      "text/plain": [
       "(540, 64)"
      ]
     },
     "execution_count": 117,
     "metadata": {},
     "output_type": "execute_result"
    }
   ],
   "source": [
    "test_data.shape"
   ]
  },
  {
   "cell_type": "code",
   "execution_count": 118,
   "metadata": {},
   "outputs": [
    {
     "data": {
      "text/plain": [
       "array([6.40067119e-05, 6.62691058e-01, 3.95226222e-03, 4.25242022e-05,\n",
       "       1.98743614e-03, 5.10926684e-03, 2.81145165e-03, 6.17518944e-03,\n",
       "       1.37953085e-01, 9.10014259e-03])"
      ]
     },
     "execution_count": 118,
     "metadata": {},
     "output_type": "execute_result"
    }
   ],
   "source": [
    "regularized_output[0]"
   ]
  },
  {
   "cell_type": "code",
   "execution_count": 121,
   "metadata": {},
   "outputs": [],
   "source": [
    "hard_predictions_test = np.argmax(regularized_output, axis=-1)"
   ]
  },
  {
   "cell_type": "code",
   "execution_count": 124,
   "metadata": {},
   "outputs": [
    {
     "data": {
      "text/plain": [
       "array([[57,  0,  0,  0,  2,  0,  0,  0,  0,  0],\n",
       "       [ 0, 46,  0,  0,  0,  1,  0,  0,  2,  0],\n",
       "       [ 0,  1, 47,  1,  0,  0,  0,  0,  0,  0],\n",
       "       [ 0,  0,  0, 60,  0,  1,  0,  0,  1,  2],\n",
       "       [ 0,  1,  0,  0, 60,  0,  0,  0,  0,  0],\n",
       "       [ 0,  1,  0,  0,  0, 44,  0,  0,  0,  2],\n",
       "       [ 0,  0,  0,  0,  0,  0, 51,  0,  0,  0],\n",
       "       [ 0,  0,  0,  0,  0,  0,  0, 56,  0,  1],\n",
       "       [ 0,  1,  0,  0,  0,  1,  0,  0, 43,  1],\n",
       "       [ 0,  0,  0,  0,  0,  1,  0,  0,  1, 55]])"
      ]
     },
     "execution_count": 124,
     "metadata": {},
     "output_type": "execute_result"
    }
   ],
   "source": [
    "import sklearn.metrics\n",
    "confusion_test = sklearn.metrics.confusion_matrix(test_labels, hard_predictions_test)\n",
    "confusion_test"
   ]
  },
  {
   "cell_type": "code",
   "execution_count": 130,
   "metadata": {},
   "outputs": [
    {
     "data": {
      "text/plain": [
       "(0.9611111111111111, 0.9604548120811158, 0.9603488678480014)"
      ]
     },
     "execution_count": 130,
     "metadata": {},
     "output_type": "execute_result"
    }
   ],
   "source": [
    "accuracy, precision, recall = (\n",
    "    sklearn.metrics.accuracy_score(test_labels, hard_predictions_test),\n",
    "    sklearn.metrics.precision_score(test_labels, hard_predictions_test, average=\"macro\"), \n",
    "    sklearn.metrics.recall_score(test_labels, hard_predictions_test, average=\"macro\"))\n",
    "accuracy, precision, recall"
   ]
  },
  {
   "cell_type": "code",
   "execution_count": 160,
   "metadata": {},
   "outputs": [],
   "source": [
    "np.savetxt(os.path.join(project_dir, \"confusion\"), confusion_test)\n",
    "np.savetxt(os.path.join(project_dir, \"acc_prec_rec\"), np.array([accuracy, precision, recall]))"
   ]
  },
  {
   "cell_type": "code",
   "execution_count": null,
   "metadata": {},
   "outputs": [],
   "source": []
  },
  {
   "cell_type": "code",
   "execution_count": null,
   "metadata": {},
   "outputs": [],
   "source": []
  },
  {
   "cell_type": "code",
   "execution_count": null,
   "metadata": {},
   "outputs": [],
   "source": []
  },
  {
   "cell_type": "code",
   "execution_count": null,
   "metadata": {},
   "outputs": [],
   "source": []
  },
  {
   "cell_type": "code",
   "execution_count": 138,
   "metadata": {},
   "outputs": [],
   "source": [
    "def nonorthopred_transformator(m,q,x,y,w):\n",
    "    scores = m.decision_function(x)\n",
    "    preds = m.predict(x)\n",
    "    regularizer_features = scores*(preds*2-1)\n",
    "    regularizer = sklearn.linear_model.LogisticRegression(C=1e-2, fit_intercept=False)\n",
    "    regularizer.fit(regularizer_features.reshape(-1,1), y, sample_weight=w)\n",
    "    return regularizer.predict_proba(m.decision_function(q.reshape(1,-1)).reshape(-1,1))"
   ]
  },
  {
   "cell_type": "code",
   "execution_count": 145,
   "metadata": {},
   "outputs": [],
   "source": [
    "nonortho_proba_transformations = []\n",
    "for i, ovr_local_model in enumerate(ovr_local_models):\n",
    "    nonortho_proba_transformations.append(\n",
    "        ovr_local_model.transform(test_data, kernel=kernel, r=kernel.support_radius(), weighted=True,\n",
    "            model_postprocessor=nonorthopred_transformator))"
   ]
  },
  {
   "cell_type": "code",
   "execution_count": 147,
   "metadata": {},
   "outputs": [
    {
     "data": {
      "text/plain": [
       "(540, 2)"
      ]
     },
     "execution_count": 147,
     "metadata": {},
     "output_type": "execute_result"
    }
   ],
   "source": [
    "nonortho_proba_transformations[0].shape"
   ]
  },
  {
   "cell_type": "code",
   "execution_count": 148,
   "metadata": {},
   "outputs": [],
   "source": [
    "nonortho_proba_transformations = np.stack(nonortho_proba_transformations, axis=-1)"
   ]
  },
  {
   "cell_type": "code",
   "execution_count": 149,
   "metadata": {},
   "outputs": [
    {
     "data": {
      "text/plain": [
       "(540, 2, 10)"
      ]
     },
     "execution_count": 149,
     "metadata": {},
     "output_type": "execute_result"
    }
   ],
   "source": [
    "nonortho_proba_transformations.shape"
   ]
  },
  {
   "cell_type": "code",
   "execution_count": 152,
   "metadata": {},
   "outputs": [],
   "source": [
    "nonortho_hard_predictions = np.argmax(nonortho_proba_transformations[:,0], axis=-1)"
   ]
  },
  {
   "cell_type": "code",
   "execution_count": 153,
   "metadata": {},
   "outputs": [
    {
     "data": {
      "text/plain": [
       "(array([[56,  0,  0,  0,  2,  0,  0,  1,  0,  0],\n",
       "        [ 0, 46,  0,  0,  1,  1,  0,  0,  1,  0],\n",
       "        [ 0,  1, 46,  1,  0,  0,  0,  1,  0,  0],\n",
       "        [ 0,  0,  0, 61,  0,  1,  0,  0,  1,  1],\n",
       "        [ 0,  2,  0,  0, 59,  0,  0,  0,  0,  0],\n",
       "        [ 0,  1,  0,  0,  0, 44,  0,  0,  0,  2],\n",
       "        [ 0,  0,  0,  0,  0,  0, 51,  0,  0,  0],\n",
       "        [ 0,  0,  0,  0,  0,  0,  0, 56,  0,  1],\n",
       "        [ 0,  1,  0,  0,  0,  2,  0,  0, 42,  1],\n",
       "        [ 0,  0,  0,  0,  0,  1,  0,  0,  1, 55]]),\n",
       " 0.9555555555555556,\n",
       " 0.9550921080334247,\n",
       " 0.9543623789614604)"
      ]
     },
     "execution_count": 153,
     "metadata": {},
     "output_type": "execute_result"
    }
   ],
   "source": [
    "nonortho_confusion = sklearn.metrics.confusion_matrix(test_labels, nonortho_hard_predictions)\n",
    "nonortho_acc, nonortho_prec, nonortho_rec = (\n",
    "    sklearn.metrics.accuracy_score(test_labels, nonortho_hard_predictions),\n",
    "    sklearn.metrics.precision_score(test_labels, nonortho_hard_predictions, average=\"macro\"), \n",
    "    sklearn.metrics.recall_score(test_labels, nonortho_hard_predictions, average=\"macro\"))\n",
    "nonortho_confusion, nonortho_acc, nonortho_prec, nonortho_rec"
   ]
  },
  {
   "cell_type": "code",
   "execution_count": null,
   "metadata": {},
   "outputs": [],
   "source": []
  },
  {
   "cell_type": "code",
   "execution_count": null,
   "metadata": {},
   "outputs": [],
   "source": []
  },
  {
   "cell_type": "code",
   "execution_count": null,
   "metadata": {},
   "outputs": [],
   "source": []
  },
  {
   "cell_type": "code",
   "execution_count": 162,
   "metadata": {},
   "outputs": [],
   "source": [
    "model_copy = sklearn.base.clone(model)"
   ]
  },
  {
   "cell_type": "code",
   "execution_count": 163,
   "metadata": {},
   "outputs": [
    {
     "data": {
      "text/plain": [
       "LinearSVC(C=1.0, class_weight=None, dual=False, fit_intercept=True,\n",
       "          intercept_scaling=1, loss='squared_hinge', max_iter=1000,\n",
       "          multi_class='ovr', penalty='l2', random_state=None, tol=0.0001,\n",
       "          verbose=0)"
      ]
     },
     "execution_count": 163,
     "metadata": {},
     "output_type": "execute_result"
    }
   ],
   "source": [
    "model_copy.fit(train_data, train_labels)"
   ]
  },
  {
   "cell_type": "code",
   "execution_count": 164,
   "metadata": {},
   "outputs": [],
   "source": [
    "linear_model_pred = model_copy.predict(test_data)"
   ]
  },
  {
   "cell_type": "code",
   "execution_count": 166,
   "metadata": {},
   "outputs": [
    {
     "data": {
      "text/plain": [
       "(array([[57,  0,  0,  0,  2,  0,  0,  0,  0,  0],\n",
       "        [ 0, 44,  0,  0,  0,  2,  0,  0,  3,  0],\n",
       "        [ 0,  1, 46,  1,  0,  0,  0,  1,  0,  0],\n",
       "        [ 0,  0,  0, 59,  0,  0,  0,  0,  3,  2],\n",
       "        [ 0,  2,  0,  0, 59,  0,  0,  0,  0,  0],\n",
       "        [ 0,  2,  0,  0,  0, 43,  0,  0,  0,  2],\n",
       "        [ 0,  0,  0,  0,  0,  0, 51,  0,  0,  0],\n",
       "        [ 0,  0,  0,  0,  0,  0,  0, 56,  0,  1],\n",
       "        [ 0,  0,  0,  0,  0,  1,  0,  0, 44,  1],\n",
       "        [ 1,  0,  0,  0,  0,  1,  0,  0,  2, 53]]),\n",
       " 0.9481481481481482,\n",
       " 0.947307294072232,\n",
       " 0.9475620561453001)"
      ]
     },
     "execution_count": 166,
     "metadata": {},
     "output_type": "execute_result"
    }
   ],
   "source": [
    "linear_model_confusion = sklearn.metrics.confusion_matrix(test_labels, linear_model_pred)\n",
    "linear_model_acc, linear_model_prec, linear_model_rec = (\n",
    "    sklearn.metrics.accuracy_score(test_labels, linear_model_pred),\n",
    "    sklearn.metrics.precision_score(test_labels, linear_model_pred, average=\"macro\"), \n",
    "    sklearn.metrics.recall_score(test_labels, linear_model_pred, average=\"macro\"))\n",
    "linear_model_confusion, linear_model_acc, linear_model_prec, linear_model_rec"
   ]
  },
  {
   "cell_type": "code",
   "execution_count": null,
   "metadata": {},
   "outputs": [],
   "source": []
  }
 ],
 "metadata": {
  "kernelspec": {
   "display_name": "Python 3",
   "language": "python",
   "name": "python3"
  },
  "language_info": {
   "codemirror_mode": {
    "name": "ipython",
    "version": 3
   },
   "file_extension": ".py",
   "mimetype": "text/x-python",
   "name": "python",
   "nbconvert_exporter": "python",
   "pygments_lexer": "ipython3",
   "version": "3.5.2"
  }
 },
 "nbformat": 4,
 "nbformat_minor": 2
}
