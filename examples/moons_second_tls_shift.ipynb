{
 "cells": [
  {
   "cell_type": "code",
   "execution_count": 1,
   "metadata": {},
   "outputs": [],
   "source": [
    "import local_models.local_models\n",
    "import local_models.loggin\n",
    "import local_models.TLS_models\n",
    "import local_models.linear_projections\n",
    "import local_models.utils\n",
    "import local_models.algorithms\n",
    "import numpy as np\n",
    "import matplotlib.pyplot as plt\n",
    "import sklearn.linear_model\n",
    "import sklearn.cluster\n",
    "from importlib import reload\n",
    "from ml_battery.utils import cmap\n",
    "import matplotlib as mpl\n",
    "import sklearn.datasets\n",
    "import scipy.stats\n",
    "import logging\n",
    "import ml_battery.log\n",
    "import time\n",
    "import os\n",
    "from IPython.display import Markdown as md\n",
    "import joblib\n",
    "import tqdm\n",
    "import functools\n",
    "import itertools\n",
    "\n",
    "logger = logging.getLogger(__name__)\n",
    "\n",
    "reload(local_models.local_models)\n",
    "#reload(lm)\n",
    "#reload(local_models.loggin)\n",
    "#reload(local_models.TLS_models)\n",
    "np.warnings.filterwarnings('ignore')\n",
    "\n",
    "def import_shit():\n",
    "    import local_models.local_models\n",
    "    import local_models.loggin\n",
    "    import local_models.TLS_models\n",
    "    import local_models.linear_projections\n",
    "    import local_models.utils\n",
    "    import local_models.algorithms\n",
    "    import numpy as np\n",
    "    import matplotlib.pyplot as plt\n",
    "    import sklearn.linear_model\n",
    "    import sklearn.cluster\n",
    "    from importlib import reload\n",
    "    from ml_battery.utils import cmap\n",
    "    import matplotlib as mpl\n",
    "    import sklearn.datasets\n",
    "    import scipy.stats\n",
    "    import logging\n",
    "    import ml_battery.log\n",
    "    import time\n",
    "    import os\n",
    "    from IPython.display import Markdown as md\n",
    "    import joblib\n",
    "    import itertools\n",
    "    import functools"
   ]
  },
  {
   "cell_type": "code",
   "execution_count": 2,
   "metadata": {},
   "outputs": [],
   "source": [
    "kernel_names = {\n",
    "    local_models.local_models.GaussianKernel: 'gaussian',\n",
    "    local_models.local_models.TriCubeKernel: 'tricube'\n",
    "}"
   ]
  },
  {
   "cell_type": "code",
   "execution_count": 3,
   "metadata": {},
   "outputs": [],
   "source": [
    "mpl.rcParams['figure.figsize'] = [8.0, 8.0]"
   ]
  },
  {
   "cell_type": "code",
   "execution_count": 4,
   "metadata": {},
   "outputs": [],
   "source": [
    "project_dir = \"../data/moons_second_tls_01\"\n",
    "os.makedirs(project_dir, exist_ok=1)"
   ]
  },
  {
   "cell_type": "code",
   "execution_count": 5,
   "metadata": {},
   "outputs": [],
   "source": [
    "def product_dict(**kwargs):\n",
    "    keys = kwargs.keys()\n",
    "    vals = kwargs.values()\n",
    "    for instance in itertools.product(*vals):\n",
    "        yield dict(zip(keys, instance))\n",
    "\n",
    "def noisy_moons_maker(n=None, noise=None, seed=None, bandwidth=None, kernel=local_models.local_models.TriCubeKernel, invert=False):\n",
    "    import_shit()\n",
    "    NOISE_STEP=0.005\n",
    "    noises = int(noise/NOISE_STEP)\n",
    "    np.random.seed(seed)\n",
    "    noisy_moons, c = sklearn.datasets.make_moons(n_samples=n, noise=0)\n",
    "    for noise in range(noises): #so that we can move the same data a little bit at a time... i.e. noise 0.06 is only N(0,0.005) different than noise 0.055\n",
    "        noisy_moons += np.random.normal(loc=0,scale=NOISE_STEP,size=(n,2))\n",
    "    kernel_cb = kernel(bandwidth=bandwidth)\n",
    "    modeler = local_models.local_models.LocalModels(local_models.TLS_models.LinearODR_mD(1, invert=invert))\n",
    "    modeler.fit(noisy_moons)\n",
    "    return noisy_moons, c, kernel_cb, modeler\n",
    "\n",
    "def noisy_moons_maker_knn(n=None, noise=None, seed=None, k=None, kernel=local_models.local_models.TriCubeKernel, invert=False):\n",
    "    import_shit()\n",
    "    NOISE_STEP=0.005\n",
    "    noises = int(noise/NOISE_STEP)\n",
    "    np.random.seed(seed)\n",
    "    noisy_moons, c = sklearn.datasets.make_moons(n_samples=n, noise=0)\n",
    "    for noise in range(noises): #so that we can move the same data a little bit at a time... i.e. noise 0.06 is only N(0,0.005) different than noise 0.055\n",
    "        noisy_moons += np.random.normal(loc=0,scale=NOISE_STEP,size=(n,2))\n",
    "    kernel_cb = kernel(bandwidth='knn', k=k)\n",
    "    modeler = local_models.local_models.LocalModels(local_models.TLS_models.LinearODR_mD(1, invert=invert))\n",
    "    modeler.fit(noisy_moons)\n",
    "    return noisy_moons, c, kernel_cb, modeler\n",
    "     \n",
    "def converge_one_delegate(data_maker, grid, converger, report=False, **kwargs):\n",
    "    import_shit()\n",
    "    data, c, kernel_cb, modeler = data_maker(**kwargs)\n",
    "    for dat in converger(modeler, grid, kernel=kernel_cb, report=report):\n",
    "        pass\n",
    "    return data, c, dat\n",
    "  \n",
    "def kwarg_namer(f, **kwargs):\n",
    "    name = \"\"\n",
    "    for key in sorted(kwargs):\n",
    "        name += str(key) + \":\"\n",
    "        if isinstance(kwargs[key], float):\n",
    "            name += \"{:8.4f}\".format(kwargs[key])\n",
    "        elif isinstance(kwargs[key], int):\n",
    "            name += \"{:05d}\".format(kwargs[key])\n",
    "        else:\n",
    "            name += str(kwargs[key])\n",
    "        name += \"_\"\n",
    "    return name, f(**kwargs)\n",
    "        \n",
    "def converge_parallel(data_maker, grid, converger, jobs=8, report=False, **listified_kwargs):\n",
    "    converged = joblib.Parallel(n_jobs=jobs)(\n",
    "        joblib.delayed(functools.partial(kwarg_namer, functools.partial(\n",
    "            converge_one_delegate, data_maker, grid, converger, report=report)))(**kwargs)\n",
    "        for kwargs in tqdm.tqdm(list(product_dict(**listified_kwargs))))\n",
    "    return converged\n",
    "\n",
    "    "
   ]
  },
  {
   "cell_type": "code",
   "execution_count": null,
   "metadata": {
    "scrolled": true
   },
   "outputs": [
    {
     "name": "stderr",
     "output_type": "stream",
     "text": [
      "\n",
      "  0%|          | 0/78 [00:00<?, ?it/s]\u001b[A\n",
      "  1%|▏         | 1/78 [00:00<00:08,  9.20it/s]\u001b[A\n",
      " 21%|██        | 16/78 [00:13<00:21,  2.88it/s]\u001b[A\n",
      " 22%|██▏       | 17/78 [07:44<2:17:37, 135.37s/it]\u001b[A\n",
      " 23%|██▎       | 18/78 [08:51<1:55:01, 115.02s/it]\u001b[A"
     ]
    }
   ],
   "source": [
    "example_moons, c = sklearn.datasets.make_moons(n_samples=200, noise=0.1)\n",
    "range_pct = 0.2\n",
    "grid_steps = 100\n",
    "KERNEL = local_models.local_models.TriCubeKernel\n",
    "data_mins, data_maxes, data_ranges = local_models.linear_projections.min_max_range(example_moons)\n",
    "graph_bounds = local_models.linear_projections.sane_graph_bounds(data_mins, data_maxes, data_ranges, range_pct)\n",
    "\n",
    "grid = local_models.utils.get_global_grid(example_moons, outside_range_pct=range_pct, n_steps=grid_steps)\n",
    "gridder = local_models.utils.Grid2Vec()\n",
    "grid = gridder.fit_transform(grid)\n",
    "ks = list(range(2,80))\n",
    "n = [200]\n",
    "noise = [0.6]\n",
    "seed = [1]\n",
    "\n",
    "converged = converge_parallel(functools.partial(noisy_moons_maker_knn, kernel=KERNEL, invert=True), grid, local_models.algorithms.local_tls_shift_till_convergence, \n",
    "                                       k=ks, n=n, noise=noise, seed=seed)"
   ]
  },
  {
   "cell_type": "code",
   "execution_count": null,
   "metadata": {},
   "outputs": [],
   "source": [
    "pth = os.path.join(project_dir, \"varying_bandwidths\")\n",
    "os.makedirs(pth, exist_ok=1)\n",
    "for name, (data, c, dat) in converged:\n",
    "    fig = plt.figure()\n",
    "    \n",
    "    plt.scatter(dat[:,0], dat[:,1], c='b',s=2)\n",
    "    plt.scatter(data[:,0], data[:,1],c=cmap(c))\n",
    "    \n",
    "    plt.xlim(*graph_bounds[:,0])\n",
    "    plt.ylim(*graph_bounds[:,1])\n",
    "    \n",
    "    plt.savefig(os.path.join(pth, \"{}.png\".format(name)))"
   ]
  },
  {
   "cell_type": "code",
   "execution_count": null,
   "metadata": {},
   "outputs": [],
   "source": [
    "example_moons, c = sklearn.datasets.make_moons(n_samples=200, noise=0.1)\n",
    "range_pct = 0.2\n",
    "grid_steps = 100\n",
    "KERNEL = local_models.local_models.TriCubeKernel\n",
    "data_mins, data_maxes, data_ranges = local_models.linear_projections.min_max_range(example_moons)\n",
    "graph_bounds = local_models.linear_projections.sane_graph_bounds(data_mins, data_maxes, data_ranges, range_pct)\n",
    "\n",
    "grid = local_models.utils.get_global_grid(example_moons, outside_range_pct=range_pct, n_steps=grid_steps)\n",
    "gridder = local_models.utils.Grid2Vec()\n",
    "grid = gridder.fit_transform(grid)\n",
    "bandwidths = [0.5]\n",
    "n = [200]\n",
    "noise = [0.6]\n",
    "seed = [1]\n",
    "\n",
    "converged2 = converge_parallel(functools.partial(noisy_moons_maker, kernel=KERNEL), grid, local_models.algorithms.local_tls_shift_till_convergence, \n",
    "                                       bandwidth=bandwidths, n=n, noise=noise, seed=seed)"
   ]
  },
  {
   "cell_type": "code",
   "execution_count": 8,
   "metadata": {
    "scrolled": false
   },
   "outputs": [
    {
     "data": {
      "image/png": "[encoded data removed]",
      "text/plain": [
       "<matplotlib.figure.Figure at 0x7f19b4187940>"
      ]
     },
     "metadata": {},
     "output_type": "display_data"
    }
   ],
   "source": [
    "pth = os.path.join(project_dir, \"varying_bandwidths\")\n",
    "os.makedirs(pth, exist_ok=1)\n",
    "for (name, (data, c, dat)), (name2, (data2,c2,dat2)) in zip(converged,converged2):\n",
    "    fig = plt.figure()\n",
    "    \n",
    "    plt.scatter(dat[:,0], dat[:,1], c='b',s=2)\n",
    "    plt.scatter(data[:,0], data[:,1],c=cmap(c))\n",
    "    \n",
    "    plt.scatter(dat2[:,0], dat2[:,1], c='r',s=2)\n",
    "    plt.scatter(data2[:,0], data2[:,1],c=cmap(c2))\n",
    "    \n",
    "    plt.xlim(*graph_bounds[:,0])\n",
    "    plt.ylim(*graph_bounds[:,1])\n",
    "    \n",
    "    plt.savefig(os.path.join(pth, \"{}.png\".format(name)))"
   ]
  },
  {
   "cell_type": "code",
   "execution_count": null,
   "metadata": {},
   "outputs": [],
   "source": [
    "example_moons, c = sklearn.datasets.make_moons(n_samples=200, noise=0.1)\n",
    "range_pct = 0.2\n",
    "grid_steps = 100\n",
    "KERNEL = local_models.local_models.GaussianKernel\n",
    "data_mins, data_maxes, data_ranges = local_models.linear_projections.min_max_range(example_moons)\n",
    "graph_bounds = local_models.linear_projections.sane_graph_bounds(data_mins, data_maxes, data_ranges, range_pct)\n",
    "\n",
    "grid = local_models.utils.get_global_grid(example_moons, outside_range_pct=range_pct, n_steps=grid_steps)\n",
    "gridder = local_models.utils.Grid2Vec()\n",
    "grid = gridder.fit_transform(grid)\n",
    "bandwidths = [0.2]\n",
    "n = [200]\n",
    "noise = np.linspace(0,20,256)\n",
    "seed = [1]\n",
    "\n",
    "converged = converge_parallel(functools.partial(noisy_moons_maker, kernel=KERNEL), grid, local_tls_shift_till_convergence, \n",
    "                                       bandwidth=bandwidths, n=n, noise=noise, seed=seed)"
   ]
  },
  {
   "cell_type": "code",
   "execution_count": null,
   "metadata": {},
   "outputs": [],
   "source": [
    "pth = os.path.join(project_dir, \"varying_noise\")\n",
    "os.makedirs(pth, exist_ok=1)\n",
    "for name, (data, c, dat) in converged:\n",
    "    fig = plt.figure()\n",
    "    plt.scatter(dat[:,0], dat[:,1], c='r',s=2)\n",
    "    plt.scatter(data[:,0], data[:,1],c=cmap(c))\n",
    "    plt.xlim(*graph_bounds[:,0])\n",
    "    plt.ylim(*graph_bounds[:,1])\n",
    "    plt.savefig(os.path.join(pth, \"{}.png\".format(name)))"
   ]
  },
  {
   "cell_type": "code",
   "execution_count": null,
   "metadata": {},
   "outputs": [],
   "source": []
  },
  {
   "cell_type": "code",
   "execution_count": null,
   "metadata": {},
   "outputs": [],
   "source": []
  },
  {
   "cell_type": "code",
   "execution_count": null,
   "metadata": {},
   "outputs": [],
   "source": [
    "example_moons, c = sklearn.datasets.make_moons(n_samples=200, noise=0.1)\n",
    "range_pct = 0.2\n",
    "grid_steps = 100\n",
    "KERNEL = local_models.local_models.GaussianKernel\n",
    "data_mins, data_maxes, data_ranges = local_models.linear_projections.min_max_range(example_moons)\n",
    "graph_bounds = local_models.linear_projections.sane_graph_bounds(data_mins, data_maxes, data_ranges, range_pct)\n",
    "\n",
    "grid = local_models.utils.get_global_grid(example_moons, outside_range_pct=range_pct, n_steps=grid_steps)\n",
    "gridder = local_models.utils.Grid2Vec()\n",
    "grid = gridder.fit_transform(grid)\n",
    "bandwidths = np.linspace(0.04,1.7,256)\n",
    "n = [200]\n",
    "noise = [0.6]\n",
    "seed = [1]\n",
    "\n",
    "converged = converge_parallel(functools.partial(noisy_moons_maker, kernel=KERNEL), grid, local_tls_shift_till_convergence, report=True,\n",
    "                                       bandwidth=bandwidths, n=n, noise=noise, seed=seed)"
   ]
  },
  {
   "cell_type": "code",
   "execution_count": null,
   "metadata": {},
   "outputs": [],
   "source": []
  },
  {
   "cell_type": "code",
   "execution_count": null,
   "metadata": {},
   "outputs": [],
   "source": [
    "example_moons, c = sklearn.datasets.make_moons(n_samples=200, noise=0.1)\n",
    "range_pct = 0.2\n",
    "grid_steps = 100\n",
    "KERNEL = local_models.local_models.GaussianKernel\n",
    "data_mins, data_maxes, data_ranges = local_models.linear_projections.min_max_range(example_moons)\n",
    "graph_bounds = local_models.linear_projections.sane_graph_bounds(data_mins, data_maxes, data_ranges, range_pct)\n",
    "\n",
    "grid = local_models.utils.get_global_grid(example_moons, outside_range_pct=range_pct, n_steps=grid_steps)\n",
    "gridder = local_models.utils.Grid2Vec()\n",
    "grid = gridder.fit_transform(grid)\n",
    "bandwidths = np.linspace(0.04,1.7,256)\n",
    "n = [200]\n",
    "noise = [0.6]\n",
    "seed = [1]\n",
    "\n",
    "converged_m = converge_parallel(functools.partial(noisy_moons_maker, kernel=KERNEL), grid, local_mean_shift_till_convergence, report=True,\n",
    "                                       bandwidth=bandwidths, n=n, noise=noise, seed=seed)"
   ]
  },
  {
   "cell_type": "code",
   "execution_count": null,
   "metadata": {},
   "outputs": [],
   "source": [
    "converged[1][1][2]"
   ]
  },
  {
   "cell_type": "code",
   "execution_count": null,
   "metadata": {},
   "outputs": [],
   "source": [
    "a"
   ]
  },
  {
   "cell_type": "code",
   "execution_count": null,
   "metadata": {},
   "outputs": [],
   "source": []
  }
 ],
 "metadata": {
  "kernelspec": {
   "display_name": "Python 3",
   "language": "python",
   "name": "python3"
  },
  "language_info": {
   "codemirror_mode": {
    "name": "ipython",
    "version": 3
   },
   "file_extension": ".py",
   "mimetype": "text/x-python",
   "name": "python",
   "nbconvert_exporter": "python",
   "pygments_lexer": "ipython3",
   "version": "3.5.2"
  }
 },
 "nbformat": 4,
 "nbformat_minor": 2
}
