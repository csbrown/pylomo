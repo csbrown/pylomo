{
 "cells": [
  {
   "cell_type": "code",
   "execution_count": 1,
   "metadata": {},
   "outputs": [],
   "source": [
    "import subprocess\n",
    "import pandas as pd\n",
    "import os\n",
    "import sys\n",
    "import pprint\n",
    "import local_models.local_models\n",
    "import logging\n",
    "import ml_battery.log\n",
    "\n",
    "logger = logging.getLogger(__name__)"
   ]
  },
  {
   "cell_type": "code",
   "execution_count": 2,
   "metadata": {},
   "outputs": [],
   "source": [
    "data_dir = \"/home/brown/disk2/eeg/Phasespace/Phasespace/data/eeg-text\" \n",
    "transformed_data_dir = \"/home/brown/disk2/eeg/transformed_data\""
   ]
  },
  {
   "cell_type": "code",
   "execution_count": 3,
   "metadata": {},
   "outputs": [],
   "source": [
    "data_info = pd.read_csv(os.path.join(data_dir, \"fileinformation.csv\"), skiprows=1).iloc[:,2:]"
   ]
  },
  {
   "cell_type": "code",
   "execution_count": 7,
   "metadata": {},
   "outputs": [
    {
     "data": {
      "text/plain": [
       "Unnamed: 2           DAT.F00265\n",
       "Number of Records       6092424\n",
       "Time of Seizure           24120\n",
       "Unnamed: 5                  NaN\n",
       "Point of Seizure        6030000\n",
       "250                     6030000\n",
       "Name: 39, dtype: object"
      ]
     },
     "execution_count": 7,
     "metadata": {},
     "output_type": "execute_result"
    }
   ],
   "source": [
    "data_info.iloc[39]"
   ]
  },
  {
   "cell_type": "code",
   "execution_count": 4,
   "metadata": {},
   "outputs": [
    {
     "data": {
      "text/plain": [
       "40"
      ]
     },
     "execution_count": 4,
     "metadata": {},
     "output_type": "execute_result"
    }
   ],
   "source": [
    "data_info.shape\n",
    "how_many_epis = len([which for which in range(data_info.shape[0]) if data_info.iloc[which,4]>0])\n",
    "how_many_epis"
   ]
  },
  {
   "cell_type": "code",
   "execution_count": null,
   "metadata": {},
   "outputs": [],
   "source": [
    "timelog = local_models.local_models.loggin.TimeLogger(\n",
    "    logger=logger, \n",
    "    how_often=1, total=how_many_epis, \n",
    "    tag=\"transforming_eeg_gprs\")\n",
    "for i in range(39,data_info.shape[0]):\n",
    "    data_file = data_info.iloc[i,0]\n",
    "    data_epipoint = data_info.iloc[i,4]\n",
    "    data_len = data_info.iloc[i,1]\n",
    "    if data_len > data_epipoint > 0:\n",
    "        with timelog:\n",
    "            transformed_data_file_dir = os.path.join(transformed_data_dir, data_file)\n",
    "            if not os.path.isdir(transformed_data_file_dir):\n",
    "                result = subprocess.run(\n",
    "                    [\"python3\", \"Todd_eeg_utils.py\", data_file, str(data_epipoint)],\n",
    "                    stdout=subprocess.PIPE,\n",
    "                    stderr=subprocess.PIPE\n",
    "                )\n",
    "                print(result.stderr.decode(\"utf-8\"))"
   ]
  },
  {
   "cell_type": "code",
   "execution_count": null,
   "metadata": {},
   "outputs": [],
   "source": []
  }
 ],
 "metadata": {
  "kernelspec": {
   "display_name": "Python 3",
   "language": "python",
   "name": "python3"
  },
  "language_info": {
   "codemirror_mode": {
    "name": "ipython",
    "version": 3
   },
   "file_extension": ".py",
   "mimetype": "text/x-python",
   "name": "python",
   "nbconvert_exporter": "python",
   "pygments_lexer": "ipython3",
   "version": "3.5.2"
  }
 },
 "nbformat": 4,
 "nbformat_minor": 2
}
