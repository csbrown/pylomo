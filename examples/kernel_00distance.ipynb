{
 "cells": [
  {
   "cell_type": "code",
   "execution_count": 17,
   "metadata": {},
   "outputs": [],
   "source": [
    "import sklearn.neighbors\n",
    "import sklearn.gaussian_process\n",
    "import numpy as np\n",
    "sklearn.neighbors.ball_tree.VALID_METRICS.append(\"KernelDistance\")"
   ]
  },
  {
   "cell_type": "code",
   "execution_count": 107,
   "metadata": {},
   "outputs": [],
   "source": [
    "class KernelDistance(sklearn.neighbors.dist_metrics.PyFuncDistance):\n",
    "    def __init__(self, kernel):\n",
    "        self.kernel = kernel\n",
    "        super().__init__(self.dist)\n",
    "    def dist(self, x1, x2):\n",
    "        return self.rdist_to_dist(self.rdist(x1,x2))\n",
    "    def rdist(self, x1, x2):\n",
    "        x1 = np.atleast_2d(x1)\n",
    "        x2 = np.atleast_2d(x2)\n",
    "        rah = self.kernel.diag(x1).reshape((-1,1)) - 2*self.kernel(x1,x2) + self.kernel.diag(x2).reshape((1,-1))\n",
    "        return rah\n",
    "    def rdist_to_dist(self, rdist):\n",
    "        return np.sqrt(rdist)\n",
    "    def dist_to_rdist(self, dist):\n",
    "        return dist ** 2"
   ]
  },
  {
   "cell_type": "code",
   "execution_count": null,
   "metadata": {},
   "outputs": [],
   "source": [
    "class TruncatedRBFKernel(sklearn.gaussian_process.kernels.RBF):\n",
    "    def __init__(self, \n",
    "                 length_scale=1.0, length_scale_bounds=(1e-05, 100000.0),\n",
    "                 a = -np.inf, a_bounds=(-np.inf, np.inf),\n",
    "                 b = np.inf, b_bounds = (-np.inf, np.inf)                \n",
    "                ):\n",
    "        super().__init__(length_scale=length_scale, length_scale_bounds=length_scale_bounds)\n",
    "        "
   ]
  },
  {
   "cell_type": "code",
   "execution_count": null,
   "metadata": {},
   "outputs": [],
   "source": [
    "class TruncatedConstantKernel(sklearn.gaussian_process.kernels.ConstantKernel):\n",
    "    def __init__(self,\n",
    "                constant_value=1.0, constant_value_bounds=(1e-05, 100000.0),\n",
    "                a = -np.inf, a_bounds=(-np.inf, np.inf),\n",
    "                b = np.inf, b_bounds = (-np.inf, np.inf)                \n",
    "                ):"
   ]
  },
  {
   "cell_type": "code",
   "execution_count": 108,
   "metadata": {},
   "outputs": [],
   "source": [
    "dm = KernelDistance(sklearn.gaussian_process.kernels.RBF())"
   ]
  },
  {
   "cell_type": "code",
   "execution_count": 109,
   "metadata": {},
   "outputs": [
    {
     "data": {
      "text/plain": [
       "array([[ 1.31503971]])"
      ]
     },
     "execution_count": 109,
     "metadata": {},
     "output_type": "execute_result"
    }
   ],
   "source": [
    "dm.dist(np.array([[5]]),np.array([[7]]))"
   ]
  },
  {
   "cell_type": "code",
   "execution_count": 110,
   "metadata": {},
   "outputs": [],
   "source": [
    "x = np.array([[1,2],[3,4],[5,6]])"
   ]
  },
  {
   "cell_type": "code",
   "execution_count": 111,
   "metadata": {
    "scrolled": true
   },
   "outputs": [],
   "source": [
    "a = sklearn.neighbors.BallTree(x, metric = dm)"
   ]
  },
  {
   "cell_type": "code",
   "execution_count": 112,
   "metadata": {},
   "outputs": [
    {
     "data": {
      "text/plain": [
       "array([[ 0.        ,  1.4012026 ,  1.41421348],\n",
       "       [ 1.4012026 ,  0.        ,  1.4012026 ],\n",
       "       [ 1.41421348,  1.4012026 ,  0.        ]])"
      ]
     },
     "execution_count": 112,
     "metadata": {},
     "output_type": "execute_result"
    }
   ],
   "source": [
    "dm.pairwise(x)"
   ]
  },
  {
   "cell_type": "code",
   "execution_count": 113,
   "metadata": {},
   "outputs": [
    {
     "name": "stdout",
     "output_type": "stream",
     "text": [
      "querying!\n",
      "4\n",
      "6\n",
      "7\n",
      "(array([[ 0.66513039,  1.33761039]]), array([[0, 1]]))\n"
     ]
    },
    {
     "data": {
      "text/plain": [
       "(array([[ 0.81555526,  1.15655107]]), array([[0, 1]]))"
      ]
     },
     "execution_count": 113,
     "metadata": {},
     "output_type": "execute_result"
    }
   ],
   "source": [
    "a.query(np.array([[1.5,2.5]]), k=2)"
   ]
  },
  {
   "cell_type": "code",
   "execution_count": 114,
   "metadata": {},
   "outputs": [
    {
     "data": {
      "text/plain": [
       "array([[ 0.66513039,  1.33761039,  1.41421018]])"
      ]
     },
     "execution_count": 114,
     "metadata": {},
     "output_type": "execute_result"
    }
   ],
   "source": [
    "dm.dist(np.array([[1.5,2.5]]),x)"
   ]
  },
  {
   "cell_type": "code",
   "execution_count": 115,
   "metadata": {},
   "outputs": [
    {
     "data": {
      "text/plain": [
       "array([[ 0.66513039,  1.33761039],\n",
       "       [ 1.33761039,  0.66513039],\n",
       "       [ 1.41421018,  1.41284787]])"
      ]
     },
     "execution_count": 115,
     "metadata": {},
     "output_type": "execute_result"
    }
   ],
   "source": [
    "dm.dist(x,np.array([[1.5,2.5],[2.5,3.5]]))"
   ]
  },
  {
   "cell_type": "code",
   "execution_count": 116,
   "metadata": {},
   "outputs": [
    {
     "data": {
      "text/plain": [
       "array([[  1.00000000e+00,   1.83156389e-02,   1.12535175e-07],\n",
       "       [  1.83156389e-02,   1.00000000e+00,   1.83156389e-02],\n",
       "       [  1.12535175e-07,   1.83156389e-02,   1.00000000e+00]])"
      ]
     },
     "execution_count": 116,
     "metadata": {},
     "output_type": "execute_result"
    }
   ],
   "source": [
    "dm.kernel(x)"
   ]
  },
  {
   "cell_type": "code",
   "execution_count": 117,
   "metadata": {},
   "outputs": [
    {
     "data": {
      "text/plain": [
       "array([[ 1.77880078,  1.10539922],\n",
       "       [ 1.10539922,  1.77880078],\n",
       "       [ 1.00000479,  1.00193045]])"
      ]
     },
     "execution_count": 117,
     "metadata": {},
     "output_type": "execute_result"
    }
   ],
   "source": [
    "dm.kernel.diag(x).reshape((-1,1)) + dm.kernel(x,np.array([[1.5,2.5],[2.5,3.5]]))"
   ]
  },
  {
   "cell_type": "code",
   "execution_count": null,
   "metadata": {},
   "outputs": [],
   "source": []
  },
  {
   "cell_type": "code",
   "execution_count": null,
   "metadata": {},
   "outputs": [],
   "source": []
  }
 ],
 "metadata": {
  "kernelspec": {
   "display_name": "Python 3",
   "language": "python",
   "name": "python3"
  },
  "language_info": {
   "codemirror_mode": {
    "name": "ipython",
    "version": 3
   },
   "file_extension": ".py",
   "mimetype": "text/x-python",
   "name": "python",
   "nbconvert_exporter": "python",
   "pygments_lexer": "ipython3",
   "version": "3.5.2"
  }
 },
 "nbformat": 4,
 "nbformat_minor": 2
}
